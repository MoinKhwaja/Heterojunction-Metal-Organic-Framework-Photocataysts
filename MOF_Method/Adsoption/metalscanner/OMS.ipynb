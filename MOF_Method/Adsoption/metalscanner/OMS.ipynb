{
 "cells": [
  {
   "cell_type": "code",
   "execution_count": 1,
   "metadata": {},
   "outputs": [],
   "source": [
    "from omsdetector import MofCollection \n",
    "import warnings"
   ]
  },
  {
   "cell_type": "code",
   "execution_count": 18,
   "metadata": {},
   "outputs": [
    {
     "name": "stdout",
     "output_type": "stream",
     "text": [
      "Loading CIF files...\n",
      "100.0 %\n",
      "All Done.\n",
      "There are 16 MOFs in the collection.\n"
     ]
    }
   ],
   "source": [
    "a_mof_collection = MofCollection.from_folder(collection_folder=\"examples/cif_files_example/CHOOH_pass\", \n",
    "                                             analysis_folder=\"analysis_folder_example\")\n",
    "\n",
    "print(\"There are {} MOFs in the collection.\".format(len(a_mof_collection)))"
   ]
  },
  {
   "cell_type": "code",
   "execution_count": 19,
   "metadata": {},
   "outputs": [
    {
     "name": "stdout",
     "output_type": "stream",
     "text": [
      "--------------------------------------------------\n",
      "Running OMS Analysis...\n",
      "--------------------------------------------------\n",
      "1 batch requested. \n",
      "Overwrite is set to False. \n",
      "Storing results in analysis_folder_example/oms_results. \n",
      "--------------------------------------------------\n",
      "\n",
      "Validating property : \"load_balancing_index\"\n",
      "Validated 100 %                                                                                                          \n",
      "--------------------------------------------------\n",
      "Checking if results for any of the MOFs exist...\n",
      "Will not skip any MOFs\n",
      "--------------------------------------------------\n",
      "Batch 1 has 16 MOFs\n",
      "--------------------------------------------------\n",
      "1atch 1 6.25 % : Analysing qmof-3a9ad54                                                                                                    \n",
      "1\n",
      "1atch 1 12.50 % : Analysing qmof-912bab6                                                                                                    \n",
      "1\n",
      "1\n",
      "1atch 1 31.25 % : Analysing qmof-d192e8d                                                                                                    \n",
      "1\n",
      "1atch 1 43.75 % : Analysing qmof-beb185c                                                                                                    \n"
     ]
    },
    {
     "name": "stderr",
     "output_type": "stream",
     "text": [
      "/Users/moinkhwaja/anaconda3/lib/python3.11/site-packages/pymatgen/io/cif.py:1200: UserWarning: Issues encountered while parsing CIF: 1 fractional coordinates rounded to ideal values to avoid issues with finite precision.\n",
      "  warnings.warn(\"Issues encountered while parsing CIF: \" + \"\\n\".join(self.warnings))\n"
     ]
    },
    {
     "name": "stdout",
     "output_type": "stream",
     "text": [
      "1\n",
      "1atch 1 56.25 % : Analysing qmof-10b2259                                                                                                    \n",
      "1\n",
      "1atch 1 68.75 % : Analysing qmof-38471da                                                                                                    \n",
      "1\n",
      "1atch 1 81.25 % : Analysing qmof-8325046                                                                                                    \n",
      "1atch 1 87.50 % : Analysing qmof-fa2b07a                                                                                                    \n",
      "1\n",
      "Batch 1 Finished.                                                                                                                            \n",
      "Validating property : \"has_oms\"\n",
      "Validated 100 %                                                                                                          \n",
      "\n",
      "Analysis Finished. Time required:7.28 sec\n",
      "--------------------------------------------------\n"
     ]
    }
   ],
   "source": [
    "a_mof_collection.analyse_mofs()"
   ]
  },
  {
   "cell_type": "code",
   "execution_count": 20,
   "metadata": {},
   "outputs": [
    {
     "name": "stdout",
     "output_type": "stream",
     "text": [
      "\n",
      "Validating property : \"has_oms\"\n",
      "Validated 100 %                                                                                                          \n",
      "--------------------------------------------------\n",
      "Number of total MOFs: 16\n",
      "Number of total MOFs with open metal sites: 7\n",
      "Number of total unique sites: 32\n",
      "Number of total unique open metal sites: 13\n",
      "--------------------------------------------------\n",
      "Summary Table\n",
      "\n",
      "       MOFs  MOFs_with_OMS  Metal Sites  OMS MOFs_with_OMS(%)  OMS (%)\n",
      "metal                                                                 \n",
      "Al        9              6           22   10          66.67 %  45.45 %\n",
      "Zn        3              1            6    3          33.33 %  50.00 %\n",
      "Zr        2              0            2    0           0.00 %   0.00 %\n",
      "Cd        1              0            1    0           0.00 %   0.00 %\n",
      "Hf        1              0            1    0           0.00 %   0.00 %\n"
     ]
    }
   ],
   "source": [
    "a_mof_collection.summarize_results()"
   ]
  },
  {
   "cell_type": "code",
   "execution_count": 21,
   "metadata": {},
   "outputs": [
    {
     "name": "stdout",
     "output_type": "stream",
     "text": [
      "\n",
      "Validating property : \"has_oms\"\n",
      "Validated 100 %                                                                                                          \n",
      "             Metal Types Has OMS OMS Types\n",
      "qmof-912bab6          Al      No       N/A\n",
      "qmof-3a9ad54          Al      No       N/A\n",
      "qmof-fa2b07a          Hf      No       N/A\n",
      "qmof-d192e8d          Zn      No       N/A\n",
      "qmof-38471da          Al     Yes        Al\n",
      "qmof-077f6af          Al     Yes        Al\n",
      "qmof-bd9ffd3          Al      No       N/A\n",
      "qmof-60626cd          Zn      No       N/A\n",
      "qmof-f62972b          Zr      No       N/A\n",
      "qmof-0bbe221          Zr      No       N/A\n",
      "qmof-beb185c          Al     Yes        Al\n",
      "qmof-8325046          Al     Yes        Al\n",
      "qmof-3b48e5d          Cd      No       N/A\n",
      "qmof-c3298fb          Al     Yes        Al\n",
      "qmof-10b2259          Al     Yes        Al\n",
      "qmof-c3ad823          Zn     Yes        Zn\n"
     ]
    }
   ],
   "source": [
    "mofs_df = a_mof_collection.mof_oms_df\n",
    "print(mofs_df)\n"
   ]
  }
 ],
 "metadata": {
  "kernelspec": {
   "display_name": "base",
   "language": "python",
   "name": "python3"
  },
  "language_info": {
   "codemirror_mode": {
    "name": "ipython",
    "version": 3
   },
   "file_extension": ".py",
   "mimetype": "text/x-python",
   "name": "python",
   "nbconvert_exporter": "python",
   "pygments_lexer": "ipython3",
   "version": "3.11.5"
  }
 },
 "nbformat": 4,
 "nbformat_minor": 2
}
