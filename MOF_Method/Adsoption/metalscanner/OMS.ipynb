{
 "cells": [
  {
   "cell_type": "code",
   "execution_count": null,
   "metadata": {},
   "outputs": [],
   "source": [
    "from omsdetector import MofCollection \n",
    "import warnings"
   ]
  },
  {
   "cell_type": "code",
   "execution_count": null,
   "metadata": {},
   "outputs": [],
   "source": [
    "a_mof_collection = MofCollection.from_folder(collection_folder=\"examples/cif_files_example\", \n",
    "                                             analysis_folder=\"analysis_folder_example\")\n",
    "\n",
    "print(\"There are {} MOFs in the collection.\".format(len(a_mof_collection)))"
   ]
  },
  {
   "cell_type": "code",
   "execution_count": null,
   "metadata": {},
   "outputs": [],
   "source": [
    "a_mof_collection.analyse_mofs()"
   ]
  },
  {
   "cell_type": "code",
   "execution_count": null,
   "metadata": {},
   "outputs": [],
   "source": [
    "a_mof_collection.summarize_results()"
   ]
  },
  {
   "cell_type": "code",
   "execution_count": null,
   "metadata": {},
   "outputs": [],
   "source": [
    "mofs_df = a_mof_collection.mof_oms_df\n",
    "print(mofs_df)"
   ]
  }
 ],
 "metadata": {
  "language_info": {
   "name": "python"
  }
 },
 "nbformat": 4,
 "nbformat_minor": 2
}
