{
 "cells": [
  {
   "cell_type": "code",
   "execution_count": 2,
   "metadata": {},
   "outputs": [],
   "source": [
    "import pandas as pd\n",
    "\n",
    "# Step 2: Read the CSV file\n",
    "df = pd.read_csv('bandgap_filtered_file.csv')\n",
    "\n",
    "# Step 3: Add 0.45 to every value in the specified column\n",
    "df['outputs.pbe.cbm'] = df['outputs.pbe.cbm'] + 0.425\n",
    "df['outputs.pbe.vbm'] = df['outputs.pbe.vbm'] - 0.425\n",
    "\n",
    "# Step 4: Write the updated DataFrame to a new CSV file\n",
    "df.to_csv('updated_cmb_vbm.csv', index=False)"
   ]
  }
 ],
 "metadata": {
  "kernelspec": {
   "display_name": "base",
   "language": "python",
   "name": "python3"
  },
  "language_info": {
   "codemirror_mode": {
    "name": "ipython",
    "version": 3
   },
   "file_extension": ".py",
   "mimetype": "text/x-python",
   "name": "python",
   "nbconvert_exporter": "python",
   "pygments_lexer": "ipython3",
   "version": "3.11.5"
  }
 },
 "nbformat": 4,
 "nbformat_minor": 2
}
