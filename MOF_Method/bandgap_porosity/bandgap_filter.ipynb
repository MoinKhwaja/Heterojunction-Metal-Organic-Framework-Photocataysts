{
 "cells": [
  {
   "cell_type": "code",
   "execution_count": 2,
   "metadata": {},
   "outputs": [],
   "source": [
    "import csv\n",
    "\n",
    "\n",
    "\n",
    "\n",
    "with open('updated_cmb_vbm.csv', 'r') as input_file:\n",
    "\n",
    "    csv_reader = csv.DictReader(input_file)\n",
    "    \n",
    "\n",
    "    with open('CO_MOF.csv', 'w', newline='') as output_file:\n",
    "\n",
    "        csv_writer = csv.DictWriter(output_file, fieldnames=csv_reader.fieldnames)\n",
    "        \n",
    "   \n",
    "        csv_writer.writeheader()\n",
    "        \n",
    "    \n",
    "        for row in csv_reader:\n",
    "     \n",
    "            if float(row['outputs.pbe.cbm']) > 0.12:\n",
    "       \n",
    "                csv_writer.writerow(row)"
   ]
  },
  {
   "cell_type": "code",
   "execution_count": 3,
   "metadata": {},
   "outputs": [],
   "source": [
    "# Open the input CSV file\n",
    "with open('updated_cmb_vbm.csv', 'r') as input_file:\n",
    "    # Create a DictReader object to read the input CSV\n",
    "    csv_reader = csv.DictReader(input_file)\n",
    "    \n",
    "    # Open the output CSV file\n",
    "    with open('CHOOH_MOF.csv', 'w', newline='') as output_file:\n",
    "        # Create a DictWriter object to write to the output CSV\n",
    "        # Use the fieldnames from the reader to ensure consistent column order\n",
    "        csv_writer = csv.DictWriter(output_file, fieldnames=csv_reader.fieldnames)\n",
    "        \n",
    "        # Write the header to the output CSV\n",
    "        csv_writer.writeheader()\n",
    "        \n",
    "        # Iterate through the rows of the input CSV\n",
    "        for row in csv_reader:\n",
    "            # Check if the value in the 'info.pld' column is greater than 4.5\n",
    "            if 0 <= float(row['outputs.pbe.cbm']) <= 0.12:\n",
    "                # Write the filtered row to the output CSV\n",
    "                csv_writer.writerow(row)"
   ]
  },
  {
   "cell_type": "code",
   "execution_count": 4,
   "metadata": {},
   "outputs": [],
   "source": [
    "# Open the input CSV file\n",
    "with open('updated_cmb_vbm.csv', 'r') as input_file:\n",
    "    # Create a DictReader object to read the input CSV\n",
    "    csv_reader = csv.DictReader(input_file)\n",
    "    \n",
    "    # Open the output CSV file\n",
    "    with open('CH4_MOF.csv', 'w', newline='') as output_file:\n",
    "        # Create a DictWriter object to write to the output CSV\n",
    "        # Use the fieldnames from the reader to ensure consistent column order\n",
    "        csv_writer = csv.DictWriter(output_file, fieldnames=csv_reader.fieldnames)\n",
    "        \n",
    "        # Write the header to the output CSV\n",
    "        csv_writer.writeheader()\n",
    "        \n",
    "        # Iterate through the rows of the input CSV\n",
    "        for row in csv_reader:\n",
    "            # Check if the value in the 'info.pld' column is greater than 4.5\n",
    "            if -0.17 <= float(row['outputs.pbe.cbm']) <= 0:\n",
    "                # Write the filtered row to the output CSV\n",
    "                csv_writer.writerow(row)"
   ]
  }
 ],
 "metadata": {
  "kernelspec": {
   "display_name": "base",
   "language": "python",
   "name": "python3"
  },
  "language_info": {
   "codemirror_mode": {
    "name": "ipython",
    "version": 3
   },
   "file_extension": ".py",
   "mimetype": "text/x-python",
   "name": "python",
   "nbconvert_exporter": "python",
   "pygments_lexer": "ipython3",
   "version": "3.11.5"
  }
 },
 "nbformat": 4,
 "nbformat_minor": 2
}
