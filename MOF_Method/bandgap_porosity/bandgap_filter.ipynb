{
 "cells": [
  {
   "cell_type": "code",
   "execution_count": 2,
   "metadata": {},
   "outputs": [],
   "source": [
    "import csv\n",
    "\n",
    "\n",
    "\n",
    "\n",
    "with open('updated_cmb_vbm.csv', 'r') as input_file:\n",
    "\n",
    "    csv_reader = csv.DictReader(input_file)\n",
    "    \n",
    "\n",
    "    with open('CO_MOF.csv', 'w', newline='') as output_file:\n",
    "\n",
    "        csv_writer = csv.DictWriter(output_file, fieldnames=csv_reader.fieldnames)\n",
    "        \n",
    "   \n",
    "        csv_writer.writeheader()\n",
    "        \n",
    "    \n",
    "        for row in csv_reader:\n",
    "     \n",
    "            if float(row['outputs.pbe.cbm']) > 0.12:\n",
    "       \n",
    "                csv_writer.writerow(row)"
   ]
  },
  {
   "cell_type": "code",
   "execution_count": 3,
   "metadata": {},
   "outputs": [],
   "source": [
    "\n",
    "with open('updated_cmb_vbm.csv', 'r') as input_file:\n",
    "  \n",
    "    csv_reader = csv.DictReader(input_file)\n",
    "    \n",
    "  \n",
    "    with open('CHOOH_MOF.csv', 'w', newline='') as output_file:\n",
    "       \n",
    "        csv_writer = csv.DictWriter(output_file, fieldnames=csv_reader.fieldnames)\n",
    "        \n",
    "       \n",
    "        csv_writer.writeheader()\n",
    "        \n",
    "\n",
    "        for row in csv_reader:\n",
    "          \n",
    "            if 0 <= float(row['outputs.pbe.cbm']) <= 0.12:\n",
    "               \n",
    "                csv_writer.writerow(row)"
   ]
  },
  {
   "cell_type": "code",
   "execution_count": 4,
   "metadata": {},
   "outputs": [],
   "source": [
    "\n",
    "with open('updated_cmb_vbm.csv', 'r') as input_file:\n",
    "   \n",
    "    csv_reader = csv.DictReader(input_file)\n",
    "    \n",
    "   \n",
    "    with open('CH4_MOF.csv', 'w', newline='') as output_file:\n",
    "      \n",
    "       \n",
    "        csv_writer = csv.DictWriter(output_file, fieldnames=csv_reader.fieldnames)\n",
    "        \n",
    "  \n",
    "        csv_writer.writeheader()\n",
    "        \n",
    "      \n",
    "        for row in csv_reader:\n",
    "           \n",
    "            if -0.17 <= float(row['outputs.pbe.cbm']) <= 0:\n",
    "       \n",
    "                csv_writer.writerow(row)"
   ]
  }
 ],
 "metadata": {
  "kernelspec": {
   "display_name": "base",
   "language": "python",
   "name": "python3"
  },
  "language_info": {
   "codemirror_mode": {
    "name": "ipython",
    "version": 3
   },
   "file_extension": ".py",
   "mimetype": "text/x-python",
   "name": "python",
   "nbconvert_exporter": "python",
   "pygments_lexer": "ipython3",
   "version": "3.11.5"
  }
 },
 "nbformat": 4,
 "nbformat_minor": 2
}
