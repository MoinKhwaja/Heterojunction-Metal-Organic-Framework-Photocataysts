{
 "cells": [
  {
   "cell_type": "code",
   "execution_count": null,
   "metadata": {},
   "outputs": [],
   "source": [
    "import csv\n",
    "import pandas as pd\n",
    "\n",
    "df = pd.read_csv('bandgap_filtered_file.csv')\n",
    "df['outputs.pbe.cbm'] = df['outputs.pbe.cbm'] + 0.425\n",
    "df['outputs.pbe.vbm'] = df['outputs.pbe.vbm'] - 0.425\n",
    "df.to_csv('updated_cmb_vbm.csv', index=False)\n",
    "\n",
    "with open('updated_cmb_vbm.csv', 'r') as input_file:\n",
    "    csv_reader = csv.DictReader(input_file)\n",
    "\n",
    "    with open('CO_MOF.csv', 'w', newline='') as output_file:\n",
    "        csv_writer = csv.DictWriter(output_file, fieldnames=csv_reader.fieldnames)\n",
    "        csv_writer.writeheader()\n",
    "        \n",
    "        for row in csv_reader:\n",
    "            if float(row['outputs.pbe.cbm']) > 0.12:\n",
    "                csv_writer.writerow(row)\n",
    "\n",
    "        for row in csv_reader:\n",
    "            if 0 <= float(row['outputs.pbe.cbm']) <= 0.12:\n",
    "                csv_writer.writerow(row)\n",
    "\n",
    "        for row in csv_reader:\n",
    "            if -0.17 <= float(row['outputs.pbe.cbm']) <= 0:\n",
    "                csv_writer.writerow(row)\n"
   ]
  }
 ],
 "metadata": {
  "kernelspec": {
   "display_name": "base",
   "language": "python",
   "name": "python3"
  },
  "language_info": {
   "codemirror_mode": {
    "name": "ipython",
    "version": 3
   },
   "file_extension": ".py",
   "mimetype": "text/x-python",
   "name": "python",
   "nbconvert_exporter": "python",
   "pygments_lexer": "ipython3",
   "version": "3.11.5"
  }
 },
 "nbformat": 4,
 "nbformat_minor": 2
}
