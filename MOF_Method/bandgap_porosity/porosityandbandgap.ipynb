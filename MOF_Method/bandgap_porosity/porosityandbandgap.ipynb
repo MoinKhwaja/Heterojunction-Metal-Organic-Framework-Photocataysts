{
 "cells": [
  {
   "cell_type": "code",
   "execution_count": 3,
   "metadata": {},
   "outputs": [],
   "source": [
    "import csv\n",
    "\n",
    "# Open the input CSV file\n",
    "with open('qmof_database/qmof.csv', 'r') as input_file:\n",
    "    # Create a DictReader object to read the input CSV\n",
    "    csv_reader = csv.DictReader(input_file)\n",
    "    \n",
    "    # Open the output CSV file\n",
    "    with open('filtered_file.csv', 'w', newline='') as output_file:\n",
    "        # Create a DictWriter object to write to the output CSV\n",
    "        # Use the fieldnames from the reader to ensure consistent column order\n",
    "        csv_writer = csv.DictWriter(output_file, fieldnames=csv_reader.fieldnames)\n",
    "        \n",
    "        # Write the header to the output CSV\n",
    "        csv_writer.writeheader()\n",
    "        \n",
    "        # Iterate through the rows of the input CSV\n",
    "        for row in csv_reader:\n",
    "            # Check if the value in the 'info.pld' column is greater than 4.5\n",
    "            if float(row['info.pld']) > 4.5:\n",
    "                # Write the filtered row to the output CSV\n",
    "                csv_writer.writerow(row)\n"
   ]
  },
  {
   "cell_type": "code",
   "execution_count": 4,
   "metadata": {},
   "outputs": [],
   "source": [
    "# Open the input CSV file\n",
    "with open('filtered_file.csv', 'r') as input_file:\n",
    "    # Create a DictReader object to read the input CSV\n",
    "    csv_reader = csv.DictReader(input_file)\n",
    "    \n",
    "    # Open the output CSV file\n",
    "    with open('bandgap_filtered_file.csv', 'w', newline='') as output_file:\n",
    "        # Create a DictWriter object to write to the output CSV\n",
    "        # Use the fieldnames from the reader to ensure consistent column order\n",
    "        csv_writer = csv.DictWriter(output_file, fieldnames=csv_reader.fieldnames)\n",
    "        \n",
    "        # Write the header to the output CSV\n",
    "        csv_writer.writeheader()\n",
    "        \n",
    "        # Iterate through the rows of the input CSV\n",
    "        for row in csv_reader:\n",
    "            # Check if the value in the 'outputs.pbe.bandgap' column is between 0.85 and 2.15\n",
    "            bandgap = float(row['outputs.pbe.bandgap'])\n",
    "            if 0.85 <= bandgap <= 2.15:\n",
    "                # Write the filtered row to the output CSV\n",
    "                csv_writer.writerow(row)\n",
    "\n",
    "            \n"
   ]
  }
 ],
 "metadata": {
  "kernelspec": {
   "display_name": "base",
   "language": "python",
   "name": "python3"
  },
  "language_info": {
   "codemirror_mode": {
    "name": "ipython",
    "version": 3
   },
   "file_extension": ".py",
   "mimetype": "text/x-python",
   "name": "python",
   "nbconvert_exporter": "python",
   "pygments_lexer": "ipython3",
   "version": "3.11.5"
  }
 },
 "nbformat": 4,
 "nbformat_minor": 2
}
