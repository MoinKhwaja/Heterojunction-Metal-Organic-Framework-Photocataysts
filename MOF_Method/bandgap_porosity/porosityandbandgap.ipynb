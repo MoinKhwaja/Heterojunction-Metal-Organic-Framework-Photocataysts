{
 "cells": [
  {
   "cell_type": "code",
   "execution_count": 3,
   "metadata": {},
   "outputs": [],
   "source": [
    "import csv\n",
    "\n",
    "with open('qmof_database/qmof.csv', 'r') as input_file:\n",
    "\n",
    "    csv_reader = csv.DictReader(input_file)\n",
    "    \n",
    "    with open('filtered_file.csv', 'w', newline='') as output_file:\n",
    "        csv_writer = csv.DictWriter(output_file, fieldnames=csv_reader.fieldnames)\n",
    "        csv_writer.writeheader()\n",
    "        for row in csv_reader:\n",
    "            if float(row['info.pld']) > 4.5:\n",
    "                csv_writer.writerow(row)\n",
    "\n",
    "\n",
    "with open('filtered_file.csv', 'r') as input_file:\n",
    "\n",
    "    csv_reader = csv.DictReader(input_file)\n",
    "    \n",
    "    with open('bandgap_filtered_file.csv', 'w', newline='') as output_file:\n",
    "        csv_writer = csv.DictWriter(output_file, fieldnames=csv_reader.fieldnames)\n",
    "        csv_writer.writeheader()\n",
    "        for row in csv_reader:\n",
    "            bandgap = float(row['outputs.pbe.bandgap'])\n",
    "            if 0.85 <= bandgap <= 2.15:\n",
    "                csv_writer.writerow(row)"
   ]
  }
 ],
 "metadata": {
  "kernelspec": {
   "display_name": "base",
   "language": "python",
   "name": "python3"
  },
  "language_info": {
   "codemirror_mode": {
    "name": "ipython",
    "version": 3
   },
   "file_extension": ".py",
   "mimetype": "text/x-python",
   "name": "python",
   "nbconvert_exporter": "python",
   "pygments_lexer": "ipython3",
   "version": "3.11.5"
  }
 },
 "nbformat": 4,
 "nbformat_minor": 2
}
