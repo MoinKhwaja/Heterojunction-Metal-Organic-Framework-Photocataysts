{
 "cells": [
  {
   "cell_type": "code",
   "execution_count": null,
   "metadata": {},
   "outputs": [],
   "source": [
    "from mp_api.client import MPRester\n",
    "from pymatgen.analysis.pourbaix_diagram import PourbaixDiagram, PourbaixPlotter, PourbaixEntry\n",
    "\n",
    "from api_key import APIKEY\n",
    "\n",
    "API_KEY = APIKEY"
   ]
  },
  {
   "cell_type": "code",
   "execution_count": null,
   "metadata": {},
   "outputs": [],
   "source": [
    "CH4 = ['mp-680722'\t, 'mp-31107'\t, 'mp-1095378',\t 'mp-23569'\t, 'mp-30003',\t 'mp-29794',\t 'mp-1190864'\t, 'mp-23084'\t, 'mp-15511'\t, 'mp-7128',\t 'mp-28855'\t ,'mp-561561'\t, 'mp-1079364'\t, 'mp-558122',\t 'mp-542115'\t, 'mp-31232'\t, 'mp-755116'\t, 'mp-1091363'\t, 'mp-558910'\t, 'mp-14037'\t, 'mp-29698',\t 'mp-29274'\t, 'mp-1095283'\t, 'mp-20805'\t, 'mp-1113861'\t, 'mp-16834',\t 'mp-778924',\t 'mp-556120', 'mp-20727'\t, 'mp-14368'\t, 'mp-1819',\t 'mp-22467'\t, 'mp-753747'\t, 'mp-15750',\t 'mp-554435'\t, 'mp-1105700'\t, 'mp-1217378',\t 'mp-680219'\t, 'mp-17637',\t 'mp-555259'\t, 'mp-758233'\t, 'mp-759342'\t, 'mp-23446'\t, 'mp-779156'\t, 'mp-17677',\t 'mp-685353',\t 'mp-781788'\t, 'mp-230'\t, 'mp-31069'\t, 'mp-1111368'\t, 'mp-759307'\t, 'mp-624234']\n",
    "CHOOH = ['mp-20015'\t, 'mp-14367',\t 'mp-7094'\t, 'mp-541114'\t, 'mp-28299'\t, 'mp-562338'\t, 'mp-760188'\t, 'mp-554944'\t, 'mp-10798']\n",
    "CO = ['mp-3414'\t, 'mp-542001'\t, 'mp-29193'\t, 'mp-28845'\t, 'mp-561423',\t 'mp-14276'\t, 'mp-29590',\t 'mp-556442'\t, 'mp-27980',\t 'mp-768936']"
   ]
  }
 ],
 "metadata": {
  "language_info": {
   "name": "python"
  }
 },
 "nbformat": 4,
 "nbformat_minor": 2
}
