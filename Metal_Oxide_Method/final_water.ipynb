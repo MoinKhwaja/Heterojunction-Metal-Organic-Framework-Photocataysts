{
 "cells": [
  {
   "cell_type": "code",
   "execution_count": 13,
   "metadata": {},
   "outputs": [],
   "source": [
    "from mp_api.client import MPRester\n",
    "from pymatgen.analysis.pourbaix_diagram import PourbaixDiagram, PourbaixPlotter, PourbaixEntry\n",
    "\n",
    "from api_key import APIKEY\n",
    "\n",
    "API_KEY = APIKEY"
   ]
  },
  {
   "cell_type": "code",
   "execution_count": 14,
   "metadata": {},
   "outputs": [],
   "source": [
    "CO = ['mp-3414', 'mp-542001', 'mp-28845', 'mp-561423', 'mp-14276', 'mp-29590', 'mp-556442', 'mp-27980']\n",
    "CH4 = ['mp-680722', 'mp-31107', 'mp-1095378', 'mp-23569', 'mp-30003', 'mp-1190864', 'mp-23084', 'mp-15511', 'mp-7128', 'mp-28855', 'mp-561561', 'mp-1079364', 'mp-542115', 'mp-31232', 'mp-755116', 'mp-1091363', 'mp-558910', 'mp-14037', 'mp-29698', 'mp-1095283', 'mp-20805', 'mp-1113861', 'mp-16834', 'mp-778924', 'mp-556120', 'mp-20727', 'mp-14368', 'mp-1819', 'mp-22467', 'mp-753747', 'mp-15750', 'mp-554435', 'mp-1105700', 'mp-1217378', 'mp-680219', 'mp-17637', 'mp-759342', 'mp-23446', 'mp-779156', 'mp-17677', 'mp-685353', 'mp-230', 'mp-31069', 'mp-1111368', 'mp-759307', 'mp-624234', 'mp-10798', 'mp-760188', 'mp-7094']\n",
    "CHOOH = ['mp-20015', 'mp-14367', 'mp-541114', 'mp-28299', 'mp-562338', 'mp-554944', 'mp-768936', 'mp-29193']\n"
   ]
  },
  {
   "cell_type": "code",
   "execution_count": 15,
   "metadata": {},
   "outputs": [
    {
     "data": {
      "application/vnd.jupyter.widget-view+json": {
       "model_id": "9f4d480be36a4d039899c8ba527930fd",
       "version_major": 2,
       "version_minor": 0
      },
      "text/plain": [
       "Retrieving MaterialsDoc documents:   0%|          | 0/1 [00:00<?, ?it/s]"
      ]
     },
     "metadata": {},
     "output_type": "display_data"
    },
    {
     "data": {
      "application/vnd.jupyter.widget-view+json": {
       "model_id": "2b356a6eb0694997af070a7ee8c07a21",
       "version_major": 2,
       "version_minor": 0
      },
      "text/plain": [
       "Retrieving MaterialsDoc documents:   0%|          | 0/1 [00:00<?, ?it/s]"
      ]
     },
     "metadata": {},
     "output_type": "display_data"
    },
    {
     "data": {
      "application/vnd.jupyter.widget-view+json": {
       "model_id": "4518e21ae5004d12bb581997ce9141e1",
       "version_major": 2,
       "version_minor": 0
      },
      "text/plain": [
       "Retrieving MaterialsDoc documents:   0%|          | 0/1 [00:00<?, ?it/s]"
      ]
     },
     "metadata": {},
     "output_type": "display_data"
    },
    {
     "data": {
      "application/vnd.jupyter.widget-view+json": {
       "model_id": "c62caaf0087a4fa786ab3a074a11445a",
       "version_major": 2,
       "version_minor": 0
      },
      "text/plain": [
       "Retrieving MaterialsDoc documents:   0%|          | 0/1 [00:00<?, ?it/s]"
      ]
     },
     "metadata": {},
     "output_type": "display_data"
    },
    {
     "data": {
      "application/vnd.jupyter.widget-view+json": {
       "model_id": "187ac95b363d4068b6e5c779986ccf9a",
       "version_major": 2,
       "version_minor": 0
      },
      "text/plain": [
       "Retrieving MaterialsDoc documents:   0%|          | 0/1 [00:00<?, ?it/s]"
      ]
     },
     "metadata": {},
     "output_type": "display_data"
    },
    {
     "data": {
      "application/vnd.jupyter.widget-view+json": {
       "model_id": "e0c754a51127427fb3ed99a81e1c62b9",
       "version_major": 2,
       "version_minor": 0
      },
      "text/plain": [
       "Retrieving MaterialsDoc documents:   0%|          | 0/1 [00:00<?, ?it/s]"
      ]
     },
     "metadata": {},
     "output_type": "display_data"
    },
    {
     "data": {
      "application/vnd.jupyter.widget-view+json": {
       "model_id": "4a32ded52a2e49f7b9cb0ed83041ce7f",
       "version_major": 2,
       "version_minor": 0
      },
      "text/plain": [
       "Retrieving MaterialsDoc documents:   0%|          | 0/1 [00:00<?, ?it/s]"
      ]
     },
     "metadata": {},
     "output_type": "display_data"
    },
    {
     "data": {
      "application/vnd.jupyter.widget-view+json": {
       "model_id": "5ba7b1392c9f4d2c819e677c677ffffe",
       "version_major": 2,
       "version_minor": 0
      },
      "text/plain": [
       "Retrieving MaterialsDoc documents:   0%|          | 0/1 [00:00<?, ?it/s]"
      ]
     },
     "metadata": {},
     "output_type": "display_data"
    }
   ],
   "source": [
    "mp_entries = []\n",
    "\n",
    "with MPRester(API_KEY) as mpr:\n",
    "    for mp_id in CO:\n",
    "        material_entries = mpr.materials.search(material_ids=[mp_id])\n",
    "\n",
    "        if material_entries:\n",
    "            mp_entries.append(material_entries[0])\n",
    "\n",
    "chemsys_list = [entry.chemsys for entry in mp_entries if hasattr(entry, 'chemsys')]\n",
    "composition_list = [entry.composition_reduced for entry in mp_entries if hasattr(entry, 'composition_reduced')]\n",
    "materials_gga = [material + \"-GGA\" for material in CO]\n",
    "materials_id = CO\n"
   ]
  },
  {
   "cell_type": "code",
   "execution_count": 16,
   "metadata": {},
   "outputs": [],
   "source": [
    "from pymatgen.core.composition import Composition\n",
    "\n",
    "def remove_o_and_h(composition):\n",
    "    new_composition_elements = []\n",
    "    for element, count in composition.get_el_amt_dict().items():\n",
    "        if element not in ['O', 'H']:\n",
    "            new_composition_elements.append(f\"{element}{int(count)}\")\n",
    "    new_composition_str = ' '.join(new_composition_elements)\n",
    "    return Composition(new_composition_str)\n",
    "\n",
    "filtered_molecules = [remove_o_and_h(molecule) for molecule in composition_list]"
   ]
  },
  {
   "cell_type": "code",
   "execution_count": 17,
   "metadata": {},
   "outputs": [],
   "source": [
    "from pymatgen.core.composition import Composition\n",
    "\n",
    "def calculate_percent_composition(molecule):\n",
    "    total_atoms = sum(molecule.values())\n",
    "    return {element.symbol: count / total_atoms for element, count in molecule.items()}\n",
    "\n",
    "percent_compositions = [calculate_percent_composition(molecule) for molecule in filtered_molecules]"
   ]
  },
  {
   "cell_type": "code",
   "execution_count": 18,
   "metadata": {},
   "outputs": [
    {
     "data": {
      "application/vnd.jupyter.widget-view+json": {
       "model_id": "3b36fa741b9d4441857c1e6ba5be7ff4",
       "version_major": 2,
       "version_minor": 0
      },
      "text/plain": [
       "Retrieving ThermoDoc documents:   0%|          | 0/385 [00:00<?, ?it/s]"
      ]
     },
     "metadata": {},
     "output_type": "display_data"
    },
    {
     "name": "stdout",
     "output_type": "stream",
     "text": [
      "Percent complete: 12.50%\n"
     ]
    },
    {
     "data": {
      "application/vnd.jupyter.widget-view+json": {
       "model_id": "0e975e810c8040aaa166b814237efe08",
       "version_major": 2,
       "version_minor": 0
      },
      "text/plain": [
       "Retrieving ThermoDoc documents:   0%|          | 0/193 [00:00<?, ?it/s]"
      ]
     },
     "metadata": {},
     "output_type": "display_data"
    },
    {
     "name": "stdout",
     "output_type": "stream",
     "text": [
      "Percent complete: 25.00%\n"
     ]
    },
    {
     "data": {
      "application/vnd.jupyter.widget-view+json": {
       "model_id": "bbc23d9099c340f18f3d6f16d4b8fad3",
       "version_major": 2,
       "version_minor": 0
      },
      "text/plain": [
       "Retrieving ThermoDoc documents:   0%|          | 0/184 [00:00<?, ?it/s]"
      ]
     },
     "metadata": {},
     "output_type": "display_data"
    },
    {
     "name": "stdout",
     "output_type": "stream",
     "text": [
      "Percent complete: 37.50%\n"
     ]
    },
    {
     "data": {
      "application/vnd.jupyter.widget-view+json": {
       "model_id": "37f3ed958feb404e86604671f4fd1d89",
       "version_major": 2,
       "version_minor": 0
      },
      "text/plain": [
       "Retrieving ThermoDoc documents:   0%|          | 0/323 [00:00<?, ?it/s]"
      ]
     },
     "metadata": {},
     "output_type": "display_data"
    },
    {
     "name": "stdout",
     "output_type": "stream",
     "text": [
      "Percent complete: 50.00%\n"
     ]
    },
    {
     "data": {
      "application/vnd.jupyter.widget-view+json": {
       "model_id": "e3da6b0200c94dc0bc1259e80f258ab9",
       "version_major": 2,
       "version_minor": 0
      },
      "text/plain": [
       "Retrieving ThermoDoc documents:   0%|          | 0/234 [00:00<?, ?it/s]"
      ]
     },
     "metadata": {},
     "output_type": "display_data"
    },
    {
     "name": "stdout",
     "output_type": "stream",
     "text": [
      "Percent complete: 62.50%\n"
     ]
    },
    {
     "data": {
      "application/vnd.jupyter.widget-view+json": {
       "model_id": "465f61ade1ca4913ab898ffbb2e5d5ff",
       "version_major": 2,
       "version_minor": 0
      },
      "text/plain": [
       "Retrieving ThermoDoc documents:   0%|          | 0/265 [00:00<?, ?it/s]"
      ]
     },
     "metadata": {},
     "output_type": "display_data"
    },
    {
     "name": "stdout",
     "output_type": "stream",
     "text": [
      "Percent complete: 75.00%\n"
     ]
    },
    {
     "data": {
      "application/vnd.jupyter.widget-view+json": {
       "model_id": "31739f5445784e87a05986a958a5c92a",
       "version_major": 2,
       "version_minor": 0
      },
      "text/plain": [
       "Retrieving ThermoDoc documents:   0%|          | 0/163 [00:00<?, ?it/s]"
      ]
     },
     "metadata": {},
     "output_type": "display_data"
    },
    {
     "name": "stdout",
     "output_type": "stream",
     "text": [
      "Percent complete: 87.50%\n"
     ]
    },
    {
     "data": {
      "application/vnd.jupyter.widget-view+json": {
       "model_id": "205aeb3a3b39420abef4a5ed4d8290a6",
       "version_major": 2,
       "version_minor": 0
      },
      "text/plain": [
       "Retrieving ThermoDoc documents:   0%|          | 0/260 [00:00<?, ?it/s]"
      ]
     },
     "metadata": {},
     "output_type": "display_data"
    },
    {
     "name": "stdout",
     "output_type": "stream",
     "text": [
      "Percent complete: 100.00%\n"
     ]
    }
   ],
   "source": [
    "pbx_data = []\n",
    "pbx_entries = []\n",
    "\n",
    "total_iterations = len(chemsys_list)  \n",
    "\n",
    "with MPRester(API_KEY) as mpr:\n",
    "    for index, (i, x) in enumerate(zip(chemsys_list, percent_compositions)):\n",
    "        try:\n",
    "            pourbaix_entries = mpr.get_pourbaix_entries(i)\n",
    "            pbx_entries.append(pourbaix_entries)\n",
    "            pbx_diagram = PourbaixDiagram(entries=pourbaix_entries, comp_dict=x)\n",
    "            pbx_data.append(pbx_diagram)\n",
    "        except Exception as e:\n",
    "            pbx_data.append('error')\n",
    "        \n",
    "        percent_complete = ((index + 1) / total_iterations) * 100\n",
    "        print(f'Percent complete: {percent_complete:.2f}%')"
   ]
  },
  {
   "cell_type": "code",
   "execution_count": 19,
   "metadata": {},
   "outputs": [],
   "source": [
    "matched_entries = []\n",
    "\n",
    "for mat_id, entries in zip(materials_gga, pbx_entries):\n",
    "    matched_entry = next((entry for entry in entries if entry.entry_id == mat_id), None)\n",
    "    \n",
    "    if matched_entry:\n",
    "        matched_entries.append(matched_entry)\n",
    "    else:\n",
    "        matched_entries.append(None)"
   ]
  },
  {
   "cell_type": "code",
   "execution_count": 27,
   "metadata": {},
   "outputs": [
    {
     "name": "stdout",
     "output_type": "stream",
     "text": [
      "Material: PourbaixEntry(Ag4 Sb4 F24 with energy = -68.0689, npH = 0, nPhi = 0, nH2O = 0, entry_id = 'mp-3414-GGA'), Stability Percentage: 70.00%\n",
      "Material: PourbaixEntry(Ce6 F24 with energy = -114.2972, npH = 0, nPhi = 0, nH2O = 0, entry_id = 'mp-542001-GGA'), Stability Percentage: 100.00%\n",
      "Material: PourbaixEntry(Os4 O12 F8 with energy = -5.2949, npH = -24.0, nPhi = -24.0, nH2O = 12.0, entry_id = 'mp-28845-GGA'), Stability Percentage: 70.00%\n",
      "Material: PourbaixEntry(Zr2 Tl2 Cd2 F14 with energy = -59.8113, npH = 0, nPhi = 0, nH2O = 0, entry_id = 'mp-561423-GGA'), Stability Percentage: 100.00%\n",
      "Material: PourbaixEntry(Rh4 Pb8 F28 with energy = -85.9558, npH = 0, nPhi = 0, nH2O = 0, entry_id = 'mp-14276-GGA'), Stability Percentage: 90.00%\n",
      "Material: PourbaixEntry(Sn4 O2 F10 with energy = -33.5105, npH = -4.0, nPhi = -4.0, nH2O = 2.0, entry_id = 'mp-29590-GGA'), Stability Percentage: 80.00%\n",
      "Material: PourbaixEntry(Tc8 O20 F16 with energy = -30.5478, npH = -40.0, nPhi = -40.0, nH2O = 20.0, entry_id = 'mp-556442-GGA'), Stability Percentage: 100.00%\n",
      "Material: PourbaixEntry(U1 O2 F2 with energy = -12.2036, npH = -4.0, nPhi = -4.0, nH2O = 2.0, entry_id = 'mp-27980-GGA'), Stability Percentage: 100.00%\n"
     ]
    }
   ],
   "source": [
    "material_stabilities = []\n",
    "\n",
    "for i, x in zip(pbx_data, matched_entries):\n",
    "    stable_count = 0\n",
    "    total_pH_count = 0\n",
    "\n",
    "    for pH in range(3, 13):\n",
    "        try:\n",
    "            stability = i.get_decomposition_energy(x, pH, 0)\n",
    "            total_pH_count += 1\n",
    "            if stability < 0.5:\n",
    "                stable_count += 1\n",
    "        except Exception as e:\n",
    "            continue\n",
    "    \n",
    "    if total_pH_count > 0:\n",
    "        stability_percentage = (stable_count / total_pH_count) * 100\n",
    "    else:\n",
    "        stability_percentage = 0\n",
    "\n",
    "    material_stabilities.append({'entry': x, 'stability_percentage': stability_percentage})\n",
    "\n",
    "for material in material_stabilities:\n",
    "    print(f\"Material: {material['entry']}, Stability Percentage: {material['stability_percentage']:.2f}%\")\n"
   ]
  },
  {
   "cell_type": "code",
   "execution_count": null,
   "metadata": {},
   "outputs": [],
   "source": []
  }
 ],
 "metadata": {
  "kernelspec": {
   "display_name": "base",
   "language": "python",
   "name": "python3"
  },
  "language_info": {
   "codemirror_mode": {
    "name": "ipython",
    "version": 3
   },
   "file_extension": ".py",
   "mimetype": "text/x-python",
   "name": "python",
   "nbconvert_exporter": "python",
   "pygments_lexer": "ipython3",
   "version": "3.11.5"
  }
 },
 "nbformat": 4,
 "nbformat_minor": 2
}
