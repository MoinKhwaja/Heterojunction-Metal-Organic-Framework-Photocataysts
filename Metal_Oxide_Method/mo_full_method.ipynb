{
 "cells": [
  {
   "cell_type": "code",
   "execution_count": 1,
   "metadata": {},
   "outputs": [
    {
     "data": {
      "application/vnd.jupyter.widget-view+json": {
       "model_id": "dab38a116c384882991f402a655aa5f3",
       "version_major": 2,
       "version_minor": 0
      },
      "text/plain": [
       "Retrieving SummaryDoc documents:   0%|          | 0/5081 [00:00<?, ?it/s]"
      ]
     },
     "metadata": {},
     "output_type": "display_data"
    }
   ],
   "source": [
    "from mp_api.client import MPRester\n",
    "from pymatgen.analysis.pourbaix_diagram import PourbaixDiagram, PourbaixPlotter, PourbaixEntry\n",
    "from api_key import APIKEY\n",
    "\n",
    "API_KEY = APIKEY\n",
    "\n",
    "with MPRester(API_KEY) as mpr:\n",
    "    docs = mpr.materials.summary.search(\n",
    "        energy_above_hull=(0, 0.008), band_gap=[0.85,2.15], is_stable=True, fields=[\"material_id\"]\n",
    "    )\n",
    "    materials = [doc.material_id for doc in docs]"
   ]
  },
  {
   "cell_type": "code",
   "execution_count": 2,
   "metadata": {},
   "outputs": [
    {
     "data": {
      "application/vnd.jupyter.widget-view+json": {
       "model_id": "ba8f548f5bf74d03a960f29b2cebd463",
       "version_major": 2,
       "version_minor": 0
      },
      "text/plain": [
       "Retrieving MaterialsDoc documents:   0%|          | 0/5081 [00:00<?, ?it/s]"
      ]
     },
     "metadata": {},
     "output_type": "display_data"
    }
   ],
   "source": [
    "def get_material_entries(material_ids, batch_size=6000):\n",
    "    mp_entries = []\n",
    "    with MPRester(API_KEY) as mpr:\n",
    "        for i in range(0, len(material_ids), batch_size):\n",
    "            batch_ids = material_ids[i:i + batch_size]\n",
    "            material_entries = mpr.materials.search(material_ids=batch_ids)\n",
    "            mp_entries.extend(material_entries)\n",
    "    return mp_entries\n",
    "\n",
    "mp_entries = get_material_entries(materials)"
   ]
  },
  {
   "cell_type": "code",
   "execution_count": 3,
   "metadata": {},
   "outputs": [],
   "source": [
    "chemsys_list = [entry.chemsys for entry in mp_entries[:100] if hasattr(entry, 'chemsys')]\n",
    "composition_list = [entry.composition for entry in mp_entries[:100] if hasattr(entry, 'composition')]\n",
    "materials_gga = [material + \"-GGA\" for material in materials[:100]]\n",
    "materials_id = materials[:100]"
   ]
  },
  {
   "cell_type": "code",
   "execution_count": 4,
   "metadata": {},
   "outputs": [],
   "source": [
    "from pymatgen.core.composition import Composition\n",
    "\n",
    "def remove_o_and_h(composition):\n",
    "    new_composition_elements = []\n",
    "    for element, count in composition.get_el_amt_dict().items():\n",
    "        if element not in ['O', 'H']:\n",
    "            new_composition_elements.append(f\"{element}{int(count)}\")\n",
    "    new_composition_str = ' '.join(new_composition_elements)\n",
    "    return Composition(new_composition_str)\n",
    "\n",
    "filtered_molecules = [remove_o_and_h(molecule) for molecule in composition_list]"
   ]
  },
  {
   "cell_type": "code",
   "execution_count": 5,
   "metadata": {},
   "outputs": [],
   "source": [
    "from pymatgen.core.composition import Composition\n",
    "\n",
    "def calculate_percent_composition(molecule):\n",
    "    total_atoms = sum(molecule.values())\n",
    "    return {element.symbol: count / total_atoms for element, count in molecule.items()}\n",
    "\n",
    "percent_compositions = [calculate_percent_composition(molecule) for molecule in filtered_molecules]"
   ]
  },
  {
   "cell_type": "code",
   "execution_count": null,
   "metadata": {},
   "outputs": [],
   "source": [
    "import time\n",
    "pbx_data = []\n",
    "pbx_entries = []\n",
    "\n",
    "with MPRester(API_KEY) as mpr:\n",
    "    count = 0  # Initialize a counter variable\n",
    "    for i, x in zip(chemsys_list, percent_compositions):\n",
    "        count += 1  # Increment the counter at the start of each loop iteration\n",
    "        try:\n",
    "            pourbaix_entries = mpr.get_pourbaix_entries(i)\n",
    "            pbx_entries.append(pourbaix_entries)\n",
    "            pbx_diagram = PourbaixDiagram(entries=pourbaix_entries, comp_dict=x)\n",
    "            pbx_data.append(pbx_diagram)\n",
    "            time.sleep(10)\n",
    "        except Exception as e:\n",
    "            pbx_data.append('error')\n",
    "        finally:\n",
    "            print(f\"Loop has run {count} times\")  # Print the current loop count\n"
   ]
  },
  {
   "cell_type": "code",
   "execution_count": 7,
   "metadata": {},
   "outputs": [
    {
     "name": "stdout",
     "output_type": "stream",
     "text": [
      "No match found for: Cs4 Np4 Cl8 O12\n",
      "No match found for: As6 Xe12 F54\n"
     ]
    }
   ],
   "source": [
    "matches = []\n",
    "\n",
    "for index, comp in enumerate(composition_list):\n",
    "    comp_formula = comp.formula\n",
    "    found_match = False \n",
    "\n",
    "    try:\n",
    "        for sublist in pbx_entries:\n",
    "            if isinstance(sublist, list):\n",
    "                for entry in sublist:\n",
    "                    entry_str = str(entry)\n",
    "                    if comp_formula and comp_formula in entry_str:\n",
    "                        matches.append(entry)  \n",
    "                        found_match = True\n",
    "                        break\n",
    "\n",
    "            if found_match:\n",
    "                break\n",
    "\n",
    "        if not found_match:\n",
    "            print(f\"No match found for: {comp_formula}\")\n",
    "            matches.append(\"None\")\n",
    "\n",
    "    except Exception as e:\n",
    "        print(f\"An error occurred at index {index} for composition {comp_formula}: {e}\")\n",
    "        matches.append(\"None\")  \n"
   ]
  },
  {
   "cell_type": "code",
   "execution_count": 8,
   "metadata": {},
   "outputs": [
    {
     "name": "stdout",
     "output_type": "stream",
     "text": [
      "['2.5', '2.48', '0.211', '0.346', '2.39', '1.26', '0.403', '0.515', '1.59', '0.255', '0.26', '0.359', '0.39', '1.35', '1.24', '0.34', '0.316', '4.31', '3.83', '0.403', '2.27', '4.43', '0.583', '2.06', '0.529', '0.494', '0.161', '2.04', '0.457', '0.0506', '0.0902', '0.782', '2.37', '0.989', '0.402', '0.443', '0.788', '0.977', '2.25', '0.991', '1.09', '0.588', '0.381', '0.531', '1.37', '1.26', '0.949', '0.818', '0.822', '0.921', '0.937', '0.601', '0.281', '1.6', '0.764', 'error', '1.04', '0.0722', '1.26', '0.0679', '0.586', '0.582', '1.06', '1.05', '0.38', '0.7', '1.22', 'error', '1.67', '0.263', '0.799', '0.427', '0.558', '0.488', '0.952', '0.227', '0.381', '0.819', '1.09', '0.865', '0.267', '0.274', '3.74', '0.19', '0.642', '0.152', '0.585', '0.595', '1.24', '0.608', '1.21', '0.00725', '0.674', '0.54', '0.996', '1.49', '1.16', '0.831', '0.266', '0.214']\n"
     ]
    }
   ],
   "source": [
    "stabilities = []\n",
    "\n",
    "for i, x in zip(pbx_data, matches):\n",
    "    try:\n",
    "        stability = i.get_decomposition_energy(x, 7, 0)\n",
    "        formatted_stability = \"{:.3g}\".format(stability)\n",
    "        stabilities.append(formatted_stability)\n",
    "    except Exception as e:\n",
    "        stabilities.append(\"error\")\n",
    "\n",
    "print(stabilities)\n"
   ]
  },
  {
   "cell_type": "code",
   "execution_count": 9,
   "metadata": {},
   "outputs": [],
   "source": [
    "combined_list = list(zip(materials_id, stabilities))\n",
    "data_without_error = [item for item in combined_list if item[1] != 'error']\n",
    "filtered_data = [item for item in data_without_error if float(item[1]) <= 0.5]\n",
    "mp_identifiers = [item[0] for item in filtered_data]"
   ]
  },
  {
   "cell_type": "code",
   "execution_count": 10,
   "metadata": {},
   "outputs": [
    {
     "name": "stdout",
     "output_type": "stream",
     "text": [
      "total materials: 100\n",
      "materials without error: 98\n",
      "stable materials: 34\n"
     ]
    }
   ],
   "source": [
    "print(\"total materials:\",len(materials_id))\n",
    "print(\"materials without error:\",len(data_without_error))\n",
    "print(\"stable materials:\",len(filtered_data))\n"
   ]
  }
 ],
 "metadata": {
  "kernelspec": {
   "display_name": "base",
   "language": "python",
   "name": "python3"
  },
  "language_info": {
   "codemirror_mode": {
    "name": "ipython",
    "version": 3
   },
   "file_extension": ".py",
   "mimetype": "text/x-python",
   "name": "python",
   "nbconvert_exporter": "python",
   "pygments_lexer": "ipython3",
   "version": "3.11.5"
  }
 },
 "nbformat": 4,
 "nbformat_minor": 2
}
