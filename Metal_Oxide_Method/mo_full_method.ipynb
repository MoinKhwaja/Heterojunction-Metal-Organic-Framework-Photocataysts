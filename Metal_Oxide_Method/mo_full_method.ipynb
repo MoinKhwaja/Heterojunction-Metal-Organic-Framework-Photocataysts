{
 "cells": [
  {
   "cell_type": "code",
   "execution_count": 1,
   "metadata": {},
   "outputs": [
    {
     "data": {
      "application/vnd.jupyter.widget-view+json": {
       "model_id": "5af9f5643fbe46cc981c4558b6ce090e",
       "version_major": 2,
       "version_minor": 0
      },
      "text/plain": [
       "Retrieving SummaryDoc documents:   0%|          | 0/5081 [00:00<?, ?it/s]"
      ]
     },
     "metadata": {},
     "output_type": "display_data"
    }
   ],
   "source": [
    "from mp_api.client import MPRester\n",
    "from pymatgen.analysis.pourbaix_diagram import PourbaixDiagram, PourbaixPlotter, PourbaixEntry\n",
    "from api_key import APIKEY\n",
    "\n",
    "API_KEY = APIKEY\n",
    "\n",
    "with MPRester(API_KEY) as mpr:\n",
    "    docs = mpr.materials.summary.search(\n",
    "        energy_above_hull=(0, 0.008), band_gap=[0.85,2.15], is_stable=True, fields=[\"material_id\"]\n",
    "    )\n",
    "    materials = [doc.material_id for doc in docs]"
   ]
  },
  {
   "cell_type": "code",
   "execution_count": 2,
   "metadata": {},
   "outputs": [
    {
     "data": {
      "application/vnd.jupyter.widget-view+json": {
       "model_id": "9854c83a06314af9852d6637b71eba69",
       "version_major": 2,
       "version_minor": 0
      },
      "text/plain": [
       "Retrieving MaterialsDoc documents:   0%|          | 0/5081 [00:00<?, ?it/s]"
      ]
     },
     "metadata": {},
     "output_type": "display_data"
    }
   ],
   "source": [
    "def get_material_entries(material_ids, batch_size=6000):\n",
    "    mp_entries = []\n",
    "    with MPRester(API_KEY) as mpr:\n",
    "        for i in range(0, len(material_ids), batch_size):\n",
    "            batch_ids = material_ids[i:i + batch_size]\n",
    "            material_entries = mpr.materials.search(material_ids=batch_ids)\n",
    "            mp_entries.extend(material_entries)\n",
    "    return mp_entries\n",
    "\n",
    "mp_entries = get_material_entries(materials)"
   ]
  },
  {
   "cell_type": "code",
   "execution_count": 3,
   "metadata": {},
   "outputs": [],
   "source": [
    "chemsys_list = [entry.chemsys for entry in mp_entries[:100] if hasattr(entry, 'chemsys')]\n",
    "composition_list = [entry.composition for entry in mp_entries[:100] if hasattr(entry, 'composition')]\n",
    "materials_gga = [material + \"-GGA\" for material in materials[:100]]\n",
    "materials_id = materials[:100]"
   ]
  },
  {
   "cell_type": "code",
   "execution_count": 4,
   "metadata": {},
   "outputs": [],
   "source": [
    "from pymatgen.core.composition import Composition\n",
    "\n",
    "def remove_o_and_h(composition):\n",
    "    new_composition_elements = []\n",
    "    for element, count in composition.get_el_amt_dict().items():\n",
    "        if element not in ['O', 'H']:\n",
    "            new_composition_elements.append(f\"{element}{int(count)}\")\n",
    "    new_composition_str = ' '.join(new_composition_elements)\n",
    "    return Composition(new_composition_str)\n",
    "\n",
    "filtered_molecules = [remove_o_and_h(molecule) for molecule in composition_list]"
   ]
  },
  {
   "cell_type": "code",
   "execution_count": 5,
   "metadata": {},
   "outputs": [],
   "source": [
    "from pymatgen.core.composition import Composition\n",
    "\n",
    "def calculate_percent_composition(molecule):\n",
    "    total_atoms = sum(molecule.values())\n",
    "    return {element.symbol: count / total_atoms for element, count in molecule.items()}\n",
    "\n",
    "percent_compositions = [calculate_percent_composition(molecule) for molecule in filtered_molecules]"
   ]
  },
  {
   "cell_type": "code",
   "execution_count": 6,
   "metadata": {},
   "outputs": [],
   "source": [
    "import time\n",
    "import concurrent.futures\n",
    "\n",
    "\n",
    "BATCH_SIZE = 5  # Number of elements to process in each batch\n",
    "SLEEP_BETWEEN_BATCHES = 30  # Seconds to wait between each batch\n",
    "TIMEOUT = 10  # Timeout for each API call in seconds\n",
    "\n",
    "def fetch_pourbaix_entries(chemsys):\n",
    "    with MPRester(API_KEY) as mpr:\n",
    "        return mpr.get_pourbaix_entries(chemsys)\n",
    "\n",
    "pbx_data = []\n",
    "pbx_entries = []\n",
    "\n",
    "for batch_start in range(0, len(chemsys_list), BATCH_SIZE):\n",
    "    batch_end = min(batch_start + BATCH_SIZE, len(chemsys_list))\n",
    "    current_batch = zip(chemsys_list[batch_start:batch_end], percent_compositions[batch_start:batch_end])\n",
    "\n",
    "    for chemsys, percent_comp in current_batch:\n",
    "        with concurrent.futures.ThreadPoolExecutor() as executor:\n",
    "            future = executor.submit(fetch_pourbaix_entries, chemsys)\n",
    "            try:\n",
    "                pourbaix_entries = future.result(timeout=TIMEOUT)\n",
    "                pbx_entries.append(pourbaix_entries)\n",
    "                pbx_diagram = PourbaixDiagram(entries=pourbaix_entries, comp_dict=percent_comp)\n",
    "                pbx_data.append(pbx_diagram)\n",
    "            except concurrent.futures.TimeoutError:\n",
    "                print(f\"Timeout occurred for {chemsys}\")\n",
    "                pbx_data.append('timeout')\n",
    "            except Exception as e:\n",
    "                print(f\"An error occurred for {chemsys}: {e}\")\n",
    "                pbx_data.append('error')\n",
    "\n",
    "    print(f\"Processed batch {batch_start // BATCH_SIZE + 1}/{(len(chemsys_list) + BATCH_SIZE - 1) // BATCH_SIZE}\")\n",
    "    time.sleep(SLEEP_BETWEEN_BATCHES)  # Pause between batches\n"
   ]
  },
  {
   "cell_type": "code",
   "execution_count": null,
   "metadata": {},
   "outputs": [],
   "source": [
    "matches = []\n",
    "\n",
    "for index, comp in enumerate(composition_list):\n",
    "    comp_formula = comp.formula\n",
    "    found_match = False \n",
    "\n",
    "    try:\n",
    "        for sublist in pbx_entries:\n",
    "            if isinstance(sublist, list):\n",
    "                for entry in sublist:\n",
    "                    entry_str = str(entry)\n",
    "                    if comp_formula and comp_formula in entry_str:\n",
    "                        matches.append(entry)  \n",
    "                        found_match = True\n",
    "                        break\n",
    "\n",
    "            if found_match:\n",
    "                break\n",
    "\n",
    "        if not found_match:\n",
    "            print(f\"No match found for: {comp_formula}\")\n",
    "            matches.append(\"None\")\n",
    "\n",
    "    except Exception as e:\n",
    "        print(f\"An error occurred at index {index} for composition {comp_formula}: {e}\")\n",
    "        matches.append(\"None\")  \n"
   ]
  },
  {
   "cell_type": "code",
   "execution_count": null,
   "metadata": {},
   "outputs": [],
   "source": [
    "stabilities = []\n",
    "\n",
    "for i, x in zip(pbx_data, matches):\n",
    "    try:\n",
    "        stability = i.get_decomposition_energy(x, 7, 0)\n",
    "        formatted_stability = \"{:.3g}\".format(stability)\n",
    "        stabilities.append(formatted_stability)\n",
    "    except Exception as e:\n",
    "        stabilities.append(\"error\")\n",
    "\n",
    "print(stabilities)\n"
   ]
  },
  {
   "cell_type": "code",
   "execution_count": null,
   "metadata": {},
   "outputs": [],
   "source": [
    "combined_list = list(zip(materials_id, stabilities))\n",
    "data_without_error = [item for item in combined_list if item[1] != 'error']\n",
    "filtered_data = [item for item in data_without_error if float(item[1]) <= 0.5]\n",
    "mp_identifiers = [item[0] for item in filtered_data]"
   ]
  },
  {
   "cell_type": "code",
   "execution_count": null,
   "metadata": {},
   "outputs": [],
   "source": [
    "print(\"total materials:\",len(materials_id))\n",
    "print(\"materials without error:\",len(data_without_error))\n",
    "print(\"stable materials:\",len(filtered_data))\n"
   ]
  }
 ],
 "metadata": {
  "kernelspec": {
   "display_name": "base",
   "language": "python",
   "name": "python3"
  },
  "language_info": {
   "codemirror_mode": {
    "name": "ipython",
    "version": 3
   },
   "file_extension": ".py",
   "mimetype": "text/x-python",
   "name": "python",
   "nbconvert_exporter": "python",
   "pygments_lexer": "ipython3",
   "version": "3.11.5"
  }
 },
 "nbformat": 4,
 "nbformat_minor": 2
}
