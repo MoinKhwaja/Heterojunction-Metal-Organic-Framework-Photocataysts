{
 "cells": [
  {
   "cell_type": "code",
   "execution_count": 29,
   "metadata": {},
   "outputs": [
    {
     "data": {
      "application/vnd.jupyter.widget-view+json": {
       "model_id": "0941873ada9d4fa8932a8279ead9ca0b",
       "version_major": 2,
       "version_minor": 0
      },
      "text/plain": [
       "Retrieving SummaryDoc documents:   0%|          | 0/5081 [00:00<?, ?it/s]"
      ]
     },
     "metadata": {},
     "output_type": "display_data"
    }
   ],
   "source": [
    "from mp_api.client import MPRester\n",
    "from pymatgen.analysis.pourbaix_diagram import PourbaixDiagram, PourbaixPlotter, PourbaixEntry\n",
    "\n",
    "API_KEY = 'M3iWLItVErrMW5qgPwe5tzZFxjlROt1x'\n",
    "\n",
    "with MPRester(API_KEY) as mpr:\n",
    "    docs = mpr.materials.summary.search(\n",
    "        energy_above_hull=(0, 0.008), band_gap=[0.85,2.15], is_stable=True, fields=[\"material_id\"]\n",
    "    )\n",
    "    materials = [doc.material_id for doc in docs]"
   ]
  },
  {
   "cell_type": "code",
   "execution_count": 30,
   "metadata": {},
   "outputs": [
    {
     "data": {
      "application/vnd.jupyter.widget-view+json": {
       "model_id": "96523387cb834892865b6a679cc5175d",
       "version_major": 2,
       "version_minor": 0
      },
      "text/plain": [
       "Retrieving MaterialsDoc documents:   0%|          | 0/1000 [00:00<?, ?it/s]"
      ]
     },
     "metadata": {},
     "output_type": "display_data"
    },
    {
     "data": {
      "application/vnd.jupyter.widget-view+json": {
       "model_id": "df07f38045a249148e209093d946958c",
       "version_major": 2,
       "version_minor": 0
      },
      "text/plain": [
       "Retrieving MaterialsDoc documents:   0%|          | 0/1000 [00:00<?, ?it/s]"
      ]
     },
     "metadata": {},
     "output_type": "display_data"
    },
    {
     "data": {
      "application/vnd.jupyter.widget-view+json": {
       "model_id": "ddbc54c68aad403b9f05e60ec44c98cd",
       "version_major": 2,
       "version_minor": 0
      },
      "text/plain": [
       "Retrieving MaterialsDoc documents:   0%|          | 0/1000 [00:00<?, ?it/s]"
      ]
     },
     "metadata": {},
     "output_type": "display_data"
    },
    {
     "data": {
      "application/vnd.jupyter.widget-view+json": {
       "model_id": "c3dd17b8da38482cabd5d98fba1f436e",
       "version_major": 2,
       "version_minor": 0
      },
      "text/plain": [
       "Retrieving MaterialsDoc documents:   0%|          | 0/1000 [00:00<?, ?it/s]"
      ]
     },
     "metadata": {},
     "output_type": "display_data"
    },
    {
     "data": {
      "application/vnd.jupyter.widget-view+json": {
       "model_id": "68335bf620b742668c2e322c9e446f5c",
       "version_major": 2,
       "version_minor": 0
      },
      "text/plain": [
       "Retrieving MaterialsDoc documents:   0%|          | 0/1000 [00:00<?, ?it/s]"
      ]
     },
     "metadata": {},
     "output_type": "display_data"
    },
    {
     "data": {
      "application/vnd.jupyter.widget-view+json": {
       "model_id": "1833a85334ba4672961279003ba53cda",
       "version_major": 2,
       "version_minor": 0
      },
      "text/plain": [
       "Retrieving MaterialsDoc documents:   0%|          | 0/81 [00:00<?, ?it/s]"
      ]
     },
     "metadata": {},
     "output_type": "display_data"
    }
   ],
   "source": [
    "def get_material_entries(material_ids, batch_size=1000):\n",
    "    \"\"\"Fetch material entries in batches.\"\"\"\n",
    "    mp_entries = []\n",
    "    with MPRester(API_KEY) as mpr:\n",
    "        for i in range(0, len(material_ids), batch_size):\n",
    "            batch_ids = material_ids[i:i + batch_size]\n",
    "            material_entries = mpr.materials.search(material_ids=batch_ids)\n",
    "            mp_entries.extend(material_entries)\n",
    "    return mp_entries\n",
    "\n",
    "mp_entries = get_material_entries(materials)"
   ]
  },
  {
   "cell_type": "code",
   "execution_count": 64,
   "metadata": {},
   "outputs": [],
   "source": [
    "chemsys_list = [entry.chemsys for entry in mp_entries[:20] if hasattr(entry, 'chemsys')]\n",
    "composition_list = [entry.composition for entry in mp_entries[:20] if hasattr(entry, 'composition')]\n",
    "materials_gga = [material + \"-GGA\" for material in materials[:20]]"
   ]
  },
  {
   "cell_type": "code",
   "execution_count": null,
   "metadata": {},
   "outputs": [],
   "source": [
    "pbx_entries = []\n",
    "#pbx_data = []\n",
    "#pbx_plots = []\n",
    "\n",
    "with MPRester(API_KEY) as mpr:\n",
    "    for i in chemsys_list:\n",
    "        pourbaix_entries = mpr.get_pourbaix_entries(i)\n",
    "        pbx_entries.append(pourbaix_entries)\n",
    "        #pbx_diagram = PourbaixDiagram(pourbaix_entries)\n",
    "        #pbx_data.append(pbx_diagram)  \n",
    "        #pbx_plotter = PourbaixPlotter(pbx_diagram)\n",
    "        #pbx_plots.append(pbx_plotter)"
   ]
  },
  {
   "cell_type": "code",
   "execution_count": 80,
   "metadata": {},
   "outputs": [],
   "source": [
    "pbx_data = []\n",
    "pbx_plots = []\n",
    "\n",
    "for i in pbx_entries:\n",
    "    pbx_diagram = PourbaixDiagram(i)\n",
    "    pbx_data.append(pbx_diagram)\n",
    "    pbx_plotter = PourbaixPlotter(pbx_diagram)\n",
    "    pbx_plots.append(pbx_plotter)"
   ]
  },
  {
   "cell_type": "code",
   "execution_count": 73,
   "metadata": {},
   "outputs": [
    {
     "name": "stdout",
     "output_type": "stream",
     "text": [
      "No match found for: Ba2 Np2 H6 O12\n",
      "No match found for: Ba1 Fe2 P4 O14\n"
     ]
    }
   ],
   "source": [
    "matches = []\n",
    "\n",
    "for comp in composition_list:\n",
    "    comp_formula = comp.formula\n",
    "    found_match = False  # Flag to track if a match is found\n",
    "\n",
    "    for sublist in pbx_entries:\n",
    "        if isinstance(sublist, list):\n",
    "            for entry in sublist:\n",
    "                entry_str = str(entry)\n",
    "                if comp_formula and comp_formula in entry_str:\n",
    "                    matches.append(entry)  # Append the entry object itself\n",
    "                    found_match = True\n",
    "                    break\n",
    "\n",
    "        if found_match:\n",
    "            break\n",
    "\n",
    "    if not found_match:\n",
    "        print(f\"No match found for: {comp_formula}\")"
   ]
  },
  {
   "cell_type": "code",
   "execution_count": 84,
   "metadata": {},
   "outputs": [
    {
     "name": "stdout",
     "output_type": "stream",
     "text": [
      "An error occurred with the element at index 0 in pbx_data and 0 in matches. Error: Composition of stability entry does not match Pourbaix Diagram\n",
      "An error occurred with the element at index 1 in pbx_data and 1 in matches. Error: Composition of stability entry does not match Pourbaix Diagram\n",
      "An error occurred with the element at index 5 in pbx_data and 5 in matches. Error: Composition of stability entry does not match Pourbaix Diagram\n",
      "An error occurred with the element at index 6 in pbx_data and 6 in matches. Error: Composition of stability entry does not match Pourbaix Diagram\n",
      "An error occurred with the element at index 7 in pbx_data and 7 in matches. Error: Composition of stability entry does not match Pourbaix Diagram\n",
      "An error occurred with the element at index 8 in pbx_data and 8 in matches. Error: Composition of stability entry does not match Pourbaix Diagram\n",
      "An error occurred with the element at index 9 in pbx_data and 9 in matches. Error: Composition of stability entry does not match Pourbaix Diagram\n",
      "An error occurred with the element at index 10 in pbx_data and 10 in matches. Error: Composition of stability entry does not match Pourbaix Diagram\n",
      "An error occurred with the element at index 11 in pbx_data and 11 in matches. Error: Composition of stability entry does not match Pourbaix Diagram\n",
      "An error occurred with the element at index 12 in pbx_data and 12 in matches. Error: Composition of stability entry does not match Pourbaix Diagram\n",
      "An error occurred with the element at index 13 in pbx_data and 13 in matches. Error: Composition of stability entry does not match Pourbaix Diagram\n",
      "An error occurred with the element at index 15 in pbx_data and 15 in matches. Error: Composition of stability entry does not match Pourbaix Diagram\n",
      "An error occurred with the element at index 16 in pbx_data and 16 in matches. Error: Composition of stability entry does not match Pourbaix Diagram\n",
      "An error occurred with the element at index 17 in pbx_data and 17 in matches. Error: Composition of stability entry does not match Pourbaix Diagram\n",
      "[0.2412670183763268, 0.7531943652989352, 1.0937758303597382, 0.3434529647049622]\n"
     ]
    }
   ],
   "source": [
    "stabilities = []\n",
    "\n",
    "for i, x in zip(pbx_data, matches):\n",
    "    try:\n",
    "        stability = i.get_decomposition_energy(x, 7, 0)\n",
    "        stabilities.append(stability)\n",
    "    except Exception as e:\n",
    "        print(f\"An error occurred with the element at index {pbx_data.index(i)} in pbx_data and {matches.index(x)} in matches. Error: {e}\")\n",
    "\n",
    "print(stabilities)\n"
   ]
  }
 ],
 "metadata": {
  "kernelspec": {
   "display_name": "base",
   "language": "python",
   "name": "python3"
  },
  "language_info": {
   "codemirror_mode": {
    "name": "ipython",
    "version": 3
   },
   "file_extension": ".py",
   "mimetype": "text/x-python",
   "name": "python",
   "nbconvert_exporter": "python",
   "pygments_lexer": "ipython3",
   "version": "3.11.5"
  }
 },
 "nbformat": 4,
 "nbformat_minor": 2
}
