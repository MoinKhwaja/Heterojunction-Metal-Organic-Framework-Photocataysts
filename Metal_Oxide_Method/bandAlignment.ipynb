{
 "cells": [
  {
   "cell_type": "code",
   "execution_count": 44,
   "metadata": {},
   "outputs": [],
   "source": [
    "from mp_api.client import MPRester\n",
    "import csv\n",
    "from api_key import APIKEY\n",
    "API_KEY = APIKEY"
   ]
  },
  {
   "cell_type": "code",
   "execution_count": 45,
   "metadata": {},
   "outputs": [],
   "source": [
    "csv_file_path = 'new_MPIDS_forbandsearch.csv'\n",
    "data = []\n",
    "\n",
    "with open(csv_file_path, mode='r', encoding='utf-8') as file:\n",
    "    csv_reader = csv.reader(file)\n",
    "    for row in csv_reader:\n",
    "        data.append(row)\n",
    "\n",
    "MPID_ids_list = [nested_id[0] for nested_id in data]"
   ]
  },
  {
   "cell_type": "code",
   "execution_count": 46,
   "metadata": {},
   "outputs": [
    {
     "name": "stdout",
     "output_type": "stream",
     "text": [
      "1985\n"
     ]
    }
   ],
   "source": [
    "print(len(MPID_ids_list))"
   ]
  },
  {
   "cell_type": "code",
   "execution_count": null,
   "metadata": {},
   "outputs": [],
   "source": [
    "materials = MPID_ids_list[1000:1985]\n",
    "bandstruct = []\n",
    "failed_ids = []\n",
    "\n",
    "with MPRester(API_KEY) as mpr:\n",
    "    for mp_id in materials:\n",
    "        try:\n",
    "            band_structure = mpr.get_bandstructure_by_material_id(mp_id)\n",
    "            bandstruct.append(band_structure)\n",
    "        except Exception as e:\n",
    "            print(f\"Failed to retrieve band structure for {mp_id}: {e}\")\n",
    "            failed_ids.append(mp_id)\n",
    "\n",
    "# Remove the failed IDs from the materials list\n",
    "for id in failed_ids:\n",
    "    materials.remove(id)\n"
   ]
  },
  {
   "cell_type": "code",
   "execution_count": null,
   "metadata": {},
   "outputs": [],
   "source": [
    "print(len(materials))"
   ]
  },
  {
   "cell_type": "code",
   "execution_count": null,
   "metadata": {},
   "outputs": [],
   "source": [
    "mp_entries = []\n",
    "\n",
    "with MPRester(API_KEY) as mpr:\n",
    "    for mp_id in materials:\n",
    "        material_entries = mpr.materials.search(material_ids=[mp_id])\n",
    "        \n",
    "        if material_entries:\n",
    "            mp_entries.append(material_entries[0])"
   ]
  },
  {
   "cell_type": "code",
   "execution_count": null,
   "metadata": {},
   "outputs": [],
   "source": [
    "print(len(mp_entries),len(bandstruct))"
   ]
  },
  {
   "cell_type": "code",
   "execution_count": null,
   "metadata": {},
   "outputs": [],
   "source": [
    "chemsys_list = [entry.chemsys for entry in mp_entries if hasattr(entry, 'chemsys')]\n",
    "composition_list = [entry.composition_reduced for entry in mp_entries if hasattr(entry, 'composition_reduced')] \n",
    "materials_gga = [material + \"-GGA\" for material in materials]\n",
    "materials_id = materials"
   ]
  },
  {
   "cell_type": "code",
   "execution_count": null,
   "metadata": {},
   "outputs": [],
   "source": [
    "bandgaps = []\n",
    "\n",
    "for i in bandstruct:\n",
    "    bandgap = i.get_band_gap()\n",
    "    bandgapenergy = bandgap.get('energy')\n",
    "    bandgaps.append(bandgapenergy)"
   ]
  },
  {
   "cell_type": "code",
   "execution_count": null,
   "metadata": {},
   "outputs": [],
   "source": [
    "electroneg = []\n",
    "\n",
    "for i in composition_list:\n",
    "    electroneg.append(i.average_electroneg)"
   ]
  },
  {
   "cell_type": "code",
   "execution_count": null,
   "metadata": {},
   "outputs": [],
   "source": [
    "cbm = []\n",
    "vbm = []\n",
    "\n",
    "for i,x in zip(bandgaps,electroneg):\n",
    "\n",
    "    bandcorrection = (i + 0.85)/2\n",
    "    cbm_pre = x + bandcorrection\n",
    "    vbm_pre = x - bandcorrection\n",
    "    cbm_minusvac = cbm_pre - 4.5\n",
    "    vbm_minusvac = vbm_pre - 4.5\n",
    "\n",
    "    cbm.append(cbm_minusvac)\n",
    "    vbm.append(vbm_minusvac)"
   ]
  },
  {
   "cell_type": "code",
   "execution_count": null,
   "metadata": {},
   "outputs": [],
   "source": [
    "band_edge = list(zip(cbm, vbm, materials))"
   ]
  },
  {
   "cell_type": "code",
   "execution_count": null,
   "metadata": {},
   "outputs": [],
   "source": [
    "CO_reduction_met = [item for item in band_edge if item[0] >= 0.12]\n",
    "CHOH_reduction_met = [item for item in band_edge if 0 <= item[0] < 0.12]\n",
    "CH4_reduction_met = [item for item in band_edge if -0.17 <= item[0] < 0]"
   ]
  },
  {
   "cell_type": "code",
   "execution_count": null,
   "metadata": {},
   "outputs": [],
   "source": [
    "print(\"CO:\",len(CO_reduction_met),\"||\",\"CHOH:\",len(CHOH_reduction_met),\"||\",\"CH4:\",len(CH4_reduction_met))"
   ]
  },
  {
   "cell_type": "code",
   "execution_count": null,
   "metadata": {},
   "outputs": [],
   "source": [
    "print(len(failed_ids))"
   ]
  },
  {
   "cell_type": "code",
   "execution_count": null,
   "metadata": {},
   "outputs": [],
   "source": [
    "#print(\"CO:\",CO_reduction_met)\n",
    "CO_mpids = [item[2] for item in CO_reduction_met]\n",
    "print(CO_mpids)"
   ]
  },
  {
   "cell_type": "code",
   "execution_count": null,
   "metadata": {},
   "outputs": [],
   "source": [
    "#print(\"CHOH:\",CHOH_reduction_met)\n",
    "CHOH_mpids = [item[2] for item in CHOH_reduction_met]\n",
    "print(CHOH_mpids)"
   ]
  },
  {
   "cell_type": "code",
   "execution_count": null,
   "metadata": {},
   "outputs": [],
   "source": [
    "#print(\"CH4:\",CH4_reduction_met)\n",
    "CH4_mpids = [item[2] for item in CH4_reduction_met]\n",
    "print(CH4_mpids)"
   ]
  },
  {
   "cell_type": "code",
   "execution_count": null,
   "metadata": {},
   "outputs": [],
   "source": [
    "#cbms_CO = [item[0] for item in CO_reduction_met]\n",
    "#vbms_CO = [item[1] for item in CO_reduction_met]\n",
    "#mps_CO = [item[2] for item in CO_reduction_met]\n",
    "\n",
    "#cbms_CHOH = [item[0] for item in CHOH_reduction_met]\n",
    "#vbms_CHOH = [item[1] for item in CHOH_reduction_met]\n",
    "#mps_CHOH = [item[2] for item in CHOH_reduction_met]"
   ]
  },
  {
   "cell_type": "code",
   "execution_count": null,
   "metadata": {},
   "outputs": [],
   "source": [
    "'''\n",
    "import matplotlib.pyplot as plt\n",
    "\n",
    "water_oxidation = -1.23\n",
    "co_reduction = 0.12\n",
    "\n",
    "plt.figure(figsize=(6, 4))\n",
    "\n",
    "for i in range(len(CO_reduction_met)):\n",
    "    plt.hlines(cbms_above[i], i - 0.1, i + 0.1, colors='blue', label='CBM' if i == 0 else \"\")\n",
    "    plt.hlines(vbms_above[i], i - 0.1, i + 0.1, colors='red', label='VBM' if i == 0 else \"\")\n",
    "\n",
    "plt.axhline(y=water_oxidation, color='green', linestyle='--', label='Water Oxidation')\n",
    "plt.axhline(y=co_reduction, color='green', linestyle='--', label='CO2 Redox')\n",
    "\n",
    "# Adding labels and title\n",
    "plt.ylabel('Energy (eV)')\n",
    "plt.title('Band Gap Alignment: Above CO Reduction')\n",
    "plt.legend()\n",
    "\n",
    "# Show the plot\n",
    "plt.show()\n",
    "\n",
    "'''\n"
   ]
  },
  {
   "cell_type": "code",
   "execution_count": null,
   "metadata": {},
   "outputs": [],
   "source": [
    "'''\n",
    "water_oxidation = -1.23\n",
    "co_reduction = 0.12\n",
    "\n",
    "plt.figure(figsize=(6, 4))\n",
    "\n",
    "for i in range(len(CO_reduction_below)):\n",
    "    plt.hlines(cbms_below[i], i - 0.1, i + 0.1, colors='blue', label='CBM' if i == 0 else \"\")\n",
    "    plt.hlines(vbms_below[i], i - 0.1, i + 0.1, colors='red', label='VBM' if i == 0 else \"\")\n",
    "\n",
    "plt.axhline(y=water_oxidation, color='green', linestyle='--', label='Water Oxidation')\n",
    "plt.axhline(y=co_reduction, color='green', linestyle='--', label='CO2 Redox')\n",
    "\n",
    "# Adding labels and title\n",
    "plt.ylabel('Energy (eV)')\n",
    "plt.title('Band Gap Alignment: Below CO Reduction')\n",
    "plt.legend()\n",
    "\n",
    "# Show the plot\n",
    "plt.show()\n",
    "'''"
   ]
  }
 ],
 "metadata": {
  "kernelspec": {
   "display_name": "base",
   "language": "python",
   "name": "python3"
  },
  "language_info": {
   "codemirror_mode": {
    "name": "ipython",
    "version": 3
   },
   "file_extension": ".py",
   "mimetype": "text/x-python",
   "name": "python",
   "nbconvert_exporter": "python",
   "pygments_lexer": "ipython3",
   "version": "3.11.5"
  }
 },
 "nbformat": 4,
 "nbformat_minor": 2
}
