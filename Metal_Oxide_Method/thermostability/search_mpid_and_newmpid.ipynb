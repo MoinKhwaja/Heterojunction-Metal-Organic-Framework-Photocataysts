{
 "cells": [
  {
   "cell_type": "code",
   "execution_count": 1,
   "metadata": {},
   "outputs": [],
   "source": [
    "from mp_api.client import MPRester\n",
    "import csv\n",
    "from api_key import APIKEY\n",
    "API_KEY = APIKEY"
   ]
  },
  {
   "cell_type": "code",
   "execution_count": 2,
   "metadata": {},
   "outputs": [],
   "source": [
    "csv_file_path = 'mpids.csv'\n",
    "old_MPID = []\n",
    "\n",
    "with open(csv_file_path, mode='r', encoding='utf-8') as file:\n",
    "    csv_reader = csv.reader(file)\n",
    "    for row in csv_reader:\n",
    "        old_MPID.append(row)\n",
    "\n",
    "old_MPID_ids_list = [nested_id[0] for nested_id in old_MPID]"
   ]
  },
  {
   "cell_type": "code",
   "execution_count": 3,
   "metadata": {},
   "outputs": [],
   "source": [
    "csv_file_path = 'mpids_new.csv'\n",
    "new_MPID = []\n",
    "\n",
    "with open(csv_file_path, mode='r', encoding='utf-8') as file:\n",
    "    csv_reader = csv.reader(file)\n",
    "    for row in csv_reader:\n",
    "        new_MPID.append(row)\n",
    "\n",
    "new_MPID_ids_list = [nested_id[0] for nested_id in new_MPID]"
   ]
  },
  {
   "cell_type": "code",
   "execution_count": 11,
   "metadata": {},
   "outputs": [
    {
     "name": "stdout",
     "output_type": "stream",
     "text": [
      "1985\n",
      "1985\n"
     ]
    }
   ],
   "source": [
    "set1 = set(old_MPID_ids_list)\n",
    "set2 = set(new_MPID_ids_list)\n",
    "\n",
    "# Find unique elements in both sets\n",
    "unique_elements = set1.symmetric_difference(set2)\n",
    "\n",
    "# Convert the set back to a list\n",
    "unique_list = list(unique_elements)\n",
    "\n",
    "print(len(unique_list))\n",
    "print(len(new_MPID_ids_list)-len(old_MPID_ids_list))"
   ]
  },
  {
   "cell_type": "code",
   "execution_count": 12,
   "metadata": {},
   "outputs": [],
   "source": [
    "import csv\n",
    "\n",
    "# Assuming your list looks like this, with MPID being a custom class\n",
    "class MPID:\n",
    "    def __init__(self, id):\n",
    "        self.id = id\n",
    "    \n",
    "    def __repr__(self):\n",
    "        return f'MPID({self.id})'\n",
    "\n",
    "# Your original list\n",
    "#mpids = [MPID(\"mp-866101\"), MPID(\"mp-861502\"), MPID(\"mp-568392\"), MPID(\"mp-560328\"), MPID(\"mp-861942\"), MPID(\"mp-690687\"), MPID(\"mp-558763\"), MPID(\"mp-1229122\"), MPID(\"mp-556866\"), MPID(\"mp-27966\")]\n",
    "\n",
    "# Convert each MPID object to its string representation\n",
    "mpids_str = [[str(mpid)] for mpid in unique_list]  # Each element needs to be a list itself, to write each as a row\n",
    "\n",
    "# Open a file in write mode\n",
    "with open('new_MPIDS_forbandsearch.csv', 'w', newline='') as file:\n",
    "    writer = csv.writer(file)\n",
    "    \n",
    "    # Write the data\n",
    "    writer.writerows(mpids_str)"
   ]
  }
 ],
 "metadata": {
  "kernelspec": {
   "display_name": "base",
   "language": "python",
   "name": "python3"
  },
  "language_info": {
   "codemirror_mode": {
    "name": "ipython",
    "version": 3
   },
   "file_extension": ".py",
   "mimetype": "text/x-python",
   "name": "python",
   "nbconvert_exporter": "python",
   "pygments_lexer": "ipython3",
   "version": "3.11.5"
  }
 },
 "nbformat": 4,
 "nbformat_minor": 2
}
