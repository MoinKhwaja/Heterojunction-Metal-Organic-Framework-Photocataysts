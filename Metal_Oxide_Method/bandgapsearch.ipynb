{
 "cells": [
  {
   "cell_type": "code",
   "execution_count": null,
   "metadata": {},
   "outputs": [],
   "source": [
    "from pymatgen.ext.matproj import MPRester\n",
    "from pymatgen.core.periodic_table import Element\n",
    "\n",
    "\n",
    "from api_key import APIKEY\n",
    "\n",
    "API_KEY = APIKEY\n",
    "\n",
    "def search_mofs_with_bandgap(min_gap, max_gap):\n",
    "    with MPRester(API_KEY) as mpr:\n",
    "        # Define the criteria for the search\n",
    "        criteria = {\n",
    "            \"pretty_formula\": {\"$regex\": \"MOF\"},\n",
    "            \"band_gap\": {\"$gte\": min_gap, \"$lte\": max_gap}\n",
    "        }\n",
    "\n",
    "        # Define the properties to return\n",
    "        properties = [\"material_id\", \"pretty_formula\", \"band_gap\"]\n",
    "\n",
    "        # Perform the search\n",
    "        results = mpr.query(criteria, properties)\n",
    "\n",
    "        return results\n",
    "\n",
    "# Search for MOFs with a bandgap between 0.85 eV and 2.15 eV\n",
    "bandgap_results = search_mofs_with_bandgap(0.85, 2.15)\n",
    "\n",
    "# Print the results\n",
    "for result in bandgap_results:\n",
    "    print(f\"Material ID: {result['material_id']}, Formula: {result['pretty_formula']}, Bandgap: {result['band_gap']} eV\")\n"
   ]
  }
 ],
 "metadata": {
  "language_info": {
   "name": "python"
  },
  "orig_nbformat": 4
 },
 "nbformat": 4,
 "nbformat_minor": 2
}
