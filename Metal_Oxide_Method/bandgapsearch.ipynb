{
 "cells": [
  {
   "cell_type": "code",
   "execution_count": 1,
   "metadata": {},
   "outputs": [
    {
     "data": {
      "application/vnd.jupyter.widget-view+json": {
       "model_id": "59a573b5dab540269f8478f288be5736",
       "version_major": 2,
       "version_minor": 0
      },
      "text/plain": [
       "Retrieving SummaryDoc documents:   0%|          | 0/7066 [00:00<?, ?it/s]"
      ]
     },
     "metadata": {},
     "output_type": "display_data"
    }
   ],
   "source": [
    "from mp_api.client import MPRester\n",
    "from pymatgen.analysis.pourbaix_diagram import PourbaixDiagram, PourbaixPlotter, PourbaixEntry\n",
    "from api_key import APIKEY\n",
    "\n",
    "\n",
    "API_KEY = APIKEY\n",
    "\n",
    "with MPRester(API_KEY) as mpr:\n",
    "    docs = mpr.materials.summary.search(\n",
    "        energy_above_hull=(0, 0.008), band_gap=[0.85,2.15], fields=[\"material_id\"]\n",
    "    )\n",
    "    mats = [doc.material_id for doc in docs]\n"
   ]
  },
  {
   "cell_type": "code",
   "execution_count": 7,
   "metadata": {},
   "outputs": [
    {
     "name": "stdout",
     "output_type": "stream",
     "text": [
      "[MPID(mp-866101), MPID(mp-861502), MPID(mp-568392), MPID(mp-560328), MPID(mp-861942), MPID(mp-690687), MPID(mp-558763), MPID(mp-1229122), MPID(mp-556866), MPID(mp-27966)]\n"
     ]
    }
   ],
   "source": [
    "print(mats[:10])"
   ]
  },
  {
   "cell_type": "code",
   "execution_count": 2,
   "metadata": {},
   "outputs": [],
   "source": [
    "import csv\n",
    "class MPID:\n",
    "    def __init__(self, id):\n",
    "        self.id = id\n",
    "    \n",
    "    def __repr__(self):\n",
    "        return f'MPID({self.id})'\n",
    "\n",
    "mpids_str = [[str(mpid)] for mpid in mats]\n",
    "with open('mpids_new.csv', 'w', newline='') as file:\n",
    "    writer = csv.writer(file)\n",
    "    writer.writerows(mpids_str)\n"
   ]
  }
 ],
 "metadata": {
  "kernelspec": {
   "display_name": "base",
   "language": "python",
   "name": "python3"
  },
  "language_info": {
   "codemirror_mode": {
    "name": "ipython",
    "version": 3
   },
   "file_extension": ".py",
   "mimetype": "text/x-python",
   "name": "python",
   "nbconvert_exporter": "python",
   "pygments_lexer": "ipython3",
   "version": "3.11.5"
  },
  "orig_nbformat": 4
 },
 "nbformat": 4,
 "nbformat_minor": 2
}
