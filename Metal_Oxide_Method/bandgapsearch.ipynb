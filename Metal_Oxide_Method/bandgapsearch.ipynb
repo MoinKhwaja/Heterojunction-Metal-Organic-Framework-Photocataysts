{
 "cells": [
  {
   "cell_type": "code",
   "execution_count": 2,
   "metadata": {},
   "outputs": [
    {
     "name": "stdout",
     "output_type": "stream",
     "text": [
      "\u001b[0;31m---------------------------------------------------------------------------\u001b[0m\n",
      "\u001b[0;31mKeyError\u001b[0m                                  Traceback (most recent call last)\n",
      "Cell \u001b[0;32mIn[2], line 26\u001b[0m\n",
      "\u001b[1;32m     23\u001b[0m         \u001b[38;5;28;01mreturn\u001b[39;00m results\n",
      "\u001b[1;32m     25\u001b[0m \u001b[38;5;66;03m# Search for MOFs with a bandgap between 0.85 eV and 2.15 eV\u001b[39;00m\n",
      "\u001b[0;32m---> 26\u001b[0m bandgap_results \u001b[38;5;241m=\u001b[39m search_mofs_with_bandgap(\u001b[38;5;241m0.85\u001b[39m, \u001b[38;5;241m2.15\u001b[39m)\n",
      "\u001b[1;32m     28\u001b[0m \u001b[38;5;66;03m# Print the results\u001b[39;00m\n",
      "\u001b[1;32m     29\u001b[0m \u001b[38;5;28;01mfor\u001b[39;00m result \u001b[38;5;129;01min\u001b[39;00m bandgap_results:\n",
      "\n",
      "Cell \u001b[0;32mIn[2], line 21\u001b[0m, in \u001b[0;36msearch_mofs_with_bandgap\u001b[0;34m(min_gap, max_gap)\u001b[0m\n",
      "\u001b[1;32m     18\u001b[0m properties \u001b[38;5;241m=\u001b[39m [\u001b[38;5;124m\"\u001b[39m\u001b[38;5;124mmaterial_id\u001b[39m\u001b[38;5;124m\"\u001b[39m, \u001b[38;5;124m\"\u001b[39m\u001b[38;5;124mpretty_formula\u001b[39m\u001b[38;5;124m\"\u001b[39m, \u001b[38;5;124m\"\u001b[39m\u001b[38;5;124mband_gap\u001b[39m\u001b[38;5;124m\"\u001b[39m]\n",
      "\u001b[1;32m     20\u001b[0m \u001b[38;5;66;03m# Perform the search\u001b[39;00m\n",
      "\u001b[0;32m---> 21\u001b[0m results \u001b[38;5;241m=\u001b[39m mpr\u001b[38;5;241m.\u001b[39msummary\u001b[38;5;241m.\u001b[39msearch(criteria, properties)\n",
      "\u001b[1;32m     23\u001b[0m \u001b[38;5;28;01mreturn\u001b[39;00m results\n",
      "\n",
      "File \u001b[0;32m~/anaconda3/lib/python3.11/site-packages/mp_api/client/routes/materials/summary.py:211\u001b[0m, in \u001b[0;36mSummaryRester.search\u001b[0;34m(self, band_gap, chemsys, crystal_system, density, deprecated, e_electronic, e_ionic, e_total, efermi, elastic_anisotropy, elements, energy_above_hull, equilibrium_reaction_energy, exclude_elements, formation_energy, formula, g_reuss, g_voigt, g_vrh, has_props, has_reconstructed, is_gap_direct, is_metal, is_stable, k_reuss, k_voigt, k_vrh, magnetic_ordering, material_ids, n, num_elements, num_sites, num_magnetic_sites, num_unique_magnetic_sites, piezoelectric_modulus, poisson_ratio, possible_species, shape_factor, spacegroup_number, spacegroup_symbol, surface_energy_anisotropy, theoretical, total_energy, total_magnetization, total_magnetization_normalized_formula_units, total_magnetization_normalized_vol, uncorrected_energy, volume, weighted_surface_energy, weighted_work_function, sort_fields, num_chunks, chunk_size, all_fields, fields)\u001b[0m\n",
      "\u001b[1;32m    207\u001b[0m         \u001b[38;5;28;01mif\u001b[39;00m \u001b[38;5;28misinstance\u001b[39m(value, (\u001b[38;5;28mint\u001b[39m, \u001b[38;5;28mfloat\u001b[39m)):\n",
      "\u001b[1;32m    208\u001b[0m             value \u001b[38;5;241m=\u001b[39m (value, value)\n",
      "\u001b[1;32m    209\u001b[0m         query_params\u001b[38;5;241m.\u001b[39mupdate(\n",
      "\u001b[1;32m    210\u001b[0m             {\n",
      "\u001b[0;32m--> 211\u001b[0m                 \u001b[38;5;124mf\u001b[39m\u001b[38;5;124m\"\u001b[39m\u001b[38;5;132;01m{\u001b[39;00mmin_max_name_dict[param]\u001b[38;5;132;01m}\u001b[39;00m\u001b[38;5;124m_min\u001b[39m\u001b[38;5;124m\"\u001b[39m: value[\u001b[38;5;241m0\u001b[39m],\n",
      "\u001b[1;32m    212\u001b[0m                 \u001b[38;5;124mf\u001b[39m\u001b[38;5;124m\"\u001b[39m\u001b[38;5;132;01m{\u001b[39;00mmin_max_name_dict[param]\u001b[38;5;132;01m}\u001b[39;00m\u001b[38;5;124m_max\u001b[39m\u001b[38;5;124m\"\u001b[39m: value[\u001b[38;5;241m1\u001b[39m],\n",
      "\u001b[1;32m    213\u001b[0m             }\n",
      "\u001b[1;32m    214\u001b[0m         )\n",
      "\u001b[1;32m    216\u001b[0m \u001b[38;5;28;01mif\u001b[39;00m material_ids:\n",
      "\u001b[1;32m    217\u001b[0m     query_params\u001b[38;5;241m.\u001b[39mupdate({\u001b[38;5;124m\"\u001b[39m\u001b[38;5;124mmaterial_ids\u001b[39m\u001b[38;5;124m\"\u001b[39m: \u001b[38;5;124m\"\u001b[39m\u001b[38;5;124m,\u001b[39m\u001b[38;5;124m\"\u001b[39m\u001b[38;5;241m.\u001b[39mjoin(validate_ids(material_ids))})\n",
      "\n",
      "\u001b[0;31mKeyError\u001b[0m: 0\n"
     ]
    },
    {
     "name": "stderr",
     "output_type": "stream",
     "text": [
      "Accessing summary data through MPRester.summary is deprecated. Please use MPRester.materials.summary instead.\n"
     ]
    }
   ],
   "source": [
    "from pymatgen.ext.matproj import MPRester\n",
    "from pymatgen.core.periodic_table import Element\n",
    "\n",
    "\n",
    "from api_key import APIKEY\n",
    "\n",
    "API_KEY = APIKEY\n",
    "\n",
    "def search_mofs_with_bandgap(min_gap, max_gap):\n",
    "    with MPRester(API_KEY) as mpr:\n",
    "        # Define the criteria for the search\n",
    "        criteria = {\n",
    "            \"pretty_formula\": {\"$regex\": \"MOF\"},\n",
    "            \"band_gap\": {\"$gte\": min_gap, \"$lte\": max_gap}\n",
    "        }\n",
    "\n",
    "        # Define the properties to return\n",
    "        properties = [\"material_id\", \"pretty_formula\", \"band_gap\"]\n",
    "\n",
    "        # Perform the search\n",
    "        results = mpr.summary.search(criteria, properties)\n",
    "\n",
    "        return results\n",
    "\n",
    "# Search for MOFs with a bandgap between 0.85 eV and 2.15 eV\n",
    "bandgap_results = search_mofs_with_bandgap(0.85, 2.15)\n",
    "\n",
    "# Print the results\n",
    "for result in bandgap_results:\n",
    "    print(f\"Material ID: {result['material_id']}, Formula: {result['pretty_formula']}, Bandgap: {result['band_gap']} eV\")\n"
   ]
  }
 ],
 "metadata": {
  "kernelspec": {
   "display_name": "base",
   "language": "python",
   "name": "python3"
  },
  "language_info": {
   "codemirror_mode": {
    "name": "ipython",
    "version": 3
   },
   "file_extension": ".py",
   "mimetype": "text/x-python",
   "name": "python",
   "nbconvert_exporter": "python",
   "pygments_lexer": "ipython3",
   "version": "3.11.5"
  },
  "orig_nbformat": 4
 },
 "nbformat": 4,
 "nbformat_minor": 2
}
