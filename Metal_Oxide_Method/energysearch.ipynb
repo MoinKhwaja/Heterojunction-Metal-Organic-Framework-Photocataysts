{
 "cells": [
  {
   "cell_type": "code",
   "execution_count": 1,
   "metadata": {},
   "outputs": [
    {
     "data": {
      "application/vnd.jupyter.widget-view+json": {
       "model_id": "827498a1a1f24df78855999cb3062219",
       "version_major": 2,
       "version_minor": 0
      },
      "text/plain": [
       "Retrieving SummaryDoc documents:   0%|          | 0/44898 [00:00<?, ?it/s]"
      ]
     },
     "metadata": {},
     "output_type": "display_data"
    },
    {
     "name": "stdout",
     "output_type": "stream",
     "text": [
      "44898\n"
     ]
    }
   ],
   "source": [
    "from mp_api.client import MPRester\n",
    "from api_key import APIKEY\n",
    "\n",
    "\n",
    "API_KEY = APIKEY\n",
    "\n",
    "with MPRester(API_KEY) as mpr:\n",
    "    docs = mpr.materials.summary.search(\n",
    "        energy_above_hull=(0, 0.008), fields=[\"material_id\"]\n",
    "    )\n",
    "    materials = [doc.material_id for doc in docs]\n",
    "\n",
    "print(len(mats))"
   ]
  },
  {
   "cell_type": "code",
   "execution_count": 2,
   "metadata": {},
   "outputs": [
    {
     "data": {
      "application/vnd.jupyter.widget-view+json": {
       "model_id": "0d31070d334b49528ea7b53f8998e7ed",
       "version_major": 2,
       "version_minor": 0
      },
      "text/plain": [
       "Retrieving SummaryDoc documents:   0%|          | 0/33990 [00:00<?, ?it/s]"
      ]
     },
     "metadata": {},
     "output_type": "display_data"
    },
    {
     "name": "stdout",
     "output_type": "stream",
     "text": [
      "33990\n"
     ]
    }
   ],
   "source": [
    "with MPRester(API_KEY) as mpr:\n",
    "    docs = mpr.materials.summary.search(\n",
    "        energy_above_hull=(0, 0.008), is_stable=True, fields=[\"material_id\"]\n",
    "    )\n",
    "    matsa = [doc.material_id for doc in docs]\n",
    "\n",
    "print(len(matsa))"
   ]
  },
  {
   "cell_type": "code",
   "execution_count": 3,
   "metadata": {},
   "outputs": [
    {
     "data": {
      "application/vnd.jupyter.widget-view+json": {
       "model_id": "b3c84982c3a04fbc866e7c462875538c",
       "version_major": 2,
       "version_minor": 0
      },
      "text/plain": [
       "Retrieving SummaryDoc documents:   0%|          | 0/153235 [00:00<?, ?it/s]"
      ]
     },
     "metadata": {},
     "output_type": "display_data"
    },
    {
     "name": "stdout",
     "output_type": "stream",
     "text": [
      "153235\n"
     ]
    }
   ],
   "source": [
    "with MPRester(API_KEY) as mpr:\n",
    "    docs = mpr.materials.summary.search(\n",
    "        fields=[\"material_id\"]\n",
    "    )\n",
    "    matsaa = [doc.material_id for doc in docs]\n",
    "\n",
    "print(len(matsaa))"
   ]
  }
 ],
 "metadata": {
  "kernelspec": {
   "display_name": "base",
   "language": "python",
   "name": "python3"
  },
  "language_info": {
   "codemirror_mode": {
    "name": "ipython",
    "version": 3
   },
   "file_extension": ".py",
   "mimetype": "text/x-python",
   "name": "python",
   "nbconvert_exporter": "python",
   "pygments_lexer": "ipython3",
   "version": "3.11.5"
  }
 },
 "nbformat": 4,
 "nbformat_minor": 2
}
