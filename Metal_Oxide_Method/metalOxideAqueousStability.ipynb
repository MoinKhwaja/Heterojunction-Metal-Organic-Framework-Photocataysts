{
 "cells": [
  {
   "cell_type": "code",
   "execution_count": 75,
   "metadata": {},
   "outputs": [],
   "source": [
    "from mp_api.client import MPRester\n",
    "from pymatgen.analysis.pourbaix_diagram import PourbaixDiagram, PourbaixPlotter, PourbaixEntry\n",
    "\n",
    "\n",
    "API_KEY = \"M3iWLItVErrMW5qgPwe5tzZFxjlROt1x\"  "
   ]
  },
  {
   "cell_type": "code",
   "execution_count": 76,
   "metadata": {},
   "outputs": [
    {
     "data": {
      "application/vnd.jupyter.widget-view+json": {
       "model_id": "791cb03207444929b20363d1d0892d37",
       "version_major": 2,
       "version_minor": 0
      },
      "text/plain": [
       "Retrieving MaterialsDoc documents:   0%|          | 0/1 [00:00<?, ?it/s]"
      ]
     },
     "metadata": {},
     "output_type": "display_data"
    },
    {
     "data": {
      "application/vnd.jupyter.widget-view+json": {
       "model_id": "55a9b09689cf4478926570614c3c5135",
       "version_major": 2,
       "version_minor": 0
      },
      "text/plain": [
       "Retrieving MaterialsDoc documents:   0%|          | 0/1 [00:00<?, ?it/s]"
      ]
     },
     "metadata": {},
     "output_type": "display_data"
    },
    {
     "name": "stdout",
     "output_type": "stream",
     "text": [
      "['O-Ti', 'O-Sn']\n",
      "[Composition('Ti1 O2'), Composition('Sn1 O2')]\n",
      "['mp-2657-GGA', 'mp-555487-GGA']\n"
     ]
    }
   ],
   "source": [
    "materials = [\"mp-2657\", \"mp-555487\"]\n",
    "mp_entries = []\n",
    "\n",
    "with MPRester(API_KEY) as mpr:\n",
    "    for mp_id in materials:\n",
    "        material_entries = mpr.materials.search(material_ids=[mp_id])\n",
    "\n",
    "        if material_entries:\n",
    "            mp_entries.append(material_entries[0])\n",
    "\n",
    "chemsys_list = [entry.chemsys for entry in mp_entries if hasattr(entry, 'chemsys')]\n",
    "composition_list = [entry.composition_reduced for entry in mp_entries if hasattr(entry, 'composition_reduced')]\n",
    "materials_gga = [material + \"-GGA\" for material in materials]\n",
    "\n",
    "print(chemsys_list)\n",
    "print(composition_list)\n",
    "print(materials_gga)"
   ]
  },
  {
   "cell_type": "code",
   "execution_count": 77,
   "metadata": {},
   "outputs": [
    {
     "data": {
      "application/vnd.jupyter.widget-view+json": {
       "model_id": "afac880dc059467cb7574c2b941a5388",
       "version_major": 2,
       "version_minor": 0
      },
      "text/plain": [
       "Retrieving ThermoDoc documents:   0%|          | 0/218 [00:00<?, ?it/s]"
      ]
     },
     "metadata": {},
     "output_type": "display_data"
    },
    {
     "data": {
      "application/vnd.jupyter.widget-view+json": {
       "model_id": "e4bd40c91b0f475a9193094c8a122e67",
       "version_major": 2,
       "version_minor": 0
      },
      "text/plain": [
       "Retrieving ThermoDoc documents:   0%|          | 0/124 [00:00<?, ?it/s]"
      ]
     },
     "metadata": {},
     "output_type": "display_data"
    }
   ],
   "source": [
    "pbx_data = []\n",
    "pbx_entries = []\n",
    "pbx_plots = []\n",
    "\n",
    "with MPRester(API_KEY) as mpr:\n",
    "    for i in chemsys_list:\n",
    "        pourbaix_entries = mpr.get_pourbaix_entries(i)\n",
    "        pbx_entries.append(pourbaix_entries)\n",
    "        pbx_diagram = PourbaixDiagram(pourbaix_entries)\n",
    "        pbx_data.append(pbx_diagram)  \n",
    "        pbx_plotter = PourbaixPlotter(pbx_diagram)\n",
    "        pbx_plots.append(pbx_plotter)\n"
   ]
  },
  {
   "cell_type": "code",
   "execution_count": 78,
   "metadata": {},
   "outputs": [
    {
     "name": "stdout",
     "output_type": "stream",
     "text": [
      "[PourbaixEntry(Ti2 O4 with energy = -9.6864, npH = -8.0, nPhi = -8.0, nH2O = 4.0, entry_id = 'mp-2657-GGA'), PourbaixEntry(Sn12 O24 with energy = -8.8371, npH = -48.0, nPhi = -48.0, nH2O = 24.0, entry_id = 'mp-555487-GGA')]\n"
     ]
    }
   ],
   "source": [
    "matched_entries = []\n",
    "\n",
    "for mat_id, entries in zip(materials_gga, pbx_entries):\n",
    "    matched_entry = next((entry for entry in entries if entry.entry_id == mat_id), None)\n",
    "    \n",
    "    if matched_entry:\n",
    "        matched_entries.append(matched_entry)\n",
    "    else:\n",
    "        matched_entries.append(None)\n",
    "\n",
    "print(matched_entries)"
   ]
  },
  {
   "cell_type": "code",
   "execution_count": 81,
   "metadata": {},
   "outputs": [
    {
     "name": "stdout",
     "output_type": "stream",
     "text": [
      "[0.037221306666667196, 0.011987455277777078]\n"
     ]
    }
   ],
   "source": [
    "stabilities = []\n",
    "\n",
    "for i, x in zip(pbx_data, matched_entries):\n",
    "    stability = i.get_decomposition_energy(x, 7, 0)\n",
    "    stabilities.append(stability)\n",
    "\n",
    "print(stabilities)\n"
   ]
  }
 ],
 "metadata": {
  "kernelspec": {
   "display_name": "base",
   "language": "python",
   "name": "python3"
  },
  "language_info": {
   "codemirror_mode": {
    "name": "ipython",
    "version": 3
   },
   "file_extension": ".py",
   "mimetype": "text/x-python",
   "name": "python",
   "nbconvert_exporter": "python",
   "pygments_lexer": "ipython3",
   "version": "3.11.5"
  },
  "orig_nbformat": 4
 },
 "nbformat": 4,
 "nbformat_minor": 2
}
