{
 "cells": [
  {
   "cell_type": "code",
   "execution_count": 3,
   "metadata": {},
   "outputs": [],
   "source": [
    "from mp_api.client import MPRester\n",
    "from pymatgen.analysis.pourbaix_diagram import PourbaixDiagram, PourbaixPlotter, PourbaixEntry\n",
    "\n",
    "\n",
    "API_KEY = \"M3iWLItVErrMW5qgPwe5tzZFxjlROt1x\"  # Replace with your actual API key"
   ]
  },
  {
   "cell_type": "code",
   "execution_count": 4,
   "metadata": {},
   "outputs": [
    {
     "data": {
      "application/vnd.jupyter.widget-view+json": {
       "model_id": "2610242803734380a1798d19ce9abd47",
       "version_major": 2,
       "version_minor": 0
      },
      "text/plain": [
       "Retrieving MaterialsDoc documents:   0%|          | 0/1 [00:00<?, ?it/s]"
      ]
     },
     "metadata": {},
     "output_type": "display_data"
    },
    {
     "data": {
      "application/vnd.jupyter.widget-view+json": {
       "model_id": "392b64eb3e9b4a8aae45d223c8156094",
       "version_major": 2,
       "version_minor": 0
      },
      "text/plain": [
       "Retrieving MaterialsDoc documents:   0%|          | 0/1 [00:00<?, ?it/s]"
      ]
     },
     "metadata": {},
     "output_type": "display_data"
    },
    {
     "name": "stdout",
     "output_type": "stream",
     "text": [
      "['O-Ti', 'B-O-Zn']\n",
      "[Composition('Ti1 O2'), Composition('Zn4 B6 O13')]\n",
      "['mp-2657-GGA', 'mp-4812-GGA']\n"
     ]
    }
   ],
   "source": [
    "materials = [\"mp-2657\", \"mp-4812\"]\n",
    "mp_entries = []\n",
    "\n",
    "with MPRester(API_KEY) as mpr:\n",
    "    for mp_id in materials:\n",
    "        # Search for materials and expect a list of results\n",
    "        material_entries = mpr.materials.search(material_ids=[mp_id])\n",
    "\n",
    "        # Check if the search returned any results\n",
    "        if material_entries:\n",
    "            # Append only the first MPDataDoc object from the results\n",
    "            mp_entries.append(material_entries[0])\n",
    "\n",
    "# Now extract the 'chemsys' attribute from each entry in mp_entries\n",
    "chemsys_list = [entry.chemsys for entry in mp_entries if hasattr(entry, 'chemsys')]\n",
    "composition_list = [entry.composition_reduced for entry in mp_entries if hasattr(entry, 'composition_reduced')]\n",
    "materials_gga = [material + \"-GGA\" for material in materials]\n",
    "\n",
    "# Print the chemsys attribute of each entry\n",
    "print(chemsys_list)\n",
    "print(composition_list)\n",
    "print(materials_gga)"
   ]
  },
  {
   "cell_type": "code",
   "execution_count": 8,
   "metadata": {},
   "outputs": [
    {
     "data": {
      "application/vnd.jupyter.widget-view+json": {
       "model_id": "5ae2b46004274ac596109eceadd7d609",
       "version_major": 2,
       "version_minor": 0
      },
      "text/plain": [
       "Retrieving ThermoDoc documents:   0%|          | 0/218 [00:00<?, ?it/s]"
      ]
     },
     "metadata": {},
     "output_type": "display_data"
    },
    {
     "data": {
      "application/vnd.jupyter.widget-view+json": {
       "model_id": "a41860b50596492ea562c932bde52f8a",
       "version_major": 2,
       "version_minor": 0
      },
      "text/plain": [
       "Retrieving ThermoDoc documents:   0%|          | 0/184 [00:00<?, ?it/s]"
      ]
     },
     "metadata": {},
     "output_type": "display_data"
    }
   ],
   "source": [
    "pbx_data = []\n",
    "pbx_entries = []\n",
    "\n",
    "with MPRester(API_KEY) as mpr:\n",
    "    for i in chemsys_list:\n",
    "        pourbaix_entries = mpr.get_pourbaix_entries(i)\n",
    "        pbx_entries.append(pourbaix_entries)\n",
    "        pbx_diagram = PourbaixDiagram(pourbaix_entries)\n",
    "        pbx_data.append(pbx_diagram)  "
   ]
  },
  {
   "cell_type": "code",
   "execution_count": 6,
   "metadata": {},
   "outputs": [
    {
     "name": "stdout",
     "output_type": "stream",
     "text": [
      "[PourbaixEntry(Ti2 O4 with energy = -9.6864, npH = -8.0, nPhi = -8.0, nH2O = 4.0, entry_id = 'mp-2657-GGA'), PourbaixEntry(Zn4 B6 O13 with energy = -21.6911, npH = -26.0, nPhi = -26.0, nH2O = 13.0, entry_id = 'mp-4812-GGA')]\n"
     ]
    }
   ],
   "source": [
    "matched_entries = []\n",
    "\n",
    "for mat_id, entries in zip(materials_gga, pbx_entries):\n",
    "    matched_entry = next((entry for entry in entries if entry.entry_id == mat_id), None)\n",
    "    \n",
    "    # Add the matched entry to the new list\n",
    "    if matched_entry:\n",
    "        matched_entries.append(matched_entry)\n",
    "    else:\n",
    "        # If no match is found, append None or handle as required\n",
    "        matched_entries.append(None)\n",
    "\n",
    "# 'matched_entries' now contains the matched PourbaixEntry objects or None for no match\n",
    "print(matched_entries)"
   ]
  },
  {
   "cell_type": "code",
   "execution_count": 7,
   "metadata": {},
   "outputs": [
    {
     "name": "stdout",
     "output_type": "stream",
     "text": [
      "\u001b[0;31m---------------------------------------------------------------------------\u001b[0m\n",
      "\u001b[0;31mTypeError\u001b[0m                                 Traceback (most recent call last)\n",
      "Cell \u001b[0;32mIn[7], line 5\u001b[0m\n",
      "\u001b[1;32m      3\u001b[0m \u001b[38;5;28;01mwith\u001b[39;00m MPRester(API_KEY) \u001b[38;5;28;01mas\u001b[39;00m mpr:\n",
      "\u001b[1;32m      4\u001b[0m     \u001b[38;5;28;01mfor\u001b[39;00m i \u001b[38;5;129;01min\u001b[39;00m matched_entries:\n",
      "\u001b[0;32m----> 5\u001b[0m         pbx_diagram \u001b[38;5;241m=\u001b[39m PourbaixDiagram(i)\n",
      "\u001b[1;32m      6\u001b[0m         pbx_diagrams\u001b[38;5;241m.\u001b[39mappend(pbx_diagram)\n",
      "\u001b[1;32m      7\u001b[0m \u001b[38;5;28mprint\u001b[39m(pbx_diagrams[\u001b[38;5;241m0\u001b[39m])\n",
      "\n",
      "File \u001b[0;32m~/anaconda3/lib/python3.11/site-packages/pymatgen/analysis/pourbaix_diagram.py:448\u001b[0m, in \u001b[0;36mPourbaixDiagram.__init__\u001b[0;34m(self, entries, comp_dict, conc_dict, filter_solids, nproc)\u001b[0m\n",
      "\u001b[1;32m    444\u001b[0m \u001b[38;5;28mself\u001b[39m\u001b[38;5;241m.\u001b[39mfilter_solids \u001b[38;5;241m=\u001b[39m filter_solids\n",
      "\u001b[1;32m    446\u001b[0m \u001b[38;5;66;03m# Get non-OH elements\u001b[39;00m\n",
      "\u001b[1;32m    447\u001b[0m \u001b[38;5;28mself\u001b[39m\u001b[38;5;241m.\u001b[39mpbx_elts \u001b[38;5;241m=\u001b[39m \u001b[38;5;28mlist\u001b[39m(\n",
      "\u001b[0;32m--> 448\u001b[0m     \u001b[38;5;28mset\u001b[39m(itertools\u001b[38;5;241m.\u001b[39mchain\u001b[38;5;241m.\u001b[39mfrom_iterable([entry\u001b[38;5;241m.\u001b[39mcomposition\u001b[38;5;241m.\u001b[39melements \u001b[38;5;28;01mfor\u001b[39;00m entry \u001b[38;5;129;01min\u001b[39;00m entries])) \u001b[38;5;241m-\u001b[39m ELEMENTS_HO\n",
      "\u001b[1;32m    449\u001b[0m )\n",
      "\u001b[1;32m    450\u001b[0m \u001b[38;5;28mself\u001b[39m\u001b[38;5;241m.\u001b[39mdim \u001b[38;5;241m=\u001b[39m \u001b[38;5;28mlen\u001b[39m(\u001b[38;5;28mself\u001b[39m\u001b[38;5;241m.\u001b[39mpbx_elts) \u001b[38;5;241m-\u001b[39m \u001b[38;5;241m1\u001b[39m\n",
      "\u001b[1;32m    452\u001b[0m \u001b[38;5;66;03m# Process multi-entry inputs\u001b[39;00m\n",
      "\n",
      "\u001b[0;31mTypeError\u001b[0m: 'PourbaixEntry' object is not iterable\n"
     ]
    }
   ],
   "source": [
    "\n"
   ]
  },
  {
   "cell_type": "code",
   "execution_count": null,
   "metadata": {},
   "outputs": [],
   "source": [
    "#pbx_diagram = PourbaixDiagram(pourbaix_entries)"
   ]
  },
  {
   "cell_type": "code",
   "execution_count": null,
   "metadata": {},
   "outputs": [],
   "source": [
    "#ti_o2_entry = None\n",
    "#for entry in pourbaix_entries:\n",
    "   # if entry.entry_id == \"mp-390-GGA\":  # Match the entry_id\n",
    "       # ti_o2_entry = entry\n",
    "     #   break#"
   ]
  },
  {
   "cell_type": "code",
   "execution_count": null,
   "metadata": {},
   "outputs": [],
   "source": [
    "#plotter = PourbaixPlotter(pbx_diagram)\n",
    "#plotter.plot_entry_stability(ti_o2_entry)"
   ]
  },
  {
   "cell_type": "code",
   "execution_count": null,
   "metadata": {},
   "outputs": [
    {
     "name": "stdout",
     "output_type": "stream",
     "text": [
      "0.006397966666667069\n"
     ]
    }
   ],
   "source": [
    "#pbx_entry = PourbaixEntry(ti_o2_entry)\n",
    "#stability_data = pbx_diagram.get_decomposition_energy(ti_o2_entry, 7, 0)\n",
    "#print(stability_data)"
   ]
  }
 ],
 "metadata": {
  "kernelspec": {
   "display_name": "base",
   "language": "python",
   "name": "python3"
  },
  "language_info": {
   "codemirror_mode": {
    "name": "ipython",
    "version": 3
   },
   "file_extension": ".py",
   "mimetype": "text/x-python",
   "name": "python",
   "nbconvert_exporter": "python",
   "pygments_lexer": "ipython3",
   "version": "3.11.5"
  },
  "orig_nbformat": 4
 },
 "nbformat": 4,
 "nbformat_minor": 2
}
