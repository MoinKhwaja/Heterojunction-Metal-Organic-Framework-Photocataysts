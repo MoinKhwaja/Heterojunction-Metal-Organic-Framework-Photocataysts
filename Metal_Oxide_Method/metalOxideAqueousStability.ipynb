{
 "cells": [
  {
   "cell_type": "code",
   "execution_count": 12,
   "metadata": {},
   "outputs": [
    {
     "data": {
      "application/vnd.jupyter.widget-view+json": {
       "model_id": "1adf5962f0a5444caac3298db70a3ea6",
       "version_major": 2,
       "version_minor": 0
      },
      "text/plain": [
       "Retrieving ThermoDoc documents:   0%|          | 0/218 [00:00<?, ?it/s]"
      ]
     },
     "metadata": {},
     "output_type": "display_data"
    }
   ],
   "source": [
    "from mp_api.client import MPRester\n",
    "from pymatgen.analysis.pourbaix_diagram import PourbaixDiagram, PourbaixPlotter, PourbaixEntry\n",
    "\n",
    "\n",
    "API_KEY = \"M3iWLItVErrMW5qgPwe5tzZFxjlROt1x\"  # Replace with your actual API key"
   ]
  },
  {
   "cell_type": "code",
   "execution_count": 45,
   "metadata": {},
   "outputs": [
    {
     "data": {
      "application/vnd.jupyter.widget-view+json": {
       "model_id": "22a33e3b1e2d4d8ca7434149516fefef",
       "version_major": 2,
       "version_minor": 0
      },
      "text/plain": [
       "Retrieving MaterialsDoc documents:   0%|          | 0/1 [00:00<?, ?it/s]"
      ]
     },
     "metadata": {},
     "output_type": "display_data"
    },
    {
     "data": {
      "application/vnd.jupyter.widget-view+json": {
       "model_id": "508a58a613814a07872ee0ce3b20a25c",
       "version_major": 2,
       "version_minor": 0
      },
      "text/plain": [
       "Retrieving MaterialsDoc documents:   0%|          | 0/1 [00:00<?, ?it/s]"
      ]
     },
     "metadata": {},
     "output_type": "display_data"
    },
    {
     "name": "stdout",
     "output_type": "stream",
     "text": [
      "['O-Ti', 'B-O-Zn']\n",
      "[Composition('Ti1 O2'), Composition('Zn4 B6 O13')]\n",
      "['mp-2657-GGA', 'mp-4812-GGA']\n"
     ]
    }
   ],
   "source": [
    "materials = [\"mp-2657\", \"mp-4812\"]\n",
    "mp_entries = []\n",
    "\n",
    "with MPRester(API_KEY) as mpr:\n",
    "    for mp_id in materials:\n",
    "        # Search for materials and expect a list of results\n",
    "        material_entries = mpr.materials.search(material_ids=[mp_id])\n",
    "\n",
    "        # Check if the search returned any results\n",
    "        if material_entries:\n",
    "            # Append only the first MPDataDoc object from the results\n",
    "            mp_entries.append(material_entries[0])\n",
    "\n",
    "# Now extract the 'chemsys' attribute from each entry in mp_entries\n",
    "chemsys_list = [entry.chemsys for entry in mp_entries if hasattr(entry, 'chemsys')]\n",
    "composition_list = [entry.composition_reduced for entry in mp_entries if hasattr(entry, 'composition_reduced')]\n",
    "materials_gga = [material + \"-GGA\" for material in materials]\n",
    "\n",
    "# Print the chemsys attribute of each entry\n",
    "print(chemsys_list)\n",
    "print(composition_list)\n",
    "print(materials_gga)"
   ]
  },
  {
   "cell_type": "code",
   "execution_count": 35,
   "metadata": {},
   "outputs": [
    {
     "data": {
      "application/vnd.jupyter.widget-view+json": {
       "model_id": "12a7c8bd24864bb88183cb2727445c68",
       "version_major": 2,
       "version_minor": 0
      },
      "text/plain": [
       "Retrieving ThermoDoc documents:   0%|          | 0/218 [00:00<?, ?it/s]"
      ]
     },
     "metadata": {},
     "output_type": "display_data"
    },
    {
     "data": {
      "application/vnd.jupyter.widget-view+json": {
       "model_id": "7b5eec85f4244c45bda8c46deb46985a",
       "version_major": 2,
       "version_minor": 0
      },
      "text/plain": [
       "Retrieving ThermoDoc documents:   0%|          | 0/184 [00:00<?, ?it/s]"
      ]
     },
     "metadata": {},
     "output_type": "display_data"
    }
   ],
   "source": [
    "pbx_data = []\n",
    "pbx_entries = []\n",
    "\n",
    "with MPRester(API_KEY) as mpr:\n",
    "    for i in chemsys_list:\n",
    "        pourbaix_entries = mpr.get_pourbaix_entries(i)\n",
    "        pbx_entries.append(pourbaix_entries)\n",
    "        pbx_diagram = PourbaixDiagram(pourbaix_entries)\n",
    "        pbx_data.append(pbx_diagram)  "
   ]
  },
  {
   "cell_type": "code",
   "execution_count": 50,
   "metadata": {},
   "outputs": [
    {
     "name": "stdout",
     "output_type": "stream",
     "text": [
      "<pymatgen.analysis.pourbaix_diagram.PourbaixDiagram object at 0x2a0d2fdd0>\n"
     ]
    }
   ],
   "source": []
  },
  {
   "cell_type": "code",
   "execution_count": 47,
   "metadata": {},
   "outputs": [
    {
     "name": "stdout",
     "output_type": "stream",
     "text": [
      "[PourbaixEntry(Ti2 O4 with energy = -9.6864, npH = -8.0, nPhi = -8.0, nH2O = 4.0, entry_id = 'mp-2657-GGA'), PourbaixEntry(Zn4 B6 O13 with energy = -21.6911, npH = -26.0, nPhi = -26.0, nH2O = 13.0, entry_id = 'mp-4812-GGA')]\n"
     ]
    }
   ],
   "source": [
    "matched_entries = []\n",
    "\n",
    "for mat_id, entries in zip(materials_gga, pbx_entries):\n",
    "    matched_entry = next((entry for entry in entries if entry.entry_id == mat_id), None)\n",
    "    \n",
    "    # Add the matched entry to the new list\n",
    "    if matched_entry:\n",
    "        matched_entries.append(matched_entry)\n",
    "    else:\n",
    "        # If no match is found, append None or handle as required\n",
    "        matched_entries.append(None)\n",
    "\n",
    "# 'matched_entries' now contains the matched PourbaixEntry objects or None for no match\n",
    "print(matched_entries)"
   ]
  },
  {
   "cell_type": "code",
   "execution_count": 49,
   "metadata": {},
   "outputs": [
    {
     "name": "stdout",
     "output_type": "stream",
     "text": [
      "\u001b[0;31m---------------------------------------------------------------------------\u001b[0m\n",
      "\u001b[0;31mValueError\u001b[0m                                Traceback (most recent call last)\n",
      "Cell \u001b[0;32mIn[49], line 5\u001b[0m\n",
      "\u001b[1;32m      3\u001b[0m \u001b[38;5;28;01mfor\u001b[39;00m i \u001b[38;5;129;01min\u001b[39;00m matched_entries:\n",
      "\u001b[1;32m      4\u001b[0m     pbx_entry \u001b[38;5;241m=\u001b[39m PourbaixEntry(i)\n",
      "\u001b[0;32m----> 5\u001b[0m     stability_data \u001b[38;5;241m=\u001b[39m pbx_diagram\u001b[38;5;241m.\u001b[39mget_decomposition_energy(i,\u001b[38;5;241m7\u001b[39m,\u001b[38;5;241m0\u001b[39m)\n",
      "\u001b[1;32m      6\u001b[0m     stability_list\u001b[38;5;241m.\u001b[39mappend(stability_data)\n",
      "\u001b[1;32m      8\u001b[0m \u001b[38;5;28mprint\u001b[39m(stability_list)\n",
      "\n",
      "File \u001b[0;32m~/anaconda3/lib/python3.11/site-packages/pymatgen/analysis/pourbaix_diagram.py:837\u001b[0m, in \u001b[0;36mPourbaixDiagram.get_decomposition_energy\u001b[0;34m(self, entry, pH, V)\u001b[0m\n",
      "\u001b[1;32m    833\u001b[0m entry_pbx_comp \u001b[38;5;241m=\u001b[39m Composition(\n",
      "\u001b[1;32m    834\u001b[0m     {elt: coeff \u001b[38;5;28;01mfor\u001b[39;00m elt, coeff \u001b[38;5;129;01min\u001b[39;00m entry\u001b[38;5;241m.\u001b[39mcomposition\u001b[38;5;241m.\u001b[39mitems() \u001b[38;5;28;01mif\u001b[39;00m elt \u001b[38;5;129;01mnot\u001b[39;00m \u001b[38;5;129;01min\u001b[39;00m ELEMENTS_HO}\n",
      "\u001b[1;32m    835\u001b[0m )\u001b[38;5;241m.\u001b[39mfractional_composition\n",
      "\u001b[1;32m    836\u001b[0m \u001b[38;5;28;01mif\u001b[39;00m entry_pbx_comp \u001b[38;5;241m!=\u001b[39m pbx_comp:\n",
      "\u001b[0;32m--> 837\u001b[0m     \u001b[38;5;28;01mraise\u001b[39;00m \u001b[38;5;167;01mValueError\u001b[39;00m(\u001b[38;5;124m\"\u001b[39m\u001b[38;5;124mComposition of stability entry does not match Pourbaix Diagram\u001b[39m\u001b[38;5;124m\"\u001b[39m)\n",
      "\u001b[1;32m    838\u001b[0m entry_normalized_energy \u001b[38;5;241m=\u001b[39m entry\u001b[38;5;241m.\u001b[39mnormalized_energy_at_conditions(pH, V)\n",
      "\u001b[1;32m    839\u001b[0m hull_energy \u001b[38;5;241m=\u001b[39m \u001b[38;5;28mself\u001b[39m\u001b[38;5;241m.\u001b[39mget_hull_energy(pH, V)\n",
      "\n",
      "\u001b[0;31mValueError\u001b[0m: Composition of stability entry does not match Pourbaix Diagram\n"
     ]
    }
   ],
   "source": [
    "stability_list = []\n",
    "\n",
    "for i in matched_entries:\n",
    "    pbx_entry = PourbaixEntry(i)\n",
    "    stability_data = pbx_diagram.get_decomposition_energy(i,7,0)\n",
    "    stability_list.append(stability_data)\n",
    "\n",
    "print(stability_list)\n"
   ]
  },
  {
   "cell_type": "code",
   "execution_count": null,
   "metadata": {},
   "outputs": [],
   "source": [
    "#pbx_diagram = PourbaixDiagram(pourbaix_entries)"
   ]
  },
  {
   "cell_type": "code",
   "execution_count": null,
   "metadata": {},
   "outputs": [],
   "source": [
    "#ti_o2_entry = None\n",
    "#for entry in pourbaix_entries:\n",
    "   # if entry.entry_id == \"mp-390-GGA\":  # Match the entry_id\n",
    "       # ti_o2_entry = entry\n",
    "     #   break#"
   ]
  },
  {
   "cell_type": "code",
   "execution_count": null,
   "metadata": {},
   "outputs": [],
   "source": [
    "#plotter = PourbaixPlotter(pbx_diagram)\n",
    "#plotter.plot_entry_stability(ti_o2_entry)"
   ]
  },
  {
   "cell_type": "code",
   "execution_count": null,
   "metadata": {},
   "outputs": [
    {
     "name": "stdout",
     "output_type": "stream",
     "text": [
      "0.006397966666667069\n"
     ]
    }
   ],
   "source": [
    "#pbx_entry = PourbaixEntry(ti_o2_entry)\n",
    "#stability_data = pbx_diagram.get_decomposition_energy(ti_o2_entry, 7, 0)\n",
    "#print(stability_data)"
   ]
  }
 ],
 "metadata": {
  "kernelspec": {
   "display_name": "base",
   "language": "python",
   "name": "python3"
  },
  "language_info": {
   "codemirror_mode": {
    "name": "ipython",
    "version": 3
   },
   "file_extension": ".py",
   "mimetype": "text/x-python",
   "name": "python",
   "nbconvert_exporter": "python",
   "pygments_lexer": "ipython3",
   "version": "3.11.5"
  },
  "orig_nbformat": 4
 },
 "nbformat": 4,
 "nbformat_minor": 2
}
