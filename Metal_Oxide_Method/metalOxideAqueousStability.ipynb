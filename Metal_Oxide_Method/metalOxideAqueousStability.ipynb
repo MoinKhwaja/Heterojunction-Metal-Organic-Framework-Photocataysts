{
 "cells": [
  {
   "cell_type": "markdown",
   "metadata": {},
   "source": [
    "The following code is to take a list of MP-IDs and get the gibbs energy of decomposition for each material. "
   ]
  },
  {
   "cell_type": "code",
   "execution_count": 2,
   "metadata": {},
   "outputs": [],
   "source": [
    "from mp_api.client import MPRester\n",
    "from pymatgen.analysis.pourbaix_diagram import PourbaixDiagram, PourbaixPlotter, PourbaixEntry\n",
    "\n",
    "from api_key import APIKEY\n",
    "\n",
    "API_KEY = APIKEY"
   ]
  },
  {
   "cell_type": "markdown",
   "metadata": {},
   "source": [
    "Take list of MP_IDs and get the material entries from the database\n",
    "\n",
    "from entries, collect the elemental chemsys and composition and create lists with that data\n",
    "\n",
    "create a new list with the material ids with \"gga\" added to search through the large list of data that will be generated in the next few cells"
   ]
  },
  {
   "cell_type": "code",
   "execution_count": 18,
   "metadata": {},
   "outputs": [
    {
     "data": {
      "application/vnd.jupyter.widget-view+json": {
       "model_id": "fc59aa8b91984531945fba18c3ad7664",
       "version_major": 2,
       "version_minor": 0
      },
      "text/plain": [
       "Retrieving MaterialsDoc documents:   0%|          | 0/1 [00:00<?, ?it/s]"
      ]
     },
     "metadata": {},
     "output_type": "display_data"
    },
    {
     "data": {
      "application/vnd.jupyter.widget-view+json": {
       "model_id": "e0672850c8ff4dafaaaf545264f7cdfb",
       "version_major": 2,
       "version_minor": 0
      },
      "text/plain": [
       "Retrieving MaterialsDoc documents:   0%|          | 0/1 [00:00<?, ?it/s]"
      ]
     },
     "metadata": {},
     "output_type": "display_data"
    },
    {
     "data": {
      "application/vnd.jupyter.widget-view+json": {
       "model_id": "0d25897da7354dfcb8eb5f5e545eaa2a",
       "version_major": 2,
       "version_minor": 0
      },
      "text/plain": [
       "Retrieving MaterialsDoc documents:   0%|          | 0/1 [00:00<?, ?it/s]"
      ]
     },
     "metadata": {},
     "output_type": "display_data"
    },
    {
     "data": {
      "application/vnd.jupyter.widget-view+json": {
       "model_id": "097f31711697450a8e35188b09aff65a",
       "version_major": 2,
       "version_minor": 0
      },
      "text/plain": [
       "Retrieving MaterialsDoc documents:   0%|          | 0/1 [00:00<?, ?it/s]"
      ]
     },
     "metadata": {},
     "output_type": "display_data"
    },
    {
     "data": {
      "application/vnd.jupyter.widget-view+json": {
       "model_id": "b6e99c702684471d867d457f6b31fb3a",
       "version_major": 2,
       "version_minor": 0
      },
      "text/plain": [
       "Retrieving MaterialsDoc documents:   0%|          | 0/1 [00:00<?, ?it/s]"
      ]
     },
     "metadata": {},
     "output_type": "display_data"
    },
    {
     "data": {
      "application/vnd.jupyter.widget-view+json": {
       "model_id": "639ee1211004478ab7c374b0dbd94a8a",
       "version_major": 2,
       "version_minor": 0
      },
      "text/plain": [
       "Retrieving MaterialsDoc documents:   0%|          | 0/1 [00:00<?, ?it/s]"
      ]
     },
     "metadata": {},
     "output_type": "display_data"
    },
    {
     "data": {
      "application/vnd.jupyter.widget-view+json": {
       "model_id": "1b476b9230a34caaa584194701b16b6a",
       "version_major": 2,
       "version_minor": 0
      },
      "text/plain": [
       "Retrieving MaterialsDoc documents:   0%|          | 0/1 [00:00<?, ?it/s]"
      ]
     },
     "metadata": {},
     "output_type": "display_data"
    },
    {
     "data": {
      "application/vnd.jupyter.widget-view+json": {
       "model_id": "c542a5dbe08b4dd1a9f2ba3bdc264785",
       "version_major": 2,
       "version_minor": 0
      },
      "text/plain": [
       "Retrieving MaterialsDoc documents:   0%|          | 0/1 [00:00<?, ?it/s]"
      ]
     },
     "metadata": {},
     "output_type": "display_data"
    },
    {
     "data": {
      "application/vnd.jupyter.widget-view+json": {
       "model_id": "727e4e50d6274bf8930d3986dc99c857",
       "version_major": 2,
       "version_minor": 0
      },
      "text/plain": [
       "Retrieving MaterialsDoc documents:   0%|          | 0/1 [00:00<?, ?it/s]"
      ]
     },
     "metadata": {},
     "output_type": "display_data"
    },
    {
     "data": {
      "application/vnd.jupyter.widget-view+json": {
       "model_id": "f3f8856cf31c48f6984669f5dfbe7d60",
       "version_major": 2,
       "version_minor": 0
      },
      "text/plain": [
       "Retrieving MaterialsDoc documents:   0%|          | 0/1 [00:00<?, ?it/s]"
      ]
     },
     "metadata": {},
     "output_type": "display_data"
    },
    {
     "data": {
      "application/vnd.jupyter.widget-view+json": {
       "model_id": "83524698f43f445b92c8ec46ed3fdc48",
       "version_major": 2,
       "version_minor": 0
      },
      "text/plain": [
       "Retrieving MaterialsDoc documents:   0%|          | 0/1 [00:00<?, ?it/s]"
      ]
     },
     "metadata": {},
     "output_type": "display_data"
    },
    {
     "data": {
      "application/vnd.jupyter.widget-view+json": {
       "model_id": "01a359ec902b4b78a68f30e6c84bbeb0",
       "version_major": 2,
       "version_minor": 0
      },
      "text/plain": [
       "Retrieving MaterialsDoc documents:   0%|          | 0/1 [00:00<?, ?it/s]"
      ]
     },
     "metadata": {},
     "output_type": "display_data"
    },
    {
     "data": {
      "application/vnd.jupyter.widget-view+json": {
       "model_id": "6c8777dd20b34d4193924f7d8e53b5cf",
       "version_major": 2,
       "version_minor": 0
      },
      "text/plain": [
       "Retrieving MaterialsDoc documents:   0%|          | 0/1 [00:00<?, ?it/s]"
      ]
     },
     "metadata": {},
     "output_type": "display_data"
    },
    {
     "data": {
      "application/vnd.jupyter.widget-view+json": {
       "model_id": "ece68a423f2e4d0286b93f3be2c8439d",
       "version_major": 2,
       "version_minor": 0
      },
      "text/plain": [
       "Retrieving MaterialsDoc documents:   0%|          | 0/1 [00:00<?, ?it/s]"
      ]
     },
     "metadata": {},
     "output_type": "display_data"
    },
    {
     "data": {
      "application/vnd.jupyter.widget-view+json": {
       "model_id": "9f10b9a7159d4754a8c0ee0b631eb564",
       "version_major": 2,
       "version_minor": 0
      },
      "text/plain": [
       "Retrieving MaterialsDoc documents:   0%|          | 0/1 [00:00<?, ?it/s]"
      ]
     },
     "metadata": {},
     "output_type": "display_data"
    },
    {
     "data": {
      "application/vnd.jupyter.widget-view+json": {
       "model_id": "2b935ca774b74d39972460e48722ec22",
       "version_major": 2,
       "version_minor": 0
      },
      "text/plain": [
       "Retrieving MaterialsDoc documents:   0%|          | 0/1 [00:00<?, ?it/s]"
      ]
     },
     "metadata": {},
     "output_type": "display_data"
    },
    {
     "data": {
      "application/vnd.jupyter.widget-view+json": {
       "model_id": "f12d82a32b7f4a54ae0be743cc826e97",
       "version_major": 2,
       "version_minor": 0
      },
      "text/plain": [
       "Retrieving MaterialsDoc documents:   0%|          | 0/1 [00:00<?, ?it/s]"
      ]
     },
     "metadata": {},
     "output_type": "display_data"
    },
    {
     "data": {
      "application/vnd.jupyter.widget-view+json": {
       "model_id": "ee5ff3b7a52d42b1b3c167d577a0832d",
       "version_major": 2,
       "version_minor": 0
      },
      "text/plain": [
       "Retrieving MaterialsDoc documents:   0%|          | 0/1 [00:00<?, ?it/s]"
      ]
     },
     "metadata": {},
     "output_type": "display_data"
    },
    {
     "data": {
      "application/vnd.jupyter.widget-view+json": {
       "model_id": "733e21d624c049899e42e326b058775d",
       "version_major": 2,
       "version_minor": 0
      },
      "text/plain": [
       "Retrieving MaterialsDoc documents:   0%|          | 0/1 [00:00<?, ?it/s]"
      ]
     },
     "metadata": {},
     "output_type": "display_data"
    },
    {
     "data": {
      "application/vnd.jupyter.widget-view+json": {
       "model_id": "81b1da0a00f347f4b421c0719dd17b1e",
       "version_major": 2,
       "version_minor": 0
      },
      "text/plain": [
       "Retrieving MaterialsDoc documents:   0%|          | 0/1 [00:00<?, ?it/s]"
      ]
     },
     "metadata": {},
     "output_type": "display_data"
    },
    {
     "data": {
      "application/vnd.jupyter.widget-view+json": {
       "model_id": "0401dd32a1c54c429ad58e468ac31347",
       "version_major": 2,
       "version_minor": 0
      },
      "text/plain": [
       "Retrieving MaterialsDoc documents:   0%|          | 0/1 [00:00<?, ?it/s]"
      ]
     },
     "metadata": {},
     "output_type": "display_data"
    },
    {
     "data": {
      "application/vnd.jupyter.widget-view+json": {
       "model_id": "190a0f9acb2d408ba6140c5e5dc94074",
       "version_major": 2,
       "version_minor": 0
      },
      "text/plain": [
       "Retrieving MaterialsDoc documents:   0%|          | 0/1 [00:00<?, ?it/s]"
      ]
     },
     "metadata": {},
     "output_type": "display_data"
    },
    {
     "data": {
      "application/vnd.jupyter.widget-view+json": {
       "model_id": "ba46989635ff4c78b315c3dc087702ee",
       "version_major": 2,
       "version_minor": 0
      },
      "text/plain": [
       "Retrieving MaterialsDoc documents:   0%|          | 0/1 [00:00<?, ?it/s]"
      ]
     },
     "metadata": {},
     "output_type": "display_data"
    },
    {
     "data": {
      "application/vnd.jupyter.widget-view+json": {
       "model_id": "3ab8b2a524694109b11f5a0f20bd3251",
       "version_major": 2,
       "version_minor": 0
      },
      "text/plain": [
       "Retrieving MaterialsDoc documents:   0%|          | 0/1 [00:00<?, ?it/s]"
      ]
     },
     "metadata": {},
     "output_type": "display_data"
    },
    {
     "data": {
      "application/vnd.jupyter.widget-view+json": {
       "model_id": "f85f8bd5907042acac052d87c64fca45",
       "version_major": 2,
       "version_minor": 0
      },
      "text/plain": [
       "Retrieving MaterialsDoc documents:   0%|          | 0/1 [00:00<?, ?it/s]"
      ]
     },
     "metadata": {},
     "output_type": "display_data"
    },
    {
     "data": {
      "application/vnd.jupyter.widget-view+json": {
       "model_id": "99d67f18184146359d4ac451b3f4c6bf",
       "version_major": 2,
       "version_minor": 0
      },
      "text/plain": [
       "Retrieving MaterialsDoc documents:   0%|          | 0/1 [00:00<?, ?it/s]"
      ]
     },
     "metadata": {},
     "output_type": "display_data"
    },
    {
     "data": {
      "application/vnd.jupyter.widget-view+json": {
       "model_id": "99bb55a14cf5495085e443ab0a459db0",
       "version_major": 2,
       "version_minor": 0
      },
      "text/plain": [
       "Retrieving MaterialsDoc documents:   0%|          | 0/1 [00:00<?, ?it/s]"
      ]
     },
     "metadata": {},
     "output_type": "display_data"
    },
    {
     "data": {
      "application/vnd.jupyter.widget-view+json": {
       "model_id": "ec4252e74dfd476d926623db96419fbd",
       "version_major": 2,
       "version_minor": 0
      },
      "text/plain": [
       "Retrieving MaterialsDoc documents:   0%|          | 0/1 [00:00<?, ?it/s]"
      ]
     },
     "metadata": {},
     "output_type": "display_data"
    },
    {
     "data": {
      "application/vnd.jupyter.widget-view+json": {
       "model_id": "a758149989f54d489125282c3a5aa333",
       "version_major": 2,
       "version_minor": 0
      },
      "text/plain": [
       "Retrieving MaterialsDoc documents:   0%|          | 0/1 [00:00<?, ?it/s]"
      ]
     },
     "metadata": {},
     "output_type": "display_data"
    },
    {
     "data": {
      "application/vnd.jupyter.widget-view+json": {
       "model_id": "e7991f2532da40bb9e40175508af34d8",
       "version_major": 2,
       "version_minor": 0
      },
      "text/plain": [
       "Retrieving MaterialsDoc documents:   0%|          | 0/1 [00:00<?, ?it/s]"
      ]
     },
     "metadata": {},
     "output_type": "display_data"
    },
    {
     "data": {
      "application/vnd.jupyter.widget-view+json": {
       "model_id": "d9ba4f15a3dd4c768816ba12bdb04dfe",
       "version_major": 2,
       "version_minor": 0
      },
      "text/plain": [
       "Retrieving MaterialsDoc documents:   0%|          | 0/1 [00:00<?, ?it/s]"
      ]
     },
     "metadata": {},
     "output_type": "display_data"
    },
    {
     "data": {
      "application/vnd.jupyter.widget-view+json": {
       "model_id": "56ff88a618b64ce0899eb8fafa1cdfe9",
       "version_major": 2,
       "version_minor": 0
      },
      "text/plain": [
       "Retrieving MaterialsDoc documents:   0%|          | 0/1 [00:00<?, ?it/s]"
      ]
     },
     "metadata": {},
     "output_type": "display_data"
    },
    {
     "data": {
      "application/vnd.jupyter.widget-view+json": {
       "model_id": "77a477f9f3374fafbd539dd0d6cfad5e",
       "version_major": 2,
       "version_minor": 0
      },
      "text/plain": [
       "Retrieving MaterialsDoc documents:   0%|          | 0/1 [00:00<?, ?it/s]"
      ]
     },
     "metadata": {},
     "output_type": "display_data"
    },
    {
     "data": {
      "application/vnd.jupyter.widget-view+json": {
       "model_id": "a6b1abd0ad384acdbd5ab4b5c45a1f6c",
       "version_major": 2,
       "version_minor": 0
      },
      "text/plain": [
       "Retrieving MaterialsDoc documents:   0%|          | 0/1 [00:00<?, ?it/s]"
      ]
     },
     "metadata": {},
     "output_type": "display_data"
    },
    {
     "data": {
      "application/vnd.jupyter.widget-view+json": {
       "model_id": "9f80cb53d5f849bcb4e3b86ecc91774f",
       "version_major": 2,
       "version_minor": 0
      },
      "text/plain": [
       "Retrieving MaterialsDoc documents:   0%|          | 0/1 [00:00<?, ?it/s]"
      ]
     },
     "metadata": {},
     "output_type": "display_data"
    },
    {
     "data": {
      "application/vnd.jupyter.widget-view+json": {
       "model_id": "254f596217504f6d9f587ef0117bab76",
       "version_major": 2,
       "version_minor": 0
      },
      "text/plain": [
       "Retrieving MaterialsDoc documents:   0%|          | 0/1 [00:00<?, ?it/s]"
      ]
     },
     "metadata": {},
     "output_type": "display_data"
    },
    {
     "data": {
      "application/vnd.jupyter.widget-view+json": {
       "model_id": "72090b64df444c6cba26f90b93e417de",
       "version_major": 2,
       "version_minor": 0
      },
      "text/plain": [
       "Retrieving MaterialsDoc documents:   0%|          | 0/1 [00:00<?, ?it/s]"
      ]
     },
     "metadata": {},
     "output_type": "display_data"
    },
    {
     "data": {
      "application/vnd.jupyter.widget-view+json": {
       "model_id": "78e27f53e3474fe5af724d76397db1a9",
       "version_major": 2,
       "version_minor": 0
      },
      "text/plain": [
       "Retrieving MaterialsDoc documents:   0%|          | 0/1 [00:00<?, ?it/s]"
      ]
     },
     "metadata": {},
     "output_type": "display_data"
    },
    {
     "data": {
      "application/vnd.jupyter.widget-view+json": {
       "model_id": "54d70b5f82ad48c19442d14d634e9ecd",
       "version_major": 2,
       "version_minor": 0
      },
      "text/plain": [
       "Retrieving MaterialsDoc documents:   0%|          | 0/1 [00:00<?, ?it/s]"
      ]
     },
     "metadata": {},
     "output_type": "display_data"
    },
    {
     "data": {
      "application/vnd.jupyter.widget-view+json": {
       "model_id": "a5805e680262454eba4033c180d13f04",
       "version_major": 2,
       "version_minor": 0
      },
      "text/plain": [
       "Retrieving MaterialsDoc documents:   0%|          | 0/1 [00:00<?, ?it/s]"
      ]
     },
     "metadata": {},
     "output_type": "display_data"
    },
    {
     "data": {
      "application/vnd.jupyter.widget-view+json": {
       "model_id": "19e4a1a70ce747a0890e5807d71be675",
       "version_major": 2,
       "version_minor": 0
      },
      "text/plain": [
       "Retrieving MaterialsDoc documents:   0%|          | 0/1 [00:00<?, ?it/s]"
      ]
     },
     "metadata": {},
     "output_type": "display_data"
    },
    {
     "data": {
      "application/vnd.jupyter.widget-view+json": {
       "model_id": "15cc9838fb8f433ba3bbe3075dde8fb2",
       "version_major": 2,
       "version_minor": 0
      },
      "text/plain": [
       "Retrieving MaterialsDoc documents:   0%|          | 0/1 [00:00<?, ?it/s]"
      ]
     },
     "metadata": {},
     "output_type": "display_data"
    },
    {
     "data": {
      "application/vnd.jupyter.widget-view+json": {
       "model_id": "3906d571cc3a4060a4ae0cbe034568b4",
       "version_major": 2,
       "version_minor": 0
      },
      "text/plain": [
       "Retrieving MaterialsDoc documents:   0%|          | 0/1 [00:00<?, ?it/s]"
      ]
     },
     "metadata": {},
     "output_type": "display_data"
    },
    {
     "data": {
      "application/vnd.jupyter.widget-view+json": {
       "model_id": "7cbe52dbb06c4b69bb3ef65f012776fc",
       "version_major": 2,
       "version_minor": 0
      },
      "text/plain": [
       "Retrieving MaterialsDoc documents:   0%|          | 0/1 [00:00<?, ?it/s]"
      ]
     },
     "metadata": {},
     "output_type": "display_data"
    },
    {
     "data": {
      "application/vnd.jupyter.widget-view+json": {
       "model_id": "aa254cf19e684bd99d32aa7d5c8b8b4f",
       "version_major": 2,
       "version_minor": 0
      },
      "text/plain": [
       "Retrieving MaterialsDoc documents:   0%|          | 0/1 [00:00<?, ?it/s]"
      ]
     },
     "metadata": {},
     "output_type": "display_data"
    },
    {
     "data": {
      "application/vnd.jupyter.widget-view+json": {
       "model_id": "898ad4658b9d43529a4c9dc0dd240578",
       "version_major": 2,
       "version_minor": 0
      },
      "text/plain": [
       "Retrieving MaterialsDoc documents:   0%|          | 0/1 [00:00<?, ?it/s]"
      ]
     },
     "metadata": {},
     "output_type": "display_data"
    },
    {
     "data": {
      "application/vnd.jupyter.widget-view+json": {
       "model_id": "6d8424a4247342809403b27de2367780",
       "version_major": 2,
       "version_minor": 0
      },
      "text/plain": [
       "Retrieving MaterialsDoc documents:   0%|          | 0/1 [00:00<?, ?it/s]"
      ]
     },
     "metadata": {},
     "output_type": "display_data"
    },
    {
     "data": {
      "application/vnd.jupyter.widget-view+json": {
       "model_id": "bd3a074e29384efb9396e80462c6cce0",
       "version_major": 2,
       "version_minor": 0
      },
      "text/plain": [
       "Retrieving MaterialsDoc documents:   0%|          | 0/1 [00:00<?, ?it/s]"
      ]
     },
     "metadata": {},
     "output_type": "display_data"
    },
    {
     "data": {
      "application/vnd.jupyter.widget-view+json": {
       "model_id": "870f0b740fc445769bb90b00a9b17591",
       "version_major": 2,
       "version_minor": 0
      },
      "text/plain": [
       "Retrieving MaterialsDoc documents:   0%|          | 0/1 [00:00<?, ?it/s]"
      ]
     },
     "metadata": {},
     "output_type": "display_data"
    },
    {
     "data": {
      "application/vnd.jupyter.widget-view+json": {
       "model_id": "9c7efabcf3604e4e94312a297d3d3133",
       "version_major": 2,
       "version_minor": 0
      },
      "text/plain": [
       "Retrieving MaterialsDoc documents:   0%|          | 0/1 [00:00<?, ?it/s]"
      ]
     },
     "metadata": {},
     "output_type": "display_data"
    },
    {
     "data": {
      "application/vnd.jupyter.widget-view+json": {
       "model_id": "b45fde1b9a88460a8666836f2b10b345",
       "version_major": 2,
       "version_minor": 0
      },
      "text/plain": [
       "Retrieving MaterialsDoc documents:   0%|          | 0/1 [00:00<?, ?it/s]"
      ]
     },
     "metadata": {},
     "output_type": "display_data"
    },
    {
     "data": {
      "application/vnd.jupyter.widget-view+json": {
       "model_id": "a9a929e81f1e4afeb88b48b321a3d3fd",
       "version_major": 2,
       "version_minor": 0
      },
      "text/plain": [
       "Retrieving MaterialsDoc documents:   0%|          | 0/1 [00:00<?, ?it/s]"
      ]
     },
     "metadata": {},
     "output_type": "display_data"
    },
    {
     "data": {
      "application/vnd.jupyter.widget-view+json": {
       "model_id": "81e4082e1a3f410b95a70dbe76539d92",
       "version_major": 2,
       "version_minor": 0
      },
      "text/plain": [
       "Retrieving MaterialsDoc documents:   0%|          | 0/1 [00:00<?, ?it/s]"
      ]
     },
     "metadata": {},
     "output_type": "display_data"
    },
    {
     "data": {
      "application/vnd.jupyter.widget-view+json": {
       "model_id": "d351d5b7c30b4fa7b3951cf287de3a88",
       "version_major": 2,
       "version_minor": 0
      },
      "text/plain": [
       "Retrieving MaterialsDoc documents:   0%|          | 0/1 [00:00<?, ?it/s]"
      ]
     },
     "metadata": {},
     "output_type": "display_data"
    },
    {
     "data": {
      "application/vnd.jupyter.widget-view+json": {
       "model_id": "14fab3b95a80415e814cdfe64dbf3c4e",
       "version_major": 2,
       "version_minor": 0
      },
      "text/plain": [
       "Retrieving MaterialsDoc documents:   0%|          | 0/1 [00:00<?, ?it/s]"
      ]
     },
     "metadata": {},
     "output_type": "display_data"
    },
    {
     "data": {
      "application/vnd.jupyter.widget-view+json": {
       "model_id": "8fd4625c623e41c8bb78891ff372cdf2",
       "version_major": 2,
       "version_minor": 0
      },
      "text/plain": [
       "Retrieving MaterialsDoc documents:   0%|          | 0/1 [00:00<?, ?it/s]"
      ]
     },
     "metadata": {},
     "output_type": "display_data"
    },
    {
     "data": {
      "application/vnd.jupyter.widget-view+json": {
       "model_id": "151dcbcb56d845eda3320e1fe77460ec",
       "version_major": 2,
       "version_minor": 0
      },
      "text/plain": [
       "Retrieving MaterialsDoc documents:   0%|          | 0/1 [00:00<?, ?it/s]"
      ]
     },
     "metadata": {},
     "output_type": "display_data"
    },
    {
     "data": {
      "application/vnd.jupyter.widget-view+json": {
       "model_id": "866f41cbb9fe4cf6908c898e4aa265a1",
       "version_major": 2,
       "version_minor": 0
      },
      "text/plain": [
       "Retrieving MaterialsDoc documents:   0%|          | 0/1 [00:00<?, ?it/s]"
      ]
     },
     "metadata": {},
     "output_type": "display_data"
    },
    {
     "data": {
      "application/vnd.jupyter.widget-view+json": {
       "model_id": "05e35f97c2b64106af43893999b1138f",
       "version_major": 2,
       "version_minor": 0
      },
      "text/plain": [
       "Retrieving MaterialsDoc documents:   0%|          | 0/1 [00:00<?, ?it/s]"
      ]
     },
     "metadata": {},
     "output_type": "display_data"
    },
    {
     "data": {
      "application/vnd.jupyter.widget-view+json": {
       "model_id": "8b33fc0fd255430289eed7de2405217c",
       "version_major": 2,
       "version_minor": 0
      },
      "text/plain": [
       "Retrieving MaterialsDoc documents:   0%|          | 0/1 [00:00<?, ?it/s]"
      ]
     },
     "metadata": {},
     "output_type": "display_data"
    },
    {
     "data": {
      "application/vnd.jupyter.widget-view+json": {
       "model_id": "f931d84f04eb482ab65a7b50e0d326ec",
       "version_major": 2,
       "version_minor": 0
      },
      "text/plain": [
       "Retrieving MaterialsDoc documents:   0%|          | 0/1 [00:00<?, ?it/s]"
      ]
     },
     "metadata": {},
     "output_type": "display_data"
    },
    {
     "data": {
      "application/vnd.jupyter.widget-view+json": {
       "model_id": "9f12f87946d040688ff56122b57bf26d",
       "version_major": 2,
       "version_minor": 0
      },
      "text/plain": [
       "Retrieving MaterialsDoc documents:   0%|          | 0/1 [00:00<?, ?it/s]"
      ]
     },
     "metadata": {},
     "output_type": "display_data"
    },
    {
     "data": {
      "application/vnd.jupyter.widget-view+json": {
       "model_id": "d9860b7bcf9442b084fe7139cf4d591c",
       "version_major": 2,
       "version_minor": 0
      },
      "text/plain": [
       "Retrieving MaterialsDoc documents:   0%|          | 0/1 [00:00<?, ?it/s]"
      ]
     },
     "metadata": {},
     "output_type": "display_data"
    },
    {
     "data": {
      "application/vnd.jupyter.widget-view+json": {
       "model_id": "17f4eb4deec14883b8adba4e3537f0a0",
       "version_major": 2,
       "version_minor": 0
      },
      "text/plain": [
       "Retrieving MaterialsDoc documents:   0%|          | 0/1 [00:00<?, ?it/s]"
      ]
     },
     "metadata": {},
     "output_type": "display_data"
    },
    {
     "data": {
      "application/vnd.jupyter.widget-view+json": {
       "model_id": "791e8f5b15614a019163c9af054256bb",
       "version_major": 2,
       "version_minor": 0
      },
      "text/plain": [
       "Retrieving MaterialsDoc documents:   0%|          | 0/1 [00:00<?, ?it/s]"
      ]
     },
     "metadata": {},
     "output_type": "display_data"
    },
    {
     "data": {
      "application/vnd.jupyter.widget-view+json": {
       "model_id": "6e106d27ad9b4b67a65f4792a46a64a9",
       "version_major": 2,
       "version_minor": 0
      },
      "text/plain": [
       "Retrieving MaterialsDoc documents:   0%|          | 0/1 [00:00<?, ?it/s]"
      ]
     },
     "metadata": {},
     "output_type": "display_data"
    },
    {
     "data": {
      "application/vnd.jupyter.widget-view+json": {
       "model_id": "e3df85b3715f46b9a8fb89adda8e0202",
       "version_major": 2,
       "version_minor": 0
      },
      "text/plain": [
       "Retrieving MaterialsDoc documents:   0%|          | 0/1 [00:00<?, ?it/s]"
      ]
     },
     "metadata": {},
     "output_type": "display_data"
    },
    {
     "data": {
      "application/vnd.jupyter.widget-view+json": {
       "model_id": "f8355b4de1bf4636b245870f349c0624",
       "version_major": 2,
       "version_minor": 0
      },
      "text/plain": [
       "Retrieving MaterialsDoc documents:   0%|          | 0/1 [00:00<?, ?it/s]"
      ]
     },
     "metadata": {},
     "output_type": "display_data"
    },
    {
     "data": {
      "application/vnd.jupyter.widget-view+json": {
       "model_id": "df416eee36374a25ad98ae1b38b95643",
       "version_major": 2,
       "version_minor": 0
      },
      "text/plain": [
       "Retrieving MaterialsDoc documents:   0%|          | 0/1 [00:00<?, ?it/s]"
      ]
     },
     "metadata": {},
     "output_type": "display_data"
    },
    {
     "data": {
      "application/vnd.jupyter.widget-view+json": {
       "model_id": "2a70ab4cbfee41e4a02c496099647474",
       "version_major": 2,
       "version_minor": 0
      },
      "text/plain": [
       "Retrieving MaterialsDoc documents:   0%|          | 0/1 [00:00<?, ?it/s]"
      ]
     },
     "metadata": {},
     "output_type": "display_data"
    },
    {
     "data": {
      "application/vnd.jupyter.widget-view+json": {
       "model_id": "262438bfb21b4707965a5a39370cf09e",
       "version_major": 2,
       "version_minor": 0
      },
      "text/plain": [
       "Retrieving MaterialsDoc documents:   0%|          | 0/1 [00:00<?, ?it/s]"
      ]
     },
     "metadata": {},
     "output_type": "display_data"
    },
    {
     "data": {
      "application/vnd.jupyter.widget-view+json": {
       "model_id": "66e26f5ed5bd4e4aaaaf34651f3bcfca",
       "version_major": 2,
       "version_minor": 0
      },
      "text/plain": [
       "Retrieving MaterialsDoc documents:   0%|          | 0/1 [00:00<?, ?it/s]"
      ]
     },
     "metadata": {},
     "output_type": "display_data"
    },
    {
     "data": {
      "application/vnd.jupyter.widget-view+json": {
       "model_id": "bac55e2324594c1c98ced334d9343e63",
       "version_major": 2,
       "version_minor": 0
      },
      "text/plain": [
       "Retrieving MaterialsDoc documents:   0%|          | 0/1 [00:00<?, ?it/s]"
      ]
     },
     "metadata": {},
     "output_type": "display_data"
    },
    {
     "data": {
      "application/vnd.jupyter.widget-view+json": {
       "model_id": "952683dc1f4f4db39d3c345e2bba7068",
       "version_major": 2,
       "version_minor": 0
      },
      "text/plain": [
       "Retrieving MaterialsDoc documents:   0%|          | 0/1 [00:00<?, ?it/s]"
      ]
     },
     "metadata": {},
     "output_type": "display_data"
    },
    {
     "data": {
      "application/vnd.jupyter.widget-view+json": {
       "model_id": "f462be40b115455084b8b1549ae1e3b9",
       "version_major": 2,
       "version_minor": 0
      },
      "text/plain": [
       "Retrieving MaterialsDoc documents:   0%|          | 0/1 [00:00<?, ?it/s]"
      ]
     },
     "metadata": {},
     "output_type": "display_data"
    },
    {
     "data": {
      "application/vnd.jupyter.widget-view+json": {
       "model_id": "3cb09812f14e47d5bd6b51633a55a933",
       "version_major": 2,
       "version_minor": 0
      },
      "text/plain": [
       "Retrieving MaterialsDoc documents:   0%|          | 0/1 [00:00<?, ?it/s]"
      ]
     },
     "metadata": {},
     "output_type": "display_data"
    },
    {
     "data": {
      "application/vnd.jupyter.widget-view+json": {
       "model_id": "31a337ecaf3749bb86b07ddbdcf52181",
       "version_major": 2,
       "version_minor": 0
      },
      "text/plain": [
       "Retrieving MaterialsDoc documents:   0%|          | 0/1 [00:00<?, ?it/s]"
      ]
     },
     "metadata": {},
     "output_type": "display_data"
    },
    {
     "data": {
      "application/vnd.jupyter.widget-view+json": {
       "model_id": "25f7b62557f3405aaa26ec83e21874e7",
       "version_major": 2,
       "version_minor": 0
      },
      "text/plain": [
       "Retrieving MaterialsDoc documents:   0%|          | 0/1 [00:00<?, ?it/s]"
      ]
     },
     "metadata": {},
     "output_type": "display_data"
    },
    {
     "data": {
      "application/vnd.jupyter.widget-view+json": {
       "model_id": "e13f275b8b3748e49b1fe3f81e535ebb",
       "version_major": 2,
       "version_minor": 0
      },
      "text/plain": [
       "Retrieving MaterialsDoc documents:   0%|          | 0/1 [00:00<?, ?it/s]"
      ]
     },
     "metadata": {},
     "output_type": "display_data"
    },
    {
     "data": {
      "application/vnd.jupyter.widget-view+json": {
       "model_id": "7e4a0862ead948c9b1ff2e78dfab0202",
       "version_major": 2,
       "version_minor": 0
      },
      "text/plain": [
       "Retrieving MaterialsDoc documents:   0%|          | 0/1 [00:00<?, ?it/s]"
      ]
     },
     "metadata": {},
     "output_type": "display_data"
    },
    {
     "data": {
      "application/vnd.jupyter.widget-view+json": {
       "model_id": "5787ba9e16fd4455b847cda78db82c4f",
       "version_major": 2,
       "version_minor": 0
      },
      "text/plain": [
       "Retrieving MaterialsDoc documents:   0%|          | 0/1 [00:00<?, ?it/s]"
      ]
     },
     "metadata": {},
     "output_type": "display_data"
    },
    {
     "data": {
      "application/vnd.jupyter.widget-view+json": {
       "model_id": "f5585b90487f4a0bbe05c6d0d9d4413f",
       "version_major": 2,
       "version_minor": 0
      },
      "text/plain": [
       "Retrieving MaterialsDoc documents:   0%|          | 0/1 [00:00<?, ?it/s]"
      ]
     },
     "metadata": {},
     "output_type": "display_data"
    },
    {
     "data": {
      "application/vnd.jupyter.widget-view+json": {
       "model_id": "f4dc22dace404239b104a065b5146263",
       "version_major": 2,
       "version_minor": 0
      },
      "text/plain": [
       "Retrieving MaterialsDoc documents:   0%|          | 0/1 [00:00<?, ?it/s]"
      ]
     },
     "metadata": {},
     "output_type": "display_data"
    }
   ],
   "source": [
    "materials = ['mp-37153', 'mp-3414', 'mp-28159', 'mp-554379', 'mp-30159', 'mp-644828', 'mp-557856', 'mp-558168', 'mp-540958','mp-557090', 'mp-27743', 'mp-554129', 'mp-28153', 'mp-557519', 'mp-557426', 'mp-1323553', 'mp-7922', 'mp-29169', 'mp-557715', 'mp-13984', 'mp-542001', 'mp-556492', 'mp-639662', 'mp-1391848', 'mp-558211','mp-554737', 'mp-29842', 'mp-541347','mp-557432', 'mp-29170', 'mp-27988','mp-532810', 'mp-12442', 'mp-554835', 'mp-3817','mp-22439', 'mp-7921', 'mp-557668', 'mp-1102938', 'mp-505727', 'mp-556500', 'mp-726118','mp-7388', 'mp-29193', 'mp-14716', 'mp-558838', 'mp-757594', 'mp-28845','mp-20652', 'mp-341', 'mp-649616', 'mp-14715', 'mp-8943', 'mp-20458', 'mp-553981','mp-35311', 'mp-1391273', 'mp-13610', 'mp-13983', 'mp-8256', 'mp-561423', 'mp-643265', 'mp-554432', 'mp-14276', 'mp-23598', 'mp-572526', 'mp-541259', 'mp-560354', 'mp-560789', 'mp-29904', 'mp-8778', 'mp-29590','mp-555718', 'mp-31755', 'mp-556442', 'mp-30308', 'mp-17542', 'mp-27980', 'mp-759957', 'mp-1194388', 'mp-757234', 'mp-1402840', 'mp-17512']\n",
    "mp_entries = []\n",
    "\n",
    "with MPRester(API_KEY) as mpr:\n",
    "    for mp_id in materials:\n",
    "        material_entries = mpr.materials.search(material_ids=[mp_id])\n",
    "\n",
    "        if material_entries:\n",
    "            mp_entries.append(material_entries[0])\n",
    "\n",
    "chemsys_list = [entry.chemsys for entry in mp_entries if hasattr(entry, 'chemsys')]\n",
    "composition_list = [entry.composition_reduced for entry in mp_entries if hasattr(entry, 'composition_reduced')]\n",
    "materials_gga = [material + \"-GGA\" for material in materials]\n",
    "materials_id = materials"
   ]
  },
  {
   "cell_type": "markdown",
   "metadata": {},
   "source": [
    "the elemental list must not contain O (oxegen) or H (hydrogen) to compute the pourbaix data, the remove_o_and_h function removes those from the chemical composisiotn list"
   ]
  },
  {
   "cell_type": "code",
   "execution_count": 19,
   "metadata": {},
   "outputs": [
    {
     "name": "stdout",
     "output_type": "stream",
     "text": [
      "83\n",
      "83\n"
     ]
    }
   ],
   "source": [
    "newlists = ['mp-37153', 'mp-3414', 'mp-28159', 'mp-554379', 'mp-30159', 'mp-644828', 'mp-557856', 'mp-558168', 'mp-540958','mp-557090', 'mp-27743', 'mp-554129', 'mp-28153', 'mp-557519', 'mp-557426', 'mp-1323553', 'mp-7922', 'mp-29169', 'mp-557715', 'mp-13984', 'mp-542001', 'mp-556492', 'mp-639662', 'mp-1391848', 'mp-558211','mp-554737', 'mp-29842', 'mp-541347','mp-557432', 'mp-29170', 'mp-27988','mp-532810', 'mp-12442', 'mp-554835', 'mp-3817','mp-22439', 'mp-7921', 'mp-557668', 'mp-1102938', 'mp-505727', 'mp-556500', 'mp-726118','mp-7388', 'mp-29193', 'mp-14716', 'mp-558838', 'mp-757594', 'mp-28845','mp-20652', 'mp-341', 'mp-649616', 'mp-14715', 'mp-8943', 'mp-20458', 'mp-553981','mp-35311', 'mp-1391273', 'mp-13610', 'mp-13983', 'mp-8256', 'mp-561423', 'mp-643265', 'mp-554432', 'mp-14276', 'mp-23598', 'mp-572526', 'mp-541259', 'mp-560354', 'mp-560789', 'mp-29904', 'mp-8778', 'mp-29590','mp-555718', 'mp-31755', 'mp-556442', 'mp-30308', 'mp-17542', 'mp-27980', 'mp-759957', 'mp-1194388', 'mp-757234', 'mp-1402840', 'mp-17512']\n",
    "\n",
    "print(len(materials_id))\n",
    "print(len(newlists))"
   ]
  },
  {
   "cell_type": "code",
   "execution_count": 20,
   "metadata": {},
   "outputs": [
    {
     "name": "stdout",
     "output_type": "stream",
     "text": [
      "[]\n"
     ]
    }
   ],
   "source": [
    "def find_duplicates(input_list):\n",
    "    duplicates = []\n",
    "    seen = set()\n",
    "    for item in input_list:\n",
    "        if item in seen:\n",
    "            duplicates.append(item)\n",
    "        else:\n",
    "            seen.add(item)\n",
    "    return duplicates\n",
    "\n",
    "my_list = [1, 2, 3, 2, 1, 5, 6, 5, 5, 7]\n",
    "print(find_duplicates(newlists))"
   ]
  },
  {
   "cell_type": "code",
   "execution_count": 21,
   "metadata": {},
   "outputs": [],
   "source": [
    "from pymatgen.core.composition import Composition\n",
    "\n",
    "def remove_o_and_h(composition):\n",
    "    new_composition_elements = []\n",
    "    for element, count in composition.get_el_amt_dict().items():\n",
    "        if element not in ['O', 'H']:\n",
    "            new_composition_elements.append(f\"{element}{int(count)}\")\n",
    "    new_composition_str = ' '.join(new_composition_elements)\n",
    "    return Composition(new_composition_str)\n",
    "\n",
    "filtered_molecules = [remove_o_and_h(molecule) for molecule in composition_list]"
   ]
  },
  {
   "cell_type": "markdown",
   "metadata": {},
   "source": [
    "the pourbaix charts also requires the elements to be in a percentage form, the calculate_percent_composition looks at the atoms per element in the composition list and converts it to a percentage"
   ]
  },
  {
   "cell_type": "code",
   "execution_count": 22,
   "metadata": {},
   "outputs": [],
   "source": [
    "from pymatgen.core.composition import Composition\n",
    "\n",
    "def calculate_percent_composition(molecule):\n",
    "    total_atoms = sum(molecule.values())\n",
    "    return {element.symbol: count / total_atoms for element, count in molecule.items()}\n",
    "\n",
    "percent_compositions = [calculate_percent_composition(molecule) for molecule in filtered_molecules]"
   ]
  },
  {
   "cell_type": "markdown",
   "metadata": {},
   "source": [
    "the following code takes the chemsys and percent composition and gets the pourbaix entries and converts it to data. some materials do not have a pourbaix entry to error is placed into the list, (lenght of list needs to match in a future function)"
   ]
  },
  {
   "cell_type": "code",
   "execution_count": 23,
   "metadata": {},
   "outputs": [
    {
     "data": {
      "application/vnd.jupyter.widget-view+json": {
       "model_id": "bcf705489f874dfd80df86950c480b92",
       "version_major": 2,
       "version_minor": 0
      },
      "text/plain": [
       "Retrieving ThermoDoc documents:   0%|          | 0/284 [00:00<?, ?it/s]"
      ]
     },
     "metadata": {},
     "output_type": "display_data"
    },
    {
     "data": {
      "application/vnd.jupyter.widget-view+json": {
       "model_id": "1c016fb7a1de4583b247287671ad5ce6",
       "version_major": 2,
       "version_minor": 0
      },
      "text/plain": [
       "Retrieving ThermoDoc documents:   0%|          | 0/385 [00:00<?, ?it/s]"
      ]
     },
     "metadata": {},
     "output_type": "display_data"
    },
    {
     "data": {
      "application/vnd.jupyter.widget-view+json": {
       "model_id": "b4e84653612342c082d1624af24338c9",
       "version_major": 2,
       "version_minor": 0
      },
      "text/plain": [
       "Retrieving ThermoDoc documents:   0%|          | 0/277 [00:00<?, ?it/s]"
      ]
     },
     "metadata": {},
     "output_type": "display_data"
    },
    {
     "data": {
      "application/vnd.jupyter.widget-view+json": {
       "model_id": "8084f73d86ed4a3da425246b67f777c9",
       "version_major": 2,
       "version_minor": 0
      },
      "text/plain": [
       "Retrieving ThermoDoc documents:   0%|          | 0/209 [00:00<?, ?it/s]"
      ]
     },
     "metadata": {},
     "output_type": "display_data"
    },
    {
     "data": {
      "application/vnd.jupyter.widget-view+json": {
       "model_id": "73eb1ccf686847d3b5ad259553947dd1",
       "version_major": 2,
       "version_minor": 0
      },
      "text/plain": [
       "Retrieving ThermoDoc documents:   0%|          | 0/247 [00:00<?, ?it/s]"
      ]
     },
     "metadata": {},
     "output_type": "display_data"
    },
    {
     "data": {
      "application/vnd.jupyter.widget-view+json": {
       "model_id": "e88b71a7a6d148a2939a674ae421d866",
       "version_major": 2,
       "version_minor": 0
      },
      "text/plain": [
       "Retrieving ThermoDoc documents:   0%|          | 0/174 [00:00<?, ?it/s]"
      ]
     },
     "metadata": {},
     "output_type": "display_data"
    },
    {
     "data": {
      "application/vnd.jupyter.widget-view+json": {
       "model_id": "b6978b1a8128404392cd1039c828d588",
       "version_major": 2,
       "version_minor": 0
      },
      "text/plain": [
       "Retrieving ThermoDoc documents:   0%|          | 0/382 [00:00<?, ?it/s]"
      ]
     },
     "metadata": {},
     "output_type": "display_data"
    },
    {
     "data": {
      "application/vnd.jupyter.widget-view+json": {
       "model_id": "bc628bdaa311467d92a69bf1d7e0712f",
       "version_major": 2,
       "version_minor": 0
      },
      "text/plain": [
       "Retrieving ThermoDoc documents:   0%|          | 0/290 [00:00<?, ?it/s]"
      ]
     },
     "metadata": {},
     "output_type": "display_data"
    },
    {
     "data": {
      "application/vnd.jupyter.widget-view+json": {
       "model_id": "9471840b6b7d43d7a1b1e036d119090c",
       "version_major": 2,
       "version_minor": 0
      },
      "text/plain": [
       "Retrieving ThermoDoc documents:   0%|          | 0/952 [00:00<?, ?it/s]"
      ]
     },
     "metadata": {},
     "output_type": "display_data"
    },
    {
     "data": {
      "application/vnd.jupyter.widget-view+json": {
       "model_id": "24cb16c40fd54ee9b6fd53974940329a",
       "version_major": 2,
       "version_minor": 0
      },
      "text/plain": [
       "Retrieving ThermoDoc documents:   0%|          | 0/357 [00:00<?, ?it/s]"
      ]
     },
     "metadata": {},
     "output_type": "display_data"
    },
    {
     "data": {
      "application/vnd.jupyter.widget-view+json": {
       "model_id": "ccbe57b725644b84ab8a9713ac8be1b7",
       "version_major": 2,
       "version_minor": 0
      },
      "text/plain": [
       "Retrieving ThermoDoc documents:   0%|          | 0/311 [00:00<?, ?it/s]"
      ]
     },
     "metadata": {},
     "output_type": "display_data"
    },
    {
     "data": {
      "application/vnd.jupyter.widget-view+json": {
       "model_id": "2894a11471b04bfeb88ebd57a4698010",
       "version_major": 2,
       "version_minor": 0
      },
      "text/plain": [
       "Retrieving ThermoDoc documents:   0%|          | 0/399 [00:00<?, ?it/s]"
      ]
     },
     "metadata": {},
     "output_type": "display_data"
    },
    {
     "data": {
      "application/vnd.jupyter.widget-view+json": {
       "model_id": "992a5e4a765f4c8c8765ecaeefa62018",
       "version_major": 2,
       "version_minor": 0
      },
      "text/plain": [
       "Retrieving ThermoDoc documents:   0%|          | 0/259 [00:00<?, ?it/s]"
      ]
     },
     "metadata": {},
     "output_type": "display_data"
    },
    {
     "data": {
      "application/vnd.jupyter.widget-view+json": {
       "model_id": "10f272b7cab84927b6d72aa7d85ee816",
       "version_major": 2,
       "version_minor": 0
      },
      "text/plain": [
       "Retrieving ThermoDoc documents:   0%|          | 0/479 [00:00<?, ?it/s]"
      ]
     },
     "metadata": {},
     "output_type": "display_data"
    },
    {
     "data": {
      "application/vnd.jupyter.widget-view+json": {
       "model_id": "27d66bb55a6e4c17b4b28bc9c11c1a61",
       "version_major": 2,
       "version_minor": 0
      },
      "text/plain": [
       "Retrieving ThermoDoc documents:   0%|          | 0/985 [00:00<?, ?it/s]"
      ]
     },
     "metadata": {},
     "output_type": "display_data"
    },
    {
     "data": {
      "application/vnd.jupyter.widget-view+json": {
       "model_id": "00d4a3232bbb4516b5b0c935a21e2ea0",
       "version_major": 2,
       "version_minor": 0
      },
      "text/plain": [
       "Retrieving ThermoDoc documents:   0%|          | 0/451 [00:00<?, ?it/s]"
      ]
     },
     "metadata": {},
     "output_type": "display_data"
    },
    {
     "data": {
      "application/vnd.jupyter.widget-view+json": {
       "model_id": "5e736fb7ef364b9d87cefc0577185f35",
       "version_major": 2,
       "version_minor": 0
      },
      "text/plain": [
       "Retrieving ThermoDoc documents:   0%|          | 0/275 [00:00<?, ?it/s]"
      ]
     },
     "metadata": {},
     "output_type": "display_data"
    },
    {
     "data": {
      "application/vnd.jupyter.widget-view+json": {
       "model_id": "a6e2bf50b97e485da9e9d60c75e96743",
       "version_major": 2,
       "version_minor": 0
      },
      "text/plain": [
       "Retrieving ThermoDoc documents:   0%|          | 0/231 [00:00<?, ?it/s]"
      ]
     },
     "metadata": {},
     "output_type": "display_data"
    },
    {
     "data": {
      "application/vnd.jupyter.widget-view+json": {
       "model_id": "f191642d31c04460aaae7287a6ddb1df",
       "version_major": 2,
       "version_minor": 0
      },
      "text/plain": [
       "Retrieving ThermoDoc documents:   0%|          | 0/231 [00:00<?, ?it/s]"
      ]
     },
     "metadata": {},
     "output_type": "display_data"
    },
    {
     "data": {
      "application/vnd.jupyter.widget-view+json": {
       "model_id": "e80c09eb4118497db7a6485cf3ee405a",
       "version_major": 2,
       "version_minor": 0
      },
      "text/plain": [
       "Retrieving ThermoDoc documents:   0%|          | 0/247 [00:00<?, ?it/s]"
      ]
     },
     "metadata": {},
     "output_type": "display_data"
    },
    {
     "data": {
      "application/vnd.jupyter.widget-view+json": {
       "model_id": "767c93e6f0ac4432a93eff91a1c775fa",
       "version_major": 2,
       "version_minor": 0
      },
      "text/plain": [
       "Retrieving ThermoDoc documents:   0%|          | 0/193 [00:00<?, ?it/s]"
      ]
     },
     "metadata": {},
     "output_type": "display_data"
    },
    {
     "data": {
      "application/vnd.jupyter.widget-view+json": {
       "model_id": "af1944d21e3f4aecb082202c306bf472",
       "version_major": 2,
       "version_minor": 0
      },
      "text/plain": [
       "Retrieving ThermoDoc documents:   0%|          | 0/565 [00:00<?, ?it/s]"
      ]
     },
     "metadata": {},
     "output_type": "display_data"
    },
    {
     "data": {
      "application/vnd.jupyter.widget-view+json": {
       "model_id": "980c11baa04348a0afd579d48e3d011e",
       "version_major": 2,
       "version_minor": 0
      },
      "text/plain": [
       "Retrieving ThermoDoc documents:   0%|          | 0/352 [00:00<?, ?it/s]"
      ]
     },
     "metadata": {},
     "output_type": "display_data"
    },
    {
     "data": {
      "application/vnd.jupyter.widget-view+json": {
       "model_id": "8f90e2fea2b14b97b9d2ec371f1221d8",
       "version_major": 2,
       "version_minor": 0
      },
      "text/plain": [
       "Retrieving ThermoDoc documents:   0%|          | 0/352 [00:00<?, ?it/s]"
      ]
     },
     "metadata": {},
     "output_type": "display_data"
    },
    {
     "data": {
      "application/vnd.jupyter.widget-view+json": {
       "model_id": "8ac5a47d2e6d48a4b11f5fe537e19f01",
       "version_major": 2,
       "version_minor": 0
      },
      "text/plain": [
       "Retrieving ThermoDoc documents:   0%|          | 0/557 [00:00<?, ?it/s]"
      ]
     },
     "metadata": {},
     "output_type": "display_data"
    },
    {
     "data": {
      "application/vnd.jupyter.widget-view+json": {
       "model_id": "9188ed92b781440ebdbe6938f53ddd0c",
       "version_major": 2,
       "version_minor": 0
      },
      "text/plain": [
       "Retrieving ThermoDoc documents:   0%|          | 0/238 [00:00<?, ?it/s]"
      ]
     },
     "metadata": {},
     "output_type": "display_data"
    },
    {
     "data": {
      "application/vnd.jupyter.widget-view+json": {
       "model_id": "dcb25e14031b40caa74d6aa91223f801",
       "version_major": 2,
       "version_minor": 0
      },
      "text/plain": [
       "Retrieving ThermoDoc documents:   0%|          | 0/253 [00:00<?, ?it/s]"
      ]
     },
     "metadata": {},
     "output_type": "display_data"
    },
    {
     "data": {
      "application/vnd.jupyter.widget-view+json": {
       "model_id": "3fdfd1f758284a678ef6e2e49a98185d",
       "version_major": 2,
       "version_minor": 0
      },
      "text/plain": [
       "Retrieving ThermoDoc documents:   0%|          | 0/211 [00:00<?, ?it/s]"
      ]
     },
     "metadata": {},
     "output_type": "display_data"
    },
    {
     "data": {
      "application/vnd.jupyter.widget-view+json": {
       "model_id": "07082217663f4c7eb699c7f7878050f8",
       "version_major": 2,
       "version_minor": 0
      },
      "text/plain": [
       "Retrieving ThermoDoc documents:   0%|          | 0/302 [00:00<?, ?it/s]"
      ]
     },
     "metadata": {},
     "output_type": "display_data"
    },
    {
     "data": {
      "application/vnd.jupyter.widget-view+json": {
       "model_id": "30c5f2e188fc49afaba9da99b8170e30",
       "version_major": 2,
       "version_minor": 0
      },
      "text/plain": [
       "Retrieving ThermoDoc documents:   0%|          | 0/242 [00:00<?, ?it/s]"
      ]
     },
     "metadata": {},
     "output_type": "display_data"
    },
    {
     "data": {
      "application/vnd.jupyter.widget-view+json": {
       "model_id": "96b4d2ca486f43c8997ce0d0cf35f525",
       "version_major": 2,
       "version_minor": 0
      },
      "text/plain": [
       "Retrieving ThermoDoc documents:   0%|          | 0/201 [00:00<?, ?it/s]"
      ]
     },
     "metadata": {},
     "output_type": "display_data"
    },
    {
     "data": {
      "application/vnd.jupyter.widget-view+json": {
       "model_id": "196dbb6977a340c6b8a06c3ac7c796e2",
       "version_major": 2,
       "version_minor": 0
      },
      "text/plain": [
       "Retrieving ThermoDoc documents:   0%|          | 0/834 [00:00<?, ?it/s]"
      ]
     },
     "metadata": {},
     "output_type": "display_data"
    },
    {
     "data": {
      "application/vnd.jupyter.widget-view+json": {
       "model_id": "48cdbf21c1ee40649ff5ce26b14f3d3e",
       "version_major": 2,
       "version_minor": 0
      },
      "text/plain": [
       "Retrieving ThermoDoc documents:   0%|          | 0/267 [00:00<?, ?it/s]"
      ]
     },
     "metadata": {},
     "output_type": "display_data"
    },
    {
     "data": {
      "application/vnd.jupyter.widget-view+json": {
       "model_id": "627c4018f30b40a3b1c3c086d04e1d6d",
       "version_major": 2,
       "version_minor": 0
      },
      "text/plain": [
       "Retrieving ThermoDoc documents:   0%|          | 0/1193 [00:00<?, ?it/s]"
      ]
     },
     "metadata": {},
     "output_type": "display_data"
    },
    {
     "data": {
      "application/vnd.jupyter.widget-view+json": {
       "model_id": "7f1bcadce58c426bb74a5be2522cf17e",
       "version_major": 2,
       "version_minor": 0
      },
      "text/plain": [
       "Retrieving ThermoDoc documents:   0%|          | 0/245 [00:00<?, ?it/s]"
      ]
     },
     "metadata": {},
     "output_type": "display_data"
    },
    {
     "data": {
      "application/vnd.jupyter.widget-view+json": {
       "model_id": "b86e1711295445eca560f94ac0cb9884",
       "version_major": 2,
       "version_minor": 0
      },
      "text/plain": [
       "Retrieving ThermoDoc documents:   0%|          | 0/390 [00:00<?, ?it/s]"
      ]
     },
     "metadata": {},
     "output_type": "display_data"
    },
    {
     "data": {
      "application/vnd.jupyter.widget-view+json": {
       "model_id": "b5320212f06c4e99b5971a7d113bb676",
       "version_major": 2,
       "version_minor": 0
      },
      "text/plain": [
       "Retrieving ThermoDoc documents:   0%|          | 0/293 [00:00<?, ?it/s]"
      ]
     },
     "metadata": {},
     "output_type": "display_data"
    },
    {
     "data": {
      "application/vnd.jupyter.widget-view+json": {
       "model_id": "116f27c6c45949ce84248ea5bc7d8cd5",
       "version_major": 2,
       "version_minor": 0
      },
      "text/plain": [
       "Retrieving ThermoDoc documents:   0%|          | 0/865 [00:00<?, ?it/s]"
      ]
     },
     "metadata": {},
     "output_type": "display_data"
    },
    {
     "data": {
      "application/vnd.jupyter.widget-view+json": {
       "model_id": "2c619c0913454ebabcbbe1b2a3503c06",
       "version_major": 2,
       "version_minor": 0
      },
      "text/plain": [
       "Retrieving ThermoDoc documents:   0%|          | 0/865 [00:00<?, ?it/s]"
      ]
     },
     "metadata": {},
     "output_type": "display_data"
    },
    {
     "data": {
      "application/vnd.jupyter.widget-view+json": {
       "model_id": "8908fa63f9b5468a9fd9fcffc2e363ca",
       "version_major": 2,
       "version_minor": 0
      },
      "text/plain": [
       "Retrieving ThermoDoc documents:   0%|          | 0/385 [00:00<?, ?it/s]"
      ]
     },
     "metadata": {},
     "output_type": "display_data"
    },
    {
     "data": {
      "application/vnd.jupyter.widget-view+json": {
       "model_id": "8770e0af8f4f4c8f984364153a488c77",
       "version_major": 2,
       "version_minor": 0
      },
      "text/plain": [
       "Retrieving ThermoDoc documents:   0%|          | 0/433 [00:00<?, ?it/s]"
      ]
     },
     "metadata": {},
     "output_type": "display_data"
    },
    {
     "data": {
      "application/vnd.jupyter.widget-view+json": {
       "model_id": "8f8be47545a94754befc872f953c75ca",
       "version_major": 2,
       "version_minor": 0
      },
      "text/plain": [
       "Retrieving ThermoDoc documents:   0%|          | 0/319 [00:00<?, ?it/s]"
      ]
     },
     "metadata": {},
     "output_type": "display_data"
    },
    {
     "data": {
      "application/vnd.jupyter.widget-view+json": {
       "model_id": "e05b890415e04bde985d62cab07560ac",
       "version_major": 2,
       "version_minor": 0
      },
      "text/plain": [
       "Retrieving ThermoDoc documents:   0%|          | 0/174 [00:00<?, ?it/s]"
      ]
     },
     "metadata": {},
     "output_type": "display_data"
    },
    {
     "data": {
      "application/vnd.jupyter.widget-view+json": {
       "model_id": "06b79bed2c9e43e48f27c154bd36194c",
       "version_major": 2,
       "version_minor": 0
      },
      "text/plain": [
       "Retrieving ThermoDoc documents:   0%|          | 0/161 [00:00<?, ?it/s]"
      ]
     },
     "metadata": {},
     "output_type": "display_data"
    },
    {
     "data": {
      "application/vnd.jupyter.widget-view+json": {
       "model_id": "04e71c00171046d5ad04bfc8c1089bc7",
       "version_major": 2,
       "version_minor": 0
      },
      "text/plain": [
       "Retrieving ThermoDoc documents:   0%|          | 0/237 [00:00<?, ?it/s]"
      ]
     },
     "metadata": {},
     "output_type": "display_data"
    },
    {
     "data": {
      "application/vnd.jupyter.widget-view+json": {
       "model_id": "6d254182d61043ad81bb76fffad735ca",
       "version_major": 2,
       "version_minor": 0
      },
      "text/plain": [
       "Retrieving ThermoDoc documents:   0%|          | 0/390 [00:00<?, ?it/s]"
      ]
     },
     "metadata": {},
     "output_type": "display_data"
    },
    {
     "data": {
      "application/vnd.jupyter.widget-view+json": {
       "model_id": "eb9f6b7a542640a79db70f93ad36da9e",
       "version_major": 2,
       "version_minor": 0
      },
      "text/plain": [
       "Retrieving ThermoDoc documents:   0%|          | 0/184 [00:00<?, ?it/s]"
      ]
     },
     "metadata": {},
     "output_type": "display_data"
    },
    {
     "data": {
      "application/vnd.jupyter.widget-view+json": {
       "model_id": "ff7750c7b1a94e9a91b03b1cdddabf58",
       "version_major": 2,
       "version_minor": 0
      },
      "text/plain": [
       "Retrieving ThermoDoc documents:   0%|          | 0/184 [00:00<?, ?it/s]"
      ]
     },
     "metadata": {},
     "output_type": "display_data"
    },
    {
     "data": {
      "application/vnd.jupyter.widget-view+json": {
       "model_id": "86e220d2e50d41eb8eb0b676b7c25cd4",
       "version_major": 2,
       "version_minor": 0
      },
      "text/plain": [
       "Retrieving ThermoDoc documents:   0%|          | 0/198 [00:00<?, ?it/s]"
      ]
     },
     "metadata": {},
     "output_type": "display_data"
    },
    {
     "data": {
      "application/vnd.jupyter.widget-view+json": {
       "model_id": "10f11faf8fa54384a8d607d3b5ac1c9d",
       "version_major": 2,
       "version_minor": 0
      },
      "text/plain": [
       "Retrieving ThermoDoc documents:   0%|          | 0/198 [00:00<?, ?it/s]"
      ]
     },
     "metadata": {},
     "output_type": "display_data"
    },
    {
     "data": {
      "application/vnd.jupyter.widget-view+json": {
       "model_id": "3805cae6f54145679b0ef9ab3dc1c615",
       "version_major": 2,
       "version_minor": 0
      },
      "text/plain": [
       "Retrieving ThermoDoc documents:   0%|          | 0/188 [00:00<?, ?it/s]"
      ]
     },
     "metadata": {},
     "output_type": "display_data"
    },
    {
     "data": {
      "application/vnd.jupyter.widget-view+json": {
       "model_id": "f78fae05a45f4d1fba28a980e2aa2533",
       "version_major": 2,
       "version_minor": 0
      },
      "text/plain": [
       "Retrieving ThermoDoc documents:   0%|          | 0/231 [00:00<?, ?it/s]"
      ]
     },
     "metadata": {},
     "output_type": "display_data"
    },
    {
     "data": {
      "application/vnd.jupyter.widget-view+json": {
       "model_id": "974abc13c0c341d487eb2cbff8a991f4",
       "version_major": 2,
       "version_minor": 0
      },
      "text/plain": [
       "Retrieving ThermoDoc documents:   0%|          | 0/201 [00:00<?, ?it/s]"
      ]
     },
     "metadata": {},
     "output_type": "display_data"
    },
    {
     "data": {
      "application/vnd.jupyter.widget-view+json": {
       "model_id": "c40acc1983814a90b5aee2012ec0e8b5",
       "version_major": 2,
       "version_minor": 0
      },
      "text/plain": [
       "Retrieving ThermoDoc documents:   0%|          | 0/268 [00:00<?, ?it/s]"
      ]
     },
     "metadata": {},
     "output_type": "display_data"
    },
    {
     "data": {
      "application/vnd.jupyter.widget-view+json": {
       "model_id": "44b989be8b5a487ea0d2b10567b17e6f",
       "version_major": 2,
       "version_minor": 0
      },
      "text/plain": [
       "Retrieving ThermoDoc documents:   0%|          | 0/901 [00:00<?, ?it/s]"
      ]
     },
     "metadata": {},
     "output_type": "display_data"
    },
    {
     "data": {
      "application/vnd.jupyter.widget-view+json": {
       "model_id": "7dfb0d4aa3e848d984909b285fbb6fc1",
       "version_major": 2,
       "version_minor": 0
      },
      "text/plain": [
       "Retrieving ThermoDoc documents:   0%|          | 0/459 [00:00<?, ?it/s]"
      ]
     },
     "metadata": {},
     "output_type": "display_data"
    },
    {
     "data": {
      "application/vnd.jupyter.widget-view+json": {
       "model_id": "00d89549a4374069aa0a7aa53c5bc531",
       "version_major": 2,
       "version_minor": 0
      },
      "text/plain": [
       "Retrieving ThermoDoc documents:   0%|          | 0/441 [00:00<?, ?it/s]"
      ]
     },
     "metadata": {},
     "output_type": "display_data"
    },
    {
     "data": {
      "application/vnd.jupyter.widget-view+json": {
       "model_id": "d0e980bda456404e805f994fdbd1160e",
       "version_major": 2,
       "version_minor": 0
      },
      "text/plain": [
       "Retrieving ThermoDoc documents:   0%|          | 0/269 [00:00<?, ?it/s]"
      ]
     },
     "metadata": {},
     "output_type": "display_data"
    },
    {
     "data": {
      "application/vnd.jupyter.widget-view+json": {
       "model_id": "3715ee134f2b493687db32458afa99ba",
       "version_major": 2,
       "version_minor": 0
      },
      "text/plain": [
       "Retrieving ThermoDoc documents:   0%|          | 0/269 [00:00<?, ?it/s]"
      ]
     },
     "metadata": {},
     "output_type": "display_data"
    },
    {
     "data": {
      "application/vnd.jupyter.widget-view+json": {
       "model_id": "9648cce7bffc423c810b149edc639d1d",
       "version_major": 2,
       "version_minor": 0
      },
      "text/plain": [
       "Retrieving ThermoDoc documents:   0%|          | 0/275 [00:00<?, ?it/s]"
      ]
     },
     "metadata": {},
     "output_type": "display_data"
    },
    {
     "data": {
      "application/vnd.jupyter.widget-view+json": {
       "model_id": "4c2cfc8022e14622a1c94ed2b3f7bebc",
       "version_major": 2,
       "version_minor": 0
      },
      "text/plain": [
       "Retrieving ThermoDoc documents:   0%|          | 0/323 [00:00<?, ?it/s]"
      ]
     },
     "metadata": {},
     "output_type": "display_data"
    },
    {
     "data": {
      "application/vnd.jupyter.widget-view+json": {
       "model_id": "8ed9618063f54b24a87883de1db6f9b4",
       "version_major": 2,
       "version_minor": 0
      },
      "text/plain": [
       "Retrieving ThermoDoc documents:   0%|          | 0/191 [00:00<?, ?it/s]"
      ]
     },
     "metadata": {},
     "output_type": "display_data"
    },
    {
     "data": {
      "application/vnd.jupyter.widget-view+json": {
       "model_id": "476784d2a8b34b95bee6250cba21bd33",
       "version_major": 2,
       "version_minor": 0
      },
      "text/plain": [
       "Retrieving ThermoDoc documents:   0%|          | 0/370 [00:00<?, ?it/s]"
      ]
     },
     "metadata": {},
     "output_type": "display_data"
    },
    {
     "data": {
      "application/vnd.jupyter.widget-view+json": {
       "model_id": "d1fbc546f2384ac5bc86b476601e065a",
       "version_major": 2,
       "version_minor": 0
      },
      "text/plain": [
       "Retrieving ThermoDoc documents:   0%|          | 0/234 [00:00<?, ?it/s]"
      ]
     },
     "metadata": {},
     "output_type": "display_data"
    },
    {
     "data": {
      "application/vnd.jupyter.widget-view+json": {
       "model_id": "d7f097916e4c4d08a0c7c3986277cd24",
       "version_major": 2,
       "version_minor": 0
      },
      "text/plain": [
       "Retrieving ThermoDoc documents:   0%|          | 0/352 [00:00<?, ?it/s]"
      ]
     },
     "metadata": {},
     "output_type": "display_data"
    },
    {
     "name": "stderr",
     "output_type": "stream",
     "text": [
      "spglib: ssm_get_exact_positions failed (attempt=0). (line 115, /tmp/pip-install-58cw25xt/spglib_6207849ab7c64022b27925c813b8e5ef/src/site_symmetry.c).\n",
      "spglib: ssm_get_exact_positions failed (attempt=1). (line 115, /tmp/pip-install-58cw25xt/spglib_6207849ab7c64022b27925c813b8e5ef/src/site_symmetry.c).\n",
      "spglib: ssm_get_exact_positions failed (attempt=2). (line 115, /tmp/pip-install-58cw25xt/spglib_6207849ab7c64022b27925c813b8e5ef/src/site_symmetry.c).\n",
      "spglib: ssm_get_exact_positions failed (attempt=3). (line 115, /tmp/pip-install-58cw25xt/spglib_6207849ab7c64022b27925c813b8e5ef/src/site_symmetry.c).\n",
      "spglib: ssm_get_exact_positions failed (attempt=4). (line 115, /tmp/pip-install-58cw25xt/spglib_6207849ab7c64022b27925c813b8e5ef/src/site_symmetry.c).\n",
      "spglib: ssm_get_exact_positions failed. (line 479, /tmp/pip-install-58cw25xt/spglib_6207849ab7c64022b27925c813b8e5ef/src/refinement.c).\n",
      "spglib: get_bravais_exact_positions_and_lattice failed. (line 336, /tmp/pip-install-58cw25xt/spglib_6207849ab7c64022b27925c813b8e5ef/src/refinement.c).\n",
      "spglib: ref_get_exact_structure_and_symmetry failed. (line 82, /tmp/pip-install-58cw25xt/spglib_6207849ab7c64022b27925c813b8e5ef/src/determination.c).\n",
      "spglib: ssm_get_exact_positions failed (attempt=0). (line 115, /tmp/pip-install-58cw25xt/spglib_6207849ab7c64022b27925c813b8e5ef/src/site_symmetry.c).\n",
      "spglib: ssm_get_exact_positions failed (attempt=1). (line 115, /tmp/pip-install-58cw25xt/spglib_6207849ab7c64022b27925c813b8e5ef/src/site_symmetry.c).\n",
      "spglib: ssm_get_exact_positions failed (attempt=2). (line 115, /tmp/pip-install-58cw25xt/spglib_6207849ab7c64022b27925c813b8e5ef/src/site_symmetry.c).\n",
      "spglib: ssm_get_exact_positions failed (attempt=3). (line 115, /tmp/pip-install-58cw25xt/spglib_6207849ab7c64022b27925c813b8e5ef/src/site_symmetry.c).\n",
      "spglib: ssm_get_exact_positions failed (attempt=4). (line 115, /tmp/pip-install-58cw25xt/spglib_6207849ab7c64022b27925c813b8e5ef/src/site_symmetry.c).\n",
      "spglib: ssm_get_exact_positions failed. (line 479, /tmp/pip-install-58cw25xt/spglib_6207849ab7c64022b27925c813b8e5ef/src/refinement.c).\n",
      "spglib: get_bravais_exact_positions_and_lattice failed. (line 336, /tmp/pip-install-58cw25xt/spglib_6207849ab7c64022b27925c813b8e5ef/src/refinement.c).\n",
      "spglib: ref_get_exact_structure_and_symmetry failed. (line 82, /tmp/pip-install-58cw25xt/spglib_6207849ab7c64022b27925c813b8e5ef/src/determination.c).\n",
      "spglib: ssm_get_exact_positions failed (attempt=0). (line 115, /tmp/pip-install-58cw25xt/spglib_6207849ab7c64022b27925c813b8e5ef/src/site_symmetry.c).\n",
      "spglib: ssm_get_exact_positions failed (attempt=1). (line 115, /tmp/pip-install-58cw25xt/spglib_6207849ab7c64022b27925c813b8e5ef/src/site_symmetry.c).\n",
      "spglib: ssm_get_exact_positions failed (attempt=2). (line 115, /tmp/pip-install-58cw25xt/spglib_6207849ab7c64022b27925c813b8e5ef/src/site_symmetry.c).\n",
      "spglib: ssm_get_exact_positions failed (attempt=3). (line 115, /tmp/pip-install-58cw25xt/spglib_6207849ab7c64022b27925c813b8e5ef/src/site_symmetry.c).\n",
      "spglib: ssm_get_exact_positions failed (attempt=4). (line 115, /tmp/pip-install-58cw25xt/spglib_6207849ab7c64022b27925c813b8e5ef/src/site_symmetry.c).\n",
      "spglib: ssm_get_exact_positions failed. (line 479, /tmp/pip-install-58cw25xt/spglib_6207849ab7c64022b27925c813b8e5ef/src/refinement.c).\n",
      "spglib: get_bravais_exact_positions_and_lattice failed. (line 336, /tmp/pip-install-58cw25xt/spglib_6207849ab7c64022b27925c813b8e5ef/src/refinement.c).\n",
      "spglib: ref_get_exact_structure_and_symmetry failed. (line 82, /tmp/pip-install-58cw25xt/spglib_6207849ab7c64022b27925c813b8e5ef/src/determination.c).\n",
      "spglib: ssm_get_exact_positions failed (attempt=0). (line 115, /tmp/pip-install-58cw25xt/spglib_6207849ab7c64022b27925c813b8e5ef/src/site_symmetry.c).\n",
      "spglib: ssm_get_exact_positions failed (attempt=1). (line 115, /tmp/pip-install-58cw25xt/spglib_6207849ab7c64022b27925c813b8e5ef/src/site_symmetry.c).\n",
      "spglib: ssm_get_exact_positions failed (attempt=2). (line 115, /tmp/pip-install-58cw25xt/spglib_6207849ab7c64022b27925c813b8e5ef/src/site_symmetry.c).\n",
      "spglib: ssm_get_exact_positions failed (attempt=3). (line 115, /tmp/pip-install-58cw25xt/spglib_6207849ab7c64022b27925c813b8e5ef/src/site_symmetry.c).\n",
      "spglib: ssm_get_exact_positions failed (attempt=4). (line 115, /tmp/pip-install-58cw25xt/spglib_6207849ab7c64022b27925c813b8e5ef/src/site_symmetry.c).\n",
      "spglib: ssm_get_exact_positions failed. (line 479, /tmp/pip-install-58cw25xt/spglib_6207849ab7c64022b27925c813b8e5ef/src/refinement.c).\n",
      "spglib: get_bravais_exact_positions_and_lattice failed. (line 336, /tmp/pip-install-58cw25xt/spglib_6207849ab7c64022b27925c813b8e5ef/src/refinement.c).\n",
      "spglib: ref_get_exact_structure_and_symmetry failed. (line 82, /tmp/pip-install-58cw25xt/spglib_6207849ab7c64022b27925c813b8e5ef/src/determination.c).\n",
      "spglib: ssm_get_exact_positions failed (attempt=0). (line 115, /tmp/pip-install-58cw25xt/spglib_6207849ab7c64022b27925c813b8e5ef/src/site_symmetry.c).\n",
      "spglib: ssm_get_exact_positions failed (attempt=1). (line 115, /tmp/pip-install-58cw25xt/spglib_6207849ab7c64022b27925c813b8e5ef/src/site_symmetry.c).\n",
      "spglib: ssm_get_exact_positions failed (attempt=2). (line 115, /tmp/pip-install-58cw25xt/spglib_6207849ab7c64022b27925c813b8e5ef/src/site_symmetry.c).\n",
      "spglib: ssm_get_exact_positions failed (attempt=3). (line 115, /tmp/pip-install-58cw25xt/spglib_6207849ab7c64022b27925c813b8e5ef/src/site_symmetry.c).\n",
      "spglib: ssm_get_exact_positions failed (attempt=4). (line 115, /tmp/pip-install-58cw25xt/spglib_6207849ab7c64022b27925c813b8e5ef/src/site_symmetry.c).\n",
      "spglib: ssm_get_exact_positions failed. (line 479, /tmp/pip-install-58cw25xt/spglib_6207849ab7c64022b27925c813b8e5ef/src/refinement.c).\n",
      "spglib: get_bravais_exact_positions_and_lattice failed. (line 336, /tmp/pip-install-58cw25xt/spglib_6207849ab7c64022b27925c813b8e5ef/src/refinement.c).\n",
      "spglib: ref_get_exact_structure_and_symmetry failed. (line 82, /tmp/pip-install-58cw25xt/spglib_6207849ab7c64022b27925c813b8e5ef/src/determination.c).\n",
      "spglib: ssm_get_exact_positions failed (attempt=0). (line 115, /tmp/pip-install-58cw25xt/spglib_6207849ab7c64022b27925c813b8e5ef/src/site_symmetry.c).\n",
      "spglib: ssm_get_exact_positions failed (attempt=1). (line 115, /tmp/pip-install-58cw25xt/spglib_6207849ab7c64022b27925c813b8e5ef/src/site_symmetry.c).\n",
      "spglib: ssm_get_exact_positions failed (attempt=2). (line 115, /tmp/pip-install-58cw25xt/spglib_6207849ab7c64022b27925c813b8e5ef/src/site_symmetry.c).\n",
      "spglib: ssm_get_exact_positions failed (attempt=3). (line 115, /tmp/pip-install-58cw25xt/spglib_6207849ab7c64022b27925c813b8e5ef/src/site_symmetry.c).\n",
      "spglib: ssm_get_exact_positions failed (attempt=4). (line 115, /tmp/pip-install-58cw25xt/spglib_6207849ab7c64022b27925c813b8e5ef/src/site_symmetry.c).\n",
      "spglib: ssm_get_exact_positions failed. (line 479, /tmp/pip-install-58cw25xt/spglib_6207849ab7c64022b27925c813b8e5ef/src/refinement.c).\n",
      "spglib: get_bravais_exact_positions_and_lattice failed. (line 336, /tmp/pip-install-58cw25xt/spglib_6207849ab7c64022b27925c813b8e5ef/src/refinement.c).\n",
      "spglib: ref_get_exact_structure_and_symmetry failed. (line 82, /tmp/pip-install-58cw25xt/spglib_6207849ab7c64022b27925c813b8e5ef/src/determination.c).\n",
      "spglib: ssm_get_exact_positions failed (attempt=0). (line 115, /tmp/pip-install-58cw25xt/spglib_6207849ab7c64022b27925c813b8e5ef/src/site_symmetry.c).\n",
      "spglib: ssm_get_exact_positions failed (attempt=1). (line 115, /tmp/pip-install-58cw25xt/spglib_6207849ab7c64022b27925c813b8e5ef/src/site_symmetry.c).\n",
      "spglib: ssm_get_exact_positions failed (attempt=2). (line 115, /tmp/pip-install-58cw25xt/spglib_6207849ab7c64022b27925c813b8e5ef/src/site_symmetry.c).\n",
      "spglib: ssm_get_exact_positions failed (attempt=3). (line 115, /tmp/pip-install-58cw25xt/spglib_6207849ab7c64022b27925c813b8e5ef/src/site_symmetry.c).\n",
      "spglib: ssm_get_exact_positions failed (attempt=4). (line 115, /tmp/pip-install-58cw25xt/spglib_6207849ab7c64022b27925c813b8e5ef/src/site_symmetry.c).\n",
      "spglib: ssm_get_exact_positions failed. (line 479, /tmp/pip-install-58cw25xt/spglib_6207849ab7c64022b27925c813b8e5ef/src/refinement.c).\n",
      "spglib: get_bravais_exact_positions_and_lattice failed. (line 336, /tmp/pip-install-58cw25xt/spglib_6207849ab7c64022b27925c813b8e5ef/src/refinement.c).\n",
      "spglib: ref_get_exact_structure_and_symmetry failed. (line 82, /tmp/pip-install-58cw25xt/spglib_6207849ab7c64022b27925c813b8e5ef/src/determination.c).\n",
      "spglib: ssm_get_exact_positions failed (attempt=0). (line 115, /tmp/pip-install-58cw25xt/spglib_6207849ab7c64022b27925c813b8e5ef/src/site_symmetry.c).\n",
      "spglib: ssm_get_exact_positions failed (attempt=1). (line 115, /tmp/pip-install-58cw25xt/spglib_6207849ab7c64022b27925c813b8e5ef/src/site_symmetry.c).\n",
      "spglib: ssm_get_exact_positions failed (attempt=2). (line 115, /tmp/pip-install-58cw25xt/spglib_6207849ab7c64022b27925c813b8e5ef/src/site_symmetry.c).\n",
      "spglib: ssm_get_exact_positions failed (attempt=3). (line 115, /tmp/pip-install-58cw25xt/spglib_6207849ab7c64022b27925c813b8e5ef/src/site_symmetry.c).\n",
      "spglib: ssm_get_exact_positions failed (attempt=4). (line 115, /tmp/pip-install-58cw25xt/spglib_6207849ab7c64022b27925c813b8e5ef/src/site_symmetry.c).\n",
      "spglib: ssm_get_exact_positions failed. (line 479, /tmp/pip-install-58cw25xt/spglib_6207849ab7c64022b27925c813b8e5ef/src/refinement.c).\n",
      "spglib: get_bravais_exact_positions_and_lattice failed. (line 336, /tmp/pip-install-58cw25xt/spglib_6207849ab7c64022b27925c813b8e5ef/src/refinement.c).\n",
      "spglib: ref_get_exact_structure_and_symmetry failed. (line 82, /tmp/pip-install-58cw25xt/spglib_6207849ab7c64022b27925c813b8e5ef/src/determination.c).\n",
      "spglib: ssm_get_exact_positions failed (attempt=0). (line 115, /tmp/pip-install-58cw25xt/spglib_6207849ab7c64022b27925c813b8e5ef/src/site_symmetry.c).\n",
      "spglib: ssm_get_exact_positions failed (attempt=1). (line 115, /tmp/pip-install-58cw25xt/spglib_6207849ab7c64022b27925c813b8e5ef/src/site_symmetry.c).\n",
      "spglib: ssm_get_exact_positions failed (attempt=2). (line 115, /tmp/pip-install-58cw25xt/spglib_6207849ab7c64022b27925c813b8e5ef/src/site_symmetry.c).\n",
      "spglib: ssm_get_exact_positions failed (attempt=3). (line 115, /tmp/pip-install-58cw25xt/spglib_6207849ab7c64022b27925c813b8e5ef/src/site_symmetry.c).\n",
      "spglib: ssm_get_exact_positions failed (attempt=4). (line 115, /tmp/pip-install-58cw25xt/spglib_6207849ab7c64022b27925c813b8e5ef/src/site_symmetry.c).\n",
      "spglib: ssm_get_exact_positions failed. (line 479, /tmp/pip-install-58cw25xt/spglib_6207849ab7c64022b27925c813b8e5ef/src/refinement.c).\n",
      "spglib: get_bravais_exact_positions_and_lattice failed. (line 336, /tmp/pip-install-58cw25xt/spglib_6207849ab7c64022b27925c813b8e5ef/src/refinement.c).\n",
      "spglib: ref_get_exact_structure_and_symmetry failed. (line 82, /tmp/pip-install-58cw25xt/spglib_6207849ab7c64022b27925c813b8e5ef/src/determination.c).\n",
      "spglib: ssm_get_exact_positions failed (attempt=0). (line 115, /tmp/pip-install-58cw25xt/spglib_6207849ab7c64022b27925c813b8e5ef/src/site_symmetry.c).\n",
      "spglib: ssm_get_exact_positions failed (attempt=1). (line 115, /tmp/pip-install-58cw25xt/spglib_6207849ab7c64022b27925c813b8e5ef/src/site_symmetry.c).\n",
      "spglib: ssm_get_exact_positions failed (attempt=2). (line 115, /tmp/pip-install-58cw25xt/spglib_6207849ab7c64022b27925c813b8e5ef/src/site_symmetry.c).\n",
      "spglib: ssm_get_exact_positions failed (attempt=3). (line 115, /tmp/pip-install-58cw25xt/spglib_6207849ab7c64022b27925c813b8e5ef/src/site_symmetry.c).\n",
      "spglib: ssm_get_exact_positions failed (attempt=4). (line 115, /tmp/pip-install-58cw25xt/spglib_6207849ab7c64022b27925c813b8e5ef/src/site_symmetry.c).\n",
      "spglib: ssm_get_exact_positions failed. (line 479, /tmp/pip-install-58cw25xt/spglib_6207849ab7c64022b27925c813b8e5ef/src/refinement.c).\n",
      "spglib: get_bravais_exact_positions_and_lattice failed. (line 336, /tmp/pip-install-58cw25xt/spglib_6207849ab7c64022b27925c813b8e5ef/src/refinement.c).\n",
      "spglib: ref_get_exact_structure_and_symmetry failed. (line 82, /tmp/pip-install-58cw25xt/spglib_6207849ab7c64022b27925c813b8e5ef/src/determination.c).\n",
      "spglib: ssm_get_exact_positions failed (attempt=0). (line 115, /tmp/pip-install-58cw25xt/spglib_6207849ab7c64022b27925c813b8e5ef/src/site_symmetry.c).\n",
      "spglib: ssm_get_exact_positions failed (attempt=1). (line 115, /tmp/pip-install-58cw25xt/spglib_6207849ab7c64022b27925c813b8e5ef/src/site_symmetry.c).\n",
      "spglib: ssm_get_exact_positions failed (attempt=2). (line 115, /tmp/pip-install-58cw25xt/spglib_6207849ab7c64022b27925c813b8e5ef/src/site_symmetry.c).\n",
      "spglib: ssm_get_exact_positions failed (attempt=3). (line 115, /tmp/pip-install-58cw25xt/spglib_6207849ab7c64022b27925c813b8e5ef/src/site_symmetry.c).\n",
      "spglib: ssm_get_exact_positions failed (attempt=4). (line 115, /tmp/pip-install-58cw25xt/spglib_6207849ab7c64022b27925c813b8e5ef/src/site_symmetry.c).\n",
      "spglib: ssm_get_exact_positions failed. (line 479, /tmp/pip-install-58cw25xt/spglib_6207849ab7c64022b27925c813b8e5ef/src/refinement.c).\n",
      "spglib: get_bravais_exact_positions_and_lattice failed. (line 336, /tmp/pip-install-58cw25xt/spglib_6207849ab7c64022b27925c813b8e5ef/src/refinement.c).\n",
      "spglib: ref_get_exact_structure_and_symmetry failed. (line 82, /tmp/pip-install-58cw25xt/spglib_6207849ab7c64022b27925c813b8e5ef/src/determination.c).\n",
      "spglib: ssm_get_exact_positions failed (attempt=0). (line 115, /tmp/pip-install-58cw25xt/spglib_6207849ab7c64022b27925c813b8e5ef/src/site_symmetry.c).\n",
      "spglib: ssm_get_exact_positions failed (attempt=1). (line 115, /tmp/pip-install-58cw25xt/spglib_6207849ab7c64022b27925c813b8e5ef/src/site_symmetry.c).\n",
      "spglib: ssm_get_exact_positions failed (attempt=2). (line 115, /tmp/pip-install-58cw25xt/spglib_6207849ab7c64022b27925c813b8e5ef/src/site_symmetry.c).\n",
      "spglib: ssm_get_exact_positions failed (attempt=3). (line 115, /tmp/pip-install-58cw25xt/spglib_6207849ab7c64022b27925c813b8e5ef/src/site_symmetry.c).\n",
      "spglib: ssm_get_exact_positions failed (attempt=4). (line 115, /tmp/pip-install-58cw25xt/spglib_6207849ab7c64022b27925c813b8e5ef/src/site_symmetry.c).\n",
      "spglib: ssm_get_exact_positions failed. (line 479, /tmp/pip-install-58cw25xt/spglib_6207849ab7c64022b27925c813b8e5ef/src/refinement.c).\n",
      "spglib: get_bravais_exact_positions_and_lattice failed. (line 336, /tmp/pip-install-58cw25xt/spglib_6207849ab7c64022b27925c813b8e5ef/src/refinement.c).\n",
      "spglib: ref_get_exact_structure_and_symmetry failed. (line 82, /tmp/pip-install-58cw25xt/spglib_6207849ab7c64022b27925c813b8e5ef/src/determination.c).\n",
      "spglib: ssm_get_exact_positions failed (attempt=0). (line 115, /tmp/pip-install-58cw25xt/spglib_6207849ab7c64022b27925c813b8e5ef/src/site_symmetry.c).\n",
      "spglib: ssm_get_exact_positions failed (attempt=1). (line 115, /tmp/pip-install-58cw25xt/spglib_6207849ab7c64022b27925c813b8e5ef/src/site_symmetry.c).\n",
      "spglib: ssm_get_exact_positions failed (attempt=2). (line 115, /tmp/pip-install-58cw25xt/spglib_6207849ab7c64022b27925c813b8e5ef/src/site_symmetry.c).\n",
      "spglib: ssm_get_exact_positions failed (attempt=3). (line 115, /tmp/pip-install-58cw25xt/spglib_6207849ab7c64022b27925c813b8e5ef/src/site_symmetry.c).\n",
      "spglib: ssm_get_exact_positions failed (attempt=4). (line 115, /tmp/pip-install-58cw25xt/spglib_6207849ab7c64022b27925c813b8e5ef/src/site_symmetry.c).\n",
      "spglib: ssm_get_exact_positions failed. (line 479, /tmp/pip-install-58cw25xt/spglib_6207849ab7c64022b27925c813b8e5ef/src/refinement.c).\n",
      "spglib: get_bravais_exact_positions_and_lattice failed. (line 336, /tmp/pip-install-58cw25xt/spglib_6207849ab7c64022b27925c813b8e5ef/src/refinement.c).\n",
      "spglib: ref_get_exact_structure_and_symmetry failed. (line 82, /tmp/pip-install-58cw25xt/spglib_6207849ab7c64022b27925c813b8e5ef/src/determination.c).\n",
      "spglib: ssm_get_exact_positions failed (attempt=0). (line 115, /tmp/pip-install-58cw25xt/spglib_6207849ab7c64022b27925c813b8e5ef/src/site_symmetry.c).\n",
      "spglib: ssm_get_exact_positions failed (attempt=1). (line 115, /tmp/pip-install-58cw25xt/spglib_6207849ab7c64022b27925c813b8e5ef/src/site_symmetry.c).\n",
      "spglib: ssm_get_exact_positions failed (attempt=2). (line 115, /tmp/pip-install-58cw25xt/spglib_6207849ab7c64022b27925c813b8e5ef/src/site_symmetry.c).\n",
      "spglib: ssm_get_exact_positions failed (attempt=3). (line 115, /tmp/pip-install-58cw25xt/spglib_6207849ab7c64022b27925c813b8e5ef/src/site_symmetry.c).\n",
      "spglib: ssm_get_exact_positions failed (attempt=4). (line 115, /tmp/pip-install-58cw25xt/spglib_6207849ab7c64022b27925c813b8e5ef/src/site_symmetry.c).\n",
      "spglib: ssm_get_exact_positions failed. (line 479, /tmp/pip-install-58cw25xt/spglib_6207849ab7c64022b27925c813b8e5ef/src/refinement.c).\n",
      "spglib: get_bravais_exact_positions_and_lattice failed. (line 336, /tmp/pip-install-58cw25xt/spglib_6207849ab7c64022b27925c813b8e5ef/src/refinement.c).\n",
      "spglib: ref_get_exact_structure_and_symmetry failed. (line 82, /tmp/pip-install-58cw25xt/spglib_6207849ab7c64022b27925c813b8e5ef/src/determination.c).\n",
      "spglib: ssm_get_exact_positions failed (attempt=0). (line 115, /tmp/pip-install-58cw25xt/spglib_6207849ab7c64022b27925c813b8e5ef/src/site_symmetry.c).\n",
      "spglib: ssm_get_exact_positions failed (attempt=1). (line 115, /tmp/pip-install-58cw25xt/spglib_6207849ab7c64022b27925c813b8e5ef/src/site_symmetry.c).\n",
      "spglib: ssm_get_exact_positions failed (attempt=2). (line 115, /tmp/pip-install-58cw25xt/spglib_6207849ab7c64022b27925c813b8e5ef/src/site_symmetry.c).\n",
      "spglib: ssm_get_exact_positions failed (attempt=3). (line 115, /tmp/pip-install-58cw25xt/spglib_6207849ab7c64022b27925c813b8e5ef/src/site_symmetry.c).\n",
      "spglib: ssm_get_exact_positions failed (attempt=4). (line 115, /tmp/pip-install-58cw25xt/spglib_6207849ab7c64022b27925c813b8e5ef/src/site_symmetry.c).\n",
      "spglib: ssm_get_exact_positions failed. (line 479, /tmp/pip-install-58cw25xt/spglib_6207849ab7c64022b27925c813b8e5ef/src/refinement.c).\n",
      "spglib: get_bravais_exact_positions_and_lattice failed. (line 336, /tmp/pip-install-58cw25xt/spglib_6207849ab7c64022b27925c813b8e5ef/src/refinement.c).\n",
      "spglib: ref_get_exact_structure_and_symmetry failed. (line 82, /tmp/pip-install-58cw25xt/spglib_6207849ab7c64022b27925c813b8e5ef/src/determination.c).\n",
      "spglib: ssm_get_exact_positions failed (attempt=0). (line 115, /tmp/pip-install-58cw25xt/spglib_6207849ab7c64022b27925c813b8e5ef/src/site_symmetry.c).\n",
      "spglib: ssm_get_exact_positions failed (attempt=1). (line 115, /tmp/pip-install-58cw25xt/spglib_6207849ab7c64022b27925c813b8e5ef/src/site_symmetry.c).\n",
      "spglib: ssm_get_exact_positions failed (attempt=2). (line 115, /tmp/pip-install-58cw25xt/spglib_6207849ab7c64022b27925c813b8e5ef/src/site_symmetry.c).\n",
      "spglib: ssm_get_exact_positions failed (attempt=3). (line 115, /tmp/pip-install-58cw25xt/spglib_6207849ab7c64022b27925c813b8e5ef/src/site_symmetry.c).\n",
      "spglib: ssm_get_exact_positions failed (attempt=4). (line 115, /tmp/pip-install-58cw25xt/spglib_6207849ab7c64022b27925c813b8e5ef/src/site_symmetry.c).\n",
      "spglib: ssm_get_exact_positions failed. (line 479, /tmp/pip-install-58cw25xt/spglib_6207849ab7c64022b27925c813b8e5ef/src/refinement.c).\n",
      "spglib: get_bravais_exact_positions_and_lattice failed. (line 336, /tmp/pip-install-58cw25xt/spglib_6207849ab7c64022b27925c813b8e5ef/src/refinement.c).\n",
      "spglib: ref_get_exact_structure_and_symmetry failed. (line 82, /tmp/pip-install-58cw25xt/spglib_6207849ab7c64022b27925c813b8e5ef/src/determination.c).\n",
      "spglib: ssm_get_exact_positions failed (attempt=0). (line 115, /tmp/pip-install-58cw25xt/spglib_6207849ab7c64022b27925c813b8e5ef/src/site_symmetry.c).\n",
      "spglib: ssm_get_exact_positions failed (attempt=1). (line 115, /tmp/pip-install-58cw25xt/spglib_6207849ab7c64022b27925c813b8e5ef/src/site_symmetry.c).\n",
      "spglib: ssm_get_exact_positions failed (attempt=2). (line 115, /tmp/pip-install-58cw25xt/spglib_6207849ab7c64022b27925c813b8e5ef/src/site_symmetry.c).\n",
      "spglib: ssm_get_exact_positions failed (attempt=3). (line 115, /tmp/pip-install-58cw25xt/spglib_6207849ab7c64022b27925c813b8e5ef/src/site_symmetry.c).\n",
      "spglib: ssm_get_exact_positions failed (attempt=4). (line 115, /tmp/pip-install-58cw25xt/spglib_6207849ab7c64022b27925c813b8e5ef/src/site_symmetry.c).\n",
      "spglib: ssm_get_exact_positions failed. (line 479, /tmp/pip-install-58cw25xt/spglib_6207849ab7c64022b27925c813b8e5ef/src/refinement.c).\n",
      "spglib: get_bravais_exact_positions_and_lattice failed. (line 336, /tmp/pip-install-58cw25xt/spglib_6207849ab7c64022b27925c813b8e5ef/src/refinement.c).\n",
      "spglib: ref_get_exact_structure_and_symmetry failed. (line 82, /tmp/pip-install-58cw25xt/spglib_6207849ab7c64022b27925c813b8e5ef/src/determination.c).\n",
      "spglib: ssm_get_exact_positions failed (attempt=0). (line 115, /tmp/pip-install-58cw25xt/spglib_6207849ab7c64022b27925c813b8e5ef/src/site_symmetry.c).\n",
      "spglib: ssm_get_exact_positions failed (attempt=1). (line 115, /tmp/pip-install-58cw25xt/spglib_6207849ab7c64022b27925c813b8e5ef/src/site_symmetry.c).\n",
      "spglib: ssm_get_exact_positions failed (attempt=2). (line 115, /tmp/pip-install-58cw25xt/spglib_6207849ab7c64022b27925c813b8e5ef/src/site_symmetry.c).\n",
      "spglib: ssm_get_exact_positions failed (attempt=3). (line 115, /tmp/pip-install-58cw25xt/spglib_6207849ab7c64022b27925c813b8e5ef/src/site_symmetry.c).\n",
      "spglib: ssm_get_exact_positions failed (attempt=4). (line 115, /tmp/pip-install-58cw25xt/spglib_6207849ab7c64022b27925c813b8e5ef/src/site_symmetry.c).\n",
      "spglib: ssm_get_exact_positions failed. (line 479, /tmp/pip-install-58cw25xt/spglib_6207849ab7c64022b27925c813b8e5ef/src/refinement.c).\n",
      "spglib: get_bravais_exact_positions_and_lattice failed. (line 336, /tmp/pip-install-58cw25xt/spglib_6207849ab7c64022b27925c813b8e5ef/src/refinement.c).\n",
      "spglib: ref_get_exact_structure_and_symmetry failed. (line 82, /tmp/pip-install-58cw25xt/spglib_6207849ab7c64022b27925c813b8e5ef/src/determination.c).\n",
      "spglib: ssm_get_exact_positions failed (attempt=0). (line 115, /tmp/pip-install-58cw25xt/spglib_6207849ab7c64022b27925c813b8e5ef/src/site_symmetry.c).\n",
      "spglib: ssm_get_exact_positions failed (attempt=1). (line 115, /tmp/pip-install-58cw25xt/spglib_6207849ab7c64022b27925c813b8e5ef/src/site_symmetry.c).\n",
      "spglib: ssm_get_exact_positions failed (attempt=2). (line 115, /tmp/pip-install-58cw25xt/spglib_6207849ab7c64022b27925c813b8e5ef/src/site_symmetry.c).\n",
      "spglib: ssm_get_exact_positions failed (attempt=3). (line 115, /tmp/pip-install-58cw25xt/spglib_6207849ab7c64022b27925c813b8e5ef/src/site_symmetry.c).\n",
      "spglib: ssm_get_exact_positions failed (attempt=4). (line 115, /tmp/pip-install-58cw25xt/spglib_6207849ab7c64022b27925c813b8e5ef/src/site_symmetry.c).\n",
      "spglib: ssm_get_exact_positions failed. (line 479, /tmp/pip-install-58cw25xt/spglib_6207849ab7c64022b27925c813b8e5ef/src/refinement.c).\n",
      "spglib: get_bravais_exact_positions_and_lattice failed. (line 336, /tmp/pip-install-58cw25xt/spglib_6207849ab7c64022b27925c813b8e5ef/src/refinement.c).\n",
      "spglib: ref_get_exact_structure_and_symmetry failed. (line 82, /tmp/pip-install-58cw25xt/spglib_6207849ab7c64022b27925c813b8e5ef/src/determination.c).\n",
      "spglib: ssm_get_exact_positions failed (attempt=0). (line 115, /tmp/pip-install-58cw25xt/spglib_6207849ab7c64022b27925c813b8e5ef/src/site_symmetry.c).\n",
      "spglib: ssm_get_exact_positions failed (attempt=1). (line 115, /tmp/pip-install-58cw25xt/spglib_6207849ab7c64022b27925c813b8e5ef/src/site_symmetry.c).\n",
      "spglib: ssm_get_exact_positions failed (attempt=2). (line 115, /tmp/pip-install-58cw25xt/spglib_6207849ab7c64022b27925c813b8e5ef/src/site_symmetry.c).\n",
      "spglib: ssm_get_exact_positions failed (attempt=3). (line 115, /tmp/pip-install-58cw25xt/spglib_6207849ab7c64022b27925c813b8e5ef/src/site_symmetry.c).\n",
      "spglib: ssm_get_exact_positions failed (attempt=4). (line 115, /tmp/pip-install-58cw25xt/spglib_6207849ab7c64022b27925c813b8e5ef/src/site_symmetry.c).\n",
      "spglib: ssm_get_exact_positions failed. (line 479, /tmp/pip-install-58cw25xt/spglib_6207849ab7c64022b27925c813b8e5ef/src/refinement.c).\n",
      "spglib: get_bravais_exact_positions_and_lattice failed. (line 336, /tmp/pip-install-58cw25xt/spglib_6207849ab7c64022b27925c813b8e5ef/src/refinement.c).\n",
      "spglib: ref_get_exact_structure_and_symmetry failed. (line 82, /tmp/pip-install-58cw25xt/spglib_6207849ab7c64022b27925c813b8e5ef/src/determination.c).\n",
      "spglib: ssm_get_exact_positions failed (attempt=0). (line 115, /tmp/pip-install-58cw25xt/spglib_6207849ab7c64022b27925c813b8e5ef/src/site_symmetry.c).\n",
      "spglib: ssm_get_exact_positions failed (attempt=1). (line 115, /tmp/pip-install-58cw25xt/spglib_6207849ab7c64022b27925c813b8e5ef/src/site_symmetry.c).\n",
      "spglib: ssm_get_exact_positions failed (attempt=2). (line 115, /tmp/pip-install-58cw25xt/spglib_6207849ab7c64022b27925c813b8e5ef/src/site_symmetry.c).\n",
      "spglib: ssm_get_exact_positions failed (attempt=3). (line 115, /tmp/pip-install-58cw25xt/spglib_6207849ab7c64022b27925c813b8e5ef/src/site_symmetry.c).\n",
      "spglib: ssm_get_exact_positions failed (attempt=4). (line 115, /tmp/pip-install-58cw25xt/spglib_6207849ab7c64022b27925c813b8e5ef/src/site_symmetry.c).\n",
      "spglib: ssm_get_exact_positions failed. (line 479, /tmp/pip-install-58cw25xt/spglib_6207849ab7c64022b27925c813b8e5ef/src/refinement.c).\n",
      "spglib: get_bravais_exact_positions_and_lattice failed. (line 336, /tmp/pip-install-58cw25xt/spglib_6207849ab7c64022b27925c813b8e5ef/src/refinement.c).\n",
      "spglib: ref_get_exact_structure_and_symmetry failed. (line 82, /tmp/pip-install-58cw25xt/spglib_6207849ab7c64022b27925c813b8e5ef/src/determination.c).\n",
      "spglib: ssm_get_exact_positions failed (attempt=0). (line 115, /tmp/pip-install-58cw25xt/spglib_6207849ab7c64022b27925c813b8e5ef/src/site_symmetry.c).\n",
      "spglib: ssm_get_exact_positions failed (attempt=1). (line 115, /tmp/pip-install-58cw25xt/spglib_6207849ab7c64022b27925c813b8e5ef/src/site_symmetry.c).\n",
      "spglib: ssm_get_exact_positions failed (attempt=2). (line 115, /tmp/pip-install-58cw25xt/spglib_6207849ab7c64022b27925c813b8e5ef/src/site_symmetry.c).\n",
      "spglib: ssm_get_exact_positions failed (attempt=3). (line 115, /tmp/pip-install-58cw25xt/spglib_6207849ab7c64022b27925c813b8e5ef/src/site_symmetry.c).\n",
      "spglib: ssm_get_exact_positions failed (attempt=4). (line 115, /tmp/pip-install-58cw25xt/spglib_6207849ab7c64022b27925c813b8e5ef/src/site_symmetry.c).\n",
      "spglib: ssm_get_exact_positions failed. (line 479, /tmp/pip-install-58cw25xt/spglib_6207849ab7c64022b27925c813b8e5ef/src/refinement.c).\n",
      "spglib: get_bravais_exact_positions_and_lattice failed. (line 336, /tmp/pip-install-58cw25xt/spglib_6207849ab7c64022b27925c813b8e5ef/src/refinement.c).\n",
      "spglib: ref_get_exact_structure_and_symmetry failed. (line 82, /tmp/pip-install-58cw25xt/spglib_6207849ab7c64022b27925c813b8e5ef/src/determination.c).\n",
      "spglib: ssm_get_exact_positions failed (attempt=0). (line 115, /tmp/pip-install-58cw25xt/spglib_6207849ab7c64022b27925c813b8e5ef/src/site_symmetry.c).\n",
      "spglib: ssm_get_exact_positions failed (attempt=1). (line 115, /tmp/pip-install-58cw25xt/spglib_6207849ab7c64022b27925c813b8e5ef/src/site_symmetry.c).\n",
      "spglib: ssm_get_exact_positions failed (attempt=2). (line 115, /tmp/pip-install-58cw25xt/spglib_6207849ab7c64022b27925c813b8e5ef/src/site_symmetry.c).\n",
      "spglib: ssm_get_exact_positions failed (attempt=3). (line 115, /tmp/pip-install-58cw25xt/spglib_6207849ab7c64022b27925c813b8e5ef/src/site_symmetry.c).\n",
      "spglib: ssm_get_exact_positions failed (attempt=4). (line 115, /tmp/pip-install-58cw25xt/spglib_6207849ab7c64022b27925c813b8e5ef/src/site_symmetry.c).\n",
      "spglib: ssm_get_exact_positions failed. (line 479, /tmp/pip-install-58cw25xt/spglib_6207849ab7c64022b27925c813b8e5ef/src/refinement.c).\n",
      "spglib: get_bravais_exact_positions_and_lattice failed. (line 336, /tmp/pip-install-58cw25xt/spglib_6207849ab7c64022b27925c813b8e5ef/src/refinement.c).\n",
      "spglib: ref_get_exact_structure_and_symmetry failed. (line 82, /tmp/pip-install-58cw25xt/spglib_6207849ab7c64022b27925c813b8e5ef/src/determination.c).\n",
      "spglib: ssm_get_exact_positions failed (attempt=0). (line 115, /tmp/pip-install-58cw25xt/spglib_6207849ab7c64022b27925c813b8e5ef/src/site_symmetry.c).\n",
      "spglib: ssm_get_exact_positions failed (attempt=1). (line 115, /tmp/pip-install-58cw25xt/spglib_6207849ab7c64022b27925c813b8e5ef/src/site_symmetry.c).\n",
      "spglib: ssm_get_exact_positions failed (attempt=2). (line 115, /tmp/pip-install-58cw25xt/spglib_6207849ab7c64022b27925c813b8e5ef/src/site_symmetry.c).\n",
      "spglib: ssm_get_exact_positions failed (attempt=3). (line 115, /tmp/pip-install-58cw25xt/spglib_6207849ab7c64022b27925c813b8e5ef/src/site_symmetry.c).\n",
      "spglib: ssm_get_exact_positions failed (attempt=4). (line 115, /tmp/pip-install-58cw25xt/spglib_6207849ab7c64022b27925c813b8e5ef/src/site_symmetry.c).\n",
      "spglib: ssm_get_exact_positions failed. (line 479, /tmp/pip-install-58cw25xt/spglib_6207849ab7c64022b27925c813b8e5ef/src/refinement.c).\n",
      "spglib: get_bravais_exact_positions_and_lattice failed. (line 336, /tmp/pip-install-58cw25xt/spglib_6207849ab7c64022b27925c813b8e5ef/src/refinement.c).\n",
      "spglib: ref_get_exact_structure_and_symmetry failed. (line 82, /tmp/pip-install-58cw25xt/spglib_6207849ab7c64022b27925c813b8e5ef/src/determination.c).\n",
      "spglib: ssm_get_exact_positions failed (attempt=0). (line 115, /tmp/pip-install-58cw25xt/spglib_6207849ab7c64022b27925c813b8e5ef/src/site_symmetry.c).\n",
      "spglib: ssm_get_exact_positions failed (attempt=1). (line 115, /tmp/pip-install-58cw25xt/spglib_6207849ab7c64022b27925c813b8e5ef/src/site_symmetry.c).\n",
      "spglib: ssm_get_exact_positions failed (attempt=2). (line 115, /tmp/pip-install-58cw25xt/spglib_6207849ab7c64022b27925c813b8e5ef/src/site_symmetry.c).\n",
      "spglib: ssm_get_exact_positions failed (attempt=3). (line 115, /tmp/pip-install-58cw25xt/spglib_6207849ab7c64022b27925c813b8e5ef/src/site_symmetry.c).\n",
      "spglib: ssm_get_exact_positions failed (attempt=4). (line 115, /tmp/pip-install-58cw25xt/spglib_6207849ab7c64022b27925c813b8e5ef/src/site_symmetry.c).\n",
      "spglib: ssm_get_exact_positions failed. (line 479, /tmp/pip-install-58cw25xt/spglib_6207849ab7c64022b27925c813b8e5ef/src/refinement.c).\n",
      "spglib: get_bravais_exact_positions_and_lattice failed. (line 336, /tmp/pip-install-58cw25xt/spglib_6207849ab7c64022b27925c813b8e5ef/src/refinement.c).\n",
      "spglib: ref_get_exact_structure_and_symmetry failed. (line 82, /tmp/pip-install-58cw25xt/spglib_6207849ab7c64022b27925c813b8e5ef/src/determination.c).\n",
      "spglib: ssm_get_exact_positions failed (attempt=0). (line 115, /tmp/pip-install-58cw25xt/spglib_6207849ab7c64022b27925c813b8e5ef/src/site_symmetry.c).\n",
      "spglib: ssm_get_exact_positions failed (attempt=1). (line 115, /tmp/pip-install-58cw25xt/spglib_6207849ab7c64022b27925c813b8e5ef/src/site_symmetry.c).\n",
      "spglib: ssm_get_exact_positions failed (attempt=2). (line 115, /tmp/pip-install-58cw25xt/spglib_6207849ab7c64022b27925c813b8e5ef/src/site_symmetry.c).\n",
      "spglib: ssm_get_exact_positions failed (attempt=3). (line 115, /tmp/pip-install-58cw25xt/spglib_6207849ab7c64022b27925c813b8e5ef/src/site_symmetry.c).\n",
      "spglib: ssm_get_exact_positions failed (attempt=4). (line 115, /tmp/pip-install-58cw25xt/spglib_6207849ab7c64022b27925c813b8e5ef/src/site_symmetry.c).\n",
      "spglib: ssm_get_exact_positions failed. (line 479, /tmp/pip-install-58cw25xt/spglib_6207849ab7c64022b27925c813b8e5ef/src/refinement.c).\n",
      "spglib: get_bravais_exact_positions_and_lattice failed. (line 336, /tmp/pip-install-58cw25xt/spglib_6207849ab7c64022b27925c813b8e5ef/src/refinement.c).\n",
      "spglib: ref_get_exact_structure_and_symmetry failed. (line 82, /tmp/pip-install-58cw25xt/spglib_6207849ab7c64022b27925c813b8e5ef/src/determination.c).\n",
      "spglib: ssm_get_exact_positions failed (attempt=0). (line 115, /tmp/pip-install-58cw25xt/spglib_6207849ab7c64022b27925c813b8e5ef/src/site_symmetry.c).\n",
      "spglib: ssm_get_exact_positions failed (attempt=1). (line 115, /tmp/pip-install-58cw25xt/spglib_6207849ab7c64022b27925c813b8e5ef/src/site_symmetry.c).\n",
      "spglib: ssm_get_exact_positions failed (attempt=2). (line 115, /tmp/pip-install-58cw25xt/spglib_6207849ab7c64022b27925c813b8e5ef/src/site_symmetry.c).\n",
      "spglib: ssm_get_exact_positions failed (attempt=3). (line 115, /tmp/pip-install-58cw25xt/spglib_6207849ab7c64022b27925c813b8e5ef/src/site_symmetry.c).\n",
      "spglib: ssm_get_exact_positions failed (attempt=4). (line 115, /tmp/pip-install-58cw25xt/spglib_6207849ab7c64022b27925c813b8e5ef/src/site_symmetry.c).\n",
      "spglib: ssm_get_exact_positions failed. (line 479, /tmp/pip-install-58cw25xt/spglib_6207849ab7c64022b27925c813b8e5ef/src/refinement.c).\n",
      "spglib: get_bravais_exact_positions_and_lattice failed. (line 336, /tmp/pip-install-58cw25xt/spglib_6207849ab7c64022b27925c813b8e5ef/src/refinement.c).\n",
      "spglib: ref_get_exact_structure_and_symmetry failed. (line 82, /tmp/pip-install-58cw25xt/spglib_6207849ab7c64022b27925c813b8e5ef/src/determination.c).\n",
      "spglib: ssm_get_exact_positions failed (attempt=0). (line 115, /tmp/pip-install-58cw25xt/spglib_6207849ab7c64022b27925c813b8e5ef/src/site_symmetry.c).\n",
      "spglib: ssm_get_exact_positions failed (attempt=1). (line 115, /tmp/pip-install-58cw25xt/spglib_6207849ab7c64022b27925c813b8e5ef/src/site_symmetry.c).\n",
      "spglib: ssm_get_exact_positions failed (attempt=2). (line 115, /tmp/pip-install-58cw25xt/spglib_6207849ab7c64022b27925c813b8e5ef/src/site_symmetry.c).\n",
      "spglib: ssm_get_exact_positions failed (attempt=3). (line 115, /tmp/pip-install-58cw25xt/spglib_6207849ab7c64022b27925c813b8e5ef/src/site_symmetry.c).\n",
      "spglib: ssm_get_exact_positions failed (attempt=4). (line 115, /tmp/pip-install-58cw25xt/spglib_6207849ab7c64022b27925c813b8e5ef/src/site_symmetry.c).\n",
      "spglib: ssm_get_exact_positions failed. (line 479, /tmp/pip-install-58cw25xt/spglib_6207849ab7c64022b27925c813b8e5ef/src/refinement.c).\n",
      "spglib: get_bravais_exact_positions_and_lattice failed. (line 336, /tmp/pip-install-58cw25xt/spglib_6207849ab7c64022b27925c813b8e5ef/src/refinement.c).\n",
      "spglib: ref_get_exact_structure_and_symmetry failed. (line 82, /tmp/pip-install-58cw25xt/spglib_6207849ab7c64022b27925c813b8e5ef/src/determination.c).\n",
      "spglib: ssm_get_exact_positions failed (attempt=0). (line 115, /tmp/pip-install-58cw25xt/spglib_6207849ab7c64022b27925c813b8e5ef/src/site_symmetry.c).\n",
      "spglib: ssm_get_exact_positions failed (attempt=1). (line 115, /tmp/pip-install-58cw25xt/spglib_6207849ab7c64022b27925c813b8e5ef/src/site_symmetry.c).\n",
      "spglib: ssm_get_exact_positions failed (attempt=2). (line 115, /tmp/pip-install-58cw25xt/spglib_6207849ab7c64022b27925c813b8e5ef/src/site_symmetry.c).\n",
      "spglib: ssm_get_exact_positions failed (attempt=3). (line 115, /tmp/pip-install-58cw25xt/spglib_6207849ab7c64022b27925c813b8e5ef/src/site_symmetry.c).\n",
      "spglib: ssm_get_exact_positions failed (attempt=4). (line 115, /tmp/pip-install-58cw25xt/spglib_6207849ab7c64022b27925c813b8e5ef/src/site_symmetry.c).\n",
      "spglib: ssm_get_exact_positions failed. (line 479, /tmp/pip-install-58cw25xt/spglib_6207849ab7c64022b27925c813b8e5ef/src/refinement.c).\n",
      "spglib: get_bravais_exact_positions_and_lattice failed. (line 336, /tmp/pip-install-58cw25xt/spglib_6207849ab7c64022b27925c813b8e5ef/src/refinement.c).\n",
      "spglib: ref_get_exact_structure_and_symmetry failed. (line 82, /tmp/pip-install-58cw25xt/spglib_6207849ab7c64022b27925c813b8e5ef/src/determination.c).\n",
      "spglib: ssm_get_exact_positions failed (attempt=0). (line 115, /tmp/pip-install-58cw25xt/spglib_6207849ab7c64022b27925c813b8e5ef/src/site_symmetry.c).\n",
      "spglib: ssm_get_exact_positions failed (attempt=1). (line 115, /tmp/pip-install-58cw25xt/spglib_6207849ab7c64022b27925c813b8e5ef/src/site_symmetry.c).\n",
      "spglib: ssm_get_exact_positions failed (attempt=2). (line 115, /tmp/pip-install-58cw25xt/spglib_6207849ab7c64022b27925c813b8e5ef/src/site_symmetry.c).\n",
      "spglib: ssm_get_exact_positions failed (attempt=3). (line 115, /tmp/pip-install-58cw25xt/spglib_6207849ab7c64022b27925c813b8e5ef/src/site_symmetry.c).\n",
      "spglib: ssm_get_exact_positions failed (attempt=4). (line 115, /tmp/pip-install-58cw25xt/spglib_6207849ab7c64022b27925c813b8e5ef/src/site_symmetry.c).\n",
      "spglib: ssm_get_exact_positions failed. (line 479, /tmp/pip-install-58cw25xt/spglib_6207849ab7c64022b27925c813b8e5ef/src/refinement.c).\n",
      "spglib: get_bravais_exact_positions_and_lattice failed. (line 336, /tmp/pip-install-58cw25xt/spglib_6207849ab7c64022b27925c813b8e5ef/src/refinement.c).\n",
      "spglib: ref_get_exact_structure_and_symmetry failed. (line 82, /tmp/pip-install-58cw25xt/spglib_6207849ab7c64022b27925c813b8e5ef/src/determination.c).\n",
      "spglib: ssm_get_exact_positions failed (attempt=0). (line 115, /tmp/pip-install-58cw25xt/spglib_6207849ab7c64022b27925c813b8e5ef/src/site_symmetry.c).\n",
      "spglib: ssm_get_exact_positions failed (attempt=1). (line 115, /tmp/pip-install-58cw25xt/spglib_6207849ab7c64022b27925c813b8e5ef/src/site_symmetry.c).\n",
      "spglib: ssm_get_exact_positions failed (attempt=2). (line 115, /tmp/pip-install-58cw25xt/spglib_6207849ab7c64022b27925c813b8e5ef/src/site_symmetry.c).\n",
      "spglib: ssm_get_exact_positions failed (attempt=3). (line 115, /tmp/pip-install-58cw25xt/spglib_6207849ab7c64022b27925c813b8e5ef/src/site_symmetry.c).\n",
      "spglib: ssm_get_exact_positions failed (attempt=4). (line 115, /tmp/pip-install-58cw25xt/spglib_6207849ab7c64022b27925c813b8e5ef/src/site_symmetry.c).\n",
      "spglib: ssm_get_exact_positions failed. (line 479, /tmp/pip-install-58cw25xt/spglib_6207849ab7c64022b27925c813b8e5ef/src/refinement.c).\n",
      "spglib: get_bravais_exact_positions_and_lattice failed. (line 336, /tmp/pip-install-58cw25xt/spglib_6207849ab7c64022b27925c813b8e5ef/src/refinement.c).\n",
      "spglib: ref_get_exact_structure_and_symmetry failed. (line 82, /tmp/pip-install-58cw25xt/spglib_6207849ab7c64022b27925c813b8e5ef/src/determination.c).\n",
      "spglib: ssm_get_exact_positions failed (attempt=0). (line 115, /tmp/pip-install-58cw25xt/spglib_6207849ab7c64022b27925c813b8e5ef/src/site_symmetry.c).\n",
      "spglib: ssm_get_exact_positions failed (attempt=1). (line 115, /tmp/pip-install-58cw25xt/spglib_6207849ab7c64022b27925c813b8e5ef/src/site_symmetry.c).\n",
      "spglib: ssm_get_exact_positions failed (attempt=2). (line 115, /tmp/pip-install-58cw25xt/spglib_6207849ab7c64022b27925c813b8e5ef/src/site_symmetry.c).\n",
      "spglib: ssm_get_exact_positions failed (attempt=3). (line 115, /tmp/pip-install-58cw25xt/spglib_6207849ab7c64022b27925c813b8e5ef/src/site_symmetry.c).\n",
      "spglib: ssm_get_exact_positions failed (attempt=4). (line 115, /tmp/pip-install-58cw25xt/spglib_6207849ab7c64022b27925c813b8e5ef/src/site_symmetry.c).\n",
      "spglib: ssm_get_exact_positions failed. (line 479, /tmp/pip-install-58cw25xt/spglib_6207849ab7c64022b27925c813b8e5ef/src/refinement.c).\n",
      "spglib: get_bravais_exact_positions_and_lattice failed. (line 336, /tmp/pip-install-58cw25xt/spglib_6207849ab7c64022b27925c813b8e5ef/src/refinement.c).\n",
      "spglib: ref_get_exact_structure_and_symmetry failed. (line 82, /tmp/pip-install-58cw25xt/spglib_6207849ab7c64022b27925c813b8e5ef/src/determination.c).\n",
      "spglib: ssm_get_exact_positions failed (attempt=0). (line 115, /tmp/pip-install-58cw25xt/spglib_6207849ab7c64022b27925c813b8e5ef/src/site_symmetry.c).\n",
      "spglib: ssm_get_exact_positions failed (attempt=1). (line 115, /tmp/pip-install-58cw25xt/spglib_6207849ab7c64022b27925c813b8e5ef/src/site_symmetry.c).\n",
      "spglib: ssm_get_exact_positions failed (attempt=2). (line 115, /tmp/pip-install-58cw25xt/spglib_6207849ab7c64022b27925c813b8e5ef/src/site_symmetry.c).\n",
      "spglib: ssm_get_exact_positions failed (attempt=3). (line 115, /tmp/pip-install-58cw25xt/spglib_6207849ab7c64022b27925c813b8e5ef/src/site_symmetry.c).\n",
      "spglib: ssm_get_exact_positions failed (attempt=4). (line 115, /tmp/pip-install-58cw25xt/spglib_6207849ab7c64022b27925c813b8e5ef/src/site_symmetry.c).\n",
      "spglib: ssm_get_exact_positions failed. (line 479, /tmp/pip-install-58cw25xt/spglib_6207849ab7c64022b27925c813b8e5ef/src/refinement.c).\n",
      "spglib: get_bravais_exact_positions_and_lattice failed. (line 336, /tmp/pip-install-58cw25xt/spglib_6207849ab7c64022b27925c813b8e5ef/src/refinement.c).\n",
      "spglib: ref_get_exact_structure_and_symmetry failed. (line 82, /tmp/pip-install-58cw25xt/spglib_6207849ab7c64022b27925c813b8e5ef/src/determination.c).\n",
      "spglib: ssm_get_exact_positions failed (attempt=0). (line 115, /tmp/pip-install-58cw25xt/spglib_6207849ab7c64022b27925c813b8e5ef/src/site_symmetry.c).\n",
      "spglib: ssm_get_exact_positions failed (attempt=1). (line 115, /tmp/pip-install-58cw25xt/spglib_6207849ab7c64022b27925c813b8e5ef/src/site_symmetry.c).\n",
      "spglib: ssm_get_exact_positions failed (attempt=2). (line 115, /tmp/pip-install-58cw25xt/spglib_6207849ab7c64022b27925c813b8e5ef/src/site_symmetry.c).\n",
      "spglib: ssm_get_exact_positions failed (attempt=3). (line 115, /tmp/pip-install-58cw25xt/spglib_6207849ab7c64022b27925c813b8e5ef/src/site_symmetry.c).\n",
      "spglib: ssm_get_exact_positions failed (attempt=4). (line 115, /tmp/pip-install-58cw25xt/spglib_6207849ab7c64022b27925c813b8e5ef/src/site_symmetry.c).\n",
      "spglib: ssm_get_exact_positions failed. (line 479, /tmp/pip-install-58cw25xt/spglib_6207849ab7c64022b27925c813b8e5ef/src/refinement.c).\n",
      "spglib: get_bravais_exact_positions_and_lattice failed. (line 336, /tmp/pip-install-58cw25xt/spglib_6207849ab7c64022b27925c813b8e5ef/src/refinement.c).\n",
      "spglib: ref_get_exact_structure_and_symmetry failed. (line 82, /tmp/pip-install-58cw25xt/spglib_6207849ab7c64022b27925c813b8e5ef/src/determination.c).\n",
      "spglib: ssm_get_exact_positions failed (attempt=0). (line 115, /tmp/pip-install-58cw25xt/spglib_6207849ab7c64022b27925c813b8e5ef/src/site_symmetry.c).\n",
      "spglib: ssm_get_exact_positions failed (attempt=1). (line 115, /tmp/pip-install-58cw25xt/spglib_6207849ab7c64022b27925c813b8e5ef/src/site_symmetry.c).\n",
      "spglib: ssm_get_exact_positions failed (attempt=2). (line 115, /tmp/pip-install-58cw25xt/spglib_6207849ab7c64022b27925c813b8e5ef/src/site_symmetry.c).\n",
      "spglib: ssm_get_exact_positions failed (attempt=3). (line 115, /tmp/pip-install-58cw25xt/spglib_6207849ab7c64022b27925c813b8e5ef/src/site_symmetry.c).\n",
      "spglib: ssm_get_exact_positions failed (attempt=4). (line 115, /tmp/pip-install-58cw25xt/spglib_6207849ab7c64022b27925c813b8e5ef/src/site_symmetry.c).\n",
      "spglib: ssm_get_exact_positions failed. (line 479, /tmp/pip-install-58cw25xt/spglib_6207849ab7c64022b27925c813b8e5ef/src/refinement.c).\n",
      "spglib: get_bravais_exact_positions_and_lattice failed. (line 336, /tmp/pip-install-58cw25xt/spglib_6207849ab7c64022b27925c813b8e5ef/src/refinement.c).\n",
      "spglib: ref_get_exact_structure_and_symmetry failed. (line 82, /tmp/pip-install-58cw25xt/spglib_6207849ab7c64022b27925c813b8e5ef/src/determination.c).\n",
      "spglib: ssm_get_exact_positions failed (attempt=0). (line 115, /tmp/pip-install-58cw25xt/spglib_6207849ab7c64022b27925c813b8e5ef/src/site_symmetry.c).\n",
      "spglib: ssm_get_exact_positions failed (attempt=1). (line 115, /tmp/pip-install-58cw25xt/spglib_6207849ab7c64022b27925c813b8e5ef/src/site_symmetry.c).\n",
      "spglib: ssm_get_exact_positions failed (attempt=2). (line 115, /tmp/pip-install-58cw25xt/spglib_6207849ab7c64022b27925c813b8e5ef/src/site_symmetry.c).\n",
      "spglib: ssm_get_exact_positions failed (attempt=3). (line 115, /tmp/pip-install-58cw25xt/spglib_6207849ab7c64022b27925c813b8e5ef/src/site_symmetry.c).\n",
      "spglib: ssm_get_exact_positions failed (attempt=4). (line 115, /tmp/pip-install-58cw25xt/spglib_6207849ab7c64022b27925c813b8e5ef/src/site_symmetry.c).\n",
      "spglib: ssm_get_exact_positions failed. (line 479, /tmp/pip-install-58cw25xt/spglib_6207849ab7c64022b27925c813b8e5ef/src/refinement.c).\n",
      "spglib: get_bravais_exact_positions_and_lattice failed. (line 336, /tmp/pip-install-58cw25xt/spglib_6207849ab7c64022b27925c813b8e5ef/src/refinement.c).\n",
      "spglib: ref_get_exact_structure_and_symmetry failed. (line 82, /tmp/pip-install-58cw25xt/spglib_6207849ab7c64022b27925c813b8e5ef/src/determination.c).\n",
      "spglib: ssm_get_exact_positions failed (attempt=0). (line 115, /tmp/pip-install-58cw25xt/spglib_6207849ab7c64022b27925c813b8e5ef/src/site_symmetry.c).\n",
      "spglib: ssm_get_exact_positions failed (attempt=1). (line 115, /tmp/pip-install-58cw25xt/spglib_6207849ab7c64022b27925c813b8e5ef/src/site_symmetry.c).\n",
      "spglib: ssm_get_exact_positions failed (attempt=2). (line 115, /tmp/pip-install-58cw25xt/spglib_6207849ab7c64022b27925c813b8e5ef/src/site_symmetry.c).\n",
      "spglib: ssm_get_exact_positions failed (attempt=3). (line 115, /tmp/pip-install-58cw25xt/spglib_6207849ab7c64022b27925c813b8e5ef/src/site_symmetry.c).\n",
      "spglib: ssm_get_exact_positions failed (attempt=4). (line 115, /tmp/pip-install-58cw25xt/spglib_6207849ab7c64022b27925c813b8e5ef/src/site_symmetry.c).\n",
      "spglib: ssm_get_exact_positions failed. (line 479, /tmp/pip-install-58cw25xt/spglib_6207849ab7c64022b27925c813b8e5ef/src/refinement.c).\n",
      "spglib: get_bravais_exact_positions_and_lattice failed. (line 336, /tmp/pip-install-58cw25xt/spglib_6207849ab7c64022b27925c813b8e5ef/src/refinement.c).\n",
      "spglib: ref_get_exact_structure_and_symmetry failed. (line 82, /tmp/pip-install-58cw25xt/spglib_6207849ab7c64022b27925c813b8e5ef/src/determination.c).\n",
      "spglib: ssm_get_exact_positions failed (attempt=0). (line 115, /tmp/pip-install-58cw25xt/spglib_6207849ab7c64022b27925c813b8e5ef/src/site_symmetry.c).\n",
      "spglib: ssm_get_exact_positions failed (attempt=1). (line 115, /tmp/pip-install-58cw25xt/spglib_6207849ab7c64022b27925c813b8e5ef/src/site_symmetry.c).\n",
      "spglib: ssm_get_exact_positions failed (attempt=2). (line 115, /tmp/pip-install-58cw25xt/spglib_6207849ab7c64022b27925c813b8e5ef/src/site_symmetry.c).\n",
      "spglib: ssm_get_exact_positions failed (attempt=3). (line 115, /tmp/pip-install-58cw25xt/spglib_6207849ab7c64022b27925c813b8e5ef/src/site_symmetry.c).\n",
      "spglib: ssm_get_exact_positions failed (attempt=4). (line 115, /tmp/pip-install-58cw25xt/spglib_6207849ab7c64022b27925c813b8e5ef/src/site_symmetry.c).\n",
      "spglib: ssm_get_exact_positions failed. (line 479, /tmp/pip-install-58cw25xt/spglib_6207849ab7c64022b27925c813b8e5ef/src/refinement.c).\n",
      "spglib: get_bravais_exact_positions_and_lattice failed. (line 336, /tmp/pip-install-58cw25xt/spglib_6207849ab7c64022b27925c813b8e5ef/src/refinement.c).\n",
      "spglib: ref_get_exact_structure_and_symmetry failed. (line 82, /tmp/pip-install-58cw25xt/spglib_6207849ab7c64022b27925c813b8e5ef/src/determination.c).\n",
      "spglib: ssm_get_exact_positions failed (attempt=0). (line 115, /tmp/pip-install-58cw25xt/spglib_6207849ab7c64022b27925c813b8e5ef/src/site_symmetry.c).\n",
      "spglib: ssm_get_exact_positions failed (attempt=1). (line 115, /tmp/pip-install-58cw25xt/spglib_6207849ab7c64022b27925c813b8e5ef/src/site_symmetry.c).\n",
      "spglib: ssm_get_exact_positions failed (attempt=2). (line 115, /tmp/pip-install-58cw25xt/spglib_6207849ab7c64022b27925c813b8e5ef/src/site_symmetry.c).\n",
      "spglib: ssm_get_exact_positions failed (attempt=3). (line 115, /tmp/pip-install-58cw25xt/spglib_6207849ab7c64022b27925c813b8e5ef/src/site_symmetry.c).\n",
      "spglib: ssm_get_exact_positions failed (attempt=4). (line 115, /tmp/pip-install-58cw25xt/spglib_6207849ab7c64022b27925c813b8e5ef/src/site_symmetry.c).\n",
      "spglib: ssm_get_exact_positions failed. (line 479, /tmp/pip-install-58cw25xt/spglib_6207849ab7c64022b27925c813b8e5ef/src/refinement.c).\n",
      "spglib: get_bravais_exact_positions_and_lattice failed. (line 336, /tmp/pip-install-58cw25xt/spglib_6207849ab7c64022b27925c813b8e5ef/src/refinement.c).\n",
      "spglib: ref_get_exact_structure_and_symmetry failed. (line 82, /tmp/pip-install-58cw25xt/spglib_6207849ab7c64022b27925c813b8e5ef/src/determination.c).\n",
      "spglib: ssm_get_exact_positions failed (attempt=0). (line 115, /tmp/pip-install-58cw25xt/spglib_6207849ab7c64022b27925c813b8e5ef/src/site_symmetry.c).\n",
      "spglib: ssm_get_exact_positions failed (attempt=1). (line 115, /tmp/pip-install-58cw25xt/spglib_6207849ab7c64022b27925c813b8e5ef/src/site_symmetry.c).\n",
      "spglib: ssm_get_exact_positions failed (attempt=2). (line 115, /tmp/pip-install-58cw25xt/spglib_6207849ab7c64022b27925c813b8e5ef/src/site_symmetry.c).\n",
      "spglib: ssm_get_exact_positions failed (attempt=3). (line 115, /tmp/pip-install-58cw25xt/spglib_6207849ab7c64022b27925c813b8e5ef/src/site_symmetry.c).\n",
      "spglib: ssm_get_exact_positions failed (attempt=4). (line 115, /tmp/pip-install-58cw25xt/spglib_6207849ab7c64022b27925c813b8e5ef/src/site_symmetry.c).\n",
      "spglib: ssm_get_exact_positions failed. (line 479, /tmp/pip-install-58cw25xt/spglib_6207849ab7c64022b27925c813b8e5ef/src/refinement.c).\n",
      "spglib: get_bravais_exact_positions_and_lattice failed. (line 336, /tmp/pip-install-58cw25xt/spglib_6207849ab7c64022b27925c813b8e5ef/src/refinement.c).\n",
      "spglib: ref_get_exact_structure_and_symmetry failed. (line 82, /tmp/pip-install-58cw25xt/spglib_6207849ab7c64022b27925c813b8e5ef/src/determination.c).\n",
      "spglib: ssm_get_exact_positions failed (attempt=0). (line 115, /tmp/pip-install-58cw25xt/spglib_6207849ab7c64022b27925c813b8e5ef/src/site_symmetry.c).\n",
      "spglib: ssm_get_exact_positions failed (attempt=1). (line 115, /tmp/pip-install-58cw25xt/spglib_6207849ab7c64022b27925c813b8e5ef/src/site_symmetry.c).\n",
      "spglib: ssm_get_exact_positions failed (attempt=2). (line 115, /tmp/pip-install-58cw25xt/spglib_6207849ab7c64022b27925c813b8e5ef/src/site_symmetry.c).\n",
      "spglib: ssm_get_exact_positions failed (attempt=3). (line 115, /tmp/pip-install-58cw25xt/spglib_6207849ab7c64022b27925c813b8e5ef/src/site_symmetry.c).\n",
      "spglib: ssm_get_exact_positions failed (attempt=4). (line 115, /tmp/pip-install-58cw25xt/spglib_6207849ab7c64022b27925c813b8e5ef/src/site_symmetry.c).\n",
      "spglib: ssm_get_exact_positions failed. (line 479, /tmp/pip-install-58cw25xt/spglib_6207849ab7c64022b27925c813b8e5ef/src/refinement.c).\n",
      "spglib: get_bravais_exact_positions_and_lattice failed. (line 336, /tmp/pip-install-58cw25xt/spglib_6207849ab7c64022b27925c813b8e5ef/src/refinement.c).\n",
      "spglib: ref_get_exact_structure_and_symmetry failed. (line 82, /tmp/pip-install-58cw25xt/spglib_6207849ab7c64022b27925c813b8e5ef/src/determination.c).\n",
      "spglib: ssm_get_exact_positions failed (attempt=0). (line 115, /tmp/pip-install-58cw25xt/spglib_6207849ab7c64022b27925c813b8e5ef/src/site_symmetry.c).\n",
      "spglib: ssm_get_exact_positions failed (attempt=1). (line 115, /tmp/pip-install-58cw25xt/spglib_6207849ab7c64022b27925c813b8e5ef/src/site_symmetry.c).\n",
      "spglib: ssm_get_exact_positions failed (attempt=2). (line 115, /tmp/pip-install-58cw25xt/spglib_6207849ab7c64022b27925c813b8e5ef/src/site_symmetry.c).\n",
      "spglib: ssm_get_exact_positions failed (attempt=3). (line 115, /tmp/pip-install-58cw25xt/spglib_6207849ab7c64022b27925c813b8e5ef/src/site_symmetry.c).\n",
      "spglib: ssm_get_exact_positions failed (attempt=4). (line 115, /tmp/pip-install-58cw25xt/spglib_6207849ab7c64022b27925c813b8e5ef/src/site_symmetry.c).\n",
      "spglib: ssm_get_exact_positions failed. (line 479, /tmp/pip-install-58cw25xt/spglib_6207849ab7c64022b27925c813b8e5ef/src/refinement.c).\n",
      "spglib: get_bravais_exact_positions_and_lattice failed. (line 336, /tmp/pip-install-58cw25xt/spglib_6207849ab7c64022b27925c813b8e5ef/src/refinement.c).\n",
      "spglib: ref_get_exact_structure_and_symmetry failed. (line 82, /tmp/pip-install-58cw25xt/spglib_6207849ab7c64022b27925c813b8e5ef/src/determination.c).\n",
      "spglib: ssm_get_exact_positions failed (attempt=0). (line 115, /tmp/pip-install-58cw25xt/spglib_6207849ab7c64022b27925c813b8e5ef/src/site_symmetry.c).\n",
      "spglib: ssm_get_exact_positions failed (attempt=1). (line 115, /tmp/pip-install-58cw25xt/spglib_6207849ab7c64022b27925c813b8e5ef/src/site_symmetry.c).\n",
      "spglib: ssm_get_exact_positions failed (attempt=2). (line 115, /tmp/pip-install-58cw25xt/spglib_6207849ab7c64022b27925c813b8e5ef/src/site_symmetry.c).\n",
      "spglib: ssm_get_exact_positions failed (attempt=3). (line 115, /tmp/pip-install-58cw25xt/spglib_6207849ab7c64022b27925c813b8e5ef/src/site_symmetry.c).\n",
      "spglib: ssm_get_exact_positions failed (attempt=4). (line 115, /tmp/pip-install-58cw25xt/spglib_6207849ab7c64022b27925c813b8e5ef/src/site_symmetry.c).\n",
      "spglib: ssm_get_exact_positions failed. (line 479, /tmp/pip-install-58cw25xt/spglib_6207849ab7c64022b27925c813b8e5ef/src/refinement.c).\n",
      "spglib: get_bravais_exact_positions_and_lattice failed. (line 336, /tmp/pip-install-58cw25xt/spglib_6207849ab7c64022b27925c813b8e5ef/src/refinement.c).\n",
      "spglib: ref_get_exact_structure_and_symmetry failed. (line 82, /tmp/pip-install-58cw25xt/spglib_6207849ab7c64022b27925c813b8e5ef/src/determination.c).\n",
      "spglib: ssm_get_exact_positions failed (attempt=0). (line 115, /tmp/pip-install-58cw25xt/spglib_6207849ab7c64022b27925c813b8e5ef/src/site_symmetry.c).\n",
      "spglib: ssm_get_exact_positions failed (attempt=1). (line 115, /tmp/pip-install-58cw25xt/spglib_6207849ab7c64022b27925c813b8e5ef/src/site_symmetry.c).\n",
      "spglib: ssm_get_exact_positions failed (attempt=2). (line 115, /tmp/pip-install-58cw25xt/spglib_6207849ab7c64022b27925c813b8e5ef/src/site_symmetry.c).\n",
      "spglib: ssm_get_exact_positions failed (attempt=3). (line 115, /tmp/pip-install-58cw25xt/spglib_6207849ab7c64022b27925c813b8e5ef/src/site_symmetry.c).\n",
      "spglib: ssm_get_exact_positions failed (attempt=4). (line 115, /tmp/pip-install-58cw25xt/spglib_6207849ab7c64022b27925c813b8e5ef/src/site_symmetry.c).\n",
      "spglib: ssm_get_exact_positions failed. (line 479, /tmp/pip-install-58cw25xt/spglib_6207849ab7c64022b27925c813b8e5ef/src/refinement.c).\n",
      "spglib: get_bravais_exact_positions_and_lattice failed. (line 336, /tmp/pip-install-58cw25xt/spglib_6207849ab7c64022b27925c813b8e5ef/src/refinement.c).\n",
      "spglib: ref_get_exact_structure_and_symmetry failed. (line 82, /tmp/pip-install-58cw25xt/spglib_6207849ab7c64022b27925c813b8e5ef/src/determination.c).\n",
      "spglib: ssm_get_exact_positions failed (attempt=0). (line 115, /tmp/pip-install-58cw25xt/spglib_6207849ab7c64022b27925c813b8e5ef/src/site_symmetry.c).\n",
      "spglib: ssm_get_exact_positions failed (attempt=1). (line 115, /tmp/pip-install-58cw25xt/spglib_6207849ab7c64022b27925c813b8e5ef/src/site_symmetry.c).\n",
      "spglib: ssm_get_exact_positions failed (attempt=2). (line 115, /tmp/pip-install-58cw25xt/spglib_6207849ab7c64022b27925c813b8e5ef/src/site_symmetry.c).\n",
      "spglib: ssm_get_exact_positions failed (attempt=3). (line 115, /tmp/pip-install-58cw25xt/spglib_6207849ab7c64022b27925c813b8e5ef/src/site_symmetry.c).\n",
      "spglib: ssm_get_exact_positions failed (attempt=4). (line 115, /tmp/pip-install-58cw25xt/spglib_6207849ab7c64022b27925c813b8e5ef/src/site_symmetry.c).\n",
      "spglib: ssm_get_exact_positions failed. (line 479, /tmp/pip-install-58cw25xt/spglib_6207849ab7c64022b27925c813b8e5ef/src/refinement.c).\n",
      "spglib: get_bravais_exact_positions_and_lattice failed. (line 336, /tmp/pip-install-58cw25xt/spglib_6207849ab7c64022b27925c813b8e5ef/src/refinement.c).\n",
      "spglib: ref_get_exact_structure_and_symmetry failed. (line 82, /tmp/pip-install-58cw25xt/spglib_6207849ab7c64022b27925c813b8e5ef/src/determination.c).\n",
      "spglib: ssm_get_exact_positions failed (attempt=0). (line 115, /tmp/pip-install-58cw25xt/spglib_6207849ab7c64022b27925c813b8e5ef/src/site_symmetry.c).\n",
      "spglib: ssm_get_exact_positions failed (attempt=1). (line 115, /tmp/pip-install-58cw25xt/spglib_6207849ab7c64022b27925c813b8e5ef/src/site_symmetry.c).\n",
      "spglib: ssm_get_exact_positions failed (attempt=2). (line 115, /tmp/pip-install-58cw25xt/spglib_6207849ab7c64022b27925c813b8e5ef/src/site_symmetry.c).\n",
      "spglib: ssm_get_exact_positions failed (attempt=3). (line 115, /tmp/pip-install-58cw25xt/spglib_6207849ab7c64022b27925c813b8e5ef/src/site_symmetry.c).\n",
      "spglib: ssm_get_exact_positions failed (attempt=4). (line 115, /tmp/pip-install-58cw25xt/spglib_6207849ab7c64022b27925c813b8e5ef/src/site_symmetry.c).\n",
      "spglib: ssm_get_exact_positions failed. (line 479, /tmp/pip-install-58cw25xt/spglib_6207849ab7c64022b27925c813b8e5ef/src/refinement.c).\n",
      "spglib: get_bravais_exact_positions_and_lattice failed. (line 336, /tmp/pip-install-58cw25xt/spglib_6207849ab7c64022b27925c813b8e5ef/src/refinement.c).\n",
      "spglib: ref_get_exact_structure_and_symmetry failed. (line 82, /tmp/pip-install-58cw25xt/spglib_6207849ab7c64022b27925c813b8e5ef/src/determination.c).\n",
      "spglib: ssm_get_exact_positions failed (attempt=0). (line 115, /tmp/pip-install-58cw25xt/spglib_6207849ab7c64022b27925c813b8e5ef/src/site_symmetry.c).\n",
      "spglib: ssm_get_exact_positions failed (attempt=1). (line 115, /tmp/pip-install-58cw25xt/spglib_6207849ab7c64022b27925c813b8e5ef/src/site_symmetry.c).\n",
      "spglib: ssm_get_exact_positions failed (attempt=2). (line 115, /tmp/pip-install-58cw25xt/spglib_6207849ab7c64022b27925c813b8e5ef/src/site_symmetry.c).\n",
      "spglib: ssm_get_exact_positions failed (attempt=3). (line 115, /tmp/pip-install-58cw25xt/spglib_6207849ab7c64022b27925c813b8e5ef/src/site_symmetry.c).\n",
      "spglib: ssm_get_exact_positions failed (attempt=4). (line 115, /tmp/pip-install-58cw25xt/spglib_6207849ab7c64022b27925c813b8e5ef/src/site_symmetry.c).\n",
      "spglib: ssm_get_exact_positions failed. (line 479, /tmp/pip-install-58cw25xt/spglib_6207849ab7c64022b27925c813b8e5ef/src/refinement.c).\n",
      "spglib: get_bravais_exact_positions_and_lattice failed. (line 336, /tmp/pip-install-58cw25xt/spglib_6207849ab7c64022b27925c813b8e5ef/src/refinement.c).\n",
      "spglib: ref_get_exact_structure_and_symmetry failed. (line 82, /tmp/pip-install-58cw25xt/spglib_6207849ab7c64022b27925c813b8e5ef/src/determination.c).\n",
      "spglib: ssm_get_exact_positions failed (attempt=0). (line 115, /tmp/pip-install-58cw25xt/spglib_6207849ab7c64022b27925c813b8e5ef/src/site_symmetry.c).\n",
      "spglib: ssm_get_exact_positions failed (attempt=1). (line 115, /tmp/pip-install-58cw25xt/spglib_6207849ab7c64022b27925c813b8e5ef/src/site_symmetry.c).\n",
      "spglib: ssm_get_exact_positions failed (attempt=2). (line 115, /tmp/pip-install-58cw25xt/spglib_6207849ab7c64022b27925c813b8e5ef/src/site_symmetry.c).\n",
      "spglib: ssm_get_exact_positions failed (attempt=3). (line 115, /tmp/pip-install-58cw25xt/spglib_6207849ab7c64022b27925c813b8e5ef/src/site_symmetry.c).\n",
      "spglib: ssm_get_exact_positions failed (attempt=4). (line 115, /tmp/pip-install-58cw25xt/spglib_6207849ab7c64022b27925c813b8e5ef/src/site_symmetry.c).\n",
      "spglib: ssm_get_exact_positions failed. (line 479, /tmp/pip-install-58cw25xt/spglib_6207849ab7c64022b27925c813b8e5ef/src/refinement.c).\n",
      "spglib: get_bravais_exact_positions_and_lattice failed. (line 336, /tmp/pip-install-58cw25xt/spglib_6207849ab7c64022b27925c813b8e5ef/src/refinement.c).\n",
      "spglib: ref_get_exact_structure_and_symmetry failed. (line 82, /tmp/pip-install-58cw25xt/spglib_6207849ab7c64022b27925c813b8e5ef/src/determination.c).\n",
      "spglib: ssm_get_exact_positions failed (attempt=0). (line 115, /tmp/pip-install-58cw25xt/spglib_6207849ab7c64022b27925c813b8e5ef/src/site_symmetry.c).\n",
      "spglib: ssm_get_exact_positions failed (attempt=1). (line 115, /tmp/pip-install-58cw25xt/spglib_6207849ab7c64022b27925c813b8e5ef/src/site_symmetry.c).\n",
      "spglib: ssm_get_exact_positions failed (attempt=2). (line 115, /tmp/pip-install-58cw25xt/spglib_6207849ab7c64022b27925c813b8e5ef/src/site_symmetry.c).\n",
      "spglib: ssm_get_exact_positions failed (attempt=3). (line 115, /tmp/pip-install-58cw25xt/spglib_6207849ab7c64022b27925c813b8e5ef/src/site_symmetry.c).\n",
      "spglib: ssm_get_exact_positions failed (attempt=4). (line 115, /tmp/pip-install-58cw25xt/spglib_6207849ab7c64022b27925c813b8e5ef/src/site_symmetry.c).\n",
      "spglib: ssm_get_exact_positions failed. (line 479, /tmp/pip-install-58cw25xt/spglib_6207849ab7c64022b27925c813b8e5ef/src/refinement.c).\n",
      "spglib: get_bravais_exact_positions_and_lattice failed. (line 336, /tmp/pip-install-58cw25xt/spglib_6207849ab7c64022b27925c813b8e5ef/src/refinement.c).\n",
      "spglib: ref_get_exact_structure_and_symmetry failed. (line 82, /tmp/pip-install-58cw25xt/spglib_6207849ab7c64022b27925c813b8e5ef/src/determination.c).\n",
      "spglib: ssm_get_exact_positions failed (attempt=0). (line 115, /tmp/pip-install-58cw25xt/spglib_6207849ab7c64022b27925c813b8e5ef/src/site_symmetry.c).\n",
      "spglib: ssm_get_exact_positions failed (attempt=1). (line 115, /tmp/pip-install-58cw25xt/spglib_6207849ab7c64022b27925c813b8e5ef/src/site_symmetry.c).\n",
      "spglib: ssm_get_exact_positions failed (attempt=2). (line 115, /tmp/pip-install-58cw25xt/spglib_6207849ab7c64022b27925c813b8e5ef/src/site_symmetry.c).\n",
      "spglib: ssm_get_exact_positions failed (attempt=3). (line 115, /tmp/pip-install-58cw25xt/spglib_6207849ab7c64022b27925c813b8e5ef/src/site_symmetry.c).\n",
      "spglib: ssm_get_exact_positions failed (attempt=4). (line 115, /tmp/pip-install-58cw25xt/spglib_6207849ab7c64022b27925c813b8e5ef/src/site_symmetry.c).\n",
      "spglib: ssm_get_exact_positions failed. (line 479, /tmp/pip-install-58cw25xt/spglib_6207849ab7c64022b27925c813b8e5ef/src/refinement.c).\n",
      "spglib: get_bravais_exact_positions_and_lattice failed. (line 336, /tmp/pip-install-58cw25xt/spglib_6207849ab7c64022b27925c813b8e5ef/src/refinement.c).\n",
      "spglib: ref_get_exact_structure_and_symmetry failed. (line 82, /tmp/pip-install-58cw25xt/spglib_6207849ab7c64022b27925c813b8e5ef/src/determination.c).\n",
      "spglib: ssm_get_exact_positions failed (attempt=0). (line 115, /tmp/pip-install-58cw25xt/spglib_6207849ab7c64022b27925c813b8e5ef/src/site_symmetry.c).\n",
      "spglib: ssm_get_exact_positions failed (attempt=1). (line 115, /tmp/pip-install-58cw25xt/spglib_6207849ab7c64022b27925c813b8e5ef/src/site_symmetry.c).\n",
      "spglib: ssm_get_exact_positions failed (attempt=2). (line 115, /tmp/pip-install-58cw25xt/spglib_6207849ab7c64022b27925c813b8e5ef/src/site_symmetry.c).\n",
      "spglib: ssm_get_exact_positions failed (attempt=3). (line 115, /tmp/pip-install-58cw25xt/spglib_6207849ab7c64022b27925c813b8e5ef/src/site_symmetry.c).\n",
      "spglib: ssm_get_exact_positions failed (attempt=4). (line 115, /tmp/pip-install-58cw25xt/spglib_6207849ab7c64022b27925c813b8e5ef/src/site_symmetry.c).\n",
      "spglib: ssm_get_exact_positions failed. (line 479, /tmp/pip-install-58cw25xt/spglib_6207849ab7c64022b27925c813b8e5ef/src/refinement.c).\n",
      "spglib: get_bravais_exact_positions_and_lattice failed. (line 336, /tmp/pip-install-58cw25xt/spglib_6207849ab7c64022b27925c813b8e5ef/src/refinement.c).\n",
      "spglib: ref_get_exact_structure_and_symmetry failed. (line 82, /tmp/pip-install-58cw25xt/spglib_6207849ab7c64022b27925c813b8e5ef/src/determination.c).\n",
      "spglib: ssm_get_exact_positions failed (attempt=0). (line 115, /tmp/pip-install-58cw25xt/spglib_6207849ab7c64022b27925c813b8e5ef/src/site_symmetry.c).\n",
      "spglib: ssm_get_exact_positions failed (attempt=1). (line 115, /tmp/pip-install-58cw25xt/spglib_6207849ab7c64022b27925c813b8e5ef/src/site_symmetry.c).\n",
      "spglib: ssm_get_exact_positions failed (attempt=2). (line 115, /tmp/pip-install-58cw25xt/spglib_6207849ab7c64022b27925c813b8e5ef/src/site_symmetry.c).\n",
      "spglib: ssm_get_exact_positions failed (attempt=3). (line 115, /tmp/pip-install-58cw25xt/spglib_6207849ab7c64022b27925c813b8e5ef/src/site_symmetry.c).\n",
      "spglib: ssm_get_exact_positions failed (attempt=4). (line 115, /tmp/pip-install-58cw25xt/spglib_6207849ab7c64022b27925c813b8e5ef/src/site_symmetry.c).\n",
      "spglib: ssm_get_exact_positions failed. (line 479, /tmp/pip-install-58cw25xt/spglib_6207849ab7c64022b27925c813b8e5ef/src/refinement.c).\n",
      "spglib: get_bravais_exact_positions_and_lattice failed. (line 336, /tmp/pip-install-58cw25xt/spglib_6207849ab7c64022b27925c813b8e5ef/src/refinement.c).\n",
      "spglib: ref_get_exact_structure_and_symmetry failed. (line 82, /tmp/pip-install-58cw25xt/spglib_6207849ab7c64022b27925c813b8e5ef/src/determination.c).\n",
      "spglib: ssm_get_exact_positions failed (attempt=0). (line 115, /tmp/pip-install-58cw25xt/spglib_6207849ab7c64022b27925c813b8e5ef/src/site_symmetry.c).\n",
      "spglib: ssm_get_exact_positions failed (attempt=1). (line 115, /tmp/pip-install-58cw25xt/spglib_6207849ab7c64022b27925c813b8e5ef/src/site_symmetry.c).\n",
      "spglib: ssm_get_exact_positions failed (attempt=2). (line 115, /tmp/pip-install-58cw25xt/spglib_6207849ab7c64022b27925c813b8e5ef/src/site_symmetry.c).\n",
      "spglib: ssm_get_exact_positions failed (attempt=3). (line 115, /tmp/pip-install-58cw25xt/spglib_6207849ab7c64022b27925c813b8e5ef/src/site_symmetry.c).\n",
      "spglib: ssm_get_exact_positions failed (attempt=4). (line 115, /tmp/pip-install-58cw25xt/spglib_6207849ab7c64022b27925c813b8e5ef/src/site_symmetry.c).\n",
      "spglib: ssm_get_exact_positions failed. (line 479, /tmp/pip-install-58cw25xt/spglib_6207849ab7c64022b27925c813b8e5ef/src/refinement.c).\n",
      "spglib: get_bravais_exact_positions_and_lattice failed. (line 336, /tmp/pip-install-58cw25xt/spglib_6207849ab7c64022b27925c813b8e5ef/src/refinement.c).\n",
      "spglib: ref_get_exact_structure_and_symmetry failed. (line 82, /tmp/pip-install-58cw25xt/spglib_6207849ab7c64022b27925c813b8e5ef/src/determination.c).\n",
      "spglib: ssm_get_exact_positions failed (attempt=0). (line 115, /tmp/pip-install-58cw25xt/spglib_6207849ab7c64022b27925c813b8e5ef/src/site_symmetry.c).\n",
      "spglib: ssm_get_exact_positions failed (attempt=1). (line 115, /tmp/pip-install-58cw25xt/spglib_6207849ab7c64022b27925c813b8e5ef/src/site_symmetry.c).\n",
      "spglib: ssm_get_exact_positions failed (attempt=2). (line 115, /tmp/pip-install-58cw25xt/spglib_6207849ab7c64022b27925c813b8e5ef/src/site_symmetry.c).\n",
      "spglib: ssm_get_exact_positions failed (attempt=3). (line 115, /tmp/pip-install-58cw25xt/spglib_6207849ab7c64022b27925c813b8e5ef/src/site_symmetry.c).\n",
      "spglib: ssm_get_exact_positions failed (attempt=4). (line 115, /tmp/pip-install-58cw25xt/spglib_6207849ab7c64022b27925c813b8e5ef/src/site_symmetry.c).\n",
      "spglib: ssm_get_exact_positions failed. (line 479, /tmp/pip-install-58cw25xt/spglib_6207849ab7c64022b27925c813b8e5ef/src/refinement.c).\n",
      "spglib: get_bravais_exact_positions_and_lattice failed. (line 336, /tmp/pip-install-58cw25xt/spglib_6207849ab7c64022b27925c813b8e5ef/src/refinement.c).\n",
      "spglib: ref_get_exact_structure_and_symmetry failed. (line 82, /tmp/pip-install-58cw25xt/spglib_6207849ab7c64022b27925c813b8e5ef/src/determination.c).\n",
      "spglib: ssm_get_exact_positions failed (attempt=0). (line 115, /tmp/pip-install-58cw25xt/spglib_6207849ab7c64022b27925c813b8e5ef/src/site_symmetry.c).\n",
      "spglib: ssm_get_exact_positions failed (attempt=1). (line 115, /tmp/pip-install-58cw25xt/spglib_6207849ab7c64022b27925c813b8e5ef/src/site_symmetry.c).\n",
      "spglib: ssm_get_exact_positions failed (attempt=2). (line 115, /tmp/pip-install-58cw25xt/spglib_6207849ab7c64022b27925c813b8e5ef/src/site_symmetry.c).\n",
      "spglib: ssm_get_exact_positions failed (attempt=3). (line 115, /tmp/pip-install-58cw25xt/spglib_6207849ab7c64022b27925c813b8e5ef/src/site_symmetry.c).\n",
      "spglib: ssm_get_exact_positions failed (attempt=4). (line 115, /tmp/pip-install-58cw25xt/spglib_6207849ab7c64022b27925c813b8e5ef/src/site_symmetry.c).\n",
      "spglib: ssm_get_exact_positions failed. (line 479, /tmp/pip-install-58cw25xt/spglib_6207849ab7c64022b27925c813b8e5ef/src/refinement.c).\n",
      "spglib: get_bravais_exact_positions_and_lattice failed. (line 336, /tmp/pip-install-58cw25xt/spglib_6207849ab7c64022b27925c813b8e5ef/src/refinement.c).\n",
      "spglib: ref_get_exact_structure_and_symmetry failed. (line 82, /tmp/pip-install-58cw25xt/spglib_6207849ab7c64022b27925c813b8e5ef/src/determination.c).\n",
      "spglib: ssm_get_exact_positions failed (attempt=0). (line 115, /tmp/pip-install-58cw25xt/spglib_6207849ab7c64022b27925c813b8e5ef/src/site_symmetry.c).\n",
      "spglib: ssm_get_exact_positions failed (attempt=1). (line 115, /tmp/pip-install-58cw25xt/spglib_6207849ab7c64022b27925c813b8e5ef/src/site_symmetry.c).\n",
      "spglib: ssm_get_exact_positions failed (attempt=2). (line 115, /tmp/pip-install-58cw25xt/spglib_6207849ab7c64022b27925c813b8e5ef/src/site_symmetry.c).\n",
      "spglib: ssm_get_exact_positions failed (attempt=3). (line 115, /tmp/pip-install-58cw25xt/spglib_6207849ab7c64022b27925c813b8e5ef/src/site_symmetry.c).\n",
      "spglib: ssm_get_exact_positions failed (attempt=4). (line 115, /tmp/pip-install-58cw25xt/spglib_6207849ab7c64022b27925c813b8e5ef/src/site_symmetry.c).\n",
      "spglib: ssm_get_exact_positions failed. (line 479, /tmp/pip-install-58cw25xt/spglib_6207849ab7c64022b27925c813b8e5ef/src/refinement.c).\n",
      "spglib: get_bravais_exact_positions_and_lattice failed. (line 336, /tmp/pip-install-58cw25xt/spglib_6207849ab7c64022b27925c813b8e5ef/src/refinement.c).\n",
      "spglib: ref_get_exact_structure_and_symmetry failed. (line 82, /tmp/pip-install-58cw25xt/spglib_6207849ab7c64022b27925c813b8e5ef/src/determination.c).\n",
      "spglib: ssm_get_exact_positions failed (attempt=0). (line 115, /tmp/pip-install-58cw25xt/spglib_6207849ab7c64022b27925c813b8e5ef/src/site_symmetry.c).\n",
      "spglib: ssm_get_exact_positions failed (attempt=1). (line 115, /tmp/pip-install-58cw25xt/spglib_6207849ab7c64022b27925c813b8e5ef/src/site_symmetry.c).\n",
      "spglib: ssm_get_exact_positions failed (attempt=2). (line 115, /tmp/pip-install-58cw25xt/spglib_6207849ab7c64022b27925c813b8e5ef/src/site_symmetry.c).\n",
      "spglib: ssm_get_exact_positions failed (attempt=3). (line 115, /tmp/pip-install-58cw25xt/spglib_6207849ab7c64022b27925c813b8e5ef/src/site_symmetry.c).\n",
      "spglib: ssm_get_exact_positions failed (attempt=4). (line 115, /tmp/pip-install-58cw25xt/spglib_6207849ab7c64022b27925c813b8e5ef/src/site_symmetry.c).\n",
      "spglib: ssm_get_exact_positions failed. (line 479, /tmp/pip-install-58cw25xt/spglib_6207849ab7c64022b27925c813b8e5ef/src/refinement.c).\n",
      "spglib: get_bravais_exact_positions_and_lattice failed. (line 336, /tmp/pip-install-58cw25xt/spglib_6207849ab7c64022b27925c813b8e5ef/src/refinement.c).\n",
      "spglib: ref_get_exact_structure_and_symmetry failed. (line 82, /tmp/pip-install-58cw25xt/spglib_6207849ab7c64022b27925c813b8e5ef/src/determination.c).\n",
      "spglib: ssm_get_exact_positions failed (attempt=0). (line 115, /tmp/pip-install-58cw25xt/spglib_6207849ab7c64022b27925c813b8e5ef/src/site_symmetry.c).\n",
      "spglib: ssm_get_exact_positions failed (attempt=1). (line 115, /tmp/pip-install-58cw25xt/spglib_6207849ab7c64022b27925c813b8e5ef/src/site_symmetry.c).\n",
      "spglib: ssm_get_exact_positions failed (attempt=2). (line 115, /tmp/pip-install-58cw25xt/spglib_6207849ab7c64022b27925c813b8e5ef/src/site_symmetry.c).\n",
      "spglib: ssm_get_exact_positions failed (attempt=3). (line 115, /tmp/pip-install-58cw25xt/spglib_6207849ab7c64022b27925c813b8e5ef/src/site_symmetry.c).\n",
      "spglib: ssm_get_exact_positions failed (attempt=4). (line 115, /tmp/pip-install-58cw25xt/spglib_6207849ab7c64022b27925c813b8e5ef/src/site_symmetry.c).\n",
      "spglib: ssm_get_exact_positions failed. (line 479, /tmp/pip-install-58cw25xt/spglib_6207849ab7c64022b27925c813b8e5ef/src/refinement.c).\n",
      "spglib: get_bravais_exact_positions_and_lattice failed. (line 336, /tmp/pip-install-58cw25xt/spglib_6207849ab7c64022b27925c813b8e5ef/src/refinement.c).\n",
      "spglib: ref_get_exact_structure_and_symmetry failed. (line 82, /tmp/pip-install-58cw25xt/spglib_6207849ab7c64022b27925c813b8e5ef/src/determination.c).\n",
      "spglib: ssm_get_exact_positions failed (attempt=0). (line 115, /tmp/pip-install-58cw25xt/spglib_6207849ab7c64022b27925c813b8e5ef/src/site_symmetry.c).\n",
      "spglib: ssm_get_exact_positions failed (attempt=1). (line 115, /tmp/pip-install-58cw25xt/spglib_6207849ab7c64022b27925c813b8e5ef/src/site_symmetry.c).\n",
      "spglib: ssm_get_exact_positions failed (attempt=2). (line 115, /tmp/pip-install-58cw25xt/spglib_6207849ab7c64022b27925c813b8e5ef/src/site_symmetry.c).\n",
      "spglib: ssm_get_exact_positions failed (attempt=3). (line 115, /tmp/pip-install-58cw25xt/spglib_6207849ab7c64022b27925c813b8e5ef/src/site_symmetry.c).\n",
      "spglib: ssm_get_exact_positions failed (attempt=4). (line 115, /tmp/pip-install-58cw25xt/spglib_6207849ab7c64022b27925c813b8e5ef/src/site_symmetry.c).\n",
      "spglib: ssm_get_exact_positions failed. (line 479, /tmp/pip-install-58cw25xt/spglib_6207849ab7c64022b27925c813b8e5ef/src/refinement.c).\n",
      "spglib: get_bravais_exact_positions_and_lattice failed. (line 336, /tmp/pip-install-58cw25xt/spglib_6207849ab7c64022b27925c813b8e5ef/src/refinement.c).\n",
      "spglib: ref_get_exact_structure_and_symmetry failed. (line 82, /tmp/pip-install-58cw25xt/spglib_6207849ab7c64022b27925c813b8e5ef/src/determination.c).\n",
      "spglib: ssm_get_exact_positions failed (attempt=0). (line 115, /tmp/pip-install-58cw25xt/spglib_6207849ab7c64022b27925c813b8e5ef/src/site_symmetry.c).\n",
      "spglib: ssm_get_exact_positions failed (attempt=1). (line 115, /tmp/pip-install-58cw25xt/spglib_6207849ab7c64022b27925c813b8e5ef/src/site_symmetry.c).\n",
      "spglib: ssm_get_exact_positions failed (attempt=2). (line 115, /tmp/pip-install-58cw25xt/spglib_6207849ab7c64022b27925c813b8e5ef/src/site_symmetry.c).\n",
      "spglib: ssm_get_exact_positions failed (attempt=3). (line 115, /tmp/pip-install-58cw25xt/spglib_6207849ab7c64022b27925c813b8e5ef/src/site_symmetry.c).\n",
      "spglib: ssm_get_exact_positions failed (attempt=4). (line 115, /tmp/pip-install-58cw25xt/spglib_6207849ab7c64022b27925c813b8e5ef/src/site_symmetry.c).\n",
      "spglib: ssm_get_exact_positions failed. (line 479, /tmp/pip-install-58cw25xt/spglib_6207849ab7c64022b27925c813b8e5ef/src/refinement.c).\n",
      "spglib: get_bravais_exact_positions_and_lattice failed. (line 336, /tmp/pip-install-58cw25xt/spglib_6207849ab7c64022b27925c813b8e5ef/src/refinement.c).\n",
      "spglib: ref_get_exact_structure_and_symmetry failed. (line 82, /tmp/pip-install-58cw25xt/spglib_6207849ab7c64022b27925c813b8e5ef/src/determination.c).\n",
      "spglib: ssm_get_exact_positions failed (attempt=0). (line 115, /tmp/pip-install-58cw25xt/spglib_6207849ab7c64022b27925c813b8e5ef/src/site_symmetry.c).\n",
      "spglib: ssm_get_exact_positions failed (attempt=1). (line 115, /tmp/pip-install-58cw25xt/spglib_6207849ab7c64022b27925c813b8e5ef/src/site_symmetry.c).\n",
      "spglib: ssm_get_exact_positions failed (attempt=2). (line 115, /tmp/pip-install-58cw25xt/spglib_6207849ab7c64022b27925c813b8e5ef/src/site_symmetry.c).\n",
      "spglib: ssm_get_exact_positions failed (attempt=3). (line 115, /tmp/pip-install-58cw25xt/spglib_6207849ab7c64022b27925c813b8e5ef/src/site_symmetry.c).\n",
      "spglib: ssm_get_exact_positions failed (attempt=4). (line 115, /tmp/pip-install-58cw25xt/spglib_6207849ab7c64022b27925c813b8e5ef/src/site_symmetry.c).\n",
      "spglib: ssm_get_exact_positions failed. (line 479, /tmp/pip-install-58cw25xt/spglib_6207849ab7c64022b27925c813b8e5ef/src/refinement.c).\n",
      "spglib: get_bravais_exact_positions_and_lattice failed. (line 336, /tmp/pip-install-58cw25xt/spglib_6207849ab7c64022b27925c813b8e5ef/src/refinement.c).\n",
      "spglib: ref_get_exact_structure_and_symmetry failed. (line 82, /tmp/pip-install-58cw25xt/spglib_6207849ab7c64022b27925c813b8e5ef/src/determination.c).\n",
      "spglib: ssm_get_exact_positions failed (attempt=0). (line 115, /tmp/pip-install-58cw25xt/spglib_6207849ab7c64022b27925c813b8e5ef/src/site_symmetry.c).\n",
      "spglib: ssm_get_exact_positions failed (attempt=1). (line 115, /tmp/pip-install-58cw25xt/spglib_6207849ab7c64022b27925c813b8e5ef/src/site_symmetry.c).\n",
      "spglib: ssm_get_exact_positions failed (attempt=2). (line 115, /tmp/pip-install-58cw25xt/spglib_6207849ab7c64022b27925c813b8e5ef/src/site_symmetry.c).\n",
      "spglib: ssm_get_exact_positions failed (attempt=3). (line 115, /tmp/pip-install-58cw25xt/spglib_6207849ab7c64022b27925c813b8e5ef/src/site_symmetry.c).\n",
      "spglib: ssm_get_exact_positions failed (attempt=4). (line 115, /tmp/pip-install-58cw25xt/spglib_6207849ab7c64022b27925c813b8e5ef/src/site_symmetry.c).\n",
      "spglib: ssm_get_exact_positions failed. (line 479, /tmp/pip-install-58cw25xt/spglib_6207849ab7c64022b27925c813b8e5ef/src/refinement.c).\n",
      "spglib: get_bravais_exact_positions_and_lattice failed. (line 336, /tmp/pip-install-58cw25xt/spglib_6207849ab7c64022b27925c813b8e5ef/src/refinement.c).\n",
      "spglib: ref_get_exact_structure_and_symmetry failed. (line 82, /tmp/pip-install-58cw25xt/spglib_6207849ab7c64022b27925c813b8e5ef/src/determination.c).\n",
      "spglib: ssm_get_exact_positions failed (attempt=0). (line 115, /tmp/pip-install-58cw25xt/spglib_6207849ab7c64022b27925c813b8e5ef/src/site_symmetry.c).\n",
      "spglib: ssm_get_exact_positions failed (attempt=1). (line 115, /tmp/pip-install-58cw25xt/spglib_6207849ab7c64022b27925c813b8e5ef/src/site_symmetry.c).\n",
      "spglib: ssm_get_exact_positions failed (attempt=2). (line 115, /tmp/pip-install-58cw25xt/spglib_6207849ab7c64022b27925c813b8e5ef/src/site_symmetry.c).\n",
      "spglib: ssm_get_exact_positions failed (attempt=3). (line 115, /tmp/pip-install-58cw25xt/spglib_6207849ab7c64022b27925c813b8e5ef/src/site_symmetry.c).\n",
      "spglib: ssm_get_exact_positions failed (attempt=4). (line 115, /tmp/pip-install-58cw25xt/spglib_6207849ab7c64022b27925c813b8e5ef/src/site_symmetry.c).\n",
      "spglib: ssm_get_exact_positions failed. (line 479, /tmp/pip-install-58cw25xt/spglib_6207849ab7c64022b27925c813b8e5ef/src/refinement.c).\n",
      "spglib: get_bravais_exact_positions_and_lattice failed. (line 336, /tmp/pip-install-58cw25xt/spglib_6207849ab7c64022b27925c813b8e5ef/src/refinement.c).\n",
      "spglib: ref_get_exact_structure_and_symmetry failed. (line 82, /tmp/pip-install-58cw25xt/spglib_6207849ab7c64022b27925c813b8e5ef/src/determination.c).\n",
      "spglib: ssm_get_exact_positions failed (attempt=0). (line 115, /tmp/pip-install-58cw25xt/spglib_6207849ab7c64022b27925c813b8e5ef/src/site_symmetry.c).\n",
      "spglib: ssm_get_exact_positions failed (attempt=1). (line 115, /tmp/pip-install-58cw25xt/spglib_6207849ab7c64022b27925c813b8e5ef/src/site_symmetry.c).\n",
      "spglib: ssm_get_exact_positions failed (attempt=2). (line 115, /tmp/pip-install-58cw25xt/spglib_6207849ab7c64022b27925c813b8e5ef/src/site_symmetry.c).\n",
      "spglib: ssm_get_exact_positions failed (attempt=3). (line 115, /tmp/pip-install-58cw25xt/spglib_6207849ab7c64022b27925c813b8e5ef/src/site_symmetry.c).\n",
      "spglib: ssm_get_exact_positions failed (attempt=4). (line 115, /tmp/pip-install-58cw25xt/spglib_6207849ab7c64022b27925c813b8e5ef/src/site_symmetry.c).\n",
      "spglib: ssm_get_exact_positions failed. (line 479, /tmp/pip-install-58cw25xt/spglib_6207849ab7c64022b27925c813b8e5ef/src/refinement.c).\n",
      "spglib: get_bravais_exact_positions_and_lattice failed. (line 336, /tmp/pip-install-58cw25xt/spglib_6207849ab7c64022b27925c813b8e5ef/src/refinement.c).\n",
      "spglib: ref_get_exact_structure_and_symmetry failed. (line 82, /tmp/pip-install-58cw25xt/spglib_6207849ab7c64022b27925c813b8e5ef/src/determination.c).\n",
      "spglib: ssm_get_exact_positions failed (attempt=0). (line 115, /tmp/pip-install-58cw25xt/spglib_6207849ab7c64022b27925c813b8e5ef/src/site_symmetry.c).\n",
      "spglib: ssm_get_exact_positions failed (attempt=1). (line 115, /tmp/pip-install-58cw25xt/spglib_6207849ab7c64022b27925c813b8e5ef/src/site_symmetry.c).\n",
      "spglib: ssm_get_exact_positions failed (attempt=2). (line 115, /tmp/pip-install-58cw25xt/spglib_6207849ab7c64022b27925c813b8e5ef/src/site_symmetry.c).\n",
      "spglib: ssm_get_exact_positions failed (attempt=3). (line 115, /tmp/pip-install-58cw25xt/spglib_6207849ab7c64022b27925c813b8e5ef/src/site_symmetry.c).\n",
      "spglib: ssm_get_exact_positions failed (attempt=4). (line 115, /tmp/pip-install-58cw25xt/spglib_6207849ab7c64022b27925c813b8e5ef/src/site_symmetry.c).\n",
      "spglib: ssm_get_exact_positions failed. (line 479, /tmp/pip-install-58cw25xt/spglib_6207849ab7c64022b27925c813b8e5ef/src/refinement.c).\n",
      "spglib: get_bravais_exact_positions_and_lattice failed. (line 336, /tmp/pip-install-58cw25xt/spglib_6207849ab7c64022b27925c813b8e5ef/src/refinement.c).\n",
      "spglib: ref_get_exact_structure_and_symmetry failed. (line 82, /tmp/pip-install-58cw25xt/spglib_6207849ab7c64022b27925c813b8e5ef/src/determination.c).\n",
      "spglib: ssm_get_exact_positions failed (attempt=0). (line 115, /tmp/pip-install-58cw25xt/spglib_6207849ab7c64022b27925c813b8e5ef/src/site_symmetry.c).\n",
      "spglib: ssm_get_exact_positions failed (attempt=1). (line 115, /tmp/pip-install-58cw25xt/spglib_6207849ab7c64022b27925c813b8e5ef/src/site_symmetry.c).\n",
      "spglib: ssm_get_exact_positions failed (attempt=2). (line 115, /tmp/pip-install-58cw25xt/spglib_6207849ab7c64022b27925c813b8e5ef/src/site_symmetry.c).\n",
      "spglib: ssm_get_exact_positions failed (attempt=3). (line 115, /tmp/pip-install-58cw25xt/spglib_6207849ab7c64022b27925c813b8e5ef/src/site_symmetry.c).\n",
      "spglib: ssm_get_exact_positions failed (attempt=4). (line 115, /tmp/pip-install-58cw25xt/spglib_6207849ab7c64022b27925c813b8e5ef/src/site_symmetry.c).\n",
      "spglib: ssm_get_exact_positions failed. (line 479, /tmp/pip-install-58cw25xt/spglib_6207849ab7c64022b27925c813b8e5ef/src/refinement.c).\n",
      "spglib: get_bravais_exact_positions_and_lattice failed. (line 336, /tmp/pip-install-58cw25xt/spglib_6207849ab7c64022b27925c813b8e5ef/src/refinement.c).\n",
      "spglib: ref_get_exact_structure_and_symmetry failed. (line 82, /tmp/pip-install-58cw25xt/spglib_6207849ab7c64022b27925c813b8e5ef/src/determination.c).\n",
      "spglib: ssm_get_exact_positions failed (attempt=0). (line 115, /tmp/pip-install-58cw25xt/spglib_6207849ab7c64022b27925c813b8e5ef/src/site_symmetry.c).\n",
      "spglib: ssm_get_exact_positions failed (attempt=1). (line 115, /tmp/pip-install-58cw25xt/spglib_6207849ab7c64022b27925c813b8e5ef/src/site_symmetry.c).\n",
      "spglib: ssm_get_exact_positions failed (attempt=2). (line 115, /tmp/pip-install-58cw25xt/spglib_6207849ab7c64022b27925c813b8e5ef/src/site_symmetry.c).\n",
      "spglib: ssm_get_exact_positions failed (attempt=3). (line 115, /tmp/pip-install-58cw25xt/spglib_6207849ab7c64022b27925c813b8e5ef/src/site_symmetry.c).\n",
      "spglib: ssm_get_exact_positions failed (attempt=4). (line 115, /tmp/pip-install-58cw25xt/spglib_6207849ab7c64022b27925c813b8e5ef/src/site_symmetry.c).\n",
      "spglib: ssm_get_exact_positions failed. (line 479, /tmp/pip-install-58cw25xt/spglib_6207849ab7c64022b27925c813b8e5ef/src/refinement.c).\n",
      "spglib: get_bravais_exact_positions_and_lattice failed. (line 336, /tmp/pip-install-58cw25xt/spglib_6207849ab7c64022b27925c813b8e5ef/src/refinement.c).\n",
      "spglib: ref_get_exact_structure_and_symmetry failed. (line 82, /tmp/pip-install-58cw25xt/spglib_6207849ab7c64022b27925c813b8e5ef/src/determination.c).\n",
      "spglib: ssm_get_exact_positions failed (attempt=0). (line 115, /tmp/pip-install-58cw25xt/spglib_6207849ab7c64022b27925c813b8e5ef/src/site_symmetry.c).\n",
      "spglib: ssm_get_exact_positions failed (attempt=1). (line 115, /tmp/pip-install-58cw25xt/spglib_6207849ab7c64022b27925c813b8e5ef/src/site_symmetry.c).\n",
      "spglib: ssm_get_exact_positions failed (attempt=2). (line 115, /tmp/pip-install-58cw25xt/spglib_6207849ab7c64022b27925c813b8e5ef/src/site_symmetry.c).\n",
      "spglib: ssm_get_exact_positions failed (attempt=3). (line 115, /tmp/pip-install-58cw25xt/spglib_6207849ab7c64022b27925c813b8e5ef/src/site_symmetry.c).\n",
      "spglib: ssm_get_exact_positions failed (attempt=4). (line 115, /tmp/pip-install-58cw25xt/spglib_6207849ab7c64022b27925c813b8e5ef/src/site_symmetry.c).\n",
      "spglib: ssm_get_exact_positions failed. (line 479, /tmp/pip-install-58cw25xt/spglib_6207849ab7c64022b27925c813b8e5ef/src/refinement.c).\n",
      "spglib: get_bravais_exact_positions_and_lattice failed. (line 336, /tmp/pip-install-58cw25xt/spglib_6207849ab7c64022b27925c813b8e5ef/src/refinement.c).\n",
      "spglib: ref_get_exact_structure_and_symmetry failed. (line 82, /tmp/pip-install-58cw25xt/spglib_6207849ab7c64022b27925c813b8e5ef/src/determination.c).\n",
      "spglib: ssm_get_exact_positions failed (attempt=0). (line 115, /tmp/pip-install-58cw25xt/spglib_6207849ab7c64022b27925c813b8e5ef/src/site_symmetry.c).\n",
      "spglib: ssm_get_exact_positions failed (attempt=1). (line 115, /tmp/pip-install-58cw25xt/spglib_6207849ab7c64022b27925c813b8e5ef/src/site_symmetry.c).\n",
      "spglib: ssm_get_exact_positions failed (attempt=2). (line 115, /tmp/pip-install-58cw25xt/spglib_6207849ab7c64022b27925c813b8e5ef/src/site_symmetry.c).\n",
      "spglib: ssm_get_exact_positions failed (attempt=3). (line 115, /tmp/pip-install-58cw25xt/spglib_6207849ab7c64022b27925c813b8e5ef/src/site_symmetry.c).\n",
      "spglib: ssm_get_exact_positions failed (attempt=4). (line 115, /tmp/pip-install-58cw25xt/spglib_6207849ab7c64022b27925c813b8e5ef/src/site_symmetry.c).\n",
      "spglib: ssm_get_exact_positions failed. (line 479, /tmp/pip-install-58cw25xt/spglib_6207849ab7c64022b27925c813b8e5ef/src/refinement.c).\n",
      "spglib: get_bravais_exact_positions_and_lattice failed. (line 336, /tmp/pip-install-58cw25xt/spglib_6207849ab7c64022b27925c813b8e5ef/src/refinement.c).\n",
      "spglib: ref_get_exact_structure_and_symmetry failed. (line 82, /tmp/pip-install-58cw25xt/spglib_6207849ab7c64022b27925c813b8e5ef/src/determination.c).\n",
      "spglib: ssm_get_exact_positions failed (attempt=0). (line 115, /tmp/pip-install-58cw25xt/spglib_6207849ab7c64022b27925c813b8e5ef/src/site_symmetry.c).\n",
      "spglib: ssm_get_exact_positions failed (attempt=1). (line 115, /tmp/pip-install-58cw25xt/spglib_6207849ab7c64022b27925c813b8e5ef/src/site_symmetry.c).\n",
      "spglib: ssm_get_exact_positions failed (attempt=2). (line 115, /tmp/pip-install-58cw25xt/spglib_6207849ab7c64022b27925c813b8e5ef/src/site_symmetry.c).\n",
      "spglib: ssm_get_exact_positions failed (attempt=3). (line 115, /tmp/pip-install-58cw25xt/spglib_6207849ab7c64022b27925c813b8e5ef/src/site_symmetry.c).\n",
      "spglib: ssm_get_exact_positions failed (attempt=4). (line 115, /tmp/pip-install-58cw25xt/spglib_6207849ab7c64022b27925c813b8e5ef/src/site_symmetry.c).\n",
      "spglib: ssm_get_exact_positions failed. (line 479, /tmp/pip-install-58cw25xt/spglib_6207849ab7c64022b27925c813b8e5ef/src/refinement.c).\n",
      "spglib: get_bravais_exact_positions_and_lattice failed. (line 336, /tmp/pip-install-58cw25xt/spglib_6207849ab7c64022b27925c813b8e5ef/src/refinement.c).\n",
      "spglib: ref_get_exact_structure_and_symmetry failed. (line 82, /tmp/pip-install-58cw25xt/spglib_6207849ab7c64022b27925c813b8e5ef/src/determination.c).\n",
      "spglib: ssm_get_exact_positions failed (attempt=0). (line 115, /tmp/pip-install-58cw25xt/spglib_6207849ab7c64022b27925c813b8e5ef/src/site_symmetry.c).\n",
      "spglib: ssm_get_exact_positions failed (attempt=1). (line 115, /tmp/pip-install-58cw25xt/spglib_6207849ab7c64022b27925c813b8e5ef/src/site_symmetry.c).\n",
      "spglib: ssm_get_exact_positions failed (attempt=2). (line 115, /tmp/pip-install-58cw25xt/spglib_6207849ab7c64022b27925c813b8e5ef/src/site_symmetry.c).\n",
      "spglib: ssm_get_exact_positions failed (attempt=3). (line 115, /tmp/pip-install-58cw25xt/spglib_6207849ab7c64022b27925c813b8e5ef/src/site_symmetry.c).\n",
      "spglib: ssm_get_exact_positions failed (attempt=4). (line 115, /tmp/pip-install-58cw25xt/spglib_6207849ab7c64022b27925c813b8e5ef/src/site_symmetry.c).\n",
      "spglib: ssm_get_exact_positions failed. (line 479, /tmp/pip-install-58cw25xt/spglib_6207849ab7c64022b27925c813b8e5ef/src/refinement.c).\n",
      "spglib: get_bravais_exact_positions_and_lattice failed. (line 336, /tmp/pip-install-58cw25xt/spglib_6207849ab7c64022b27925c813b8e5ef/src/refinement.c).\n",
      "spglib: ref_get_exact_structure_and_symmetry failed. (line 82, /tmp/pip-install-58cw25xt/spglib_6207849ab7c64022b27925c813b8e5ef/src/determination.c).\n",
      "spglib: ssm_get_exact_positions failed (attempt=0). (line 115, /tmp/pip-install-58cw25xt/spglib_6207849ab7c64022b27925c813b8e5ef/src/site_symmetry.c).\n",
      "spglib: ssm_get_exact_positions failed (attempt=1). (line 115, /tmp/pip-install-58cw25xt/spglib_6207849ab7c64022b27925c813b8e5ef/src/site_symmetry.c).\n",
      "spglib: ssm_get_exact_positions failed (attempt=2). (line 115, /tmp/pip-install-58cw25xt/spglib_6207849ab7c64022b27925c813b8e5ef/src/site_symmetry.c).\n",
      "spglib: ssm_get_exact_positions failed (attempt=3). (line 115, /tmp/pip-install-58cw25xt/spglib_6207849ab7c64022b27925c813b8e5ef/src/site_symmetry.c).\n",
      "spglib: ssm_get_exact_positions failed (attempt=4). (line 115, /tmp/pip-install-58cw25xt/spglib_6207849ab7c64022b27925c813b8e5ef/src/site_symmetry.c).\n",
      "spglib: ssm_get_exact_positions failed. (line 479, /tmp/pip-install-58cw25xt/spglib_6207849ab7c64022b27925c813b8e5ef/src/refinement.c).\n",
      "spglib: get_bravais_exact_positions_and_lattice failed. (line 336, /tmp/pip-install-58cw25xt/spglib_6207849ab7c64022b27925c813b8e5ef/src/refinement.c).\n",
      "spglib: ref_get_exact_structure_and_symmetry failed. (line 82, /tmp/pip-install-58cw25xt/spglib_6207849ab7c64022b27925c813b8e5ef/src/determination.c).\n",
      "spglib: ssm_get_exact_positions failed (attempt=0). (line 115, /tmp/pip-install-58cw25xt/spglib_6207849ab7c64022b27925c813b8e5ef/src/site_symmetry.c).\n",
      "spglib: ssm_get_exact_positions failed (attempt=1). (line 115, /tmp/pip-install-58cw25xt/spglib_6207849ab7c64022b27925c813b8e5ef/src/site_symmetry.c).\n",
      "spglib: ssm_get_exact_positions failed (attempt=2). (line 115, /tmp/pip-install-58cw25xt/spglib_6207849ab7c64022b27925c813b8e5ef/src/site_symmetry.c).\n",
      "spglib: ssm_get_exact_positions failed (attempt=3). (line 115, /tmp/pip-install-58cw25xt/spglib_6207849ab7c64022b27925c813b8e5ef/src/site_symmetry.c).\n",
      "spglib: ssm_get_exact_positions failed (attempt=4). (line 115, /tmp/pip-install-58cw25xt/spglib_6207849ab7c64022b27925c813b8e5ef/src/site_symmetry.c).\n",
      "spglib: ssm_get_exact_positions failed. (line 479, /tmp/pip-install-58cw25xt/spglib_6207849ab7c64022b27925c813b8e5ef/src/refinement.c).\n",
      "spglib: get_bravais_exact_positions_and_lattice failed. (line 336, /tmp/pip-install-58cw25xt/spglib_6207849ab7c64022b27925c813b8e5ef/src/refinement.c).\n",
      "spglib: ref_get_exact_structure_and_symmetry failed. (line 82, /tmp/pip-install-58cw25xt/spglib_6207849ab7c64022b27925c813b8e5ef/src/determination.c).\n",
      "spglib: ssm_get_exact_positions failed (attempt=0). (line 115, /tmp/pip-install-58cw25xt/spglib_6207849ab7c64022b27925c813b8e5ef/src/site_symmetry.c).\n",
      "spglib: ssm_get_exact_positions failed (attempt=1). (line 115, /tmp/pip-install-58cw25xt/spglib_6207849ab7c64022b27925c813b8e5ef/src/site_symmetry.c).\n",
      "spglib: ssm_get_exact_positions failed (attempt=2). (line 115, /tmp/pip-install-58cw25xt/spglib_6207849ab7c64022b27925c813b8e5ef/src/site_symmetry.c).\n",
      "spglib: ssm_get_exact_positions failed (attempt=3). (line 115, /tmp/pip-install-58cw25xt/spglib_6207849ab7c64022b27925c813b8e5ef/src/site_symmetry.c).\n",
      "spglib: ssm_get_exact_positions failed (attempt=4). (line 115, /tmp/pip-install-58cw25xt/spglib_6207849ab7c64022b27925c813b8e5ef/src/site_symmetry.c).\n",
      "spglib: ssm_get_exact_positions failed. (line 479, /tmp/pip-install-58cw25xt/spglib_6207849ab7c64022b27925c813b8e5ef/src/refinement.c).\n",
      "spglib: get_bravais_exact_positions_and_lattice failed. (line 336, /tmp/pip-install-58cw25xt/spglib_6207849ab7c64022b27925c813b8e5ef/src/refinement.c).\n",
      "spglib: ref_get_exact_structure_and_symmetry failed. (line 82, /tmp/pip-install-58cw25xt/spglib_6207849ab7c64022b27925c813b8e5ef/src/determination.c).\n",
      "spglib: ssm_get_exact_positions failed (attempt=0). (line 115, /tmp/pip-install-58cw25xt/spglib_6207849ab7c64022b27925c813b8e5ef/src/site_symmetry.c).\n",
      "spglib: ssm_get_exact_positions failed (attempt=1). (line 115, /tmp/pip-install-58cw25xt/spglib_6207849ab7c64022b27925c813b8e5ef/src/site_symmetry.c).\n",
      "spglib: ssm_get_exact_positions failed (attempt=2). (line 115, /tmp/pip-install-58cw25xt/spglib_6207849ab7c64022b27925c813b8e5ef/src/site_symmetry.c).\n",
      "spglib: ssm_get_exact_positions failed (attempt=3). (line 115, /tmp/pip-install-58cw25xt/spglib_6207849ab7c64022b27925c813b8e5ef/src/site_symmetry.c).\n",
      "spglib: ssm_get_exact_positions failed (attempt=4). (line 115, /tmp/pip-install-58cw25xt/spglib_6207849ab7c64022b27925c813b8e5ef/src/site_symmetry.c).\n",
      "spglib: ssm_get_exact_positions failed. (line 479, /tmp/pip-install-58cw25xt/spglib_6207849ab7c64022b27925c813b8e5ef/src/refinement.c).\n",
      "spglib: get_bravais_exact_positions_and_lattice failed. (line 336, /tmp/pip-install-58cw25xt/spglib_6207849ab7c64022b27925c813b8e5ef/src/refinement.c).\n",
      "spglib: ref_get_exact_structure_and_symmetry failed. (line 82, /tmp/pip-install-58cw25xt/spglib_6207849ab7c64022b27925c813b8e5ef/src/determination.c).\n",
      "spglib: ssm_get_exact_positions failed (attempt=0). (line 115, /tmp/pip-install-58cw25xt/spglib_6207849ab7c64022b27925c813b8e5ef/src/site_symmetry.c).\n",
      "spglib: ssm_get_exact_positions failed (attempt=1). (line 115, /tmp/pip-install-58cw25xt/spglib_6207849ab7c64022b27925c813b8e5ef/src/site_symmetry.c).\n",
      "spglib: ssm_get_exact_positions failed (attempt=2). (line 115, /tmp/pip-install-58cw25xt/spglib_6207849ab7c64022b27925c813b8e5ef/src/site_symmetry.c).\n",
      "spglib: ssm_get_exact_positions failed (attempt=3). (line 115, /tmp/pip-install-58cw25xt/spglib_6207849ab7c64022b27925c813b8e5ef/src/site_symmetry.c).\n",
      "spglib: ssm_get_exact_positions failed (attempt=4). (line 115, /tmp/pip-install-58cw25xt/spglib_6207849ab7c64022b27925c813b8e5ef/src/site_symmetry.c).\n",
      "spglib: ssm_get_exact_positions failed. (line 479, /tmp/pip-install-58cw25xt/spglib_6207849ab7c64022b27925c813b8e5ef/src/refinement.c).\n",
      "spglib: get_bravais_exact_positions_and_lattice failed. (line 336, /tmp/pip-install-58cw25xt/spglib_6207849ab7c64022b27925c813b8e5ef/src/refinement.c).\n",
      "spglib: ref_get_exact_structure_and_symmetry failed. (line 82, /tmp/pip-install-58cw25xt/spglib_6207849ab7c64022b27925c813b8e5ef/src/determination.c).\n",
      "spglib: ssm_get_exact_positions failed (attempt=0). (line 115, /tmp/pip-install-58cw25xt/spglib_6207849ab7c64022b27925c813b8e5ef/src/site_symmetry.c).\n",
      "spglib: ssm_get_exact_positions failed (attempt=1). (line 115, /tmp/pip-install-58cw25xt/spglib_6207849ab7c64022b27925c813b8e5ef/src/site_symmetry.c).\n",
      "spglib: ssm_get_exact_positions failed (attempt=2). (line 115, /tmp/pip-install-58cw25xt/spglib_6207849ab7c64022b27925c813b8e5ef/src/site_symmetry.c).\n",
      "spglib: ssm_get_exact_positions failed (attempt=3). (line 115, /tmp/pip-install-58cw25xt/spglib_6207849ab7c64022b27925c813b8e5ef/src/site_symmetry.c).\n",
      "spglib: ssm_get_exact_positions failed (attempt=4). (line 115, /tmp/pip-install-58cw25xt/spglib_6207849ab7c64022b27925c813b8e5ef/src/site_symmetry.c).\n",
      "spglib: ssm_get_exact_positions failed. (line 479, /tmp/pip-install-58cw25xt/spglib_6207849ab7c64022b27925c813b8e5ef/src/refinement.c).\n",
      "spglib: get_bravais_exact_positions_and_lattice failed. (line 336, /tmp/pip-install-58cw25xt/spglib_6207849ab7c64022b27925c813b8e5ef/src/refinement.c).\n",
      "spglib: ref_get_exact_structure_and_symmetry failed. (line 82, /tmp/pip-install-58cw25xt/spglib_6207849ab7c64022b27925c813b8e5ef/src/determination.c).\n",
      "spglib: ssm_get_exact_positions failed (attempt=0). (line 115, /tmp/pip-install-58cw25xt/spglib_6207849ab7c64022b27925c813b8e5ef/src/site_symmetry.c).\n",
      "spglib: ssm_get_exact_positions failed (attempt=1). (line 115, /tmp/pip-install-58cw25xt/spglib_6207849ab7c64022b27925c813b8e5ef/src/site_symmetry.c).\n",
      "spglib: ssm_get_exact_positions failed (attempt=2). (line 115, /tmp/pip-install-58cw25xt/spglib_6207849ab7c64022b27925c813b8e5ef/src/site_symmetry.c).\n",
      "spglib: ssm_get_exact_positions failed (attempt=3). (line 115, /tmp/pip-install-58cw25xt/spglib_6207849ab7c64022b27925c813b8e5ef/src/site_symmetry.c).\n",
      "spglib: ssm_get_exact_positions failed (attempt=4). (line 115, /tmp/pip-install-58cw25xt/spglib_6207849ab7c64022b27925c813b8e5ef/src/site_symmetry.c).\n",
      "spglib: ssm_get_exact_positions failed. (line 479, /tmp/pip-install-58cw25xt/spglib_6207849ab7c64022b27925c813b8e5ef/src/refinement.c).\n",
      "spglib: get_bravais_exact_positions_and_lattice failed. (line 336, /tmp/pip-install-58cw25xt/spglib_6207849ab7c64022b27925c813b8e5ef/src/refinement.c).\n",
      "spglib: ref_get_exact_structure_and_symmetry failed. (line 82, /tmp/pip-install-58cw25xt/spglib_6207849ab7c64022b27925c813b8e5ef/src/determination.c).\n",
      "spglib: ssm_get_exact_positions failed (attempt=0). (line 115, /tmp/pip-install-58cw25xt/spglib_6207849ab7c64022b27925c813b8e5ef/src/site_symmetry.c).\n",
      "spglib: ssm_get_exact_positions failed (attempt=1). (line 115, /tmp/pip-install-58cw25xt/spglib_6207849ab7c64022b27925c813b8e5ef/src/site_symmetry.c).\n",
      "spglib: ssm_get_exact_positions failed (attempt=2). (line 115, /tmp/pip-install-58cw25xt/spglib_6207849ab7c64022b27925c813b8e5ef/src/site_symmetry.c).\n",
      "spglib: ssm_get_exact_positions failed (attempt=3). (line 115, /tmp/pip-install-58cw25xt/spglib_6207849ab7c64022b27925c813b8e5ef/src/site_symmetry.c).\n",
      "spglib: ssm_get_exact_positions failed (attempt=4). (line 115, /tmp/pip-install-58cw25xt/spglib_6207849ab7c64022b27925c813b8e5ef/src/site_symmetry.c).\n",
      "spglib: ssm_get_exact_positions failed. (line 479, /tmp/pip-install-58cw25xt/spglib_6207849ab7c64022b27925c813b8e5ef/src/refinement.c).\n",
      "spglib: get_bravais_exact_positions_and_lattice failed. (line 336, /tmp/pip-install-58cw25xt/spglib_6207849ab7c64022b27925c813b8e5ef/src/refinement.c).\n",
      "spglib: ref_get_exact_structure_and_symmetry failed. (line 82, /tmp/pip-install-58cw25xt/spglib_6207849ab7c64022b27925c813b8e5ef/src/determination.c).\n",
      "spglib: ssm_get_exact_positions failed (attempt=0). (line 115, /tmp/pip-install-58cw25xt/spglib_6207849ab7c64022b27925c813b8e5ef/src/site_symmetry.c).\n",
      "spglib: ssm_get_exact_positions failed (attempt=1). (line 115, /tmp/pip-install-58cw25xt/spglib_6207849ab7c64022b27925c813b8e5ef/src/site_symmetry.c).\n",
      "spglib: ssm_get_exact_positions failed (attempt=2). (line 115, /tmp/pip-install-58cw25xt/spglib_6207849ab7c64022b27925c813b8e5ef/src/site_symmetry.c).\n",
      "spglib: ssm_get_exact_positions failed (attempt=3). (line 115, /tmp/pip-install-58cw25xt/spglib_6207849ab7c64022b27925c813b8e5ef/src/site_symmetry.c).\n",
      "spglib: ssm_get_exact_positions failed (attempt=4). (line 115, /tmp/pip-install-58cw25xt/spglib_6207849ab7c64022b27925c813b8e5ef/src/site_symmetry.c).\n",
      "spglib: ssm_get_exact_positions failed. (line 479, /tmp/pip-install-58cw25xt/spglib_6207849ab7c64022b27925c813b8e5ef/src/refinement.c).\n",
      "spglib: get_bravais_exact_positions_and_lattice failed. (line 336, /tmp/pip-install-58cw25xt/spglib_6207849ab7c64022b27925c813b8e5ef/src/refinement.c).\n",
      "spglib: ref_get_exact_structure_and_symmetry failed. (line 82, /tmp/pip-install-58cw25xt/spglib_6207849ab7c64022b27925c813b8e5ef/src/determination.c).\n",
      "spglib: ssm_get_exact_positions failed (attempt=0). (line 115, /tmp/pip-install-58cw25xt/spglib_6207849ab7c64022b27925c813b8e5ef/src/site_symmetry.c).\n",
      "spglib: ssm_get_exact_positions failed (attempt=1). (line 115, /tmp/pip-install-58cw25xt/spglib_6207849ab7c64022b27925c813b8e5ef/src/site_symmetry.c).\n",
      "spglib: ssm_get_exact_positions failed (attempt=2). (line 115, /tmp/pip-install-58cw25xt/spglib_6207849ab7c64022b27925c813b8e5ef/src/site_symmetry.c).\n",
      "spglib: ssm_get_exact_positions failed (attempt=3). (line 115, /tmp/pip-install-58cw25xt/spglib_6207849ab7c64022b27925c813b8e5ef/src/site_symmetry.c).\n",
      "spglib: ssm_get_exact_positions failed (attempt=4). (line 115, /tmp/pip-install-58cw25xt/spglib_6207849ab7c64022b27925c813b8e5ef/src/site_symmetry.c).\n",
      "spglib: ssm_get_exact_positions failed. (line 479, /tmp/pip-install-58cw25xt/spglib_6207849ab7c64022b27925c813b8e5ef/src/refinement.c).\n",
      "spglib: get_bravais_exact_positions_and_lattice failed. (line 336, /tmp/pip-install-58cw25xt/spglib_6207849ab7c64022b27925c813b8e5ef/src/refinement.c).\n",
      "spglib: ref_get_exact_structure_and_symmetry failed. (line 82, /tmp/pip-install-58cw25xt/spglib_6207849ab7c64022b27925c813b8e5ef/src/determination.c).\n",
      "spglib: ssm_get_exact_positions failed (attempt=0). (line 115, /tmp/pip-install-58cw25xt/spglib_6207849ab7c64022b27925c813b8e5ef/src/site_symmetry.c).\n",
      "spglib: ssm_get_exact_positions failed (attempt=1). (line 115, /tmp/pip-install-58cw25xt/spglib_6207849ab7c64022b27925c813b8e5ef/src/site_symmetry.c).\n",
      "spglib: ssm_get_exact_positions failed (attempt=2). (line 115, /tmp/pip-install-58cw25xt/spglib_6207849ab7c64022b27925c813b8e5ef/src/site_symmetry.c).\n",
      "spglib: ssm_get_exact_positions failed (attempt=3). (line 115, /tmp/pip-install-58cw25xt/spglib_6207849ab7c64022b27925c813b8e5ef/src/site_symmetry.c).\n",
      "spglib: ssm_get_exact_positions failed (attempt=4). (line 115, /tmp/pip-install-58cw25xt/spglib_6207849ab7c64022b27925c813b8e5ef/src/site_symmetry.c).\n",
      "spglib: ssm_get_exact_positions failed. (line 479, /tmp/pip-install-58cw25xt/spglib_6207849ab7c64022b27925c813b8e5ef/src/refinement.c).\n",
      "spglib: get_bravais_exact_positions_and_lattice failed. (line 336, /tmp/pip-install-58cw25xt/spglib_6207849ab7c64022b27925c813b8e5ef/src/refinement.c).\n",
      "spglib: ref_get_exact_structure_and_symmetry failed. (line 82, /tmp/pip-install-58cw25xt/spglib_6207849ab7c64022b27925c813b8e5ef/src/determination.c).\n",
      "spglib: ssm_get_exact_positions failed (attempt=0). (line 115, /tmp/pip-install-58cw25xt/spglib_6207849ab7c64022b27925c813b8e5ef/src/site_symmetry.c).\n",
      "spglib: ssm_get_exact_positions failed (attempt=1). (line 115, /tmp/pip-install-58cw25xt/spglib_6207849ab7c64022b27925c813b8e5ef/src/site_symmetry.c).\n",
      "spglib: ssm_get_exact_positions failed (attempt=2). (line 115, /tmp/pip-install-58cw25xt/spglib_6207849ab7c64022b27925c813b8e5ef/src/site_symmetry.c).\n",
      "spglib: ssm_get_exact_positions failed (attempt=3). (line 115, /tmp/pip-install-58cw25xt/spglib_6207849ab7c64022b27925c813b8e5ef/src/site_symmetry.c).\n",
      "spglib: ssm_get_exact_positions failed (attempt=4). (line 115, /tmp/pip-install-58cw25xt/spglib_6207849ab7c64022b27925c813b8e5ef/src/site_symmetry.c).\n",
      "spglib: ssm_get_exact_positions failed. (line 479, /tmp/pip-install-58cw25xt/spglib_6207849ab7c64022b27925c813b8e5ef/src/refinement.c).\n",
      "spglib: get_bravais_exact_positions_and_lattice failed. (line 336, /tmp/pip-install-58cw25xt/spglib_6207849ab7c64022b27925c813b8e5ef/src/refinement.c).\n",
      "spglib: ref_get_exact_structure_and_symmetry failed. (line 82, /tmp/pip-install-58cw25xt/spglib_6207849ab7c64022b27925c813b8e5ef/src/determination.c).\n",
      "spglib: ssm_get_exact_positions failed (attempt=0). (line 115, /tmp/pip-install-58cw25xt/spglib_6207849ab7c64022b27925c813b8e5ef/src/site_symmetry.c).\n",
      "spglib: ssm_get_exact_positions failed (attempt=1). (line 115, /tmp/pip-install-58cw25xt/spglib_6207849ab7c64022b27925c813b8e5ef/src/site_symmetry.c).\n",
      "spglib: ssm_get_exact_positions failed (attempt=2). (line 115, /tmp/pip-install-58cw25xt/spglib_6207849ab7c64022b27925c813b8e5ef/src/site_symmetry.c).\n",
      "spglib: ssm_get_exact_positions failed (attempt=3). (line 115, /tmp/pip-install-58cw25xt/spglib_6207849ab7c64022b27925c813b8e5ef/src/site_symmetry.c).\n",
      "spglib: ssm_get_exact_positions failed (attempt=4). (line 115, /tmp/pip-install-58cw25xt/spglib_6207849ab7c64022b27925c813b8e5ef/src/site_symmetry.c).\n",
      "spglib: ssm_get_exact_positions failed. (line 479, /tmp/pip-install-58cw25xt/spglib_6207849ab7c64022b27925c813b8e5ef/src/refinement.c).\n",
      "spglib: get_bravais_exact_positions_and_lattice failed. (line 336, /tmp/pip-install-58cw25xt/spglib_6207849ab7c64022b27925c813b8e5ef/src/refinement.c).\n",
      "spglib: ref_get_exact_structure_and_symmetry failed. (line 82, /tmp/pip-install-58cw25xt/spglib_6207849ab7c64022b27925c813b8e5ef/src/determination.c).\n",
      "spglib: ssm_get_exact_positions failed (attempt=0). (line 115, /tmp/pip-install-58cw25xt/spglib_6207849ab7c64022b27925c813b8e5ef/src/site_symmetry.c).\n",
      "spglib: ssm_get_exact_positions failed (attempt=1). (line 115, /tmp/pip-install-58cw25xt/spglib_6207849ab7c64022b27925c813b8e5ef/src/site_symmetry.c).\n",
      "spglib: ssm_get_exact_positions failed (attempt=2). (line 115, /tmp/pip-install-58cw25xt/spglib_6207849ab7c64022b27925c813b8e5ef/src/site_symmetry.c).\n",
      "spglib: ssm_get_exact_positions failed (attempt=3). (line 115, /tmp/pip-install-58cw25xt/spglib_6207849ab7c64022b27925c813b8e5ef/src/site_symmetry.c).\n",
      "spglib: ssm_get_exact_positions failed (attempt=4). (line 115, /tmp/pip-install-58cw25xt/spglib_6207849ab7c64022b27925c813b8e5ef/src/site_symmetry.c).\n",
      "spglib: ssm_get_exact_positions failed. (line 479, /tmp/pip-install-58cw25xt/spglib_6207849ab7c64022b27925c813b8e5ef/src/refinement.c).\n",
      "spglib: get_bravais_exact_positions_and_lattice failed. (line 336, /tmp/pip-install-58cw25xt/spglib_6207849ab7c64022b27925c813b8e5ef/src/refinement.c).\n",
      "spglib: ref_get_exact_structure_and_symmetry failed. (line 82, /tmp/pip-install-58cw25xt/spglib_6207849ab7c64022b27925c813b8e5ef/src/determination.c).\n",
      "spglib: ssm_get_exact_positions failed (attempt=0). (line 115, /tmp/pip-install-58cw25xt/spglib_6207849ab7c64022b27925c813b8e5ef/src/site_symmetry.c).\n",
      "spglib: ssm_get_exact_positions failed (attempt=1). (line 115, /tmp/pip-install-58cw25xt/spglib_6207849ab7c64022b27925c813b8e5ef/src/site_symmetry.c).\n",
      "spglib: ssm_get_exact_positions failed (attempt=2). (line 115, /tmp/pip-install-58cw25xt/spglib_6207849ab7c64022b27925c813b8e5ef/src/site_symmetry.c).\n",
      "spglib: ssm_get_exact_positions failed (attempt=3). (line 115, /tmp/pip-install-58cw25xt/spglib_6207849ab7c64022b27925c813b8e5ef/src/site_symmetry.c).\n",
      "spglib: ssm_get_exact_positions failed (attempt=4). (line 115, /tmp/pip-install-58cw25xt/spglib_6207849ab7c64022b27925c813b8e5ef/src/site_symmetry.c).\n",
      "spglib: ssm_get_exact_positions failed. (line 479, /tmp/pip-install-58cw25xt/spglib_6207849ab7c64022b27925c813b8e5ef/src/refinement.c).\n",
      "spglib: get_bravais_exact_positions_and_lattice failed. (line 336, /tmp/pip-install-58cw25xt/spglib_6207849ab7c64022b27925c813b8e5ef/src/refinement.c).\n",
      "spglib: ref_get_exact_structure_and_symmetry failed. (line 82, /tmp/pip-install-58cw25xt/spglib_6207849ab7c64022b27925c813b8e5ef/src/determination.c).\n",
      "spglib: ssm_get_exact_positions failed (attempt=0). (line 115, /tmp/pip-install-58cw25xt/spglib_6207849ab7c64022b27925c813b8e5ef/src/site_symmetry.c).\n",
      "spglib: ssm_get_exact_positions failed (attempt=1). (line 115, /tmp/pip-install-58cw25xt/spglib_6207849ab7c64022b27925c813b8e5ef/src/site_symmetry.c).\n",
      "spglib: ssm_get_exact_positions failed (attempt=2). (line 115, /tmp/pip-install-58cw25xt/spglib_6207849ab7c64022b27925c813b8e5ef/src/site_symmetry.c).\n",
      "spglib: ssm_get_exact_positions failed (attempt=3). (line 115, /tmp/pip-install-58cw25xt/spglib_6207849ab7c64022b27925c813b8e5ef/src/site_symmetry.c).\n",
      "spglib: ssm_get_exact_positions failed (attempt=4). (line 115, /tmp/pip-install-58cw25xt/spglib_6207849ab7c64022b27925c813b8e5ef/src/site_symmetry.c).\n",
      "spglib: ssm_get_exact_positions failed. (line 479, /tmp/pip-install-58cw25xt/spglib_6207849ab7c64022b27925c813b8e5ef/src/refinement.c).\n",
      "spglib: get_bravais_exact_positions_and_lattice failed. (line 336, /tmp/pip-install-58cw25xt/spglib_6207849ab7c64022b27925c813b8e5ef/src/refinement.c).\n",
      "spglib: ref_get_exact_structure_and_symmetry failed. (line 82, /tmp/pip-install-58cw25xt/spglib_6207849ab7c64022b27925c813b8e5ef/src/determination.c).\n",
      "spglib: ssm_get_exact_positions failed (attempt=0). (line 115, /tmp/pip-install-58cw25xt/spglib_6207849ab7c64022b27925c813b8e5ef/src/site_symmetry.c).\n",
      "spglib: ssm_get_exact_positions failed (attempt=1). (line 115, /tmp/pip-install-58cw25xt/spglib_6207849ab7c64022b27925c813b8e5ef/src/site_symmetry.c).\n",
      "spglib: ssm_get_exact_positions failed (attempt=2). (line 115, /tmp/pip-install-58cw25xt/spglib_6207849ab7c64022b27925c813b8e5ef/src/site_symmetry.c).\n",
      "spglib: ssm_get_exact_positions failed (attempt=3). (line 115, /tmp/pip-install-58cw25xt/spglib_6207849ab7c64022b27925c813b8e5ef/src/site_symmetry.c).\n",
      "spglib: ssm_get_exact_positions failed (attempt=4). (line 115, /tmp/pip-install-58cw25xt/spglib_6207849ab7c64022b27925c813b8e5ef/src/site_symmetry.c).\n",
      "spglib: ssm_get_exact_positions failed. (line 479, /tmp/pip-install-58cw25xt/spglib_6207849ab7c64022b27925c813b8e5ef/src/refinement.c).\n",
      "spglib: get_bravais_exact_positions_and_lattice failed. (line 336, /tmp/pip-install-58cw25xt/spglib_6207849ab7c64022b27925c813b8e5ef/src/refinement.c).\n",
      "spglib: ref_get_exact_structure_and_symmetry failed. (line 82, /tmp/pip-install-58cw25xt/spglib_6207849ab7c64022b27925c813b8e5ef/src/determination.c).\n",
      "spglib: ssm_get_exact_positions failed (attempt=0). (line 115, /tmp/pip-install-58cw25xt/spglib_6207849ab7c64022b27925c813b8e5ef/src/site_symmetry.c).\n",
      "spglib: ssm_get_exact_positions failed (attempt=1). (line 115, /tmp/pip-install-58cw25xt/spglib_6207849ab7c64022b27925c813b8e5ef/src/site_symmetry.c).\n",
      "spglib: ssm_get_exact_positions failed (attempt=2). (line 115, /tmp/pip-install-58cw25xt/spglib_6207849ab7c64022b27925c813b8e5ef/src/site_symmetry.c).\n",
      "spglib: ssm_get_exact_positions failed (attempt=3). (line 115, /tmp/pip-install-58cw25xt/spglib_6207849ab7c64022b27925c813b8e5ef/src/site_symmetry.c).\n",
      "spglib: ssm_get_exact_positions failed (attempt=4). (line 115, /tmp/pip-install-58cw25xt/spglib_6207849ab7c64022b27925c813b8e5ef/src/site_symmetry.c).\n",
      "spglib: ssm_get_exact_positions failed. (line 479, /tmp/pip-install-58cw25xt/spglib_6207849ab7c64022b27925c813b8e5ef/src/refinement.c).\n",
      "spglib: get_bravais_exact_positions_and_lattice failed. (line 336, /tmp/pip-install-58cw25xt/spglib_6207849ab7c64022b27925c813b8e5ef/src/refinement.c).\n",
      "spglib: ref_get_exact_structure_and_symmetry failed. (line 82, /tmp/pip-install-58cw25xt/spglib_6207849ab7c64022b27925c813b8e5ef/src/determination.c).\n",
      "spglib: ssm_get_exact_positions failed (attempt=0). (line 115, /tmp/pip-install-58cw25xt/spglib_6207849ab7c64022b27925c813b8e5ef/src/site_symmetry.c).\n",
      "spglib: ssm_get_exact_positions failed (attempt=1). (line 115, /tmp/pip-install-58cw25xt/spglib_6207849ab7c64022b27925c813b8e5ef/src/site_symmetry.c).\n",
      "spglib: ssm_get_exact_positions failed (attempt=2). (line 115, /tmp/pip-install-58cw25xt/spglib_6207849ab7c64022b27925c813b8e5ef/src/site_symmetry.c).\n",
      "spglib: ssm_get_exact_positions failed (attempt=3). (line 115, /tmp/pip-install-58cw25xt/spglib_6207849ab7c64022b27925c813b8e5ef/src/site_symmetry.c).\n",
      "spglib: ssm_get_exact_positions failed (attempt=4). (line 115, /tmp/pip-install-58cw25xt/spglib_6207849ab7c64022b27925c813b8e5ef/src/site_symmetry.c).\n",
      "spglib: ssm_get_exact_positions failed. (line 479, /tmp/pip-install-58cw25xt/spglib_6207849ab7c64022b27925c813b8e5ef/src/refinement.c).\n",
      "spglib: get_bravais_exact_positions_and_lattice failed. (line 336, /tmp/pip-install-58cw25xt/spglib_6207849ab7c64022b27925c813b8e5ef/src/refinement.c).\n",
      "spglib: ref_get_exact_structure_and_symmetry failed. (line 82, /tmp/pip-install-58cw25xt/spglib_6207849ab7c64022b27925c813b8e5ef/src/determination.c).\n",
      "spglib: ssm_get_exact_positions failed (attempt=0). (line 115, /tmp/pip-install-58cw25xt/spglib_6207849ab7c64022b27925c813b8e5ef/src/site_symmetry.c).\n",
      "spglib: ssm_get_exact_positions failed (attempt=1). (line 115, /tmp/pip-install-58cw25xt/spglib_6207849ab7c64022b27925c813b8e5ef/src/site_symmetry.c).\n",
      "spglib: ssm_get_exact_positions failed (attempt=2). (line 115, /tmp/pip-install-58cw25xt/spglib_6207849ab7c64022b27925c813b8e5ef/src/site_symmetry.c).\n",
      "spglib: ssm_get_exact_positions failed (attempt=3). (line 115, /tmp/pip-install-58cw25xt/spglib_6207849ab7c64022b27925c813b8e5ef/src/site_symmetry.c).\n",
      "spglib: ssm_get_exact_positions failed (attempt=4). (line 115, /tmp/pip-install-58cw25xt/spglib_6207849ab7c64022b27925c813b8e5ef/src/site_symmetry.c).\n",
      "spglib: ssm_get_exact_positions failed. (line 479, /tmp/pip-install-58cw25xt/spglib_6207849ab7c64022b27925c813b8e5ef/src/refinement.c).\n",
      "spglib: get_bravais_exact_positions_and_lattice failed. (line 336, /tmp/pip-install-58cw25xt/spglib_6207849ab7c64022b27925c813b8e5ef/src/refinement.c).\n",
      "spglib: ref_get_exact_structure_and_symmetry failed. (line 82, /tmp/pip-install-58cw25xt/spglib_6207849ab7c64022b27925c813b8e5ef/src/determination.c).\n",
      "spglib: ssm_get_exact_positions failed (attempt=0). (line 115, /tmp/pip-install-58cw25xt/spglib_6207849ab7c64022b27925c813b8e5ef/src/site_symmetry.c).\n",
      "spglib: ssm_get_exact_positions failed (attempt=1). (line 115, /tmp/pip-install-58cw25xt/spglib_6207849ab7c64022b27925c813b8e5ef/src/site_symmetry.c).\n",
      "spglib: ssm_get_exact_positions failed (attempt=2). (line 115, /tmp/pip-install-58cw25xt/spglib_6207849ab7c64022b27925c813b8e5ef/src/site_symmetry.c).\n",
      "spglib: ssm_get_exact_positions failed (attempt=3). (line 115, /tmp/pip-install-58cw25xt/spglib_6207849ab7c64022b27925c813b8e5ef/src/site_symmetry.c).\n",
      "spglib: ssm_get_exact_positions failed (attempt=4). (line 115, /tmp/pip-install-58cw25xt/spglib_6207849ab7c64022b27925c813b8e5ef/src/site_symmetry.c).\n",
      "spglib: ssm_get_exact_positions failed. (line 479, /tmp/pip-install-58cw25xt/spglib_6207849ab7c64022b27925c813b8e5ef/src/refinement.c).\n",
      "spglib: get_bravais_exact_positions_and_lattice failed. (line 336, /tmp/pip-install-58cw25xt/spglib_6207849ab7c64022b27925c813b8e5ef/src/refinement.c).\n",
      "spglib: ref_get_exact_structure_and_symmetry failed. (line 82, /tmp/pip-install-58cw25xt/spglib_6207849ab7c64022b27925c813b8e5ef/src/determination.c).\n",
      "spglib: ssm_get_exact_positions failed (attempt=0). (line 115, /tmp/pip-install-58cw25xt/spglib_6207849ab7c64022b27925c813b8e5ef/src/site_symmetry.c).\n",
      "spglib: ssm_get_exact_positions failed (attempt=1). (line 115, /tmp/pip-install-58cw25xt/spglib_6207849ab7c64022b27925c813b8e5ef/src/site_symmetry.c).\n",
      "spglib: ssm_get_exact_positions failed (attempt=2). (line 115, /tmp/pip-install-58cw25xt/spglib_6207849ab7c64022b27925c813b8e5ef/src/site_symmetry.c).\n",
      "spglib: ssm_get_exact_positions failed (attempt=3). (line 115, /tmp/pip-install-58cw25xt/spglib_6207849ab7c64022b27925c813b8e5ef/src/site_symmetry.c).\n",
      "spglib: ssm_get_exact_positions failed (attempt=4). (line 115, /tmp/pip-install-58cw25xt/spglib_6207849ab7c64022b27925c813b8e5ef/src/site_symmetry.c).\n",
      "spglib: ssm_get_exact_positions failed. (line 479, /tmp/pip-install-58cw25xt/spglib_6207849ab7c64022b27925c813b8e5ef/src/refinement.c).\n",
      "spglib: get_bravais_exact_positions_and_lattice failed. (line 336, /tmp/pip-install-58cw25xt/spglib_6207849ab7c64022b27925c813b8e5ef/src/refinement.c).\n",
      "spglib: ref_get_exact_structure_and_symmetry failed. (line 82, /tmp/pip-install-58cw25xt/spglib_6207849ab7c64022b27925c813b8e5ef/src/determination.c).\n",
      "spglib: ssm_get_exact_positions failed (attempt=0). (line 115, /tmp/pip-install-58cw25xt/spglib_6207849ab7c64022b27925c813b8e5ef/src/site_symmetry.c).\n",
      "spglib: ssm_get_exact_positions failed (attempt=1). (line 115, /tmp/pip-install-58cw25xt/spglib_6207849ab7c64022b27925c813b8e5ef/src/site_symmetry.c).\n",
      "spglib: ssm_get_exact_positions failed (attempt=2). (line 115, /tmp/pip-install-58cw25xt/spglib_6207849ab7c64022b27925c813b8e5ef/src/site_symmetry.c).\n",
      "spglib: ssm_get_exact_positions failed (attempt=3). (line 115, /tmp/pip-install-58cw25xt/spglib_6207849ab7c64022b27925c813b8e5ef/src/site_symmetry.c).\n",
      "spglib: ssm_get_exact_positions failed (attempt=4). (line 115, /tmp/pip-install-58cw25xt/spglib_6207849ab7c64022b27925c813b8e5ef/src/site_symmetry.c).\n",
      "spglib: ssm_get_exact_positions failed. (line 479, /tmp/pip-install-58cw25xt/spglib_6207849ab7c64022b27925c813b8e5ef/src/refinement.c).\n",
      "spglib: get_bravais_exact_positions_and_lattice failed. (line 336, /tmp/pip-install-58cw25xt/spglib_6207849ab7c64022b27925c813b8e5ef/src/refinement.c).\n",
      "spglib: ref_get_exact_structure_and_symmetry failed. (line 82, /tmp/pip-install-58cw25xt/spglib_6207849ab7c64022b27925c813b8e5ef/src/determination.c).\n",
      "spglib: ssm_get_exact_positions failed (attempt=0). (line 115, /tmp/pip-install-58cw25xt/spglib_6207849ab7c64022b27925c813b8e5ef/src/site_symmetry.c).\n",
      "spglib: ssm_get_exact_positions failed (attempt=1). (line 115, /tmp/pip-install-58cw25xt/spglib_6207849ab7c64022b27925c813b8e5ef/src/site_symmetry.c).\n",
      "spglib: ssm_get_exact_positions failed (attempt=2). (line 115, /tmp/pip-install-58cw25xt/spglib_6207849ab7c64022b27925c813b8e5ef/src/site_symmetry.c).\n",
      "spglib: ssm_get_exact_positions failed (attempt=3). (line 115, /tmp/pip-install-58cw25xt/spglib_6207849ab7c64022b27925c813b8e5ef/src/site_symmetry.c).\n",
      "spglib: ssm_get_exact_positions failed (attempt=4). (line 115, /tmp/pip-install-58cw25xt/spglib_6207849ab7c64022b27925c813b8e5ef/src/site_symmetry.c).\n",
      "spglib: ssm_get_exact_positions failed. (line 479, /tmp/pip-install-58cw25xt/spglib_6207849ab7c64022b27925c813b8e5ef/src/refinement.c).\n",
      "spglib: get_bravais_exact_positions_and_lattice failed. (line 336, /tmp/pip-install-58cw25xt/spglib_6207849ab7c64022b27925c813b8e5ef/src/refinement.c).\n",
      "spglib: ref_get_exact_structure_and_symmetry failed. (line 82, /tmp/pip-install-58cw25xt/spglib_6207849ab7c64022b27925c813b8e5ef/src/determination.c).\n",
      "spglib: ssm_get_exact_positions failed (attempt=0). (line 115, /tmp/pip-install-58cw25xt/spglib_6207849ab7c64022b27925c813b8e5ef/src/site_symmetry.c).\n",
      "spglib: ssm_get_exact_positions failed (attempt=1). (line 115, /tmp/pip-install-58cw25xt/spglib_6207849ab7c64022b27925c813b8e5ef/src/site_symmetry.c).\n",
      "spglib: ssm_get_exact_positions failed (attempt=2). (line 115, /tmp/pip-install-58cw25xt/spglib_6207849ab7c64022b27925c813b8e5ef/src/site_symmetry.c).\n",
      "spglib: ssm_get_exact_positions failed (attempt=3). (line 115, /tmp/pip-install-58cw25xt/spglib_6207849ab7c64022b27925c813b8e5ef/src/site_symmetry.c).\n",
      "spglib: ssm_get_exact_positions failed (attempt=4). (line 115, /tmp/pip-install-58cw25xt/spglib_6207849ab7c64022b27925c813b8e5ef/src/site_symmetry.c).\n",
      "spglib: ssm_get_exact_positions failed. (line 479, /tmp/pip-install-58cw25xt/spglib_6207849ab7c64022b27925c813b8e5ef/src/refinement.c).\n",
      "spglib: get_bravais_exact_positions_and_lattice failed. (line 336, /tmp/pip-install-58cw25xt/spglib_6207849ab7c64022b27925c813b8e5ef/src/refinement.c).\n",
      "spglib: ref_get_exact_structure_and_symmetry failed. (line 82, /tmp/pip-install-58cw25xt/spglib_6207849ab7c64022b27925c813b8e5ef/src/determination.c).\n",
      "spglib: ssm_get_exact_positions failed (attempt=0). (line 115, /tmp/pip-install-58cw25xt/spglib_6207849ab7c64022b27925c813b8e5ef/src/site_symmetry.c).\n",
      "spglib: ssm_get_exact_positions failed (attempt=1). (line 115, /tmp/pip-install-58cw25xt/spglib_6207849ab7c64022b27925c813b8e5ef/src/site_symmetry.c).\n",
      "spglib: ssm_get_exact_positions failed (attempt=2). (line 115, /tmp/pip-install-58cw25xt/spglib_6207849ab7c64022b27925c813b8e5ef/src/site_symmetry.c).\n",
      "spglib: ssm_get_exact_positions failed (attempt=3). (line 115, /tmp/pip-install-58cw25xt/spglib_6207849ab7c64022b27925c813b8e5ef/src/site_symmetry.c).\n",
      "spglib: ssm_get_exact_positions failed (attempt=4). (line 115, /tmp/pip-install-58cw25xt/spglib_6207849ab7c64022b27925c813b8e5ef/src/site_symmetry.c).\n",
      "spglib: ssm_get_exact_positions failed. (line 479, /tmp/pip-install-58cw25xt/spglib_6207849ab7c64022b27925c813b8e5ef/src/refinement.c).\n",
      "spglib: get_bravais_exact_positions_and_lattice failed. (line 336, /tmp/pip-install-58cw25xt/spglib_6207849ab7c64022b27925c813b8e5ef/src/refinement.c).\n",
      "spglib: ref_get_exact_structure_and_symmetry failed. (line 82, /tmp/pip-install-58cw25xt/spglib_6207849ab7c64022b27925c813b8e5ef/src/determination.c).\n",
      "spglib: ssm_get_exact_positions failed (attempt=0). (line 115, /tmp/pip-install-58cw25xt/spglib_6207849ab7c64022b27925c813b8e5ef/src/site_symmetry.c).\n",
      "spglib: ssm_get_exact_positions failed (attempt=1). (line 115, /tmp/pip-install-58cw25xt/spglib_6207849ab7c64022b27925c813b8e5ef/src/site_symmetry.c).\n",
      "spglib: ssm_get_exact_positions failed (attempt=2). (line 115, /tmp/pip-install-58cw25xt/spglib_6207849ab7c64022b27925c813b8e5ef/src/site_symmetry.c).\n",
      "spglib: ssm_get_exact_positions failed (attempt=3). (line 115, /tmp/pip-install-58cw25xt/spglib_6207849ab7c64022b27925c813b8e5ef/src/site_symmetry.c).\n",
      "spglib: ssm_get_exact_positions failed (attempt=4). (line 115, /tmp/pip-install-58cw25xt/spglib_6207849ab7c64022b27925c813b8e5ef/src/site_symmetry.c).\n",
      "spglib: ssm_get_exact_positions failed. (line 479, /tmp/pip-install-58cw25xt/spglib_6207849ab7c64022b27925c813b8e5ef/src/refinement.c).\n",
      "spglib: get_bravais_exact_positions_and_lattice failed. (line 336, /tmp/pip-install-58cw25xt/spglib_6207849ab7c64022b27925c813b8e5ef/src/refinement.c).\n",
      "spglib: ref_get_exact_structure_and_symmetry failed. (line 82, /tmp/pip-install-58cw25xt/spglib_6207849ab7c64022b27925c813b8e5ef/src/determination.c).\n",
      "spglib: ssm_get_exact_positions failed (attempt=0). (line 115, /tmp/pip-install-58cw25xt/spglib_6207849ab7c64022b27925c813b8e5ef/src/site_symmetry.c).\n",
      "spglib: ssm_get_exact_positions failed (attempt=1). (line 115, /tmp/pip-install-58cw25xt/spglib_6207849ab7c64022b27925c813b8e5ef/src/site_symmetry.c).\n",
      "spglib: ssm_get_exact_positions failed (attempt=2). (line 115, /tmp/pip-install-58cw25xt/spglib_6207849ab7c64022b27925c813b8e5ef/src/site_symmetry.c).\n",
      "spglib: ssm_get_exact_positions failed (attempt=3). (line 115, /tmp/pip-install-58cw25xt/spglib_6207849ab7c64022b27925c813b8e5ef/src/site_symmetry.c).\n",
      "spglib: ssm_get_exact_positions failed (attempt=4). (line 115, /tmp/pip-install-58cw25xt/spglib_6207849ab7c64022b27925c813b8e5ef/src/site_symmetry.c).\n",
      "spglib: ssm_get_exact_positions failed. (line 479, /tmp/pip-install-58cw25xt/spglib_6207849ab7c64022b27925c813b8e5ef/src/refinement.c).\n",
      "spglib: get_bravais_exact_positions_and_lattice failed. (line 336, /tmp/pip-install-58cw25xt/spglib_6207849ab7c64022b27925c813b8e5ef/src/refinement.c).\n",
      "spglib: ref_get_exact_structure_and_symmetry failed. (line 82, /tmp/pip-install-58cw25xt/spglib_6207849ab7c64022b27925c813b8e5ef/src/determination.c).\n",
      "spglib: ssm_get_exact_positions failed (attempt=0). (line 115, /tmp/pip-install-58cw25xt/spglib_6207849ab7c64022b27925c813b8e5ef/src/site_symmetry.c).\n",
      "spglib: ssm_get_exact_positions failed (attempt=1). (line 115, /tmp/pip-install-58cw25xt/spglib_6207849ab7c64022b27925c813b8e5ef/src/site_symmetry.c).\n",
      "spglib: ssm_get_exact_positions failed (attempt=2). (line 115, /tmp/pip-install-58cw25xt/spglib_6207849ab7c64022b27925c813b8e5ef/src/site_symmetry.c).\n",
      "spglib: ssm_get_exact_positions failed (attempt=3). (line 115, /tmp/pip-install-58cw25xt/spglib_6207849ab7c64022b27925c813b8e5ef/src/site_symmetry.c).\n",
      "spglib: ssm_get_exact_positions failed (attempt=4). (line 115, /tmp/pip-install-58cw25xt/spglib_6207849ab7c64022b27925c813b8e5ef/src/site_symmetry.c).\n",
      "spglib: ssm_get_exact_positions failed. (line 479, /tmp/pip-install-58cw25xt/spglib_6207849ab7c64022b27925c813b8e5ef/src/refinement.c).\n",
      "spglib: get_bravais_exact_positions_and_lattice failed. (line 336, /tmp/pip-install-58cw25xt/spglib_6207849ab7c64022b27925c813b8e5ef/src/refinement.c).\n",
      "spglib: ref_get_exact_structure_and_symmetry failed. (line 82, /tmp/pip-install-58cw25xt/spglib_6207849ab7c64022b27925c813b8e5ef/src/determination.c).\n",
      "spglib: ssm_get_exact_positions failed (attempt=0). (line 115, /tmp/pip-install-58cw25xt/spglib_6207849ab7c64022b27925c813b8e5ef/src/site_symmetry.c).\n",
      "spglib: ssm_get_exact_positions failed (attempt=1). (line 115, /tmp/pip-install-58cw25xt/spglib_6207849ab7c64022b27925c813b8e5ef/src/site_symmetry.c).\n",
      "spglib: ssm_get_exact_positions failed (attempt=2). (line 115, /tmp/pip-install-58cw25xt/spglib_6207849ab7c64022b27925c813b8e5ef/src/site_symmetry.c).\n",
      "spglib: ssm_get_exact_positions failed (attempt=3). (line 115, /tmp/pip-install-58cw25xt/spglib_6207849ab7c64022b27925c813b8e5ef/src/site_symmetry.c).\n",
      "spglib: ssm_get_exact_positions failed (attempt=4). (line 115, /tmp/pip-install-58cw25xt/spglib_6207849ab7c64022b27925c813b8e5ef/src/site_symmetry.c).\n",
      "spglib: ssm_get_exact_positions failed. (line 479, /tmp/pip-install-58cw25xt/spglib_6207849ab7c64022b27925c813b8e5ef/src/refinement.c).\n",
      "spglib: get_bravais_exact_positions_and_lattice failed. (line 336, /tmp/pip-install-58cw25xt/spglib_6207849ab7c64022b27925c813b8e5ef/src/refinement.c).\n",
      "spglib: ref_get_exact_structure_and_symmetry failed. (line 82, /tmp/pip-install-58cw25xt/spglib_6207849ab7c64022b27925c813b8e5ef/src/determination.c).\n",
      "spglib: ssm_get_exact_positions failed (attempt=0). (line 115, /tmp/pip-install-58cw25xt/spglib_6207849ab7c64022b27925c813b8e5ef/src/site_symmetry.c).\n",
      "spglib: ssm_get_exact_positions failed (attempt=1). (line 115, /tmp/pip-install-58cw25xt/spglib_6207849ab7c64022b27925c813b8e5ef/src/site_symmetry.c).\n",
      "spglib: ssm_get_exact_positions failed (attempt=2). (line 115, /tmp/pip-install-58cw25xt/spglib_6207849ab7c64022b27925c813b8e5ef/src/site_symmetry.c).\n",
      "spglib: ssm_get_exact_positions failed (attempt=3). (line 115, /tmp/pip-install-58cw25xt/spglib_6207849ab7c64022b27925c813b8e5ef/src/site_symmetry.c).\n",
      "spglib: ssm_get_exact_positions failed (attempt=4). (line 115, /tmp/pip-install-58cw25xt/spglib_6207849ab7c64022b27925c813b8e5ef/src/site_symmetry.c).\n",
      "spglib: ssm_get_exact_positions failed. (line 479, /tmp/pip-install-58cw25xt/spglib_6207849ab7c64022b27925c813b8e5ef/src/refinement.c).\n",
      "spglib: get_bravais_exact_positions_and_lattice failed. (line 336, /tmp/pip-install-58cw25xt/spglib_6207849ab7c64022b27925c813b8e5ef/src/refinement.c).\n",
      "spglib: ref_get_exact_structure_and_symmetry failed. (line 82, /tmp/pip-install-58cw25xt/spglib_6207849ab7c64022b27925c813b8e5ef/src/determination.c).\n",
      "spglib: ssm_get_exact_positions failed (attempt=0). (line 115, /tmp/pip-install-58cw25xt/spglib_6207849ab7c64022b27925c813b8e5ef/src/site_symmetry.c).\n",
      "spglib: ssm_get_exact_positions failed (attempt=1). (line 115, /tmp/pip-install-58cw25xt/spglib_6207849ab7c64022b27925c813b8e5ef/src/site_symmetry.c).\n",
      "spglib: ssm_get_exact_positions failed (attempt=2). (line 115, /tmp/pip-install-58cw25xt/spglib_6207849ab7c64022b27925c813b8e5ef/src/site_symmetry.c).\n",
      "spglib: ssm_get_exact_positions failed (attempt=3). (line 115, /tmp/pip-install-58cw25xt/spglib_6207849ab7c64022b27925c813b8e5ef/src/site_symmetry.c).\n",
      "spglib: ssm_get_exact_positions failed (attempt=4). (line 115, /tmp/pip-install-58cw25xt/spglib_6207849ab7c64022b27925c813b8e5ef/src/site_symmetry.c).\n",
      "spglib: ssm_get_exact_positions failed. (line 479, /tmp/pip-install-58cw25xt/spglib_6207849ab7c64022b27925c813b8e5ef/src/refinement.c).\n",
      "spglib: get_bravais_exact_positions_and_lattice failed. (line 336, /tmp/pip-install-58cw25xt/spglib_6207849ab7c64022b27925c813b8e5ef/src/refinement.c).\n",
      "spglib: ref_get_exact_structure_and_symmetry failed. (line 82, /tmp/pip-install-58cw25xt/spglib_6207849ab7c64022b27925c813b8e5ef/src/determination.c).\n",
      "spglib: ssm_get_exact_positions failed (attempt=0). (line 115, /tmp/pip-install-58cw25xt/spglib_6207849ab7c64022b27925c813b8e5ef/src/site_symmetry.c).\n",
      "spglib: ssm_get_exact_positions failed (attempt=1). (line 115, /tmp/pip-install-58cw25xt/spglib_6207849ab7c64022b27925c813b8e5ef/src/site_symmetry.c).\n",
      "spglib: ssm_get_exact_positions failed (attempt=2). (line 115, /tmp/pip-install-58cw25xt/spglib_6207849ab7c64022b27925c813b8e5ef/src/site_symmetry.c).\n",
      "spglib: ssm_get_exact_positions failed (attempt=3). (line 115, /tmp/pip-install-58cw25xt/spglib_6207849ab7c64022b27925c813b8e5ef/src/site_symmetry.c).\n",
      "spglib: ssm_get_exact_positions failed (attempt=4). (line 115, /tmp/pip-install-58cw25xt/spglib_6207849ab7c64022b27925c813b8e5ef/src/site_symmetry.c).\n",
      "spglib: ssm_get_exact_positions failed. (line 479, /tmp/pip-install-58cw25xt/spglib_6207849ab7c64022b27925c813b8e5ef/src/refinement.c).\n",
      "spglib: get_bravais_exact_positions_and_lattice failed. (line 336, /tmp/pip-install-58cw25xt/spglib_6207849ab7c64022b27925c813b8e5ef/src/refinement.c).\n",
      "spglib: ref_get_exact_structure_and_symmetry failed. (line 82, /tmp/pip-install-58cw25xt/spglib_6207849ab7c64022b27925c813b8e5ef/src/determination.c).\n",
      "spglib: ssm_get_exact_positions failed (attempt=0). (line 115, /tmp/pip-install-58cw25xt/spglib_6207849ab7c64022b27925c813b8e5ef/src/site_symmetry.c).\n",
      "spglib: ssm_get_exact_positions failed (attempt=1). (line 115, /tmp/pip-install-58cw25xt/spglib_6207849ab7c64022b27925c813b8e5ef/src/site_symmetry.c).\n",
      "spglib: ssm_get_exact_positions failed (attempt=2). (line 115, /tmp/pip-install-58cw25xt/spglib_6207849ab7c64022b27925c813b8e5ef/src/site_symmetry.c).\n",
      "spglib: ssm_get_exact_positions failed (attempt=3). (line 115, /tmp/pip-install-58cw25xt/spglib_6207849ab7c64022b27925c813b8e5ef/src/site_symmetry.c).\n",
      "spglib: ssm_get_exact_positions failed (attempt=4). (line 115, /tmp/pip-install-58cw25xt/spglib_6207849ab7c64022b27925c813b8e5ef/src/site_symmetry.c).\n",
      "spglib: ssm_get_exact_positions failed. (line 479, /tmp/pip-install-58cw25xt/spglib_6207849ab7c64022b27925c813b8e5ef/src/refinement.c).\n",
      "spglib: get_bravais_exact_positions_and_lattice failed. (line 336, /tmp/pip-install-58cw25xt/spglib_6207849ab7c64022b27925c813b8e5ef/src/refinement.c).\n",
      "spglib: ref_get_exact_structure_and_symmetry failed. (line 82, /tmp/pip-install-58cw25xt/spglib_6207849ab7c64022b27925c813b8e5ef/src/determination.c).\n",
      "spglib: ssm_get_exact_positions failed (attempt=0). (line 115, /tmp/pip-install-58cw25xt/spglib_6207849ab7c64022b27925c813b8e5ef/src/site_symmetry.c).\n",
      "spglib: ssm_get_exact_positions failed (attempt=1). (line 115, /tmp/pip-install-58cw25xt/spglib_6207849ab7c64022b27925c813b8e5ef/src/site_symmetry.c).\n",
      "spglib: ssm_get_exact_positions failed (attempt=2). (line 115, /tmp/pip-install-58cw25xt/spglib_6207849ab7c64022b27925c813b8e5ef/src/site_symmetry.c).\n",
      "spglib: ssm_get_exact_positions failed (attempt=3). (line 115, /tmp/pip-install-58cw25xt/spglib_6207849ab7c64022b27925c813b8e5ef/src/site_symmetry.c).\n",
      "spglib: ssm_get_exact_positions failed (attempt=4). (line 115, /tmp/pip-install-58cw25xt/spglib_6207849ab7c64022b27925c813b8e5ef/src/site_symmetry.c).\n",
      "spglib: ssm_get_exact_positions failed. (line 479, /tmp/pip-install-58cw25xt/spglib_6207849ab7c64022b27925c813b8e5ef/src/refinement.c).\n",
      "spglib: get_bravais_exact_positions_and_lattice failed. (line 336, /tmp/pip-install-58cw25xt/spglib_6207849ab7c64022b27925c813b8e5ef/src/refinement.c).\n",
      "spglib: ref_get_exact_structure_and_symmetry failed. (line 82, /tmp/pip-install-58cw25xt/spglib_6207849ab7c64022b27925c813b8e5ef/src/determination.c).\n",
      "spglib: ssm_get_exact_positions failed (attempt=0). (line 115, /tmp/pip-install-58cw25xt/spglib_6207849ab7c64022b27925c813b8e5ef/src/site_symmetry.c).\n",
      "spglib: ssm_get_exact_positions failed (attempt=1). (line 115, /tmp/pip-install-58cw25xt/spglib_6207849ab7c64022b27925c813b8e5ef/src/site_symmetry.c).\n",
      "spglib: ssm_get_exact_positions failed (attempt=2). (line 115, /tmp/pip-install-58cw25xt/spglib_6207849ab7c64022b27925c813b8e5ef/src/site_symmetry.c).\n",
      "spglib: ssm_get_exact_positions failed (attempt=3). (line 115, /tmp/pip-install-58cw25xt/spglib_6207849ab7c64022b27925c813b8e5ef/src/site_symmetry.c).\n",
      "spglib: ssm_get_exact_positions failed (attempt=4). (line 115, /tmp/pip-install-58cw25xt/spglib_6207849ab7c64022b27925c813b8e5ef/src/site_symmetry.c).\n",
      "spglib: ssm_get_exact_positions failed. (line 479, /tmp/pip-install-58cw25xt/spglib_6207849ab7c64022b27925c813b8e5ef/src/refinement.c).\n",
      "spglib: get_bravais_exact_positions_and_lattice failed. (line 336, /tmp/pip-install-58cw25xt/spglib_6207849ab7c64022b27925c813b8e5ef/src/refinement.c).\n",
      "spglib: ref_get_exact_structure_and_symmetry failed. (line 82, /tmp/pip-install-58cw25xt/spglib_6207849ab7c64022b27925c813b8e5ef/src/determination.c).\n",
      "spglib: ssm_get_exact_positions failed (attempt=0). (line 115, /tmp/pip-install-58cw25xt/spglib_6207849ab7c64022b27925c813b8e5ef/src/site_symmetry.c).\n",
      "spglib: ssm_get_exact_positions failed (attempt=1). (line 115, /tmp/pip-install-58cw25xt/spglib_6207849ab7c64022b27925c813b8e5ef/src/site_symmetry.c).\n",
      "spglib: ssm_get_exact_positions failed (attempt=2). (line 115, /tmp/pip-install-58cw25xt/spglib_6207849ab7c64022b27925c813b8e5ef/src/site_symmetry.c).\n",
      "spglib: ssm_get_exact_positions failed (attempt=3). (line 115, /tmp/pip-install-58cw25xt/spglib_6207849ab7c64022b27925c813b8e5ef/src/site_symmetry.c).\n",
      "spglib: ssm_get_exact_positions failed (attempt=4). (line 115, /tmp/pip-install-58cw25xt/spglib_6207849ab7c64022b27925c813b8e5ef/src/site_symmetry.c).\n",
      "spglib: ssm_get_exact_positions failed. (line 479, /tmp/pip-install-58cw25xt/spglib_6207849ab7c64022b27925c813b8e5ef/src/refinement.c).\n",
      "spglib: get_bravais_exact_positions_and_lattice failed. (line 336, /tmp/pip-install-58cw25xt/spglib_6207849ab7c64022b27925c813b8e5ef/src/refinement.c).\n",
      "spglib: ref_get_exact_structure_and_symmetry failed. (line 82, /tmp/pip-install-58cw25xt/spglib_6207849ab7c64022b27925c813b8e5ef/src/determination.c).\n",
      "spglib: ssm_get_exact_positions failed (attempt=0). (line 115, /tmp/pip-install-58cw25xt/spglib_6207849ab7c64022b27925c813b8e5ef/src/site_symmetry.c).\n",
      "spglib: ssm_get_exact_positions failed (attempt=1). (line 115, /tmp/pip-install-58cw25xt/spglib_6207849ab7c64022b27925c813b8e5ef/src/site_symmetry.c).\n",
      "spglib: ssm_get_exact_positions failed (attempt=2). (line 115, /tmp/pip-install-58cw25xt/spglib_6207849ab7c64022b27925c813b8e5ef/src/site_symmetry.c).\n",
      "spglib: ssm_get_exact_positions failed (attempt=3). (line 115, /tmp/pip-install-58cw25xt/spglib_6207849ab7c64022b27925c813b8e5ef/src/site_symmetry.c).\n",
      "spglib: ssm_get_exact_positions failed (attempt=4). (line 115, /tmp/pip-install-58cw25xt/spglib_6207849ab7c64022b27925c813b8e5ef/src/site_symmetry.c).\n",
      "spglib: ssm_get_exact_positions failed. (line 479, /tmp/pip-install-58cw25xt/spglib_6207849ab7c64022b27925c813b8e5ef/src/refinement.c).\n",
      "spglib: get_bravais_exact_positions_and_lattice failed. (line 336, /tmp/pip-install-58cw25xt/spglib_6207849ab7c64022b27925c813b8e5ef/src/refinement.c).\n",
      "spglib: ref_get_exact_structure_and_symmetry failed. (line 82, /tmp/pip-install-58cw25xt/spglib_6207849ab7c64022b27925c813b8e5ef/src/determination.c).\n",
      "spglib: ssm_get_exact_positions failed (attempt=0). (line 115, /tmp/pip-install-58cw25xt/spglib_6207849ab7c64022b27925c813b8e5ef/src/site_symmetry.c).\n",
      "spglib: ssm_get_exact_positions failed (attempt=1). (line 115, /tmp/pip-install-58cw25xt/spglib_6207849ab7c64022b27925c813b8e5ef/src/site_symmetry.c).\n",
      "spglib: ssm_get_exact_positions failed (attempt=2). (line 115, /tmp/pip-install-58cw25xt/spglib_6207849ab7c64022b27925c813b8e5ef/src/site_symmetry.c).\n",
      "spglib: ssm_get_exact_positions failed (attempt=3). (line 115, /tmp/pip-install-58cw25xt/spglib_6207849ab7c64022b27925c813b8e5ef/src/site_symmetry.c).\n",
      "spglib: ssm_get_exact_positions failed (attempt=4). (line 115, /tmp/pip-install-58cw25xt/spglib_6207849ab7c64022b27925c813b8e5ef/src/site_symmetry.c).\n",
      "spglib: ssm_get_exact_positions failed. (line 479, /tmp/pip-install-58cw25xt/spglib_6207849ab7c64022b27925c813b8e5ef/src/refinement.c).\n",
      "spglib: get_bravais_exact_positions_and_lattice failed. (line 336, /tmp/pip-install-58cw25xt/spglib_6207849ab7c64022b27925c813b8e5ef/src/refinement.c).\n",
      "spglib: ref_get_exact_structure_and_symmetry failed. (line 82, /tmp/pip-install-58cw25xt/spglib_6207849ab7c64022b27925c813b8e5ef/src/determination.c).\n",
      "spglib: ssm_get_exact_positions failed (attempt=0). (line 115, /tmp/pip-install-58cw25xt/spglib_6207849ab7c64022b27925c813b8e5ef/src/site_symmetry.c).\n",
      "spglib: ssm_get_exact_positions failed (attempt=1). (line 115, /tmp/pip-install-58cw25xt/spglib_6207849ab7c64022b27925c813b8e5ef/src/site_symmetry.c).\n",
      "spglib: ssm_get_exact_positions failed (attempt=2). (line 115, /tmp/pip-install-58cw25xt/spglib_6207849ab7c64022b27925c813b8e5ef/src/site_symmetry.c).\n",
      "spglib: ssm_get_exact_positions failed (attempt=3). (line 115, /tmp/pip-install-58cw25xt/spglib_6207849ab7c64022b27925c813b8e5ef/src/site_symmetry.c).\n",
      "spglib: ssm_get_exact_positions failed (attempt=4). (line 115, /tmp/pip-install-58cw25xt/spglib_6207849ab7c64022b27925c813b8e5ef/src/site_symmetry.c).\n",
      "spglib: ssm_get_exact_positions failed. (line 479, /tmp/pip-install-58cw25xt/spglib_6207849ab7c64022b27925c813b8e5ef/src/refinement.c).\n",
      "spglib: get_bravais_exact_positions_and_lattice failed. (line 336, /tmp/pip-install-58cw25xt/spglib_6207849ab7c64022b27925c813b8e5ef/src/refinement.c).\n",
      "spglib: ref_get_exact_structure_and_symmetry failed. (line 82, /tmp/pip-install-58cw25xt/spglib_6207849ab7c64022b27925c813b8e5ef/src/determination.c).\n",
      "spglib: ssm_get_exact_positions failed (attempt=0). (line 115, /tmp/pip-install-58cw25xt/spglib_6207849ab7c64022b27925c813b8e5ef/src/site_symmetry.c).\n",
      "spglib: ssm_get_exact_positions failed (attempt=1). (line 115, /tmp/pip-install-58cw25xt/spglib_6207849ab7c64022b27925c813b8e5ef/src/site_symmetry.c).\n",
      "spglib: ssm_get_exact_positions failed (attempt=2). (line 115, /tmp/pip-install-58cw25xt/spglib_6207849ab7c64022b27925c813b8e5ef/src/site_symmetry.c).\n",
      "spglib: ssm_get_exact_positions failed (attempt=3). (line 115, /tmp/pip-install-58cw25xt/spglib_6207849ab7c64022b27925c813b8e5ef/src/site_symmetry.c).\n",
      "spglib: ssm_get_exact_positions failed (attempt=4). (line 115, /tmp/pip-install-58cw25xt/spglib_6207849ab7c64022b27925c813b8e5ef/src/site_symmetry.c).\n",
      "spglib: ssm_get_exact_positions failed. (line 479, /tmp/pip-install-58cw25xt/spglib_6207849ab7c64022b27925c813b8e5ef/src/refinement.c).\n",
      "spglib: get_bravais_exact_positions_and_lattice failed. (line 336, /tmp/pip-install-58cw25xt/spglib_6207849ab7c64022b27925c813b8e5ef/src/refinement.c).\n",
      "spglib: ref_get_exact_structure_and_symmetry failed. (line 82, /tmp/pip-install-58cw25xt/spglib_6207849ab7c64022b27925c813b8e5ef/src/determination.c).\n",
      "spglib: ssm_get_exact_positions failed (attempt=0). (line 115, /tmp/pip-install-58cw25xt/spglib_6207849ab7c64022b27925c813b8e5ef/src/site_symmetry.c).\n",
      "spglib: ssm_get_exact_positions failed (attempt=1). (line 115, /tmp/pip-install-58cw25xt/spglib_6207849ab7c64022b27925c813b8e5ef/src/site_symmetry.c).\n",
      "spglib: ssm_get_exact_positions failed (attempt=2). (line 115, /tmp/pip-install-58cw25xt/spglib_6207849ab7c64022b27925c813b8e5ef/src/site_symmetry.c).\n",
      "spglib: ssm_get_exact_positions failed (attempt=3). (line 115, /tmp/pip-install-58cw25xt/spglib_6207849ab7c64022b27925c813b8e5ef/src/site_symmetry.c).\n",
      "spglib: ssm_get_exact_positions failed (attempt=4). (line 115, /tmp/pip-install-58cw25xt/spglib_6207849ab7c64022b27925c813b8e5ef/src/site_symmetry.c).\n",
      "spglib: ssm_get_exact_positions failed. (line 479, /tmp/pip-install-58cw25xt/spglib_6207849ab7c64022b27925c813b8e5ef/src/refinement.c).\n",
      "spglib: get_bravais_exact_positions_and_lattice failed. (line 336, /tmp/pip-install-58cw25xt/spglib_6207849ab7c64022b27925c813b8e5ef/src/refinement.c).\n",
      "spglib: ref_get_exact_structure_and_symmetry failed. (line 82, /tmp/pip-install-58cw25xt/spglib_6207849ab7c64022b27925c813b8e5ef/src/determination.c).\n",
      "spglib: ssm_get_exact_positions failed (attempt=0). (line 115, /tmp/pip-install-58cw25xt/spglib_6207849ab7c64022b27925c813b8e5ef/src/site_symmetry.c).\n",
      "spglib: ssm_get_exact_positions failed (attempt=1). (line 115, /tmp/pip-install-58cw25xt/spglib_6207849ab7c64022b27925c813b8e5ef/src/site_symmetry.c).\n",
      "spglib: ssm_get_exact_positions failed (attempt=2). (line 115, /tmp/pip-install-58cw25xt/spglib_6207849ab7c64022b27925c813b8e5ef/src/site_symmetry.c).\n",
      "spglib: ssm_get_exact_positions failed (attempt=3). (line 115, /tmp/pip-install-58cw25xt/spglib_6207849ab7c64022b27925c813b8e5ef/src/site_symmetry.c).\n",
      "spglib: ssm_get_exact_positions failed (attempt=4). (line 115, /tmp/pip-install-58cw25xt/spglib_6207849ab7c64022b27925c813b8e5ef/src/site_symmetry.c).\n",
      "spglib: ssm_get_exact_positions failed. (line 479, /tmp/pip-install-58cw25xt/spglib_6207849ab7c64022b27925c813b8e5ef/src/refinement.c).\n",
      "spglib: get_bravais_exact_positions_and_lattice failed. (line 336, /tmp/pip-install-58cw25xt/spglib_6207849ab7c64022b27925c813b8e5ef/src/refinement.c).\n",
      "spglib: ref_get_exact_structure_and_symmetry failed. (line 82, /tmp/pip-install-58cw25xt/spglib_6207849ab7c64022b27925c813b8e5ef/src/determination.c).\n",
      "spglib: ssm_get_exact_positions failed (attempt=0). (line 115, /tmp/pip-install-58cw25xt/spglib_6207849ab7c64022b27925c813b8e5ef/src/site_symmetry.c).\n",
      "spglib: ssm_get_exact_positions failed (attempt=1). (line 115, /tmp/pip-install-58cw25xt/spglib_6207849ab7c64022b27925c813b8e5ef/src/site_symmetry.c).\n",
      "spglib: ssm_get_exact_positions failed (attempt=2). (line 115, /tmp/pip-install-58cw25xt/spglib_6207849ab7c64022b27925c813b8e5ef/src/site_symmetry.c).\n",
      "spglib: ssm_get_exact_positions failed (attempt=3). (line 115, /tmp/pip-install-58cw25xt/spglib_6207849ab7c64022b27925c813b8e5ef/src/site_symmetry.c).\n",
      "spglib: ssm_get_exact_positions failed (attempt=4). (line 115, /tmp/pip-install-58cw25xt/spglib_6207849ab7c64022b27925c813b8e5ef/src/site_symmetry.c).\n",
      "spglib: ssm_get_exact_positions failed. (line 479, /tmp/pip-install-58cw25xt/spglib_6207849ab7c64022b27925c813b8e5ef/src/refinement.c).\n",
      "spglib: get_bravais_exact_positions_and_lattice failed. (line 336, /tmp/pip-install-58cw25xt/spglib_6207849ab7c64022b27925c813b8e5ef/src/refinement.c).\n",
      "spglib: ref_get_exact_structure_and_symmetry failed. (line 82, /tmp/pip-install-58cw25xt/spglib_6207849ab7c64022b27925c813b8e5ef/src/determination.c).\n",
      "spglib: ssm_get_exact_positions failed (attempt=0). (line 115, /tmp/pip-install-58cw25xt/spglib_6207849ab7c64022b27925c813b8e5ef/src/site_symmetry.c).\n",
      "spglib: ssm_get_exact_positions failed (attempt=1). (line 115, /tmp/pip-install-58cw25xt/spglib_6207849ab7c64022b27925c813b8e5ef/src/site_symmetry.c).\n",
      "spglib: ssm_get_exact_positions failed (attempt=2). (line 115, /tmp/pip-install-58cw25xt/spglib_6207849ab7c64022b27925c813b8e5ef/src/site_symmetry.c).\n",
      "spglib: ssm_get_exact_positions failed (attempt=3). (line 115, /tmp/pip-install-58cw25xt/spglib_6207849ab7c64022b27925c813b8e5ef/src/site_symmetry.c).\n",
      "spglib: ssm_get_exact_positions failed (attempt=4). (line 115, /tmp/pip-install-58cw25xt/spglib_6207849ab7c64022b27925c813b8e5ef/src/site_symmetry.c).\n",
      "spglib: ssm_get_exact_positions failed. (line 479, /tmp/pip-install-58cw25xt/spglib_6207849ab7c64022b27925c813b8e5ef/src/refinement.c).\n",
      "spglib: get_bravais_exact_positions_and_lattice failed. (line 336, /tmp/pip-install-58cw25xt/spglib_6207849ab7c64022b27925c813b8e5ef/src/refinement.c).\n",
      "spglib: ref_get_exact_structure_and_symmetry failed. (line 82, /tmp/pip-install-58cw25xt/spglib_6207849ab7c64022b27925c813b8e5ef/src/determination.c).\n",
      "spglib: ssm_get_exact_positions failed (attempt=0). (line 115, /tmp/pip-install-58cw25xt/spglib_6207849ab7c64022b27925c813b8e5ef/src/site_symmetry.c).\n",
      "spglib: ssm_get_exact_positions failed (attempt=1). (line 115, /tmp/pip-install-58cw25xt/spglib_6207849ab7c64022b27925c813b8e5ef/src/site_symmetry.c).\n",
      "spglib: ssm_get_exact_positions failed (attempt=2). (line 115, /tmp/pip-install-58cw25xt/spglib_6207849ab7c64022b27925c813b8e5ef/src/site_symmetry.c).\n",
      "spglib: ssm_get_exact_positions failed (attempt=3). (line 115, /tmp/pip-install-58cw25xt/spglib_6207849ab7c64022b27925c813b8e5ef/src/site_symmetry.c).\n",
      "spglib: ssm_get_exact_positions failed (attempt=4). (line 115, /tmp/pip-install-58cw25xt/spglib_6207849ab7c64022b27925c813b8e5ef/src/site_symmetry.c).\n",
      "spglib: ssm_get_exact_positions failed. (line 479, /tmp/pip-install-58cw25xt/spglib_6207849ab7c64022b27925c813b8e5ef/src/refinement.c).\n",
      "spglib: get_bravais_exact_positions_and_lattice failed. (line 336, /tmp/pip-install-58cw25xt/spglib_6207849ab7c64022b27925c813b8e5ef/src/refinement.c).\n",
      "spglib: ref_get_exact_structure_and_symmetry failed. (line 82, /tmp/pip-install-58cw25xt/spglib_6207849ab7c64022b27925c813b8e5ef/src/determination.c).\n",
      "spglib: ssm_get_exact_positions failed (attempt=0). (line 115, /tmp/pip-install-58cw25xt/spglib_6207849ab7c64022b27925c813b8e5ef/src/site_symmetry.c).\n",
      "spglib: ssm_get_exact_positions failed (attempt=1). (line 115, /tmp/pip-install-58cw25xt/spglib_6207849ab7c64022b27925c813b8e5ef/src/site_symmetry.c).\n",
      "spglib: ssm_get_exact_positions failed (attempt=2). (line 115, /tmp/pip-install-58cw25xt/spglib_6207849ab7c64022b27925c813b8e5ef/src/site_symmetry.c).\n",
      "spglib: ssm_get_exact_positions failed (attempt=3). (line 115, /tmp/pip-install-58cw25xt/spglib_6207849ab7c64022b27925c813b8e5ef/src/site_symmetry.c).\n",
      "spglib: ssm_get_exact_positions failed (attempt=4). (line 115, /tmp/pip-install-58cw25xt/spglib_6207849ab7c64022b27925c813b8e5ef/src/site_symmetry.c).\n",
      "spglib: ssm_get_exact_positions failed. (line 479, /tmp/pip-install-58cw25xt/spglib_6207849ab7c64022b27925c813b8e5ef/src/refinement.c).\n",
      "spglib: get_bravais_exact_positions_and_lattice failed. (line 336, /tmp/pip-install-58cw25xt/spglib_6207849ab7c64022b27925c813b8e5ef/src/refinement.c).\n",
      "spglib: ref_get_exact_structure_and_symmetry failed. (line 82, /tmp/pip-install-58cw25xt/spglib_6207849ab7c64022b27925c813b8e5ef/src/determination.c).\n",
      "spglib: ssm_get_exact_positions failed (attempt=0). (line 115, /tmp/pip-install-58cw25xt/spglib_6207849ab7c64022b27925c813b8e5ef/src/site_symmetry.c).\n",
      "spglib: ssm_get_exact_positions failed (attempt=1). (line 115, /tmp/pip-install-58cw25xt/spglib_6207849ab7c64022b27925c813b8e5ef/src/site_symmetry.c).\n",
      "spglib: ssm_get_exact_positions failed (attempt=2). (line 115, /tmp/pip-install-58cw25xt/spglib_6207849ab7c64022b27925c813b8e5ef/src/site_symmetry.c).\n",
      "spglib: ssm_get_exact_positions failed (attempt=3). (line 115, /tmp/pip-install-58cw25xt/spglib_6207849ab7c64022b27925c813b8e5ef/src/site_symmetry.c).\n",
      "spglib: ssm_get_exact_positions failed (attempt=4). (line 115, /tmp/pip-install-58cw25xt/spglib_6207849ab7c64022b27925c813b8e5ef/src/site_symmetry.c).\n",
      "spglib: ssm_get_exact_positions failed. (line 479, /tmp/pip-install-58cw25xt/spglib_6207849ab7c64022b27925c813b8e5ef/src/refinement.c).\n",
      "spglib: get_bravais_exact_positions_and_lattice failed. (line 336, /tmp/pip-install-58cw25xt/spglib_6207849ab7c64022b27925c813b8e5ef/src/refinement.c).\n",
      "spglib: ref_get_exact_structure_and_symmetry failed. (line 82, /tmp/pip-install-58cw25xt/spglib_6207849ab7c64022b27925c813b8e5ef/src/determination.c).\n",
      "spglib: ssm_get_exact_positions failed (attempt=0). (line 115, /tmp/pip-install-58cw25xt/spglib_6207849ab7c64022b27925c813b8e5ef/src/site_symmetry.c).\n",
      "spglib: ssm_get_exact_positions failed (attempt=1). (line 115, /tmp/pip-install-58cw25xt/spglib_6207849ab7c64022b27925c813b8e5ef/src/site_symmetry.c).\n",
      "spglib: ssm_get_exact_positions failed (attempt=2). (line 115, /tmp/pip-install-58cw25xt/spglib_6207849ab7c64022b27925c813b8e5ef/src/site_symmetry.c).\n",
      "spglib: ssm_get_exact_positions failed (attempt=3). (line 115, /tmp/pip-install-58cw25xt/spglib_6207849ab7c64022b27925c813b8e5ef/src/site_symmetry.c).\n",
      "spglib: ssm_get_exact_positions failed (attempt=4). (line 115, /tmp/pip-install-58cw25xt/spglib_6207849ab7c64022b27925c813b8e5ef/src/site_symmetry.c).\n",
      "spglib: ssm_get_exact_positions failed. (line 479, /tmp/pip-install-58cw25xt/spglib_6207849ab7c64022b27925c813b8e5ef/src/refinement.c).\n",
      "spglib: get_bravais_exact_positions_and_lattice failed. (line 336, /tmp/pip-install-58cw25xt/spglib_6207849ab7c64022b27925c813b8e5ef/src/refinement.c).\n",
      "spglib: ref_get_exact_structure_and_symmetry failed. (line 82, /tmp/pip-install-58cw25xt/spglib_6207849ab7c64022b27925c813b8e5ef/src/determination.c).\n",
      "spglib: ssm_get_exact_positions failed (attempt=0). (line 115, /tmp/pip-install-58cw25xt/spglib_6207849ab7c64022b27925c813b8e5ef/src/site_symmetry.c).\n",
      "spglib: ssm_get_exact_positions failed (attempt=1). (line 115, /tmp/pip-install-58cw25xt/spglib_6207849ab7c64022b27925c813b8e5ef/src/site_symmetry.c).\n",
      "spglib: ssm_get_exact_positions failed (attempt=2). (line 115, /tmp/pip-install-58cw25xt/spglib_6207849ab7c64022b27925c813b8e5ef/src/site_symmetry.c).\n",
      "spglib: ssm_get_exact_positions failed (attempt=3). (line 115, /tmp/pip-install-58cw25xt/spglib_6207849ab7c64022b27925c813b8e5ef/src/site_symmetry.c).\n",
      "spglib: ssm_get_exact_positions failed (attempt=4). (line 115, /tmp/pip-install-58cw25xt/spglib_6207849ab7c64022b27925c813b8e5ef/src/site_symmetry.c).\n",
      "spglib: ssm_get_exact_positions failed. (line 479, /tmp/pip-install-58cw25xt/spglib_6207849ab7c64022b27925c813b8e5ef/src/refinement.c).\n",
      "spglib: get_bravais_exact_positions_and_lattice failed. (line 336, /tmp/pip-install-58cw25xt/spglib_6207849ab7c64022b27925c813b8e5ef/src/refinement.c).\n",
      "spglib: ref_get_exact_structure_and_symmetry failed. (line 82, /tmp/pip-install-58cw25xt/spglib_6207849ab7c64022b27925c813b8e5ef/src/determination.c).\n",
      "spglib: ssm_get_exact_positions failed (attempt=0). (line 115, /tmp/pip-install-58cw25xt/spglib_6207849ab7c64022b27925c813b8e5ef/src/site_symmetry.c).\n",
      "spglib: ssm_get_exact_positions failed (attempt=1). (line 115, /tmp/pip-install-58cw25xt/spglib_6207849ab7c64022b27925c813b8e5ef/src/site_symmetry.c).\n",
      "spglib: ssm_get_exact_positions failed (attempt=2). (line 115, /tmp/pip-install-58cw25xt/spglib_6207849ab7c64022b27925c813b8e5ef/src/site_symmetry.c).\n",
      "spglib: ssm_get_exact_positions failed (attempt=3). (line 115, /tmp/pip-install-58cw25xt/spglib_6207849ab7c64022b27925c813b8e5ef/src/site_symmetry.c).\n",
      "spglib: ssm_get_exact_positions failed (attempt=4). (line 115, /tmp/pip-install-58cw25xt/spglib_6207849ab7c64022b27925c813b8e5ef/src/site_symmetry.c).\n",
      "spglib: ssm_get_exact_positions failed. (line 479, /tmp/pip-install-58cw25xt/spglib_6207849ab7c64022b27925c813b8e5ef/src/refinement.c).\n",
      "spglib: get_bravais_exact_positions_and_lattice failed. (line 336, /tmp/pip-install-58cw25xt/spglib_6207849ab7c64022b27925c813b8e5ef/src/refinement.c).\n",
      "spglib: ref_get_exact_structure_and_symmetry failed. (line 82, /tmp/pip-install-58cw25xt/spglib_6207849ab7c64022b27925c813b8e5ef/src/determination.c).\n",
      "spglib: ssm_get_exact_positions failed (attempt=0). (line 115, /tmp/pip-install-58cw25xt/spglib_6207849ab7c64022b27925c813b8e5ef/src/site_symmetry.c).\n",
      "spglib: ssm_get_exact_positions failed (attempt=1). (line 115, /tmp/pip-install-58cw25xt/spglib_6207849ab7c64022b27925c813b8e5ef/src/site_symmetry.c).\n",
      "spglib: ssm_get_exact_positions failed (attempt=2). (line 115, /tmp/pip-install-58cw25xt/spglib_6207849ab7c64022b27925c813b8e5ef/src/site_symmetry.c).\n",
      "spglib: ssm_get_exact_positions failed (attempt=3). (line 115, /tmp/pip-install-58cw25xt/spglib_6207849ab7c64022b27925c813b8e5ef/src/site_symmetry.c).\n",
      "spglib: ssm_get_exact_positions failed (attempt=4). (line 115, /tmp/pip-install-58cw25xt/spglib_6207849ab7c64022b27925c813b8e5ef/src/site_symmetry.c).\n",
      "spglib: ssm_get_exact_positions failed. (line 479, /tmp/pip-install-58cw25xt/spglib_6207849ab7c64022b27925c813b8e5ef/src/refinement.c).\n",
      "spglib: get_bravais_exact_positions_and_lattice failed. (line 336, /tmp/pip-install-58cw25xt/spglib_6207849ab7c64022b27925c813b8e5ef/src/refinement.c).\n",
      "spglib: ref_get_exact_structure_and_symmetry failed. (line 82, /tmp/pip-install-58cw25xt/spglib_6207849ab7c64022b27925c813b8e5ef/src/determination.c).\n",
      "spglib: ssm_get_exact_positions failed (attempt=0). (line 115, /tmp/pip-install-58cw25xt/spglib_6207849ab7c64022b27925c813b8e5ef/src/site_symmetry.c).\n",
      "spglib: ssm_get_exact_positions failed (attempt=1). (line 115, /tmp/pip-install-58cw25xt/spglib_6207849ab7c64022b27925c813b8e5ef/src/site_symmetry.c).\n",
      "spglib: ssm_get_exact_positions failed (attempt=2). (line 115, /tmp/pip-install-58cw25xt/spglib_6207849ab7c64022b27925c813b8e5ef/src/site_symmetry.c).\n",
      "spglib: ssm_get_exact_positions failed (attempt=3). (line 115, /tmp/pip-install-58cw25xt/spglib_6207849ab7c64022b27925c813b8e5ef/src/site_symmetry.c).\n",
      "spglib: ssm_get_exact_positions failed (attempt=4). (line 115, /tmp/pip-install-58cw25xt/spglib_6207849ab7c64022b27925c813b8e5ef/src/site_symmetry.c).\n",
      "spglib: ssm_get_exact_positions failed. (line 479, /tmp/pip-install-58cw25xt/spglib_6207849ab7c64022b27925c813b8e5ef/src/refinement.c).\n",
      "spglib: get_bravais_exact_positions_and_lattice failed. (line 336, /tmp/pip-install-58cw25xt/spglib_6207849ab7c64022b27925c813b8e5ef/src/refinement.c).\n",
      "spglib: ref_get_exact_structure_and_symmetry failed. (line 82, /tmp/pip-install-58cw25xt/spglib_6207849ab7c64022b27925c813b8e5ef/src/determination.c).\n",
      "spglib: ssm_get_exact_positions failed (attempt=0). (line 115, /tmp/pip-install-58cw25xt/spglib_6207849ab7c64022b27925c813b8e5ef/src/site_symmetry.c).\n",
      "spglib: ssm_get_exact_positions failed (attempt=1). (line 115, /tmp/pip-install-58cw25xt/spglib_6207849ab7c64022b27925c813b8e5ef/src/site_symmetry.c).\n",
      "spglib: ssm_get_exact_positions failed (attempt=2). (line 115, /tmp/pip-install-58cw25xt/spglib_6207849ab7c64022b27925c813b8e5ef/src/site_symmetry.c).\n",
      "spglib: ssm_get_exact_positions failed (attempt=3). (line 115, /tmp/pip-install-58cw25xt/spglib_6207849ab7c64022b27925c813b8e5ef/src/site_symmetry.c).\n",
      "spglib: ssm_get_exact_positions failed (attempt=4). (line 115, /tmp/pip-install-58cw25xt/spglib_6207849ab7c64022b27925c813b8e5ef/src/site_symmetry.c).\n",
      "spglib: ssm_get_exact_positions failed. (line 479, /tmp/pip-install-58cw25xt/spglib_6207849ab7c64022b27925c813b8e5ef/src/refinement.c).\n",
      "spglib: get_bravais_exact_positions_and_lattice failed. (line 336, /tmp/pip-install-58cw25xt/spglib_6207849ab7c64022b27925c813b8e5ef/src/refinement.c).\n",
      "spglib: ref_get_exact_structure_and_symmetry failed. (line 82, /tmp/pip-install-58cw25xt/spglib_6207849ab7c64022b27925c813b8e5ef/src/determination.c).\n",
      "spglib: ssm_get_exact_positions failed (attempt=0). (line 115, /tmp/pip-install-58cw25xt/spglib_6207849ab7c64022b27925c813b8e5ef/src/site_symmetry.c).\n",
      "spglib: ssm_get_exact_positions failed (attempt=1). (line 115, /tmp/pip-install-58cw25xt/spglib_6207849ab7c64022b27925c813b8e5ef/src/site_symmetry.c).\n",
      "spglib: ssm_get_exact_positions failed (attempt=2). (line 115, /tmp/pip-install-58cw25xt/spglib_6207849ab7c64022b27925c813b8e5ef/src/site_symmetry.c).\n",
      "spglib: ssm_get_exact_positions failed (attempt=3). (line 115, /tmp/pip-install-58cw25xt/spglib_6207849ab7c64022b27925c813b8e5ef/src/site_symmetry.c).\n",
      "spglib: ssm_get_exact_positions failed (attempt=4). (line 115, /tmp/pip-install-58cw25xt/spglib_6207849ab7c64022b27925c813b8e5ef/src/site_symmetry.c).\n",
      "spglib: ssm_get_exact_positions failed. (line 479, /tmp/pip-install-58cw25xt/spglib_6207849ab7c64022b27925c813b8e5ef/src/refinement.c).\n",
      "spglib: get_bravais_exact_positions_and_lattice failed. (line 336, /tmp/pip-install-58cw25xt/spglib_6207849ab7c64022b27925c813b8e5ef/src/refinement.c).\n",
      "spglib: ref_get_exact_structure_and_symmetry failed. (line 82, /tmp/pip-install-58cw25xt/spglib_6207849ab7c64022b27925c813b8e5ef/src/determination.c).\n",
      "spglib: ssm_get_exact_positions failed (attempt=0). (line 115, /tmp/pip-install-58cw25xt/spglib_6207849ab7c64022b27925c813b8e5ef/src/site_symmetry.c).\n",
      "spglib: ssm_get_exact_positions failed (attempt=1). (line 115, /tmp/pip-install-58cw25xt/spglib_6207849ab7c64022b27925c813b8e5ef/src/site_symmetry.c).\n",
      "spglib: ssm_get_exact_positions failed (attempt=2). (line 115, /tmp/pip-install-58cw25xt/spglib_6207849ab7c64022b27925c813b8e5ef/src/site_symmetry.c).\n",
      "spglib: ssm_get_exact_positions failed (attempt=3). (line 115, /tmp/pip-install-58cw25xt/spglib_6207849ab7c64022b27925c813b8e5ef/src/site_symmetry.c).\n",
      "spglib: ssm_get_exact_positions failed (attempt=4). (line 115, /tmp/pip-install-58cw25xt/spglib_6207849ab7c64022b27925c813b8e5ef/src/site_symmetry.c).\n",
      "spglib: ssm_get_exact_positions failed. (line 479, /tmp/pip-install-58cw25xt/spglib_6207849ab7c64022b27925c813b8e5ef/src/refinement.c).\n",
      "spglib: get_bravais_exact_positions_and_lattice failed. (line 336, /tmp/pip-install-58cw25xt/spglib_6207849ab7c64022b27925c813b8e5ef/src/refinement.c).\n",
      "spglib: ref_get_exact_structure_and_symmetry failed. (line 82, /tmp/pip-install-58cw25xt/spglib_6207849ab7c64022b27925c813b8e5ef/src/determination.c).\n",
      "spglib: ssm_get_exact_positions failed (attempt=0). (line 115, /tmp/pip-install-58cw25xt/spglib_6207849ab7c64022b27925c813b8e5ef/src/site_symmetry.c).\n",
      "spglib: ssm_get_exact_positions failed (attempt=1). (line 115, /tmp/pip-install-58cw25xt/spglib_6207849ab7c64022b27925c813b8e5ef/src/site_symmetry.c).\n",
      "spglib: ssm_get_exact_positions failed (attempt=2). (line 115, /tmp/pip-install-58cw25xt/spglib_6207849ab7c64022b27925c813b8e5ef/src/site_symmetry.c).\n",
      "spglib: ssm_get_exact_positions failed (attempt=3). (line 115, /tmp/pip-install-58cw25xt/spglib_6207849ab7c64022b27925c813b8e5ef/src/site_symmetry.c).\n",
      "spglib: ssm_get_exact_positions failed (attempt=4). (line 115, /tmp/pip-install-58cw25xt/spglib_6207849ab7c64022b27925c813b8e5ef/src/site_symmetry.c).\n",
      "spglib: ssm_get_exact_positions failed. (line 479, /tmp/pip-install-58cw25xt/spglib_6207849ab7c64022b27925c813b8e5ef/src/refinement.c).\n",
      "spglib: get_bravais_exact_positions_and_lattice failed. (line 336, /tmp/pip-install-58cw25xt/spglib_6207849ab7c64022b27925c813b8e5ef/src/refinement.c).\n",
      "spglib: ref_get_exact_structure_and_symmetry failed. (line 82, /tmp/pip-install-58cw25xt/spglib_6207849ab7c64022b27925c813b8e5ef/src/determination.c).\n",
      "spglib: ssm_get_exact_positions failed (attempt=0). (line 115, /tmp/pip-install-58cw25xt/spglib_6207849ab7c64022b27925c813b8e5ef/src/site_symmetry.c).\n",
      "spglib: ssm_get_exact_positions failed (attempt=1). (line 115, /tmp/pip-install-58cw25xt/spglib_6207849ab7c64022b27925c813b8e5ef/src/site_symmetry.c).\n",
      "spglib: ssm_get_exact_positions failed (attempt=2). (line 115, /tmp/pip-install-58cw25xt/spglib_6207849ab7c64022b27925c813b8e5ef/src/site_symmetry.c).\n",
      "spglib: ssm_get_exact_positions failed (attempt=3). (line 115, /tmp/pip-install-58cw25xt/spglib_6207849ab7c64022b27925c813b8e5ef/src/site_symmetry.c).\n",
      "spglib: ssm_get_exact_positions failed (attempt=4). (line 115, /tmp/pip-install-58cw25xt/spglib_6207849ab7c64022b27925c813b8e5ef/src/site_symmetry.c).\n",
      "spglib: ssm_get_exact_positions failed. (line 479, /tmp/pip-install-58cw25xt/spglib_6207849ab7c64022b27925c813b8e5ef/src/refinement.c).\n",
      "spglib: get_bravais_exact_positions_and_lattice failed. (line 336, /tmp/pip-install-58cw25xt/spglib_6207849ab7c64022b27925c813b8e5ef/src/refinement.c).\n",
      "spglib: ref_get_exact_structure_and_symmetry failed. (line 82, /tmp/pip-install-58cw25xt/spglib_6207849ab7c64022b27925c813b8e5ef/src/determination.c).\n",
      "spglib: ssm_get_exact_positions failed (attempt=0). (line 115, /tmp/pip-install-58cw25xt/spglib_6207849ab7c64022b27925c813b8e5ef/src/site_symmetry.c).\n",
      "spglib: ssm_get_exact_positions failed (attempt=1). (line 115, /tmp/pip-install-58cw25xt/spglib_6207849ab7c64022b27925c813b8e5ef/src/site_symmetry.c).\n",
      "spglib: ssm_get_exact_positions failed (attempt=2). (line 115, /tmp/pip-install-58cw25xt/spglib_6207849ab7c64022b27925c813b8e5ef/src/site_symmetry.c).\n",
      "spglib: ssm_get_exact_positions failed (attempt=3). (line 115, /tmp/pip-install-58cw25xt/spglib_6207849ab7c64022b27925c813b8e5ef/src/site_symmetry.c).\n",
      "spglib: ssm_get_exact_positions failed (attempt=4). (line 115, /tmp/pip-install-58cw25xt/spglib_6207849ab7c64022b27925c813b8e5ef/src/site_symmetry.c).\n",
      "spglib: ssm_get_exact_positions failed. (line 479, /tmp/pip-install-58cw25xt/spglib_6207849ab7c64022b27925c813b8e5ef/src/refinement.c).\n",
      "spglib: get_bravais_exact_positions_and_lattice failed. (line 336, /tmp/pip-install-58cw25xt/spglib_6207849ab7c64022b27925c813b8e5ef/src/refinement.c).\n",
      "spglib: ref_get_exact_structure_and_symmetry failed. (line 82, /tmp/pip-install-58cw25xt/spglib_6207849ab7c64022b27925c813b8e5ef/src/determination.c).\n",
      "spglib: ssm_get_exact_positions failed (attempt=0). (line 115, /tmp/pip-install-58cw25xt/spglib_6207849ab7c64022b27925c813b8e5ef/src/site_symmetry.c).\n",
      "spglib: ssm_get_exact_positions failed (attempt=1). (line 115, /tmp/pip-install-58cw25xt/spglib_6207849ab7c64022b27925c813b8e5ef/src/site_symmetry.c).\n",
      "spglib: ssm_get_exact_positions failed (attempt=2). (line 115, /tmp/pip-install-58cw25xt/spglib_6207849ab7c64022b27925c813b8e5ef/src/site_symmetry.c).\n",
      "spglib: ssm_get_exact_positions failed (attempt=3). (line 115, /tmp/pip-install-58cw25xt/spglib_6207849ab7c64022b27925c813b8e5ef/src/site_symmetry.c).\n",
      "spglib: ssm_get_exact_positions failed (attempt=4). (line 115, /tmp/pip-install-58cw25xt/spglib_6207849ab7c64022b27925c813b8e5ef/src/site_symmetry.c).\n",
      "spglib: ssm_get_exact_positions failed. (line 479, /tmp/pip-install-58cw25xt/spglib_6207849ab7c64022b27925c813b8e5ef/src/refinement.c).\n",
      "spglib: get_bravais_exact_positions_and_lattice failed. (line 336, /tmp/pip-install-58cw25xt/spglib_6207849ab7c64022b27925c813b8e5ef/src/refinement.c).\n",
      "spglib: ref_get_exact_structure_and_symmetry failed. (line 82, /tmp/pip-install-58cw25xt/spglib_6207849ab7c64022b27925c813b8e5ef/src/determination.c).\n",
      "spglib: ssm_get_exact_positions failed (attempt=0). (line 115, /tmp/pip-install-58cw25xt/spglib_6207849ab7c64022b27925c813b8e5ef/src/site_symmetry.c).\n",
      "spglib: ssm_get_exact_positions failed (attempt=1). (line 115, /tmp/pip-install-58cw25xt/spglib_6207849ab7c64022b27925c813b8e5ef/src/site_symmetry.c).\n",
      "spglib: ssm_get_exact_positions failed (attempt=2). (line 115, /tmp/pip-install-58cw25xt/spglib_6207849ab7c64022b27925c813b8e5ef/src/site_symmetry.c).\n",
      "spglib: ssm_get_exact_positions failed (attempt=3). (line 115, /tmp/pip-install-58cw25xt/spglib_6207849ab7c64022b27925c813b8e5ef/src/site_symmetry.c).\n",
      "spglib: ssm_get_exact_positions failed (attempt=4). (line 115, /tmp/pip-install-58cw25xt/spglib_6207849ab7c64022b27925c813b8e5ef/src/site_symmetry.c).\n",
      "spglib: ssm_get_exact_positions failed. (line 479, /tmp/pip-install-58cw25xt/spglib_6207849ab7c64022b27925c813b8e5ef/src/refinement.c).\n",
      "spglib: get_bravais_exact_positions_and_lattice failed. (line 336, /tmp/pip-install-58cw25xt/spglib_6207849ab7c64022b27925c813b8e5ef/src/refinement.c).\n",
      "spglib: ref_get_exact_structure_and_symmetry failed. (line 82, /tmp/pip-install-58cw25xt/spglib_6207849ab7c64022b27925c813b8e5ef/src/determination.c).\n",
      "spglib: ssm_get_exact_positions failed (attempt=0). (line 115, /tmp/pip-install-58cw25xt/spglib_6207849ab7c64022b27925c813b8e5ef/src/site_symmetry.c).\n",
      "spglib: ssm_get_exact_positions failed (attempt=1). (line 115, /tmp/pip-install-58cw25xt/spglib_6207849ab7c64022b27925c813b8e5ef/src/site_symmetry.c).\n",
      "spglib: ssm_get_exact_positions failed (attempt=2). (line 115, /tmp/pip-install-58cw25xt/spglib_6207849ab7c64022b27925c813b8e5ef/src/site_symmetry.c).\n",
      "spglib: ssm_get_exact_positions failed (attempt=3). (line 115, /tmp/pip-install-58cw25xt/spglib_6207849ab7c64022b27925c813b8e5ef/src/site_symmetry.c).\n",
      "spglib: ssm_get_exact_positions failed (attempt=4). (line 115, /tmp/pip-install-58cw25xt/spglib_6207849ab7c64022b27925c813b8e5ef/src/site_symmetry.c).\n",
      "spglib: ssm_get_exact_positions failed. (line 479, /tmp/pip-install-58cw25xt/spglib_6207849ab7c64022b27925c813b8e5ef/src/refinement.c).\n",
      "spglib: get_bravais_exact_positions_and_lattice failed. (line 336, /tmp/pip-install-58cw25xt/spglib_6207849ab7c64022b27925c813b8e5ef/src/refinement.c).\n",
      "spglib: ref_get_exact_structure_and_symmetry failed. (line 82, /tmp/pip-install-58cw25xt/spglib_6207849ab7c64022b27925c813b8e5ef/src/determination.c).\n",
      "spglib: ssm_get_exact_positions failed (attempt=0). (line 115, /tmp/pip-install-58cw25xt/spglib_6207849ab7c64022b27925c813b8e5ef/src/site_symmetry.c).\n",
      "spglib: ssm_get_exact_positions failed (attempt=1). (line 115, /tmp/pip-install-58cw25xt/spglib_6207849ab7c64022b27925c813b8e5ef/src/site_symmetry.c).\n",
      "spglib: ssm_get_exact_positions failed (attempt=2). (line 115, /tmp/pip-install-58cw25xt/spglib_6207849ab7c64022b27925c813b8e5ef/src/site_symmetry.c).\n",
      "spglib: ssm_get_exact_positions failed (attempt=3). (line 115, /tmp/pip-install-58cw25xt/spglib_6207849ab7c64022b27925c813b8e5ef/src/site_symmetry.c).\n",
      "spglib: ssm_get_exact_positions failed (attempt=4). (line 115, /tmp/pip-install-58cw25xt/spglib_6207849ab7c64022b27925c813b8e5ef/src/site_symmetry.c).\n",
      "spglib: ssm_get_exact_positions failed. (line 479, /tmp/pip-install-58cw25xt/spglib_6207849ab7c64022b27925c813b8e5ef/src/refinement.c).\n",
      "spglib: get_bravais_exact_positions_and_lattice failed. (line 336, /tmp/pip-install-58cw25xt/spglib_6207849ab7c64022b27925c813b8e5ef/src/refinement.c).\n",
      "spglib: ref_get_exact_structure_and_symmetry failed. (line 82, /tmp/pip-install-58cw25xt/spglib_6207849ab7c64022b27925c813b8e5ef/src/determination.c).\n",
      "spglib: ssm_get_exact_positions failed (attempt=0). (line 115, /tmp/pip-install-58cw25xt/spglib_6207849ab7c64022b27925c813b8e5ef/src/site_symmetry.c).\n",
      "spglib: ssm_get_exact_positions failed (attempt=1). (line 115, /tmp/pip-install-58cw25xt/spglib_6207849ab7c64022b27925c813b8e5ef/src/site_symmetry.c).\n",
      "spglib: ssm_get_exact_positions failed (attempt=2). (line 115, /tmp/pip-install-58cw25xt/spglib_6207849ab7c64022b27925c813b8e5ef/src/site_symmetry.c).\n",
      "spglib: ssm_get_exact_positions failed (attempt=3). (line 115, /tmp/pip-install-58cw25xt/spglib_6207849ab7c64022b27925c813b8e5ef/src/site_symmetry.c).\n",
      "spglib: ssm_get_exact_positions failed (attempt=4). (line 115, /tmp/pip-install-58cw25xt/spglib_6207849ab7c64022b27925c813b8e5ef/src/site_symmetry.c).\n",
      "spglib: ssm_get_exact_positions failed. (line 479, /tmp/pip-install-58cw25xt/spglib_6207849ab7c64022b27925c813b8e5ef/src/refinement.c).\n",
      "spglib: get_bravais_exact_positions_and_lattice failed. (line 336, /tmp/pip-install-58cw25xt/spglib_6207849ab7c64022b27925c813b8e5ef/src/refinement.c).\n",
      "spglib: ref_get_exact_structure_and_symmetry failed. (line 82, /tmp/pip-install-58cw25xt/spglib_6207849ab7c64022b27925c813b8e5ef/src/determination.c).\n",
      "spglib: ssm_get_exact_positions failed (attempt=0). (line 115, /tmp/pip-install-58cw25xt/spglib_6207849ab7c64022b27925c813b8e5ef/src/site_symmetry.c).\n",
      "spglib: ssm_get_exact_positions failed (attempt=1). (line 115, /tmp/pip-install-58cw25xt/spglib_6207849ab7c64022b27925c813b8e5ef/src/site_symmetry.c).\n",
      "spglib: ssm_get_exact_positions failed (attempt=2). (line 115, /tmp/pip-install-58cw25xt/spglib_6207849ab7c64022b27925c813b8e5ef/src/site_symmetry.c).\n",
      "spglib: ssm_get_exact_positions failed (attempt=3). (line 115, /tmp/pip-install-58cw25xt/spglib_6207849ab7c64022b27925c813b8e5ef/src/site_symmetry.c).\n",
      "spglib: ssm_get_exact_positions failed (attempt=4). (line 115, /tmp/pip-install-58cw25xt/spglib_6207849ab7c64022b27925c813b8e5ef/src/site_symmetry.c).\n",
      "spglib: ssm_get_exact_positions failed. (line 479, /tmp/pip-install-58cw25xt/spglib_6207849ab7c64022b27925c813b8e5ef/src/refinement.c).\n",
      "spglib: get_bravais_exact_positions_and_lattice failed. (line 336, /tmp/pip-install-58cw25xt/spglib_6207849ab7c64022b27925c813b8e5ef/src/refinement.c).\n",
      "spglib: ref_get_exact_structure_and_symmetry failed. (line 82, /tmp/pip-install-58cw25xt/spglib_6207849ab7c64022b27925c813b8e5ef/src/determination.c).\n",
      "spglib: ssm_get_exact_positions failed (attempt=0). (line 115, /tmp/pip-install-58cw25xt/spglib_6207849ab7c64022b27925c813b8e5ef/src/site_symmetry.c).\n",
      "spglib: ssm_get_exact_positions failed (attempt=1). (line 115, /tmp/pip-install-58cw25xt/spglib_6207849ab7c64022b27925c813b8e5ef/src/site_symmetry.c).\n",
      "spglib: ssm_get_exact_positions failed (attempt=2). (line 115, /tmp/pip-install-58cw25xt/spglib_6207849ab7c64022b27925c813b8e5ef/src/site_symmetry.c).\n",
      "spglib: ssm_get_exact_positions failed (attempt=3). (line 115, /tmp/pip-install-58cw25xt/spglib_6207849ab7c64022b27925c813b8e5ef/src/site_symmetry.c).\n",
      "spglib: ssm_get_exact_positions failed (attempt=4). (line 115, /tmp/pip-install-58cw25xt/spglib_6207849ab7c64022b27925c813b8e5ef/src/site_symmetry.c).\n",
      "spglib: ssm_get_exact_positions failed. (line 479, /tmp/pip-install-58cw25xt/spglib_6207849ab7c64022b27925c813b8e5ef/src/refinement.c).\n",
      "spglib: get_bravais_exact_positions_and_lattice failed. (line 336, /tmp/pip-install-58cw25xt/spglib_6207849ab7c64022b27925c813b8e5ef/src/refinement.c).\n",
      "spglib: ref_get_exact_structure_and_symmetry failed. (line 82, /tmp/pip-install-58cw25xt/spglib_6207849ab7c64022b27925c813b8e5ef/src/determination.c).\n",
      "spglib: ssm_get_exact_positions failed (attempt=0). (line 115, /tmp/pip-install-58cw25xt/spglib_6207849ab7c64022b27925c813b8e5ef/src/site_symmetry.c).\n",
      "spglib: ssm_get_exact_positions failed (attempt=1). (line 115, /tmp/pip-install-58cw25xt/spglib_6207849ab7c64022b27925c813b8e5ef/src/site_symmetry.c).\n",
      "spglib: ssm_get_exact_positions failed (attempt=2). (line 115, /tmp/pip-install-58cw25xt/spglib_6207849ab7c64022b27925c813b8e5ef/src/site_symmetry.c).\n",
      "spglib: ssm_get_exact_positions failed (attempt=3). (line 115, /tmp/pip-install-58cw25xt/spglib_6207849ab7c64022b27925c813b8e5ef/src/site_symmetry.c).\n",
      "spglib: ssm_get_exact_positions failed (attempt=4). (line 115, /tmp/pip-install-58cw25xt/spglib_6207849ab7c64022b27925c813b8e5ef/src/site_symmetry.c).\n",
      "spglib: ssm_get_exact_positions failed. (line 479, /tmp/pip-install-58cw25xt/spglib_6207849ab7c64022b27925c813b8e5ef/src/refinement.c).\n",
      "spglib: get_bravais_exact_positions_and_lattice failed. (line 336, /tmp/pip-install-58cw25xt/spglib_6207849ab7c64022b27925c813b8e5ef/src/refinement.c).\n",
      "spglib: ref_get_exact_structure_and_symmetry failed. (line 82, /tmp/pip-install-58cw25xt/spglib_6207849ab7c64022b27925c813b8e5ef/src/determination.c).\n",
      "spglib: ssm_get_exact_positions failed (attempt=0). (line 115, /tmp/pip-install-58cw25xt/spglib_6207849ab7c64022b27925c813b8e5ef/src/site_symmetry.c).\n",
      "spglib: ssm_get_exact_positions failed (attempt=1). (line 115, /tmp/pip-install-58cw25xt/spglib_6207849ab7c64022b27925c813b8e5ef/src/site_symmetry.c).\n",
      "spglib: ssm_get_exact_positions failed (attempt=2). (line 115, /tmp/pip-install-58cw25xt/spglib_6207849ab7c64022b27925c813b8e5ef/src/site_symmetry.c).\n",
      "spglib: ssm_get_exact_positions failed (attempt=3). (line 115, /tmp/pip-install-58cw25xt/spglib_6207849ab7c64022b27925c813b8e5ef/src/site_symmetry.c).\n",
      "spglib: ssm_get_exact_positions failed (attempt=4). (line 115, /tmp/pip-install-58cw25xt/spglib_6207849ab7c64022b27925c813b8e5ef/src/site_symmetry.c).\n",
      "spglib: ssm_get_exact_positions failed. (line 479, /tmp/pip-install-58cw25xt/spglib_6207849ab7c64022b27925c813b8e5ef/src/refinement.c).\n",
      "spglib: get_bravais_exact_positions_and_lattice failed. (line 336, /tmp/pip-install-58cw25xt/spglib_6207849ab7c64022b27925c813b8e5ef/src/refinement.c).\n",
      "spglib: ref_get_exact_structure_and_symmetry failed. (line 82, /tmp/pip-install-58cw25xt/spglib_6207849ab7c64022b27925c813b8e5ef/src/determination.c).\n",
      "spglib: ssm_get_exact_positions failed (attempt=0). (line 115, /tmp/pip-install-58cw25xt/spglib_6207849ab7c64022b27925c813b8e5ef/src/site_symmetry.c).\n",
      "spglib: ssm_get_exact_positions failed (attempt=1). (line 115, /tmp/pip-install-58cw25xt/spglib_6207849ab7c64022b27925c813b8e5ef/src/site_symmetry.c).\n",
      "spglib: ssm_get_exact_positions failed (attempt=2). (line 115, /tmp/pip-install-58cw25xt/spglib_6207849ab7c64022b27925c813b8e5ef/src/site_symmetry.c).\n",
      "spglib: ssm_get_exact_positions failed (attempt=3). (line 115, /tmp/pip-install-58cw25xt/spglib_6207849ab7c64022b27925c813b8e5ef/src/site_symmetry.c).\n",
      "spglib: ssm_get_exact_positions failed (attempt=4). (line 115, /tmp/pip-install-58cw25xt/spglib_6207849ab7c64022b27925c813b8e5ef/src/site_symmetry.c).\n",
      "spglib: ssm_get_exact_positions failed. (line 479, /tmp/pip-install-58cw25xt/spglib_6207849ab7c64022b27925c813b8e5ef/src/refinement.c).\n",
      "spglib: get_bravais_exact_positions_and_lattice failed. (line 336, /tmp/pip-install-58cw25xt/spglib_6207849ab7c64022b27925c813b8e5ef/src/refinement.c).\n",
      "spglib: ref_get_exact_structure_and_symmetry failed. (line 82, /tmp/pip-install-58cw25xt/spglib_6207849ab7c64022b27925c813b8e5ef/src/determination.c).\n",
      "spglib: ssm_get_exact_positions failed (attempt=0). (line 115, /tmp/pip-install-58cw25xt/spglib_6207849ab7c64022b27925c813b8e5ef/src/site_symmetry.c).\n",
      "spglib: ssm_get_exact_positions failed (attempt=1). (line 115, /tmp/pip-install-58cw25xt/spglib_6207849ab7c64022b27925c813b8e5ef/src/site_symmetry.c).\n",
      "spglib: ssm_get_exact_positions failed (attempt=2). (line 115, /tmp/pip-install-58cw25xt/spglib_6207849ab7c64022b27925c813b8e5ef/src/site_symmetry.c).\n",
      "spglib: ssm_get_exact_positions failed (attempt=3). (line 115, /tmp/pip-install-58cw25xt/spglib_6207849ab7c64022b27925c813b8e5ef/src/site_symmetry.c).\n",
      "spglib: ssm_get_exact_positions failed (attempt=4). (line 115, /tmp/pip-install-58cw25xt/spglib_6207849ab7c64022b27925c813b8e5ef/src/site_symmetry.c).\n",
      "spglib: ssm_get_exact_positions failed. (line 479, /tmp/pip-install-58cw25xt/spglib_6207849ab7c64022b27925c813b8e5ef/src/refinement.c).\n",
      "spglib: get_bravais_exact_positions_and_lattice failed. (line 336, /tmp/pip-install-58cw25xt/spglib_6207849ab7c64022b27925c813b8e5ef/src/refinement.c).\n",
      "spglib: ref_get_exact_structure_and_symmetry failed. (line 82, /tmp/pip-install-58cw25xt/spglib_6207849ab7c64022b27925c813b8e5ef/src/determination.c).\n",
      "spglib: ssm_get_exact_positions failed (attempt=0). (line 115, /tmp/pip-install-58cw25xt/spglib_6207849ab7c64022b27925c813b8e5ef/src/site_symmetry.c).\n",
      "spglib: ssm_get_exact_positions failed (attempt=1). (line 115, /tmp/pip-install-58cw25xt/spglib_6207849ab7c64022b27925c813b8e5ef/src/site_symmetry.c).\n",
      "spglib: ssm_get_exact_positions failed (attempt=2). (line 115, /tmp/pip-install-58cw25xt/spglib_6207849ab7c64022b27925c813b8e5ef/src/site_symmetry.c).\n",
      "spglib: ssm_get_exact_positions failed (attempt=3). (line 115, /tmp/pip-install-58cw25xt/spglib_6207849ab7c64022b27925c813b8e5ef/src/site_symmetry.c).\n",
      "spglib: ssm_get_exact_positions failed (attempt=4). (line 115, /tmp/pip-install-58cw25xt/spglib_6207849ab7c64022b27925c813b8e5ef/src/site_symmetry.c).\n",
      "spglib: ssm_get_exact_positions failed. (line 479, /tmp/pip-install-58cw25xt/spglib_6207849ab7c64022b27925c813b8e5ef/src/refinement.c).\n",
      "spglib: get_bravais_exact_positions_and_lattice failed. (line 336, /tmp/pip-install-58cw25xt/spglib_6207849ab7c64022b27925c813b8e5ef/src/refinement.c).\n",
      "spglib: ref_get_exact_structure_and_symmetry failed. (line 82, /tmp/pip-install-58cw25xt/spglib_6207849ab7c64022b27925c813b8e5ef/src/determination.c).\n",
      "spglib: ssm_get_exact_positions failed (attempt=0). (line 115, /tmp/pip-install-58cw25xt/spglib_6207849ab7c64022b27925c813b8e5ef/src/site_symmetry.c).\n",
      "spglib: ssm_get_exact_positions failed (attempt=1). (line 115, /tmp/pip-install-58cw25xt/spglib_6207849ab7c64022b27925c813b8e5ef/src/site_symmetry.c).\n",
      "spglib: ssm_get_exact_positions failed (attempt=2). (line 115, /tmp/pip-install-58cw25xt/spglib_6207849ab7c64022b27925c813b8e5ef/src/site_symmetry.c).\n",
      "spglib: ssm_get_exact_positions failed (attempt=3). (line 115, /tmp/pip-install-58cw25xt/spglib_6207849ab7c64022b27925c813b8e5ef/src/site_symmetry.c).\n",
      "spglib: ssm_get_exact_positions failed (attempt=4). (line 115, /tmp/pip-install-58cw25xt/spglib_6207849ab7c64022b27925c813b8e5ef/src/site_symmetry.c).\n",
      "spglib: ssm_get_exact_positions failed. (line 479, /tmp/pip-install-58cw25xt/spglib_6207849ab7c64022b27925c813b8e5ef/src/refinement.c).\n",
      "spglib: get_bravais_exact_positions_and_lattice failed. (line 336, /tmp/pip-install-58cw25xt/spglib_6207849ab7c64022b27925c813b8e5ef/src/refinement.c).\n",
      "spglib: ref_get_exact_structure_and_symmetry failed. (line 82, /tmp/pip-install-58cw25xt/spglib_6207849ab7c64022b27925c813b8e5ef/src/determination.c).\n",
      "spglib: ssm_get_exact_positions failed (attempt=0). (line 115, /tmp/pip-install-58cw25xt/spglib_6207849ab7c64022b27925c813b8e5ef/src/site_symmetry.c).\n",
      "spglib: ssm_get_exact_positions failed (attempt=1). (line 115, /tmp/pip-install-58cw25xt/spglib_6207849ab7c64022b27925c813b8e5ef/src/site_symmetry.c).\n",
      "spglib: ssm_get_exact_positions failed (attempt=2). (line 115, /tmp/pip-install-58cw25xt/spglib_6207849ab7c64022b27925c813b8e5ef/src/site_symmetry.c).\n",
      "spglib: ssm_get_exact_positions failed (attempt=3). (line 115, /tmp/pip-install-58cw25xt/spglib_6207849ab7c64022b27925c813b8e5ef/src/site_symmetry.c).\n",
      "spglib: ssm_get_exact_positions failed (attempt=4). (line 115, /tmp/pip-install-58cw25xt/spglib_6207849ab7c64022b27925c813b8e5ef/src/site_symmetry.c).\n",
      "spglib: ssm_get_exact_positions failed. (line 479, /tmp/pip-install-58cw25xt/spglib_6207849ab7c64022b27925c813b8e5ef/src/refinement.c).\n",
      "spglib: get_bravais_exact_positions_and_lattice failed. (line 336, /tmp/pip-install-58cw25xt/spglib_6207849ab7c64022b27925c813b8e5ef/src/refinement.c).\n",
      "spglib: ref_get_exact_structure_and_symmetry failed. (line 82, /tmp/pip-install-58cw25xt/spglib_6207849ab7c64022b27925c813b8e5ef/src/determination.c).\n",
      "spglib: ssm_get_exact_positions failed (attempt=0). (line 115, /tmp/pip-install-58cw25xt/spglib_6207849ab7c64022b27925c813b8e5ef/src/site_symmetry.c).\n",
      "spglib: ssm_get_exact_positions failed (attempt=1). (line 115, /tmp/pip-install-58cw25xt/spglib_6207849ab7c64022b27925c813b8e5ef/src/site_symmetry.c).\n",
      "spglib: ssm_get_exact_positions failed (attempt=2). (line 115, /tmp/pip-install-58cw25xt/spglib_6207849ab7c64022b27925c813b8e5ef/src/site_symmetry.c).\n",
      "spglib: ssm_get_exact_positions failed (attempt=3). (line 115, /tmp/pip-install-58cw25xt/spglib_6207849ab7c64022b27925c813b8e5ef/src/site_symmetry.c).\n",
      "spglib: ssm_get_exact_positions failed (attempt=4). (line 115, /tmp/pip-install-58cw25xt/spglib_6207849ab7c64022b27925c813b8e5ef/src/site_symmetry.c).\n",
      "spglib: ssm_get_exact_positions failed. (line 479, /tmp/pip-install-58cw25xt/spglib_6207849ab7c64022b27925c813b8e5ef/src/refinement.c).\n",
      "spglib: get_bravais_exact_positions_and_lattice failed. (line 336, /tmp/pip-install-58cw25xt/spglib_6207849ab7c64022b27925c813b8e5ef/src/refinement.c).\n",
      "spglib: ref_get_exact_structure_and_symmetry failed. (line 82, /tmp/pip-install-58cw25xt/spglib_6207849ab7c64022b27925c813b8e5ef/src/determination.c).\n",
      "spglib: ssm_get_exact_positions failed (attempt=0). (line 115, /tmp/pip-install-58cw25xt/spglib_6207849ab7c64022b27925c813b8e5ef/src/site_symmetry.c).\n",
      "spglib: ssm_get_exact_positions failed (attempt=1). (line 115, /tmp/pip-install-58cw25xt/spglib_6207849ab7c64022b27925c813b8e5ef/src/site_symmetry.c).\n",
      "spglib: ssm_get_exact_positions failed (attempt=2). (line 115, /tmp/pip-install-58cw25xt/spglib_6207849ab7c64022b27925c813b8e5ef/src/site_symmetry.c).\n",
      "spglib: ssm_get_exact_positions failed (attempt=3). (line 115, /tmp/pip-install-58cw25xt/spglib_6207849ab7c64022b27925c813b8e5ef/src/site_symmetry.c).\n",
      "spglib: ssm_get_exact_positions failed (attempt=4). (line 115, /tmp/pip-install-58cw25xt/spglib_6207849ab7c64022b27925c813b8e5ef/src/site_symmetry.c).\n",
      "spglib: ssm_get_exact_positions failed. (line 479, /tmp/pip-install-58cw25xt/spglib_6207849ab7c64022b27925c813b8e5ef/src/refinement.c).\n",
      "spglib: get_bravais_exact_positions_and_lattice failed. (line 336, /tmp/pip-install-58cw25xt/spglib_6207849ab7c64022b27925c813b8e5ef/src/refinement.c).\n",
      "spglib: ref_get_exact_structure_and_symmetry failed. (line 82, /tmp/pip-install-58cw25xt/spglib_6207849ab7c64022b27925c813b8e5ef/src/determination.c).\n",
      "spglib: ssm_get_exact_positions failed (attempt=0). (line 115, /tmp/pip-install-58cw25xt/spglib_6207849ab7c64022b27925c813b8e5ef/src/site_symmetry.c).\n",
      "spglib: ssm_get_exact_positions failed (attempt=1). (line 115, /tmp/pip-install-58cw25xt/spglib_6207849ab7c64022b27925c813b8e5ef/src/site_symmetry.c).\n",
      "spglib: ssm_get_exact_positions failed (attempt=2). (line 115, /tmp/pip-install-58cw25xt/spglib_6207849ab7c64022b27925c813b8e5ef/src/site_symmetry.c).\n",
      "spglib: ssm_get_exact_positions failed (attempt=3). (line 115, /tmp/pip-install-58cw25xt/spglib_6207849ab7c64022b27925c813b8e5ef/src/site_symmetry.c).\n",
      "spglib: ssm_get_exact_positions failed (attempt=4). (line 115, /tmp/pip-install-58cw25xt/spglib_6207849ab7c64022b27925c813b8e5ef/src/site_symmetry.c).\n",
      "spglib: ssm_get_exact_positions failed. (line 479, /tmp/pip-install-58cw25xt/spglib_6207849ab7c64022b27925c813b8e5ef/src/refinement.c).\n",
      "spglib: get_bravais_exact_positions_and_lattice failed. (line 336, /tmp/pip-install-58cw25xt/spglib_6207849ab7c64022b27925c813b8e5ef/src/refinement.c).\n",
      "spglib: ref_get_exact_structure_and_symmetry failed. (line 82, /tmp/pip-install-58cw25xt/spglib_6207849ab7c64022b27925c813b8e5ef/src/determination.c).\n",
      "spglib: ssm_get_exact_positions failed (attempt=0). (line 115, /tmp/pip-install-58cw25xt/spglib_6207849ab7c64022b27925c813b8e5ef/src/site_symmetry.c).\n",
      "spglib: ssm_get_exact_positions failed (attempt=1). (line 115, /tmp/pip-install-58cw25xt/spglib_6207849ab7c64022b27925c813b8e5ef/src/site_symmetry.c).\n",
      "spglib: ssm_get_exact_positions failed (attempt=2). (line 115, /tmp/pip-install-58cw25xt/spglib_6207849ab7c64022b27925c813b8e5ef/src/site_symmetry.c).\n",
      "spglib: ssm_get_exact_positions failed (attempt=3). (line 115, /tmp/pip-install-58cw25xt/spglib_6207849ab7c64022b27925c813b8e5ef/src/site_symmetry.c).\n",
      "spglib: ssm_get_exact_positions failed (attempt=4). (line 115, /tmp/pip-install-58cw25xt/spglib_6207849ab7c64022b27925c813b8e5ef/src/site_symmetry.c).\n",
      "spglib: ssm_get_exact_positions failed. (line 479, /tmp/pip-install-58cw25xt/spglib_6207849ab7c64022b27925c813b8e5ef/src/refinement.c).\n",
      "spglib: get_bravais_exact_positions_and_lattice failed. (line 336, /tmp/pip-install-58cw25xt/spglib_6207849ab7c64022b27925c813b8e5ef/src/refinement.c).\n",
      "spglib: ref_get_exact_structure_and_symmetry failed. (line 82, /tmp/pip-install-58cw25xt/spglib_6207849ab7c64022b27925c813b8e5ef/src/determination.c).\n",
      "spglib: ssm_get_exact_positions failed (attempt=0). (line 115, /tmp/pip-install-58cw25xt/spglib_6207849ab7c64022b27925c813b8e5ef/src/site_symmetry.c).\n",
      "spglib: ssm_get_exact_positions failed (attempt=1). (line 115, /tmp/pip-install-58cw25xt/spglib_6207849ab7c64022b27925c813b8e5ef/src/site_symmetry.c).\n",
      "spglib: ssm_get_exact_positions failed (attempt=2). (line 115, /tmp/pip-install-58cw25xt/spglib_6207849ab7c64022b27925c813b8e5ef/src/site_symmetry.c).\n",
      "spglib: ssm_get_exact_positions failed (attempt=3). (line 115, /tmp/pip-install-58cw25xt/spglib_6207849ab7c64022b27925c813b8e5ef/src/site_symmetry.c).\n",
      "spglib: ssm_get_exact_positions failed (attempt=4). (line 115, /tmp/pip-install-58cw25xt/spglib_6207849ab7c64022b27925c813b8e5ef/src/site_symmetry.c).\n",
      "spglib: ssm_get_exact_positions failed. (line 479, /tmp/pip-install-58cw25xt/spglib_6207849ab7c64022b27925c813b8e5ef/src/refinement.c).\n",
      "spglib: get_bravais_exact_positions_and_lattice failed. (line 336, /tmp/pip-install-58cw25xt/spglib_6207849ab7c64022b27925c813b8e5ef/src/refinement.c).\n",
      "spglib: ref_get_exact_structure_and_symmetry failed. (line 82, /tmp/pip-install-58cw25xt/spglib_6207849ab7c64022b27925c813b8e5ef/src/determination.c).\n",
      "spglib: ssm_get_exact_positions failed (attempt=0). (line 115, /tmp/pip-install-58cw25xt/spglib_6207849ab7c64022b27925c813b8e5ef/src/site_symmetry.c).\n",
      "spglib: ssm_get_exact_positions failed (attempt=1). (line 115, /tmp/pip-install-58cw25xt/spglib_6207849ab7c64022b27925c813b8e5ef/src/site_symmetry.c).\n",
      "spglib: ssm_get_exact_positions failed (attempt=2). (line 115, /tmp/pip-install-58cw25xt/spglib_6207849ab7c64022b27925c813b8e5ef/src/site_symmetry.c).\n",
      "spglib: ssm_get_exact_positions failed (attempt=3). (line 115, /tmp/pip-install-58cw25xt/spglib_6207849ab7c64022b27925c813b8e5ef/src/site_symmetry.c).\n",
      "spglib: ssm_get_exact_positions failed (attempt=4). (line 115, /tmp/pip-install-58cw25xt/spglib_6207849ab7c64022b27925c813b8e5ef/src/site_symmetry.c).\n",
      "spglib: ssm_get_exact_positions failed. (line 479, /tmp/pip-install-58cw25xt/spglib_6207849ab7c64022b27925c813b8e5ef/src/refinement.c).\n",
      "spglib: get_bravais_exact_positions_and_lattice failed. (line 336, /tmp/pip-install-58cw25xt/spglib_6207849ab7c64022b27925c813b8e5ef/src/refinement.c).\n",
      "spglib: ref_get_exact_structure_and_symmetry failed. (line 82, /tmp/pip-install-58cw25xt/spglib_6207849ab7c64022b27925c813b8e5ef/src/determination.c).\n",
      "spglib: ssm_get_exact_positions failed (attempt=0). (line 115, /tmp/pip-install-58cw25xt/spglib_6207849ab7c64022b27925c813b8e5ef/src/site_symmetry.c).\n",
      "spglib: ssm_get_exact_positions failed (attempt=1). (line 115, /tmp/pip-install-58cw25xt/spglib_6207849ab7c64022b27925c813b8e5ef/src/site_symmetry.c).\n",
      "spglib: ssm_get_exact_positions failed (attempt=2). (line 115, /tmp/pip-install-58cw25xt/spglib_6207849ab7c64022b27925c813b8e5ef/src/site_symmetry.c).\n",
      "spglib: ssm_get_exact_positions failed (attempt=3). (line 115, /tmp/pip-install-58cw25xt/spglib_6207849ab7c64022b27925c813b8e5ef/src/site_symmetry.c).\n",
      "spglib: ssm_get_exact_positions failed (attempt=4). (line 115, /tmp/pip-install-58cw25xt/spglib_6207849ab7c64022b27925c813b8e5ef/src/site_symmetry.c).\n",
      "spglib: ssm_get_exact_positions failed. (line 479, /tmp/pip-install-58cw25xt/spglib_6207849ab7c64022b27925c813b8e5ef/src/refinement.c).\n",
      "spglib: get_bravais_exact_positions_and_lattice failed. (line 336, /tmp/pip-install-58cw25xt/spglib_6207849ab7c64022b27925c813b8e5ef/src/refinement.c).\n",
      "spglib: ref_get_exact_structure_and_symmetry failed. (line 82, /tmp/pip-install-58cw25xt/spglib_6207849ab7c64022b27925c813b8e5ef/src/determination.c).\n",
      "spglib: ssm_get_exact_positions failed (attempt=0). (line 115, /tmp/pip-install-58cw25xt/spglib_6207849ab7c64022b27925c813b8e5ef/src/site_symmetry.c).\n",
      "spglib: ssm_get_exact_positions failed (attempt=1). (line 115, /tmp/pip-install-58cw25xt/spglib_6207849ab7c64022b27925c813b8e5ef/src/site_symmetry.c).\n",
      "spglib: ssm_get_exact_positions failed (attempt=2). (line 115, /tmp/pip-install-58cw25xt/spglib_6207849ab7c64022b27925c813b8e5ef/src/site_symmetry.c).\n",
      "spglib: ssm_get_exact_positions failed (attempt=3). (line 115, /tmp/pip-install-58cw25xt/spglib_6207849ab7c64022b27925c813b8e5ef/src/site_symmetry.c).\n",
      "spglib: ssm_get_exact_positions failed (attempt=4). (line 115, /tmp/pip-install-58cw25xt/spglib_6207849ab7c64022b27925c813b8e5ef/src/site_symmetry.c).\n",
      "spglib: ssm_get_exact_positions failed. (line 479, /tmp/pip-install-58cw25xt/spglib_6207849ab7c64022b27925c813b8e5ef/src/refinement.c).\n",
      "spglib: get_bravais_exact_positions_and_lattice failed. (line 336, /tmp/pip-install-58cw25xt/spglib_6207849ab7c64022b27925c813b8e5ef/src/refinement.c).\n",
      "spglib: ref_get_exact_structure_and_symmetry failed. (line 82, /tmp/pip-install-58cw25xt/spglib_6207849ab7c64022b27925c813b8e5ef/src/determination.c).\n",
      "spglib: ssm_get_exact_positions failed (attempt=0). (line 115, /tmp/pip-install-58cw25xt/spglib_6207849ab7c64022b27925c813b8e5ef/src/site_symmetry.c).\n",
      "spglib: ssm_get_exact_positions failed (attempt=1). (line 115, /tmp/pip-install-58cw25xt/spglib_6207849ab7c64022b27925c813b8e5ef/src/site_symmetry.c).\n",
      "spglib: ssm_get_exact_positions failed (attempt=2). (line 115, /tmp/pip-install-58cw25xt/spglib_6207849ab7c64022b27925c813b8e5ef/src/site_symmetry.c).\n",
      "spglib: ssm_get_exact_positions failed (attempt=3). (line 115, /tmp/pip-install-58cw25xt/spglib_6207849ab7c64022b27925c813b8e5ef/src/site_symmetry.c).\n",
      "spglib: ssm_get_exact_positions failed (attempt=4). (line 115, /tmp/pip-install-58cw25xt/spglib_6207849ab7c64022b27925c813b8e5ef/src/site_symmetry.c).\n",
      "spglib: ssm_get_exact_positions failed. (line 479, /tmp/pip-install-58cw25xt/spglib_6207849ab7c64022b27925c813b8e5ef/src/refinement.c).\n",
      "spglib: get_bravais_exact_positions_and_lattice failed. (line 336, /tmp/pip-install-58cw25xt/spglib_6207849ab7c64022b27925c813b8e5ef/src/refinement.c).\n",
      "spglib: ref_get_exact_structure_and_symmetry failed. (line 82, /tmp/pip-install-58cw25xt/spglib_6207849ab7c64022b27925c813b8e5ef/src/determination.c).\n",
      "spglib: ssm_get_exact_positions failed (attempt=0). (line 115, /tmp/pip-install-58cw25xt/spglib_6207849ab7c64022b27925c813b8e5ef/src/site_symmetry.c).\n",
      "spglib: ssm_get_exact_positions failed (attempt=1). (line 115, /tmp/pip-install-58cw25xt/spglib_6207849ab7c64022b27925c813b8e5ef/src/site_symmetry.c).\n",
      "spglib: ssm_get_exact_positions failed (attempt=2). (line 115, /tmp/pip-install-58cw25xt/spglib_6207849ab7c64022b27925c813b8e5ef/src/site_symmetry.c).\n",
      "spglib: ssm_get_exact_positions failed (attempt=3). (line 115, /tmp/pip-install-58cw25xt/spglib_6207849ab7c64022b27925c813b8e5ef/src/site_symmetry.c).\n",
      "spglib: ssm_get_exact_positions failed (attempt=4). (line 115, /tmp/pip-install-58cw25xt/spglib_6207849ab7c64022b27925c813b8e5ef/src/site_symmetry.c).\n",
      "spglib: ssm_get_exact_positions failed. (line 479, /tmp/pip-install-58cw25xt/spglib_6207849ab7c64022b27925c813b8e5ef/src/refinement.c).\n",
      "spglib: get_bravais_exact_positions_and_lattice failed. (line 336, /tmp/pip-install-58cw25xt/spglib_6207849ab7c64022b27925c813b8e5ef/src/refinement.c).\n",
      "spglib: ref_get_exact_structure_and_symmetry failed. (line 82, /tmp/pip-install-58cw25xt/spglib_6207849ab7c64022b27925c813b8e5ef/src/determination.c).\n",
      "spglib: ssm_get_exact_positions failed (attempt=0). (line 115, /tmp/pip-install-58cw25xt/spglib_6207849ab7c64022b27925c813b8e5ef/src/site_symmetry.c).\n",
      "spglib: ssm_get_exact_positions failed (attempt=1). (line 115, /tmp/pip-install-58cw25xt/spglib_6207849ab7c64022b27925c813b8e5ef/src/site_symmetry.c).\n",
      "spglib: ssm_get_exact_positions failed (attempt=2). (line 115, /tmp/pip-install-58cw25xt/spglib_6207849ab7c64022b27925c813b8e5ef/src/site_symmetry.c).\n",
      "spglib: ssm_get_exact_positions failed (attempt=3). (line 115, /tmp/pip-install-58cw25xt/spglib_6207849ab7c64022b27925c813b8e5ef/src/site_symmetry.c).\n",
      "spglib: ssm_get_exact_positions failed (attempt=4). (line 115, /tmp/pip-install-58cw25xt/spglib_6207849ab7c64022b27925c813b8e5ef/src/site_symmetry.c).\n",
      "spglib: ssm_get_exact_positions failed. (line 479, /tmp/pip-install-58cw25xt/spglib_6207849ab7c64022b27925c813b8e5ef/src/refinement.c).\n",
      "spglib: get_bravais_exact_positions_and_lattice failed. (line 336, /tmp/pip-install-58cw25xt/spglib_6207849ab7c64022b27925c813b8e5ef/src/refinement.c).\n",
      "spglib: ref_get_exact_structure_and_symmetry failed. (line 82, /tmp/pip-install-58cw25xt/spglib_6207849ab7c64022b27925c813b8e5ef/src/determination.c).\n",
      "spglib: ssm_get_exact_positions failed (attempt=0). (line 115, /tmp/pip-install-58cw25xt/spglib_6207849ab7c64022b27925c813b8e5ef/src/site_symmetry.c).\n",
      "spglib: ssm_get_exact_positions failed (attempt=1). (line 115, /tmp/pip-install-58cw25xt/spglib_6207849ab7c64022b27925c813b8e5ef/src/site_symmetry.c).\n",
      "spglib: ssm_get_exact_positions failed (attempt=2). (line 115, /tmp/pip-install-58cw25xt/spglib_6207849ab7c64022b27925c813b8e5ef/src/site_symmetry.c).\n",
      "spglib: ssm_get_exact_positions failed (attempt=3). (line 115, /tmp/pip-install-58cw25xt/spglib_6207849ab7c64022b27925c813b8e5ef/src/site_symmetry.c).\n",
      "spglib: ssm_get_exact_positions failed (attempt=4). (line 115, /tmp/pip-install-58cw25xt/spglib_6207849ab7c64022b27925c813b8e5ef/src/site_symmetry.c).\n",
      "spglib: ssm_get_exact_positions failed. (line 479, /tmp/pip-install-58cw25xt/spglib_6207849ab7c64022b27925c813b8e5ef/src/refinement.c).\n",
      "spglib: get_bravais_exact_positions_and_lattice failed. (line 336, /tmp/pip-install-58cw25xt/spglib_6207849ab7c64022b27925c813b8e5ef/src/refinement.c).\n",
      "spglib: ref_get_exact_structure_and_symmetry failed. (line 82, /tmp/pip-install-58cw25xt/spglib_6207849ab7c64022b27925c813b8e5ef/src/determination.c).\n",
      "spglib: ssm_get_exact_positions failed (attempt=0). (line 115, /tmp/pip-install-58cw25xt/spglib_6207849ab7c64022b27925c813b8e5ef/src/site_symmetry.c).\n",
      "spglib: ssm_get_exact_positions failed (attempt=1). (line 115, /tmp/pip-install-58cw25xt/spglib_6207849ab7c64022b27925c813b8e5ef/src/site_symmetry.c).\n",
      "spglib: ssm_get_exact_positions failed (attempt=2). (line 115, /tmp/pip-install-58cw25xt/spglib_6207849ab7c64022b27925c813b8e5ef/src/site_symmetry.c).\n",
      "spglib: ssm_get_exact_positions failed (attempt=3). (line 115, /tmp/pip-install-58cw25xt/spglib_6207849ab7c64022b27925c813b8e5ef/src/site_symmetry.c).\n",
      "spglib: ssm_get_exact_positions failed (attempt=4). (line 115, /tmp/pip-install-58cw25xt/spglib_6207849ab7c64022b27925c813b8e5ef/src/site_symmetry.c).\n",
      "spglib: ssm_get_exact_positions failed. (line 479, /tmp/pip-install-58cw25xt/spglib_6207849ab7c64022b27925c813b8e5ef/src/refinement.c).\n",
      "spglib: get_bravais_exact_positions_and_lattice failed. (line 336, /tmp/pip-install-58cw25xt/spglib_6207849ab7c64022b27925c813b8e5ef/src/refinement.c).\n",
      "spglib: ref_get_exact_structure_and_symmetry failed. (line 82, /tmp/pip-install-58cw25xt/spglib_6207849ab7c64022b27925c813b8e5ef/src/determination.c).\n",
      "spglib: ssm_get_exact_positions failed (attempt=0). (line 115, /tmp/pip-install-58cw25xt/spglib_6207849ab7c64022b27925c813b8e5ef/src/site_symmetry.c).\n",
      "spglib: ssm_get_exact_positions failed (attempt=1). (line 115, /tmp/pip-install-58cw25xt/spglib_6207849ab7c64022b27925c813b8e5ef/src/site_symmetry.c).\n",
      "spglib: ssm_get_exact_positions failed (attempt=2). (line 115, /tmp/pip-install-58cw25xt/spglib_6207849ab7c64022b27925c813b8e5ef/src/site_symmetry.c).\n",
      "spglib: ssm_get_exact_positions failed (attempt=3). (line 115, /tmp/pip-install-58cw25xt/spglib_6207849ab7c64022b27925c813b8e5ef/src/site_symmetry.c).\n",
      "spglib: ssm_get_exact_positions failed (attempt=4). (line 115, /tmp/pip-install-58cw25xt/spglib_6207849ab7c64022b27925c813b8e5ef/src/site_symmetry.c).\n",
      "spglib: ssm_get_exact_positions failed. (line 479, /tmp/pip-install-58cw25xt/spglib_6207849ab7c64022b27925c813b8e5ef/src/refinement.c).\n",
      "spglib: get_bravais_exact_positions_and_lattice failed. (line 336, /tmp/pip-install-58cw25xt/spglib_6207849ab7c64022b27925c813b8e5ef/src/refinement.c).\n",
      "spglib: ref_get_exact_structure_and_symmetry failed. (line 82, /tmp/pip-install-58cw25xt/spglib_6207849ab7c64022b27925c813b8e5ef/src/determination.c).\n",
      "spglib: ssm_get_exact_positions failed (attempt=0). (line 115, /tmp/pip-install-58cw25xt/spglib_6207849ab7c64022b27925c813b8e5ef/src/site_symmetry.c).\n",
      "spglib: ssm_get_exact_positions failed (attempt=1). (line 115, /tmp/pip-install-58cw25xt/spglib_6207849ab7c64022b27925c813b8e5ef/src/site_symmetry.c).\n",
      "spglib: ssm_get_exact_positions failed (attempt=2). (line 115, /tmp/pip-install-58cw25xt/spglib_6207849ab7c64022b27925c813b8e5ef/src/site_symmetry.c).\n",
      "spglib: ssm_get_exact_positions failed (attempt=3). (line 115, /tmp/pip-install-58cw25xt/spglib_6207849ab7c64022b27925c813b8e5ef/src/site_symmetry.c).\n",
      "spglib: ssm_get_exact_positions failed (attempt=4). (line 115, /tmp/pip-install-58cw25xt/spglib_6207849ab7c64022b27925c813b8e5ef/src/site_symmetry.c).\n",
      "spglib: ssm_get_exact_positions failed. (line 479, /tmp/pip-install-58cw25xt/spglib_6207849ab7c64022b27925c813b8e5ef/src/refinement.c).\n",
      "spglib: get_bravais_exact_positions_and_lattice failed. (line 336, /tmp/pip-install-58cw25xt/spglib_6207849ab7c64022b27925c813b8e5ef/src/refinement.c).\n",
      "spglib: ref_get_exact_structure_and_symmetry failed. (line 82, /tmp/pip-install-58cw25xt/spglib_6207849ab7c64022b27925c813b8e5ef/src/determination.c).\n",
      "spglib: ssm_get_exact_positions failed (attempt=0). (line 115, /tmp/pip-install-58cw25xt/spglib_6207849ab7c64022b27925c813b8e5ef/src/site_symmetry.c).\n",
      "spglib: ssm_get_exact_positions failed (attempt=1). (line 115, /tmp/pip-install-58cw25xt/spglib_6207849ab7c64022b27925c813b8e5ef/src/site_symmetry.c).\n",
      "spglib: ssm_get_exact_positions failed (attempt=2). (line 115, /tmp/pip-install-58cw25xt/spglib_6207849ab7c64022b27925c813b8e5ef/src/site_symmetry.c).\n",
      "spglib: ssm_get_exact_positions failed (attempt=3). (line 115, /tmp/pip-install-58cw25xt/spglib_6207849ab7c64022b27925c813b8e5ef/src/site_symmetry.c).\n",
      "spglib: ssm_get_exact_positions failed (attempt=4). (line 115, /tmp/pip-install-58cw25xt/spglib_6207849ab7c64022b27925c813b8e5ef/src/site_symmetry.c).\n",
      "spglib: ssm_get_exact_positions failed. (line 479, /tmp/pip-install-58cw25xt/spglib_6207849ab7c64022b27925c813b8e5ef/src/refinement.c).\n",
      "spglib: get_bravais_exact_positions_and_lattice failed. (line 336, /tmp/pip-install-58cw25xt/spglib_6207849ab7c64022b27925c813b8e5ef/src/refinement.c).\n",
      "spglib: ref_get_exact_structure_and_symmetry failed. (line 82, /tmp/pip-install-58cw25xt/spglib_6207849ab7c64022b27925c813b8e5ef/src/determination.c).\n",
      "spglib: ssm_get_exact_positions failed (attempt=0). (line 115, /tmp/pip-install-58cw25xt/spglib_6207849ab7c64022b27925c813b8e5ef/src/site_symmetry.c).\n",
      "spglib: ssm_get_exact_positions failed (attempt=1). (line 115, /tmp/pip-install-58cw25xt/spglib_6207849ab7c64022b27925c813b8e5ef/src/site_symmetry.c).\n",
      "spglib: ssm_get_exact_positions failed (attempt=2). (line 115, /tmp/pip-install-58cw25xt/spglib_6207849ab7c64022b27925c813b8e5ef/src/site_symmetry.c).\n",
      "spglib: ssm_get_exact_positions failed (attempt=3). (line 115, /tmp/pip-install-58cw25xt/spglib_6207849ab7c64022b27925c813b8e5ef/src/site_symmetry.c).\n",
      "spglib: ssm_get_exact_positions failed (attempt=4). (line 115, /tmp/pip-install-58cw25xt/spglib_6207849ab7c64022b27925c813b8e5ef/src/site_symmetry.c).\n",
      "spglib: ssm_get_exact_positions failed. (line 479, /tmp/pip-install-58cw25xt/spglib_6207849ab7c64022b27925c813b8e5ef/src/refinement.c).\n",
      "spglib: get_bravais_exact_positions_and_lattice failed. (line 336, /tmp/pip-install-58cw25xt/spglib_6207849ab7c64022b27925c813b8e5ef/src/refinement.c).\n",
      "spglib: ref_get_exact_structure_and_symmetry failed. (line 82, /tmp/pip-install-58cw25xt/spglib_6207849ab7c64022b27925c813b8e5ef/src/determination.c).\n",
      "spglib: ssm_get_exact_positions failed (attempt=0). (line 115, /tmp/pip-install-58cw25xt/spglib_6207849ab7c64022b27925c813b8e5ef/src/site_symmetry.c).\n",
      "spglib: ssm_get_exact_positions failed (attempt=1). (line 115, /tmp/pip-install-58cw25xt/spglib_6207849ab7c64022b27925c813b8e5ef/src/site_symmetry.c).\n",
      "spglib: ssm_get_exact_positions failed (attempt=2). (line 115, /tmp/pip-install-58cw25xt/spglib_6207849ab7c64022b27925c813b8e5ef/src/site_symmetry.c).\n",
      "spglib: ssm_get_exact_positions failed (attempt=3). (line 115, /tmp/pip-install-58cw25xt/spglib_6207849ab7c64022b27925c813b8e5ef/src/site_symmetry.c).\n",
      "spglib: ssm_get_exact_positions failed (attempt=4). (line 115, /tmp/pip-install-58cw25xt/spglib_6207849ab7c64022b27925c813b8e5ef/src/site_symmetry.c).\n",
      "spglib: ssm_get_exact_positions failed. (line 479, /tmp/pip-install-58cw25xt/spglib_6207849ab7c64022b27925c813b8e5ef/src/refinement.c).\n",
      "spglib: get_bravais_exact_positions_and_lattice failed. (line 336, /tmp/pip-install-58cw25xt/spglib_6207849ab7c64022b27925c813b8e5ef/src/refinement.c).\n",
      "spglib: ref_get_exact_structure_and_symmetry failed. (line 82, /tmp/pip-install-58cw25xt/spglib_6207849ab7c64022b27925c813b8e5ef/src/determination.c).\n",
      "spglib: ssm_get_exact_positions failed (attempt=0). (line 115, /tmp/pip-install-58cw25xt/spglib_6207849ab7c64022b27925c813b8e5ef/src/site_symmetry.c).\n",
      "spglib: ssm_get_exact_positions failed (attempt=1). (line 115, /tmp/pip-install-58cw25xt/spglib_6207849ab7c64022b27925c813b8e5ef/src/site_symmetry.c).\n",
      "spglib: ssm_get_exact_positions failed (attempt=2). (line 115, /tmp/pip-install-58cw25xt/spglib_6207849ab7c64022b27925c813b8e5ef/src/site_symmetry.c).\n",
      "spglib: ssm_get_exact_positions failed (attempt=3). (line 115, /tmp/pip-install-58cw25xt/spglib_6207849ab7c64022b27925c813b8e5ef/src/site_symmetry.c).\n",
      "spglib: ssm_get_exact_positions failed (attempt=4). (line 115, /tmp/pip-install-58cw25xt/spglib_6207849ab7c64022b27925c813b8e5ef/src/site_symmetry.c).\n",
      "spglib: ssm_get_exact_positions failed. (line 479, /tmp/pip-install-58cw25xt/spglib_6207849ab7c64022b27925c813b8e5ef/src/refinement.c).\n",
      "spglib: get_bravais_exact_positions_and_lattice failed. (line 336, /tmp/pip-install-58cw25xt/spglib_6207849ab7c64022b27925c813b8e5ef/src/refinement.c).\n",
      "spglib: ref_get_exact_structure_and_symmetry failed. (line 82, /tmp/pip-install-58cw25xt/spglib_6207849ab7c64022b27925c813b8e5ef/src/determination.c).\n",
      "spglib: ssm_get_exact_positions failed (attempt=0). (line 115, /tmp/pip-install-58cw25xt/spglib_6207849ab7c64022b27925c813b8e5ef/src/site_symmetry.c).\n",
      "spglib: ssm_get_exact_positions failed (attempt=1). (line 115, /tmp/pip-install-58cw25xt/spglib_6207849ab7c64022b27925c813b8e5ef/src/site_symmetry.c).\n",
      "spglib: ssm_get_exact_positions failed (attempt=2). (line 115, /tmp/pip-install-58cw25xt/spglib_6207849ab7c64022b27925c813b8e5ef/src/site_symmetry.c).\n",
      "spglib: ssm_get_exact_positions failed (attempt=3). (line 115, /tmp/pip-install-58cw25xt/spglib_6207849ab7c64022b27925c813b8e5ef/src/site_symmetry.c).\n",
      "spglib: ssm_get_exact_positions failed (attempt=4). (line 115, /tmp/pip-install-58cw25xt/spglib_6207849ab7c64022b27925c813b8e5ef/src/site_symmetry.c).\n",
      "spglib: ssm_get_exact_positions failed. (line 479, /tmp/pip-install-58cw25xt/spglib_6207849ab7c64022b27925c813b8e5ef/src/refinement.c).\n",
      "spglib: get_bravais_exact_positions_and_lattice failed. (line 336, /tmp/pip-install-58cw25xt/spglib_6207849ab7c64022b27925c813b8e5ef/src/refinement.c).\n",
      "spglib: ref_get_exact_structure_and_symmetry failed. (line 82, /tmp/pip-install-58cw25xt/spglib_6207849ab7c64022b27925c813b8e5ef/src/determination.c).\n",
      "spglib: ssm_get_exact_positions failed (attempt=0). (line 115, /tmp/pip-install-58cw25xt/spglib_6207849ab7c64022b27925c813b8e5ef/src/site_symmetry.c).\n",
      "spglib: ssm_get_exact_positions failed (attempt=1). (line 115, /tmp/pip-install-58cw25xt/spglib_6207849ab7c64022b27925c813b8e5ef/src/site_symmetry.c).\n",
      "spglib: ssm_get_exact_positions failed (attempt=2). (line 115, /tmp/pip-install-58cw25xt/spglib_6207849ab7c64022b27925c813b8e5ef/src/site_symmetry.c).\n",
      "spglib: ssm_get_exact_positions failed (attempt=3). (line 115, /tmp/pip-install-58cw25xt/spglib_6207849ab7c64022b27925c813b8e5ef/src/site_symmetry.c).\n",
      "spglib: ssm_get_exact_positions failed (attempt=4). (line 115, /tmp/pip-install-58cw25xt/spglib_6207849ab7c64022b27925c813b8e5ef/src/site_symmetry.c).\n",
      "spglib: ssm_get_exact_positions failed. (line 479, /tmp/pip-install-58cw25xt/spglib_6207849ab7c64022b27925c813b8e5ef/src/refinement.c).\n",
      "spglib: get_bravais_exact_positions_and_lattice failed. (line 336, /tmp/pip-install-58cw25xt/spglib_6207849ab7c64022b27925c813b8e5ef/src/refinement.c).\n",
      "spglib: ref_get_exact_structure_and_symmetry failed. (line 82, /tmp/pip-install-58cw25xt/spglib_6207849ab7c64022b27925c813b8e5ef/src/determination.c).\n",
      "spglib: ssm_get_exact_positions failed (attempt=0). (line 115, /tmp/pip-install-58cw25xt/spglib_6207849ab7c64022b27925c813b8e5ef/src/site_symmetry.c).\n",
      "spglib: ssm_get_exact_positions failed (attempt=1). (line 115, /tmp/pip-install-58cw25xt/spglib_6207849ab7c64022b27925c813b8e5ef/src/site_symmetry.c).\n",
      "spglib: ssm_get_exact_positions failed (attempt=2). (line 115, /tmp/pip-install-58cw25xt/spglib_6207849ab7c64022b27925c813b8e5ef/src/site_symmetry.c).\n",
      "spglib: ssm_get_exact_positions failed (attempt=3). (line 115, /tmp/pip-install-58cw25xt/spglib_6207849ab7c64022b27925c813b8e5ef/src/site_symmetry.c).\n",
      "spglib: ssm_get_exact_positions failed (attempt=4). (line 115, /tmp/pip-install-58cw25xt/spglib_6207849ab7c64022b27925c813b8e5ef/src/site_symmetry.c).\n",
      "spglib: ssm_get_exact_positions failed. (line 479, /tmp/pip-install-58cw25xt/spglib_6207849ab7c64022b27925c813b8e5ef/src/refinement.c).\n",
      "spglib: get_bravais_exact_positions_and_lattice failed. (line 336, /tmp/pip-install-58cw25xt/spglib_6207849ab7c64022b27925c813b8e5ef/src/refinement.c).\n",
      "spglib: ref_get_exact_structure_and_symmetry failed. (line 82, /tmp/pip-install-58cw25xt/spglib_6207849ab7c64022b27925c813b8e5ef/src/determination.c).\n",
      "spglib: ssm_get_exact_positions failed (attempt=0). (line 115, /tmp/pip-install-58cw25xt/spglib_6207849ab7c64022b27925c813b8e5ef/src/site_symmetry.c).\n",
      "spglib: ssm_get_exact_positions failed (attempt=1). (line 115, /tmp/pip-install-58cw25xt/spglib_6207849ab7c64022b27925c813b8e5ef/src/site_symmetry.c).\n",
      "spglib: ssm_get_exact_positions failed (attempt=2). (line 115, /tmp/pip-install-58cw25xt/spglib_6207849ab7c64022b27925c813b8e5ef/src/site_symmetry.c).\n",
      "spglib: ssm_get_exact_positions failed (attempt=3). (line 115, /tmp/pip-install-58cw25xt/spglib_6207849ab7c64022b27925c813b8e5ef/src/site_symmetry.c).\n",
      "spglib: ssm_get_exact_positions failed (attempt=4). (line 115, /tmp/pip-install-58cw25xt/spglib_6207849ab7c64022b27925c813b8e5ef/src/site_symmetry.c).\n",
      "spglib: ssm_get_exact_positions failed. (line 479, /tmp/pip-install-58cw25xt/spglib_6207849ab7c64022b27925c813b8e5ef/src/refinement.c).\n",
      "spglib: get_bravais_exact_positions_and_lattice failed. (line 336, /tmp/pip-install-58cw25xt/spglib_6207849ab7c64022b27925c813b8e5ef/src/refinement.c).\n",
      "spglib: ref_get_exact_structure_and_symmetry failed. (line 82, /tmp/pip-install-58cw25xt/spglib_6207849ab7c64022b27925c813b8e5ef/src/determination.c).\n",
      "spglib: ssm_get_exact_positions failed (attempt=0). (line 115, /tmp/pip-install-58cw25xt/spglib_6207849ab7c64022b27925c813b8e5ef/src/site_symmetry.c).\n",
      "spglib: ssm_get_exact_positions failed (attempt=1). (line 115, /tmp/pip-install-58cw25xt/spglib_6207849ab7c64022b27925c813b8e5ef/src/site_symmetry.c).\n",
      "spglib: ssm_get_exact_positions failed (attempt=2). (line 115, /tmp/pip-install-58cw25xt/spglib_6207849ab7c64022b27925c813b8e5ef/src/site_symmetry.c).\n",
      "spglib: ssm_get_exact_positions failed (attempt=3). (line 115, /tmp/pip-install-58cw25xt/spglib_6207849ab7c64022b27925c813b8e5ef/src/site_symmetry.c).\n",
      "spglib: ssm_get_exact_positions failed (attempt=4). (line 115, /tmp/pip-install-58cw25xt/spglib_6207849ab7c64022b27925c813b8e5ef/src/site_symmetry.c).\n",
      "spglib: ssm_get_exact_positions failed. (line 479, /tmp/pip-install-58cw25xt/spglib_6207849ab7c64022b27925c813b8e5ef/src/refinement.c).\n",
      "spglib: get_bravais_exact_positions_and_lattice failed. (line 336, /tmp/pip-install-58cw25xt/spglib_6207849ab7c64022b27925c813b8e5ef/src/refinement.c).\n",
      "spglib: ref_get_exact_structure_and_symmetry failed. (line 82, /tmp/pip-install-58cw25xt/spglib_6207849ab7c64022b27925c813b8e5ef/src/determination.c).\n",
      "spglib: ssm_get_exact_positions failed (attempt=0). (line 115, /tmp/pip-install-58cw25xt/spglib_6207849ab7c64022b27925c813b8e5ef/src/site_symmetry.c).\n",
      "spglib: ssm_get_exact_positions failed (attempt=1). (line 115, /tmp/pip-install-58cw25xt/spglib_6207849ab7c64022b27925c813b8e5ef/src/site_symmetry.c).\n",
      "spglib: ssm_get_exact_positions failed (attempt=2). (line 115, /tmp/pip-install-58cw25xt/spglib_6207849ab7c64022b27925c813b8e5ef/src/site_symmetry.c).\n",
      "spglib: ssm_get_exact_positions failed (attempt=3). (line 115, /tmp/pip-install-58cw25xt/spglib_6207849ab7c64022b27925c813b8e5ef/src/site_symmetry.c).\n",
      "spglib: ssm_get_exact_positions failed (attempt=4). (line 115, /tmp/pip-install-58cw25xt/spglib_6207849ab7c64022b27925c813b8e5ef/src/site_symmetry.c).\n",
      "spglib: ssm_get_exact_positions failed. (line 479, /tmp/pip-install-58cw25xt/spglib_6207849ab7c64022b27925c813b8e5ef/src/refinement.c).\n",
      "spglib: get_bravais_exact_positions_and_lattice failed. (line 336, /tmp/pip-install-58cw25xt/spglib_6207849ab7c64022b27925c813b8e5ef/src/refinement.c).\n",
      "spglib: ref_get_exact_structure_and_symmetry failed. (line 82, /tmp/pip-install-58cw25xt/spglib_6207849ab7c64022b27925c813b8e5ef/src/determination.c).\n",
      "spglib: ssm_get_exact_positions failed (attempt=0). (line 115, /tmp/pip-install-58cw25xt/spglib_6207849ab7c64022b27925c813b8e5ef/src/site_symmetry.c).\n",
      "spglib: ssm_get_exact_positions failed (attempt=1). (line 115, /tmp/pip-install-58cw25xt/spglib_6207849ab7c64022b27925c813b8e5ef/src/site_symmetry.c).\n",
      "spglib: ssm_get_exact_positions failed (attempt=2). (line 115, /tmp/pip-install-58cw25xt/spglib_6207849ab7c64022b27925c813b8e5ef/src/site_symmetry.c).\n",
      "spglib: ssm_get_exact_positions failed (attempt=3). (line 115, /tmp/pip-install-58cw25xt/spglib_6207849ab7c64022b27925c813b8e5ef/src/site_symmetry.c).\n",
      "spglib: ssm_get_exact_positions failed (attempt=4). (line 115, /tmp/pip-install-58cw25xt/spglib_6207849ab7c64022b27925c813b8e5ef/src/site_symmetry.c).\n",
      "spglib: ssm_get_exact_positions failed. (line 479, /tmp/pip-install-58cw25xt/spglib_6207849ab7c64022b27925c813b8e5ef/src/refinement.c).\n",
      "spglib: get_bravais_exact_positions_and_lattice failed. (line 336, /tmp/pip-install-58cw25xt/spglib_6207849ab7c64022b27925c813b8e5ef/src/refinement.c).\n",
      "spglib: ref_get_exact_structure_and_symmetry failed. (line 82, /tmp/pip-install-58cw25xt/spglib_6207849ab7c64022b27925c813b8e5ef/src/determination.c).\n",
      "spglib: ssm_get_exact_positions failed (attempt=0). (line 115, /tmp/pip-install-58cw25xt/spglib_6207849ab7c64022b27925c813b8e5ef/src/site_symmetry.c).\n",
      "spglib: ssm_get_exact_positions failed (attempt=1). (line 115, /tmp/pip-install-58cw25xt/spglib_6207849ab7c64022b27925c813b8e5ef/src/site_symmetry.c).\n",
      "spglib: ssm_get_exact_positions failed (attempt=2). (line 115, /tmp/pip-install-58cw25xt/spglib_6207849ab7c64022b27925c813b8e5ef/src/site_symmetry.c).\n",
      "spglib: ssm_get_exact_positions failed (attempt=3). (line 115, /tmp/pip-install-58cw25xt/spglib_6207849ab7c64022b27925c813b8e5ef/src/site_symmetry.c).\n",
      "spglib: ssm_get_exact_positions failed (attempt=4). (line 115, /tmp/pip-install-58cw25xt/spglib_6207849ab7c64022b27925c813b8e5ef/src/site_symmetry.c).\n",
      "spglib: ssm_get_exact_positions failed. (line 479, /tmp/pip-install-58cw25xt/spglib_6207849ab7c64022b27925c813b8e5ef/src/refinement.c).\n",
      "spglib: get_bravais_exact_positions_and_lattice failed. (line 336, /tmp/pip-install-58cw25xt/spglib_6207849ab7c64022b27925c813b8e5ef/src/refinement.c).\n",
      "spglib: ref_get_exact_structure_and_symmetry failed. (line 82, /tmp/pip-install-58cw25xt/spglib_6207849ab7c64022b27925c813b8e5ef/src/determination.c).\n",
      "spglib: ssm_get_exact_positions failed (attempt=0). (line 115, /tmp/pip-install-58cw25xt/spglib_6207849ab7c64022b27925c813b8e5ef/src/site_symmetry.c).\n",
      "spglib: ssm_get_exact_positions failed (attempt=1). (line 115, /tmp/pip-install-58cw25xt/spglib_6207849ab7c64022b27925c813b8e5ef/src/site_symmetry.c).\n",
      "spglib: ssm_get_exact_positions failed (attempt=2). (line 115, /tmp/pip-install-58cw25xt/spglib_6207849ab7c64022b27925c813b8e5ef/src/site_symmetry.c).\n",
      "spglib: ssm_get_exact_positions failed (attempt=3). (line 115, /tmp/pip-install-58cw25xt/spglib_6207849ab7c64022b27925c813b8e5ef/src/site_symmetry.c).\n",
      "spglib: ssm_get_exact_positions failed (attempt=4). (line 115, /tmp/pip-install-58cw25xt/spglib_6207849ab7c64022b27925c813b8e5ef/src/site_symmetry.c).\n",
      "spglib: ssm_get_exact_positions failed. (line 479, /tmp/pip-install-58cw25xt/spglib_6207849ab7c64022b27925c813b8e5ef/src/refinement.c).\n",
      "spglib: get_bravais_exact_positions_and_lattice failed. (line 336, /tmp/pip-install-58cw25xt/spglib_6207849ab7c64022b27925c813b8e5ef/src/refinement.c).\n",
      "spglib: ref_get_exact_structure_and_symmetry failed. (line 82, /tmp/pip-install-58cw25xt/spglib_6207849ab7c64022b27925c813b8e5ef/src/determination.c).\n",
      "spglib: ssm_get_exact_positions failed (attempt=0). (line 115, /tmp/pip-install-58cw25xt/spglib_6207849ab7c64022b27925c813b8e5ef/src/site_symmetry.c).\n",
      "spglib: ssm_get_exact_positions failed (attempt=1). (line 115, /tmp/pip-install-58cw25xt/spglib_6207849ab7c64022b27925c813b8e5ef/src/site_symmetry.c).\n",
      "spglib: ssm_get_exact_positions failed (attempt=2). (line 115, /tmp/pip-install-58cw25xt/spglib_6207849ab7c64022b27925c813b8e5ef/src/site_symmetry.c).\n",
      "spglib: ssm_get_exact_positions failed (attempt=3). (line 115, /tmp/pip-install-58cw25xt/spglib_6207849ab7c64022b27925c813b8e5ef/src/site_symmetry.c).\n",
      "spglib: ssm_get_exact_positions failed (attempt=4). (line 115, /tmp/pip-install-58cw25xt/spglib_6207849ab7c64022b27925c813b8e5ef/src/site_symmetry.c).\n",
      "spglib: ssm_get_exact_positions failed. (line 479, /tmp/pip-install-58cw25xt/spglib_6207849ab7c64022b27925c813b8e5ef/src/refinement.c).\n",
      "spglib: get_bravais_exact_positions_and_lattice failed. (line 336, /tmp/pip-install-58cw25xt/spglib_6207849ab7c64022b27925c813b8e5ef/src/refinement.c).\n",
      "spglib: ref_get_exact_structure_and_symmetry failed. (line 82, /tmp/pip-install-58cw25xt/spglib_6207849ab7c64022b27925c813b8e5ef/src/determination.c).\n",
      "spglib: ssm_get_exact_positions failed (attempt=0). (line 115, /tmp/pip-install-58cw25xt/spglib_6207849ab7c64022b27925c813b8e5ef/src/site_symmetry.c).\n",
      "spglib: ssm_get_exact_positions failed (attempt=1). (line 115, /tmp/pip-install-58cw25xt/spglib_6207849ab7c64022b27925c813b8e5ef/src/site_symmetry.c).\n",
      "spglib: ssm_get_exact_positions failed (attempt=2). (line 115, /tmp/pip-install-58cw25xt/spglib_6207849ab7c64022b27925c813b8e5ef/src/site_symmetry.c).\n",
      "spglib: ssm_get_exact_positions failed (attempt=3). (line 115, /tmp/pip-install-58cw25xt/spglib_6207849ab7c64022b27925c813b8e5ef/src/site_symmetry.c).\n",
      "spglib: ssm_get_exact_positions failed (attempt=4). (line 115, /tmp/pip-install-58cw25xt/spglib_6207849ab7c64022b27925c813b8e5ef/src/site_symmetry.c).\n",
      "spglib: ssm_get_exact_positions failed. (line 479, /tmp/pip-install-58cw25xt/spglib_6207849ab7c64022b27925c813b8e5ef/src/refinement.c).\n",
      "spglib: get_bravais_exact_positions_and_lattice failed. (line 336, /tmp/pip-install-58cw25xt/spglib_6207849ab7c64022b27925c813b8e5ef/src/refinement.c).\n",
      "spglib: ref_get_exact_structure_and_symmetry failed. (line 82, /tmp/pip-install-58cw25xt/spglib_6207849ab7c64022b27925c813b8e5ef/src/determination.c).\n",
      "spglib: ssm_get_exact_positions failed (attempt=0). (line 115, /tmp/pip-install-58cw25xt/spglib_6207849ab7c64022b27925c813b8e5ef/src/site_symmetry.c).\n",
      "spglib: ssm_get_exact_positions failed (attempt=1). (line 115, /tmp/pip-install-58cw25xt/spglib_6207849ab7c64022b27925c813b8e5ef/src/site_symmetry.c).\n",
      "spglib: ssm_get_exact_positions failed (attempt=2). (line 115, /tmp/pip-install-58cw25xt/spglib_6207849ab7c64022b27925c813b8e5ef/src/site_symmetry.c).\n",
      "spglib: ssm_get_exact_positions failed (attempt=3). (line 115, /tmp/pip-install-58cw25xt/spglib_6207849ab7c64022b27925c813b8e5ef/src/site_symmetry.c).\n",
      "spglib: ssm_get_exact_positions failed (attempt=4). (line 115, /tmp/pip-install-58cw25xt/spglib_6207849ab7c64022b27925c813b8e5ef/src/site_symmetry.c).\n",
      "spglib: ssm_get_exact_positions failed. (line 479, /tmp/pip-install-58cw25xt/spglib_6207849ab7c64022b27925c813b8e5ef/src/refinement.c).\n",
      "spglib: get_bravais_exact_positions_and_lattice failed. (line 336, /tmp/pip-install-58cw25xt/spglib_6207849ab7c64022b27925c813b8e5ef/src/refinement.c).\n",
      "spglib: ref_get_exact_structure_and_symmetry failed. (line 82, /tmp/pip-install-58cw25xt/spglib_6207849ab7c64022b27925c813b8e5ef/src/determination.c).\n",
      "spglib: ssm_get_exact_positions failed (attempt=0). (line 115, /tmp/pip-install-58cw25xt/spglib_6207849ab7c64022b27925c813b8e5ef/src/site_symmetry.c).\n",
      "spglib: ssm_get_exact_positions failed (attempt=1). (line 115, /tmp/pip-install-58cw25xt/spglib_6207849ab7c64022b27925c813b8e5ef/src/site_symmetry.c).\n",
      "spglib: ssm_get_exact_positions failed (attempt=2). (line 115, /tmp/pip-install-58cw25xt/spglib_6207849ab7c64022b27925c813b8e5ef/src/site_symmetry.c).\n",
      "spglib: ssm_get_exact_positions failed (attempt=3). (line 115, /tmp/pip-install-58cw25xt/spglib_6207849ab7c64022b27925c813b8e5ef/src/site_symmetry.c).\n",
      "spglib: ssm_get_exact_positions failed (attempt=4). (line 115, /tmp/pip-install-58cw25xt/spglib_6207849ab7c64022b27925c813b8e5ef/src/site_symmetry.c).\n",
      "spglib: ssm_get_exact_positions failed. (line 479, /tmp/pip-install-58cw25xt/spglib_6207849ab7c64022b27925c813b8e5ef/src/refinement.c).\n",
      "spglib: get_bravais_exact_positions_and_lattice failed. (line 336, /tmp/pip-install-58cw25xt/spglib_6207849ab7c64022b27925c813b8e5ef/src/refinement.c).\n",
      "spglib: ref_get_exact_structure_and_symmetry failed. (line 82, /tmp/pip-install-58cw25xt/spglib_6207849ab7c64022b27925c813b8e5ef/src/determination.c).\n",
      "spglib: ssm_get_exact_positions failed (attempt=0). (line 115, /tmp/pip-install-58cw25xt/spglib_6207849ab7c64022b27925c813b8e5ef/src/site_symmetry.c).\n",
      "spglib: ssm_get_exact_positions failed (attempt=1). (line 115, /tmp/pip-install-58cw25xt/spglib_6207849ab7c64022b27925c813b8e5ef/src/site_symmetry.c).\n",
      "spglib: ssm_get_exact_positions failed (attempt=2). (line 115, /tmp/pip-install-58cw25xt/spglib_6207849ab7c64022b27925c813b8e5ef/src/site_symmetry.c).\n",
      "spglib: ssm_get_exact_positions failed (attempt=3). (line 115, /tmp/pip-install-58cw25xt/spglib_6207849ab7c64022b27925c813b8e5ef/src/site_symmetry.c).\n",
      "spglib: ssm_get_exact_positions failed (attempt=4). (line 115, /tmp/pip-install-58cw25xt/spglib_6207849ab7c64022b27925c813b8e5ef/src/site_symmetry.c).\n",
      "spglib: ssm_get_exact_positions failed. (line 479, /tmp/pip-install-58cw25xt/spglib_6207849ab7c64022b27925c813b8e5ef/src/refinement.c).\n",
      "spglib: get_bravais_exact_positions_and_lattice failed. (line 336, /tmp/pip-install-58cw25xt/spglib_6207849ab7c64022b27925c813b8e5ef/src/refinement.c).\n",
      "spglib: ref_get_exact_structure_and_symmetry failed. (line 82, /tmp/pip-install-58cw25xt/spglib_6207849ab7c64022b27925c813b8e5ef/src/determination.c).\n",
      "spglib: ssm_get_exact_positions failed (attempt=0). (line 115, /tmp/pip-install-58cw25xt/spglib_6207849ab7c64022b27925c813b8e5ef/src/site_symmetry.c).\n",
      "spglib: ssm_get_exact_positions failed (attempt=1). (line 115, /tmp/pip-install-58cw25xt/spglib_6207849ab7c64022b27925c813b8e5ef/src/site_symmetry.c).\n",
      "spglib: ssm_get_exact_positions failed (attempt=2). (line 115, /tmp/pip-install-58cw25xt/spglib_6207849ab7c64022b27925c813b8e5ef/src/site_symmetry.c).\n",
      "spglib: ssm_get_exact_positions failed (attempt=3). (line 115, /tmp/pip-install-58cw25xt/spglib_6207849ab7c64022b27925c813b8e5ef/src/site_symmetry.c).\n",
      "spglib: ssm_get_exact_positions failed (attempt=4). (line 115, /tmp/pip-install-58cw25xt/spglib_6207849ab7c64022b27925c813b8e5ef/src/site_symmetry.c).\n",
      "spglib: ssm_get_exact_positions failed. (line 479, /tmp/pip-install-58cw25xt/spglib_6207849ab7c64022b27925c813b8e5ef/src/refinement.c).\n",
      "spglib: get_bravais_exact_positions_and_lattice failed. (line 336, /tmp/pip-install-58cw25xt/spglib_6207849ab7c64022b27925c813b8e5ef/src/refinement.c).\n",
      "spglib: ref_get_exact_structure_and_symmetry failed. (line 82, /tmp/pip-install-58cw25xt/spglib_6207849ab7c64022b27925c813b8e5ef/src/determination.c).\n",
      "spglib: ssm_get_exact_positions failed (attempt=0). (line 115, /tmp/pip-install-58cw25xt/spglib_6207849ab7c64022b27925c813b8e5ef/src/site_symmetry.c).\n",
      "spglib: ssm_get_exact_positions failed (attempt=1). (line 115, /tmp/pip-install-58cw25xt/spglib_6207849ab7c64022b27925c813b8e5ef/src/site_symmetry.c).\n",
      "spglib: ssm_get_exact_positions failed (attempt=2). (line 115, /tmp/pip-install-58cw25xt/spglib_6207849ab7c64022b27925c813b8e5ef/src/site_symmetry.c).\n",
      "spglib: ssm_get_exact_positions failed (attempt=3). (line 115, /tmp/pip-install-58cw25xt/spglib_6207849ab7c64022b27925c813b8e5ef/src/site_symmetry.c).\n",
      "spglib: ssm_get_exact_positions failed (attempt=4). (line 115, /tmp/pip-install-58cw25xt/spglib_6207849ab7c64022b27925c813b8e5ef/src/site_symmetry.c).\n",
      "spglib: ssm_get_exact_positions failed. (line 479, /tmp/pip-install-58cw25xt/spglib_6207849ab7c64022b27925c813b8e5ef/src/refinement.c).\n",
      "spglib: get_bravais_exact_positions_and_lattice failed. (line 336, /tmp/pip-install-58cw25xt/spglib_6207849ab7c64022b27925c813b8e5ef/src/refinement.c).\n",
      "spglib: ref_get_exact_structure_and_symmetry failed. (line 82, /tmp/pip-install-58cw25xt/spglib_6207849ab7c64022b27925c813b8e5ef/src/determination.c).\n",
      "spglib: ssm_get_exact_positions failed (attempt=0). (line 115, /tmp/pip-install-58cw25xt/spglib_6207849ab7c64022b27925c813b8e5ef/src/site_symmetry.c).\n",
      "spglib: ssm_get_exact_positions failed (attempt=1). (line 115, /tmp/pip-install-58cw25xt/spglib_6207849ab7c64022b27925c813b8e5ef/src/site_symmetry.c).\n",
      "spglib: ssm_get_exact_positions failed (attempt=2). (line 115, /tmp/pip-install-58cw25xt/spglib_6207849ab7c64022b27925c813b8e5ef/src/site_symmetry.c).\n",
      "spglib: ssm_get_exact_positions failed (attempt=3). (line 115, /tmp/pip-install-58cw25xt/spglib_6207849ab7c64022b27925c813b8e5ef/src/site_symmetry.c).\n",
      "spglib: ssm_get_exact_positions failed (attempt=4). (line 115, /tmp/pip-install-58cw25xt/spglib_6207849ab7c64022b27925c813b8e5ef/src/site_symmetry.c).\n",
      "spglib: ssm_get_exact_positions failed. (line 479, /tmp/pip-install-58cw25xt/spglib_6207849ab7c64022b27925c813b8e5ef/src/refinement.c).\n",
      "spglib: get_bravais_exact_positions_and_lattice failed. (line 336, /tmp/pip-install-58cw25xt/spglib_6207849ab7c64022b27925c813b8e5ef/src/refinement.c).\n",
      "spglib: ref_get_exact_structure_and_symmetry failed. (line 82, /tmp/pip-install-58cw25xt/spglib_6207849ab7c64022b27925c813b8e5ef/src/determination.c).\n",
      "spglib: ssm_get_exact_positions failed (attempt=0). (line 115, /tmp/pip-install-58cw25xt/spglib_6207849ab7c64022b27925c813b8e5ef/src/site_symmetry.c).\n",
      "spglib: ssm_get_exact_positions failed (attempt=1). (line 115, /tmp/pip-install-58cw25xt/spglib_6207849ab7c64022b27925c813b8e5ef/src/site_symmetry.c).\n",
      "spglib: ssm_get_exact_positions failed (attempt=2). (line 115, /tmp/pip-install-58cw25xt/spglib_6207849ab7c64022b27925c813b8e5ef/src/site_symmetry.c).\n",
      "spglib: ssm_get_exact_positions failed (attempt=3). (line 115, /tmp/pip-install-58cw25xt/spglib_6207849ab7c64022b27925c813b8e5ef/src/site_symmetry.c).\n",
      "spglib: ssm_get_exact_positions failed (attempt=4). (line 115, /tmp/pip-install-58cw25xt/spglib_6207849ab7c64022b27925c813b8e5ef/src/site_symmetry.c).\n",
      "spglib: ssm_get_exact_positions failed. (line 479, /tmp/pip-install-58cw25xt/spglib_6207849ab7c64022b27925c813b8e5ef/src/refinement.c).\n",
      "spglib: get_bravais_exact_positions_and_lattice failed. (line 336, /tmp/pip-install-58cw25xt/spglib_6207849ab7c64022b27925c813b8e5ef/src/refinement.c).\n",
      "spglib: ref_get_exact_structure_and_symmetry failed. (line 82, /tmp/pip-install-58cw25xt/spglib_6207849ab7c64022b27925c813b8e5ef/src/determination.c).\n",
      "spglib: ssm_get_exact_positions failed (attempt=0). (line 115, /tmp/pip-install-58cw25xt/spglib_6207849ab7c64022b27925c813b8e5ef/src/site_symmetry.c).\n",
      "spglib: ssm_get_exact_positions failed (attempt=1). (line 115, /tmp/pip-install-58cw25xt/spglib_6207849ab7c64022b27925c813b8e5ef/src/site_symmetry.c).\n",
      "spglib: ssm_get_exact_positions failed (attempt=2). (line 115, /tmp/pip-install-58cw25xt/spglib_6207849ab7c64022b27925c813b8e5ef/src/site_symmetry.c).\n",
      "spglib: ssm_get_exact_positions failed (attempt=3). (line 115, /tmp/pip-install-58cw25xt/spglib_6207849ab7c64022b27925c813b8e5ef/src/site_symmetry.c).\n",
      "spglib: ssm_get_exact_positions failed (attempt=4). (line 115, /tmp/pip-install-58cw25xt/spglib_6207849ab7c64022b27925c813b8e5ef/src/site_symmetry.c).\n",
      "spglib: ssm_get_exact_positions failed. (line 479, /tmp/pip-install-58cw25xt/spglib_6207849ab7c64022b27925c813b8e5ef/src/refinement.c).\n",
      "spglib: get_bravais_exact_positions_and_lattice failed. (line 336, /tmp/pip-install-58cw25xt/spglib_6207849ab7c64022b27925c813b8e5ef/src/refinement.c).\n",
      "spglib: ref_get_exact_structure_and_symmetry failed. (line 82, /tmp/pip-install-58cw25xt/spglib_6207849ab7c64022b27925c813b8e5ef/src/determination.c).\n",
      "spglib: ssm_get_exact_positions failed (attempt=0). (line 115, /tmp/pip-install-58cw25xt/spglib_6207849ab7c64022b27925c813b8e5ef/src/site_symmetry.c).\n",
      "spglib: ssm_get_exact_positions failed (attempt=1). (line 115, /tmp/pip-install-58cw25xt/spglib_6207849ab7c64022b27925c813b8e5ef/src/site_symmetry.c).\n",
      "spglib: ssm_get_exact_positions failed (attempt=2). (line 115, /tmp/pip-install-58cw25xt/spglib_6207849ab7c64022b27925c813b8e5ef/src/site_symmetry.c).\n",
      "spglib: ssm_get_exact_positions failed (attempt=3). (line 115, /tmp/pip-install-58cw25xt/spglib_6207849ab7c64022b27925c813b8e5ef/src/site_symmetry.c).\n",
      "spglib: ssm_get_exact_positions failed (attempt=4). (line 115, /tmp/pip-install-58cw25xt/spglib_6207849ab7c64022b27925c813b8e5ef/src/site_symmetry.c).\n",
      "spglib: ssm_get_exact_positions failed. (line 479, /tmp/pip-install-58cw25xt/spglib_6207849ab7c64022b27925c813b8e5ef/src/refinement.c).\n",
      "spglib: get_bravais_exact_positions_and_lattice failed. (line 336, /tmp/pip-install-58cw25xt/spglib_6207849ab7c64022b27925c813b8e5ef/src/refinement.c).\n",
      "spglib: ref_get_exact_structure_and_symmetry failed. (line 82, /tmp/pip-install-58cw25xt/spglib_6207849ab7c64022b27925c813b8e5ef/src/determination.c).\n",
      "spglib: ssm_get_exact_positions failed (attempt=0). (line 115, /tmp/pip-install-58cw25xt/spglib_6207849ab7c64022b27925c813b8e5ef/src/site_symmetry.c).\n",
      "spglib: ssm_get_exact_positions failed (attempt=1). (line 115, /tmp/pip-install-58cw25xt/spglib_6207849ab7c64022b27925c813b8e5ef/src/site_symmetry.c).\n",
      "spglib: ssm_get_exact_positions failed (attempt=2). (line 115, /tmp/pip-install-58cw25xt/spglib_6207849ab7c64022b27925c813b8e5ef/src/site_symmetry.c).\n",
      "spglib: ssm_get_exact_positions failed (attempt=3). (line 115, /tmp/pip-install-58cw25xt/spglib_6207849ab7c64022b27925c813b8e5ef/src/site_symmetry.c).\n",
      "spglib: ssm_get_exact_positions failed (attempt=4). (line 115, /tmp/pip-install-58cw25xt/spglib_6207849ab7c64022b27925c813b8e5ef/src/site_symmetry.c).\n",
      "spglib: ssm_get_exact_positions failed. (line 479, /tmp/pip-install-58cw25xt/spglib_6207849ab7c64022b27925c813b8e5ef/src/refinement.c).\n",
      "spglib: get_bravais_exact_positions_and_lattice failed. (line 336, /tmp/pip-install-58cw25xt/spglib_6207849ab7c64022b27925c813b8e5ef/src/refinement.c).\n",
      "spglib: ref_get_exact_structure_and_symmetry failed. (line 82, /tmp/pip-install-58cw25xt/spglib_6207849ab7c64022b27925c813b8e5ef/src/determination.c).\n",
      "spglib: ssm_get_exact_positions failed (attempt=0). (line 115, /tmp/pip-install-58cw25xt/spglib_6207849ab7c64022b27925c813b8e5ef/src/site_symmetry.c).\n",
      "spglib: ssm_get_exact_positions failed (attempt=1). (line 115, /tmp/pip-install-58cw25xt/spglib_6207849ab7c64022b27925c813b8e5ef/src/site_symmetry.c).\n",
      "spglib: ssm_get_exact_positions failed (attempt=2). (line 115, /tmp/pip-install-58cw25xt/spglib_6207849ab7c64022b27925c813b8e5ef/src/site_symmetry.c).\n",
      "spglib: ssm_get_exact_positions failed (attempt=3). (line 115, /tmp/pip-install-58cw25xt/spglib_6207849ab7c64022b27925c813b8e5ef/src/site_symmetry.c).\n",
      "spglib: ssm_get_exact_positions failed (attempt=4). (line 115, /tmp/pip-install-58cw25xt/spglib_6207849ab7c64022b27925c813b8e5ef/src/site_symmetry.c).\n",
      "spglib: ssm_get_exact_positions failed. (line 479, /tmp/pip-install-58cw25xt/spglib_6207849ab7c64022b27925c813b8e5ef/src/refinement.c).\n",
      "spglib: get_bravais_exact_positions_and_lattice failed. (line 336, /tmp/pip-install-58cw25xt/spglib_6207849ab7c64022b27925c813b8e5ef/src/refinement.c).\n",
      "spglib: ref_get_exact_structure_and_symmetry failed. (line 82, /tmp/pip-install-58cw25xt/spglib_6207849ab7c64022b27925c813b8e5ef/src/determination.c).\n",
      "spglib: ssm_get_exact_positions failed (attempt=0). (line 115, /tmp/pip-install-58cw25xt/spglib_6207849ab7c64022b27925c813b8e5ef/src/site_symmetry.c).\n",
      "spglib: ssm_get_exact_positions failed (attempt=1). (line 115, /tmp/pip-install-58cw25xt/spglib_6207849ab7c64022b27925c813b8e5ef/src/site_symmetry.c).\n",
      "spglib: ssm_get_exact_positions failed (attempt=2). (line 115, /tmp/pip-install-58cw25xt/spglib_6207849ab7c64022b27925c813b8e5ef/src/site_symmetry.c).\n",
      "spglib: ssm_get_exact_positions failed (attempt=3). (line 115, /tmp/pip-install-58cw25xt/spglib_6207849ab7c64022b27925c813b8e5ef/src/site_symmetry.c).\n",
      "spglib: ssm_get_exact_positions failed (attempt=4). (line 115, /tmp/pip-install-58cw25xt/spglib_6207849ab7c64022b27925c813b8e5ef/src/site_symmetry.c).\n",
      "spglib: ssm_get_exact_positions failed. (line 479, /tmp/pip-install-58cw25xt/spglib_6207849ab7c64022b27925c813b8e5ef/src/refinement.c).\n",
      "spglib: get_bravais_exact_positions_and_lattice failed. (line 336, /tmp/pip-install-58cw25xt/spglib_6207849ab7c64022b27925c813b8e5ef/src/refinement.c).\n",
      "spglib: ref_get_exact_structure_and_symmetry failed. (line 82, /tmp/pip-install-58cw25xt/spglib_6207849ab7c64022b27925c813b8e5ef/src/determination.c).\n",
      "spglib: ssm_get_exact_positions failed (attempt=0). (line 115, /tmp/pip-install-58cw25xt/spglib_6207849ab7c64022b27925c813b8e5ef/src/site_symmetry.c).\n",
      "spglib: ssm_get_exact_positions failed (attempt=1). (line 115, /tmp/pip-install-58cw25xt/spglib_6207849ab7c64022b27925c813b8e5ef/src/site_symmetry.c).\n",
      "spglib: ssm_get_exact_positions failed (attempt=2). (line 115, /tmp/pip-install-58cw25xt/spglib_6207849ab7c64022b27925c813b8e5ef/src/site_symmetry.c).\n",
      "spglib: ssm_get_exact_positions failed (attempt=3). (line 115, /tmp/pip-install-58cw25xt/spglib_6207849ab7c64022b27925c813b8e5ef/src/site_symmetry.c).\n",
      "spglib: ssm_get_exact_positions failed (attempt=4). (line 115, /tmp/pip-install-58cw25xt/spglib_6207849ab7c64022b27925c813b8e5ef/src/site_symmetry.c).\n",
      "spglib: ssm_get_exact_positions failed. (line 479, /tmp/pip-install-58cw25xt/spglib_6207849ab7c64022b27925c813b8e5ef/src/refinement.c).\n",
      "spglib: get_bravais_exact_positions_and_lattice failed. (line 336, /tmp/pip-install-58cw25xt/spglib_6207849ab7c64022b27925c813b8e5ef/src/refinement.c).\n",
      "spglib: ref_get_exact_structure_and_symmetry failed. (line 82, /tmp/pip-install-58cw25xt/spglib_6207849ab7c64022b27925c813b8e5ef/src/determination.c).\n",
      "spglib: ssm_get_exact_positions failed (attempt=0). (line 115, /tmp/pip-install-58cw25xt/spglib_6207849ab7c64022b27925c813b8e5ef/src/site_symmetry.c).\n",
      "spglib: ssm_get_exact_positions failed (attempt=1). (line 115, /tmp/pip-install-58cw25xt/spglib_6207849ab7c64022b27925c813b8e5ef/src/site_symmetry.c).\n",
      "spglib: ssm_get_exact_positions failed (attempt=2). (line 115, /tmp/pip-install-58cw25xt/spglib_6207849ab7c64022b27925c813b8e5ef/src/site_symmetry.c).\n",
      "spglib: ssm_get_exact_positions failed (attempt=3). (line 115, /tmp/pip-install-58cw25xt/spglib_6207849ab7c64022b27925c813b8e5ef/src/site_symmetry.c).\n",
      "spglib: ssm_get_exact_positions failed (attempt=4). (line 115, /tmp/pip-install-58cw25xt/spglib_6207849ab7c64022b27925c813b8e5ef/src/site_symmetry.c).\n",
      "spglib: ssm_get_exact_positions failed. (line 479, /tmp/pip-install-58cw25xt/spglib_6207849ab7c64022b27925c813b8e5ef/src/refinement.c).\n",
      "spglib: get_bravais_exact_positions_and_lattice failed. (line 336, /tmp/pip-install-58cw25xt/spglib_6207849ab7c64022b27925c813b8e5ef/src/refinement.c).\n",
      "spglib: ref_get_exact_structure_and_symmetry failed. (line 82, /tmp/pip-install-58cw25xt/spglib_6207849ab7c64022b27925c813b8e5ef/src/determination.c).\n",
      "spglib: ssm_get_exact_positions failed (attempt=0). (line 115, /tmp/pip-install-58cw25xt/spglib_6207849ab7c64022b27925c813b8e5ef/src/site_symmetry.c).\n",
      "spglib: ssm_get_exact_positions failed (attempt=1). (line 115, /tmp/pip-install-58cw25xt/spglib_6207849ab7c64022b27925c813b8e5ef/src/site_symmetry.c).\n",
      "spglib: ssm_get_exact_positions failed (attempt=2). (line 115, /tmp/pip-install-58cw25xt/spglib_6207849ab7c64022b27925c813b8e5ef/src/site_symmetry.c).\n",
      "spglib: ssm_get_exact_positions failed (attempt=3). (line 115, /tmp/pip-install-58cw25xt/spglib_6207849ab7c64022b27925c813b8e5ef/src/site_symmetry.c).\n",
      "spglib: ssm_get_exact_positions failed (attempt=4). (line 115, /tmp/pip-install-58cw25xt/spglib_6207849ab7c64022b27925c813b8e5ef/src/site_symmetry.c).\n",
      "spglib: ssm_get_exact_positions failed. (line 479, /tmp/pip-install-58cw25xt/spglib_6207849ab7c64022b27925c813b8e5ef/src/refinement.c).\n",
      "spglib: get_bravais_exact_positions_and_lattice failed. (line 336, /tmp/pip-install-58cw25xt/spglib_6207849ab7c64022b27925c813b8e5ef/src/refinement.c).\n",
      "spglib: ref_get_exact_structure_and_symmetry failed. (line 82, /tmp/pip-install-58cw25xt/spglib_6207849ab7c64022b27925c813b8e5ef/src/determination.c).\n",
      "spglib: ssm_get_exact_positions failed (attempt=0). (line 115, /tmp/pip-install-58cw25xt/spglib_6207849ab7c64022b27925c813b8e5ef/src/site_symmetry.c).\n",
      "spglib: ssm_get_exact_positions failed (attempt=1). (line 115, /tmp/pip-install-58cw25xt/spglib_6207849ab7c64022b27925c813b8e5ef/src/site_symmetry.c).\n",
      "spglib: ssm_get_exact_positions failed (attempt=2). (line 115, /tmp/pip-install-58cw25xt/spglib_6207849ab7c64022b27925c813b8e5ef/src/site_symmetry.c).\n",
      "spglib: ssm_get_exact_positions failed (attempt=3). (line 115, /tmp/pip-install-58cw25xt/spglib_6207849ab7c64022b27925c813b8e5ef/src/site_symmetry.c).\n",
      "spglib: ssm_get_exact_positions failed (attempt=4). (line 115, /tmp/pip-install-58cw25xt/spglib_6207849ab7c64022b27925c813b8e5ef/src/site_symmetry.c).\n",
      "spglib: ssm_get_exact_positions failed. (line 479, /tmp/pip-install-58cw25xt/spglib_6207849ab7c64022b27925c813b8e5ef/src/refinement.c).\n",
      "spglib: get_bravais_exact_positions_and_lattice failed. (line 336, /tmp/pip-install-58cw25xt/spglib_6207849ab7c64022b27925c813b8e5ef/src/refinement.c).\n",
      "spglib: ref_get_exact_structure_and_symmetry failed. (line 82, /tmp/pip-install-58cw25xt/spglib_6207849ab7c64022b27925c813b8e5ef/src/determination.c).\n",
      "spglib: ssm_get_exact_positions failed (attempt=0). (line 115, /tmp/pip-install-58cw25xt/spglib_6207849ab7c64022b27925c813b8e5ef/src/site_symmetry.c).\n",
      "spglib: ssm_get_exact_positions failed (attempt=1). (line 115, /tmp/pip-install-58cw25xt/spglib_6207849ab7c64022b27925c813b8e5ef/src/site_symmetry.c).\n",
      "spglib: ssm_get_exact_positions failed (attempt=2). (line 115, /tmp/pip-install-58cw25xt/spglib_6207849ab7c64022b27925c813b8e5ef/src/site_symmetry.c).\n",
      "spglib: ssm_get_exact_positions failed (attempt=3). (line 115, /tmp/pip-install-58cw25xt/spglib_6207849ab7c64022b27925c813b8e5ef/src/site_symmetry.c).\n",
      "spglib: ssm_get_exact_positions failed (attempt=4). (line 115, /tmp/pip-install-58cw25xt/spglib_6207849ab7c64022b27925c813b8e5ef/src/site_symmetry.c).\n",
      "spglib: ssm_get_exact_positions failed. (line 479, /tmp/pip-install-58cw25xt/spglib_6207849ab7c64022b27925c813b8e5ef/src/refinement.c).\n",
      "spglib: get_bravais_exact_positions_and_lattice failed. (line 336, /tmp/pip-install-58cw25xt/spglib_6207849ab7c64022b27925c813b8e5ef/src/refinement.c).\n",
      "spglib: ref_get_exact_structure_and_symmetry failed. (line 82, /tmp/pip-install-58cw25xt/spglib_6207849ab7c64022b27925c813b8e5ef/src/determination.c).\n",
      "spglib: ssm_get_exact_positions failed (attempt=0). (line 115, /tmp/pip-install-58cw25xt/spglib_6207849ab7c64022b27925c813b8e5ef/src/site_symmetry.c).\n",
      "spglib: ssm_get_exact_positions failed (attempt=1). (line 115, /tmp/pip-install-58cw25xt/spglib_6207849ab7c64022b27925c813b8e5ef/src/site_symmetry.c).\n",
      "spglib: ssm_get_exact_positions failed (attempt=2). (line 115, /tmp/pip-install-58cw25xt/spglib_6207849ab7c64022b27925c813b8e5ef/src/site_symmetry.c).\n",
      "spglib: ssm_get_exact_positions failed (attempt=3). (line 115, /tmp/pip-install-58cw25xt/spglib_6207849ab7c64022b27925c813b8e5ef/src/site_symmetry.c).\n",
      "spglib: ssm_get_exact_positions failed (attempt=4). (line 115, /tmp/pip-install-58cw25xt/spglib_6207849ab7c64022b27925c813b8e5ef/src/site_symmetry.c).\n",
      "spglib: ssm_get_exact_positions failed. (line 479, /tmp/pip-install-58cw25xt/spglib_6207849ab7c64022b27925c813b8e5ef/src/refinement.c).\n",
      "spglib: get_bravais_exact_positions_and_lattice failed. (line 336, /tmp/pip-install-58cw25xt/spglib_6207849ab7c64022b27925c813b8e5ef/src/refinement.c).\n",
      "spglib: ref_get_exact_structure_and_symmetry failed. (line 82, /tmp/pip-install-58cw25xt/spglib_6207849ab7c64022b27925c813b8e5ef/src/determination.c).\n",
      "spglib: ssm_get_exact_positions failed (attempt=0). (line 115, /tmp/pip-install-58cw25xt/spglib_6207849ab7c64022b27925c813b8e5ef/src/site_symmetry.c).\n",
      "spglib: ssm_get_exact_positions failed (attempt=1). (line 115, /tmp/pip-install-58cw25xt/spglib_6207849ab7c64022b27925c813b8e5ef/src/site_symmetry.c).\n",
      "spglib: ssm_get_exact_positions failed (attempt=2). (line 115, /tmp/pip-install-58cw25xt/spglib_6207849ab7c64022b27925c813b8e5ef/src/site_symmetry.c).\n",
      "spglib: ssm_get_exact_positions failed (attempt=3). (line 115, /tmp/pip-install-58cw25xt/spglib_6207849ab7c64022b27925c813b8e5ef/src/site_symmetry.c).\n",
      "spglib: ssm_get_exact_positions failed (attempt=4). (line 115, /tmp/pip-install-58cw25xt/spglib_6207849ab7c64022b27925c813b8e5ef/src/site_symmetry.c).\n",
      "spglib: ssm_get_exact_positions failed. (line 479, /tmp/pip-install-58cw25xt/spglib_6207849ab7c64022b27925c813b8e5ef/src/refinement.c).\n",
      "spglib: get_bravais_exact_positions_and_lattice failed. (line 336, /tmp/pip-install-58cw25xt/spglib_6207849ab7c64022b27925c813b8e5ef/src/refinement.c).\n",
      "spglib: ref_get_exact_structure_and_symmetry failed. (line 82, /tmp/pip-install-58cw25xt/spglib_6207849ab7c64022b27925c813b8e5ef/src/determination.c).\n",
      "spglib: ssm_get_exact_positions failed (attempt=0). (line 115, /tmp/pip-install-58cw25xt/spglib_6207849ab7c64022b27925c813b8e5ef/src/site_symmetry.c).\n",
      "spglib: ssm_get_exact_positions failed (attempt=1). (line 115, /tmp/pip-install-58cw25xt/spglib_6207849ab7c64022b27925c813b8e5ef/src/site_symmetry.c).\n",
      "spglib: ssm_get_exact_positions failed (attempt=2). (line 115, /tmp/pip-install-58cw25xt/spglib_6207849ab7c64022b27925c813b8e5ef/src/site_symmetry.c).\n",
      "spglib: ssm_get_exact_positions failed (attempt=3). (line 115, /tmp/pip-install-58cw25xt/spglib_6207849ab7c64022b27925c813b8e5ef/src/site_symmetry.c).\n",
      "spglib: ssm_get_exact_positions failed (attempt=4). (line 115, /tmp/pip-install-58cw25xt/spglib_6207849ab7c64022b27925c813b8e5ef/src/site_symmetry.c).\n",
      "spglib: ssm_get_exact_positions failed. (line 479, /tmp/pip-install-58cw25xt/spglib_6207849ab7c64022b27925c813b8e5ef/src/refinement.c).\n",
      "spglib: get_bravais_exact_positions_and_lattice failed. (line 336, /tmp/pip-install-58cw25xt/spglib_6207849ab7c64022b27925c813b8e5ef/src/refinement.c).\n",
      "spglib: ref_get_exact_structure_and_symmetry failed. (line 82, /tmp/pip-install-58cw25xt/spglib_6207849ab7c64022b27925c813b8e5ef/src/determination.c).\n",
      "spglib: ssm_get_exact_positions failed (attempt=0). (line 115, /tmp/pip-install-58cw25xt/spglib_6207849ab7c64022b27925c813b8e5ef/src/site_symmetry.c).\n",
      "spglib: ssm_get_exact_positions failed (attempt=1). (line 115, /tmp/pip-install-58cw25xt/spglib_6207849ab7c64022b27925c813b8e5ef/src/site_symmetry.c).\n",
      "spglib: ssm_get_exact_positions failed (attempt=2). (line 115, /tmp/pip-install-58cw25xt/spglib_6207849ab7c64022b27925c813b8e5ef/src/site_symmetry.c).\n",
      "spglib: ssm_get_exact_positions failed (attempt=3). (line 115, /tmp/pip-install-58cw25xt/spglib_6207849ab7c64022b27925c813b8e5ef/src/site_symmetry.c).\n",
      "spglib: ssm_get_exact_positions failed (attempt=4). (line 115, /tmp/pip-install-58cw25xt/spglib_6207849ab7c64022b27925c813b8e5ef/src/site_symmetry.c).\n",
      "spglib: ssm_get_exact_positions failed. (line 479, /tmp/pip-install-58cw25xt/spglib_6207849ab7c64022b27925c813b8e5ef/src/refinement.c).\n",
      "spglib: get_bravais_exact_positions_and_lattice failed. (line 336, /tmp/pip-install-58cw25xt/spglib_6207849ab7c64022b27925c813b8e5ef/src/refinement.c).\n",
      "spglib: ref_get_exact_structure_and_symmetry failed. (line 82, /tmp/pip-install-58cw25xt/spglib_6207849ab7c64022b27925c813b8e5ef/src/determination.c).\n",
      "spglib: ssm_get_exact_positions failed (attempt=0). (line 115, /tmp/pip-install-58cw25xt/spglib_6207849ab7c64022b27925c813b8e5ef/src/site_symmetry.c).\n",
      "spglib: ssm_get_exact_positions failed (attempt=1). (line 115, /tmp/pip-install-58cw25xt/spglib_6207849ab7c64022b27925c813b8e5ef/src/site_symmetry.c).\n",
      "spglib: ssm_get_exact_positions failed (attempt=2). (line 115, /tmp/pip-install-58cw25xt/spglib_6207849ab7c64022b27925c813b8e5ef/src/site_symmetry.c).\n",
      "spglib: ssm_get_exact_positions failed (attempt=3). (line 115, /tmp/pip-install-58cw25xt/spglib_6207849ab7c64022b27925c813b8e5ef/src/site_symmetry.c).\n",
      "spglib: ssm_get_exact_positions failed (attempt=4). (line 115, /tmp/pip-install-58cw25xt/spglib_6207849ab7c64022b27925c813b8e5ef/src/site_symmetry.c).\n",
      "spglib: ssm_get_exact_positions failed. (line 479, /tmp/pip-install-58cw25xt/spglib_6207849ab7c64022b27925c813b8e5ef/src/refinement.c).\n",
      "spglib: get_bravais_exact_positions_and_lattice failed. (line 336, /tmp/pip-install-58cw25xt/spglib_6207849ab7c64022b27925c813b8e5ef/src/refinement.c).\n",
      "spglib: ref_get_exact_structure_and_symmetry failed. (line 82, /tmp/pip-install-58cw25xt/spglib_6207849ab7c64022b27925c813b8e5ef/src/determination.c).\n",
      "spglib: ssm_get_exact_positions failed (attempt=0). (line 115, /tmp/pip-install-58cw25xt/spglib_6207849ab7c64022b27925c813b8e5ef/src/site_symmetry.c).\n",
      "spglib: ssm_get_exact_positions failed (attempt=1). (line 115, /tmp/pip-install-58cw25xt/spglib_6207849ab7c64022b27925c813b8e5ef/src/site_symmetry.c).\n",
      "spglib: ssm_get_exact_positions failed (attempt=2). (line 115, /tmp/pip-install-58cw25xt/spglib_6207849ab7c64022b27925c813b8e5ef/src/site_symmetry.c).\n",
      "spglib: ssm_get_exact_positions failed (attempt=3). (line 115, /tmp/pip-install-58cw25xt/spglib_6207849ab7c64022b27925c813b8e5ef/src/site_symmetry.c).\n",
      "spglib: ssm_get_exact_positions failed (attempt=4). (line 115, /tmp/pip-install-58cw25xt/spglib_6207849ab7c64022b27925c813b8e5ef/src/site_symmetry.c).\n",
      "spglib: ssm_get_exact_positions failed. (line 479, /tmp/pip-install-58cw25xt/spglib_6207849ab7c64022b27925c813b8e5ef/src/refinement.c).\n",
      "spglib: get_bravais_exact_positions_and_lattice failed. (line 336, /tmp/pip-install-58cw25xt/spglib_6207849ab7c64022b27925c813b8e5ef/src/refinement.c).\n",
      "spglib: ref_get_exact_structure_and_symmetry failed. (line 82, /tmp/pip-install-58cw25xt/spglib_6207849ab7c64022b27925c813b8e5ef/src/determination.c).\n",
      "spglib: ssm_get_exact_positions failed (attempt=0). (line 115, /tmp/pip-install-58cw25xt/spglib_6207849ab7c64022b27925c813b8e5ef/src/site_symmetry.c).\n",
      "spglib: ssm_get_exact_positions failed (attempt=1). (line 115, /tmp/pip-install-58cw25xt/spglib_6207849ab7c64022b27925c813b8e5ef/src/site_symmetry.c).\n",
      "spglib: ssm_get_exact_positions failed (attempt=2). (line 115, /tmp/pip-install-58cw25xt/spglib_6207849ab7c64022b27925c813b8e5ef/src/site_symmetry.c).\n",
      "spglib: ssm_get_exact_positions failed (attempt=3). (line 115, /tmp/pip-install-58cw25xt/spglib_6207849ab7c64022b27925c813b8e5ef/src/site_symmetry.c).\n",
      "spglib: ssm_get_exact_positions failed (attempt=4). (line 115, /tmp/pip-install-58cw25xt/spglib_6207849ab7c64022b27925c813b8e5ef/src/site_symmetry.c).\n",
      "spglib: ssm_get_exact_positions failed. (line 479, /tmp/pip-install-58cw25xt/spglib_6207849ab7c64022b27925c813b8e5ef/src/refinement.c).\n",
      "spglib: get_bravais_exact_positions_and_lattice failed. (line 336, /tmp/pip-install-58cw25xt/spglib_6207849ab7c64022b27925c813b8e5ef/src/refinement.c).\n",
      "spglib: ref_get_exact_structure_and_symmetry failed. (line 82, /tmp/pip-install-58cw25xt/spglib_6207849ab7c64022b27925c813b8e5ef/src/determination.c).\n",
      "spglib: ssm_get_exact_positions failed (attempt=0). (line 115, /tmp/pip-install-58cw25xt/spglib_6207849ab7c64022b27925c813b8e5ef/src/site_symmetry.c).\n",
      "spglib: ssm_get_exact_positions failed (attempt=1). (line 115, /tmp/pip-install-58cw25xt/spglib_6207849ab7c64022b27925c813b8e5ef/src/site_symmetry.c).\n",
      "spglib: ssm_get_exact_positions failed (attempt=2). (line 115, /tmp/pip-install-58cw25xt/spglib_6207849ab7c64022b27925c813b8e5ef/src/site_symmetry.c).\n",
      "spglib: ssm_get_exact_positions failed (attempt=3). (line 115, /tmp/pip-install-58cw25xt/spglib_6207849ab7c64022b27925c813b8e5ef/src/site_symmetry.c).\n",
      "spglib: ssm_get_exact_positions failed (attempt=4). (line 115, /tmp/pip-install-58cw25xt/spglib_6207849ab7c64022b27925c813b8e5ef/src/site_symmetry.c).\n",
      "spglib: ssm_get_exact_positions failed. (line 479, /tmp/pip-install-58cw25xt/spglib_6207849ab7c64022b27925c813b8e5ef/src/refinement.c).\n",
      "spglib: get_bravais_exact_positions_and_lattice failed. (line 336, /tmp/pip-install-58cw25xt/spglib_6207849ab7c64022b27925c813b8e5ef/src/refinement.c).\n",
      "spglib: ref_get_exact_structure_and_symmetry failed. (line 82, /tmp/pip-install-58cw25xt/spglib_6207849ab7c64022b27925c813b8e5ef/src/determination.c).\n",
      "spglib: ssm_get_exact_positions failed (attempt=0). (line 115, /tmp/pip-install-58cw25xt/spglib_6207849ab7c64022b27925c813b8e5ef/src/site_symmetry.c).\n",
      "spglib: ssm_get_exact_positions failed (attempt=1). (line 115, /tmp/pip-install-58cw25xt/spglib_6207849ab7c64022b27925c813b8e5ef/src/site_symmetry.c).\n",
      "spglib: ssm_get_exact_positions failed (attempt=2). (line 115, /tmp/pip-install-58cw25xt/spglib_6207849ab7c64022b27925c813b8e5ef/src/site_symmetry.c).\n",
      "spglib: ssm_get_exact_positions failed (attempt=3). (line 115, /tmp/pip-install-58cw25xt/spglib_6207849ab7c64022b27925c813b8e5ef/src/site_symmetry.c).\n",
      "spglib: ssm_get_exact_positions failed (attempt=4). (line 115, /tmp/pip-install-58cw25xt/spglib_6207849ab7c64022b27925c813b8e5ef/src/site_symmetry.c).\n",
      "spglib: ssm_get_exact_positions failed. (line 479, /tmp/pip-install-58cw25xt/spglib_6207849ab7c64022b27925c813b8e5ef/src/refinement.c).\n",
      "spglib: get_bravais_exact_positions_and_lattice failed. (line 336, /tmp/pip-install-58cw25xt/spglib_6207849ab7c64022b27925c813b8e5ef/src/refinement.c).\n",
      "spglib: ref_get_exact_structure_and_symmetry failed. (line 82, /tmp/pip-install-58cw25xt/spglib_6207849ab7c64022b27925c813b8e5ef/src/determination.c).\n",
      "spglib: ssm_get_exact_positions failed (attempt=0). (line 115, /tmp/pip-install-58cw25xt/spglib_6207849ab7c64022b27925c813b8e5ef/src/site_symmetry.c).\n",
      "spglib: ssm_get_exact_positions failed (attempt=1). (line 115, /tmp/pip-install-58cw25xt/spglib_6207849ab7c64022b27925c813b8e5ef/src/site_symmetry.c).\n",
      "spglib: ssm_get_exact_positions failed (attempt=2). (line 115, /tmp/pip-install-58cw25xt/spglib_6207849ab7c64022b27925c813b8e5ef/src/site_symmetry.c).\n",
      "spglib: ssm_get_exact_positions failed (attempt=3). (line 115, /tmp/pip-install-58cw25xt/spglib_6207849ab7c64022b27925c813b8e5ef/src/site_symmetry.c).\n",
      "spglib: ssm_get_exact_positions failed (attempt=4). (line 115, /tmp/pip-install-58cw25xt/spglib_6207849ab7c64022b27925c813b8e5ef/src/site_symmetry.c).\n",
      "spglib: ssm_get_exact_positions failed. (line 479, /tmp/pip-install-58cw25xt/spglib_6207849ab7c64022b27925c813b8e5ef/src/refinement.c).\n",
      "spglib: get_bravais_exact_positions_and_lattice failed. (line 336, /tmp/pip-install-58cw25xt/spglib_6207849ab7c64022b27925c813b8e5ef/src/refinement.c).\n",
      "spglib: ref_get_exact_structure_and_symmetry failed. (line 82, /tmp/pip-install-58cw25xt/spglib_6207849ab7c64022b27925c813b8e5ef/src/determination.c).\n",
      "spglib: ssm_get_exact_positions failed (attempt=0). (line 115, /tmp/pip-install-58cw25xt/spglib_6207849ab7c64022b27925c813b8e5ef/src/site_symmetry.c).\n",
      "spglib: ssm_get_exact_positions failed (attempt=1). (line 115, /tmp/pip-install-58cw25xt/spglib_6207849ab7c64022b27925c813b8e5ef/src/site_symmetry.c).\n",
      "spglib: ssm_get_exact_positions failed (attempt=2). (line 115, /tmp/pip-install-58cw25xt/spglib_6207849ab7c64022b27925c813b8e5ef/src/site_symmetry.c).\n",
      "spglib: ssm_get_exact_positions failed (attempt=3). (line 115, /tmp/pip-install-58cw25xt/spglib_6207849ab7c64022b27925c813b8e5ef/src/site_symmetry.c).\n",
      "spglib: ssm_get_exact_positions failed (attempt=4). (line 115, /tmp/pip-install-58cw25xt/spglib_6207849ab7c64022b27925c813b8e5ef/src/site_symmetry.c).\n",
      "spglib: ssm_get_exact_positions failed. (line 479, /tmp/pip-install-58cw25xt/spglib_6207849ab7c64022b27925c813b8e5ef/src/refinement.c).\n",
      "spglib: get_bravais_exact_positions_and_lattice failed. (line 336, /tmp/pip-install-58cw25xt/spglib_6207849ab7c64022b27925c813b8e5ef/src/refinement.c).\n",
      "spglib: ref_get_exact_structure_and_symmetry failed. (line 82, /tmp/pip-install-58cw25xt/spglib_6207849ab7c64022b27925c813b8e5ef/src/determination.c).\n",
      "spglib: ssm_get_exact_positions failed (attempt=0). (line 115, /tmp/pip-install-58cw25xt/spglib_6207849ab7c64022b27925c813b8e5ef/src/site_symmetry.c).\n",
      "spglib: ssm_get_exact_positions failed (attempt=1). (line 115, /tmp/pip-install-58cw25xt/spglib_6207849ab7c64022b27925c813b8e5ef/src/site_symmetry.c).\n",
      "spglib: ssm_get_exact_positions failed (attempt=2). (line 115, /tmp/pip-install-58cw25xt/spglib_6207849ab7c64022b27925c813b8e5ef/src/site_symmetry.c).\n",
      "spglib: ssm_get_exact_positions failed (attempt=3). (line 115, /tmp/pip-install-58cw25xt/spglib_6207849ab7c64022b27925c813b8e5ef/src/site_symmetry.c).\n",
      "spglib: ssm_get_exact_positions failed (attempt=4). (line 115, /tmp/pip-install-58cw25xt/spglib_6207849ab7c64022b27925c813b8e5ef/src/site_symmetry.c).\n",
      "spglib: ssm_get_exact_positions failed. (line 479, /tmp/pip-install-58cw25xt/spglib_6207849ab7c64022b27925c813b8e5ef/src/refinement.c).\n",
      "spglib: get_bravais_exact_positions_and_lattice failed. (line 336, /tmp/pip-install-58cw25xt/spglib_6207849ab7c64022b27925c813b8e5ef/src/refinement.c).\n",
      "spglib: ref_get_exact_structure_and_symmetry failed. (line 82, /tmp/pip-install-58cw25xt/spglib_6207849ab7c64022b27925c813b8e5ef/src/determination.c).\n",
      "spglib: ssm_get_exact_positions failed (attempt=0). (line 115, /tmp/pip-install-58cw25xt/spglib_6207849ab7c64022b27925c813b8e5ef/src/site_symmetry.c).\n",
      "spglib: ssm_get_exact_positions failed (attempt=1). (line 115, /tmp/pip-install-58cw25xt/spglib_6207849ab7c64022b27925c813b8e5ef/src/site_symmetry.c).\n",
      "spglib: ssm_get_exact_positions failed (attempt=2). (line 115, /tmp/pip-install-58cw25xt/spglib_6207849ab7c64022b27925c813b8e5ef/src/site_symmetry.c).\n",
      "spglib: ssm_get_exact_positions failed (attempt=3). (line 115, /tmp/pip-install-58cw25xt/spglib_6207849ab7c64022b27925c813b8e5ef/src/site_symmetry.c).\n",
      "spglib: ssm_get_exact_positions failed (attempt=4). (line 115, /tmp/pip-install-58cw25xt/spglib_6207849ab7c64022b27925c813b8e5ef/src/site_symmetry.c).\n",
      "spglib: ssm_get_exact_positions failed. (line 479, /tmp/pip-install-58cw25xt/spglib_6207849ab7c64022b27925c813b8e5ef/src/refinement.c).\n",
      "spglib: get_bravais_exact_positions_and_lattice failed. (line 336, /tmp/pip-install-58cw25xt/spglib_6207849ab7c64022b27925c813b8e5ef/src/refinement.c).\n",
      "spglib: ref_get_exact_structure_and_symmetry failed. (line 82, /tmp/pip-install-58cw25xt/spglib_6207849ab7c64022b27925c813b8e5ef/src/determination.c).\n",
      "spglib: ssm_get_exact_positions failed (attempt=0). (line 115, /tmp/pip-install-58cw25xt/spglib_6207849ab7c64022b27925c813b8e5ef/src/site_symmetry.c).\n",
      "spglib: ssm_get_exact_positions failed (attempt=1). (line 115, /tmp/pip-install-58cw25xt/spglib_6207849ab7c64022b27925c813b8e5ef/src/site_symmetry.c).\n",
      "spglib: ssm_get_exact_positions failed (attempt=2). (line 115, /tmp/pip-install-58cw25xt/spglib_6207849ab7c64022b27925c813b8e5ef/src/site_symmetry.c).\n",
      "spglib: ssm_get_exact_positions failed (attempt=3). (line 115, /tmp/pip-install-58cw25xt/spglib_6207849ab7c64022b27925c813b8e5ef/src/site_symmetry.c).\n",
      "spglib: ssm_get_exact_positions failed (attempt=4). (line 115, /tmp/pip-install-58cw25xt/spglib_6207849ab7c64022b27925c813b8e5ef/src/site_symmetry.c).\n",
      "spglib: ssm_get_exact_positions failed. (line 479, /tmp/pip-install-58cw25xt/spglib_6207849ab7c64022b27925c813b8e5ef/src/refinement.c).\n",
      "spglib: get_bravais_exact_positions_and_lattice failed. (line 336, /tmp/pip-install-58cw25xt/spglib_6207849ab7c64022b27925c813b8e5ef/src/refinement.c).\n",
      "spglib: ref_get_exact_structure_and_symmetry failed. (line 82, /tmp/pip-install-58cw25xt/spglib_6207849ab7c64022b27925c813b8e5ef/src/determination.c).\n",
      "spglib: ssm_get_exact_positions failed (attempt=0). (line 115, /tmp/pip-install-58cw25xt/spglib_6207849ab7c64022b27925c813b8e5ef/src/site_symmetry.c).\n",
      "spglib: ssm_get_exact_positions failed (attempt=1). (line 115, /tmp/pip-install-58cw25xt/spglib_6207849ab7c64022b27925c813b8e5ef/src/site_symmetry.c).\n",
      "spglib: ssm_get_exact_positions failed (attempt=2). (line 115, /tmp/pip-install-58cw25xt/spglib_6207849ab7c64022b27925c813b8e5ef/src/site_symmetry.c).\n",
      "spglib: ssm_get_exact_positions failed (attempt=3). (line 115, /tmp/pip-install-58cw25xt/spglib_6207849ab7c64022b27925c813b8e5ef/src/site_symmetry.c).\n",
      "spglib: ssm_get_exact_positions failed (attempt=4). (line 115, /tmp/pip-install-58cw25xt/spglib_6207849ab7c64022b27925c813b8e5ef/src/site_symmetry.c).\n",
      "spglib: ssm_get_exact_positions failed. (line 479, /tmp/pip-install-58cw25xt/spglib_6207849ab7c64022b27925c813b8e5ef/src/refinement.c).\n",
      "spglib: get_bravais_exact_positions_and_lattice failed. (line 336, /tmp/pip-install-58cw25xt/spglib_6207849ab7c64022b27925c813b8e5ef/src/refinement.c).\n",
      "spglib: ref_get_exact_structure_and_symmetry failed. (line 82, /tmp/pip-install-58cw25xt/spglib_6207849ab7c64022b27925c813b8e5ef/src/determination.c).\n",
      "spglib: ssm_get_exact_positions failed (attempt=0). (line 115, /tmp/pip-install-58cw25xt/spglib_6207849ab7c64022b27925c813b8e5ef/src/site_symmetry.c).\n",
      "spglib: ssm_get_exact_positions failed (attempt=1). (line 115, /tmp/pip-install-58cw25xt/spglib_6207849ab7c64022b27925c813b8e5ef/src/site_symmetry.c).\n",
      "spglib: ssm_get_exact_positions failed (attempt=2). (line 115, /tmp/pip-install-58cw25xt/spglib_6207849ab7c64022b27925c813b8e5ef/src/site_symmetry.c).\n",
      "spglib: ssm_get_exact_positions failed (attempt=3). (line 115, /tmp/pip-install-58cw25xt/spglib_6207849ab7c64022b27925c813b8e5ef/src/site_symmetry.c).\n",
      "spglib: ssm_get_exact_positions failed (attempt=4). (line 115, /tmp/pip-install-58cw25xt/spglib_6207849ab7c64022b27925c813b8e5ef/src/site_symmetry.c).\n",
      "spglib: ssm_get_exact_positions failed. (line 479, /tmp/pip-install-58cw25xt/spglib_6207849ab7c64022b27925c813b8e5ef/src/refinement.c).\n",
      "spglib: get_bravais_exact_positions_and_lattice failed. (line 336, /tmp/pip-install-58cw25xt/spglib_6207849ab7c64022b27925c813b8e5ef/src/refinement.c).\n",
      "spglib: ref_get_exact_structure_and_symmetry failed. (line 82, /tmp/pip-install-58cw25xt/spglib_6207849ab7c64022b27925c813b8e5ef/src/determination.c).\n",
      "spglib: ssm_get_exact_positions failed (attempt=0). (line 115, /tmp/pip-install-58cw25xt/spglib_6207849ab7c64022b27925c813b8e5ef/src/site_symmetry.c).\n",
      "spglib: ssm_get_exact_positions failed (attempt=1). (line 115, /tmp/pip-install-58cw25xt/spglib_6207849ab7c64022b27925c813b8e5ef/src/site_symmetry.c).\n",
      "spglib: ssm_get_exact_positions failed (attempt=2). (line 115, /tmp/pip-install-58cw25xt/spglib_6207849ab7c64022b27925c813b8e5ef/src/site_symmetry.c).\n",
      "spglib: ssm_get_exact_positions failed (attempt=3). (line 115, /tmp/pip-install-58cw25xt/spglib_6207849ab7c64022b27925c813b8e5ef/src/site_symmetry.c).\n",
      "spglib: ssm_get_exact_positions failed (attempt=4). (line 115, /tmp/pip-install-58cw25xt/spglib_6207849ab7c64022b27925c813b8e5ef/src/site_symmetry.c).\n",
      "spglib: ssm_get_exact_positions failed. (line 479, /tmp/pip-install-58cw25xt/spglib_6207849ab7c64022b27925c813b8e5ef/src/refinement.c).\n",
      "spglib: get_bravais_exact_positions_and_lattice failed. (line 336, /tmp/pip-install-58cw25xt/spglib_6207849ab7c64022b27925c813b8e5ef/src/refinement.c).\n",
      "spglib: ref_get_exact_structure_and_symmetry failed. (line 82, /tmp/pip-install-58cw25xt/spglib_6207849ab7c64022b27925c813b8e5ef/src/determination.c).\n",
      "spglib: ssm_get_exact_positions failed (attempt=0). (line 115, /tmp/pip-install-58cw25xt/spglib_6207849ab7c64022b27925c813b8e5ef/src/site_symmetry.c).\n",
      "spglib: ssm_get_exact_positions failed (attempt=1). (line 115, /tmp/pip-install-58cw25xt/spglib_6207849ab7c64022b27925c813b8e5ef/src/site_symmetry.c).\n",
      "spglib: ssm_get_exact_positions failed (attempt=2). (line 115, /tmp/pip-install-58cw25xt/spglib_6207849ab7c64022b27925c813b8e5ef/src/site_symmetry.c).\n",
      "spglib: ssm_get_exact_positions failed (attempt=3). (line 115, /tmp/pip-install-58cw25xt/spglib_6207849ab7c64022b27925c813b8e5ef/src/site_symmetry.c).\n",
      "spglib: ssm_get_exact_positions failed (attempt=4). (line 115, /tmp/pip-install-58cw25xt/spglib_6207849ab7c64022b27925c813b8e5ef/src/site_symmetry.c).\n",
      "spglib: ssm_get_exact_positions failed. (line 479, /tmp/pip-install-58cw25xt/spglib_6207849ab7c64022b27925c813b8e5ef/src/refinement.c).\n",
      "spglib: get_bravais_exact_positions_and_lattice failed. (line 336, /tmp/pip-install-58cw25xt/spglib_6207849ab7c64022b27925c813b8e5ef/src/refinement.c).\n",
      "spglib: ref_get_exact_structure_and_symmetry failed. (line 82, /tmp/pip-install-58cw25xt/spglib_6207849ab7c64022b27925c813b8e5ef/src/determination.c).\n",
      "spglib: ssm_get_exact_positions failed (attempt=0). (line 115, /tmp/pip-install-58cw25xt/spglib_6207849ab7c64022b27925c813b8e5ef/src/site_symmetry.c).\n",
      "spglib: ssm_get_exact_positions failed (attempt=1). (line 115, /tmp/pip-install-58cw25xt/spglib_6207849ab7c64022b27925c813b8e5ef/src/site_symmetry.c).\n",
      "spglib: ssm_get_exact_positions failed (attempt=2). (line 115, /tmp/pip-install-58cw25xt/spglib_6207849ab7c64022b27925c813b8e5ef/src/site_symmetry.c).\n",
      "spglib: ssm_get_exact_positions failed (attempt=3). (line 115, /tmp/pip-install-58cw25xt/spglib_6207849ab7c64022b27925c813b8e5ef/src/site_symmetry.c).\n",
      "spglib: ssm_get_exact_positions failed (attempt=4). (line 115, /tmp/pip-install-58cw25xt/spglib_6207849ab7c64022b27925c813b8e5ef/src/site_symmetry.c).\n",
      "spglib: ssm_get_exact_positions failed. (line 479, /tmp/pip-install-58cw25xt/spglib_6207849ab7c64022b27925c813b8e5ef/src/refinement.c).\n",
      "spglib: get_bravais_exact_positions_and_lattice failed. (line 336, /tmp/pip-install-58cw25xt/spglib_6207849ab7c64022b27925c813b8e5ef/src/refinement.c).\n",
      "spglib: ref_get_exact_structure_and_symmetry failed. (line 82, /tmp/pip-install-58cw25xt/spglib_6207849ab7c64022b27925c813b8e5ef/src/determination.c).\n"
     ]
    },
    {
     "data": {
      "application/vnd.jupyter.widget-view+json": {
       "model_id": "ce8d85cc85ea4570bebb7ef0c751902d",
       "version_major": 2,
       "version_minor": 0
      },
      "text/plain": [
       "Retrieving ThermoDoc documents:   0%|          | 0/392 [00:00<?, ?it/s]"
      ]
     },
     "metadata": {},
     "output_type": "display_data"
    },
    {
     "data": {
      "application/vnd.jupyter.widget-view+json": {
       "model_id": "886bb0fe710446918cea6756c22e8425",
       "version_major": 2,
       "version_minor": 0
      },
      "text/plain": [
       "Retrieving ThermoDoc documents:   0%|          | 0/392 [00:00<?, ?it/s]"
      ]
     },
     "metadata": {},
     "output_type": "display_data"
    },
    {
     "data": {
      "application/vnd.jupyter.widget-view+json": {
       "model_id": "5b2939f1721f480e942d520d209970f7",
       "version_major": 2,
       "version_minor": 0
      },
      "text/plain": [
       "Retrieving ThermoDoc documents:   0%|          | 0/434 [00:00<?, ?it/s]"
      ]
     },
     "metadata": {},
     "output_type": "display_data"
    },
    {
     "data": {
      "application/vnd.jupyter.widget-view+json": {
       "model_id": "77b84e609f4a45e39dd959107bdd9827",
       "version_major": 2,
       "version_minor": 0
      },
      "text/plain": [
       "Retrieving ThermoDoc documents:   0%|          | 0/528 [00:00<?, ?it/s]"
      ]
     },
     "metadata": {},
     "output_type": "display_data"
    },
    {
     "data": {
      "application/vnd.jupyter.widget-view+json": {
       "model_id": "6543aa70d12840e1bd0c92c2aee4adfd",
       "version_major": 2,
       "version_minor": 0
      },
      "text/plain": [
       "Retrieving ThermoDoc documents:   0%|          | 0/312 [00:00<?, ?it/s]"
      ]
     },
     "metadata": {},
     "output_type": "display_data"
    },
    {
     "data": {
      "application/vnd.jupyter.widget-view+json": {
       "model_id": "663eaf49673d46619e762e01a9f674b8",
       "version_major": 2,
       "version_minor": 0
      },
      "text/plain": [
       "Retrieving ThermoDoc documents:   0%|          | 0/220 [00:00<?, ?it/s]"
      ]
     },
     "metadata": {},
     "output_type": "display_data"
    },
    {
     "data": {
      "application/vnd.jupyter.widget-view+json": {
       "model_id": "c63d8590e9b441378131fa6fd960b1a8",
       "version_major": 2,
       "version_minor": 0
      },
      "text/plain": [
       "Retrieving ThermoDoc documents:   0%|          | 0/265 [00:00<?, ?it/s]"
      ]
     },
     "metadata": {},
     "output_type": "display_data"
    },
    {
     "data": {
      "application/vnd.jupyter.widget-view+json": {
       "model_id": "5bfc9517c50b4a44bf1d5920cec727b0",
       "version_major": 2,
       "version_minor": 0
      },
      "text/plain": [
       "Retrieving ThermoDoc documents:   0%|          | 0/415 [00:00<?, ?it/s]"
      ]
     },
     "metadata": {},
     "output_type": "display_data"
    },
    {
     "data": {
      "application/vnd.jupyter.widget-view+json": {
       "model_id": "22906b958a934a109a003d8c8f391829",
       "version_major": 2,
       "version_minor": 0
      },
      "text/plain": [
       "Retrieving ThermoDoc documents:   0%|          | 0/344 [00:00<?, ?it/s]"
      ]
     },
     "metadata": {},
     "output_type": "display_data"
    },
    {
     "data": {
      "application/vnd.jupyter.widget-view+json": {
       "model_id": "2c84f3d128c048eebda35b407c9f321e",
       "version_major": 2,
       "version_minor": 0
      },
      "text/plain": [
       "Retrieving ThermoDoc documents:   0%|          | 0/163 [00:00<?, ?it/s]"
      ]
     },
     "metadata": {},
     "output_type": "display_data"
    },
    {
     "data": {
      "application/vnd.jupyter.widget-view+json": {
       "model_id": "e60814d68df84c929f67e69f7d80b6e9",
       "version_major": 2,
       "version_minor": 0
      },
      "text/plain": [
       "Retrieving ThermoDoc documents:   0%|          | 0/239 [00:00<?, ?it/s]"
      ]
     },
     "metadata": {},
     "output_type": "display_data"
    },
    {
     "data": {
      "application/vnd.jupyter.widget-view+json": {
       "model_id": "4fa40d7727764c91897d53cf7b492e21",
       "version_major": 2,
       "version_minor": 0
      },
      "text/plain": [
       "Retrieving ThermoDoc documents:   0%|          | 0/362 [00:00<?, ?it/s]"
      ]
     },
     "metadata": {},
     "output_type": "display_data"
    },
    {
     "data": {
      "application/vnd.jupyter.widget-view+json": {
       "model_id": "3126e731f43f44e585e9d7c3715605e6",
       "version_major": 2,
       "version_minor": 0
      },
      "text/plain": [
       "Retrieving ThermoDoc documents:   0%|          | 0/260 [00:00<?, ?it/s]"
      ]
     },
     "metadata": {},
     "output_type": "display_data"
    },
    {
     "data": {
      "application/vnd.jupyter.widget-view+json": {
       "model_id": "1ca1eb4075314b43a78d780d7929eb78",
       "version_major": 2,
       "version_minor": 0
      },
      "text/plain": [
       "Retrieving ThermoDoc documents:   0%|          | 0/967 [00:00<?, ?it/s]"
      ]
     },
     "metadata": {},
     "output_type": "display_data"
    },
    {
     "data": {
      "application/vnd.jupyter.widget-view+json": {
       "model_id": "83520f4b643b4f1ba2c094bc062e802f",
       "version_major": 2,
       "version_minor": 0
      },
      "text/plain": [
       "Retrieving ThermoDoc documents:   0%|          | 0/1049 [00:00<?, ?it/s]"
      ]
     },
     "metadata": {},
     "output_type": "display_data"
    },
    {
     "data": {
      "application/vnd.jupyter.widget-view+json": {
       "model_id": "766888f8e134490cb675177651331028",
       "version_major": 2,
       "version_minor": 0
      },
      "text/plain": [
       "Retrieving ThermoDoc documents:   0%|          | 0/967 [00:00<?, ?it/s]"
      ]
     },
     "metadata": {},
     "output_type": "display_data"
    },
    {
     "data": {
      "application/vnd.jupyter.widget-view+json": {
       "model_id": "b65375c76f75458393863a9c05a036b4",
       "version_major": 2,
       "version_minor": 0
      },
      "text/plain": [
       "Retrieving ThermoDoc documents:   0%|          | 0/377 [00:00<?, ?it/s]"
      ]
     },
     "metadata": {},
     "output_type": "display_data"
    },
    {
     "data": {
      "application/vnd.jupyter.widget-view+json": {
       "model_id": "5a0fa8dcc73e444ca1f7270070ca31c8",
       "version_major": 2,
       "version_minor": 0
      },
      "text/plain": [
       "Retrieving ThermoDoc documents:   0%|          | 0/249 [00:00<?, ?it/s]"
      ]
     },
     "metadata": {},
     "output_type": "display_data"
    }
   ],
   "source": [
    "pbx_data = []\n",
    "pbx_entries = []\n",
    "\n",
    "with MPRester(API_KEY) as mpr:\n",
    "    for i, x in zip(chemsys_list, percent_compositions):\n",
    "        try:\n",
    "            pourbaix_entries = mpr.get_pourbaix_entries(i)\n",
    "            pbx_entries.append(pourbaix_entries)\n",
    "            pbx_diagram = PourbaixDiagram(entries=pourbaix_entries, comp_dict=x)\n",
    "            pbx_data.append(pbx_diagram)\n",
    "        except Exception as e:\n",
    "            pbx_data.append('error')"
   ]
  },
  {
   "cell_type": "markdown",
   "metadata": {},
   "source": [
    "the pourbaix entry responds with all viable pourbaix diagrams for a chemsys list, the following code searches through the list to get the correct diagram for the material of interest. "
   ]
  },
  {
   "cell_type": "code",
   "execution_count": 24,
   "metadata": {},
   "outputs": [],
   "source": [
    "matched_entries = []\n",
    "\n",
    "for mat_id, entries in zip(materials_gga, pbx_entries):\n",
    "    matched_entry = next((entry for entry in entries if entry.entry_id == mat_id), None)\n",
    "    \n",
    "    if matched_entry:\n",
    "        matched_entries.append(matched_entry)\n",
    "    else:\n",
    "        matched_entries.append(None)"
   ]
  },
  {
   "cell_type": "markdown",
   "metadata": {},
   "source": [
    "the stability data is then calculated at ph7 and 0V using the entry names and pbx_data"
   ]
  },
  {
   "cell_type": "code",
   "execution_count": 25,
   "metadata": {},
   "outputs": [
    {
     "name": "stdout",
     "output_type": "stream",
     "text": [
      "[0.5491808963884197, 0.42543007713483627, 0.9615071603069442, 'error', 1.4490996629451813, 'error', 1.0603941536346557, 1.3578262187495302, 'error', 0.9107493605782552, 0.9466168035516902, 1.5815281002310666, 1.3509582745553834, 'error', 'error', 'error', 0.7180260222751369, 0.9067619038298876, 1.3362281685921218, 0.7651058354690283, 0.2579253860172863, 'error', 'error', 'error', 'error', 0.948417299305657, 0.7848489643785639, 0.8826663639401474, 1.0217634596047367, 1.0345589531329005, 1.5313921582013004, 'error', 1.1616193255467109, 'error', 0.8623835672815053, 'error', 0.7558275780707273, 'error', 'error', 1.5451010279265625, 1.8619025604332542, 2.622185165952526, 0.7955194750511478, 0.07944177418243836, 0.8810600308151679, 'error', 0.6908198947742511, 0.42558883681275805, 0.546332571355435, 0.8787412109220026, 'error', 0.8606883090293819, 1.1699781783506182, 0.6889458847483212, 'error', 'error', 'error', 0.6096687028844632, 0.8146456006523461, 0.7619169356523456, 0.16676177491096889, 0.9885703376073369, 0.619834128233787, 0.39455664210331554, 0.7675207971951988, 0.9092290854677154, 0.9591020073670329, 0.9095046978044008, 0.7725527426135159, 'error', 0.878475359207995, 0.3541242360551708, 'error', 'error', 0.38043284243209996, 0.9677609545373573, 'error', 0.1943891176753084, 'error', 'error', 'error', 'error', 0.9574547116904829]\n"
     ]
    }
   ],
   "source": [
    "stabilities = []\n",
    "\n",
    "for i, x in zip(pbx_data, matched_entries):\n",
    "    try:\n",
    "        stability = i.get_decomposition_energy(x, 7, 0)\n",
    "        stabilities.append(stability)\n",
    "    except Exception as e:\n",
    "        stabilities.append(\"error\") \n",
    "\n",
    "\n",
    "print(stabilities)\n"
   ]
  },
  {
   "cell_type": "code",
   "execution_count": 26,
   "metadata": {},
   "outputs": [],
   "source": [
    "combined_list = list(zip(materials_id, stabilities))\n",
    "data_without_error = [item for item in combined_list if item[1] != 'error']\n",
    "filtered_data = [item for item in data_without_error if float(item[1]) <= 0.5]\n",
    "mp_identifiers = [item[0] for item in filtered_data]"
   ]
  },
  {
   "cell_type": "code",
   "execution_count": 27,
   "metadata": {},
   "outputs": [
    {
     "name": "stdout",
     "output_type": "stream",
     "text": [
      "total materials: 83\n",
      "materials without error: 55\n",
      "stable materials: 9\n",
      "['mp-3414', 'mp-542001', 'mp-29193', 'mp-28845', 'mp-561423', 'mp-14276', 'mp-29590', 'mp-556442', 'mp-27980']\n"
     ]
    }
   ],
   "source": [
    "print(\"total materials:\",len(materials_id))\n",
    "print(\"materials without error:\",len(data_without_error))\n",
    "print(\"stable materials:\",len(filtered_data))\n",
    "print(mp_identifiers)"
   ]
  }
 ],
 "metadata": {
  "kernelspec": {
   "display_name": "base",
   "language": "python",
   "name": "python3"
  },
  "language_info": {
   "codemirror_mode": {
    "name": "ipython",
    "version": 3
   },
   "file_extension": ".py",
   "mimetype": "text/x-python",
   "name": "python",
   "nbconvert_exporter": "python",
   "pygments_lexer": "ipython3",
   "version": "3.11.5"
  },
  "orig_nbformat": 4
 },
 "nbformat": 4,
 "nbformat_minor": 2
}
