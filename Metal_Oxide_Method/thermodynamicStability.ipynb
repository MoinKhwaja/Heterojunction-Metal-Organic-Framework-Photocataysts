{
 "cells": [
  {
   "cell_type": "code",
   "execution_count": null,
   "metadata": {},
   "outputs": [],
   "source": [
    "from pymatgen.ext.matproj import MPRester\n",
    "from pymatgen.core.periodic_table import Element\n",
    "\n",
    "# Replace 'YOUR_API_KEY' with your actual Materials Project API key\n",
    "API_KEY = 'M3iWLItVErrMW5qgPwe5tzZFxjlROt1x'\n",
    "\n",
    "def search_mofs_with_stability(max_e_above_hull):\n",
    "    with MPRester(API_KEY) as mpr:\n",
    "        # Define the criteria for the search\n",
    "        criteria = {\n",
    "            \"pretty_formula\": {\"$regex\": \"MOF\"},\n",
    "            \"e_above_hull\": {\"$lte\": max_e_above_hull}\n",
    "        }\n",
    "\n",
    "        # Define the properties to return\n",
    "        properties = [\"material_id\", \"pretty_formula\", \"e_above_hull\"]\n",
    "\n",
    "        # Perform the search\n",
    "        results = mpr.query(criteria, properties)\n",
    "\n",
    "        return results\n",
    "\n",
    "# Search for MOFs with an energy above hull up to 80 meV (0.08 eV)\n",
    "stability_results = search_mofs_with_stability(0.08)\n",
    "\n",
    "# Print the results\n",
    "for result in stability_results:\n",
    "    print(f\"Material ID: {result['material_id']}, Formula: {result['pretty_formula']}, Energy above Hull: {result['e_above_hull']} eV\")\n"
   ]
  }
 ],
 "metadata": {
  "language_info": {
   "name": "python"
  },
  "orig_nbformat": 4
 },
 "nbformat": 4,
 "nbformat_minor": 2
}
