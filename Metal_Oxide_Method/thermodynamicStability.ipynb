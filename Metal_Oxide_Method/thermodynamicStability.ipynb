{
 "cells": [
  {
   "cell_type": "code",
   "execution_count": 23,
   "metadata": {},
   "outputs": [
    {
     "data": {
      "application/vnd.jupyter.widget-view+json": {
       "model_id": "5676a874d6ce4df19404e1d7a1c43b21",
       "version_major": 2,
       "version_minor": 0
      },
      "text/plain": [
       "Retrieving SummaryDoc documents:   0%|          | 0/10255 [00:00<?, ?it/s]"
      ]
     },
     "metadata": {},
     "output_type": "display_data"
    }
   ],
   "source": [
    "from mp_api.client import MPRester\n",
    "\n",
    "API_KEY = 'M3iWLItVErrMW5qgPwe5tzZFxjlROt1x'\n",
    "\n",
    "with MPRester(API_KEY) as mpr:\n",
    "    docs = mpr.materials.summary.search(\n",
    "        energy_above_hull=(0, 0.008), band_gap=[0.8,2.7], fields=[\"material_id\"]\n",
    "    )\n",
    "    stable_mpids = [doc.material_id for doc in docs]\n",
    "\n",
    "\n",
    "    "
   ]
  }
 ],
 "metadata": {
  "kernelspec": {
   "display_name": "base",
   "language": "python",
   "name": "python3"
  },
  "language_info": {
   "codemirror_mode": {
    "name": "ipython",
    "version": 3
   },
   "file_extension": ".py",
   "mimetype": "text/x-python",
   "name": "python",
   "nbconvert_exporter": "python",
   "pygments_lexer": "ipython3",
   "version": "3.11.5"
  },
  "orig_nbformat": 4
 },
 "nbformat": 4,
 "nbformat_minor": 2
}
