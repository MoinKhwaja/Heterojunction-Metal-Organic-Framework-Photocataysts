{
 "cells": [
  {
   "cell_type": "markdown",
   "metadata": {},
   "source": [
    "The following code is to take a list of MP-IDs and get the gibbs energy of decomposition for each material. "
   ]
  },
  {
   "cell_type": "code",
   "execution_count": 1,
   "metadata": {},
   "outputs": [],
   "source": [
    "from mp_api.client import MPRester\n",
    "from pymatgen.analysis.pourbaix_diagram import PourbaixDiagram, PourbaixPlotter, PourbaixEntry\n",
    "\n",
    "from api_key import APIKEY\n",
    "\n",
    "API_KEY = APIKEY"
   ]
  },
  {
   "cell_type": "markdown",
   "metadata": {},
   "source": [
    "Take list of MP_IDs and get the material entries from the database\n",
    "\n",
    "from entries, collect the elemental chemsys and composition and create lists with that data\n",
    "\n",
    "create a new list with the material ids with \"gga\" added to search through the large list of data that will be generated in the next few cells"
   ]
  },
  {
   "cell_type": "code",
   "execution_count": 2,
   "metadata": {},
   "outputs": [
    {
     "name": "stdout",
     "output_type": "stream",
     "text": [
      "105\n",
      "105\n"
     ]
    }
   ],
   "source": [
    "materials = ['mp-37153',  'mp-3414',  'mp-28159',  'mp-554379',  'mp-30159',  'mp-644828',  'mp-557856',  'mp-558168',  'mp-540958',  'mp-557090',  'mp-27743',  'mp-554129',  'mp-28153',  'mp-557519',  'mp-557426',  'mp-1323553',  'mp-7922',  'mp-29169',  'mp-557715',  'mp-13984',  'mp-542001',  'mp-556492',  'mp-639662',  'mp-1391848',  'mp-558211', 'mp-554737',  'mp-29842',  'mp-541347', 'mp-557432',  'mp-29170',  'mp-27988', 'mp-532810',  'mp-12442',  'mp-554835',  'mp-3817', 'mp-22439',  'mp-7921',  'mp-557668',  'mp-1102938',  'mp-505727',  'mp-556500',  'mp-726118', 'mp-7388',  'mp-29193',  'mp-14716',  'mp-558838',  'mp-757594',  'mp-28845',  'mp-20652',  'mp-341',  'mp-649616',  'mp-14715',  'mp-8943',  'mp-20458',  'mp-553981', 'mp-35311',  'mp-1391273',  'mp-13610',  'mp-13983',  'mp-8256',  'mp-561423',  'mp-643265',  'mp-554432',  'mp-14276',  'mp-23598',  'mp-572526',  'mp-541259',  'mp-560354',  'mp-560789',  'mp-29904',  'mp-8778',  'mp-29590',  'mp-555718',  'mp-31755',  'mp-556442',  'mp-30308',  'mp-17542',  'mp-27980',  'mp-759957',  'mp-1194388',  'mp-757234',  'mp-1402840',  'mp-17512', 'mp-777723',  'mp-764744',  'mp-760249',  'mp-30014',  'mp-1047957',  'mp-555132',  'mp-766228',  'mp-1184928',  'mp-28194',  'mp-28647',  'mp-12263',  'mp-680183', 'mp-1397055',  'mp-768936',  'mp-760803',  'mp-759856',  'mp-735822',  'mp-759097',  'mp-19077',  'mp-759764',  'mp-763903',  'mp-759867']\n",
    "shorten_materials = materials[:105]\n",
    "print(len(materials))\n",
    "print(len(shorten_materials))"
   ]
  },
  {
   "cell_type": "code",
   "execution_count": 3,
   "metadata": {},
   "outputs": [
    {
     "data": {
      "application/vnd.jupyter.widget-view+json": {
       "model_id": "bd638744f74344408840c54fce9add4f",
       "version_major": 2,
       "version_minor": 0
      },
      "text/plain": [
       "Retrieving MaterialsDoc documents:   0%|          | 0/1 [00:00<?, ?it/s]"
      ]
     },
     "metadata": {},
     "output_type": "display_data"
    },
    {
     "data": {
      "application/vnd.jupyter.widget-view+json": {
       "model_id": "bbf64a224b834780a834ce710de51f82",
       "version_major": 2,
       "version_minor": 0
      },
      "text/plain": [
       "Retrieving MaterialsDoc documents:   0%|          | 0/1 [00:00<?, ?it/s]"
      ]
     },
     "metadata": {},
     "output_type": "display_data"
    },
    {
     "data": {
      "application/vnd.jupyter.widget-view+json": {
       "model_id": "5f078381bf0244d08a8d6f2ea97473a5",
       "version_major": 2,
       "version_minor": 0
      },
      "text/plain": [
       "Retrieving MaterialsDoc documents:   0%|          | 0/1 [00:00<?, ?it/s]"
      ]
     },
     "metadata": {},
     "output_type": "display_data"
    },
    {
     "data": {
      "application/vnd.jupyter.widget-view+json": {
       "model_id": "cba583f3b98442c6a743cf37bfd1c51f",
       "version_major": 2,
       "version_minor": 0
      },
      "text/plain": [
       "Retrieving MaterialsDoc documents:   0%|          | 0/1 [00:00<?, ?it/s]"
      ]
     },
     "metadata": {},
     "output_type": "display_data"
    },
    {
     "data": {
      "application/vnd.jupyter.widget-view+json": {
       "model_id": "e67e39c78a044928b8bf6f06203b65c1",
       "version_major": 2,
       "version_minor": 0
      },
      "text/plain": [
       "Retrieving MaterialsDoc documents:   0%|          | 0/1 [00:00<?, ?it/s]"
      ]
     },
     "metadata": {},
     "output_type": "display_data"
    },
    {
     "data": {
      "application/vnd.jupyter.widget-view+json": {
       "model_id": "d2337c48c6ac465db04628d4bc9073f8",
       "version_major": 2,
       "version_minor": 0
      },
      "text/plain": [
       "Retrieving MaterialsDoc documents:   0%|          | 0/1 [00:00<?, ?it/s]"
      ]
     },
     "metadata": {},
     "output_type": "display_data"
    },
    {
     "data": {
      "application/vnd.jupyter.widget-view+json": {
       "model_id": "68d6dbf2ee9c493ba5ee4598b2aac248",
       "version_major": 2,
       "version_minor": 0
      },
      "text/plain": [
       "Retrieving MaterialsDoc documents:   0%|          | 0/1 [00:00<?, ?it/s]"
      ]
     },
     "metadata": {},
     "output_type": "display_data"
    },
    {
     "data": {
      "application/vnd.jupyter.widget-view+json": {
       "model_id": "2cdc2e90043049e7a680908bb680ddd5",
       "version_major": 2,
       "version_minor": 0
      },
      "text/plain": [
       "Retrieving MaterialsDoc documents:   0%|          | 0/1 [00:00<?, ?it/s]"
      ]
     },
     "metadata": {},
     "output_type": "display_data"
    },
    {
     "data": {
      "application/vnd.jupyter.widget-view+json": {
       "model_id": "5db5f99fce8c47d0a282bd84fa82fe9a",
       "version_major": 2,
       "version_minor": 0
      },
      "text/plain": [
       "Retrieving MaterialsDoc documents:   0%|          | 0/1 [00:00<?, ?it/s]"
      ]
     },
     "metadata": {},
     "output_type": "display_data"
    },
    {
     "data": {
      "application/vnd.jupyter.widget-view+json": {
       "model_id": "1c940047de264b39b2ca5b449edf91ec",
       "version_major": 2,
       "version_minor": 0
      },
      "text/plain": [
       "Retrieving MaterialsDoc documents:   0%|          | 0/1 [00:00<?, ?it/s]"
      ]
     },
     "metadata": {},
     "output_type": "display_data"
    },
    {
     "data": {
      "application/vnd.jupyter.widget-view+json": {
       "model_id": "c404cbbf7ead4ffa95ab25e4f70d4bd9",
       "version_major": 2,
       "version_minor": 0
      },
      "text/plain": [
       "Retrieving MaterialsDoc documents:   0%|          | 0/1 [00:00<?, ?it/s]"
      ]
     },
     "metadata": {},
     "output_type": "display_data"
    },
    {
     "data": {
      "application/vnd.jupyter.widget-view+json": {
       "model_id": "378c80abb86347628936c2dfb16bc6ae",
       "version_major": 2,
       "version_minor": 0
      },
      "text/plain": [
       "Retrieving MaterialsDoc documents:   0%|          | 0/1 [00:00<?, ?it/s]"
      ]
     },
     "metadata": {},
     "output_type": "display_data"
    },
    {
     "data": {
      "application/vnd.jupyter.widget-view+json": {
       "model_id": "b86f709573734b189863b3d76865334d",
       "version_major": 2,
       "version_minor": 0
      },
      "text/plain": [
       "Retrieving MaterialsDoc documents:   0%|          | 0/1 [00:00<?, ?it/s]"
      ]
     },
     "metadata": {},
     "output_type": "display_data"
    },
    {
     "data": {
      "application/vnd.jupyter.widget-view+json": {
       "model_id": "417c6da375774a1aa45f92337c8fb93d",
       "version_major": 2,
       "version_minor": 0
      },
      "text/plain": [
       "Retrieving MaterialsDoc documents:   0%|          | 0/1 [00:00<?, ?it/s]"
      ]
     },
     "metadata": {},
     "output_type": "display_data"
    },
    {
     "data": {
      "application/vnd.jupyter.widget-view+json": {
       "model_id": "f131785a79074a65b457d643bd67fe74",
       "version_major": 2,
       "version_minor": 0
      },
      "text/plain": [
       "Retrieving MaterialsDoc documents:   0%|          | 0/1 [00:00<?, ?it/s]"
      ]
     },
     "metadata": {},
     "output_type": "display_data"
    },
    {
     "data": {
      "application/vnd.jupyter.widget-view+json": {
       "model_id": "3dd887b3ec21494498e01788a2082390",
       "version_major": 2,
       "version_minor": 0
      },
      "text/plain": [
       "Retrieving MaterialsDoc documents:   0%|          | 0/1 [00:00<?, ?it/s]"
      ]
     },
     "metadata": {},
     "output_type": "display_data"
    },
    {
     "data": {
      "application/vnd.jupyter.widget-view+json": {
       "model_id": "39169096c98c44c7bb3883b45caea2b6",
       "version_major": 2,
       "version_minor": 0
      },
      "text/plain": [
       "Retrieving MaterialsDoc documents:   0%|          | 0/1 [00:00<?, ?it/s]"
      ]
     },
     "metadata": {},
     "output_type": "display_data"
    },
    {
     "data": {
      "application/vnd.jupyter.widget-view+json": {
       "model_id": "a7f9634cc42d460caed3a7c568a23a04",
       "version_major": 2,
       "version_minor": 0
      },
      "text/plain": [
       "Retrieving MaterialsDoc documents:   0%|          | 0/1 [00:00<?, ?it/s]"
      ]
     },
     "metadata": {},
     "output_type": "display_data"
    },
    {
     "data": {
      "application/vnd.jupyter.widget-view+json": {
       "model_id": "86776523a3ff4ce3a4c2d48b768bbc34",
       "version_major": 2,
       "version_minor": 0
      },
      "text/plain": [
       "Retrieving MaterialsDoc documents:   0%|          | 0/1 [00:00<?, ?it/s]"
      ]
     },
     "metadata": {},
     "output_type": "display_data"
    },
    {
     "data": {
      "application/vnd.jupyter.widget-view+json": {
       "model_id": "f5aba7b8d0c740f4ae1094ebb0d5294f",
       "version_major": 2,
       "version_minor": 0
      },
      "text/plain": [
       "Retrieving MaterialsDoc documents:   0%|          | 0/1 [00:00<?, ?it/s]"
      ]
     },
     "metadata": {},
     "output_type": "display_data"
    },
    {
     "data": {
      "application/vnd.jupyter.widget-view+json": {
       "model_id": "72bfd5bf016041ccbfc0874cdf9d881a",
       "version_major": 2,
       "version_minor": 0
      },
      "text/plain": [
       "Retrieving MaterialsDoc documents:   0%|          | 0/1 [00:00<?, ?it/s]"
      ]
     },
     "metadata": {},
     "output_type": "display_data"
    },
    {
     "data": {
      "application/vnd.jupyter.widget-view+json": {
       "model_id": "2c2f6871e75d4abf945d37df79dbbe61",
       "version_major": 2,
       "version_minor": 0
      },
      "text/plain": [
       "Retrieving MaterialsDoc documents:   0%|          | 0/1 [00:00<?, ?it/s]"
      ]
     },
     "metadata": {},
     "output_type": "display_data"
    },
    {
     "data": {
      "application/vnd.jupyter.widget-view+json": {
       "model_id": "e808f2e6ec174334bf1ed2be50174574",
       "version_major": 2,
       "version_minor": 0
      },
      "text/plain": [
       "Retrieving MaterialsDoc documents:   0%|          | 0/1 [00:00<?, ?it/s]"
      ]
     },
     "metadata": {},
     "output_type": "display_data"
    },
    {
     "data": {
      "application/vnd.jupyter.widget-view+json": {
       "model_id": "4b6d07da6bbc4096b8b75616fa085445",
       "version_major": 2,
       "version_minor": 0
      },
      "text/plain": [
       "Retrieving MaterialsDoc documents:   0%|          | 0/1 [00:00<?, ?it/s]"
      ]
     },
     "metadata": {},
     "output_type": "display_data"
    },
    {
     "data": {
      "application/vnd.jupyter.widget-view+json": {
       "model_id": "d6a3877f4d7d48eaa5da9ca9d0ff295a",
       "version_major": 2,
       "version_minor": 0
      },
      "text/plain": [
       "Retrieving MaterialsDoc documents:   0%|          | 0/1 [00:00<?, ?it/s]"
      ]
     },
     "metadata": {},
     "output_type": "display_data"
    },
    {
     "data": {
      "application/vnd.jupyter.widget-view+json": {
       "model_id": "b5eea3ab172742e29f1967f60b36f766",
       "version_major": 2,
       "version_minor": 0
      },
      "text/plain": [
       "Retrieving MaterialsDoc documents:   0%|          | 0/1 [00:00<?, ?it/s]"
      ]
     },
     "metadata": {},
     "output_type": "display_data"
    },
    {
     "data": {
      "application/vnd.jupyter.widget-view+json": {
       "model_id": "4f671fb4a1644e3eb4eba4c78d6fe90e",
       "version_major": 2,
       "version_minor": 0
      },
      "text/plain": [
       "Retrieving MaterialsDoc documents:   0%|          | 0/1 [00:00<?, ?it/s]"
      ]
     },
     "metadata": {},
     "output_type": "display_data"
    },
    {
     "data": {
      "application/vnd.jupyter.widget-view+json": {
       "model_id": "2fac211653514f3c90dfb22cecc01c12",
       "version_major": 2,
       "version_minor": 0
      },
      "text/plain": [
       "Retrieving MaterialsDoc documents:   0%|          | 0/1 [00:00<?, ?it/s]"
      ]
     },
     "metadata": {},
     "output_type": "display_data"
    },
    {
     "data": {
      "application/vnd.jupyter.widget-view+json": {
       "model_id": "d68d97a784ce41a2922f8bfeb2039cb7",
       "version_major": 2,
       "version_minor": 0
      },
      "text/plain": [
       "Retrieving MaterialsDoc documents:   0%|          | 0/1 [00:00<?, ?it/s]"
      ]
     },
     "metadata": {},
     "output_type": "display_data"
    },
    {
     "data": {
      "application/vnd.jupyter.widget-view+json": {
       "model_id": "e0160d6615e1473bbfcbcf5044e161ca",
       "version_major": 2,
       "version_minor": 0
      },
      "text/plain": [
       "Retrieving MaterialsDoc documents:   0%|          | 0/1 [00:00<?, ?it/s]"
      ]
     },
     "metadata": {},
     "output_type": "display_data"
    },
    {
     "data": {
      "application/vnd.jupyter.widget-view+json": {
       "model_id": "9410a3a02cb54fa9b8064a38bac1efd2",
       "version_major": 2,
       "version_minor": 0
      },
      "text/plain": [
       "Retrieving MaterialsDoc documents:   0%|          | 0/1 [00:00<?, ?it/s]"
      ]
     },
     "metadata": {},
     "output_type": "display_data"
    },
    {
     "data": {
      "application/vnd.jupyter.widget-view+json": {
       "model_id": "bff7a4ac0ae549318663f9f2a01299e0",
       "version_major": 2,
       "version_minor": 0
      },
      "text/plain": [
       "Retrieving MaterialsDoc documents:   0%|          | 0/1 [00:00<?, ?it/s]"
      ]
     },
     "metadata": {},
     "output_type": "display_data"
    },
    {
     "data": {
      "application/vnd.jupyter.widget-view+json": {
       "model_id": "6f9238312d9846b39962157c8516d8d6",
       "version_major": 2,
       "version_minor": 0
      },
      "text/plain": [
       "Retrieving MaterialsDoc documents:   0%|          | 0/1 [00:00<?, ?it/s]"
      ]
     },
     "metadata": {},
     "output_type": "display_data"
    },
    {
     "data": {
      "application/vnd.jupyter.widget-view+json": {
       "model_id": "beae3f2017cf41259ee07098c5f5b38b",
       "version_major": 2,
       "version_minor": 0
      },
      "text/plain": [
       "Retrieving MaterialsDoc documents:   0%|          | 0/1 [00:00<?, ?it/s]"
      ]
     },
     "metadata": {},
     "output_type": "display_data"
    },
    {
     "data": {
      "application/vnd.jupyter.widget-view+json": {
       "model_id": "a440d729f336413bb58d844c1bd94998",
       "version_major": 2,
       "version_minor": 0
      },
      "text/plain": [
       "Retrieving MaterialsDoc documents:   0%|          | 0/1 [00:00<?, ?it/s]"
      ]
     },
     "metadata": {},
     "output_type": "display_data"
    },
    {
     "data": {
      "application/vnd.jupyter.widget-view+json": {
       "model_id": "fd7c619926fe4092bb3836e051733006",
       "version_major": 2,
       "version_minor": 0
      },
      "text/plain": [
       "Retrieving MaterialsDoc documents:   0%|          | 0/1 [00:00<?, ?it/s]"
      ]
     },
     "metadata": {},
     "output_type": "display_data"
    },
    {
     "data": {
      "application/vnd.jupyter.widget-view+json": {
       "model_id": "0f7bc6abc0ea4ecb9852984f463e269e",
       "version_major": 2,
       "version_minor": 0
      },
      "text/plain": [
       "Retrieving MaterialsDoc documents:   0%|          | 0/1 [00:00<?, ?it/s]"
      ]
     },
     "metadata": {},
     "output_type": "display_data"
    },
    {
     "data": {
      "application/vnd.jupyter.widget-view+json": {
       "model_id": "9a65cd224f1a444a8058ac079d102d38",
       "version_major": 2,
       "version_minor": 0
      },
      "text/plain": [
       "Retrieving MaterialsDoc documents:   0%|          | 0/1 [00:00<?, ?it/s]"
      ]
     },
     "metadata": {},
     "output_type": "display_data"
    },
    {
     "data": {
      "application/vnd.jupyter.widget-view+json": {
       "model_id": "736f5fd295984f7580e33cfd139357f8",
       "version_major": 2,
       "version_minor": 0
      },
      "text/plain": [
       "Retrieving MaterialsDoc documents:   0%|          | 0/1 [00:00<?, ?it/s]"
      ]
     },
     "metadata": {},
     "output_type": "display_data"
    },
    {
     "data": {
      "application/vnd.jupyter.widget-view+json": {
       "model_id": "7e274fcfc8aa4769af04fe5c9791b348",
       "version_major": 2,
       "version_minor": 0
      },
      "text/plain": [
       "Retrieving MaterialsDoc documents:   0%|          | 0/1 [00:00<?, ?it/s]"
      ]
     },
     "metadata": {},
     "output_type": "display_data"
    },
    {
     "data": {
      "application/vnd.jupyter.widget-view+json": {
       "model_id": "fa65839511634fe5af69816bb5776c2a",
       "version_major": 2,
       "version_minor": 0
      },
      "text/plain": [
       "Retrieving MaterialsDoc documents:   0%|          | 0/1 [00:00<?, ?it/s]"
      ]
     },
     "metadata": {},
     "output_type": "display_data"
    },
    {
     "data": {
      "application/vnd.jupyter.widget-view+json": {
       "model_id": "2c840d80bbe9478abc071b6b0dea32c3",
       "version_major": 2,
       "version_minor": 0
      },
      "text/plain": [
       "Retrieving MaterialsDoc documents:   0%|          | 0/1 [00:00<?, ?it/s]"
      ]
     },
     "metadata": {},
     "output_type": "display_data"
    },
    {
     "data": {
      "application/vnd.jupyter.widget-view+json": {
       "model_id": "8ffaad5dea6b4999b4757a381e479e06",
       "version_major": 2,
       "version_minor": 0
      },
      "text/plain": [
       "Retrieving MaterialsDoc documents:   0%|          | 0/1 [00:00<?, ?it/s]"
      ]
     },
     "metadata": {},
     "output_type": "display_data"
    },
    {
     "data": {
      "application/vnd.jupyter.widget-view+json": {
       "model_id": "ec9feb900fba44568fcd3263d9812380",
       "version_major": 2,
       "version_minor": 0
      },
      "text/plain": [
       "Retrieving MaterialsDoc documents:   0%|          | 0/1 [00:00<?, ?it/s]"
      ]
     },
     "metadata": {},
     "output_type": "display_data"
    },
    {
     "data": {
      "application/vnd.jupyter.widget-view+json": {
       "model_id": "e02c9968d9a244af9d51e1de5f2709aa",
       "version_major": 2,
       "version_minor": 0
      },
      "text/plain": [
       "Retrieving MaterialsDoc documents:   0%|          | 0/1 [00:00<?, ?it/s]"
      ]
     },
     "metadata": {},
     "output_type": "display_data"
    },
    {
     "data": {
      "application/vnd.jupyter.widget-view+json": {
       "model_id": "b2e4a69504544f27ba25d4cf3972d4f4",
       "version_major": 2,
       "version_minor": 0
      },
      "text/plain": [
       "Retrieving MaterialsDoc documents:   0%|          | 0/1 [00:00<?, ?it/s]"
      ]
     },
     "metadata": {},
     "output_type": "display_data"
    },
    {
     "data": {
      "application/vnd.jupyter.widget-view+json": {
       "model_id": "7a5c2a5a295d4dab99c238bd17ee37da",
       "version_major": 2,
       "version_minor": 0
      },
      "text/plain": [
       "Retrieving MaterialsDoc documents:   0%|          | 0/1 [00:00<?, ?it/s]"
      ]
     },
     "metadata": {},
     "output_type": "display_data"
    },
    {
     "data": {
      "application/vnd.jupyter.widget-view+json": {
       "model_id": "b1d6e3fda990421fb1bc82d3c9319d60",
       "version_major": 2,
       "version_minor": 0
      },
      "text/plain": [
       "Retrieving MaterialsDoc documents:   0%|          | 0/1 [00:00<?, ?it/s]"
      ]
     },
     "metadata": {},
     "output_type": "display_data"
    },
    {
     "data": {
      "application/vnd.jupyter.widget-view+json": {
       "model_id": "5bf0b1123e5545df990d7223a8e7f463",
       "version_major": 2,
       "version_minor": 0
      },
      "text/plain": [
       "Retrieving MaterialsDoc documents:   0%|          | 0/1 [00:00<?, ?it/s]"
      ]
     },
     "metadata": {},
     "output_type": "display_data"
    },
    {
     "data": {
      "application/vnd.jupyter.widget-view+json": {
       "model_id": "893ee829f7f84b4eb629917b6c3b9897",
       "version_major": 2,
       "version_minor": 0
      },
      "text/plain": [
       "Retrieving MaterialsDoc documents:   0%|          | 0/1 [00:00<?, ?it/s]"
      ]
     },
     "metadata": {},
     "output_type": "display_data"
    },
    {
     "data": {
      "application/vnd.jupyter.widget-view+json": {
       "model_id": "d185ed3924d54100a33955e71686dfd7",
       "version_major": 2,
       "version_minor": 0
      },
      "text/plain": [
       "Retrieving MaterialsDoc documents:   0%|          | 0/1 [00:00<?, ?it/s]"
      ]
     },
     "metadata": {},
     "output_type": "display_data"
    },
    {
     "data": {
      "application/vnd.jupyter.widget-view+json": {
       "model_id": "6afa6875b0a94f299fa460f0830f2115",
       "version_major": 2,
       "version_minor": 0
      },
      "text/plain": [
       "Retrieving MaterialsDoc documents:   0%|          | 0/1 [00:00<?, ?it/s]"
      ]
     },
     "metadata": {},
     "output_type": "display_data"
    },
    {
     "data": {
      "application/vnd.jupyter.widget-view+json": {
       "model_id": "40378bd571d94cceaf52bd3389f4e1cc",
       "version_major": 2,
       "version_minor": 0
      },
      "text/plain": [
       "Retrieving MaterialsDoc documents:   0%|          | 0/1 [00:00<?, ?it/s]"
      ]
     },
     "metadata": {},
     "output_type": "display_data"
    },
    {
     "data": {
      "application/vnd.jupyter.widget-view+json": {
       "model_id": "28811cd1bb5f499ab1c61750f27f0241",
       "version_major": 2,
       "version_minor": 0
      },
      "text/plain": [
       "Retrieving MaterialsDoc documents:   0%|          | 0/1 [00:00<?, ?it/s]"
      ]
     },
     "metadata": {},
     "output_type": "display_data"
    },
    {
     "data": {
      "application/vnd.jupyter.widget-view+json": {
       "model_id": "f162b5d4e06a47f0b4500c4737290ebb",
       "version_major": 2,
       "version_minor": 0
      },
      "text/plain": [
       "Retrieving MaterialsDoc documents:   0%|          | 0/1 [00:00<?, ?it/s]"
      ]
     },
     "metadata": {},
     "output_type": "display_data"
    },
    {
     "data": {
      "application/vnd.jupyter.widget-view+json": {
       "model_id": "e96e3aad414c404bb1972dd2eda8549d",
       "version_major": 2,
       "version_minor": 0
      },
      "text/plain": [
       "Retrieving MaterialsDoc documents:   0%|          | 0/1 [00:00<?, ?it/s]"
      ]
     },
     "metadata": {},
     "output_type": "display_data"
    },
    {
     "data": {
      "application/vnd.jupyter.widget-view+json": {
       "model_id": "aa3303faa4c04bc8a42bbafdedb0fbf5",
       "version_major": 2,
       "version_minor": 0
      },
      "text/plain": [
       "Retrieving MaterialsDoc documents:   0%|          | 0/1 [00:00<?, ?it/s]"
      ]
     },
     "metadata": {},
     "output_type": "display_data"
    },
    {
     "data": {
      "application/vnd.jupyter.widget-view+json": {
       "model_id": "1320f920db0641059ad229c22d993d97",
       "version_major": 2,
       "version_minor": 0
      },
      "text/plain": [
       "Retrieving MaterialsDoc documents:   0%|          | 0/1 [00:00<?, ?it/s]"
      ]
     },
     "metadata": {},
     "output_type": "display_data"
    },
    {
     "data": {
      "application/vnd.jupyter.widget-view+json": {
       "model_id": "de9a5472e529413a9e0de77b9b2d9d8d",
       "version_major": 2,
       "version_minor": 0
      },
      "text/plain": [
       "Retrieving MaterialsDoc documents:   0%|          | 0/1 [00:00<?, ?it/s]"
      ]
     },
     "metadata": {},
     "output_type": "display_data"
    },
    {
     "data": {
      "application/vnd.jupyter.widget-view+json": {
       "model_id": "e3fc8c0ea91a49b29ca1268f8214683f",
       "version_major": 2,
       "version_minor": 0
      },
      "text/plain": [
       "Retrieving MaterialsDoc documents:   0%|          | 0/1 [00:00<?, ?it/s]"
      ]
     },
     "metadata": {},
     "output_type": "display_data"
    },
    {
     "data": {
      "application/vnd.jupyter.widget-view+json": {
       "model_id": "ecddb9193d814a62833f2a86987e9955",
       "version_major": 2,
       "version_minor": 0
      },
      "text/plain": [
       "Retrieving MaterialsDoc documents:   0%|          | 0/1 [00:00<?, ?it/s]"
      ]
     },
     "metadata": {},
     "output_type": "display_data"
    },
    {
     "data": {
      "application/vnd.jupyter.widget-view+json": {
       "model_id": "cd37401352114c3fb872c9f611f69bda",
       "version_major": 2,
       "version_minor": 0
      },
      "text/plain": [
       "Retrieving MaterialsDoc documents:   0%|          | 0/1 [00:00<?, ?it/s]"
      ]
     },
     "metadata": {},
     "output_type": "display_data"
    },
    {
     "data": {
      "application/vnd.jupyter.widget-view+json": {
       "model_id": "150726387e274fb7b2f278150d71e59b",
       "version_major": 2,
       "version_minor": 0
      },
      "text/plain": [
       "Retrieving MaterialsDoc documents:   0%|          | 0/1 [00:00<?, ?it/s]"
      ]
     },
     "metadata": {},
     "output_type": "display_data"
    },
    {
     "data": {
      "application/vnd.jupyter.widget-view+json": {
       "model_id": "26be7300ba8f402a9062d64f6cff9aa4",
       "version_major": 2,
       "version_minor": 0
      },
      "text/plain": [
       "Retrieving MaterialsDoc documents:   0%|          | 0/1 [00:00<?, ?it/s]"
      ]
     },
     "metadata": {},
     "output_type": "display_data"
    },
    {
     "data": {
      "application/vnd.jupyter.widget-view+json": {
       "model_id": "871c8c4d38ab4ebd9da6e2277455b901",
       "version_major": 2,
       "version_minor": 0
      },
      "text/plain": [
       "Retrieving MaterialsDoc documents:   0%|          | 0/1 [00:00<?, ?it/s]"
      ]
     },
     "metadata": {},
     "output_type": "display_data"
    },
    {
     "data": {
      "application/vnd.jupyter.widget-view+json": {
       "model_id": "180a129c61b44d3cbb92dfd2985498e8",
       "version_major": 2,
       "version_minor": 0
      },
      "text/plain": [
       "Retrieving MaterialsDoc documents:   0%|          | 0/1 [00:00<?, ?it/s]"
      ]
     },
     "metadata": {},
     "output_type": "display_data"
    },
    {
     "data": {
      "application/vnd.jupyter.widget-view+json": {
       "model_id": "b6881d5a44a148eda4fed425332b722d",
       "version_major": 2,
       "version_minor": 0
      },
      "text/plain": [
       "Retrieving MaterialsDoc documents:   0%|          | 0/1 [00:00<?, ?it/s]"
      ]
     },
     "metadata": {},
     "output_type": "display_data"
    },
    {
     "data": {
      "application/vnd.jupyter.widget-view+json": {
       "model_id": "620175f77a914b3d81eee3f5f24b464e",
       "version_major": 2,
       "version_minor": 0
      },
      "text/plain": [
       "Retrieving MaterialsDoc documents:   0%|          | 0/1 [00:00<?, ?it/s]"
      ]
     },
     "metadata": {},
     "output_type": "display_data"
    },
    {
     "data": {
      "application/vnd.jupyter.widget-view+json": {
       "model_id": "fce69fb6354b4782bbd1ca7765cbae5b",
       "version_major": 2,
       "version_minor": 0
      },
      "text/plain": [
       "Retrieving MaterialsDoc documents:   0%|          | 0/1 [00:00<?, ?it/s]"
      ]
     },
     "metadata": {},
     "output_type": "display_data"
    },
    {
     "data": {
      "application/vnd.jupyter.widget-view+json": {
       "model_id": "f0de64983aac4e7184be42abb8f327ca",
       "version_major": 2,
       "version_minor": 0
      },
      "text/plain": [
       "Retrieving MaterialsDoc documents:   0%|          | 0/1 [00:00<?, ?it/s]"
      ]
     },
     "metadata": {},
     "output_type": "display_data"
    },
    {
     "data": {
      "application/vnd.jupyter.widget-view+json": {
       "model_id": "678a3277ee224bcb874277214bfd63eb",
       "version_major": 2,
       "version_minor": 0
      },
      "text/plain": [
       "Retrieving MaterialsDoc documents:   0%|          | 0/1 [00:00<?, ?it/s]"
      ]
     },
     "metadata": {},
     "output_type": "display_data"
    },
    {
     "data": {
      "application/vnd.jupyter.widget-view+json": {
       "model_id": "2e12d9de0ccd4488b7190bb3ae10e0d4",
       "version_major": 2,
       "version_minor": 0
      },
      "text/plain": [
       "Retrieving MaterialsDoc documents:   0%|          | 0/1 [00:00<?, ?it/s]"
      ]
     },
     "metadata": {},
     "output_type": "display_data"
    },
    {
     "data": {
      "application/vnd.jupyter.widget-view+json": {
       "model_id": "722522326e134b9dbe2c7e064d75b4ce",
       "version_major": 2,
       "version_minor": 0
      },
      "text/plain": [
       "Retrieving MaterialsDoc documents:   0%|          | 0/1 [00:00<?, ?it/s]"
      ]
     },
     "metadata": {},
     "output_type": "display_data"
    },
    {
     "data": {
      "application/vnd.jupyter.widget-view+json": {
       "model_id": "5ba73c5475064fc3a079a7b0d7ba6882",
       "version_major": 2,
       "version_minor": 0
      },
      "text/plain": [
       "Retrieving MaterialsDoc documents:   0%|          | 0/1 [00:00<?, ?it/s]"
      ]
     },
     "metadata": {},
     "output_type": "display_data"
    },
    {
     "data": {
      "application/vnd.jupyter.widget-view+json": {
       "model_id": "12dbbbe220d0491184a8a6bb375dba32",
       "version_major": 2,
       "version_minor": 0
      },
      "text/plain": [
       "Retrieving MaterialsDoc documents:   0%|          | 0/1 [00:00<?, ?it/s]"
      ]
     },
     "metadata": {},
     "output_type": "display_data"
    },
    {
     "data": {
      "application/vnd.jupyter.widget-view+json": {
       "model_id": "2a2f2a8046a8496faefd098f725a6304",
       "version_major": 2,
       "version_minor": 0
      },
      "text/plain": [
       "Retrieving MaterialsDoc documents:   0%|          | 0/1 [00:00<?, ?it/s]"
      ]
     },
     "metadata": {},
     "output_type": "display_data"
    },
    {
     "data": {
      "application/vnd.jupyter.widget-view+json": {
       "model_id": "a37f63c9ed2d4f1fbb01229f0b04aefe",
       "version_major": 2,
       "version_minor": 0
      },
      "text/plain": [
       "Retrieving MaterialsDoc documents:   0%|          | 0/1 [00:00<?, ?it/s]"
      ]
     },
     "metadata": {},
     "output_type": "display_data"
    },
    {
     "data": {
      "application/vnd.jupyter.widget-view+json": {
       "model_id": "23b8db50ab04469281803a8af69ce060",
       "version_major": 2,
       "version_minor": 0
      },
      "text/plain": [
       "Retrieving MaterialsDoc documents:   0%|          | 0/1 [00:00<?, ?it/s]"
      ]
     },
     "metadata": {},
     "output_type": "display_data"
    },
    {
     "data": {
      "application/vnd.jupyter.widget-view+json": {
       "model_id": "0b96186fa7f4491cb0ebb38ea83745c3",
       "version_major": 2,
       "version_minor": 0
      },
      "text/plain": [
       "Retrieving MaterialsDoc documents:   0%|          | 0/1 [00:00<?, ?it/s]"
      ]
     },
     "metadata": {},
     "output_type": "display_data"
    },
    {
     "data": {
      "application/vnd.jupyter.widget-view+json": {
       "model_id": "921b0030e19445dba3782908d8e555ed",
       "version_major": 2,
       "version_minor": 0
      },
      "text/plain": [
       "Retrieving MaterialsDoc documents:   0%|          | 0/1 [00:00<?, ?it/s]"
      ]
     },
     "metadata": {},
     "output_type": "display_data"
    },
    {
     "data": {
      "application/vnd.jupyter.widget-view+json": {
       "model_id": "ae7d265ec1e948fa9950dc0d00fa7471",
       "version_major": 2,
       "version_minor": 0
      },
      "text/plain": [
       "Retrieving MaterialsDoc documents:   0%|          | 0/1 [00:00<?, ?it/s]"
      ]
     },
     "metadata": {},
     "output_type": "display_data"
    },
    {
     "data": {
      "application/vnd.jupyter.widget-view+json": {
       "model_id": "5642d46339da49be986727b1c4abeea9",
       "version_major": 2,
       "version_minor": 0
      },
      "text/plain": [
       "Retrieving MaterialsDoc documents:   0%|          | 0/1 [00:00<?, ?it/s]"
      ]
     },
     "metadata": {},
     "output_type": "display_data"
    },
    {
     "data": {
      "application/vnd.jupyter.widget-view+json": {
       "model_id": "d130c43d6a0a405e921f992a3b248967",
       "version_major": 2,
       "version_minor": 0
      },
      "text/plain": [
       "Retrieving MaterialsDoc documents:   0%|          | 0/1 [00:00<?, ?it/s]"
      ]
     },
     "metadata": {},
     "output_type": "display_data"
    },
    {
     "data": {
      "application/vnd.jupyter.widget-view+json": {
       "model_id": "c6078829c332432aa48c49ebfb04c40c",
       "version_major": 2,
       "version_minor": 0
      },
      "text/plain": [
       "Retrieving MaterialsDoc documents:   0%|          | 0/1 [00:00<?, ?it/s]"
      ]
     },
     "metadata": {},
     "output_type": "display_data"
    },
    {
     "data": {
      "application/vnd.jupyter.widget-view+json": {
       "model_id": "fbdba7dd1d3e49a0a802bc1c11d4a834",
       "version_major": 2,
       "version_minor": 0
      },
      "text/plain": [
       "Retrieving MaterialsDoc documents:   0%|          | 0/1 [00:00<?, ?it/s]"
      ]
     },
     "metadata": {},
     "output_type": "display_data"
    },
    {
     "data": {
      "application/vnd.jupyter.widget-view+json": {
       "model_id": "ba597bddecdf463e880bf51b03fb1458",
       "version_major": 2,
       "version_minor": 0
      },
      "text/plain": [
       "Retrieving MaterialsDoc documents:   0%|          | 0/1 [00:00<?, ?it/s]"
      ]
     },
     "metadata": {},
     "output_type": "display_data"
    },
    {
     "data": {
      "application/vnd.jupyter.widget-view+json": {
       "model_id": "b1d6dd47092a47fa9b3596570f3c16ab",
       "version_major": 2,
       "version_minor": 0
      },
      "text/plain": [
       "Retrieving MaterialsDoc documents:   0%|          | 0/1 [00:00<?, ?it/s]"
      ]
     },
     "metadata": {},
     "output_type": "display_data"
    },
    {
     "data": {
      "application/vnd.jupyter.widget-view+json": {
       "model_id": "44ffc6d1cdac406096f0d2252920dd0b",
       "version_major": 2,
       "version_minor": 0
      },
      "text/plain": [
       "Retrieving MaterialsDoc documents:   0%|          | 0/1 [00:00<?, ?it/s]"
      ]
     },
     "metadata": {},
     "output_type": "display_data"
    },
    {
     "data": {
      "application/vnd.jupyter.widget-view+json": {
       "model_id": "6f69ae6b427e40d5bc67725c182d81fd",
       "version_major": 2,
       "version_minor": 0
      },
      "text/plain": [
       "Retrieving MaterialsDoc documents:   0%|          | 0/1 [00:00<?, ?it/s]"
      ]
     },
     "metadata": {},
     "output_type": "display_data"
    },
    {
     "data": {
      "application/vnd.jupyter.widget-view+json": {
       "model_id": "87807bbeb4614d15b3969bce1820f6ba",
       "version_major": 2,
       "version_minor": 0
      },
      "text/plain": [
       "Retrieving MaterialsDoc documents:   0%|          | 0/1 [00:00<?, ?it/s]"
      ]
     },
     "metadata": {},
     "output_type": "display_data"
    },
    {
     "data": {
      "application/vnd.jupyter.widget-view+json": {
       "model_id": "421d99086b33472398ad033ebdcb9f04",
       "version_major": 2,
       "version_minor": 0
      },
      "text/plain": [
       "Retrieving MaterialsDoc documents:   0%|          | 0/1 [00:00<?, ?it/s]"
      ]
     },
     "metadata": {},
     "output_type": "display_data"
    },
    {
     "data": {
      "application/vnd.jupyter.widget-view+json": {
       "model_id": "0830fae3ccca45aea83ed3967eb352f8",
       "version_major": 2,
       "version_minor": 0
      },
      "text/plain": [
       "Retrieving MaterialsDoc documents:   0%|          | 0/1 [00:00<?, ?it/s]"
      ]
     },
     "metadata": {},
     "output_type": "display_data"
    },
    {
     "data": {
      "application/vnd.jupyter.widget-view+json": {
       "model_id": "64e7479cc4cc4b8f80c7abdbb6d33894",
       "version_major": 2,
       "version_minor": 0
      },
      "text/plain": [
       "Retrieving MaterialsDoc documents:   0%|          | 0/1 [00:00<?, ?it/s]"
      ]
     },
     "metadata": {},
     "output_type": "display_data"
    },
    {
     "data": {
      "application/vnd.jupyter.widget-view+json": {
       "model_id": "5fed376de4ac42388d7a35c9cfa37aba",
       "version_major": 2,
       "version_minor": 0
      },
      "text/plain": [
       "Retrieving MaterialsDoc documents:   0%|          | 0/1 [00:00<?, ?it/s]"
      ]
     },
     "metadata": {},
     "output_type": "display_data"
    },
    {
     "data": {
      "application/vnd.jupyter.widget-view+json": {
       "model_id": "bad8669d0d094258a54d37b94d27c0d5",
       "version_major": 2,
       "version_minor": 0
      },
      "text/plain": [
       "Retrieving MaterialsDoc documents:   0%|          | 0/1 [00:00<?, ?it/s]"
      ]
     },
     "metadata": {},
     "output_type": "display_data"
    },
    {
     "data": {
      "application/vnd.jupyter.widget-view+json": {
       "model_id": "d4618a9586c447ec8f669919580b8d4d",
       "version_major": 2,
       "version_minor": 0
      },
      "text/plain": [
       "Retrieving MaterialsDoc documents:   0%|          | 0/1 [00:00<?, ?it/s]"
      ]
     },
     "metadata": {},
     "output_type": "display_data"
    },
    {
     "data": {
      "application/vnd.jupyter.widget-view+json": {
       "model_id": "3c8a5842c08e46d39a1590ab997da6c6",
       "version_major": 2,
       "version_minor": 0
      },
      "text/plain": [
       "Retrieving MaterialsDoc documents:   0%|          | 0/1 [00:00<?, ?it/s]"
      ]
     },
     "metadata": {},
     "output_type": "display_data"
    },
    {
     "data": {
      "application/vnd.jupyter.widget-view+json": {
       "model_id": "c5c5b9f87c8a430c99e397a97165616b",
       "version_major": 2,
       "version_minor": 0
      },
      "text/plain": [
       "Retrieving MaterialsDoc documents:   0%|          | 0/1 [00:00<?, ?it/s]"
      ]
     },
     "metadata": {},
     "output_type": "display_data"
    },
    {
     "data": {
      "application/vnd.jupyter.widget-view+json": {
       "model_id": "9573c14ab4d04686bd39127e984c92f9",
       "version_major": 2,
       "version_minor": 0
      },
      "text/plain": [
       "Retrieving MaterialsDoc documents:   0%|          | 0/1 [00:00<?, ?it/s]"
      ]
     },
     "metadata": {},
     "output_type": "display_data"
    },
    {
     "data": {
      "application/vnd.jupyter.widget-view+json": {
       "model_id": "6bc8f6f392d8425dbe430667c5ee5c70",
       "version_major": 2,
       "version_minor": 0
      },
      "text/plain": [
       "Retrieving MaterialsDoc documents:   0%|          | 0/1 [00:00<?, ?it/s]"
      ]
     },
     "metadata": {},
     "output_type": "display_data"
    },
    {
     "data": {
      "application/vnd.jupyter.widget-view+json": {
       "model_id": "1b545b3cb96e47ccb002019d4b89d35a",
       "version_major": 2,
       "version_minor": 0
      },
      "text/plain": [
       "Retrieving MaterialsDoc documents:   0%|          | 0/1 [00:00<?, ?it/s]"
      ]
     },
     "metadata": {},
     "output_type": "display_data"
    },
    {
     "data": {
      "application/vnd.jupyter.widget-view+json": {
       "model_id": "3ade566fe3334ce2b6b7336d24174aa9",
       "version_major": 2,
       "version_minor": 0
      },
      "text/plain": [
       "Retrieving MaterialsDoc documents:   0%|          | 0/1 [00:00<?, ?it/s]"
      ]
     },
     "metadata": {},
     "output_type": "display_data"
    },
    {
     "data": {
      "application/vnd.jupyter.widget-view+json": {
       "model_id": "763b8d0fd0924b8d8f9ec01a0c419de7",
       "version_major": 2,
       "version_minor": 0
      },
      "text/plain": [
       "Retrieving MaterialsDoc documents:   0%|          | 0/1 [00:00<?, ?it/s]"
      ]
     },
     "metadata": {},
     "output_type": "display_data"
    },
    {
     "data": {
      "application/vnd.jupyter.widget-view+json": {
       "model_id": "a65b505100fc4cda83334a6c11ab419f",
       "version_major": 2,
       "version_minor": 0
      },
      "text/plain": [
       "Retrieving MaterialsDoc documents:   0%|          | 0/1 [00:00<?, ?it/s]"
      ]
     },
     "metadata": {},
     "output_type": "display_data"
    },
    {
     "data": {
      "application/vnd.jupyter.widget-view+json": {
       "model_id": "7184cdb258ce44a7a04585f9aff22dc3",
       "version_major": 2,
       "version_minor": 0
      },
      "text/plain": [
       "Retrieving MaterialsDoc documents:   0%|          | 0/1 [00:00<?, ?it/s]"
      ]
     },
     "metadata": {},
     "output_type": "display_data"
    }
   ],
   "source": [
    "\n",
    "mp_entries = []\n",
    "\n",
    "with MPRester(API_KEY) as mpr:\n",
    "    for mp_id in shorten_materials:\n",
    "        material_entries = mpr.materials.search(material_ids=[mp_id])\n",
    "\n",
    "        if material_entries:\n",
    "            mp_entries.append(material_entries[0])\n",
    "\n",
    "chemsys_list = [entry.chemsys for entry in mp_entries if hasattr(entry, 'chemsys')]\n",
    "composition_list = [entry.composition_reduced for entry in mp_entries if hasattr(entry, 'composition_reduced')]\n",
    "materials_gga = [material + \"-GGA\" for material in shorten_materials]\n",
    "materials_id = shorten_materials"
   ]
  },
  {
   "cell_type": "markdown",
   "metadata": {},
   "source": [
    "the elemental list must not contain O (oxegen) or H (hydrogen) to compute the pourbaix data, the remove_o_and_h function removes those from the chemical composisiotn list"
   ]
  },
  {
   "cell_type": "code",
   "execution_count": 4,
   "metadata": {},
   "outputs": [],
   "source": [
    "from pymatgen.core.composition import Composition\n",
    "\n",
    "def remove_o_and_h(composition):\n",
    "    new_composition_elements = []\n",
    "    for element, count in composition.get_el_amt_dict().items():\n",
    "        if element not in ['O', 'H']:\n",
    "            new_composition_elements.append(f\"{element}{int(count)}\")\n",
    "    new_composition_str = ' '.join(new_composition_elements)\n",
    "    return Composition(new_composition_str)\n",
    "\n",
    "filtered_molecules = [remove_o_and_h(molecule) for molecule in composition_list]"
   ]
  },
  {
   "cell_type": "markdown",
   "metadata": {},
   "source": [
    "the pourbaix charts also requires the elements to be in a percentage form, the calculate_percent_composition looks at the atoms per element in the composition list and converts it to a percentage"
   ]
  },
  {
   "cell_type": "code",
   "execution_count": 5,
   "metadata": {},
   "outputs": [],
   "source": [
    "from pymatgen.core.composition import Composition\n",
    "\n",
    "def calculate_percent_composition(molecule):\n",
    "    total_atoms = sum(molecule.values())\n",
    "    return {element.symbol: count / total_atoms for element, count in molecule.items()}\n",
    "\n",
    "percent_compositions = [calculate_percent_composition(molecule) for molecule in filtered_molecules]"
   ]
  },
  {
   "cell_type": "markdown",
   "metadata": {},
   "source": [
    "the following code takes the chemsys and percent composition and gets the pourbaix entries and converts it to data. some materials do not have a pourbaix entry to error is placed into the list, (lenght of list needs to match in a future function)"
   ]
  },
  {
   "cell_type": "code",
   "execution_count": 6,
   "metadata": {},
   "outputs": [
    {
     "data": {
      "application/vnd.jupyter.widget-view+json": {
       "model_id": "a76413174a7c4057a4a2f30ab6974684",
       "version_major": 2,
       "version_minor": 0
      },
      "text/plain": [
       "Retrieving ThermoDoc documents:   0%|          | 0/284 [00:00<?, ?it/s]"
      ]
     },
     "metadata": {},
     "output_type": "display_data"
    },
    {
     "name": "stdout",
     "output_type": "stream",
     "text": [
      "Percent complete: 0.95%\n"
     ]
    },
    {
     "data": {
      "application/vnd.jupyter.widget-view+json": {
       "model_id": "d1f19f383fba4176bfd460f9f649d3b1",
       "version_major": 2,
       "version_minor": 0
      },
      "text/plain": [
       "Retrieving ThermoDoc documents:   0%|          | 0/385 [00:00<?, ?it/s]"
      ]
     },
     "metadata": {},
     "output_type": "display_data"
    },
    {
     "name": "stdout",
     "output_type": "stream",
     "text": [
      "Percent complete: 1.90%\n"
     ]
    },
    {
     "data": {
      "application/vnd.jupyter.widget-view+json": {
       "model_id": "c9911f5fa4e5461f9dd31f7d245e1884",
       "version_major": 2,
       "version_minor": 0
      },
      "text/plain": [
       "Retrieving ThermoDoc documents:   0%|          | 0/277 [00:00<?, ?it/s]"
      ]
     },
     "metadata": {},
     "output_type": "display_data"
    },
    {
     "name": "stdout",
     "output_type": "stream",
     "text": [
      "Percent complete: 2.86%\n"
     ]
    },
    {
     "data": {
      "application/vnd.jupyter.widget-view+json": {
       "model_id": "d0cf67dcb768463095dab18577cea0b3",
       "version_major": 2,
       "version_minor": 0
      },
      "text/plain": [
       "Retrieving ThermoDoc documents:   0%|          | 0/209 [00:00<?, ?it/s]"
      ]
     },
     "metadata": {},
     "output_type": "display_data"
    },
    {
     "name": "stdout",
     "output_type": "stream",
     "text": [
      "Percent complete: 3.81%\n"
     ]
    },
    {
     "data": {
      "application/vnd.jupyter.widget-view+json": {
       "model_id": "0607000c08474ff3bb256356b109fdbd",
       "version_major": 2,
       "version_minor": 0
      },
      "text/plain": [
       "Retrieving ThermoDoc documents:   0%|          | 0/247 [00:00<?, ?it/s]"
      ]
     },
     "metadata": {},
     "output_type": "display_data"
    },
    {
     "name": "stdout",
     "output_type": "stream",
     "text": [
      "Percent complete: 4.76%\n"
     ]
    },
    {
     "data": {
      "application/vnd.jupyter.widget-view+json": {
       "model_id": "11c99408a8f84a38855e454d3cd0aa76",
       "version_major": 2,
       "version_minor": 0
      },
      "text/plain": [
       "Retrieving ThermoDoc documents:   0%|          | 0/174 [00:00<?, ?it/s]"
      ]
     },
     "metadata": {},
     "output_type": "display_data"
    },
    {
     "name": "stdout",
     "output_type": "stream",
     "text": [
      "Percent complete: 5.71%\n"
     ]
    },
    {
     "data": {
      "application/vnd.jupyter.widget-view+json": {
       "model_id": "10208649b3e2441797ab6ab36d4b4b69",
       "version_major": 2,
       "version_minor": 0
      },
      "text/plain": [
       "Retrieving ThermoDoc documents:   0%|          | 0/382 [00:00<?, ?it/s]"
      ]
     },
     "metadata": {},
     "output_type": "display_data"
    },
    {
     "name": "stdout",
     "output_type": "stream",
     "text": [
      "Percent complete: 6.67%\n"
     ]
    },
    {
     "data": {
      "application/vnd.jupyter.widget-view+json": {
       "model_id": "dd57eb4868194017847de97ade1fbe22",
       "version_major": 2,
       "version_minor": 0
      },
      "text/plain": [
       "Retrieving ThermoDoc documents:   0%|          | 0/290 [00:00<?, ?it/s]"
      ]
     },
     "metadata": {},
     "output_type": "display_data"
    },
    {
     "name": "stdout",
     "output_type": "stream",
     "text": [
      "Percent complete: 7.62%\n"
     ]
    },
    {
     "data": {
      "application/vnd.jupyter.widget-view+json": {
       "model_id": "9246203830bb40d78732dbb91647f312",
       "version_major": 2,
       "version_minor": 0
      },
      "text/plain": [
       "Retrieving ThermoDoc documents:   0%|          | 0/952 [00:00<?, ?it/s]"
      ]
     },
     "metadata": {},
     "output_type": "display_data"
    },
    {
     "name": "stdout",
     "output_type": "stream",
     "text": [
      "Percent complete: 8.57%\n"
     ]
    },
    {
     "data": {
      "application/vnd.jupyter.widget-view+json": {
       "model_id": "caa25d8ffc88444fa83f07d9f53fc31b",
       "version_major": 2,
       "version_minor": 0
      },
      "text/plain": [
       "Retrieving ThermoDoc documents:   0%|          | 0/357 [00:00<?, ?it/s]"
      ]
     },
     "metadata": {},
     "output_type": "display_data"
    },
    {
     "name": "stdout",
     "output_type": "stream",
     "text": [
      "Percent complete: 9.52%\n"
     ]
    },
    {
     "data": {
      "application/vnd.jupyter.widget-view+json": {
       "model_id": "1946d8b544cd430a96caff726972acb2",
       "version_major": 2,
       "version_minor": 0
      },
      "text/plain": [
       "Retrieving ThermoDoc documents:   0%|          | 0/311 [00:00<?, ?it/s]"
      ]
     },
     "metadata": {},
     "output_type": "display_data"
    },
    {
     "name": "stdout",
     "output_type": "stream",
     "text": [
      "Percent complete: 10.48%\n"
     ]
    },
    {
     "data": {
      "application/vnd.jupyter.widget-view+json": {
       "model_id": "6d3ba521ffb94e679b0dc3652faac5bd",
       "version_major": 2,
       "version_minor": 0
      },
      "text/plain": [
       "Retrieving ThermoDoc documents:   0%|          | 0/399 [00:00<?, ?it/s]"
      ]
     },
     "metadata": {},
     "output_type": "display_data"
    },
    {
     "name": "stdout",
     "output_type": "stream",
     "text": [
      "Percent complete: 11.43%\n"
     ]
    },
    {
     "data": {
      "application/vnd.jupyter.widget-view+json": {
       "model_id": "28df1988f35d42dfb32f9a3e1dcf50f7",
       "version_major": 2,
       "version_minor": 0
      },
      "text/plain": [
       "Retrieving ThermoDoc documents:   0%|          | 0/259 [00:00<?, ?it/s]"
      ]
     },
     "metadata": {},
     "output_type": "display_data"
    },
    {
     "name": "stdout",
     "output_type": "stream",
     "text": [
      "Percent complete: 12.38%\n"
     ]
    },
    {
     "data": {
      "application/vnd.jupyter.widget-view+json": {
       "model_id": "8e3edabad16844edb1734c538b081850",
       "version_major": 2,
       "version_minor": 0
      },
      "text/plain": [
       "Retrieving ThermoDoc documents:   0%|          | 0/479 [00:00<?, ?it/s]"
      ]
     },
     "metadata": {},
     "output_type": "display_data"
    },
    {
     "name": "stdout",
     "output_type": "stream",
     "text": [
      "Percent complete: 13.33%\n"
     ]
    },
    {
     "data": {
      "application/vnd.jupyter.widget-view+json": {
       "model_id": "af6d742666f14fb8ae32f2462bf7b742",
       "version_major": 2,
       "version_minor": 0
      },
      "text/plain": [
       "Retrieving ThermoDoc documents:   0%|          | 0/985 [00:00<?, ?it/s]"
      ]
     },
     "metadata": {},
     "output_type": "display_data"
    },
    {
     "name": "stdout",
     "output_type": "stream",
     "text": [
      "Percent complete: 14.29%\n"
     ]
    },
    {
     "data": {
      "application/vnd.jupyter.widget-view+json": {
       "model_id": "3097e217f1204cc18b85ac4588d9e0d7",
       "version_major": 2,
       "version_minor": 0
      },
      "text/plain": [
       "Retrieving ThermoDoc documents:   0%|          | 0/451 [00:00<?, ?it/s]"
      ]
     },
     "metadata": {},
     "output_type": "display_data"
    },
    {
     "name": "stdout",
     "output_type": "stream",
     "text": [
      "Percent complete: 15.24%\n"
     ]
    },
    {
     "data": {
      "application/vnd.jupyter.widget-view+json": {
       "model_id": "7c0fb4c0d17b4f4d98487b2c1870d382",
       "version_major": 2,
       "version_minor": 0
      },
      "text/plain": [
       "Retrieving ThermoDoc documents:   0%|          | 0/275 [00:00<?, ?it/s]"
      ]
     },
     "metadata": {},
     "output_type": "display_data"
    },
    {
     "name": "stdout",
     "output_type": "stream",
     "text": [
      "Percent complete: 16.19%\n"
     ]
    },
    {
     "data": {
      "application/vnd.jupyter.widget-view+json": {
       "model_id": "1f661bbf455f4b10bec7c63a3c82d9bf",
       "version_major": 2,
       "version_minor": 0
      },
      "text/plain": [
       "Retrieving ThermoDoc documents:   0%|          | 0/231 [00:00<?, ?it/s]"
      ]
     },
     "metadata": {},
     "output_type": "display_data"
    },
    {
     "name": "stdout",
     "output_type": "stream",
     "text": [
      "Percent complete: 17.14%\n"
     ]
    },
    {
     "data": {
      "application/vnd.jupyter.widget-view+json": {
       "model_id": "6d5ee9afed1a416eb289a533afd5afeb",
       "version_major": 2,
       "version_minor": 0
      },
      "text/plain": [
       "Retrieving ThermoDoc documents:   0%|          | 0/231 [00:00<?, ?it/s]"
      ]
     },
     "metadata": {},
     "output_type": "display_data"
    },
    {
     "name": "stdout",
     "output_type": "stream",
     "text": [
      "Percent complete: 18.10%\n"
     ]
    },
    {
     "data": {
      "application/vnd.jupyter.widget-view+json": {
       "model_id": "c49bd63307c94416a6460b83e29d109e",
       "version_major": 2,
       "version_minor": 0
      },
      "text/plain": [
       "Retrieving ThermoDoc documents:   0%|          | 0/247 [00:00<?, ?it/s]"
      ]
     },
     "metadata": {},
     "output_type": "display_data"
    },
    {
     "name": "stdout",
     "output_type": "stream",
     "text": [
      "Percent complete: 19.05%\n"
     ]
    },
    {
     "data": {
      "application/vnd.jupyter.widget-view+json": {
       "model_id": "b71a7b94e21947e88ed9402990e2bc17",
       "version_major": 2,
       "version_minor": 0
      },
      "text/plain": [
       "Retrieving ThermoDoc documents:   0%|          | 0/193 [00:00<?, ?it/s]"
      ]
     },
     "metadata": {},
     "output_type": "display_data"
    },
    {
     "name": "stdout",
     "output_type": "stream",
     "text": [
      "Percent complete: 20.00%\n"
     ]
    },
    {
     "data": {
      "application/vnd.jupyter.widget-view+json": {
       "model_id": "f978c2291fc346b3bd1987e9c1354266",
       "version_major": 2,
       "version_minor": 0
      },
      "text/plain": [
       "Retrieving ThermoDoc documents:   0%|          | 0/565 [00:00<?, ?it/s]"
      ]
     },
     "metadata": {},
     "output_type": "display_data"
    },
    {
     "name": "stdout",
     "output_type": "stream",
     "text": [
      "Percent complete: 20.95%\n"
     ]
    },
    {
     "data": {
      "application/vnd.jupyter.widget-view+json": {
       "model_id": "7783ac3fac6747c9813e1023cfceca2b",
       "version_major": 2,
       "version_minor": 0
      },
      "text/plain": [
       "Retrieving ThermoDoc documents:   0%|          | 0/352 [00:00<?, ?it/s]"
      ]
     },
     "metadata": {},
     "output_type": "display_data"
    },
    {
     "name": "stdout",
     "output_type": "stream",
     "text": [
      "Percent complete: 21.90%\n"
     ]
    },
    {
     "data": {
      "application/vnd.jupyter.widget-view+json": {
       "model_id": "80f1fa2568aa4af895a49f5cc3aaf847",
       "version_major": 2,
       "version_minor": 0
      },
      "text/plain": [
       "Retrieving ThermoDoc documents:   0%|          | 0/352 [00:00<?, ?it/s]"
      ]
     },
     "metadata": {},
     "output_type": "display_data"
    },
    {
     "name": "stdout",
     "output_type": "stream",
     "text": [
      "Percent complete: 22.86%\n"
     ]
    },
    {
     "data": {
      "application/vnd.jupyter.widget-view+json": {
       "model_id": "d1f74a2945874dfa8c3c0d3bd8616d44",
       "version_major": 2,
       "version_minor": 0
      },
      "text/plain": [
       "Retrieving ThermoDoc documents:   0%|          | 0/557 [00:00<?, ?it/s]"
      ]
     },
     "metadata": {},
     "output_type": "display_data"
    },
    {
     "name": "stdout",
     "output_type": "stream",
     "text": [
      "Percent complete: 23.81%\n"
     ]
    },
    {
     "data": {
      "application/vnd.jupyter.widget-view+json": {
       "model_id": "236d8e25922d4f59842478b78edf0de3",
       "version_major": 2,
       "version_minor": 0
      },
      "text/plain": [
       "Retrieving ThermoDoc documents:   0%|          | 0/238 [00:00<?, ?it/s]"
      ]
     },
     "metadata": {},
     "output_type": "display_data"
    },
    {
     "name": "stdout",
     "output_type": "stream",
     "text": [
      "Percent complete: 24.76%\n"
     ]
    },
    {
     "data": {
      "application/vnd.jupyter.widget-view+json": {
       "model_id": "94607c77c8e74f42a7521c4ad280bf09",
       "version_major": 2,
       "version_minor": 0
      },
      "text/plain": [
       "Retrieving ThermoDoc documents:   0%|          | 0/253 [00:00<?, ?it/s]"
      ]
     },
     "metadata": {},
     "output_type": "display_data"
    },
    {
     "name": "stdout",
     "output_type": "stream",
     "text": [
      "Percent complete: 25.71%\n"
     ]
    },
    {
     "data": {
      "application/vnd.jupyter.widget-view+json": {
       "model_id": "12a9ed8f6fa7408f987407e95e29321e",
       "version_major": 2,
       "version_minor": 0
      },
      "text/plain": [
       "Retrieving ThermoDoc documents:   0%|          | 0/211 [00:00<?, ?it/s]"
      ]
     },
     "metadata": {},
     "output_type": "display_data"
    },
    {
     "name": "stdout",
     "output_type": "stream",
     "text": [
      "Percent complete: 26.67%\n"
     ]
    },
    {
     "data": {
      "application/vnd.jupyter.widget-view+json": {
       "model_id": "b28f780d08a64615ba6bcacf7fb5a7fd",
       "version_major": 2,
       "version_minor": 0
      },
      "text/plain": [
       "Retrieving ThermoDoc documents:   0%|          | 0/302 [00:00<?, ?it/s]"
      ]
     },
     "metadata": {},
     "output_type": "display_data"
    },
    {
     "name": "stdout",
     "output_type": "stream",
     "text": [
      "Percent complete: 27.62%\n"
     ]
    },
    {
     "data": {
      "application/vnd.jupyter.widget-view+json": {
       "model_id": "243d03e784264c9389f4c290822431e8",
       "version_major": 2,
       "version_minor": 0
      },
      "text/plain": [
       "Retrieving ThermoDoc documents:   0%|          | 0/242 [00:00<?, ?it/s]"
      ]
     },
     "metadata": {},
     "output_type": "display_data"
    },
    {
     "name": "stdout",
     "output_type": "stream",
     "text": [
      "Percent complete: 28.57%\n"
     ]
    },
    {
     "data": {
      "application/vnd.jupyter.widget-view+json": {
       "model_id": "a78f296eb33d45eeb80d13de89f37f27",
       "version_major": 2,
       "version_minor": 0
      },
      "text/plain": [
       "Retrieving ThermoDoc documents:   0%|          | 0/201 [00:00<?, ?it/s]"
      ]
     },
     "metadata": {},
     "output_type": "display_data"
    },
    {
     "name": "stdout",
     "output_type": "stream",
     "text": [
      "Percent complete: 29.52%\n"
     ]
    },
    {
     "data": {
      "application/vnd.jupyter.widget-view+json": {
       "model_id": "1cd64aab1e25454db81fbae72de61885",
       "version_major": 2,
       "version_minor": 0
      },
      "text/plain": [
       "Retrieving ThermoDoc documents:   0%|          | 0/834 [00:00<?, ?it/s]"
      ]
     },
     "metadata": {},
     "output_type": "display_data"
    },
    {
     "name": "stdout",
     "output_type": "stream",
     "text": [
      "Percent complete: 30.48%\n"
     ]
    },
    {
     "data": {
      "application/vnd.jupyter.widget-view+json": {
       "model_id": "949cd82c249240b793f84427a51a909b",
       "version_major": 2,
       "version_minor": 0
      },
      "text/plain": [
       "Retrieving ThermoDoc documents:   0%|          | 0/267 [00:00<?, ?it/s]"
      ]
     },
     "metadata": {},
     "output_type": "display_data"
    },
    {
     "name": "stdout",
     "output_type": "stream",
     "text": [
      "Percent complete: 31.43%\n"
     ]
    },
    {
     "data": {
      "application/vnd.jupyter.widget-view+json": {
       "model_id": "b2821f524b0d47f284c41a763d890da1",
       "version_major": 2,
       "version_minor": 0
      },
      "text/plain": [
       "Retrieving ThermoDoc documents:   0%|          | 0/1193 [00:00<?, ?it/s]"
      ]
     },
     "metadata": {},
     "output_type": "display_data"
    },
    {
     "name": "stdout",
     "output_type": "stream",
     "text": [
      "Percent complete: 32.38%\n"
     ]
    },
    {
     "data": {
      "application/vnd.jupyter.widget-view+json": {
       "model_id": "26544fe3766947e1aee512a6ff867a35",
       "version_major": 2,
       "version_minor": 0
      },
      "text/plain": [
       "Retrieving ThermoDoc documents:   0%|          | 0/245 [00:00<?, ?it/s]"
      ]
     },
     "metadata": {},
     "output_type": "display_data"
    },
    {
     "name": "stdout",
     "output_type": "stream",
     "text": [
      "Percent complete: 33.33%\n"
     ]
    },
    {
     "data": {
      "application/vnd.jupyter.widget-view+json": {
       "model_id": "2a225ebfc9884190a7ee0971a1c54c4e",
       "version_major": 2,
       "version_minor": 0
      },
      "text/plain": [
       "Retrieving ThermoDoc documents:   0%|          | 0/390 [00:00<?, ?it/s]"
      ]
     },
     "metadata": {},
     "output_type": "display_data"
    },
    {
     "name": "stdout",
     "output_type": "stream",
     "text": [
      "Percent complete: 34.29%\n"
     ]
    },
    {
     "data": {
      "application/vnd.jupyter.widget-view+json": {
       "model_id": "e771b914560e4daf9f956acc2d3d80cd",
       "version_major": 2,
       "version_minor": 0
      },
      "text/plain": [
       "Retrieving ThermoDoc documents:   0%|          | 0/293 [00:00<?, ?it/s]"
      ]
     },
     "metadata": {},
     "output_type": "display_data"
    },
    {
     "name": "stdout",
     "output_type": "stream",
     "text": [
      "Percent complete: 35.24%\n"
     ]
    },
    {
     "data": {
      "application/vnd.jupyter.widget-view+json": {
       "model_id": "cb314163ea2b4aab98fd7bc483955d77",
       "version_major": 2,
       "version_minor": 0
      },
      "text/plain": [
       "Retrieving ThermoDoc documents:   0%|          | 0/865 [00:00<?, ?it/s]"
      ]
     },
     "metadata": {},
     "output_type": "display_data"
    },
    {
     "name": "stdout",
     "output_type": "stream",
     "text": [
      "Percent complete: 36.19%\n"
     ]
    },
    {
     "data": {
      "application/vnd.jupyter.widget-view+json": {
       "model_id": "4b24ee6d9d1d44a786f44fc5adbdf6e5",
       "version_major": 2,
       "version_minor": 0
      },
      "text/plain": [
       "Retrieving ThermoDoc documents:   0%|          | 0/865 [00:00<?, ?it/s]"
      ]
     },
     "metadata": {},
     "output_type": "display_data"
    },
    {
     "name": "stdout",
     "output_type": "stream",
     "text": [
      "Percent complete: 37.14%\n"
     ]
    },
    {
     "data": {
      "application/vnd.jupyter.widget-view+json": {
       "model_id": "78cba63fef7b450b973a5e280d0c1acc",
       "version_major": 2,
       "version_minor": 0
      },
      "text/plain": [
       "Retrieving ThermoDoc documents:   0%|          | 0/385 [00:00<?, ?it/s]"
      ]
     },
     "metadata": {},
     "output_type": "display_data"
    },
    {
     "name": "stdout",
     "output_type": "stream",
     "text": [
      "Percent complete: 38.10%\n"
     ]
    },
    {
     "data": {
      "application/vnd.jupyter.widget-view+json": {
       "model_id": "f08204153be2479893a48f708aa38fcd",
       "version_major": 2,
       "version_minor": 0
      },
      "text/plain": [
       "Retrieving ThermoDoc documents:   0%|          | 0/433 [00:00<?, ?it/s]"
      ]
     },
     "metadata": {},
     "output_type": "display_data"
    },
    {
     "name": "stdout",
     "output_type": "stream",
     "text": [
      "Percent complete: 39.05%\n"
     ]
    },
    {
     "data": {
      "application/vnd.jupyter.widget-view+json": {
       "model_id": "7a5f9c7271d3477d93350559b123831d",
       "version_major": 2,
       "version_minor": 0
      },
      "text/plain": [
       "Retrieving ThermoDoc documents:   0%|          | 0/319 [00:00<?, ?it/s]"
      ]
     },
     "metadata": {},
     "output_type": "display_data"
    },
    {
     "name": "stdout",
     "output_type": "stream",
     "text": [
      "Percent complete: 40.00%\n"
     ]
    },
    {
     "data": {
      "application/vnd.jupyter.widget-view+json": {
       "model_id": "783c29e6ec2b44e09912511a35e0e674",
       "version_major": 2,
       "version_minor": 0
      },
      "text/plain": [
       "Retrieving ThermoDoc documents:   0%|          | 0/174 [00:00<?, ?it/s]"
      ]
     },
     "metadata": {},
     "output_type": "display_data"
    },
    {
     "name": "stdout",
     "output_type": "stream",
     "text": [
      "Percent complete: 40.95%\n"
     ]
    },
    {
     "data": {
      "application/vnd.jupyter.widget-view+json": {
       "model_id": "2b5bb91f887e4a3a8b0b95ea9b97eef6",
       "version_major": 2,
       "version_minor": 0
      },
      "text/plain": [
       "Retrieving ThermoDoc documents:   0%|          | 0/161 [00:00<?, ?it/s]"
      ]
     },
     "metadata": {},
     "output_type": "display_data"
    },
    {
     "name": "stdout",
     "output_type": "stream",
     "text": [
      "Percent complete: 41.90%\n"
     ]
    },
    {
     "data": {
      "application/vnd.jupyter.widget-view+json": {
       "model_id": "5ef3810fc8d34eca98d97a3f81d9e593",
       "version_major": 2,
       "version_minor": 0
      },
      "text/plain": [
       "Retrieving ThermoDoc documents:   0%|          | 0/237 [00:00<?, ?it/s]"
      ]
     },
     "metadata": {},
     "output_type": "display_data"
    },
    {
     "name": "stdout",
     "output_type": "stream",
     "text": [
      "Percent complete: 42.86%\n"
     ]
    },
    {
     "data": {
      "application/vnd.jupyter.widget-view+json": {
       "model_id": "69c97415685d40cd87842717f63fb704",
       "version_major": 2,
       "version_minor": 0
      },
      "text/plain": [
       "Retrieving ThermoDoc documents:   0%|          | 0/390 [00:00<?, ?it/s]"
      ]
     },
     "metadata": {},
     "output_type": "display_data"
    },
    {
     "name": "stdout",
     "output_type": "stream",
     "text": [
      "Percent complete: 43.81%\n"
     ]
    },
    {
     "data": {
      "application/vnd.jupyter.widget-view+json": {
       "model_id": "a83e693a412d4d7b945c17857e05f3cc",
       "version_major": 2,
       "version_minor": 0
      },
      "text/plain": [
       "Retrieving ThermoDoc documents:   0%|          | 0/184 [00:00<?, ?it/s]"
      ]
     },
     "metadata": {},
     "output_type": "display_data"
    },
    {
     "name": "stdout",
     "output_type": "stream",
     "text": [
      "Percent complete: 44.76%\n"
     ]
    },
    {
     "data": {
      "application/vnd.jupyter.widget-view+json": {
       "model_id": "0b651a2e00154b5c987abe45a1d2febd",
       "version_major": 2,
       "version_minor": 0
      },
      "text/plain": [
       "Retrieving ThermoDoc documents:   0%|          | 0/184 [00:00<?, ?it/s]"
      ]
     },
     "metadata": {},
     "output_type": "display_data"
    },
    {
     "name": "stdout",
     "output_type": "stream",
     "text": [
      "Percent complete: 45.71%\n"
     ]
    },
    {
     "data": {
      "application/vnd.jupyter.widget-view+json": {
       "model_id": "9d5ff51925104af9a96685ebf72dea89",
       "version_major": 2,
       "version_minor": 0
      },
      "text/plain": [
       "Retrieving ThermoDoc documents:   0%|          | 0/198 [00:00<?, ?it/s]"
      ]
     },
     "metadata": {},
     "output_type": "display_data"
    },
    {
     "name": "stdout",
     "output_type": "stream",
     "text": [
      "Percent complete: 46.67%\n"
     ]
    },
    {
     "data": {
      "application/vnd.jupyter.widget-view+json": {
       "model_id": "ad075f2445c74be9aa39d98d61143e7e",
       "version_major": 2,
       "version_minor": 0
      },
      "text/plain": [
       "Retrieving ThermoDoc documents:   0%|          | 0/198 [00:00<?, ?it/s]"
      ]
     },
     "metadata": {},
     "output_type": "display_data"
    },
    {
     "name": "stdout",
     "output_type": "stream",
     "text": [
      "Percent complete: 47.62%\n"
     ]
    },
    {
     "data": {
      "application/vnd.jupyter.widget-view+json": {
       "model_id": "b61e934cf2c94a6eaa73e342469a2fe1",
       "version_major": 2,
       "version_minor": 0
      },
      "text/plain": [
       "Retrieving ThermoDoc documents:   0%|          | 0/188 [00:00<?, ?it/s]"
      ]
     },
     "metadata": {},
     "output_type": "display_data"
    },
    {
     "name": "stdout",
     "output_type": "stream",
     "text": [
      "Percent complete: 48.57%\n"
     ]
    },
    {
     "data": {
      "application/vnd.jupyter.widget-view+json": {
       "model_id": "f823f1f80ca149518aff02205924e408",
       "version_major": 2,
       "version_minor": 0
      },
      "text/plain": [
       "Retrieving ThermoDoc documents:   0%|          | 0/231 [00:00<?, ?it/s]"
      ]
     },
     "metadata": {},
     "output_type": "display_data"
    },
    {
     "name": "stdout",
     "output_type": "stream",
     "text": [
      "Percent complete: 49.52%\n"
     ]
    },
    {
     "data": {
      "application/vnd.jupyter.widget-view+json": {
       "model_id": "0ef883f5da36493b9e8d1e0ed17b2574",
       "version_major": 2,
       "version_minor": 0
      },
      "text/plain": [
       "Retrieving ThermoDoc documents:   0%|          | 0/201 [00:00<?, ?it/s]"
      ]
     },
     "metadata": {},
     "output_type": "display_data"
    },
    {
     "name": "stdout",
     "output_type": "stream",
     "text": [
      "Percent complete: 50.48%\n"
     ]
    },
    {
     "data": {
      "application/vnd.jupyter.widget-view+json": {
       "model_id": "c55f70fc24d4436cb2de2f423684bbac",
       "version_major": 2,
       "version_minor": 0
      },
      "text/plain": [
       "Retrieving ThermoDoc documents:   0%|          | 0/268 [00:00<?, ?it/s]"
      ]
     },
     "metadata": {},
     "output_type": "display_data"
    },
    {
     "name": "stdout",
     "output_type": "stream",
     "text": [
      "Percent complete: 51.43%\n"
     ]
    },
    {
     "data": {
      "application/vnd.jupyter.widget-view+json": {
       "model_id": "9b74a0a668224cb982b45887a5d0c0d1",
       "version_major": 2,
       "version_minor": 0
      },
      "text/plain": [
       "Retrieving ThermoDoc documents:   0%|          | 0/901 [00:00<?, ?it/s]"
      ]
     },
     "metadata": {},
     "output_type": "display_data"
    },
    {
     "name": "stdout",
     "output_type": "stream",
     "text": [
      "Percent complete: 52.38%\n"
     ]
    },
    {
     "data": {
      "application/vnd.jupyter.widget-view+json": {
       "model_id": "4acc39b4b63a4b3981b82db4f133f73d",
       "version_major": 2,
       "version_minor": 0
      },
      "text/plain": [
       "Retrieving ThermoDoc documents:   0%|          | 0/459 [00:00<?, ?it/s]"
      ]
     },
     "metadata": {},
     "output_type": "display_data"
    },
    {
     "name": "stdout",
     "output_type": "stream",
     "text": [
      "Percent complete: 53.33%\n"
     ]
    },
    {
     "data": {
      "application/vnd.jupyter.widget-view+json": {
       "model_id": "7b6d2e5252a84601a967867a60454165",
       "version_major": 2,
       "version_minor": 0
      },
      "text/plain": [
       "Retrieving ThermoDoc documents:   0%|          | 0/441 [00:00<?, ?it/s]"
      ]
     },
     "metadata": {},
     "output_type": "display_data"
    },
    {
     "name": "stdout",
     "output_type": "stream",
     "text": [
      "Percent complete: 54.29%\n"
     ]
    },
    {
     "data": {
      "application/vnd.jupyter.widget-view+json": {
       "model_id": "9b721d7c6ce3488a9c247a901c3ae15a",
       "version_major": 2,
       "version_minor": 0
      },
      "text/plain": [
       "Retrieving ThermoDoc documents:   0%|          | 0/269 [00:00<?, ?it/s]"
      ]
     },
     "metadata": {},
     "output_type": "display_data"
    },
    {
     "name": "stdout",
     "output_type": "stream",
     "text": [
      "Percent complete: 55.24%\n"
     ]
    },
    {
     "data": {
      "application/vnd.jupyter.widget-view+json": {
       "model_id": "d08dc33973aa4a0ab4ec93f82cefc033",
       "version_major": 2,
       "version_minor": 0
      },
      "text/plain": [
       "Retrieving ThermoDoc documents:   0%|          | 0/269 [00:00<?, ?it/s]"
      ]
     },
     "metadata": {},
     "output_type": "display_data"
    },
    {
     "name": "stdout",
     "output_type": "stream",
     "text": [
      "Percent complete: 56.19%\n"
     ]
    },
    {
     "data": {
      "application/vnd.jupyter.widget-view+json": {
       "model_id": "aa578e110f574075abd11b320330b9b9",
       "version_major": 2,
       "version_minor": 0
      },
      "text/plain": [
       "Retrieving ThermoDoc documents:   0%|          | 0/275 [00:00<?, ?it/s]"
      ]
     },
     "metadata": {},
     "output_type": "display_data"
    },
    {
     "name": "stdout",
     "output_type": "stream",
     "text": [
      "Percent complete: 57.14%\n"
     ]
    },
    {
     "data": {
      "application/vnd.jupyter.widget-view+json": {
       "model_id": "ed9eec935f1749e58d0ffd89e692204b",
       "version_major": 2,
       "version_minor": 0
      },
      "text/plain": [
       "Retrieving ThermoDoc documents:   0%|          | 0/323 [00:00<?, ?it/s]"
      ]
     },
     "metadata": {},
     "output_type": "display_data"
    },
    {
     "name": "stdout",
     "output_type": "stream",
     "text": [
      "Percent complete: 58.10%\n"
     ]
    },
    {
     "data": {
      "application/vnd.jupyter.widget-view+json": {
       "model_id": "cd9bb805590a40309d8b8bda29270dbc",
       "version_major": 2,
       "version_minor": 0
      },
      "text/plain": [
       "Retrieving ThermoDoc documents:   0%|          | 0/191 [00:00<?, ?it/s]"
      ]
     },
     "metadata": {},
     "output_type": "display_data"
    },
    {
     "name": "stdout",
     "output_type": "stream",
     "text": [
      "Percent complete: 59.05%\n"
     ]
    },
    {
     "data": {
      "application/vnd.jupyter.widget-view+json": {
       "model_id": "50af245c21cb40f9a46e5928239a1802",
       "version_major": 2,
       "version_minor": 0
      },
      "text/plain": [
       "Retrieving ThermoDoc documents:   0%|          | 0/370 [00:00<?, ?it/s]"
      ]
     },
     "metadata": {},
     "output_type": "display_data"
    },
    {
     "name": "stdout",
     "output_type": "stream",
     "text": [
      "Percent complete: 60.00%\n"
     ]
    },
    {
     "data": {
      "application/vnd.jupyter.widget-view+json": {
       "model_id": "fbd0c84b680f401a91d44052ddd6543f",
       "version_major": 2,
       "version_minor": 0
      },
      "text/plain": [
       "Retrieving ThermoDoc documents:   0%|          | 0/234 [00:00<?, ?it/s]"
      ]
     },
     "metadata": {},
     "output_type": "display_data"
    },
    {
     "name": "stdout",
     "output_type": "stream",
     "text": [
      "Percent complete: 60.95%\n"
     ]
    },
    {
     "data": {
      "application/vnd.jupyter.widget-view+json": {
       "model_id": "c51a62af98924ffcb1b2ff2d75bede64",
       "version_major": 2,
       "version_minor": 0
      },
      "text/plain": [
       "Retrieving ThermoDoc documents:   0%|          | 0/352 [00:00<?, ?it/s]"
      ]
     },
     "metadata": {},
     "output_type": "display_data"
    },
    {
     "name": "stderr",
     "output_type": "stream",
     "text": [
      "spglib: ssm_get_exact_positions failed (attempt=0). (line 115, /tmp/pip-install-58cw25xt/spglib_6207849ab7c64022b27925c813b8e5ef/src/site_symmetry.c).\n",
      "spglib: ssm_get_exact_positions failed (attempt=1). (line 115, /tmp/pip-install-58cw25xt/spglib_6207849ab7c64022b27925c813b8e5ef/src/site_symmetry.c).\n",
      "spglib: ssm_get_exact_positions failed (attempt=2). (line 115, /tmp/pip-install-58cw25xt/spglib_6207849ab7c64022b27925c813b8e5ef/src/site_symmetry.c).\n",
      "spglib: ssm_get_exact_positions failed (attempt=3). (line 115, /tmp/pip-install-58cw25xt/spglib_6207849ab7c64022b27925c813b8e5ef/src/site_symmetry.c).\n",
      "spglib: ssm_get_exact_positions failed (attempt=4). (line 115, /tmp/pip-install-58cw25xt/spglib_6207849ab7c64022b27925c813b8e5ef/src/site_symmetry.c).\n",
      "spglib: ssm_get_exact_positions failed. (line 479, /tmp/pip-install-58cw25xt/spglib_6207849ab7c64022b27925c813b8e5ef/src/refinement.c).\n",
      "spglib: get_bravais_exact_positions_and_lattice failed. (line 336, /tmp/pip-install-58cw25xt/spglib_6207849ab7c64022b27925c813b8e5ef/src/refinement.c).\n",
      "spglib: ref_get_exact_structure_and_symmetry failed. (line 82, /tmp/pip-install-58cw25xt/spglib_6207849ab7c64022b27925c813b8e5ef/src/determination.c).\n",
      "spglib: ssm_get_exact_positions failed (attempt=0). (line 115, /tmp/pip-install-58cw25xt/spglib_6207849ab7c64022b27925c813b8e5ef/src/site_symmetry.c).\n",
      "spglib: ssm_get_exact_positions failed (attempt=1). (line 115, /tmp/pip-install-58cw25xt/spglib_6207849ab7c64022b27925c813b8e5ef/src/site_symmetry.c).\n",
      "spglib: ssm_get_exact_positions failed (attempt=2). (line 115, /tmp/pip-install-58cw25xt/spglib_6207849ab7c64022b27925c813b8e5ef/src/site_symmetry.c).\n",
      "spglib: ssm_get_exact_positions failed (attempt=3). (line 115, /tmp/pip-install-58cw25xt/spglib_6207849ab7c64022b27925c813b8e5ef/src/site_symmetry.c).\n",
      "spglib: ssm_get_exact_positions failed (attempt=4). (line 115, /tmp/pip-install-58cw25xt/spglib_6207849ab7c64022b27925c813b8e5ef/src/site_symmetry.c).\n",
      "spglib: ssm_get_exact_positions failed. (line 479, /tmp/pip-install-58cw25xt/spglib_6207849ab7c64022b27925c813b8e5ef/src/refinement.c).\n",
      "spglib: get_bravais_exact_positions_and_lattice failed. (line 336, /tmp/pip-install-58cw25xt/spglib_6207849ab7c64022b27925c813b8e5ef/src/refinement.c).\n",
      "spglib: ref_get_exact_structure_and_symmetry failed. (line 82, /tmp/pip-install-58cw25xt/spglib_6207849ab7c64022b27925c813b8e5ef/src/determination.c).\n",
      "spglib: ssm_get_exact_positions failed (attempt=0). (line 115, /tmp/pip-install-58cw25xt/spglib_6207849ab7c64022b27925c813b8e5ef/src/site_symmetry.c).\n",
      "spglib: ssm_get_exact_positions failed (attempt=1). (line 115, /tmp/pip-install-58cw25xt/spglib_6207849ab7c64022b27925c813b8e5ef/src/site_symmetry.c).\n",
      "spglib: ssm_get_exact_positions failed (attempt=2). (line 115, /tmp/pip-install-58cw25xt/spglib_6207849ab7c64022b27925c813b8e5ef/src/site_symmetry.c).\n",
      "spglib: ssm_get_exact_positions failed (attempt=3). (line 115, /tmp/pip-install-58cw25xt/spglib_6207849ab7c64022b27925c813b8e5ef/src/site_symmetry.c).\n",
      "spglib: ssm_get_exact_positions failed (attempt=4). (line 115, /tmp/pip-install-58cw25xt/spglib_6207849ab7c64022b27925c813b8e5ef/src/site_symmetry.c).\n",
      "spglib: ssm_get_exact_positions failed. (line 479, /tmp/pip-install-58cw25xt/spglib_6207849ab7c64022b27925c813b8e5ef/src/refinement.c).\n",
      "spglib: get_bravais_exact_positions_and_lattice failed. (line 336, /tmp/pip-install-58cw25xt/spglib_6207849ab7c64022b27925c813b8e5ef/src/refinement.c).\n",
      "spglib: ref_get_exact_structure_and_symmetry failed. (line 82, /tmp/pip-install-58cw25xt/spglib_6207849ab7c64022b27925c813b8e5ef/src/determination.c).\n",
      "spglib: ssm_get_exact_positions failed (attempt=0). (line 115, /tmp/pip-install-58cw25xt/spglib_6207849ab7c64022b27925c813b8e5ef/src/site_symmetry.c).\n",
      "spglib: ssm_get_exact_positions failed (attempt=1). (line 115, /tmp/pip-install-58cw25xt/spglib_6207849ab7c64022b27925c813b8e5ef/src/site_symmetry.c).\n",
      "spglib: ssm_get_exact_positions failed (attempt=2). (line 115, /tmp/pip-install-58cw25xt/spglib_6207849ab7c64022b27925c813b8e5ef/src/site_symmetry.c).\n",
      "spglib: ssm_get_exact_positions failed (attempt=3). (line 115, /tmp/pip-install-58cw25xt/spglib_6207849ab7c64022b27925c813b8e5ef/src/site_symmetry.c).\n",
      "spglib: ssm_get_exact_positions failed (attempt=4). (line 115, /tmp/pip-install-58cw25xt/spglib_6207849ab7c64022b27925c813b8e5ef/src/site_symmetry.c).\n",
      "spglib: ssm_get_exact_positions failed. (line 479, /tmp/pip-install-58cw25xt/spglib_6207849ab7c64022b27925c813b8e5ef/src/refinement.c).\n",
      "spglib: get_bravais_exact_positions_and_lattice failed. (line 336, /tmp/pip-install-58cw25xt/spglib_6207849ab7c64022b27925c813b8e5ef/src/refinement.c).\n",
      "spglib: ref_get_exact_structure_and_symmetry failed. (line 82, /tmp/pip-install-58cw25xt/spglib_6207849ab7c64022b27925c813b8e5ef/src/determination.c).\n",
      "spglib: ssm_get_exact_positions failed (attempt=0). (line 115, /tmp/pip-install-58cw25xt/spglib_6207849ab7c64022b27925c813b8e5ef/src/site_symmetry.c).\n",
      "spglib: ssm_get_exact_positions failed (attempt=1). (line 115, /tmp/pip-install-58cw25xt/spglib_6207849ab7c64022b27925c813b8e5ef/src/site_symmetry.c).\n",
      "spglib: ssm_get_exact_positions failed (attempt=2). (line 115, /tmp/pip-install-58cw25xt/spglib_6207849ab7c64022b27925c813b8e5ef/src/site_symmetry.c).\n",
      "spglib: ssm_get_exact_positions failed (attempt=3). (line 115, /tmp/pip-install-58cw25xt/spglib_6207849ab7c64022b27925c813b8e5ef/src/site_symmetry.c).\n",
      "spglib: ssm_get_exact_positions failed (attempt=4). (line 115, /tmp/pip-install-58cw25xt/spglib_6207849ab7c64022b27925c813b8e5ef/src/site_symmetry.c).\n",
      "spglib: ssm_get_exact_positions failed. (line 479, /tmp/pip-install-58cw25xt/spglib_6207849ab7c64022b27925c813b8e5ef/src/refinement.c).\n",
      "spglib: get_bravais_exact_positions_and_lattice failed. (line 336, /tmp/pip-install-58cw25xt/spglib_6207849ab7c64022b27925c813b8e5ef/src/refinement.c).\n",
      "spglib: ref_get_exact_structure_and_symmetry failed. (line 82, /tmp/pip-install-58cw25xt/spglib_6207849ab7c64022b27925c813b8e5ef/src/determination.c).\n",
      "spglib: ssm_get_exact_positions failed (attempt=0). (line 115, /tmp/pip-install-58cw25xt/spglib_6207849ab7c64022b27925c813b8e5ef/src/site_symmetry.c).\n",
      "spglib: ssm_get_exact_positions failed (attempt=1). (line 115, /tmp/pip-install-58cw25xt/spglib_6207849ab7c64022b27925c813b8e5ef/src/site_symmetry.c).\n",
      "spglib: ssm_get_exact_positions failed (attempt=2). (line 115, /tmp/pip-install-58cw25xt/spglib_6207849ab7c64022b27925c813b8e5ef/src/site_symmetry.c).\n",
      "spglib: ssm_get_exact_positions failed (attempt=3). (line 115, /tmp/pip-install-58cw25xt/spglib_6207849ab7c64022b27925c813b8e5ef/src/site_symmetry.c).\n",
      "spglib: ssm_get_exact_positions failed (attempt=4). (line 115, /tmp/pip-install-58cw25xt/spglib_6207849ab7c64022b27925c813b8e5ef/src/site_symmetry.c).\n",
      "spglib: ssm_get_exact_positions failed. (line 479, /tmp/pip-install-58cw25xt/spglib_6207849ab7c64022b27925c813b8e5ef/src/refinement.c).\n",
      "spglib: get_bravais_exact_positions_and_lattice failed. (line 336, /tmp/pip-install-58cw25xt/spglib_6207849ab7c64022b27925c813b8e5ef/src/refinement.c).\n",
      "spglib: ref_get_exact_structure_and_symmetry failed. (line 82, /tmp/pip-install-58cw25xt/spglib_6207849ab7c64022b27925c813b8e5ef/src/determination.c).\n",
      "spglib: ssm_get_exact_positions failed (attempt=0). (line 115, /tmp/pip-install-58cw25xt/spglib_6207849ab7c64022b27925c813b8e5ef/src/site_symmetry.c).\n",
      "spglib: ssm_get_exact_positions failed (attempt=1). (line 115, /tmp/pip-install-58cw25xt/spglib_6207849ab7c64022b27925c813b8e5ef/src/site_symmetry.c).\n",
      "spglib: ssm_get_exact_positions failed (attempt=2). (line 115, /tmp/pip-install-58cw25xt/spglib_6207849ab7c64022b27925c813b8e5ef/src/site_symmetry.c).\n",
      "spglib: ssm_get_exact_positions failed (attempt=3). (line 115, /tmp/pip-install-58cw25xt/spglib_6207849ab7c64022b27925c813b8e5ef/src/site_symmetry.c).\n",
      "spglib: ssm_get_exact_positions failed (attempt=4). (line 115, /tmp/pip-install-58cw25xt/spglib_6207849ab7c64022b27925c813b8e5ef/src/site_symmetry.c).\n",
      "spglib: ssm_get_exact_positions failed. (line 479, /tmp/pip-install-58cw25xt/spglib_6207849ab7c64022b27925c813b8e5ef/src/refinement.c).\n",
      "spglib: get_bravais_exact_positions_and_lattice failed. (line 336, /tmp/pip-install-58cw25xt/spglib_6207849ab7c64022b27925c813b8e5ef/src/refinement.c).\n",
      "spglib: ref_get_exact_structure_and_symmetry failed. (line 82, /tmp/pip-install-58cw25xt/spglib_6207849ab7c64022b27925c813b8e5ef/src/determination.c).\n",
      "spglib: ssm_get_exact_positions failed (attempt=0). (line 115, /tmp/pip-install-58cw25xt/spglib_6207849ab7c64022b27925c813b8e5ef/src/site_symmetry.c).\n",
      "spglib: ssm_get_exact_positions failed (attempt=1). (line 115, /tmp/pip-install-58cw25xt/spglib_6207849ab7c64022b27925c813b8e5ef/src/site_symmetry.c).\n",
      "spglib: ssm_get_exact_positions failed (attempt=2). (line 115, /tmp/pip-install-58cw25xt/spglib_6207849ab7c64022b27925c813b8e5ef/src/site_symmetry.c).\n",
      "spglib: ssm_get_exact_positions failed (attempt=3). (line 115, /tmp/pip-install-58cw25xt/spglib_6207849ab7c64022b27925c813b8e5ef/src/site_symmetry.c).\n",
      "spglib: ssm_get_exact_positions failed (attempt=4). (line 115, /tmp/pip-install-58cw25xt/spglib_6207849ab7c64022b27925c813b8e5ef/src/site_symmetry.c).\n",
      "spglib: ssm_get_exact_positions failed. (line 479, /tmp/pip-install-58cw25xt/spglib_6207849ab7c64022b27925c813b8e5ef/src/refinement.c).\n",
      "spglib: get_bravais_exact_positions_and_lattice failed. (line 336, /tmp/pip-install-58cw25xt/spglib_6207849ab7c64022b27925c813b8e5ef/src/refinement.c).\n",
      "spglib: ref_get_exact_structure_and_symmetry failed. (line 82, /tmp/pip-install-58cw25xt/spglib_6207849ab7c64022b27925c813b8e5ef/src/determination.c).\n",
      "spglib: ssm_get_exact_positions failed (attempt=0). (line 115, /tmp/pip-install-58cw25xt/spglib_6207849ab7c64022b27925c813b8e5ef/src/site_symmetry.c).\n",
      "spglib: ssm_get_exact_positions failed (attempt=1). (line 115, /tmp/pip-install-58cw25xt/spglib_6207849ab7c64022b27925c813b8e5ef/src/site_symmetry.c).\n",
      "spglib: ssm_get_exact_positions failed (attempt=2). (line 115, /tmp/pip-install-58cw25xt/spglib_6207849ab7c64022b27925c813b8e5ef/src/site_symmetry.c).\n",
      "spglib: ssm_get_exact_positions failed (attempt=3). (line 115, /tmp/pip-install-58cw25xt/spglib_6207849ab7c64022b27925c813b8e5ef/src/site_symmetry.c).\n",
      "spglib: ssm_get_exact_positions failed (attempt=4). (line 115, /tmp/pip-install-58cw25xt/spglib_6207849ab7c64022b27925c813b8e5ef/src/site_symmetry.c).\n",
      "spglib: ssm_get_exact_positions failed. (line 479, /tmp/pip-install-58cw25xt/spglib_6207849ab7c64022b27925c813b8e5ef/src/refinement.c).\n",
      "spglib: get_bravais_exact_positions_and_lattice failed. (line 336, /tmp/pip-install-58cw25xt/spglib_6207849ab7c64022b27925c813b8e5ef/src/refinement.c).\n",
      "spglib: ref_get_exact_structure_and_symmetry failed. (line 82, /tmp/pip-install-58cw25xt/spglib_6207849ab7c64022b27925c813b8e5ef/src/determination.c).\n",
      "spglib: ssm_get_exact_positions failed (attempt=0). (line 115, /tmp/pip-install-58cw25xt/spglib_6207849ab7c64022b27925c813b8e5ef/src/site_symmetry.c).\n",
      "spglib: ssm_get_exact_positions failed (attempt=1). (line 115, /tmp/pip-install-58cw25xt/spglib_6207849ab7c64022b27925c813b8e5ef/src/site_symmetry.c).\n",
      "spglib: ssm_get_exact_positions failed (attempt=2). (line 115, /tmp/pip-install-58cw25xt/spglib_6207849ab7c64022b27925c813b8e5ef/src/site_symmetry.c).\n",
      "spglib: ssm_get_exact_positions failed (attempt=3). (line 115, /tmp/pip-install-58cw25xt/spglib_6207849ab7c64022b27925c813b8e5ef/src/site_symmetry.c).\n",
      "spglib: ssm_get_exact_positions failed (attempt=4). (line 115, /tmp/pip-install-58cw25xt/spglib_6207849ab7c64022b27925c813b8e5ef/src/site_symmetry.c).\n",
      "spglib: ssm_get_exact_positions failed. (line 479, /tmp/pip-install-58cw25xt/spglib_6207849ab7c64022b27925c813b8e5ef/src/refinement.c).\n",
      "spglib: get_bravais_exact_positions_and_lattice failed. (line 336, /tmp/pip-install-58cw25xt/spglib_6207849ab7c64022b27925c813b8e5ef/src/refinement.c).\n",
      "spglib: ref_get_exact_structure_and_symmetry failed. (line 82, /tmp/pip-install-58cw25xt/spglib_6207849ab7c64022b27925c813b8e5ef/src/determination.c).\n",
      "spglib: ssm_get_exact_positions failed (attempt=0). (line 115, /tmp/pip-install-58cw25xt/spglib_6207849ab7c64022b27925c813b8e5ef/src/site_symmetry.c).\n",
      "spglib: ssm_get_exact_positions failed (attempt=1). (line 115, /tmp/pip-install-58cw25xt/spglib_6207849ab7c64022b27925c813b8e5ef/src/site_symmetry.c).\n",
      "spglib: ssm_get_exact_positions failed (attempt=2). (line 115, /tmp/pip-install-58cw25xt/spglib_6207849ab7c64022b27925c813b8e5ef/src/site_symmetry.c).\n",
      "spglib: ssm_get_exact_positions failed (attempt=3). (line 115, /tmp/pip-install-58cw25xt/spglib_6207849ab7c64022b27925c813b8e5ef/src/site_symmetry.c).\n",
      "spglib: ssm_get_exact_positions failed (attempt=4). (line 115, /tmp/pip-install-58cw25xt/spglib_6207849ab7c64022b27925c813b8e5ef/src/site_symmetry.c).\n",
      "spglib: ssm_get_exact_positions failed. (line 479, /tmp/pip-install-58cw25xt/spglib_6207849ab7c64022b27925c813b8e5ef/src/refinement.c).\n",
      "spglib: get_bravais_exact_positions_and_lattice failed. (line 336, /tmp/pip-install-58cw25xt/spglib_6207849ab7c64022b27925c813b8e5ef/src/refinement.c).\n",
      "spglib: ref_get_exact_structure_and_symmetry failed. (line 82, /tmp/pip-install-58cw25xt/spglib_6207849ab7c64022b27925c813b8e5ef/src/determination.c).\n",
      "spglib: ssm_get_exact_positions failed (attempt=0). (line 115, /tmp/pip-install-58cw25xt/spglib_6207849ab7c64022b27925c813b8e5ef/src/site_symmetry.c).\n",
      "spglib: ssm_get_exact_positions failed (attempt=1). (line 115, /tmp/pip-install-58cw25xt/spglib_6207849ab7c64022b27925c813b8e5ef/src/site_symmetry.c).\n",
      "spglib: ssm_get_exact_positions failed (attempt=2). (line 115, /tmp/pip-install-58cw25xt/spglib_6207849ab7c64022b27925c813b8e5ef/src/site_symmetry.c).\n",
      "spglib: ssm_get_exact_positions failed (attempt=3). (line 115, /tmp/pip-install-58cw25xt/spglib_6207849ab7c64022b27925c813b8e5ef/src/site_symmetry.c).\n",
      "spglib: ssm_get_exact_positions failed (attempt=4). (line 115, /tmp/pip-install-58cw25xt/spglib_6207849ab7c64022b27925c813b8e5ef/src/site_symmetry.c).\n",
      "spglib: ssm_get_exact_positions failed. (line 479, /tmp/pip-install-58cw25xt/spglib_6207849ab7c64022b27925c813b8e5ef/src/refinement.c).\n",
      "spglib: get_bravais_exact_positions_and_lattice failed. (line 336, /tmp/pip-install-58cw25xt/spglib_6207849ab7c64022b27925c813b8e5ef/src/refinement.c).\n",
      "spglib: ref_get_exact_structure_and_symmetry failed. (line 82, /tmp/pip-install-58cw25xt/spglib_6207849ab7c64022b27925c813b8e5ef/src/determination.c).\n",
      "spglib: ssm_get_exact_positions failed (attempt=0). (line 115, /tmp/pip-install-58cw25xt/spglib_6207849ab7c64022b27925c813b8e5ef/src/site_symmetry.c).\n",
      "spglib: ssm_get_exact_positions failed (attempt=1). (line 115, /tmp/pip-install-58cw25xt/spglib_6207849ab7c64022b27925c813b8e5ef/src/site_symmetry.c).\n",
      "spglib: ssm_get_exact_positions failed (attempt=2). (line 115, /tmp/pip-install-58cw25xt/spglib_6207849ab7c64022b27925c813b8e5ef/src/site_symmetry.c).\n",
      "spglib: ssm_get_exact_positions failed (attempt=3). (line 115, /tmp/pip-install-58cw25xt/spglib_6207849ab7c64022b27925c813b8e5ef/src/site_symmetry.c).\n",
      "spglib: ssm_get_exact_positions failed (attempt=4). (line 115, /tmp/pip-install-58cw25xt/spglib_6207849ab7c64022b27925c813b8e5ef/src/site_symmetry.c).\n",
      "spglib: ssm_get_exact_positions failed. (line 479, /tmp/pip-install-58cw25xt/spglib_6207849ab7c64022b27925c813b8e5ef/src/refinement.c).\n",
      "spglib: get_bravais_exact_positions_and_lattice failed. (line 336, /tmp/pip-install-58cw25xt/spglib_6207849ab7c64022b27925c813b8e5ef/src/refinement.c).\n",
      "spglib: ref_get_exact_structure_and_symmetry failed. (line 82, /tmp/pip-install-58cw25xt/spglib_6207849ab7c64022b27925c813b8e5ef/src/determination.c).\n",
      "spglib: ssm_get_exact_positions failed (attempt=0). (line 115, /tmp/pip-install-58cw25xt/spglib_6207849ab7c64022b27925c813b8e5ef/src/site_symmetry.c).\n",
      "spglib: ssm_get_exact_positions failed (attempt=1). (line 115, /tmp/pip-install-58cw25xt/spglib_6207849ab7c64022b27925c813b8e5ef/src/site_symmetry.c).\n",
      "spglib: ssm_get_exact_positions failed (attempt=2). (line 115, /tmp/pip-install-58cw25xt/spglib_6207849ab7c64022b27925c813b8e5ef/src/site_symmetry.c).\n",
      "spglib: ssm_get_exact_positions failed (attempt=3). (line 115, /tmp/pip-install-58cw25xt/spglib_6207849ab7c64022b27925c813b8e5ef/src/site_symmetry.c).\n",
      "spglib: ssm_get_exact_positions failed (attempt=4). (line 115, /tmp/pip-install-58cw25xt/spglib_6207849ab7c64022b27925c813b8e5ef/src/site_symmetry.c).\n",
      "spglib: ssm_get_exact_positions failed. (line 479, /tmp/pip-install-58cw25xt/spglib_6207849ab7c64022b27925c813b8e5ef/src/refinement.c).\n",
      "spglib: get_bravais_exact_positions_and_lattice failed. (line 336, /tmp/pip-install-58cw25xt/spglib_6207849ab7c64022b27925c813b8e5ef/src/refinement.c).\n",
      "spglib: ref_get_exact_structure_and_symmetry failed. (line 82, /tmp/pip-install-58cw25xt/spglib_6207849ab7c64022b27925c813b8e5ef/src/determination.c).\n",
      "spglib: ssm_get_exact_positions failed (attempt=0). (line 115, /tmp/pip-install-58cw25xt/spglib_6207849ab7c64022b27925c813b8e5ef/src/site_symmetry.c).\n",
      "spglib: ssm_get_exact_positions failed (attempt=1). (line 115, /tmp/pip-install-58cw25xt/spglib_6207849ab7c64022b27925c813b8e5ef/src/site_symmetry.c).\n",
      "spglib: ssm_get_exact_positions failed (attempt=2). (line 115, /tmp/pip-install-58cw25xt/spglib_6207849ab7c64022b27925c813b8e5ef/src/site_symmetry.c).\n",
      "spglib: ssm_get_exact_positions failed (attempt=3). (line 115, /tmp/pip-install-58cw25xt/spglib_6207849ab7c64022b27925c813b8e5ef/src/site_symmetry.c).\n",
      "spglib: ssm_get_exact_positions failed (attempt=4). (line 115, /tmp/pip-install-58cw25xt/spglib_6207849ab7c64022b27925c813b8e5ef/src/site_symmetry.c).\n",
      "spglib: ssm_get_exact_positions failed. (line 479, /tmp/pip-install-58cw25xt/spglib_6207849ab7c64022b27925c813b8e5ef/src/refinement.c).\n",
      "spglib: get_bravais_exact_positions_and_lattice failed. (line 336, /tmp/pip-install-58cw25xt/spglib_6207849ab7c64022b27925c813b8e5ef/src/refinement.c).\n",
      "spglib: ref_get_exact_structure_and_symmetry failed. (line 82, /tmp/pip-install-58cw25xt/spglib_6207849ab7c64022b27925c813b8e5ef/src/determination.c).\n",
      "spglib: ssm_get_exact_positions failed (attempt=0). (line 115, /tmp/pip-install-58cw25xt/spglib_6207849ab7c64022b27925c813b8e5ef/src/site_symmetry.c).\n",
      "spglib: ssm_get_exact_positions failed (attempt=1). (line 115, /tmp/pip-install-58cw25xt/spglib_6207849ab7c64022b27925c813b8e5ef/src/site_symmetry.c).\n",
      "spglib: ssm_get_exact_positions failed (attempt=2). (line 115, /tmp/pip-install-58cw25xt/spglib_6207849ab7c64022b27925c813b8e5ef/src/site_symmetry.c).\n",
      "spglib: ssm_get_exact_positions failed (attempt=3). (line 115, /tmp/pip-install-58cw25xt/spglib_6207849ab7c64022b27925c813b8e5ef/src/site_symmetry.c).\n",
      "spglib: ssm_get_exact_positions failed (attempt=4). (line 115, /tmp/pip-install-58cw25xt/spglib_6207849ab7c64022b27925c813b8e5ef/src/site_symmetry.c).\n",
      "spglib: ssm_get_exact_positions failed. (line 479, /tmp/pip-install-58cw25xt/spglib_6207849ab7c64022b27925c813b8e5ef/src/refinement.c).\n",
      "spglib: get_bravais_exact_positions_and_lattice failed. (line 336, /tmp/pip-install-58cw25xt/spglib_6207849ab7c64022b27925c813b8e5ef/src/refinement.c).\n",
      "spglib: ref_get_exact_structure_and_symmetry failed. (line 82, /tmp/pip-install-58cw25xt/spglib_6207849ab7c64022b27925c813b8e5ef/src/determination.c).\n",
      "spglib: ssm_get_exact_positions failed (attempt=0). (line 115, /tmp/pip-install-58cw25xt/spglib_6207849ab7c64022b27925c813b8e5ef/src/site_symmetry.c).\n",
      "spglib: ssm_get_exact_positions failed (attempt=1). (line 115, /tmp/pip-install-58cw25xt/spglib_6207849ab7c64022b27925c813b8e5ef/src/site_symmetry.c).\n",
      "spglib: ssm_get_exact_positions failed (attempt=2). (line 115, /tmp/pip-install-58cw25xt/spglib_6207849ab7c64022b27925c813b8e5ef/src/site_symmetry.c).\n",
      "spglib: ssm_get_exact_positions failed (attempt=3). (line 115, /tmp/pip-install-58cw25xt/spglib_6207849ab7c64022b27925c813b8e5ef/src/site_symmetry.c).\n",
      "spglib: ssm_get_exact_positions failed (attempt=4). (line 115, /tmp/pip-install-58cw25xt/spglib_6207849ab7c64022b27925c813b8e5ef/src/site_symmetry.c).\n",
      "spglib: ssm_get_exact_positions failed. (line 479, /tmp/pip-install-58cw25xt/spglib_6207849ab7c64022b27925c813b8e5ef/src/refinement.c).\n",
      "spglib: get_bravais_exact_positions_and_lattice failed. (line 336, /tmp/pip-install-58cw25xt/spglib_6207849ab7c64022b27925c813b8e5ef/src/refinement.c).\n",
      "spglib: ref_get_exact_structure_and_symmetry failed. (line 82, /tmp/pip-install-58cw25xt/spglib_6207849ab7c64022b27925c813b8e5ef/src/determination.c).\n",
      "spglib: ssm_get_exact_positions failed (attempt=0). (line 115, /tmp/pip-install-58cw25xt/spglib_6207849ab7c64022b27925c813b8e5ef/src/site_symmetry.c).\n",
      "spglib: ssm_get_exact_positions failed (attempt=1). (line 115, /tmp/pip-install-58cw25xt/spglib_6207849ab7c64022b27925c813b8e5ef/src/site_symmetry.c).\n",
      "spglib: ssm_get_exact_positions failed (attempt=2). (line 115, /tmp/pip-install-58cw25xt/spglib_6207849ab7c64022b27925c813b8e5ef/src/site_symmetry.c).\n",
      "spglib: ssm_get_exact_positions failed (attempt=3). (line 115, /tmp/pip-install-58cw25xt/spglib_6207849ab7c64022b27925c813b8e5ef/src/site_symmetry.c).\n",
      "spglib: ssm_get_exact_positions failed (attempt=4). (line 115, /tmp/pip-install-58cw25xt/spglib_6207849ab7c64022b27925c813b8e5ef/src/site_symmetry.c).\n",
      "spglib: ssm_get_exact_positions failed. (line 479, /tmp/pip-install-58cw25xt/spglib_6207849ab7c64022b27925c813b8e5ef/src/refinement.c).\n",
      "spglib: get_bravais_exact_positions_and_lattice failed. (line 336, /tmp/pip-install-58cw25xt/spglib_6207849ab7c64022b27925c813b8e5ef/src/refinement.c).\n",
      "spglib: ref_get_exact_structure_and_symmetry failed. (line 82, /tmp/pip-install-58cw25xt/spglib_6207849ab7c64022b27925c813b8e5ef/src/determination.c).\n",
      "spglib: ssm_get_exact_positions failed (attempt=0). (line 115, /tmp/pip-install-58cw25xt/spglib_6207849ab7c64022b27925c813b8e5ef/src/site_symmetry.c).\n",
      "spglib: ssm_get_exact_positions failed (attempt=1). (line 115, /tmp/pip-install-58cw25xt/spglib_6207849ab7c64022b27925c813b8e5ef/src/site_symmetry.c).\n",
      "spglib: ssm_get_exact_positions failed (attempt=2). (line 115, /tmp/pip-install-58cw25xt/spglib_6207849ab7c64022b27925c813b8e5ef/src/site_symmetry.c).\n",
      "spglib: ssm_get_exact_positions failed (attempt=3). (line 115, /tmp/pip-install-58cw25xt/spglib_6207849ab7c64022b27925c813b8e5ef/src/site_symmetry.c).\n",
      "spglib: ssm_get_exact_positions failed (attempt=4). (line 115, /tmp/pip-install-58cw25xt/spglib_6207849ab7c64022b27925c813b8e5ef/src/site_symmetry.c).\n",
      "spglib: ssm_get_exact_positions failed. (line 479, /tmp/pip-install-58cw25xt/spglib_6207849ab7c64022b27925c813b8e5ef/src/refinement.c).\n",
      "spglib: get_bravais_exact_positions_and_lattice failed. (line 336, /tmp/pip-install-58cw25xt/spglib_6207849ab7c64022b27925c813b8e5ef/src/refinement.c).\n",
      "spglib: ref_get_exact_structure_and_symmetry failed. (line 82, /tmp/pip-install-58cw25xt/spglib_6207849ab7c64022b27925c813b8e5ef/src/determination.c).\n",
      "spglib: ssm_get_exact_positions failed (attempt=0). (line 115, /tmp/pip-install-58cw25xt/spglib_6207849ab7c64022b27925c813b8e5ef/src/site_symmetry.c).\n",
      "spglib: ssm_get_exact_positions failed (attempt=1). (line 115, /tmp/pip-install-58cw25xt/spglib_6207849ab7c64022b27925c813b8e5ef/src/site_symmetry.c).\n",
      "spglib: ssm_get_exact_positions failed (attempt=2). (line 115, /tmp/pip-install-58cw25xt/spglib_6207849ab7c64022b27925c813b8e5ef/src/site_symmetry.c).\n",
      "spglib: ssm_get_exact_positions failed (attempt=3). (line 115, /tmp/pip-install-58cw25xt/spglib_6207849ab7c64022b27925c813b8e5ef/src/site_symmetry.c).\n",
      "spglib: ssm_get_exact_positions failed (attempt=4). (line 115, /tmp/pip-install-58cw25xt/spglib_6207849ab7c64022b27925c813b8e5ef/src/site_symmetry.c).\n",
      "spglib: ssm_get_exact_positions failed. (line 479, /tmp/pip-install-58cw25xt/spglib_6207849ab7c64022b27925c813b8e5ef/src/refinement.c).\n",
      "spglib: get_bravais_exact_positions_and_lattice failed. (line 336, /tmp/pip-install-58cw25xt/spglib_6207849ab7c64022b27925c813b8e5ef/src/refinement.c).\n",
      "spglib: ref_get_exact_structure_and_symmetry failed. (line 82, /tmp/pip-install-58cw25xt/spglib_6207849ab7c64022b27925c813b8e5ef/src/determination.c).\n",
      "spglib: ssm_get_exact_positions failed (attempt=0). (line 115, /tmp/pip-install-58cw25xt/spglib_6207849ab7c64022b27925c813b8e5ef/src/site_symmetry.c).\n",
      "spglib: ssm_get_exact_positions failed (attempt=1). (line 115, /tmp/pip-install-58cw25xt/spglib_6207849ab7c64022b27925c813b8e5ef/src/site_symmetry.c).\n",
      "spglib: ssm_get_exact_positions failed (attempt=2). (line 115, /tmp/pip-install-58cw25xt/spglib_6207849ab7c64022b27925c813b8e5ef/src/site_symmetry.c).\n",
      "spglib: ssm_get_exact_positions failed (attempt=3). (line 115, /tmp/pip-install-58cw25xt/spglib_6207849ab7c64022b27925c813b8e5ef/src/site_symmetry.c).\n",
      "spglib: ssm_get_exact_positions failed (attempt=4). (line 115, /tmp/pip-install-58cw25xt/spglib_6207849ab7c64022b27925c813b8e5ef/src/site_symmetry.c).\n",
      "spglib: ssm_get_exact_positions failed. (line 479, /tmp/pip-install-58cw25xt/spglib_6207849ab7c64022b27925c813b8e5ef/src/refinement.c).\n",
      "spglib: get_bravais_exact_positions_and_lattice failed. (line 336, /tmp/pip-install-58cw25xt/spglib_6207849ab7c64022b27925c813b8e5ef/src/refinement.c).\n",
      "spglib: ref_get_exact_structure_and_symmetry failed. (line 82, /tmp/pip-install-58cw25xt/spglib_6207849ab7c64022b27925c813b8e5ef/src/determination.c).\n",
      "spglib: ssm_get_exact_positions failed (attempt=0). (line 115, /tmp/pip-install-58cw25xt/spglib_6207849ab7c64022b27925c813b8e5ef/src/site_symmetry.c).\n",
      "spglib: ssm_get_exact_positions failed (attempt=1). (line 115, /tmp/pip-install-58cw25xt/spglib_6207849ab7c64022b27925c813b8e5ef/src/site_symmetry.c).\n",
      "spglib: ssm_get_exact_positions failed (attempt=2). (line 115, /tmp/pip-install-58cw25xt/spglib_6207849ab7c64022b27925c813b8e5ef/src/site_symmetry.c).\n",
      "spglib: ssm_get_exact_positions failed (attempt=3). (line 115, /tmp/pip-install-58cw25xt/spglib_6207849ab7c64022b27925c813b8e5ef/src/site_symmetry.c).\n",
      "spglib: ssm_get_exact_positions failed (attempt=4). (line 115, /tmp/pip-install-58cw25xt/spglib_6207849ab7c64022b27925c813b8e5ef/src/site_symmetry.c).\n",
      "spglib: ssm_get_exact_positions failed. (line 479, /tmp/pip-install-58cw25xt/spglib_6207849ab7c64022b27925c813b8e5ef/src/refinement.c).\n",
      "spglib: get_bravais_exact_positions_and_lattice failed. (line 336, /tmp/pip-install-58cw25xt/spglib_6207849ab7c64022b27925c813b8e5ef/src/refinement.c).\n",
      "spglib: ref_get_exact_structure_and_symmetry failed. (line 82, /tmp/pip-install-58cw25xt/spglib_6207849ab7c64022b27925c813b8e5ef/src/determination.c).\n",
      "spglib: ssm_get_exact_positions failed (attempt=0). (line 115, /tmp/pip-install-58cw25xt/spglib_6207849ab7c64022b27925c813b8e5ef/src/site_symmetry.c).\n",
      "spglib: ssm_get_exact_positions failed (attempt=1). (line 115, /tmp/pip-install-58cw25xt/spglib_6207849ab7c64022b27925c813b8e5ef/src/site_symmetry.c).\n",
      "spglib: ssm_get_exact_positions failed (attempt=2). (line 115, /tmp/pip-install-58cw25xt/spglib_6207849ab7c64022b27925c813b8e5ef/src/site_symmetry.c).\n",
      "spglib: ssm_get_exact_positions failed (attempt=3). (line 115, /tmp/pip-install-58cw25xt/spglib_6207849ab7c64022b27925c813b8e5ef/src/site_symmetry.c).\n",
      "spglib: ssm_get_exact_positions failed (attempt=4). (line 115, /tmp/pip-install-58cw25xt/spglib_6207849ab7c64022b27925c813b8e5ef/src/site_symmetry.c).\n",
      "spglib: ssm_get_exact_positions failed. (line 479, /tmp/pip-install-58cw25xt/spglib_6207849ab7c64022b27925c813b8e5ef/src/refinement.c).\n",
      "spglib: get_bravais_exact_positions_and_lattice failed. (line 336, /tmp/pip-install-58cw25xt/spglib_6207849ab7c64022b27925c813b8e5ef/src/refinement.c).\n",
      "spglib: ref_get_exact_structure_and_symmetry failed. (line 82, /tmp/pip-install-58cw25xt/spglib_6207849ab7c64022b27925c813b8e5ef/src/determination.c).\n",
      "spglib: ssm_get_exact_positions failed (attempt=0). (line 115, /tmp/pip-install-58cw25xt/spglib_6207849ab7c64022b27925c813b8e5ef/src/site_symmetry.c).\n",
      "spglib: ssm_get_exact_positions failed (attempt=1). (line 115, /tmp/pip-install-58cw25xt/spglib_6207849ab7c64022b27925c813b8e5ef/src/site_symmetry.c).\n",
      "spglib: ssm_get_exact_positions failed (attempt=2). (line 115, /tmp/pip-install-58cw25xt/spglib_6207849ab7c64022b27925c813b8e5ef/src/site_symmetry.c).\n",
      "spglib: ssm_get_exact_positions failed (attempt=3). (line 115, /tmp/pip-install-58cw25xt/spglib_6207849ab7c64022b27925c813b8e5ef/src/site_symmetry.c).\n",
      "spglib: ssm_get_exact_positions failed (attempt=4). (line 115, /tmp/pip-install-58cw25xt/spglib_6207849ab7c64022b27925c813b8e5ef/src/site_symmetry.c).\n",
      "spglib: ssm_get_exact_positions failed. (line 479, /tmp/pip-install-58cw25xt/spglib_6207849ab7c64022b27925c813b8e5ef/src/refinement.c).\n",
      "spglib: get_bravais_exact_positions_and_lattice failed. (line 336, /tmp/pip-install-58cw25xt/spglib_6207849ab7c64022b27925c813b8e5ef/src/refinement.c).\n",
      "spglib: ref_get_exact_structure_and_symmetry failed. (line 82, /tmp/pip-install-58cw25xt/spglib_6207849ab7c64022b27925c813b8e5ef/src/determination.c).\n",
      "spglib: ssm_get_exact_positions failed (attempt=0). (line 115, /tmp/pip-install-58cw25xt/spglib_6207849ab7c64022b27925c813b8e5ef/src/site_symmetry.c).\n",
      "spglib: ssm_get_exact_positions failed (attempt=1). (line 115, /tmp/pip-install-58cw25xt/spglib_6207849ab7c64022b27925c813b8e5ef/src/site_symmetry.c).\n",
      "spglib: ssm_get_exact_positions failed (attempt=2). (line 115, /tmp/pip-install-58cw25xt/spglib_6207849ab7c64022b27925c813b8e5ef/src/site_symmetry.c).\n",
      "spglib: ssm_get_exact_positions failed (attempt=3). (line 115, /tmp/pip-install-58cw25xt/spglib_6207849ab7c64022b27925c813b8e5ef/src/site_symmetry.c).\n",
      "spglib: ssm_get_exact_positions failed (attempt=4). (line 115, /tmp/pip-install-58cw25xt/spglib_6207849ab7c64022b27925c813b8e5ef/src/site_symmetry.c).\n",
      "spglib: ssm_get_exact_positions failed. (line 479, /tmp/pip-install-58cw25xt/spglib_6207849ab7c64022b27925c813b8e5ef/src/refinement.c).\n",
      "spglib: get_bravais_exact_positions_and_lattice failed. (line 336, /tmp/pip-install-58cw25xt/spglib_6207849ab7c64022b27925c813b8e5ef/src/refinement.c).\n",
      "spglib: ref_get_exact_structure_and_symmetry failed. (line 82, /tmp/pip-install-58cw25xt/spglib_6207849ab7c64022b27925c813b8e5ef/src/determination.c).\n",
      "spglib: ssm_get_exact_positions failed (attempt=0). (line 115, /tmp/pip-install-58cw25xt/spglib_6207849ab7c64022b27925c813b8e5ef/src/site_symmetry.c).\n",
      "spglib: ssm_get_exact_positions failed (attempt=1). (line 115, /tmp/pip-install-58cw25xt/spglib_6207849ab7c64022b27925c813b8e5ef/src/site_symmetry.c).\n",
      "spglib: ssm_get_exact_positions failed (attempt=2). (line 115, /tmp/pip-install-58cw25xt/spglib_6207849ab7c64022b27925c813b8e5ef/src/site_symmetry.c).\n",
      "spglib: ssm_get_exact_positions failed (attempt=3). (line 115, /tmp/pip-install-58cw25xt/spglib_6207849ab7c64022b27925c813b8e5ef/src/site_symmetry.c).\n",
      "spglib: ssm_get_exact_positions failed (attempt=4). (line 115, /tmp/pip-install-58cw25xt/spglib_6207849ab7c64022b27925c813b8e5ef/src/site_symmetry.c).\n",
      "spglib: ssm_get_exact_positions failed. (line 479, /tmp/pip-install-58cw25xt/spglib_6207849ab7c64022b27925c813b8e5ef/src/refinement.c).\n",
      "spglib: get_bravais_exact_positions_and_lattice failed. (line 336, /tmp/pip-install-58cw25xt/spglib_6207849ab7c64022b27925c813b8e5ef/src/refinement.c).\n",
      "spglib: ref_get_exact_structure_and_symmetry failed. (line 82, /tmp/pip-install-58cw25xt/spglib_6207849ab7c64022b27925c813b8e5ef/src/determination.c).\n",
      "spglib: ssm_get_exact_positions failed (attempt=0). (line 115, /tmp/pip-install-58cw25xt/spglib_6207849ab7c64022b27925c813b8e5ef/src/site_symmetry.c).\n",
      "spglib: ssm_get_exact_positions failed (attempt=1). (line 115, /tmp/pip-install-58cw25xt/spglib_6207849ab7c64022b27925c813b8e5ef/src/site_symmetry.c).\n",
      "spglib: ssm_get_exact_positions failed (attempt=2). (line 115, /tmp/pip-install-58cw25xt/spglib_6207849ab7c64022b27925c813b8e5ef/src/site_symmetry.c).\n",
      "spglib: ssm_get_exact_positions failed (attempt=3). (line 115, /tmp/pip-install-58cw25xt/spglib_6207849ab7c64022b27925c813b8e5ef/src/site_symmetry.c).\n",
      "spglib: ssm_get_exact_positions failed (attempt=4). (line 115, /tmp/pip-install-58cw25xt/spglib_6207849ab7c64022b27925c813b8e5ef/src/site_symmetry.c).\n",
      "spglib: ssm_get_exact_positions failed. (line 479, /tmp/pip-install-58cw25xt/spglib_6207849ab7c64022b27925c813b8e5ef/src/refinement.c).\n",
      "spglib: get_bravais_exact_positions_and_lattice failed. (line 336, /tmp/pip-install-58cw25xt/spglib_6207849ab7c64022b27925c813b8e5ef/src/refinement.c).\n",
      "spglib: ref_get_exact_structure_and_symmetry failed. (line 82, /tmp/pip-install-58cw25xt/spglib_6207849ab7c64022b27925c813b8e5ef/src/determination.c).\n",
      "spglib: ssm_get_exact_positions failed (attempt=0). (line 115, /tmp/pip-install-58cw25xt/spglib_6207849ab7c64022b27925c813b8e5ef/src/site_symmetry.c).\n",
      "spglib: ssm_get_exact_positions failed (attempt=1). (line 115, /tmp/pip-install-58cw25xt/spglib_6207849ab7c64022b27925c813b8e5ef/src/site_symmetry.c).\n",
      "spglib: ssm_get_exact_positions failed (attempt=2). (line 115, /tmp/pip-install-58cw25xt/spglib_6207849ab7c64022b27925c813b8e5ef/src/site_symmetry.c).\n",
      "spglib: ssm_get_exact_positions failed (attempt=3). (line 115, /tmp/pip-install-58cw25xt/spglib_6207849ab7c64022b27925c813b8e5ef/src/site_symmetry.c).\n",
      "spglib: ssm_get_exact_positions failed (attempt=4). (line 115, /tmp/pip-install-58cw25xt/spglib_6207849ab7c64022b27925c813b8e5ef/src/site_symmetry.c).\n",
      "spglib: ssm_get_exact_positions failed. (line 479, /tmp/pip-install-58cw25xt/spglib_6207849ab7c64022b27925c813b8e5ef/src/refinement.c).\n",
      "spglib: get_bravais_exact_positions_and_lattice failed. (line 336, /tmp/pip-install-58cw25xt/spglib_6207849ab7c64022b27925c813b8e5ef/src/refinement.c).\n",
      "spglib: ref_get_exact_structure_and_symmetry failed. (line 82, /tmp/pip-install-58cw25xt/spglib_6207849ab7c64022b27925c813b8e5ef/src/determination.c).\n",
      "spglib: ssm_get_exact_positions failed (attempt=0). (line 115, /tmp/pip-install-58cw25xt/spglib_6207849ab7c64022b27925c813b8e5ef/src/site_symmetry.c).\n",
      "spglib: ssm_get_exact_positions failed (attempt=1). (line 115, /tmp/pip-install-58cw25xt/spglib_6207849ab7c64022b27925c813b8e5ef/src/site_symmetry.c).\n",
      "spglib: ssm_get_exact_positions failed (attempt=2). (line 115, /tmp/pip-install-58cw25xt/spglib_6207849ab7c64022b27925c813b8e5ef/src/site_symmetry.c).\n",
      "spglib: ssm_get_exact_positions failed (attempt=3). (line 115, /tmp/pip-install-58cw25xt/spglib_6207849ab7c64022b27925c813b8e5ef/src/site_symmetry.c).\n",
      "spglib: ssm_get_exact_positions failed (attempt=4). (line 115, /tmp/pip-install-58cw25xt/spglib_6207849ab7c64022b27925c813b8e5ef/src/site_symmetry.c).\n",
      "spglib: ssm_get_exact_positions failed. (line 479, /tmp/pip-install-58cw25xt/spglib_6207849ab7c64022b27925c813b8e5ef/src/refinement.c).\n",
      "spglib: get_bravais_exact_positions_and_lattice failed. (line 336, /tmp/pip-install-58cw25xt/spglib_6207849ab7c64022b27925c813b8e5ef/src/refinement.c).\n",
      "spglib: ref_get_exact_structure_and_symmetry failed. (line 82, /tmp/pip-install-58cw25xt/spglib_6207849ab7c64022b27925c813b8e5ef/src/determination.c).\n",
      "spglib: ssm_get_exact_positions failed (attempt=0). (line 115, /tmp/pip-install-58cw25xt/spglib_6207849ab7c64022b27925c813b8e5ef/src/site_symmetry.c).\n",
      "spglib: ssm_get_exact_positions failed (attempt=1). (line 115, /tmp/pip-install-58cw25xt/spglib_6207849ab7c64022b27925c813b8e5ef/src/site_symmetry.c).\n",
      "spglib: ssm_get_exact_positions failed (attempt=2). (line 115, /tmp/pip-install-58cw25xt/spglib_6207849ab7c64022b27925c813b8e5ef/src/site_symmetry.c).\n",
      "spglib: ssm_get_exact_positions failed (attempt=3). (line 115, /tmp/pip-install-58cw25xt/spglib_6207849ab7c64022b27925c813b8e5ef/src/site_symmetry.c).\n",
      "spglib: ssm_get_exact_positions failed (attempt=4). (line 115, /tmp/pip-install-58cw25xt/spglib_6207849ab7c64022b27925c813b8e5ef/src/site_symmetry.c).\n",
      "spglib: ssm_get_exact_positions failed. (line 479, /tmp/pip-install-58cw25xt/spglib_6207849ab7c64022b27925c813b8e5ef/src/refinement.c).\n",
      "spglib: get_bravais_exact_positions_and_lattice failed. (line 336, /tmp/pip-install-58cw25xt/spglib_6207849ab7c64022b27925c813b8e5ef/src/refinement.c).\n",
      "spglib: ref_get_exact_structure_and_symmetry failed. (line 82, /tmp/pip-install-58cw25xt/spglib_6207849ab7c64022b27925c813b8e5ef/src/determination.c).\n",
      "spglib: ssm_get_exact_positions failed (attempt=0). (line 115, /tmp/pip-install-58cw25xt/spglib_6207849ab7c64022b27925c813b8e5ef/src/site_symmetry.c).\n",
      "spglib: ssm_get_exact_positions failed (attempt=1). (line 115, /tmp/pip-install-58cw25xt/spglib_6207849ab7c64022b27925c813b8e5ef/src/site_symmetry.c).\n",
      "spglib: ssm_get_exact_positions failed (attempt=2). (line 115, /tmp/pip-install-58cw25xt/spglib_6207849ab7c64022b27925c813b8e5ef/src/site_symmetry.c).\n",
      "spglib: ssm_get_exact_positions failed (attempt=3). (line 115, /tmp/pip-install-58cw25xt/spglib_6207849ab7c64022b27925c813b8e5ef/src/site_symmetry.c).\n",
      "spglib: ssm_get_exact_positions failed (attempt=4). (line 115, /tmp/pip-install-58cw25xt/spglib_6207849ab7c64022b27925c813b8e5ef/src/site_symmetry.c).\n",
      "spglib: ssm_get_exact_positions failed. (line 479, /tmp/pip-install-58cw25xt/spglib_6207849ab7c64022b27925c813b8e5ef/src/refinement.c).\n",
      "spglib: get_bravais_exact_positions_and_lattice failed. (line 336, /tmp/pip-install-58cw25xt/spglib_6207849ab7c64022b27925c813b8e5ef/src/refinement.c).\n",
      "spglib: ref_get_exact_structure_and_symmetry failed. (line 82, /tmp/pip-install-58cw25xt/spglib_6207849ab7c64022b27925c813b8e5ef/src/determination.c).\n",
      "spglib: ssm_get_exact_positions failed (attempt=0). (line 115, /tmp/pip-install-58cw25xt/spglib_6207849ab7c64022b27925c813b8e5ef/src/site_symmetry.c).\n",
      "spglib: ssm_get_exact_positions failed (attempt=1). (line 115, /tmp/pip-install-58cw25xt/spglib_6207849ab7c64022b27925c813b8e5ef/src/site_symmetry.c).\n",
      "spglib: ssm_get_exact_positions failed (attempt=2). (line 115, /tmp/pip-install-58cw25xt/spglib_6207849ab7c64022b27925c813b8e5ef/src/site_symmetry.c).\n",
      "spglib: ssm_get_exact_positions failed (attempt=3). (line 115, /tmp/pip-install-58cw25xt/spglib_6207849ab7c64022b27925c813b8e5ef/src/site_symmetry.c).\n",
      "spglib: ssm_get_exact_positions failed (attempt=4). (line 115, /tmp/pip-install-58cw25xt/spglib_6207849ab7c64022b27925c813b8e5ef/src/site_symmetry.c).\n",
      "spglib: ssm_get_exact_positions failed. (line 479, /tmp/pip-install-58cw25xt/spglib_6207849ab7c64022b27925c813b8e5ef/src/refinement.c).\n",
      "spglib: get_bravais_exact_positions_and_lattice failed. (line 336, /tmp/pip-install-58cw25xt/spglib_6207849ab7c64022b27925c813b8e5ef/src/refinement.c).\n",
      "spglib: ref_get_exact_structure_and_symmetry failed. (line 82, /tmp/pip-install-58cw25xt/spglib_6207849ab7c64022b27925c813b8e5ef/src/determination.c).\n",
      "spglib: ssm_get_exact_positions failed (attempt=0). (line 115, /tmp/pip-install-58cw25xt/spglib_6207849ab7c64022b27925c813b8e5ef/src/site_symmetry.c).\n",
      "spglib: ssm_get_exact_positions failed (attempt=1). (line 115, /tmp/pip-install-58cw25xt/spglib_6207849ab7c64022b27925c813b8e5ef/src/site_symmetry.c).\n",
      "spglib: ssm_get_exact_positions failed (attempt=2). (line 115, /tmp/pip-install-58cw25xt/spglib_6207849ab7c64022b27925c813b8e5ef/src/site_symmetry.c).\n",
      "spglib: ssm_get_exact_positions failed (attempt=3). (line 115, /tmp/pip-install-58cw25xt/spglib_6207849ab7c64022b27925c813b8e5ef/src/site_symmetry.c).\n",
      "spglib: ssm_get_exact_positions failed (attempt=4). (line 115, /tmp/pip-install-58cw25xt/spglib_6207849ab7c64022b27925c813b8e5ef/src/site_symmetry.c).\n",
      "spglib: ssm_get_exact_positions failed. (line 479, /tmp/pip-install-58cw25xt/spglib_6207849ab7c64022b27925c813b8e5ef/src/refinement.c).\n",
      "spglib: get_bravais_exact_positions_and_lattice failed. (line 336, /tmp/pip-install-58cw25xt/spglib_6207849ab7c64022b27925c813b8e5ef/src/refinement.c).\n",
      "spglib: ref_get_exact_structure_and_symmetry failed. (line 82, /tmp/pip-install-58cw25xt/spglib_6207849ab7c64022b27925c813b8e5ef/src/determination.c).\n",
      "spglib: ssm_get_exact_positions failed (attempt=0). (line 115, /tmp/pip-install-58cw25xt/spglib_6207849ab7c64022b27925c813b8e5ef/src/site_symmetry.c).\n",
      "spglib: ssm_get_exact_positions failed (attempt=1). (line 115, /tmp/pip-install-58cw25xt/spglib_6207849ab7c64022b27925c813b8e5ef/src/site_symmetry.c).\n",
      "spglib: ssm_get_exact_positions failed (attempt=2). (line 115, /tmp/pip-install-58cw25xt/spglib_6207849ab7c64022b27925c813b8e5ef/src/site_symmetry.c).\n",
      "spglib: ssm_get_exact_positions failed (attempt=3). (line 115, /tmp/pip-install-58cw25xt/spglib_6207849ab7c64022b27925c813b8e5ef/src/site_symmetry.c).\n",
      "spglib: ssm_get_exact_positions failed (attempt=4). (line 115, /tmp/pip-install-58cw25xt/spglib_6207849ab7c64022b27925c813b8e5ef/src/site_symmetry.c).\n",
      "spglib: ssm_get_exact_positions failed. (line 479, /tmp/pip-install-58cw25xt/spglib_6207849ab7c64022b27925c813b8e5ef/src/refinement.c).\n",
      "spglib: get_bravais_exact_positions_and_lattice failed. (line 336, /tmp/pip-install-58cw25xt/spglib_6207849ab7c64022b27925c813b8e5ef/src/refinement.c).\n",
      "spglib: ref_get_exact_structure_and_symmetry failed. (line 82, /tmp/pip-install-58cw25xt/spglib_6207849ab7c64022b27925c813b8e5ef/src/determination.c).\n",
      "spglib: ssm_get_exact_positions failed (attempt=0). (line 115, /tmp/pip-install-58cw25xt/spglib_6207849ab7c64022b27925c813b8e5ef/src/site_symmetry.c).\n",
      "spglib: ssm_get_exact_positions failed (attempt=1). (line 115, /tmp/pip-install-58cw25xt/spglib_6207849ab7c64022b27925c813b8e5ef/src/site_symmetry.c).\n",
      "spglib: ssm_get_exact_positions failed (attempt=2). (line 115, /tmp/pip-install-58cw25xt/spglib_6207849ab7c64022b27925c813b8e5ef/src/site_symmetry.c).\n",
      "spglib: ssm_get_exact_positions failed (attempt=3). (line 115, /tmp/pip-install-58cw25xt/spglib_6207849ab7c64022b27925c813b8e5ef/src/site_symmetry.c).\n",
      "spglib: ssm_get_exact_positions failed (attempt=4). (line 115, /tmp/pip-install-58cw25xt/spglib_6207849ab7c64022b27925c813b8e5ef/src/site_symmetry.c).\n",
      "spglib: ssm_get_exact_positions failed. (line 479, /tmp/pip-install-58cw25xt/spglib_6207849ab7c64022b27925c813b8e5ef/src/refinement.c).\n",
      "spglib: get_bravais_exact_positions_and_lattice failed. (line 336, /tmp/pip-install-58cw25xt/spglib_6207849ab7c64022b27925c813b8e5ef/src/refinement.c).\n",
      "spglib: ref_get_exact_structure_and_symmetry failed. (line 82, /tmp/pip-install-58cw25xt/spglib_6207849ab7c64022b27925c813b8e5ef/src/determination.c).\n",
      "spglib: ssm_get_exact_positions failed (attempt=0). (line 115, /tmp/pip-install-58cw25xt/spglib_6207849ab7c64022b27925c813b8e5ef/src/site_symmetry.c).\n",
      "spglib: ssm_get_exact_positions failed (attempt=1). (line 115, /tmp/pip-install-58cw25xt/spglib_6207849ab7c64022b27925c813b8e5ef/src/site_symmetry.c).\n",
      "spglib: ssm_get_exact_positions failed (attempt=2). (line 115, /tmp/pip-install-58cw25xt/spglib_6207849ab7c64022b27925c813b8e5ef/src/site_symmetry.c).\n",
      "spglib: ssm_get_exact_positions failed (attempt=3). (line 115, /tmp/pip-install-58cw25xt/spglib_6207849ab7c64022b27925c813b8e5ef/src/site_symmetry.c).\n",
      "spglib: ssm_get_exact_positions failed (attempt=4). (line 115, /tmp/pip-install-58cw25xt/spglib_6207849ab7c64022b27925c813b8e5ef/src/site_symmetry.c).\n",
      "spglib: ssm_get_exact_positions failed. (line 479, /tmp/pip-install-58cw25xt/spglib_6207849ab7c64022b27925c813b8e5ef/src/refinement.c).\n",
      "spglib: get_bravais_exact_positions_and_lattice failed. (line 336, /tmp/pip-install-58cw25xt/spglib_6207849ab7c64022b27925c813b8e5ef/src/refinement.c).\n",
      "spglib: ref_get_exact_structure_and_symmetry failed. (line 82, /tmp/pip-install-58cw25xt/spglib_6207849ab7c64022b27925c813b8e5ef/src/determination.c).\n",
      "spglib: ssm_get_exact_positions failed (attempt=0). (line 115, /tmp/pip-install-58cw25xt/spglib_6207849ab7c64022b27925c813b8e5ef/src/site_symmetry.c).\n",
      "spglib: ssm_get_exact_positions failed (attempt=1). (line 115, /tmp/pip-install-58cw25xt/spglib_6207849ab7c64022b27925c813b8e5ef/src/site_symmetry.c).\n",
      "spglib: ssm_get_exact_positions failed (attempt=2). (line 115, /tmp/pip-install-58cw25xt/spglib_6207849ab7c64022b27925c813b8e5ef/src/site_symmetry.c).\n",
      "spglib: ssm_get_exact_positions failed (attempt=3). (line 115, /tmp/pip-install-58cw25xt/spglib_6207849ab7c64022b27925c813b8e5ef/src/site_symmetry.c).\n",
      "spglib: ssm_get_exact_positions failed (attempt=4). (line 115, /tmp/pip-install-58cw25xt/spglib_6207849ab7c64022b27925c813b8e5ef/src/site_symmetry.c).\n",
      "spglib: ssm_get_exact_positions failed. (line 479, /tmp/pip-install-58cw25xt/spglib_6207849ab7c64022b27925c813b8e5ef/src/refinement.c).\n",
      "spglib: get_bravais_exact_positions_and_lattice failed. (line 336, /tmp/pip-install-58cw25xt/spglib_6207849ab7c64022b27925c813b8e5ef/src/refinement.c).\n",
      "spglib: ref_get_exact_structure_and_symmetry failed. (line 82, /tmp/pip-install-58cw25xt/spglib_6207849ab7c64022b27925c813b8e5ef/src/determination.c).\n",
      "spglib: ssm_get_exact_positions failed (attempt=0). (line 115, /tmp/pip-install-58cw25xt/spglib_6207849ab7c64022b27925c813b8e5ef/src/site_symmetry.c).\n",
      "spglib: ssm_get_exact_positions failed (attempt=1). (line 115, /tmp/pip-install-58cw25xt/spglib_6207849ab7c64022b27925c813b8e5ef/src/site_symmetry.c).\n",
      "spglib: ssm_get_exact_positions failed (attempt=2). (line 115, /tmp/pip-install-58cw25xt/spglib_6207849ab7c64022b27925c813b8e5ef/src/site_symmetry.c).\n",
      "spglib: ssm_get_exact_positions failed (attempt=3). (line 115, /tmp/pip-install-58cw25xt/spglib_6207849ab7c64022b27925c813b8e5ef/src/site_symmetry.c).\n",
      "spglib: ssm_get_exact_positions failed (attempt=4). (line 115, /tmp/pip-install-58cw25xt/spglib_6207849ab7c64022b27925c813b8e5ef/src/site_symmetry.c).\n",
      "spglib: ssm_get_exact_positions failed. (line 479, /tmp/pip-install-58cw25xt/spglib_6207849ab7c64022b27925c813b8e5ef/src/refinement.c).\n",
      "spglib: get_bravais_exact_positions_and_lattice failed. (line 336, /tmp/pip-install-58cw25xt/spglib_6207849ab7c64022b27925c813b8e5ef/src/refinement.c).\n",
      "spglib: ref_get_exact_structure_and_symmetry failed. (line 82, /tmp/pip-install-58cw25xt/spglib_6207849ab7c64022b27925c813b8e5ef/src/determination.c).\n",
      "spglib: ssm_get_exact_positions failed (attempt=0). (line 115, /tmp/pip-install-58cw25xt/spglib_6207849ab7c64022b27925c813b8e5ef/src/site_symmetry.c).\n",
      "spglib: ssm_get_exact_positions failed (attempt=1). (line 115, /tmp/pip-install-58cw25xt/spglib_6207849ab7c64022b27925c813b8e5ef/src/site_symmetry.c).\n",
      "spglib: ssm_get_exact_positions failed (attempt=2). (line 115, /tmp/pip-install-58cw25xt/spglib_6207849ab7c64022b27925c813b8e5ef/src/site_symmetry.c).\n",
      "spglib: ssm_get_exact_positions failed (attempt=3). (line 115, /tmp/pip-install-58cw25xt/spglib_6207849ab7c64022b27925c813b8e5ef/src/site_symmetry.c).\n",
      "spglib: ssm_get_exact_positions failed (attempt=4). (line 115, /tmp/pip-install-58cw25xt/spglib_6207849ab7c64022b27925c813b8e5ef/src/site_symmetry.c).\n",
      "spglib: ssm_get_exact_positions failed. (line 479, /tmp/pip-install-58cw25xt/spglib_6207849ab7c64022b27925c813b8e5ef/src/refinement.c).\n",
      "spglib: get_bravais_exact_positions_and_lattice failed. (line 336, /tmp/pip-install-58cw25xt/spglib_6207849ab7c64022b27925c813b8e5ef/src/refinement.c).\n",
      "spglib: ref_get_exact_structure_and_symmetry failed. (line 82, /tmp/pip-install-58cw25xt/spglib_6207849ab7c64022b27925c813b8e5ef/src/determination.c).\n",
      "spglib: ssm_get_exact_positions failed (attempt=0). (line 115, /tmp/pip-install-58cw25xt/spglib_6207849ab7c64022b27925c813b8e5ef/src/site_symmetry.c).\n",
      "spglib: ssm_get_exact_positions failed (attempt=1). (line 115, /tmp/pip-install-58cw25xt/spglib_6207849ab7c64022b27925c813b8e5ef/src/site_symmetry.c).\n",
      "spglib: ssm_get_exact_positions failed (attempt=2). (line 115, /tmp/pip-install-58cw25xt/spglib_6207849ab7c64022b27925c813b8e5ef/src/site_symmetry.c).\n",
      "spglib: ssm_get_exact_positions failed (attempt=3). (line 115, /tmp/pip-install-58cw25xt/spglib_6207849ab7c64022b27925c813b8e5ef/src/site_symmetry.c).\n",
      "spglib: ssm_get_exact_positions failed (attempt=4). (line 115, /tmp/pip-install-58cw25xt/spglib_6207849ab7c64022b27925c813b8e5ef/src/site_symmetry.c).\n",
      "spglib: ssm_get_exact_positions failed. (line 479, /tmp/pip-install-58cw25xt/spglib_6207849ab7c64022b27925c813b8e5ef/src/refinement.c).\n",
      "spglib: get_bravais_exact_positions_and_lattice failed. (line 336, /tmp/pip-install-58cw25xt/spglib_6207849ab7c64022b27925c813b8e5ef/src/refinement.c).\n",
      "spglib: ref_get_exact_structure_and_symmetry failed. (line 82, /tmp/pip-install-58cw25xt/spglib_6207849ab7c64022b27925c813b8e5ef/src/determination.c).\n",
      "spglib: ssm_get_exact_positions failed (attempt=0). (line 115, /tmp/pip-install-58cw25xt/spglib_6207849ab7c64022b27925c813b8e5ef/src/site_symmetry.c).\n",
      "spglib: ssm_get_exact_positions failed (attempt=1). (line 115, /tmp/pip-install-58cw25xt/spglib_6207849ab7c64022b27925c813b8e5ef/src/site_symmetry.c).\n",
      "spglib: ssm_get_exact_positions failed (attempt=2). (line 115, /tmp/pip-install-58cw25xt/spglib_6207849ab7c64022b27925c813b8e5ef/src/site_symmetry.c).\n",
      "spglib: ssm_get_exact_positions failed (attempt=3). (line 115, /tmp/pip-install-58cw25xt/spglib_6207849ab7c64022b27925c813b8e5ef/src/site_symmetry.c).\n",
      "spglib: ssm_get_exact_positions failed (attempt=4). (line 115, /tmp/pip-install-58cw25xt/spglib_6207849ab7c64022b27925c813b8e5ef/src/site_symmetry.c).\n",
      "spglib: ssm_get_exact_positions failed. (line 479, /tmp/pip-install-58cw25xt/spglib_6207849ab7c64022b27925c813b8e5ef/src/refinement.c).\n",
      "spglib: get_bravais_exact_positions_and_lattice failed. (line 336, /tmp/pip-install-58cw25xt/spglib_6207849ab7c64022b27925c813b8e5ef/src/refinement.c).\n",
      "spglib: ref_get_exact_structure_and_symmetry failed. (line 82, /tmp/pip-install-58cw25xt/spglib_6207849ab7c64022b27925c813b8e5ef/src/determination.c).\n",
      "spglib: ssm_get_exact_positions failed (attempt=0). (line 115, /tmp/pip-install-58cw25xt/spglib_6207849ab7c64022b27925c813b8e5ef/src/site_symmetry.c).\n",
      "spglib: ssm_get_exact_positions failed (attempt=1). (line 115, /tmp/pip-install-58cw25xt/spglib_6207849ab7c64022b27925c813b8e5ef/src/site_symmetry.c).\n",
      "spglib: ssm_get_exact_positions failed (attempt=2). (line 115, /tmp/pip-install-58cw25xt/spglib_6207849ab7c64022b27925c813b8e5ef/src/site_symmetry.c).\n",
      "spglib: ssm_get_exact_positions failed (attempt=3). (line 115, /tmp/pip-install-58cw25xt/spglib_6207849ab7c64022b27925c813b8e5ef/src/site_symmetry.c).\n",
      "spglib: ssm_get_exact_positions failed (attempt=4). (line 115, /tmp/pip-install-58cw25xt/spglib_6207849ab7c64022b27925c813b8e5ef/src/site_symmetry.c).\n",
      "spglib: ssm_get_exact_positions failed. (line 479, /tmp/pip-install-58cw25xt/spglib_6207849ab7c64022b27925c813b8e5ef/src/refinement.c).\n",
      "spglib: get_bravais_exact_positions_and_lattice failed. (line 336, /tmp/pip-install-58cw25xt/spglib_6207849ab7c64022b27925c813b8e5ef/src/refinement.c).\n",
      "spglib: ref_get_exact_structure_and_symmetry failed. (line 82, /tmp/pip-install-58cw25xt/spglib_6207849ab7c64022b27925c813b8e5ef/src/determination.c).\n",
      "spglib: ssm_get_exact_positions failed (attempt=0). (line 115, /tmp/pip-install-58cw25xt/spglib_6207849ab7c64022b27925c813b8e5ef/src/site_symmetry.c).\n",
      "spglib: ssm_get_exact_positions failed (attempt=1). (line 115, /tmp/pip-install-58cw25xt/spglib_6207849ab7c64022b27925c813b8e5ef/src/site_symmetry.c).\n",
      "spglib: ssm_get_exact_positions failed (attempt=2). (line 115, /tmp/pip-install-58cw25xt/spglib_6207849ab7c64022b27925c813b8e5ef/src/site_symmetry.c).\n",
      "spglib: ssm_get_exact_positions failed (attempt=3). (line 115, /tmp/pip-install-58cw25xt/spglib_6207849ab7c64022b27925c813b8e5ef/src/site_symmetry.c).\n",
      "spglib: ssm_get_exact_positions failed (attempt=4). (line 115, /tmp/pip-install-58cw25xt/spglib_6207849ab7c64022b27925c813b8e5ef/src/site_symmetry.c).\n",
      "spglib: ssm_get_exact_positions failed. (line 479, /tmp/pip-install-58cw25xt/spglib_6207849ab7c64022b27925c813b8e5ef/src/refinement.c).\n",
      "spglib: get_bravais_exact_positions_and_lattice failed. (line 336, /tmp/pip-install-58cw25xt/spglib_6207849ab7c64022b27925c813b8e5ef/src/refinement.c).\n",
      "spglib: ref_get_exact_structure_and_symmetry failed. (line 82, /tmp/pip-install-58cw25xt/spglib_6207849ab7c64022b27925c813b8e5ef/src/determination.c).\n",
      "spglib: ssm_get_exact_positions failed (attempt=0). (line 115, /tmp/pip-install-58cw25xt/spglib_6207849ab7c64022b27925c813b8e5ef/src/site_symmetry.c).\n",
      "spglib: ssm_get_exact_positions failed (attempt=1). (line 115, /tmp/pip-install-58cw25xt/spglib_6207849ab7c64022b27925c813b8e5ef/src/site_symmetry.c).\n",
      "spglib: ssm_get_exact_positions failed (attempt=2). (line 115, /tmp/pip-install-58cw25xt/spglib_6207849ab7c64022b27925c813b8e5ef/src/site_symmetry.c).\n",
      "spglib: ssm_get_exact_positions failed (attempt=3). (line 115, /tmp/pip-install-58cw25xt/spglib_6207849ab7c64022b27925c813b8e5ef/src/site_symmetry.c).\n",
      "spglib: ssm_get_exact_positions failed (attempt=4). (line 115, /tmp/pip-install-58cw25xt/spglib_6207849ab7c64022b27925c813b8e5ef/src/site_symmetry.c).\n",
      "spglib: ssm_get_exact_positions failed. (line 479, /tmp/pip-install-58cw25xt/spglib_6207849ab7c64022b27925c813b8e5ef/src/refinement.c).\n",
      "spglib: get_bravais_exact_positions_and_lattice failed. (line 336, /tmp/pip-install-58cw25xt/spglib_6207849ab7c64022b27925c813b8e5ef/src/refinement.c).\n",
      "spglib: ref_get_exact_structure_and_symmetry failed. (line 82, /tmp/pip-install-58cw25xt/spglib_6207849ab7c64022b27925c813b8e5ef/src/determination.c).\n",
      "spglib: ssm_get_exact_positions failed (attempt=0). (line 115, /tmp/pip-install-58cw25xt/spglib_6207849ab7c64022b27925c813b8e5ef/src/site_symmetry.c).\n",
      "spglib: ssm_get_exact_positions failed (attempt=1). (line 115, /tmp/pip-install-58cw25xt/spglib_6207849ab7c64022b27925c813b8e5ef/src/site_symmetry.c).\n",
      "spglib: ssm_get_exact_positions failed (attempt=2). (line 115, /tmp/pip-install-58cw25xt/spglib_6207849ab7c64022b27925c813b8e5ef/src/site_symmetry.c).\n",
      "spglib: ssm_get_exact_positions failed (attempt=3). (line 115, /tmp/pip-install-58cw25xt/spglib_6207849ab7c64022b27925c813b8e5ef/src/site_symmetry.c).\n",
      "spglib: ssm_get_exact_positions failed (attempt=4). (line 115, /tmp/pip-install-58cw25xt/spglib_6207849ab7c64022b27925c813b8e5ef/src/site_symmetry.c).\n",
      "spglib: ssm_get_exact_positions failed. (line 479, /tmp/pip-install-58cw25xt/spglib_6207849ab7c64022b27925c813b8e5ef/src/refinement.c).\n",
      "spglib: get_bravais_exact_positions_and_lattice failed. (line 336, /tmp/pip-install-58cw25xt/spglib_6207849ab7c64022b27925c813b8e5ef/src/refinement.c).\n",
      "spglib: ref_get_exact_structure_and_symmetry failed. (line 82, /tmp/pip-install-58cw25xt/spglib_6207849ab7c64022b27925c813b8e5ef/src/determination.c).\n",
      "spglib: ssm_get_exact_positions failed (attempt=0). (line 115, /tmp/pip-install-58cw25xt/spglib_6207849ab7c64022b27925c813b8e5ef/src/site_symmetry.c).\n",
      "spglib: ssm_get_exact_positions failed (attempt=1). (line 115, /tmp/pip-install-58cw25xt/spglib_6207849ab7c64022b27925c813b8e5ef/src/site_symmetry.c).\n",
      "spglib: ssm_get_exact_positions failed (attempt=2). (line 115, /tmp/pip-install-58cw25xt/spglib_6207849ab7c64022b27925c813b8e5ef/src/site_symmetry.c).\n",
      "spglib: ssm_get_exact_positions failed (attempt=3). (line 115, /tmp/pip-install-58cw25xt/spglib_6207849ab7c64022b27925c813b8e5ef/src/site_symmetry.c).\n",
      "spglib: ssm_get_exact_positions failed (attempt=4). (line 115, /tmp/pip-install-58cw25xt/spglib_6207849ab7c64022b27925c813b8e5ef/src/site_symmetry.c).\n",
      "spglib: ssm_get_exact_positions failed. (line 479, /tmp/pip-install-58cw25xt/spglib_6207849ab7c64022b27925c813b8e5ef/src/refinement.c).\n",
      "spglib: get_bravais_exact_positions_and_lattice failed. (line 336, /tmp/pip-install-58cw25xt/spglib_6207849ab7c64022b27925c813b8e5ef/src/refinement.c).\n",
      "spglib: ref_get_exact_structure_and_symmetry failed. (line 82, /tmp/pip-install-58cw25xt/spglib_6207849ab7c64022b27925c813b8e5ef/src/determination.c).\n",
      "spglib: ssm_get_exact_positions failed (attempt=0). (line 115, /tmp/pip-install-58cw25xt/spglib_6207849ab7c64022b27925c813b8e5ef/src/site_symmetry.c).\n",
      "spglib: ssm_get_exact_positions failed (attempt=1). (line 115, /tmp/pip-install-58cw25xt/spglib_6207849ab7c64022b27925c813b8e5ef/src/site_symmetry.c).\n",
      "spglib: ssm_get_exact_positions failed (attempt=2). (line 115, /tmp/pip-install-58cw25xt/spglib_6207849ab7c64022b27925c813b8e5ef/src/site_symmetry.c).\n",
      "spglib: ssm_get_exact_positions failed (attempt=3). (line 115, /tmp/pip-install-58cw25xt/spglib_6207849ab7c64022b27925c813b8e5ef/src/site_symmetry.c).\n",
      "spglib: ssm_get_exact_positions failed (attempt=4). (line 115, /tmp/pip-install-58cw25xt/spglib_6207849ab7c64022b27925c813b8e5ef/src/site_symmetry.c).\n",
      "spglib: ssm_get_exact_positions failed. (line 479, /tmp/pip-install-58cw25xt/spglib_6207849ab7c64022b27925c813b8e5ef/src/refinement.c).\n",
      "spglib: get_bravais_exact_positions_and_lattice failed. (line 336, /tmp/pip-install-58cw25xt/spglib_6207849ab7c64022b27925c813b8e5ef/src/refinement.c).\n",
      "spglib: ref_get_exact_structure_and_symmetry failed. (line 82, /tmp/pip-install-58cw25xt/spglib_6207849ab7c64022b27925c813b8e5ef/src/determination.c).\n",
      "spglib: ssm_get_exact_positions failed (attempt=0). (line 115, /tmp/pip-install-58cw25xt/spglib_6207849ab7c64022b27925c813b8e5ef/src/site_symmetry.c).\n",
      "spglib: ssm_get_exact_positions failed (attempt=1). (line 115, /tmp/pip-install-58cw25xt/spglib_6207849ab7c64022b27925c813b8e5ef/src/site_symmetry.c).\n",
      "spglib: ssm_get_exact_positions failed (attempt=2). (line 115, /tmp/pip-install-58cw25xt/spglib_6207849ab7c64022b27925c813b8e5ef/src/site_symmetry.c).\n",
      "spglib: ssm_get_exact_positions failed (attempt=3). (line 115, /tmp/pip-install-58cw25xt/spglib_6207849ab7c64022b27925c813b8e5ef/src/site_symmetry.c).\n",
      "spglib: ssm_get_exact_positions failed (attempt=4). (line 115, /tmp/pip-install-58cw25xt/spglib_6207849ab7c64022b27925c813b8e5ef/src/site_symmetry.c).\n",
      "spglib: ssm_get_exact_positions failed. (line 479, /tmp/pip-install-58cw25xt/spglib_6207849ab7c64022b27925c813b8e5ef/src/refinement.c).\n",
      "spglib: get_bravais_exact_positions_and_lattice failed. (line 336, /tmp/pip-install-58cw25xt/spglib_6207849ab7c64022b27925c813b8e5ef/src/refinement.c).\n",
      "spglib: ref_get_exact_structure_and_symmetry failed. (line 82, /tmp/pip-install-58cw25xt/spglib_6207849ab7c64022b27925c813b8e5ef/src/determination.c).\n",
      "spglib: ssm_get_exact_positions failed (attempt=0). (line 115, /tmp/pip-install-58cw25xt/spglib_6207849ab7c64022b27925c813b8e5ef/src/site_symmetry.c).\n",
      "spglib: ssm_get_exact_positions failed (attempt=1). (line 115, /tmp/pip-install-58cw25xt/spglib_6207849ab7c64022b27925c813b8e5ef/src/site_symmetry.c).\n",
      "spglib: ssm_get_exact_positions failed (attempt=2). (line 115, /tmp/pip-install-58cw25xt/spglib_6207849ab7c64022b27925c813b8e5ef/src/site_symmetry.c).\n",
      "spglib: ssm_get_exact_positions failed (attempt=3). (line 115, /tmp/pip-install-58cw25xt/spglib_6207849ab7c64022b27925c813b8e5ef/src/site_symmetry.c).\n",
      "spglib: ssm_get_exact_positions failed (attempt=4). (line 115, /tmp/pip-install-58cw25xt/spglib_6207849ab7c64022b27925c813b8e5ef/src/site_symmetry.c).\n",
      "spglib: ssm_get_exact_positions failed. (line 479, /tmp/pip-install-58cw25xt/spglib_6207849ab7c64022b27925c813b8e5ef/src/refinement.c).\n",
      "spglib: get_bravais_exact_positions_and_lattice failed. (line 336, /tmp/pip-install-58cw25xt/spglib_6207849ab7c64022b27925c813b8e5ef/src/refinement.c).\n",
      "spglib: ref_get_exact_structure_and_symmetry failed. (line 82, /tmp/pip-install-58cw25xt/spglib_6207849ab7c64022b27925c813b8e5ef/src/determination.c).\n",
      "spglib: ssm_get_exact_positions failed (attempt=0). (line 115, /tmp/pip-install-58cw25xt/spglib_6207849ab7c64022b27925c813b8e5ef/src/site_symmetry.c).\n",
      "spglib: ssm_get_exact_positions failed (attempt=1). (line 115, /tmp/pip-install-58cw25xt/spglib_6207849ab7c64022b27925c813b8e5ef/src/site_symmetry.c).\n",
      "spglib: ssm_get_exact_positions failed (attempt=2). (line 115, /tmp/pip-install-58cw25xt/spglib_6207849ab7c64022b27925c813b8e5ef/src/site_symmetry.c).\n",
      "spglib: ssm_get_exact_positions failed (attempt=3). (line 115, /tmp/pip-install-58cw25xt/spglib_6207849ab7c64022b27925c813b8e5ef/src/site_symmetry.c).\n",
      "spglib: ssm_get_exact_positions failed (attempt=4). (line 115, /tmp/pip-install-58cw25xt/spglib_6207849ab7c64022b27925c813b8e5ef/src/site_symmetry.c).\n",
      "spglib: ssm_get_exact_positions failed. (line 479, /tmp/pip-install-58cw25xt/spglib_6207849ab7c64022b27925c813b8e5ef/src/refinement.c).\n",
      "spglib: get_bravais_exact_positions_and_lattice failed. (line 336, /tmp/pip-install-58cw25xt/spglib_6207849ab7c64022b27925c813b8e5ef/src/refinement.c).\n",
      "spglib: ref_get_exact_structure_and_symmetry failed. (line 82, /tmp/pip-install-58cw25xt/spglib_6207849ab7c64022b27925c813b8e5ef/src/determination.c).\n",
      "spglib: ssm_get_exact_positions failed (attempt=0). (line 115, /tmp/pip-install-58cw25xt/spglib_6207849ab7c64022b27925c813b8e5ef/src/site_symmetry.c).\n",
      "spglib: ssm_get_exact_positions failed (attempt=1). (line 115, /tmp/pip-install-58cw25xt/spglib_6207849ab7c64022b27925c813b8e5ef/src/site_symmetry.c).\n",
      "spglib: ssm_get_exact_positions failed (attempt=2). (line 115, /tmp/pip-install-58cw25xt/spglib_6207849ab7c64022b27925c813b8e5ef/src/site_symmetry.c).\n",
      "spglib: ssm_get_exact_positions failed (attempt=3). (line 115, /tmp/pip-install-58cw25xt/spglib_6207849ab7c64022b27925c813b8e5ef/src/site_symmetry.c).\n",
      "spglib: ssm_get_exact_positions failed (attempt=4). (line 115, /tmp/pip-install-58cw25xt/spglib_6207849ab7c64022b27925c813b8e5ef/src/site_symmetry.c).\n",
      "spglib: ssm_get_exact_positions failed. (line 479, /tmp/pip-install-58cw25xt/spglib_6207849ab7c64022b27925c813b8e5ef/src/refinement.c).\n",
      "spglib: get_bravais_exact_positions_and_lattice failed. (line 336, /tmp/pip-install-58cw25xt/spglib_6207849ab7c64022b27925c813b8e5ef/src/refinement.c).\n",
      "spglib: ref_get_exact_structure_and_symmetry failed. (line 82, /tmp/pip-install-58cw25xt/spglib_6207849ab7c64022b27925c813b8e5ef/src/determination.c).\n",
      "spglib: ssm_get_exact_positions failed (attempt=0). (line 115, /tmp/pip-install-58cw25xt/spglib_6207849ab7c64022b27925c813b8e5ef/src/site_symmetry.c).\n",
      "spglib: ssm_get_exact_positions failed (attempt=1). (line 115, /tmp/pip-install-58cw25xt/spglib_6207849ab7c64022b27925c813b8e5ef/src/site_symmetry.c).\n",
      "spglib: ssm_get_exact_positions failed (attempt=2). (line 115, /tmp/pip-install-58cw25xt/spglib_6207849ab7c64022b27925c813b8e5ef/src/site_symmetry.c).\n",
      "spglib: ssm_get_exact_positions failed (attempt=3). (line 115, /tmp/pip-install-58cw25xt/spglib_6207849ab7c64022b27925c813b8e5ef/src/site_symmetry.c).\n",
      "spglib: ssm_get_exact_positions failed (attempt=4). (line 115, /tmp/pip-install-58cw25xt/spglib_6207849ab7c64022b27925c813b8e5ef/src/site_symmetry.c).\n",
      "spglib: ssm_get_exact_positions failed. (line 479, /tmp/pip-install-58cw25xt/spglib_6207849ab7c64022b27925c813b8e5ef/src/refinement.c).\n",
      "spglib: get_bravais_exact_positions_and_lattice failed. (line 336, /tmp/pip-install-58cw25xt/spglib_6207849ab7c64022b27925c813b8e5ef/src/refinement.c).\n",
      "spglib: ref_get_exact_structure_and_symmetry failed. (line 82, /tmp/pip-install-58cw25xt/spglib_6207849ab7c64022b27925c813b8e5ef/src/determination.c).\n",
      "spglib: ssm_get_exact_positions failed (attempt=0). (line 115, /tmp/pip-install-58cw25xt/spglib_6207849ab7c64022b27925c813b8e5ef/src/site_symmetry.c).\n",
      "spglib: ssm_get_exact_positions failed (attempt=1). (line 115, /tmp/pip-install-58cw25xt/spglib_6207849ab7c64022b27925c813b8e5ef/src/site_symmetry.c).\n",
      "spglib: ssm_get_exact_positions failed (attempt=2). (line 115, /tmp/pip-install-58cw25xt/spglib_6207849ab7c64022b27925c813b8e5ef/src/site_symmetry.c).\n",
      "spglib: ssm_get_exact_positions failed (attempt=3). (line 115, /tmp/pip-install-58cw25xt/spglib_6207849ab7c64022b27925c813b8e5ef/src/site_symmetry.c).\n",
      "spglib: ssm_get_exact_positions failed (attempt=4). (line 115, /tmp/pip-install-58cw25xt/spglib_6207849ab7c64022b27925c813b8e5ef/src/site_symmetry.c).\n",
      "spglib: ssm_get_exact_positions failed. (line 479, /tmp/pip-install-58cw25xt/spglib_6207849ab7c64022b27925c813b8e5ef/src/refinement.c).\n",
      "spglib: get_bravais_exact_positions_and_lattice failed. (line 336, /tmp/pip-install-58cw25xt/spglib_6207849ab7c64022b27925c813b8e5ef/src/refinement.c).\n",
      "spglib: ref_get_exact_structure_and_symmetry failed. (line 82, /tmp/pip-install-58cw25xt/spglib_6207849ab7c64022b27925c813b8e5ef/src/determination.c).\n",
      "spglib: ssm_get_exact_positions failed (attempt=0). (line 115, /tmp/pip-install-58cw25xt/spglib_6207849ab7c64022b27925c813b8e5ef/src/site_symmetry.c).\n",
      "spglib: ssm_get_exact_positions failed (attempt=1). (line 115, /tmp/pip-install-58cw25xt/spglib_6207849ab7c64022b27925c813b8e5ef/src/site_symmetry.c).\n",
      "spglib: ssm_get_exact_positions failed (attempt=2). (line 115, /tmp/pip-install-58cw25xt/spglib_6207849ab7c64022b27925c813b8e5ef/src/site_symmetry.c).\n",
      "spglib: ssm_get_exact_positions failed (attempt=3). (line 115, /tmp/pip-install-58cw25xt/spglib_6207849ab7c64022b27925c813b8e5ef/src/site_symmetry.c).\n",
      "spglib: ssm_get_exact_positions failed (attempt=4). (line 115, /tmp/pip-install-58cw25xt/spglib_6207849ab7c64022b27925c813b8e5ef/src/site_symmetry.c).\n",
      "spglib: ssm_get_exact_positions failed. (line 479, /tmp/pip-install-58cw25xt/spglib_6207849ab7c64022b27925c813b8e5ef/src/refinement.c).\n",
      "spglib: get_bravais_exact_positions_and_lattice failed. (line 336, /tmp/pip-install-58cw25xt/spglib_6207849ab7c64022b27925c813b8e5ef/src/refinement.c).\n",
      "spglib: ref_get_exact_structure_and_symmetry failed. (line 82, /tmp/pip-install-58cw25xt/spglib_6207849ab7c64022b27925c813b8e5ef/src/determination.c).\n",
      "spglib: ssm_get_exact_positions failed (attempt=0). (line 115, /tmp/pip-install-58cw25xt/spglib_6207849ab7c64022b27925c813b8e5ef/src/site_symmetry.c).\n",
      "spglib: ssm_get_exact_positions failed (attempt=1). (line 115, /tmp/pip-install-58cw25xt/spglib_6207849ab7c64022b27925c813b8e5ef/src/site_symmetry.c).\n",
      "spglib: ssm_get_exact_positions failed (attempt=2). (line 115, /tmp/pip-install-58cw25xt/spglib_6207849ab7c64022b27925c813b8e5ef/src/site_symmetry.c).\n",
      "spglib: ssm_get_exact_positions failed (attempt=3). (line 115, /tmp/pip-install-58cw25xt/spglib_6207849ab7c64022b27925c813b8e5ef/src/site_symmetry.c).\n",
      "spglib: ssm_get_exact_positions failed (attempt=4). (line 115, /tmp/pip-install-58cw25xt/spglib_6207849ab7c64022b27925c813b8e5ef/src/site_symmetry.c).\n",
      "spglib: ssm_get_exact_positions failed. (line 479, /tmp/pip-install-58cw25xt/spglib_6207849ab7c64022b27925c813b8e5ef/src/refinement.c).\n",
      "spglib: get_bravais_exact_positions_and_lattice failed. (line 336, /tmp/pip-install-58cw25xt/spglib_6207849ab7c64022b27925c813b8e5ef/src/refinement.c).\n",
      "spglib: ref_get_exact_structure_and_symmetry failed. (line 82, /tmp/pip-install-58cw25xt/spglib_6207849ab7c64022b27925c813b8e5ef/src/determination.c).\n",
      "spglib: ssm_get_exact_positions failed (attempt=0). (line 115, /tmp/pip-install-58cw25xt/spglib_6207849ab7c64022b27925c813b8e5ef/src/site_symmetry.c).\n",
      "spglib: ssm_get_exact_positions failed (attempt=1). (line 115, /tmp/pip-install-58cw25xt/spglib_6207849ab7c64022b27925c813b8e5ef/src/site_symmetry.c).\n",
      "spglib: ssm_get_exact_positions failed (attempt=2). (line 115, /tmp/pip-install-58cw25xt/spglib_6207849ab7c64022b27925c813b8e5ef/src/site_symmetry.c).\n",
      "spglib: ssm_get_exact_positions failed (attempt=3). (line 115, /tmp/pip-install-58cw25xt/spglib_6207849ab7c64022b27925c813b8e5ef/src/site_symmetry.c).\n",
      "spglib: ssm_get_exact_positions failed (attempt=4). (line 115, /tmp/pip-install-58cw25xt/spglib_6207849ab7c64022b27925c813b8e5ef/src/site_symmetry.c).\n",
      "spglib: ssm_get_exact_positions failed. (line 479, /tmp/pip-install-58cw25xt/spglib_6207849ab7c64022b27925c813b8e5ef/src/refinement.c).\n",
      "spglib: get_bravais_exact_positions_and_lattice failed. (line 336, /tmp/pip-install-58cw25xt/spglib_6207849ab7c64022b27925c813b8e5ef/src/refinement.c).\n",
      "spglib: ref_get_exact_structure_and_symmetry failed. (line 82, /tmp/pip-install-58cw25xt/spglib_6207849ab7c64022b27925c813b8e5ef/src/determination.c).\n",
      "spglib: ssm_get_exact_positions failed (attempt=0). (line 115, /tmp/pip-install-58cw25xt/spglib_6207849ab7c64022b27925c813b8e5ef/src/site_symmetry.c).\n",
      "spglib: ssm_get_exact_positions failed (attempt=1). (line 115, /tmp/pip-install-58cw25xt/spglib_6207849ab7c64022b27925c813b8e5ef/src/site_symmetry.c).\n",
      "spglib: ssm_get_exact_positions failed (attempt=2). (line 115, /tmp/pip-install-58cw25xt/spglib_6207849ab7c64022b27925c813b8e5ef/src/site_symmetry.c).\n",
      "spglib: ssm_get_exact_positions failed (attempt=3). (line 115, /tmp/pip-install-58cw25xt/spglib_6207849ab7c64022b27925c813b8e5ef/src/site_symmetry.c).\n",
      "spglib: ssm_get_exact_positions failed (attempt=4). (line 115, /tmp/pip-install-58cw25xt/spglib_6207849ab7c64022b27925c813b8e5ef/src/site_symmetry.c).\n",
      "spglib: ssm_get_exact_positions failed. (line 479, /tmp/pip-install-58cw25xt/spglib_6207849ab7c64022b27925c813b8e5ef/src/refinement.c).\n",
      "spglib: get_bravais_exact_positions_and_lattice failed. (line 336, /tmp/pip-install-58cw25xt/spglib_6207849ab7c64022b27925c813b8e5ef/src/refinement.c).\n",
      "spglib: ref_get_exact_structure_and_symmetry failed. (line 82, /tmp/pip-install-58cw25xt/spglib_6207849ab7c64022b27925c813b8e5ef/src/determination.c).\n",
      "spglib: ssm_get_exact_positions failed (attempt=0). (line 115, /tmp/pip-install-58cw25xt/spglib_6207849ab7c64022b27925c813b8e5ef/src/site_symmetry.c).\n",
      "spglib: ssm_get_exact_positions failed (attempt=1). (line 115, /tmp/pip-install-58cw25xt/spglib_6207849ab7c64022b27925c813b8e5ef/src/site_symmetry.c).\n",
      "spglib: ssm_get_exact_positions failed (attempt=2). (line 115, /tmp/pip-install-58cw25xt/spglib_6207849ab7c64022b27925c813b8e5ef/src/site_symmetry.c).\n",
      "spglib: ssm_get_exact_positions failed (attempt=3). (line 115, /tmp/pip-install-58cw25xt/spglib_6207849ab7c64022b27925c813b8e5ef/src/site_symmetry.c).\n",
      "spglib: ssm_get_exact_positions failed (attempt=4). (line 115, /tmp/pip-install-58cw25xt/spglib_6207849ab7c64022b27925c813b8e5ef/src/site_symmetry.c).\n",
      "spglib: ssm_get_exact_positions failed. (line 479, /tmp/pip-install-58cw25xt/spglib_6207849ab7c64022b27925c813b8e5ef/src/refinement.c).\n",
      "spglib: get_bravais_exact_positions_and_lattice failed. (line 336, /tmp/pip-install-58cw25xt/spglib_6207849ab7c64022b27925c813b8e5ef/src/refinement.c).\n",
      "spglib: ref_get_exact_structure_and_symmetry failed. (line 82, /tmp/pip-install-58cw25xt/spglib_6207849ab7c64022b27925c813b8e5ef/src/determination.c).\n",
      "spglib: ssm_get_exact_positions failed (attempt=0). (line 115, /tmp/pip-install-58cw25xt/spglib_6207849ab7c64022b27925c813b8e5ef/src/site_symmetry.c).\n",
      "spglib: ssm_get_exact_positions failed (attempt=1). (line 115, /tmp/pip-install-58cw25xt/spglib_6207849ab7c64022b27925c813b8e5ef/src/site_symmetry.c).\n",
      "spglib: ssm_get_exact_positions failed (attempt=2). (line 115, /tmp/pip-install-58cw25xt/spglib_6207849ab7c64022b27925c813b8e5ef/src/site_symmetry.c).\n",
      "spglib: ssm_get_exact_positions failed (attempt=3). (line 115, /tmp/pip-install-58cw25xt/spglib_6207849ab7c64022b27925c813b8e5ef/src/site_symmetry.c).\n",
      "spglib: ssm_get_exact_positions failed (attempt=4). (line 115, /tmp/pip-install-58cw25xt/spglib_6207849ab7c64022b27925c813b8e5ef/src/site_symmetry.c).\n",
      "spglib: ssm_get_exact_positions failed. (line 479, /tmp/pip-install-58cw25xt/spglib_6207849ab7c64022b27925c813b8e5ef/src/refinement.c).\n",
      "spglib: get_bravais_exact_positions_and_lattice failed. (line 336, /tmp/pip-install-58cw25xt/spglib_6207849ab7c64022b27925c813b8e5ef/src/refinement.c).\n",
      "spglib: ref_get_exact_structure_and_symmetry failed. (line 82, /tmp/pip-install-58cw25xt/spglib_6207849ab7c64022b27925c813b8e5ef/src/determination.c).\n",
      "spglib: ssm_get_exact_positions failed (attempt=0). (line 115, /tmp/pip-install-58cw25xt/spglib_6207849ab7c64022b27925c813b8e5ef/src/site_symmetry.c).\n",
      "spglib: ssm_get_exact_positions failed (attempt=1). (line 115, /tmp/pip-install-58cw25xt/spglib_6207849ab7c64022b27925c813b8e5ef/src/site_symmetry.c).\n",
      "spglib: ssm_get_exact_positions failed (attempt=2). (line 115, /tmp/pip-install-58cw25xt/spglib_6207849ab7c64022b27925c813b8e5ef/src/site_symmetry.c).\n",
      "spglib: ssm_get_exact_positions failed (attempt=3). (line 115, /tmp/pip-install-58cw25xt/spglib_6207849ab7c64022b27925c813b8e5ef/src/site_symmetry.c).\n",
      "spglib: ssm_get_exact_positions failed (attempt=4). (line 115, /tmp/pip-install-58cw25xt/spglib_6207849ab7c64022b27925c813b8e5ef/src/site_symmetry.c).\n",
      "spglib: ssm_get_exact_positions failed. (line 479, /tmp/pip-install-58cw25xt/spglib_6207849ab7c64022b27925c813b8e5ef/src/refinement.c).\n",
      "spglib: get_bravais_exact_positions_and_lattice failed. (line 336, /tmp/pip-install-58cw25xt/spglib_6207849ab7c64022b27925c813b8e5ef/src/refinement.c).\n",
      "spglib: ref_get_exact_structure_and_symmetry failed. (line 82, /tmp/pip-install-58cw25xt/spglib_6207849ab7c64022b27925c813b8e5ef/src/determination.c).\n",
      "spglib: ssm_get_exact_positions failed (attempt=0). (line 115, /tmp/pip-install-58cw25xt/spglib_6207849ab7c64022b27925c813b8e5ef/src/site_symmetry.c).\n",
      "spglib: ssm_get_exact_positions failed (attempt=1). (line 115, /tmp/pip-install-58cw25xt/spglib_6207849ab7c64022b27925c813b8e5ef/src/site_symmetry.c).\n",
      "spglib: ssm_get_exact_positions failed (attempt=2). (line 115, /tmp/pip-install-58cw25xt/spglib_6207849ab7c64022b27925c813b8e5ef/src/site_symmetry.c).\n",
      "spglib: ssm_get_exact_positions failed (attempt=3). (line 115, /tmp/pip-install-58cw25xt/spglib_6207849ab7c64022b27925c813b8e5ef/src/site_symmetry.c).\n",
      "spglib: ssm_get_exact_positions failed (attempt=4). (line 115, /tmp/pip-install-58cw25xt/spglib_6207849ab7c64022b27925c813b8e5ef/src/site_symmetry.c).\n",
      "spglib: ssm_get_exact_positions failed. (line 479, /tmp/pip-install-58cw25xt/spglib_6207849ab7c64022b27925c813b8e5ef/src/refinement.c).\n",
      "spglib: get_bravais_exact_positions_and_lattice failed. (line 336, /tmp/pip-install-58cw25xt/spglib_6207849ab7c64022b27925c813b8e5ef/src/refinement.c).\n",
      "spglib: ref_get_exact_structure_and_symmetry failed. (line 82, /tmp/pip-install-58cw25xt/spglib_6207849ab7c64022b27925c813b8e5ef/src/determination.c).\n",
      "spglib: ssm_get_exact_positions failed (attempt=0). (line 115, /tmp/pip-install-58cw25xt/spglib_6207849ab7c64022b27925c813b8e5ef/src/site_symmetry.c).\n",
      "spglib: ssm_get_exact_positions failed (attempt=1). (line 115, /tmp/pip-install-58cw25xt/spglib_6207849ab7c64022b27925c813b8e5ef/src/site_symmetry.c).\n",
      "spglib: ssm_get_exact_positions failed (attempt=2). (line 115, /tmp/pip-install-58cw25xt/spglib_6207849ab7c64022b27925c813b8e5ef/src/site_symmetry.c).\n",
      "spglib: ssm_get_exact_positions failed (attempt=3). (line 115, /tmp/pip-install-58cw25xt/spglib_6207849ab7c64022b27925c813b8e5ef/src/site_symmetry.c).\n",
      "spglib: ssm_get_exact_positions failed (attempt=4). (line 115, /tmp/pip-install-58cw25xt/spglib_6207849ab7c64022b27925c813b8e5ef/src/site_symmetry.c).\n",
      "spglib: ssm_get_exact_positions failed. (line 479, /tmp/pip-install-58cw25xt/spglib_6207849ab7c64022b27925c813b8e5ef/src/refinement.c).\n",
      "spglib: get_bravais_exact_positions_and_lattice failed. (line 336, /tmp/pip-install-58cw25xt/spglib_6207849ab7c64022b27925c813b8e5ef/src/refinement.c).\n",
      "spglib: ref_get_exact_structure_and_symmetry failed. (line 82, /tmp/pip-install-58cw25xt/spglib_6207849ab7c64022b27925c813b8e5ef/src/determination.c).\n",
      "spglib: ssm_get_exact_positions failed (attempt=0). (line 115, /tmp/pip-install-58cw25xt/spglib_6207849ab7c64022b27925c813b8e5ef/src/site_symmetry.c).\n",
      "spglib: ssm_get_exact_positions failed (attempt=1). (line 115, /tmp/pip-install-58cw25xt/spglib_6207849ab7c64022b27925c813b8e5ef/src/site_symmetry.c).\n",
      "spglib: ssm_get_exact_positions failed (attempt=2). (line 115, /tmp/pip-install-58cw25xt/spglib_6207849ab7c64022b27925c813b8e5ef/src/site_symmetry.c).\n",
      "spglib: ssm_get_exact_positions failed (attempt=3). (line 115, /tmp/pip-install-58cw25xt/spglib_6207849ab7c64022b27925c813b8e5ef/src/site_symmetry.c).\n",
      "spglib: ssm_get_exact_positions failed (attempt=4). (line 115, /tmp/pip-install-58cw25xt/spglib_6207849ab7c64022b27925c813b8e5ef/src/site_symmetry.c).\n",
      "spglib: ssm_get_exact_positions failed. (line 479, /tmp/pip-install-58cw25xt/spglib_6207849ab7c64022b27925c813b8e5ef/src/refinement.c).\n",
      "spglib: get_bravais_exact_positions_and_lattice failed. (line 336, /tmp/pip-install-58cw25xt/spglib_6207849ab7c64022b27925c813b8e5ef/src/refinement.c).\n",
      "spglib: ref_get_exact_structure_and_symmetry failed. (line 82, /tmp/pip-install-58cw25xt/spglib_6207849ab7c64022b27925c813b8e5ef/src/determination.c).\n",
      "spglib: ssm_get_exact_positions failed (attempt=0). (line 115, /tmp/pip-install-58cw25xt/spglib_6207849ab7c64022b27925c813b8e5ef/src/site_symmetry.c).\n",
      "spglib: ssm_get_exact_positions failed (attempt=1). (line 115, /tmp/pip-install-58cw25xt/spglib_6207849ab7c64022b27925c813b8e5ef/src/site_symmetry.c).\n",
      "spglib: ssm_get_exact_positions failed (attempt=2). (line 115, /tmp/pip-install-58cw25xt/spglib_6207849ab7c64022b27925c813b8e5ef/src/site_symmetry.c).\n",
      "spglib: ssm_get_exact_positions failed (attempt=3). (line 115, /tmp/pip-install-58cw25xt/spglib_6207849ab7c64022b27925c813b8e5ef/src/site_symmetry.c).\n",
      "spglib: ssm_get_exact_positions failed (attempt=4). (line 115, /tmp/pip-install-58cw25xt/spglib_6207849ab7c64022b27925c813b8e5ef/src/site_symmetry.c).\n",
      "spglib: ssm_get_exact_positions failed. (line 479, /tmp/pip-install-58cw25xt/spglib_6207849ab7c64022b27925c813b8e5ef/src/refinement.c).\n",
      "spglib: get_bravais_exact_positions_and_lattice failed. (line 336, /tmp/pip-install-58cw25xt/spglib_6207849ab7c64022b27925c813b8e5ef/src/refinement.c).\n",
      "spglib: ref_get_exact_structure_and_symmetry failed. (line 82, /tmp/pip-install-58cw25xt/spglib_6207849ab7c64022b27925c813b8e5ef/src/determination.c).\n",
      "spglib: ssm_get_exact_positions failed (attempt=0). (line 115, /tmp/pip-install-58cw25xt/spglib_6207849ab7c64022b27925c813b8e5ef/src/site_symmetry.c).\n",
      "spglib: ssm_get_exact_positions failed (attempt=1). (line 115, /tmp/pip-install-58cw25xt/spglib_6207849ab7c64022b27925c813b8e5ef/src/site_symmetry.c).\n",
      "spglib: ssm_get_exact_positions failed (attempt=2). (line 115, /tmp/pip-install-58cw25xt/spglib_6207849ab7c64022b27925c813b8e5ef/src/site_symmetry.c).\n",
      "spglib: ssm_get_exact_positions failed (attempt=3). (line 115, /tmp/pip-install-58cw25xt/spglib_6207849ab7c64022b27925c813b8e5ef/src/site_symmetry.c).\n",
      "spglib: ssm_get_exact_positions failed (attempt=4). (line 115, /tmp/pip-install-58cw25xt/spglib_6207849ab7c64022b27925c813b8e5ef/src/site_symmetry.c).\n",
      "spglib: ssm_get_exact_positions failed. (line 479, /tmp/pip-install-58cw25xt/spglib_6207849ab7c64022b27925c813b8e5ef/src/refinement.c).\n",
      "spglib: get_bravais_exact_positions_and_lattice failed. (line 336, /tmp/pip-install-58cw25xt/spglib_6207849ab7c64022b27925c813b8e5ef/src/refinement.c).\n",
      "spglib: ref_get_exact_structure_and_symmetry failed. (line 82, /tmp/pip-install-58cw25xt/spglib_6207849ab7c64022b27925c813b8e5ef/src/determination.c).\n",
      "spglib: ssm_get_exact_positions failed (attempt=0). (line 115, /tmp/pip-install-58cw25xt/spglib_6207849ab7c64022b27925c813b8e5ef/src/site_symmetry.c).\n",
      "spglib: ssm_get_exact_positions failed (attempt=1). (line 115, /tmp/pip-install-58cw25xt/spglib_6207849ab7c64022b27925c813b8e5ef/src/site_symmetry.c).\n",
      "spglib: ssm_get_exact_positions failed (attempt=2). (line 115, /tmp/pip-install-58cw25xt/spglib_6207849ab7c64022b27925c813b8e5ef/src/site_symmetry.c).\n",
      "spglib: ssm_get_exact_positions failed (attempt=3). (line 115, /tmp/pip-install-58cw25xt/spglib_6207849ab7c64022b27925c813b8e5ef/src/site_symmetry.c).\n",
      "spglib: ssm_get_exact_positions failed (attempt=4). (line 115, /tmp/pip-install-58cw25xt/spglib_6207849ab7c64022b27925c813b8e5ef/src/site_symmetry.c).\n",
      "spglib: ssm_get_exact_positions failed. (line 479, /tmp/pip-install-58cw25xt/spglib_6207849ab7c64022b27925c813b8e5ef/src/refinement.c).\n",
      "spglib: get_bravais_exact_positions_and_lattice failed. (line 336, /tmp/pip-install-58cw25xt/spglib_6207849ab7c64022b27925c813b8e5ef/src/refinement.c).\n",
      "spglib: ref_get_exact_structure_and_symmetry failed. (line 82, /tmp/pip-install-58cw25xt/spglib_6207849ab7c64022b27925c813b8e5ef/src/determination.c).\n",
      "spglib: ssm_get_exact_positions failed (attempt=0). (line 115, /tmp/pip-install-58cw25xt/spglib_6207849ab7c64022b27925c813b8e5ef/src/site_symmetry.c).\n",
      "spglib: ssm_get_exact_positions failed (attempt=1). (line 115, /tmp/pip-install-58cw25xt/spglib_6207849ab7c64022b27925c813b8e5ef/src/site_symmetry.c).\n",
      "spglib: ssm_get_exact_positions failed (attempt=2). (line 115, /tmp/pip-install-58cw25xt/spglib_6207849ab7c64022b27925c813b8e5ef/src/site_symmetry.c).\n",
      "spglib: ssm_get_exact_positions failed (attempt=3). (line 115, /tmp/pip-install-58cw25xt/spglib_6207849ab7c64022b27925c813b8e5ef/src/site_symmetry.c).\n",
      "spglib: ssm_get_exact_positions failed (attempt=4). (line 115, /tmp/pip-install-58cw25xt/spglib_6207849ab7c64022b27925c813b8e5ef/src/site_symmetry.c).\n",
      "spglib: ssm_get_exact_positions failed. (line 479, /tmp/pip-install-58cw25xt/spglib_6207849ab7c64022b27925c813b8e5ef/src/refinement.c).\n",
      "spglib: get_bravais_exact_positions_and_lattice failed. (line 336, /tmp/pip-install-58cw25xt/spglib_6207849ab7c64022b27925c813b8e5ef/src/refinement.c).\n",
      "spglib: ref_get_exact_structure_and_symmetry failed. (line 82, /tmp/pip-install-58cw25xt/spglib_6207849ab7c64022b27925c813b8e5ef/src/determination.c).\n",
      "spglib: ssm_get_exact_positions failed (attempt=0). (line 115, /tmp/pip-install-58cw25xt/spglib_6207849ab7c64022b27925c813b8e5ef/src/site_symmetry.c).\n",
      "spglib: ssm_get_exact_positions failed (attempt=1). (line 115, /tmp/pip-install-58cw25xt/spglib_6207849ab7c64022b27925c813b8e5ef/src/site_symmetry.c).\n",
      "spglib: ssm_get_exact_positions failed (attempt=2). (line 115, /tmp/pip-install-58cw25xt/spglib_6207849ab7c64022b27925c813b8e5ef/src/site_symmetry.c).\n",
      "spglib: ssm_get_exact_positions failed (attempt=3). (line 115, /tmp/pip-install-58cw25xt/spglib_6207849ab7c64022b27925c813b8e5ef/src/site_symmetry.c).\n",
      "spglib: ssm_get_exact_positions failed (attempt=4). (line 115, /tmp/pip-install-58cw25xt/spglib_6207849ab7c64022b27925c813b8e5ef/src/site_symmetry.c).\n",
      "spglib: ssm_get_exact_positions failed. (line 479, /tmp/pip-install-58cw25xt/spglib_6207849ab7c64022b27925c813b8e5ef/src/refinement.c).\n",
      "spglib: get_bravais_exact_positions_and_lattice failed. (line 336, /tmp/pip-install-58cw25xt/spglib_6207849ab7c64022b27925c813b8e5ef/src/refinement.c).\n",
      "spglib: ref_get_exact_structure_and_symmetry failed. (line 82, /tmp/pip-install-58cw25xt/spglib_6207849ab7c64022b27925c813b8e5ef/src/determination.c).\n",
      "spglib: ssm_get_exact_positions failed (attempt=0). (line 115, /tmp/pip-install-58cw25xt/spglib_6207849ab7c64022b27925c813b8e5ef/src/site_symmetry.c).\n",
      "spglib: ssm_get_exact_positions failed (attempt=1). (line 115, /tmp/pip-install-58cw25xt/spglib_6207849ab7c64022b27925c813b8e5ef/src/site_symmetry.c).\n",
      "spglib: ssm_get_exact_positions failed (attempt=2). (line 115, /tmp/pip-install-58cw25xt/spglib_6207849ab7c64022b27925c813b8e5ef/src/site_symmetry.c).\n",
      "spglib: ssm_get_exact_positions failed (attempt=3). (line 115, /tmp/pip-install-58cw25xt/spglib_6207849ab7c64022b27925c813b8e5ef/src/site_symmetry.c).\n",
      "spglib: ssm_get_exact_positions failed (attempt=4). (line 115, /tmp/pip-install-58cw25xt/spglib_6207849ab7c64022b27925c813b8e5ef/src/site_symmetry.c).\n",
      "spglib: ssm_get_exact_positions failed. (line 479, /tmp/pip-install-58cw25xt/spglib_6207849ab7c64022b27925c813b8e5ef/src/refinement.c).\n",
      "spglib: get_bravais_exact_positions_and_lattice failed. (line 336, /tmp/pip-install-58cw25xt/spglib_6207849ab7c64022b27925c813b8e5ef/src/refinement.c).\n",
      "spglib: ref_get_exact_structure_and_symmetry failed. (line 82, /tmp/pip-install-58cw25xt/spglib_6207849ab7c64022b27925c813b8e5ef/src/determination.c).\n",
      "spglib: ssm_get_exact_positions failed (attempt=0). (line 115, /tmp/pip-install-58cw25xt/spglib_6207849ab7c64022b27925c813b8e5ef/src/site_symmetry.c).\n",
      "spglib: ssm_get_exact_positions failed (attempt=1). (line 115, /tmp/pip-install-58cw25xt/spglib_6207849ab7c64022b27925c813b8e5ef/src/site_symmetry.c).\n",
      "spglib: ssm_get_exact_positions failed (attempt=2). (line 115, /tmp/pip-install-58cw25xt/spglib_6207849ab7c64022b27925c813b8e5ef/src/site_symmetry.c).\n",
      "spglib: ssm_get_exact_positions failed (attempt=3). (line 115, /tmp/pip-install-58cw25xt/spglib_6207849ab7c64022b27925c813b8e5ef/src/site_symmetry.c).\n",
      "spglib: ssm_get_exact_positions failed (attempt=4). (line 115, /tmp/pip-install-58cw25xt/spglib_6207849ab7c64022b27925c813b8e5ef/src/site_symmetry.c).\n",
      "spglib: ssm_get_exact_positions failed. (line 479, /tmp/pip-install-58cw25xt/spglib_6207849ab7c64022b27925c813b8e5ef/src/refinement.c).\n",
      "spglib: get_bravais_exact_positions_and_lattice failed. (line 336, /tmp/pip-install-58cw25xt/spglib_6207849ab7c64022b27925c813b8e5ef/src/refinement.c).\n",
      "spglib: ref_get_exact_structure_and_symmetry failed. (line 82, /tmp/pip-install-58cw25xt/spglib_6207849ab7c64022b27925c813b8e5ef/src/determination.c).\n",
      "spglib: ssm_get_exact_positions failed (attempt=0). (line 115, /tmp/pip-install-58cw25xt/spglib_6207849ab7c64022b27925c813b8e5ef/src/site_symmetry.c).\n",
      "spglib: ssm_get_exact_positions failed (attempt=1). (line 115, /tmp/pip-install-58cw25xt/spglib_6207849ab7c64022b27925c813b8e5ef/src/site_symmetry.c).\n",
      "spglib: ssm_get_exact_positions failed (attempt=2). (line 115, /tmp/pip-install-58cw25xt/spglib_6207849ab7c64022b27925c813b8e5ef/src/site_symmetry.c).\n",
      "spglib: ssm_get_exact_positions failed (attempt=3). (line 115, /tmp/pip-install-58cw25xt/spglib_6207849ab7c64022b27925c813b8e5ef/src/site_symmetry.c).\n",
      "spglib: ssm_get_exact_positions failed (attempt=4). (line 115, /tmp/pip-install-58cw25xt/spglib_6207849ab7c64022b27925c813b8e5ef/src/site_symmetry.c).\n",
      "spglib: ssm_get_exact_positions failed. (line 479, /tmp/pip-install-58cw25xt/spglib_6207849ab7c64022b27925c813b8e5ef/src/refinement.c).\n",
      "spglib: get_bravais_exact_positions_and_lattice failed. (line 336, /tmp/pip-install-58cw25xt/spglib_6207849ab7c64022b27925c813b8e5ef/src/refinement.c).\n",
      "spglib: ref_get_exact_structure_and_symmetry failed. (line 82, /tmp/pip-install-58cw25xt/spglib_6207849ab7c64022b27925c813b8e5ef/src/determination.c).\n",
      "spglib: ssm_get_exact_positions failed (attempt=0). (line 115, /tmp/pip-install-58cw25xt/spglib_6207849ab7c64022b27925c813b8e5ef/src/site_symmetry.c).\n",
      "spglib: ssm_get_exact_positions failed (attempt=1). (line 115, /tmp/pip-install-58cw25xt/spglib_6207849ab7c64022b27925c813b8e5ef/src/site_symmetry.c).\n",
      "spglib: ssm_get_exact_positions failed (attempt=2). (line 115, /tmp/pip-install-58cw25xt/spglib_6207849ab7c64022b27925c813b8e5ef/src/site_symmetry.c).\n",
      "spglib: ssm_get_exact_positions failed (attempt=3). (line 115, /tmp/pip-install-58cw25xt/spglib_6207849ab7c64022b27925c813b8e5ef/src/site_symmetry.c).\n",
      "spglib: ssm_get_exact_positions failed (attempt=4). (line 115, /tmp/pip-install-58cw25xt/spglib_6207849ab7c64022b27925c813b8e5ef/src/site_symmetry.c).\n",
      "spglib: ssm_get_exact_positions failed. (line 479, /tmp/pip-install-58cw25xt/spglib_6207849ab7c64022b27925c813b8e5ef/src/refinement.c).\n",
      "spglib: get_bravais_exact_positions_and_lattice failed. (line 336, /tmp/pip-install-58cw25xt/spglib_6207849ab7c64022b27925c813b8e5ef/src/refinement.c).\n",
      "spglib: ref_get_exact_structure_and_symmetry failed. (line 82, /tmp/pip-install-58cw25xt/spglib_6207849ab7c64022b27925c813b8e5ef/src/determination.c).\n",
      "spglib: ssm_get_exact_positions failed (attempt=0). (line 115, /tmp/pip-install-58cw25xt/spglib_6207849ab7c64022b27925c813b8e5ef/src/site_symmetry.c).\n",
      "spglib: ssm_get_exact_positions failed (attempt=1). (line 115, /tmp/pip-install-58cw25xt/spglib_6207849ab7c64022b27925c813b8e5ef/src/site_symmetry.c).\n",
      "spglib: ssm_get_exact_positions failed (attempt=2). (line 115, /tmp/pip-install-58cw25xt/spglib_6207849ab7c64022b27925c813b8e5ef/src/site_symmetry.c).\n",
      "spglib: ssm_get_exact_positions failed (attempt=3). (line 115, /tmp/pip-install-58cw25xt/spglib_6207849ab7c64022b27925c813b8e5ef/src/site_symmetry.c).\n",
      "spglib: ssm_get_exact_positions failed (attempt=4). (line 115, /tmp/pip-install-58cw25xt/spglib_6207849ab7c64022b27925c813b8e5ef/src/site_symmetry.c).\n",
      "spglib: ssm_get_exact_positions failed. (line 479, /tmp/pip-install-58cw25xt/spglib_6207849ab7c64022b27925c813b8e5ef/src/refinement.c).\n",
      "spglib: get_bravais_exact_positions_and_lattice failed. (line 336, /tmp/pip-install-58cw25xt/spglib_6207849ab7c64022b27925c813b8e5ef/src/refinement.c).\n",
      "spglib: ref_get_exact_structure_and_symmetry failed. (line 82, /tmp/pip-install-58cw25xt/spglib_6207849ab7c64022b27925c813b8e5ef/src/determination.c).\n",
      "spglib: ssm_get_exact_positions failed (attempt=0). (line 115, /tmp/pip-install-58cw25xt/spglib_6207849ab7c64022b27925c813b8e5ef/src/site_symmetry.c).\n",
      "spglib: ssm_get_exact_positions failed (attempt=1). (line 115, /tmp/pip-install-58cw25xt/spglib_6207849ab7c64022b27925c813b8e5ef/src/site_symmetry.c).\n",
      "spglib: ssm_get_exact_positions failed (attempt=2). (line 115, /tmp/pip-install-58cw25xt/spglib_6207849ab7c64022b27925c813b8e5ef/src/site_symmetry.c).\n",
      "spglib: ssm_get_exact_positions failed (attempt=3). (line 115, /tmp/pip-install-58cw25xt/spglib_6207849ab7c64022b27925c813b8e5ef/src/site_symmetry.c).\n",
      "spglib: ssm_get_exact_positions failed (attempt=4). (line 115, /tmp/pip-install-58cw25xt/spglib_6207849ab7c64022b27925c813b8e5ef/src/site_symmetry.c).\n",
      "spglib: ssm_get_exact_positions failed. (line 479, /tmp/pip-install-58cw25xt/spglib_6207849ab7c64022b27925c813b8e5ef/src/refinement.c).\n",
      "spglib: get_bravais_exact_positions_and_lattice failed. (line 336, /tmp/pip-install-58cw25xt/spglib_6207849ab7c64022b27925c813b8e5ef/src/refinement.c).\n",
      "spglib: ref_get_exact_structure_and_symmetry failed. (line 82, /tmp/pip-install-58cw25xt/spglib_6207849ab7c64022b27925c813b8e5ef/src/determination.c).\n",
      "spglib: ssm_get_exact_positions failed (attempt=0). (line 115, /tmp/pip-install-58cw25xt/spglib_6207849ab7c64022b27925c813b8e5ef/src/site_symmetry.c).\n",
      "spglib: ssm_get_exact_positions failed (attempt=1). (line 115, /tmp/pip-install-58cw25xt/spglib_6207849ab7c64022b27925c813b8e5ef/src/site_symmetry.c).\n",
      "spglib: ssm_get_exact_positions failed (attempt=2). (line 115, /tmp/pip-install-58cw25xt/spglib_6207849ab7c64022b27925c813b8e5ef/src/site_symmetry.c).\n",
      "spglib: ssm_get_exact_positions failed (attempt=3). (line 115, /tmp/pip-install-58cw25xt/spglib_6207849ab7c64022b27925c813b8e5ef/src/site_symmetry.c).\n",
      "spglib: ssm_get_exact_positions failed (attempt=4). (line 115, /tmp/pip-install-58cw25xt/spglib_6207849ab7c64022b27925c813b8e5ef/src/site_symmetry.c).\n",
      "spglib: ssm_get_exact_positions failed. (line 479, /tmp/pip-install-58cw25xt/spglib_6207849ab7c64022b27925c813b8e5ef/src/refinement.c).\n",
      "spglib: get_bravais_exact_positions_and_lattice failed. (line 336, /tmp/pip-install-58cw25xt/spglib_6207849ab7c64022b27925c813b8e5ef/src/refinement.c).\n",
      "spglib: ref_get_exact_structure_and_symmetry failed. (line 82, /tmp/pip-install-58cw25xt/spglib_6207849ab7c64022b27925c813b8e5ef/src/determination.c).\n",
      "spglib: ssm_get_exact_positions failed (attempt=0). (line 115, /tmp/pip-install-58cw25xt/spglib_6207849ab7c64022b27925c813b8e5ef/src/site_symmetry.c).\n",
      "spglib: ssm_get_exact_positions failed (attempt=1). (line 115, /tmp/pip-install-58cw25xt/spglib_6207849ab7c64022b27925c813b8e5ef/src/site_symmetry.c).\n",
      "spglib: ssm_get_exact_positions failed (attempt=2). (line 115, /tmp/pip-install-58cw25xt/spglib_6207849ab7c64022b27925c813b8e5ef/src/site_symmetry.c).\n",
      "spglib: ssm_get_exact_positions failed (attempt=3). (line 115, /tmp/pip-install-58cw25xt/spglib_6207849ab7c64022b27925c813b8e5ef/src/site_symmetry.c).\n",
      "spglib: ssm_get_exact_positions failed (attempt=4). (line 115, /tmp/pip-install-58cw25xt/spglib_6207849ab7c64022b27925c813b8e5ef/src/site_symmetry.c).\n",
      "spglib: ssm_get_exact_positions failed. (line 479, /tmp/pip-install-58cw25xt/spglib_6207849ab7c64022b27925c813b8e5ef/src/refinement.c).\n",
      "spglib: get_bravais_exact_positions_and_lattice failed. (line 336, /tmp/pip-install-58cw25xt/spglib_6207849ab7c64022b27925c813b8e5ef/src/refinement.c).\n",
      "spglib: ref_get_exact_structure_and_symmetry failed. (line 82, /tmp/pip-install-58cw25xt/spglib_6207849ab7c64022b27925c813b8e5ef/src/determination.c).\n",
      "spglib: ssm_get_exact_positions failed (attempt=0). (line 115, /tmp/pip-install-58cw25xt/spglib_6207849ab7c64022b27925c813b8e5ef/src/site_symmetry.c).\n",
      "spglib: ssm_get_exact_positions failed (attempt=1). (line 115, /tmp/pip-install-58cw25xt/spglib_6207849ab7c64022b27925c813b8e5ef/src/site_symmetry.c).\n",
      "spglib: ssm_get_exact_positions failed (attempt=2). (line 115, /tmp/pip-install-58cw25xt/spglib_6207849ab7c64022b27925c813b8e5ef/src/site_symmetry.c).\n",
      "spglib: ssm_get_exact_positions failed (attempt=3). (line 115, /tmp/pip-install-58cw25xt/spglib_6207849ab7c64022b27925c813b8e5ef/src/site_symmetry.c).\n",
      "spglib: ssm_get_exact_positions failed (attempt=4). (line 115, /tmp/pip-install-58cw25xt/spglib_6207849ab7c64022b27925c813b8e5ef/src/site_symmetry.c).\n",
      "spglib: ssm_get_exact_positions failed. (line 479, /tmp/pip-install-58cw25xt/spglib_6207849ab7c64022b27925c813b8e5ef/src/refinement.c).\n",
      "spglib: get_bravais_exact_positions_and_lattice failed. (line 336, /tmp/pip-install-58cw25xt/spglib_6207849ab7c64022b27925c813b8e5ef/src/refinement.c).\n",
      "spglib: ref_get_exact_structure_and_symmetry failed. (line 82, /tmp/pip-install-58cw25xt/spglib_6207849ab7c64022b27925c813b8e5ef/src/determination.c).\n",
      "spglib: ssm_get_exact_positions failed (attempt=0). (line 115, /tmp/pip-install-58cw25xt/spglib_6207849ab7c64022b27925c813b8e5ef/src/site_symmetry.c).\n",
      "spglib: ssm_get_exact_positions failed (attempt=1). (line 115, /tmp/pip-install-58cw25xt/spglib_6207849ab7c64022b27925c813b8e5ef/src/site_symmetry.c).\n",
      "spglib: ssm_get_exact_positions failed (attempt=2). (line 115, /tmp/pip-install-58cw25xt/spglib_6207849ab7c64022b27925c813b8e5ef/src/site_symmetry.c).\n",
      "spglib: ssm_get_exact_positions failed (attempt=3). (line 115, /tmp/pip-install-58cw25xt/spglib_6207849ab7c64022b27925c813b8e5ef/src/site_symmetry.c).\n",
      "spglib: ssm_get_exact_positions failed (attempt=4). (line 115, /tmp/pip-install-58cw25xt/spglib_6207849ab7c64022b27925c813b8e5ef/src/site_symmetry.c).\n",
      "spglib: ssm_get_exact_positions failed. (line 479, /tmp/pip-install-58cw25xt/spglib_6207849ab7c64022b27925c813b8e5ef/src/refinement.c).\n",
      "spglib: get_bravais_exact_positions_and_lattice failed. (line 336, /tmp/pip-install-58cw25xt/spglib_6207849ab7c64022b27925c813b8e5ef/src/refinement.c).\n",
      "spglib: ref_get_exact_structure_and_symmetry failed. (line 82, /tmp/pip-install-58cw25xt/spglib_6207849ab7c64022b27925c813b8e5ef/src/determination.c).\n",
      "spglib: ssm_get_exact_positions failed (attempt=0). (line 115, /tmp/pip-install-58cw25xt/spglib_6207849ab7c64022b27925c813b8e5ef/src/site_symmetry.c).\n",
      "spglib: ssm_get_exact_positions failed (attempt=1). (line 115, /tmp/pip-install-58cw25xt/spglib_6207849ab7c64022b27925c813b8e5ef/src/site_symmetry.c).\n",
      "spglib: ssm_get_exact_positions failed (attempt=2). (line 115, /tmp/pip-install-58cw25xt/spglib_6207849ab7c64022b27925c813b8e5ef/src/site_symmetry.c).\n",
      "spglib: ssm_get_exact_positions failed (attempt=3). (line 115, /tmp/pip-install-58cw25xt/spglib_6207849ab7c64022b27925c813b8e5ef/src/site_symmetry.c).\n",
      "spglib: ssm_get_exact_positions failed (attempt=4). (line 115, /tmp/pip-install-58cw25xt/spglib_6207849ab7c64022b27925c813b8e5ef/src/site_symmetry.c).\n",
      "spglib: ssm_get_exact_positions failed. (line 479, /tmp/pip-install-58cw25xt/spglib_6207849ab7c64022b27925c813b8e5ef/src/refinement.c).\n",
      "spglib: get_bravais_exact_positions_and_lattice failed. (line 336, /tmp/pip-install-58cw25xt/spglib_6207849ab7c64022b27925c813b8e5ef/src/refinement.c).\n",
      "spglib: ref_get_exact_structure_and_symmetry failed. (line 82, /tmp/pip-install-58cw25xt/spglib_6207849ab7c64022b27925c813b8e5ef/src/determination.c).\n",
      "spglib: ssm_get_exact_positions failed (attempt=0). (line 115, /tmp/pip-install-58cw25xt/spglib_6207849ab7c64022b27925c813b8e5ef/src/site_symmetry.c).\n",
      "spglib: ssm_get_exact_positions failed (attempt=1). (line 115, /tmp/pip-install-58cw25xt/spglib_6207849ab7c64022b27925c813b8e5ef/src/site_symmetry.c).\n",
      "spglib: ssm_get_exact_positions failed (attempt=2). (line 115, /tmp/pip-install-58cw25xt/spglib_6207849ab7c64022b27925c813b8e5ef/src/site_symmetry.c).\n",
      "spglib: ssm_get_exact_positions failed (attempt=3). (line 115, /tmp/pip-install-58cw25xt/spglib_6207849ab7c64022b27925c813b8e5ef/src/site_symmetry.c).\n",
      "spglib: ssm_get_exact_positions failed (attempt=4). (line 115, /tmp/pip-install-58cw25xt/spglib_6207849ab7c64022b27925c813b8e5ef/src/site_symmetry.c).\n",
      "spglib: ssm_get_exact_positions failed. (line 479, /tmp/pip-install-58cw25xt/spglib_6207849ab7c64022b27925c813b8e5ef/src/refinement.c).\n",
      "spglib: get_bravais_exact_positions_and_lattice failed. (line 336, /tmp/pip-install-58cw25xt/spglib_6207849ab7c64022b27925c813b8e5ef/src/refinement.c).\n",
      "spglib: ref_get_exact_structure_and_symmetry failed. (line 82, /tmp/pip-install-58cw25xt/spglib_6207849ab7c64022b27925c813b8e5ef/src/determination.c).\n",
      "spglib: ssm_get_exact_positions failed (attempt=0). (line 115, /tmp/pip-install-58cw25xt/spglib_6207849ab7c64022b27925c813b8e5ef/src/site_symmetry.c).\n",
      "spglib: ssm_get_exact_positions failed (attempt=1). (line 115, /tmp/pip-install-58cw25xt/spglib_6207849ab7c64022b27925c813b8e5ef/src/site_symmetry.c).\n",
      "spglib: ssm_get_exact_positions failed (attempt=2). (line 115, /tmp/pip-install-58cw25xt/spglib_6207849ab7c64022b27925c813b8e5ef/src/site_symmetry.c).\n",
      "spglib: ssm_get_exact_positions failed (attempt=3). (line 115, /tmp/pip-install-58cw25xt/spglib_6207849ab7c64022b27925c813b8e5ef/src/site_symmetry.c).\n",
      "spglib: ssm_get_exact_positions failed (attempt=4). (line 115, /tmp/pip-install-58cw25xt/spglib_6207849ab7c64022b27925c813b8e5ef/src/site_symmetry.c).\n",
      "spglib: ssm_get_exact_positions failed. (line 479, /tmp/pip-install-58cw25xt/spglib_6207849ab7c64022b27925c813b8e5ef/src/refinement.c).\n",
      "spglib: get_bravais_exact_positions_and_lattice failed. (line 336, /tmp/pip-install-58cw25xt/spglib_6207849ab7c64022b27925c813b8e5ef/src/refinement.c).\n",
      "spglib: ref_get_exact_structure_and_symmetry failed. (line 82, /tmp/pip-install-58cw25xt/spglib_6207849ab7c64022b27925c813b8e5ef/src/determination.c).\n",
      "spglib: ssm_get_exact_positions failed (attempt=0). (line 115, /tmp/pip-install-58cw25xt/spglib_6207849ab7c64022b27925c813b8e5ef/src/site_symmetry.c).\n",
      "spglib: ssm_get_exact_positions failed (attempt=1). (line 115, /tmp/pip-install-58cw25xt/spglib_6207849ab7c64022b27925c813b8e5ef/src/site_symmetry.c).\n",
      "spglib: ssm_get_exact_positions failed (attempt=2). (line 115, /tmp/pip-install-58cw25xt/spglib_6207849ab7c64022b27925c813b8e5ef/src/site_symmetry.c).\n",
      "spglib: ssm_get_exact_positions failed (attempt=3). (line 115, /tmp/pip-install-58cw25xt/spglib_6207849ab7c64022b27925c813b8e5ef/src/site_symmetry.c).\n",
      "spglib: ssm_get_exact_positions failed (attempt=4). (line 115, /tmp/pip-install-58cw25xt/spglib_6207849ab7c64022b27925c813b8e5ef/src/site_symmetry.c).\n",
      "spglib: ssm_get_exact_positions failed. (line 479, /tmp/pip-install-58cw25xt/spglib_6207849ab7c64022b27925c813b8e5ef/src/refinement.c).\n",
      "spglib: get_bravais_exact_positions_and_lattice failed. (line 336, /tmp/pip-install-58cw25xt/spglib_6207849ab7c64022b27925c813b8e5ef/src/refinement.c).\n",
      "spglib: ref_get_exact_structure_and_symmetry failed. (line 82, /tmp/pip-install-58cw25xt/spglib_6207849ab7c64022b27925c813b8e5ef/src/determination.c).\n",
      "spglib: ssm_get_exact_positions failed (attempt=0). (line 115, /tmp/pip-install-58cw25xt/spglib_6207849ab7c64022b27925c813b8e5ef/src/site_symmetry.c).\n",
      "spglib: ssm_get_exact_positions failed (attempt=1). (line 115, /tmp/pip-install-58cw25xt/spglib_6207849ab7c64022b27925c813b8e5ef/src/site_symmetry.c).\n",
      "spglib: ssm_get_exact_positions failed (attempt=2). (line 115, /tmp/pip-install-58cw25xt/spglib_6207849ab7c64022b27925c813b8e5ef/src/site_symmetry.c).\n",
      "spglib: ssm_get_exact_positions failed (attempt=3). (line 115, /tmp/pip-install-58cw25xt/spglib_6207849ab7c64022b27925c813b8e5ef/src/site_symmetry.c).\n",
      "spglib: ssm_get_exact_positions failed (attempt=4). (line 115, /tmp/pip-install-58cw25xt/spglib_6207849ab7c64022b27925c813b8e5ef/src/site_symmetry.c).\n",
      "spglib: ssm_get_exact_positions failed. (line 479, /tmp/pip-install-58cw25xt/spglib_6207849ab7c64022b27925c813b8e5ef/src/refinement.c).\n",
      "spglib: get_bravais_exact_positions_and_lattice failed. (line 336, /tmp/pip-install-58cw25xt/spglib_6207849ab7c64022b27925c813b8e5ef/src/refinement.c).\n",
      "spglib: ref_get_exact_structure_and_symmetry failed. (line 82, /tmp/pip-install-58cw25xt/spglib_6207849ab7c64022b27925c813b8e5ef/src/determination.c).\n",
      "spglib: ssm_get_exact_positions failed (attempt=0). (line 115, /tmp/pip-install-58cw25xt/spglib_6207849ab7c64022b27925c813b8e5ef/src/site_symmetry.c).\n",
      "spglib: ssm_get_exact_positions failed (attempt=1). (line 115, /tmp/pip-install-58cw25xt/spglib_6207849ab7c64022b27925c813b8e5ef/src/site_symmetry.c).\n",
      "spglib: ssm_get_exact_positions failed (attempt=2). (line 115, /tmp/pip-install-58cw25xt/spglib_6207849ab7c64022b27925c813b8e5ef/src/site_symmetry.c).\n",
      "spglib: ssm_get_exact_positions failed (attempt=3). (line 115, /tmp/pip-install-58cw25xt/spglib_6207849ab7c64022b27925c813b8e5ef/src/site_symmetry.c).\n",
      "spglib: ssm_get_exact_positions failed (attempt=4). (line 115, /tmp/pip-install-58cw25xt/spglib_6207849ab7c64022b27925c813b8e5ef/src/site_symmetry.c).\n",
      "spglib: ssm_get_exact_positions failed. (line 479, /tmp/pip-install-58cw25xt/spglib_6207849ab7c64022b27925c813b8e5ef/src/refinement.c).\n",
      "spglib: get_bravais_exact_positions_and_lattice failed. (line 336, /tmp/pip-install-58cw25xt/spglib_6207849ab7c64022b27925c813b8e5ef/src/refinement.c).\n",
      "spglib: ref_get_exact_structure_and_symmetry failed. (line 82, /tmp/pip-install-58cw25xt/spglib_6207849ab7c64022b27925c813b8e5ef/src/determination.c).\n",
      "spglib: ssm_get_exact_positions failed (attempt=0). (line 115, /tmp/pip-install-58cw25xt/spglib_6207849ab7c64022b27925c813b8e5ef/src/site_symmetry.c).\n",
      "spglib: ssm_get_exact_positions failed (attempt=1). (line 115, /tmp/pip-install-58cw25xt/spglib_6207849ab7c64022b27925c813b8e5ef/src/site_symmetry.c).\n",
      "spglib: ssm_get_exact_positions failed (attempt=2). (line 115, /tmp/pip-install-58cw25xt/spglib_6207849ab7c64022b27925c813b8e5ef/src/site_symmetry.c).\n",
      "spglib: ssm_get_exact_positions failed (attempt=3). (line 115, /tmp/pip-install-58cw25xt/spglib_6207849ab7c64022b27925c813b8e5ef/src/site_symmetry.c).\n",
      "spglib: ssm_get_exact_positions failed (attempt=4). (line 115, /tmp/pip-install-58cw25xt/spglib_6207849ab7c64022b27925c813b8e5ef/src/site_symmetry.c).\n",
      "spglib: ssm_get_exact_positions failed. (line 479, /tmp/pip-install-58cw25xt/spglib_6207849ab7c64022b27925c813b8e5ef/src/refinement.c).\n",
      "spglib: get_bravais_exact_positions_and_lattice failed. (line 336, /tmp/pip-install-58cw25xt/spglib_6207849ab7c64022b27925c813b8e5ef/src/refinement.c).\n",
      "spglib: ref_get_exact_structure_and_symmetry failed. (line 82, /tmp/pip-install-58cw25xt/spglib_6207849ab7c64022b27925c813b8e5ef/src/determination.c).\n",
      "spglib: ssm_get_exact_positions failed (attempt=0). (line 115, /tmp/pip-install-58cw25xt/spglib_6207849ab7c64022b27925c813b8e5ef/src/site_symmetry.c).\n",
      "spglib: ssm_get_exact_positions failed (attempt=1). (line 115, /tmp/pip-install-58cw25xt/spglib_6207849ab7c64022b27925c813b8e5ef/src/site_symmetry.c).\n",
      "spglib: ssm_get_exact_positions failed (attempt=2). (line 115, /tmp/pip-install-58cw25xt/spglib_6207849ab7c64022b27925c813b8e5ef/src/site_symmetry.c).\n",
      "spglib: ssm_get_exact_positions failed (attempt=3). (line 115, /tmp/pip-install-58cw25xt/spglib_6207849ab7c64022b27925c813b8e5ef/src/site_symmetry.c).\n",
      "spglib: ssm_get_exact_positions failed (attempt=4). (line 115, /tmp/pip-install-58cw25xt/spglib_6207849ab7c64022b27925c813b8e5ef/src/site_symmetry.c).\n",
      "spglib: ssm_get_exact_positions failed. (line 479, /tmp/pip-install-58cw25xt/spglib_6207849ab7c64022b27925c813b8e5ef/src/refinement.c).\n",
      "spglib: get_bravais_exact_positions_and_lattice failed. (line 336, /tmp/pip-install-58cw25xt/spglib_6207849ab7c64022b27925c813b8e5ef/src/refinement.c).\n",
      "spglib: ref_get_exact_structure_and_symmetry failed. (line 82, /tmp/pip-install-58cw25xt/spglib_6207849ab7c64022b27925c813b8e5ef/src/determination.c).\n",
      "spglib: ssm_get_exact_positions failed (attempt=0). (line 115, /tmp/pip-install-58cw25xt/spglib_6207849ab7c64022b27925c813b8e5ef/src/site_symmetry.c).\n",
      "spglib: ssm_get_exact_positions failed (attempt=1). (line 115, /tmp/pip-install-58cw25xt/spglib_6207849ab7c64022b27925c813b8e5ef/src/site_symmetry.c).\n",
      "spglib: ssm_get_exact_positions failed (attempt=2). (line 115, /tmp/pip-install-58cw25xt/spglib_6207849ab7c64022b27925c813b8e5ef/src/site_symmetry.c).\n",
      "spglib: ssm_get_exact_positions failed (attempt=3). (line 115, /tmp/pip-install-58cw25xt/spglib_6207849ab7c64022b27925c813b8e5ef/src/site_symmetry.c).\n",
      "spglib: ssm_get_exact_positions failed (attempt=4). (line 115, /tmp/pip-install-58cw25xt/spglib_6207849ab7c64022b27925c813b8e5ef/src/site_symmetry.c).\n",
      "spglib: ssm_get_exact_positions failed. (line 479, /tmp/pip-install-58cw25xt/spglib_6207849ab7c64022b27925c813b8e5ef/src/refinement.c).\n",
      "spglib: get_bravais_exact_positions_and_lattice failed. (line 336, /tmp/pip-install-58cw25xt/spglib_6207849ab7c64022b27925c813b8e5ef/src/refinement.c).\n",
      "spglib: ref_get_exact_structure_and_symmetry failed. (line 82, /tmp/pip-install-58cw25xt/spglib_6207849ab7c64022b27925c813b8e5ef/src/determination.c).\n",
      "spglib: ssm_get_exact_positions failed (attempt=0). (line 115, /tmp/pip-install-58cw25xt/spglib_6207849ab7c64022b27925c813b8e5ef/src/site_symmetry.c).\n",
      "spglib: ssm_get_exact_positions failed (attempt=1). (line 115, /tmp/pip-install-58cw25xt/spglib_6207849ab7c64022b27925c813b8e5ef/src/site_symmetry.c).\n",
      "spglib: ssm_get_exact_positions failed (attempt=2). (line 115, /tmp/pip-install-58cw25xt/spglib_6207849ab7c64022b27925c813b8e5ef/src/site_symmetry.c).\n",
      "spglib: ssm_get_exact_positions failed (attempt=3). (line 115, /tmp/pip-install-58cw25xt/spglib_6207849ab7c64022b27925c813b8e5ef/src/site_symmetry.c).\n",
      "spglib: ssm_get_exact_positions failed (attempt=4). (line 115, /tmp/pip-install-58cw25xt/spglib_6207849ab7c64022b27925c813b8e5ef/src/site_symmetry.c).\n",
      "spglib: ssm_get_exact_positions failed. (line 479, /tmp/pip-install-58cw25xt/spglib_6207849ab7c64022b27925c813b8e5ef/src/refinement.c).\n",
      "spglib: get_bravais_exact_positions_and_lattice failed. (line 336, /tmp/pip-install-58cw25xt/spglib_6207849ab7c64022b27925c813b8e5ef/src/refinement.c).\n",
      "spglib: ref_get_exact_structure_and_symmetry failed. (line 82, /tmp/pip-install-58cw25xt/spglib_6207849ab7c64022b27925c813b8e5ef/src/determination.c).\n",
      "spglib: ssm_get_exact_positions failed (attempt=0). (line 115, /tmp/pip-install-58cw25xt/spglib_6207849ab7c64022b27925c813b8e5ef/src/site_symmetry.c).\n",
      "spglib: ssm_get_exact_positions failed (attempt=1). (line 115, /tmp/pip-install-58cw25xt/spglib_6207849ab7c64022b27925c813b8e5ef/src/site_symmetry.c).\n",
      "spglib: ssm_get_exact_positions failed (attempt=2). (line 115, /tmp/pip-install-58cw25xt/spglib_6207849ab7c64022b27925c813b8e5ef/src/site_symmetry.c).\n",
      "spglib: ssm_get_exact_positions failed (attempt=3). (line 115, /tmp/pip-install-58cw25xt/spglib_6207849ab7c64022b27925c813b8e5ef/src/site_symmetry.c).\n",
      "spglib: ssm_get_exact_positions failed (attempt=4). (line 115, /tmp/pip-install-58cw25xt/spglib_6207849ab7c64022b27925c813b8e5ef/src/site_symmetry.c).\n",
      "spglib: ssm_get_exact_positions failed. (line 479, /tmp/pip-install-58cw25xt/spglib_6207849ab7c64022b27925c813b8e5ef/src/refinement.c).\n",
      "spglib: get_bravais_exact_positions_and_lattice failed. (line 336, /tmp/pip-install-58cw25xt/spglib_6207849ab7c64022b27925c813b8e5ef/src/refinement.c).\n",
      "spglib: ref_get_exact_structure_and_symmetry failed. (line 82, /tmp/pip-install-58cw25xt/spglib_6207849ab7c64022b27925c813b8e5ef/src/determination.c).\n",
      "spglib: ssm_get_exact_positions failed (attempt=0). (line 115, /tmp/pip-install-58cw25xt/spglib_6207849ab7c64022b27925c813b8e5ef/src/site_symmetry.c).\n",
      "spglib: ssm_get_exact_positions failed (attempt=1). (line 115, /tmp/pip-install-58cw25xt/spglib_6207849ab7c64022b27925c813b8e5ef/src/site_symmetry.c).\n",
      "spglib: ssm_get_exact_positions failed (attempt=2). (line 115, /tmp/pip-install-58cw25xt/spglib_6207849ab7c64022b27925c813b8e5ef/src/site_symmetry.c).\n",
      "spglib: ssm_get_exact_positions failed (attempt=3). (line 115, /tmp/pip-install-58cw25xt/spglib_6207849ab7c64022b27925c813b8e5ef/src/site_symmetry.c).\n",
      "spglib: ssm_get_exact_positions failed (attempt=4). (line 115, /tmp/pip-install-58cw25xt/spglib_6207849ab7c64022b27925c813b8e5ef/src/site_symmetry.c).\n",
      "spglib: ssm_get_exact_positions failed. (line 479, /tmp/pip-install-58cw25xt/spglib_6207849ab7c64022b27925c813b8e5ef/src/refinement.c).\n",
      "spglib: get_bravais_exact_positions_and_lattice failed. (line 336, /tmp/pip-install-58cw25xt/spglib_6207849ab7c64022b27925c813b8e5ef/src/refinement.c).\n",
      "spglib: ref_get_exact_structure_and_symmetry failed. (line 82, /tmp/pip-install-58cw25xt/spglib_6207849ab7c64022b27925c813b8e5ef/src/determination.c).\n",
      "spglib: ssm_get_exact_positions failed (attempt=0). (line 115, /tmp/pip-install-58cw25xt/spglib_6207849ab7c64022b27925c813b8e5ef/src/site_symmetry.c).\n",
      "spglib: ssm_get_exact_positions failed (attempt=1). (line 115, /tmp/pip-install-58cw25xt/spglib_6207849ab7c64022b27925c813b8e5ef/src/site_symmetry.c).\n",
      "spglib: ssm_get_exact_positions failed (attempt=2). (line 115, /tmp/pip-install-58cw25xt/spglib_6207849ab7c64022b27925c813b8e5ef/src/site_symmetry.c).\n",
      "spglib: ssm_get_exact_positions failed (attempt=3). (line 115, /tmp/pip-install-58cw25xt/spglib_6207849ab7c64022b27925c813b8e5ef/src/site_symmetry.c).\n",
      "spglib: ssm_get_exact_positions failed (attempt=4). (line 115, /tmp/pip-install-58cw25xt/spglib_6207849ab7c64022b27925c813b8e5ef/src/site_symmetry.c).\n",
      "spglib: ssm_get_exact_positions failed. (line 479, /tmp/pip-install-58cw25xt/spglib_6207849ab7c64022b27925c813b8e5ef/src/refinement.c).\n",
      "spglib: get_bravais_exact_positions_and_lattice failed. (line 336, /tmp/pip-install-58cw25xt/spglib_6207849ab7c64022b27925c813b8e5ef/src/refinement.c).\n",
      "spglib: ref_get_exact_structure_and_symmetry failed. (line 82, /tmp/pip-install-58cw25xt/spglib_6207849ab7c64022b27925c813b8e5ef/src/determination.c).\n",
      "spglib: ssm_get_exact_positions failed (attempt=0). (line 115, /tmp/pip-install-58cw25xt/spglib_6207849ab7c64022b27925c813b8e5ef/src/site_symmetry.c).\n",
      "spglib: ssm_get_exact_positions failed (attempt=1). (line 115, /tmp/pip-install-58cw25xt/spglib_6207849ab7c64022b27925c813b8e5ef/src/site_symmetry.c).\n",
      "spglib: ssm_get_exact_positions failed (attempt=2). (line 115, /tmp/pip-install-58cw25xt/spglib_6207849ab7c64022b27925c813b8e5ef/src/site_symmetry.c).\n",
      "spglib: ssm_get_exact_positions failed (attempt=3). (line 115, /tmp/pip-install-58cw25xt/spglib_6207849ab7c64022b27925c813b8e5ef/src/site_symmetry.c).\n",
      "spglib: ssm_get_exact_positions failed (attempt=4). (line 115, /tmp/pip-install-58cw25xt/spglib_6207849ab7c64022b27925c813b8e5ef/src/site_symmetry.c).\n",
      "spglib: ssm_get_exact_positions failed. (line 479, /tmp/pip-install-58cw25xt/spglib_6207849ab7c64022b27925c813b8e5ef/src/refinement.c).\n",
      "spglib: get_bravais_exact_positions_and_lattice failed. (line 336, /tmp/pip-install-58cw25xt/spglib_6207849ab7c64022b27925c813b8e5ef/src/refinement.c).\n",
      "spglib: ref_get_exact_structure_and_symmetry failed. (line 82, /tmp/pip-install-58cw25xt/spglib_6207849ab7c64022b27925c813b8e5ef/src/determination.c).\n",
      "spglib: ssm_get_exact_positions failed (attempt=0). (line 115, /tmp/pip-install-58cw25xt/spglib_6207849ab7c64022b27925c813b8e5ef/src/site_symmetry.c).\n",
      "spglib: ssm_get_exact_positions failed (attempt=1). (line 115, /tmp/pip-install-58cw25xt/spglib_6207849ab7c64022b27925c813b8e5ef/src/site_symmetry.c).\n",
      "spglib: ssm_get_exact_positions failed (attempt=2). (line 115, /tmp/pip-install-58cw25xt/spglib_6207849ab7c64022b27925c813b8e5ef/src/site_symmetry.c).\n",
      "spglib: ssm_get_exact_positions failed (attempt=3). (line 115, /tmp/pip-install-58cw25xt/spglib_6207849ab7c64022b27925c813b8e5ef/src/site_symmetry.c).\n",
      "spglib: ssm_get_exact_positions failed (attempt=4). (line 115, /tmp/pip-install-58cw25xt/spglib_6207849ab7c64022b27925c813b8e5ef/src/site_symmetry.c).\n",
      "spglib: ssm_get_exact_positions failed. (line 479, /tmp/pip-install-58cw25xt/spglib_6207849ab7c64022b27925c813b8e5ef/src/refinement.c).\n",
      "spglib: get_bravais_exact_positions_and_lattice failed. (line 336, /tmp/pip-install-58cw25xt/spglib_6207849ab7c64022b27925c813b8e5ef/src/refinement.c).\n",
      "spglib: ref_get_exact_structure_and_symmetry failed. (line 82, /tmp/pip-install-58cw25xt/spglib_6207849ab7c64022b27925c813b8e5ef/src/determination.c).\n",
      "spglib: ssm_get_exact_positions failed (attempt=0). (line 115, /tmp/pip-install-58cw25xt/spglib_6207849ab7c64022b27925c813b8e5ef/src/site_symmetry.c).\n",
      "spglib: ssm_get_exact_positions failed (attempt=1). (line 115, /tmp/pip-install-58cw25xt/spglib_6207849ab7c64022b27925c813b8e5ef/src/site_symmetry.c).\n",
      "spglib: ssm_get_exact_positions failed (attempt=2). (line 115, /tmp/pip-install-58cw25xt/spglib_6207849ab7c64022b27925c813b8e5ef/src/site_symmetry.c).\n",
      "spglib: ssm_get_exact_positions failed (attempt=3). (line 115, /tmp/pip-install-58cw25xt/spglib_6207849ab7c64022b27925c813b8e5ef/src/site_symmetry.c).\n",
      "spglib: ssm_get_exact_positions failed (attempt=4). (line 115, /tmp/pip-install-58cw25xt/spglib_6207849ab7c64022b27925c813b8e5ef/src/site_symmetry.c).\n",
      "spglib: ssm_get_exact_positions failed. (line 479, /tmp/pip-install-58cw25xt/spglib_6207849ab7c64022b27925c813b8e5ef/src/refinement.c).\n",
      "spglib: get_bravais_exact_positions_and_lattice failed. (line 336, /tmp/pip-install-58cw25xt/spglib_6207849ab7c64022b27925c813b8e5ef/src/refinement.c).\n",
      "spglib: ref_get_exact_structure_and_symmetry failed. (line 82, /tmp/pip-install-58cw25xt/spglib_6207849ab7c64022b27925c813b8e5ef/src/determination.c).\n",
      "spglib: ssm_get_exact_positions failed (attempt=0). (line 115, /tmp/pip-install-58cw25xt/spglib_6207849ab7c64022b27925c813b8e5ef/src/site_symmetry.c).\n",
      "spglib: ssm_get_exact_positions failed (attempt=1). (line 115, /tmp/pip-install-58cw25xt/spglib_6207849ab7c64022b27925c813b8e5ef/src/site_symmetry.c).\n",
      "spglib: ssm_get_exact_positions failed (attempt=2). (line 115, /tmp/pip-install-58cw25xt/spglib_6207849ab7c64022b27925c813b8e5ef/src/site_symmetry.c).\n",
      "spglib: ssm_get_exact_positions failed (attempt=3). (line 115, /tmp/pip-install-58cw25xt/spglib_6207849ab7c64022b27925c813b8e5ef/src/site_symmetry.c).\n",
      "spglib: ssm_get_exact_positions failed (attempt=4). (line 115, /tmp/pip-install-58cw25xt/spglib_6207849ab7c64022b27925c813b8e5ef/src/site_symmetry.c).\n",
      "spglib: ssm_get_exact_positions failed. (line 479, /tmp/pip-install-58cw25xt/spglib_6207849ab7c64022b27925c813b8e5ef/src/refinement.c).\n",
      "spglib: get_bravais_exact_positions_and_lattice failed. (line 336, /tmp/pip-install-58cw25xt/spglib_6207849ab7c64022b27925c813b8e5ef/src/refinement.c).\n",
      "spglib: ref_get_exact_structure_and_symmetry failed. (line 82, /tmp/pip-install-58cw25xt/spglib_6207849ab7c64022b27925c813b8e5ef/src/determination.c).\n",
      "spglib: ssm_get_exact_positions failed (attempt=0). (line 115, /tmp/pip-install-58cw25xt/spglib_6207849ab7c64022b27925c813b8e5ef/src/site_symmetry.c).\n",
      "spglib: ssm_get_exact_positions failed (attempt=1). (line 115, /tmp/pip-install-58cw25xt/spglib_6207849ab7c64022b27925c813b8e5ef/src/site_symmetry.c).\n",
      "spglib: ssm_get_exact_positions failed (attempt=2). (line 115, /tmp/pip-install-58cw25xt/spglib_6207849ab7c64022b27925c813b8e5ef/src/site_symmetry.c).\n",
      "spglib: ssm_get_exact_positions failed (attempt=3). (line 115, /tmp/pip-install-58cw25xt/spglib_6207849ab7c64022b27925c813b8e5ef/src/site_symmetry.c).\n",
      "spglib: ssm_get_exact_positions failed (attempt=4). (line 115, /tmp/pip-install-58cw25xt/spglib_6207849ab7c64022b27925c813b8e5ef/src/site_symmetry.c).\n",
      "spglib: ssm_get_exact_positions failed. (line 479, /tmp/pip-install-58cw25xt/spglib_6207849ab7c64022b27925c813b8e5ef/src/refinement.c).\n",
      "spglib: get_bravais_exact_positions_and_lattice failed. (line 336, /tmp/pip-install-58cw25xt/spglib_6207849ab7c64022b27925c813b8e5ef/src/refinement.c).\n",
      "spglib: ref_get_exact_structure_and_symmetry failed. (line 82, /tmp/pip-install-58cw25xt/spglib_6207849ab7c64022b27925c813b8e5ef/src/determination.c).\n",
      "spglib: ssm_get_exact_positions failed (attempt=0). (line 115, /tmp/pip-install-58cw25xt/spglib_6207849ab7c64022b27925c813b8e5ef/src/site_symmetry.c).\n",
      "spglib: ssm_get_exact_positions failed (attempt=1). (line 115, /tmp/pip-install-58cw25xt/spglib_6207849ab7c64022b27925c813b8e5ef/src/site_symmetry.c).\n",
      "spglib: ssm_get_exact_positions failed (attempt=2). (line 115, /tmp/pip-install-58cw25xt/spglib_6207849ab7c64022b27925c813b8e5ef/src/site_symmetry.c).\n",
      "spglib: ssm_get_exact_positions failed (attempt=3). (line 115, /tmp/pip-install-58cw25xt/spglib_6207849ab7c64022b27925c813b8e5ef/src/site_symmetry.c).\n",
      "spglib: ssm_get_exact_positions failed (attempt=4). (line 115, /tmp/pip-install-58cw25xt/spglib_6207849ab7c64022b27925c813b8e5ef/src/site_symmetry.c).\n",
      "spglib: ssm_get_exact_positions failed. (line 479, /tmp/pip-install-58cw25xt/spglib_6207849ab7c64022b27925c813b8e5ef/src/refinement.c).\n",
      "spglib: get_bravais_exact_positions_and_lattice failed. (line 336, /tmp/pip-install-58cw25xt/spglib_6207849ab7c64022b27925c813b8e5ef/src/refinement.c).\n",
      "spglib: ref_get_exact_structure_and_symmetry failed. (line 82, /tmp/pip-install-58cw25xt/spglib_6207849ab7c64022b27925c813b8e5ef/src/determination.c).\n",
      "spglib: ssm_get_exact_positions failed (attempt=0). (line 115, /tmp/pip-install-58cw25xt/spglib_6207849ab7c64022b27925c813b8e5ef/src/site_symmetry.c).\n",
      "spglib: ssm_get_exact_positions failed (attempt=1). (line 115, /tmp/pip-install-58cw25xt/spglib_6207849ab7c64022b27925c813b8e5ef/src/site_symmetry.c).\n",
      "spglib: ssm_get_exact_positions failed (attempt=2). (line 115, /tmp/pip-install-58cw25xt/spglib_6207849ab7c64022b27925c813b8e5ef/src/site_symmetry.c).\n",
      "spglib: ssm_get_exact_positions failed (attempt=3). (line 115, /tmp/pip-install-58cw25xt/spglib_6207849ab7c64022b27925c813b8e5ef/src/site_symmetry.c).\n",
      "spglib: ssm_get_exact_positions failed (attempt=4). (line 115, /tmp/pip-install-58cw25xt/spglib_6207849ab7c64022b27925c813b8e5ef/src/site_symmetry.c).\n",
      "spglib: ssm_get_exact_positions failed. (line 479, /tmp/pip-install-58cw25xt/spglib_6207849ab7c64022b27925c813b8e5ef/src/refinement.c).\n",
      "spglib: get_bravais_exact_positions_and_lattice failed. (line 336, /tmp/pip-install-58cw25xt/spglib_6207849ab7c64022b27925c813b8e5ef/src/refinement.c).\n",
      "spglib: ref_get_exact_structure_and_symmetry failed. (line 82, /tmp/pip-install-58cw25xt/spglib_6207849ab7c64022b27925c813b8e5ef/src/determination.c).\n",
      "spglib: ssm_get_exact_positions failed (attempt=0). (line 115, /tmp/pip-install-58cw25xt/spglib_6207849ab7c64022b27925c813b8e5ef/src/site_symmetry.c).\n",
      "spglib: ssm_get_exact_positions failed (attempt=1). (line 115, /tmp/pip-install-58cw25xt/spglib_6207849ab7c64022b27925c813b8e5ef/src/site_symmetry.c).\n",
      "spglib: ssm_get_exact_positions failed (attempt=2). (line 115, /tmp/pip-install-58cw25xt/spglib_6207849ab7c64022b27925c813b8e5ef/src/site_symmetry.c).\n",
      "spglib: ssm_get_exact_positions failed (attempt=3). (line 115, /tmp/pip-install-58cw25xt/spglib_6207849ab7c64022b27925c813b8e5ef/src/site_symmetry.c).\n",
      "spglib: ssm_get_exact_positions failed (attempt=4). (line 115, /tmp/pip-install-58cw25xt/spglib_6207849ab7c64022b27925c813b8e5ef/src/site_symmetry.c).\n",
      "spglib: ssm_get_exact_positions failed. (line 479, /tmp/pip-install-58cw25xt/spglib_6207849ab7c64022b27925c813b8e5ef/src/refinement.c).\n",
      "spglib: get_bravais_exact_positions_and_lattice failed. (line 336, /tmp/pip-install-58cw25xt/spglib_6207849ab7c64022b27925c813b8e5ef/src/refinement.c).\n",
      "spglib: ref_get_exact_structure_and_symmetry failed. (line 82, /tmp/pip-install-58cw25xt/spglib_6207849ab7c64022b27925c813b8e5ef/src/determination.c).\n",
      "spglib: ssm_get_exact_positions failed (attempt=0). (line 115, /tmp/pip-install-58cw25xt/spglib_6207849ab7c64022b27925c813b8e5ef/src/site_symmetry.c).\n",
      "spglib: ssm_get_exact_positions failed (attempt=1). (line 115, /tmp/pip-install-58cw25xt/spglib_6207849ab7c64022b27925c813b8e5ef/src/site_symmetry.c).\n",
      "spglib: ssm_get_exact_positions failed (attempt=2). (line 115, /tmp/pip-install-58cw25xt/spglib_6207849ab7c64022b27925c813b8e5ef/src/site_symmetry.c).\n",
      "spglib: ssm_get_exact_positions failed (attempt=3). (line 115, /tmp/pip-install-58cw25xt/spglib_6207849ab7c64022b27925c813b8e5ef/src/site_symmetry.c).\n",
      "spglib: ssm_get_exact_positions failed (attempt=4). (line 115, /tmp/pip-install-58cw25xt/spglib_6207849ab7c64022b27925c813b8e5ef/src/site_symmetry.c).\n",
      "spglib: ssm_get_exact_positions failed. (line 479, /tmp/pip-install-58cw25xt/spglib_6207849ab7c64022b27925c813b8e5ef/src/refinement.c).\n",
      "spglib: get_bravais_exact_positions_and_lattice failed. (line 336, /tmp/pip-install-58cw25xt/spglib_6207849ab7c64022b27925c813b8e5ef/src/refinement.c).\n",
      "spglib: ref_get_exact_structure_and_symmetry failed. (line 82, /tmp/pip-install-58cw25xt/spglib_6207849ab7c64022b27925c813b8e5ef/src/determination.c).\n",
      "spglib: ssm_get_exact_positions failed (attempt=0). (line 115, /tmp/pip-install-58cw25xt/spglib_6207849ab7c64022b27925c813b8e5ef/src/site_symmetry.c).\n",
      "spglib: ssm_get_exact_positions failed (attempt=1). (line 115, /tmp/pip-install-58cw25xt/spglib_6207849ab7c64022b27925c813b8e5ef/src/site_symmetry.c).\n",
      "spglib: ssm_get_exact_positions failed (attempt=2). (line 115, /tmp/pip-install-58cw25xt/spglib_6207849ab7c64022b27925c813b8e5ef/src/site_symmetry.c).\n",
      "spglib: ssm_get_exact_positions failed (attempt=3). (line 115, /tmp/pip-install-58cw25xt/spglib_6207849ab7c64022b27925c813b8e5ef/src/site_symmetry.c).\n",
      "spglib: ssm_get_exact_positions failed (attempt=4). (line 115, /tmp/pip-install-58cw25xt/spglib_6207849ab7c64022b27925c813b8e5ef/src/site_symmetry.c).\n",
      "spglib: ssm_get_exact_positions failed. (line 479, /tmp/pip-install-58cw25xt/spglib_6207849ab7c64022b27925c813b8e5ef/src/refinement.c).\n",
      "spglib: get_bravais_exact_positions_and_lattice failed. (line 336, /tmp/pip-install-58cw25xt/spglib_6207849ab7c64022b27925c813b8e5ef/src/refinement.c).\n",
      "spglib: ref_get_exact_structure_and_symmetry failed. (line 82, /tmp/pip-install-58cw25xt/spglib_6207849ab7c64022b27925c813b8e5ef/src/determination.c).\n",
      "spglib: ssm_get_exact_positions failed (attempt=0). (line 115, /tmp/pip-install-58cw25xt/spglib_6207849ab7c64022b27925c813b8e5ef/src/site_symmetry.c).\n",
      "spglib: ssm_get_exact_positions failed (attempt=1). (line 115, /tmp/pip-install-58cw25xt/spglib_6207849ab7c64022b27925c813b8e5ef/src/site_symmetry.c).\n",
      "spglib: ssm_get_exact_positions failed (attempt=2). (line 115, /tmp/pip-install-58cw25xt/spglib_6207849ab7c64022b27925c813b8e5ef/src/site_symmetry.c).\n",
      "spglib: ssm_get_exact_positions failed (attempt=3). (line 115, /tmp/pip-install-58cw25xt/spglib_6207849ab7c64022b27925c813b8e5ef/src/site_symmetry.c).\n",
      "spglib: ssm_get_exact_positions failed (attempt=4). (line 115, /tmp/pip-install-58cw25xt/spglib_6207849ab7c64022b27925c813b8e5ef/src/site_symmetry.c).\n",
      "spglib: ssm_get_exact_positions failed. (line 479, /tmp/pip-install-58cw25xt/spglib_6207849ab7c64022b27925c813b8e5ef/src/refinement.c).\n",
      "spglib: get_bravais_exact_positions_and_lattice failed. (line 336, /tmp/pip-install-58cw25xt/spglib_6207849ab7c64022b27925c813b8e5ef/src/refinement.c).\n",
      "spglib: ref_get_exact_structure_and_symmetry failed. (line 82, /tmp/pip-install-58cw25xt/spglib_6207849ab7c64022b27925c813b8e5ef/src/determination.c).\n",
      "spglib: ssm_get_exact_positions failed (attempt=0). (line 115, /tmp/pip-install-58cw25xt/spglib_6207849ab7c64022b27925c813b8e5ef/src/site_symmetry.c).\n",
      "spglib: ssm_get_exact_positions failed (attempt=1). (line 115, /tmp/pip-install-58cw25xt/spglib_6207849ab7c64022b27925c813b8e5ef/src/site_symmetry.c).\n",
      "spglib: ssm_get_exact_positions failed (attempt=2). (line 115, /tmp/pip-install-58cw25xt/spglib_6207849ab7c64022b27925c813b8e5ef/src/site_symmetry.c).\n",
      "spglib: ssm_get_exact_positions failed (attempt=3). (line 115, /tmp/pip-install-58cw25xt/spglib_6207849ab7c64022b27925c813b8e5ef/src/site_symmetry.c).\n",
      "spglib: ssm_get_exact_positions failed (attempt=4). (line 115, /tmp/pip-install-58cw25xt/spglib_6207849ab7c64022b27925c813b8e5ef/src/site_symmetry.c).\n",
      "spglib: ssm_get_exact_positions failed. (line 479, /tmp/pip-install-58cw25xt/spglib_6207849ab7c64022b27925c813b8e5ef/src/refinement.c).\n",
      "spglib: get_bravais_exact_positions_and_lattice failed. (line 336, /tmp/pip-install-58cw25xt/spglib_6207849ab7c64022b27925c813b8e5ef/src/refinement.c).\n",
      "spglib: ref_get_exact_structure_and_symmetry failed. (line 82, /tmp/pip-install-58cw25xt/spglib_6207849ab7c64022b27925c813b8e5ef/src/determination.c).\n",
      "spglib: ssm_get_exact_positions failed (attempt=0). (line 115, /tmp/pip-install-58cw25xt/spglib_6207849ab7c64022b27925c813b8e5ef/src/site_symmetry.c).\n",
      "spglib: ssm_get_exact_positions failed (attempt=1). (line 115, /tmp/pip-install-58cw25xt/spglib_6207849ab7c64022b27925c813b8e5ef/src/site_symmetry.c).\n",
      "spglib: ssm_get_exact_positions failed (attempt=2). (line 115, /tmp/pip-install-58cw25xt/spglib_6207849ab7c64022b27925c813b8e5ef/src/site_symmetry.c).\n",
      "spglib: ssm_get_exact_positions failed (attempt=3). (line 115, /tmp/pip-install-58cw25xt/spglib_6207849ab7c64022b27925c813b8e5ef/src/site_symmetry.c).\n",
      "spglib: ssm_get_exact_positions failed (attempt=4). (line 115, /tmp/pip-install-58cw25xt/spglib_6207849ab7c64022b27925c813b8e5ef/src/site_symmetry.c).\n",
      "spglib: ssm_get_exact_positions failed. (line 479, /tmp/pip-install-58cw25xt/spglib_6207849ab7c64022b27925c813b8e5ef/src/refinement.c).\n",
      "spglib: get_bravais_exact_positions_and_lattice failed. (line 336, /tmp/pip-install-58cw25xt/spglib_6207849ab7c64022b27925c813b8e5ef/src/refinement.c).\n",
      "spglib: ref_get_exact_structure_and_symmetry failed. (line 82, /tmp/pip-install-58cw25xt/spglib_6207849ab7c64022b27925c813b8e5ef/src/determination.c).\n",
      "spglib: ssm_get_exact_positions failed (attempt=0). (line 115, /tmp/pip-install-58cw25xt/spglib_6207849ab7c64022b27925c813b8e5ef/src/site_symmetry.c).\n",
      "spglib: ssm_get_exact_positions failed (attempt=1). (line 115, /tmp/pip-install-58cw25xt/spglib_6207849ab7c64022b27925c813b8e5ef/src/site_symmetry.c).\n",
      "spglib: ssm_get_exact_positions failed (attempt=2). (line 115, /tmp/pip-install-58cw25xt/spglib_6207849ab7c64022b27925c813b8e5ef/src/site_symmetry.c).\n",
      "spglib: ssm_get_exact_positions failed (attempt=3). (line 115, /tmp/pip-install-58cw25xt/spglib_6207849ab7c64022b27925c813b8e5ef/src/site_symmetry.c).\n",
      "spglib: ssm_get_exact_positions failed (attempt=4). (line 115, /tmp/pip-install-58cw25xt/spglib_6207849ab7c64022b27925c813b8e5ef/src/site_symmetry.c).\n",
      "spglib: ssm_get_exact_positions failed. (line 479, /tmp/pip-install-58cw25xt/spglib_6207849ab7c64022b27925c813b8e5ef/src/refinement.c).\n",
      "spglib: get_bravais_exact_positions_and_lattice failed. (line 336, /tmp/pip-install-58cw25xt/spglib_6207849ab7c64022b27925c813b8e5ef/src/refinement.c).\n",
      "spglib: ref_get_exact_structure_and_symmetry failed. (line 82, /tmp/pip-install-58cw25xt/spglib_6207849ab7c64022b27925c813b8e5ef/src/determination.c).\n",
      "spglib: ssm_get_exact_positions failed (attempt=0). (line 115, /tmp/pip-install-58cw25xt/spglib_6207849ab7c64022b27925c813b8e5ef/src/site_symmetry.c).\n",
      "spglib: ssm_get_exact_positions failed (attempt=1). (line 115, /tmp/pip-install-58cw25xt/spglib_6207849ab7c64022b27925c813b8e5ef/src/site_symmetry.c).\n",
      "spglib: ssm_get_exact_positions failed (attempt=2). (line 115, /tmp/pip-install-58cw25xt/spglib_6207849ab7c64022b27925c813b8e5ef/src/site_symmetry.c).\n",
      "spglib: ssm_get_exact_positions failed (attempt=3). (line 115, /tmp/pip-install-58cw25xt/spglib_6207849ab7c64022b27925c813b8e5ef/src/site_symmetry.c).\n",
      "spglib: ssm_get_exact_positions failed (attempt=4). (line 115, /tmp/pip-install-58cw25xt/spglib_6207849ab7c64022b27925c813b8e5ef/src/site_symmetry.c).\n",
      "spglib: ssm_get_exact_positions failed. (line 479, /tmp/pip-install-58cw25xt/spglib_6207849ab7c64022b27925c813b8e5ef/src/refinement.c).\n",
      "spglib: get_bravais_exact_positions_and_lattice failed. (line 336, /tmp/pip-install-58cw25xt/spglib_6207849ab7c64022b27925c813b8e5ef/src/refinement.c).\n",
      "spglib: ref_get_exact_structure_and_symmetry failed. (line 82, /tmp/pip-install-58cw25xt/spglib_6207849ab7c64022b27925c813b8e5ef/src/determination.c).\n",
      "spglib: ssm_get_exact_positions failed (attempt=0). (line 115, /tmp/pip-install-58cw25xt/spglib_6207849ab7c64022b27925c813b8e5ef/src/site_symmetry.c).\n",
      "spglib: ssm_get_exact_positions failed (attempt=1). (line 115, /tmp/pip-install-58cw25xt/spglib_6207849ab7c64022b27925c813b8e5ef/src/site_symmetry.c).\n",
      "spglib: ssm_get_exact_positions failed (attempt=2). (line 115, /tmp/pip-install-58cw25xt/spglib_6207849ab7c64022b27925c813b8e5ef/src/site_symmetry.c).\n",
      "spglib: ssm_get_exact_positions failed (attempt=3). (line 115, /tmp/pip-install-58cw25xt/spglib_6207849ab7c64022b27925c813b8e5ef/src/site_symmetry.c).\n",
      "spglib: ssm_get_exact_positions failed (attempt=4). (line 115, /tmp/pip-install-58cw25xt/spglib_6207849ab7c64022b27925c813b8e5ef/src/site_symmetry.c).\n",
      "spglib: ssm_get_exact_positions failed. (line 479, /tmp/pip-install-58cw25xt/spglib_6207849ab7c64022b27925c813b8e5ef/src/refinement.c).\n",
      "spglib: get_bravais_exact_positions_and_lattice failed. (line 336, /tmp/pip-install-58cw25xt/spglib_6207849ab7c64022b27925c813b8e5ef/src/refinement.c).\n",
      "spglib: ref_get_exact_structure_and_symmetry failed. (line 82, /tmp/pip-install-58cw25xt/spglib_6207849ab7c64022b27925c813b8e5ef/src/determination.c).\n",
      "spglib: ssm_get_exact_positions failed (attempt=0). (line 115, /tmp/pip-install-58cw25xt/spglib_6207849ab7c64022b27925c813b8e5ef/src/site_symmetry.c).\n",
      "spglib: ssm_get_exact_positions failed (attempt=1). (line 115, /tmp/pip-install-58cw25xt/spglib_6207849ab7c64022b27925c813b8e5ef/src/site_symmetry.c).\n",
      "spglib: ssm_get_exact_positions failed (attempt=2). (line 115, /tmp/pip-install-58cw25xt/spglib_6207849ab7c64022b27925c813b8e5ef/src/site_symmetry.c).\n",
      "spglib: ssm_get_exact_positions failed (attempt=3). (line 115, /tmp/pip-install-58cw25xt/spglib_6207849ab7c64022b27925c813b8e5ef/src/site_symmetry.c).\n",
      "spglib: ssm_get_exact_positions failed (attempt=4). (line 115, /tmp/pip-install-58cw25xt/spglib_6207849ab7c64022b27925c813b8e5ef/src/site_symmetry.c).\n",
      "spglib: ssm_get_exact_positions failed. (line 479, /tmp/pip-install-58cw25xt/spglib_6207849ab7c64022b27925c813b8e5ef/src/refinement.c).\n",
      "spglib: get_bravais_exact_positions_and_lattice failed. (line 336, /tmp/pip-install-58cw25xt/spglib_6207849ab7c64022b27925c813b8e5ef/src/refinement.c).\n",
      "spglib: ref_get_exact_structure_and_symmetry failed. (line 82, /tmp/pip-install-58cw25xt/spglib_6207849ab7c64022b27925c813b8e5ef/src/determination.c).\n",
      "spglib: ssm_get_exact_positions failed (attempt=0). (line 115, /tmp/pip-install-58cw25xt/spglib_6207849ab7c64022b27925c813b8e5ef/src/site_symmetry.c).\n",
      "spglib: ssm_get_exact_positions failed (attempt=1). (line 115, /tmp/pip-install-58cw25xt/spglib_6207849ab7c64022b27925c813b8e5ef/src/site_symmetry.c).\n",
      "spglib: ssm_get_exact_positions failed (attempt=2). (line 115, /tmp/pip-install-58cw25xt/spglib_6207849ab7c64022b27925c813b8e5ef/src/site_symmetry.c).\n",
      "spglib: ssm_get_exact_positions failed (attempt=3). (line 115, /tmp/pip-install-58cw25xt/spglib_6207849ab7c64022b27925c813b8e5ef/src/site_symmetry.c).\n",
      "spglib: ssm_get_exact_positions failed (attempt=4). (line 115, /tmp/pip-install-58cw25xt/spglib_6207849ab7c64022b27925c813b8e5ef/src/site_symmetry.c).\n",
      "spglib: ssm_get_exact_positions failed. (line 479, /tmp/pip-install-58cw25xt/spglib_6207849ab7c64022b27925c813b8e5ef/src/refinement.c).\n",
      "spglib: get_bravais_exact_positions_and_lattice failed. (line 336, /tmp/pip-install-58cw25xt/spglib_6207849ab7c64022b27925c813b8e5ef/src/refinement.c).\n",
      "spglib: ref_get_exact_structure_and_symmetry failed. (line 82, /tmp/pip-install-58cw25xt/spglib_6207849ab7c64022b27925c813b8e5ef/src/determination.c).\n",
      "spglib: ssm_get_exact_positions failed (attempt=0). (line 115, /tmp/pip-install-58cw25xt/spglib_6207849ab7c64022b27925c813b8e5ef/src/site_symmetry.c).\n",
      "spglib: ssm_get_exact_positions failed (attempt=1). (line 115, /tmp/pip-install-58cw25xt/spglib_6207849ab7c64022b27925c813b8e5ef/src/site_symmetry.c).\n",
      "spglib: ssm_get_exact_positions failed (attempt=2). (line 115, /tmp/pip-install-58cw25xt/spglib_6207849ab7c64022b27925c813b8e5ef/src/site_symmetry.c).\n",
      "spglib: ssm_get_exact_positions failed (attempt=3). (line 115, /tmp/pip-install-58cw25xt/spglib_6207849ab7c64022b27925c813b8e5ef/src/site_symmetry.c).\n",
      "spglib: ssm_get_exact_positions failed (attempt=4). (line 115, /tmp/pip-install-58cw25xt/spglib_6207849ab7c64022b27925c813b8e5ef/src/site_symmetry.c).\n",
      "spglib: ssm_get_exact_positions failed. (line 479, /tmp/pip-install-58cw25xt/spglib_6207849ab7c64022b27925c813b8e5ef/src/refinement.c).\n",
      "spglib: get_bravais_exact_positions_and_lattice failed. (line 336, /tmp/pip-install-58cw25xt/spglib_6207849ab7c64022b27925c813b8e5ef/src/refinement.c).\n",
      "spglib: ref_get_exact_structure_and_symmetry failed. (line 82, /tmp/pip-install-58cw25xt/spglib_6207849ab7c64022b27925c813b8e5ef/src/determination.c).\n",
      "spglib: ssm_get_exact_positions failed (attempt=0). (line 115, /tmp/pip-install-58cw25xt/spglib_6207849ab7c64022b27925c813b8e5ef/src/site_symmetry.c).\n",
      "spglib: ssm_get_exact_positions failed (attempt=1). (line 115, /tmp/pip-install-58cw25xt/spglib_6207849ab7c64022b27925c813b8e5ef/src/site_symmetry.c).\n",
      "spglib: ssm_get_exact_positions failed (attempt=2). (line 115, /tmp/pip-install-58cw25xt/spglib_6207849ab7c64022b27925c813b8e5ef/src/site_symmetry.c).\n",
      "spglib: ssm_get_exact_positions failed (attempt=3). (line 115, /tmp/pip-install-58cw25xt/spglib_6207849ab7c64022b27925c813b8e5ef/src/site_symmetry.c).\n",
      "spglib: ssm_get_exact_positions failed (attempt=4). (line 115, /tmp/pip-install-58cw25xt/spglib_6207849ab7c64022b27925c813b8e5ef/src/site_symmetry.c).\n",
      "spglib: ssm_get_exact_positions failed. (line 479, /tmp/pip-install-58cw25xt/spglib_6207849ab7c64022b27925c813b8e5ef/src/refinement.c).\n",
      "spglib: get_bravais_exact_positions_and_lattice failed. (line 336, /tmp/pip-install-58cw25xt/spglib_6207849ab7c64022b27925c813b8e5ef/src/refinement.c).\n",
      "spglib: ref_get_exact_structure_and_symmetry failed. (line 82, /tmp/pip-install-58cw25xt/spglib_6207849ab7c64022b27925c813b8e5ef/src/determination.c).\n",
      "spglib: ssm_get_exact_positions failed (attempt=0). (line 115, /tmp/pip-install-58cw25xt/spglib_6207849ab7c64022b27925c813b8e5ef/src/site_symmetry.c).\n",
      "spglib: ssm_get_exact_positions failed (attempt=1). (line 115, /tmp/pip-install-58cw25xt/spglib_6207849ab7c64022b27925c813b8e5ef/src/site_symmetry.c).\n",
      "spglib: ssm_get_exact_positions failed (attempt=2). (line 115, /tmp/pip-install-58cw25xt/spglib_6207849ab7c64022b27925c813b8e5ef/src/site_symmetry.c).\n",
      "spglib: ssm_get_exact_positions failed (attempt=3). (line 115, /tmp/pip-install-58cw25xt/spglib_6207849ab7c64022b27925c813b8e5ef/src/site_symmetry.c).\n",
      "spglib: ssm_get_exact_positions failed (attempt=4). (line 115, /tmp/pip-install-58cw25xt/spglib_6207849ab7c64022b27925c813b8e5ef/src/site_symmetry.c).\n",
      "spglib: ssm_get_exact_positions failed. (line 479, /tmp/pip-install-58cw25xt/spglib_6207849ab7c64022b27925c813b8e5ef/src/refinement.c).\n",
      "spglib: get_bravais_exact_positions_and_lattice failed. (line 336, /tmp/pip-install-58cw25xt/spglib_6207849ab7c64022b27925c813b8e5ef/src/refinement.c).\n",
      "spglib: ref_get_exact_structure_and_symmetry failed. (line 82, /tmp/pip-install-58cw25xt/spglib_6207849ab7c64022b27925c813b8e5ef/src/determination.c).\n",
      "spglib: ssm_get_exact_positions failed (attempt=0). (line 115, /tmp/pip-install-58cw25xt/spglib_6207849ab7c64022b27925c813b8e5ef/src/site_symmetry.c).\n",
      "spglib: ssm_get_exact_positions failed (attempt=1). (line 115, /tmp/pip-install-58cw25xt/spglib_6207849ab7c64022b27925c813b8e5ef/src/site_symmetry.c).\n",
      "spglib: ssm_get_exact_positions failed (attempt=2). (line 115, /tmp/pip-install-58cw25xt/spglib_6207849ab7c64022b27925c813b8e5ef/src/site_symmetry.c).\n",
      "spglib: ssm_get_exact_positions failed (attempt=3). (line 115, /tmp/pip-install-58cw25xt/spglib_6207849ab7c64022b27925c813b8e5ef/src/site_symmetry.c).\n",
      "spglib: ssm_get_exact_positions failed (attempt=4). (line 115, /tmp/pip-install-58cw25xt/spglib_6207849ab7c64022b27925c813b8e5ef/src/site_symmetry.c).\n",
      "spglib: ssm_get_exact_positions failed. (line 479, /tmp/pip-install-58cw25xt/spglib_6207849ab7c64022b27925c813b8e5ef/src/refinement.c).\n",
      "spglib: get_bravais_exact_positions_and_lattice failed. (line 336, /tmp/pip-install-58cw25xt/spglib_6207849ab7c64022b27925c813b8e5ef/src/refinement.c).\n",
      "spglib: ref_get_exact_structure_and_symmetry failed. (line 82, /tmp/pip-install-58cw25xt/spglib_6207849ab7c64022b27925c813b8e5ef/src/determination.c).\n",
      "spglib: ssm_get_exact_positions failed (attempt=0). (line 115, /tmp/pip-install-58cw25xt/spglib_6207849ab7c64022b27925c813b8e5ef/src/site_symmetry.c).\n",
      "spglib: ssm_get_exact_positions failed (attempt=1). (line 115, /tmp/pip-install-58cw25xt/spglib_6207849ab7c64022b27925c813b8e5ef/src/site_symmetry.c).\n",
      "spglib: ssm_get_exact_positions failed (attempt=2). (line 115, /tmp/pip-install-58cw25xt/spglib_6207849ab7c64022b27925c813b8e5ef/src/site_symmetry.c).\n",
      "spglib: ssm_get_exact_positions failed (attempt=3). (line 115, /tmp/pip-install-58cw25xt/spglib_6207849ab7c64022b27925c813b8e5ef/src/site_symmetry.c).\n",
      "spglib: ssm_get_exact_positions failed (attempt=4). (line 115, /tmp/pip-install-58cw25xt/spglib_6207849ab7c64022b27925c813b8e5ef/src/site_symmetry.c).\n",
      "spglib: ssm_get_exact_positions failed. (line 479, /tmp/pip-install-58cw25xt/spglib_6207849ab7c64022b27925c813b8e5ef/src/refinement.c).\n",
      "spglib: get_bravais_exact_positions_and_lattice failed. (line 336, /tmp/pip-install-58cw25xt/spglib_6207849ab7c64022b27925c813b8e5ef/src/refinement.c).\n",
      "spglib: ref_get_exact_structure_and_symmetry failed. (line 82, /tmp/pip-install-58cw25xt/spglib_6207849ab7c64022b27925c813b8e5ef/src/determination.c).\n",
      "spglib: ssm_get_exact_positions failed (attempt=0). (line 115, /tmp/pip-install-58cw25xt/spglib_6207849ab7c64022b27925c813b8e5ef/src/site_symmetry.c).\n",
      "spglib: ssm_get_exact_positions failed (attempt=1). (line 115, /tmp/pip-install-58cw25xt/spglib_6207849ab7c64022b27925c813b8e5ef/src/site_symmetry.c).\n",
      "spglib: ssm_get_exact_positions failed (attempt=2). (line 115, /tmp/pip-install-58cw25xt/spglib_6207849ab7c64022b27925c813b8e5ef/src/site_symmetry.c).\n",
      "spglib: ssm_get_exact_positions failed (attempt=3). (line 115, /tmp/pip-install-58cw25xt/spglib_6207849ab7c64022b27925c813b8e5ef/src/site_symmetry.c).\n",
      "spglib: ssm_get_exact_positions failed (attempt=4). (line 115, /tmp/pip-install-58cw25xt/spglib_6207849ab7c64022b27925c813b8e5ef/src/site_symmetry.c).\n",
      "spglib: ssm_get_exact_positions failed. (line 479, /tmp/pip-install-58cw25xt/spglib_6207849ab7c64022b27925c813b8e5ef/src/refinement.c).\n",
      "spglib: get_bravais_exact_positions_and_lattice failed. (line 336, /tmp/pip-install-58cw25xt/spglib_6207849ab7c64022b27925c813b8e5ef/src/refinement.c).\n",
      "spglib: ref_get_exact_structure_and_symmetry failed. (line 82, /tmp/pip-install-58cw25xt/spglib_6207849ab7c64022b27925c813b8e5ef/src/determination.c).\n",
      "spglib: ssm_get_exact_positions failed (attempt=0). (line 115, /tmp/pip-install-58cw25xt/spglib_6207849ab7c64022b27925c813b8e5ef/src/site_symmetry.c).\n",
      "spglib: ssm_get_exact_positions failed (attempt=1). (line 115, /tmp/pip-install-58cw25xt/spglib_6207849ab7c64022b27925c813b8e5ef/src/site_symmetry.c).\n",
      "spglib: ssm_get_exact_positions failed (attempt=2). (line 115, /tmp/pip-install-58cw25xt/spglib_6207849ab7c64022b27925c813b8e5ef/src/site_symmetry.c).\n",
      "spglib: ssm_get_exact_positions failed (attempt=3). (line 115, /tmp/pip-install-58cw25xt/spglib_6207849ab7c64022b27925c813b8e5ef/src/site_symmetry.c).\n",
      "spglib: ssm_get_exact_positions failed (attempt=4). (line 115, /tmp/pip-install-58cw25xt/spglib_6207849ab7c64022b27925c813b8e5ef/src/site_symmetry.c).\n",
      "spglib: ssm_get_exact_positions failed. (line 479, /tmp/pip-install-58cw25xt/spglib_6207849ab7c64022b27925c813b8e5ef/src/refinement.c).\n",
      "spglib: get_bravais_exact_positions_and_lattice failed. (line 336, /tmp/pip-install-58cw25xt/spglib_6207849ab7c64022b27925c813b8e5ef/src/refinement.c).\n",
      "spglib: ref_get_exact_structure_and_symmetry failed. (line 82, /tmp/pip-install-58cw25xt/spglib_6207849ab7c64022b27925c813b8e5ef/src/determination.c).\n",
      "spglib: ssm_get_exact_positions failed (attempt=0). (line 115, /tmp/pip-install-58cw25xt/spglib_6207849ab7c64022b27925c813b8e5ef/src/site_symmetry.c).\n",
      "spglib: ssm_get_exact_positions failed (attempt=1). (line 115, /tmp/pip-install-58cw25xt/spglib_6207849ab7c64022b27925c813b8e5ef/src/site_symmetry.c).\n",
      "spglib: ssm_get_exact_positions failed (attempt=2). (line 115, /tmp/pip-install-58cw25xt/spglib_6207849ab7c64022b27925c813b8e5ef/src/site_symmetry.c).\n",
      "spglib: ssm_get_exact_positions failed (attempt=3). (line 115, /tmp/pip-install-58cw25xt/spglib_6207849ab7c64022b27925c813b8e5ef/src/site_symmetry.c).\n",
      "spglib: ssm_get_exact_positions failed (attempt=4). (line 115, /tmp/pip-install-58cw25xt/spglib_6207849ab7c64022b27925c813b8e5ef/src/site_symmetry.c).\n",
      "spglib: ssm_get_exact_positions failed. (line 479, /tmp/pip-install-58cw25xt/spglib_6207849ab7c64022b27925c813b8e5ef/src/refinement.c).\n",
      "spglib: get_bravais_exact_positions_and_lattice failed. (line 336, /tmp/pip-install-58cw25xt/spglib_6207849ab7c64022b27925c813b8e5ef/src/refinement.c).\n",
      "spglib: ref_get_exact_structure_and_symmetry failed. (line 82, /tmp/pip-install-58cw25xt/spglib_6207849ab7c64022b27925c813b8e5ef/src/determination.c).\n",
      "spglib: ssm_get_exact_positions failed (attempt=0). (line 115, /tmp/pip-install-58cw25xt/spglib_6207849ab7c64022b27925c813b8e5ef/src/site_symmetry.c).\n",
      "spglib: ssm_get_exact_positions failed (attempt=1). (line 115, /tmp/pip-install-58cw25xt/spglib_6207849ab7c64022b27925c813b8e5ef/src/site_symmetry.c).\n",
      "spglib: ssm_get_exact_positions failed (attempt=2). (line 115, /tmp/pip-install-58cw25xt/spglib_6207849ab7c64022b27925c813b8e5ef/src/site_symmetry.c).\n",
      "spglib: ssm_get_exact_positions failed (attempt=3). (line 115, /tmp/pip-install-58cw25xt/spglib_6207849ab7c64022b27925c813b8e5ef/src/site_symmetry.c).\n",
      "spglib: ssm_get_exact_positions failed (attempt=4). (line 115, /tmp/pip-install-58cw25xt/spglib_6207849ab7c64022b27925c813b8e5ef/src/site_symmetry.c).\n",
      "spglib: ssm_get_exact_positions failed. (line 479, /tmp/pip-install-58cw25xt/spglib_6207849ab7c64022b27925c813b8e5ef/src/refinement.c).\n",
      "spglib: get_bravais_exact_positions_and_lattice failed. (line 336, /tmp/pip-install-58cw25xt/spglib_6207849ab7c64022b27925c813b8e5ef/src/refinement.c).\n",
      "spglib: ref_get_exact_structure_and_symmetry failed. (line 82, /tmp/pip-install-58cw25xt/spglib_6207849ab7c64022b27925c813b8e5ef/src/determination.c).\n",
      "spglib: ssm_get_exact_positions failed (attempt=0). (line 115, /tmp/pip-install-58cw25xt/spglib_6207849ab7c64022b27925c813b8e5ef/src/site_symmetry.c).\n",
      "spglib: ssm_get_exact_positions failed (attempt=1). (line 115, /tmp/pip-install-58cw25xt/spglib_6207849ab7c64022b27925c813b8e5ef/src/site_symmetry.c).\n",
      "spglib: ssm_get_exact_positions failed (attempt=2). (line 115, /tmp/pip-install-58cw25xt/spglib_6207849ab7c64022b27925c813b8e5ef/src/site_symmetry.c).\n",
      "spglib: ssm_get_exact_positions failed (attempt=3). (line 115, /tmp/pip-install-58cw25xt/spglib_6207849ab7c64022b27925c813b8e5ef/src/site_symmetry.c).\n",
      "spglib: ssm_get_exact_positions failed (attempt=4). (line 115, /tmp/pip-install-58cw25xt/spglib_6207849ab7c64022b27925c813b8e5ef/src/site_symmetry.c).\n",
      "spglib: ssm_get_exact_positions failed. (line 479, /tmp/pip-install-58cw25xt/spglib_6207849ab7c64022b27925c813b8e5ef/src/refinement.c).\n",
      "spglib: get_bravais_exact_positions_and_lattice failed. (line 336, /tmp/pip-install-58cw25xt/spglib_6207849ab7c64022b27925c813b8e5ef/src/refinement.c).\n",
      "spglib: ref_get_exact_structure_and_symmetry failed. (line 82, /tmp/pip-install-58cw25xt/spglib_6207849ab7c64022b27925c813b8e5ef/src/determination.c).\n",
      "spglib: ssm_get_exact_positions failed (attempt=0). (line 115, /tmp/pip-install-58cw25xt/spglib_6207849ab7c64022b27925c813b8e5ef/src/site_symmetry.c).\n",
      "spglib: ssm_get_exact_positions failed (attempt=1). (line 115, /tmp/pip-install-58cw25xt/spglib_6207849ab7c64022b27925c813b8e5ef/src/site_symmetry.c).\n",
      "spglib: ssm_get_exact_positions failed (attempt=2). (line 115, /tmp/pip-install-58cw25xt/spglib_6207849ab7c64022b27925c813b8e5ef/src/site_symmetry.c).\n",
      "spglib: ssm_get_exact_positions failed (attempt=3). (line 115, /tmp/pip-install-58cw25xt/spglib_6207849ab7c64022b27925c813b8e5ef/src/site_symmetry.c).\n",
      "spglib: ssm_get_exact_positions failed (attempt=4). (line 115, /tmp/pip-install-58cw25xt/spglib_6207849ab7c64022b27925c813b8e5ef/src/site_symmetry.c).\n",
      "spglib: ssm_get_exact_positions failed. (line 479, /tmp/pip-install-58cw25xt/spglib_6207849ab7c64022b27925c813b8e5ef/src/refinement.c).\n",
      "spglib: get_bravais_exact_positions_and_lattice failed. (line 336, /tmp/pip-install-58cw25xt/spglib_6207849ab7c64022b27925c813b8e5ef/src/refinement.c).\n",
      "spglib: ref_get_exact_structure_and_symmetry failed. (line 82, /tmp/pip-install-58cw25xt/spglib_6207849ab7c64022b27925c813b8e5ef/src/determination.c).\n",
      "spglib: ssm_get_exact_positions failed (attempt=0). (line 115, /tmp/pip-install-58cw25xt/spglib_6207849ab7c64022b27925c813b8e5ef/src/site_symmetry.c).\n",
      "spglib: ssm_get_exact_positions failed (attempt=1). (line 115, /tmp/pip-install-58cw25xt/spglib_6207849ab7c64022b27925c813b8e5ef/src/site_symmetry.c).\n",
      "spglib: ssm_get_exact_positions failed (attempt=2). (line 115, /tmp/pip-install-58cw25xt/spglib_6207849ab7c64022b27925c813b8e5ef/src/site_symmetry.c).\n",
      "spglib: ssm_get_exact_positions failed (attempt=3). (line 115, /tmp/pip-install-58cw25xt/spglib_6207849ab7c64022b27925c813b8e5ef/src/site_symmetry.c).\n",
      "spglib: ssm_get_exact_positions failed (attempt=4). (line 115, /tmp/pip-install-58cw25xt/spglib_6207849ab7c64022b27925c813b8e5ef/src/site_symmetry.c).\n",
      "spglib: ssm_get_exact_positions failed. (line 479, /tmp/pip-install-58cw25xt/spglib_6207849ab7c64022b27925c813b8e5ef/src/refinement.c).\n",
      "spglib: get_bravais_exact_positions_and_lattice failed. (line 336, /tmp/pip-install-58cw25xt/spglib_6207849ab7c64022b27925c813b8e5ef/src/refinement.c).\n",
      "spglib: ref_get_exact_structure_and_symmetry failed. (line 82, /tmp/pip-install-58cw25xt/spglib_6207849ab7c64022b27925c813b8e5ef/src/determination.c).\n",
      "spglib: ssm_get_exact_positions failed (attempt=0). (line 115, /tmp/pip-install-58cw25xt/spglib_6207849ab7c64022b27925c813b8e5ef/src/site_symmetry.c).\n",
      "spglib: ssm_get_exact_positions failed (attempt=1). (line 115, /tmp/pip-install-58cw25xt/spglib_6207849ab7c64022b27925c813b8e5ef/src/site_symmetry.c).\n",
      "spglib: ssm_get_exact_positions failed (attempt=2). (line 115, /tmp/pip-install-58cw25xt/spglib_6207849ab7c64022b27925c813b8e5ef/src/site_symmetry.c).\n",
      "spglib: ssm_get_exact_positions failed (attempt=3). (line 115, /tmp/pip-install-58cw25xt/spglib_6207849ab7c64022b27925c813b8e5ef/src/site_symmetry.c).\n",
      "spglib: ssm_get_exact_positions failed (attempt=4). (line 115, /tmp/pip-install-58cw25xt/spglib_6207849ab7c64022b27925c813b8e5ef/src/site_symmetry.c).\n",
      "spglib: ssm_get_exact_positions failed. (line 479, /tmp/pip-install-58cw25xt/spglib_6207849ab7c64022b27925c813b8e5ef/src/refinement.c).\n",
      "spglib: get_bravais_exact_positions_and_lattice failed. (line 336, /tmp/pip-install-58cw25xt/spglib_6207849ab7c64022b27925c813b8e5ef/src/refinement.c).\n",
      "spglib: ref_get_exact_structure_and_symmetry failed. (line 82, /tmp/pip-install-58cw25xt/spglib_6207849ab7c64022b27925c813b8e5ef/src/determination.c).\n",
      "spglib: ssm_get_exact_positions failed (attempt=0). (line 115, /tmp/pip-install-58cw25xt/spglib_6207849ab7c64022b27925c813b8e5ef/src/site_symmetry.c).\n",
      "spglib: ssm_get_exact_positions failed (attempt=1). (line 115, /tmp/pip-install-58cw25xt/spglib_6207849ab7c64022b27925c813b8e5ef/src/site_symmetry.c).\n",
      "spglib: ssm_get_exact_positions failed (attempt=2). (line 115, /tmp/pip-install-58cw25xt/spglib_6207849ab7c64022b27925c813b8e5ef/src/site_symmetry.c).\n",
      "spglib: ssm_get_exact_positions failed (attempt=3). (line 115, /tmp/pip-install-58cw25xt/spglib_6207849ab7c64022b27925c813b8e5ef/src/site_symmetry.c).\n",
      "spglib: ssm_get_exact_positions failed (attempt=4). (line 115, /tmp/pip-install-58cw25xt/spglib_6207849ab7c64022b27925c813b8e5ef/src/site_symmetry.c).\n",
      "spglib: ssm_get_exact_positions failed. (line 479, /tmp/pip-install-58cw25xt/spglib_6207849ab7c64022b27925c813b8e5ef/src/refinement.c).\n",
      "spglib: get_bravais_exact_positions_and_lattice failed. (line 336, /tmp/pip-install-58cw25xt/spglib_6207849ab7c64022b27925c813b8e5ef/src/refinement.c).\n",
      "spglib: ref_get_exact_structure_and_symmetry failed. (line 82, /tmp/pip-install-58cw25xt/spglib_6207849ab7c64022b27925c813b8e5ef/src/determination.c).\n",
      "spglib: ssm_get_exact_positions failed (attempt=0). (line 115, /tmp/pip-install-58cw25xt/spglib_6207849ab7c64022b27925c813b8e5ef/src/site_symmetry.c).\n",
      "spglib: ssm_get_exact_positions failed (attempt=1). (line 115, /tmp/pip-install-58cw25xt/spglib_6207849ab7c64022b27925c813b8e5ef/src/site_symmetry.c).\n",
      "spglib: ssm_get_exact_positions failed (attempt=2). (line 115, /tmp/pip-install-58cw25xt/spglib_6207849ab7c64022b27925c813b8e5ef/src/site_symmetry.c).\n",
      "spglib: ssm_get_exact_positions failed (attempt=3). (line 115, /tmp/pip-install-58cw25xt/spglib_6207849ab7c64022b27925c813b8e5ef/src/site_symmetry.c).\n",
      "spglib: ssm_get_exact_positions failed (attempt=4). (line 115, /tmp/pip-install-58cw25xt/spglib_6207849ab7c64022b27925c813b8e5ef/src/site_symmetry.c).\n",
      "spglib: ssm_get_exact_positions failed. (line 479, /tmp/pip-install-58cw25xt/spglib_6207849ab7c64022b27925c813b8e5ef/src/refinement.c).\n",
      "spglib: get_bravais_exact_positions_and_lattice failed. (line 336, /tmp/pip-install-58cw25xt/spglib_6207849ab7c64022b27925c813b8e5ef/src/refinement.c).\n",
      "spglib: ref_get_exact_structure_and_symmetry failed. (line 82, /tmp/pip-install-58cw25xt/spglib_6207849ab7c64022b27925c813b8e5ef/src/determination.c).\n",
      "spglib: ssm_get_exact_positions failed (attempt=0). (line 115, /tmp/pip-install-58cw25xt/spglib_6207849ab7c64022b27925c813b8e5ef/src/site_symmetry.c).\n",
      "spglib: ssm_get_exact_positions failed (attempt=1). (line 115, /tmp/pip-install-58cw25xt/spglib_6207849ab7c64022b27925c813b8e5ef/src/site_symmetry.c).\n",
      "spglib: ssm_get_exact_positions failed (attempt=2). (line 115, /tmp/pip-install-58cw25xt/spglib_6207849ab7c64022b27925c813b8e5ef/src/site_symmetry.c).\n",
      "spglib: ssm_get_exact_positions failed (attempt=3). (line 115, /tmp/pip-install-58cw25xt/spglib_6207849ab7c64022b27925c813b8e5ef/src/site_symmetry.c).\n",
      "spglib: ssm_get_exact_positions failed (attempt=4). (line 115, /tmp/pip-install-58cw25xt/spglib_6207849ab7c64022b27925c813b8e5ef/src/site_symmetry.c).\n",
      "spglib: ssm_get_exact_positions failed. (line 479, /tmp/pip-install-58cw25xt/spglib_6207849ab7c64022b27925c813b8e5ef/src/refinement.c).\n",
      "spglib: get_bravais_exact_positions_and_lattice failed. (line 336, /tmp/pip-install-58cw25xt/spglib_6207849ab7c64022b27925c813b8e5ef/src/refinement.c).\n",
      "spglib: ref_get_exact_structure_and_symmetry failed. (line 82, /tmp/pip-install-58cw25xt/spglib_6207849ab7c64022b27925c813b8e5ef/src/determination.c).\n",
      "spglib: ssm_get_exact_positions failed (attempt=0). (line 115, /tmp/pip-install-58cw25xt/spglib_6207849ab7c64022b27925c813b8e5ef/src/site_symmetry.c).\n",
      "spglib: ssm_get_exact_positions failed (attempt=1). (line 115, /tmp/pip-install-58cw25xt/spglib_6207849ab7c64022b27925c813b8e5ef/src/site_symmetry.c).\n",
      "spglib: ssm_get_exact_positions failed (attempt=2). (line 115, /tmp/pip-install-58cw25xt/spglib_6207849ab7c64022b27925c813b8e5ef/src/site_symmetry.c).\n",
      "spglib: ssm_get_exact_positions failed (attempt=3). (line 115, /tmp/pip-install-58cw25xt/spglib_6207849ab7c64022b27925c813b8e5ef/src/site_symmetry.c).\n",
      "spglib: ssm_get_exact_positions failed (attempt=4). (line 115, /tmp/pip-install-58cw25xt/spglib_6207849ab7c64022b27925c813b8e5ef/src/site_symmetry.c).\n",
      "spglib: ssm_get_exact_positions failed. (line 479, /tmp/pip-install-58cw25xt/spglib_6207849ab7c64022b27925c813b8e5ef/src/refinement.c).\n",
      "spglib: get_bravais_exact_positions_and_lattice failed. (line 336, /tmp/pip-install-58cw25xt/spglib_6207849ab7c64022b27925c813b8e5ef/src/refinement.c).\n",
      "spglib: ref_get_exact_structure_and_symmetry failed. (line 82, /tmp/pip-install-58cw25xt/spglib_6207849ab7c64022b27925c813b8e5ef/src/determination.c).\n",
      "spglib: ssm_get_exact_positions failed (attempt=0). (line 115, /tmp/pip-install-58cw25xt/spglib_6207849ab7c64022b27925c813b8e5ef/src/site_symmetry.c).\n",
      "spglib: ssm_get_exact_positions failed (attempt=1). (line 115, /tmp/pip-install-58cw25xt/spglib_6207849ab7c64022b27925c813b8e5ef/src/site_symmetry.c).\n",
      "spglib: ssm_get_exact_positions failed (attempt=2). (line 115, /tmp/pip-install-58cw25xt/spglib_6207849ab7c64022b27925c813b8e5ef/src/site_symmetry.c).\n",
      "spglib: ssm_get_exact_positions failed (attempt=3). (line 115, /tmp/pip-install-58cw25xt/spglib_6207849ab7c64022b27925c813b8e5ef/src/site_symmetry.c).\n",
      "spglib: ssm_get_exact_positions failed (attempt=4). (line 115, /tmp/pip-install-58cw25xt/spglib_6207849ab7c64022b27925c813b8e5ef/src/site_symmetry.c).\n",
      "spglib: ssm_get_exact_positions failed. (line 479, /tmp/pip-install-58cw25xt/spglib_6207849ab7c64022b27925c813b8e5ef/src/refinement.c).\n",
      "spglib: get_bravais_exact_positions_and_lattice failed. (line 336, /tmp/pip-install-58cw25xt/spglib_6207849ab7c64022b27925c813b8e5ef/src/refinement.c).\n",
      "spglib: ref_get_exact_structure_and_symmetry failed. (line 82, /tmp/pip-install-58cw25xt/spglib_6207849ab7c64022b27925c813b8e5ef/src/determination.c).\n",
      "spglib: ssm_get_exact_positions failed (attempt=0). (line 115, /tmp/pip-install-58cw25xt/spglib_6207849ab7c64022b27925c813b8e5ef/src/site_symmetry.c).\n",
      "spglib: ssm_get_exact_positions failed (attempt=1). (line 115, /tmp/pip-install-58cw25xt/spglib_6207849ab7c64022b27925c813b8e5ef/src/site_symmetry.c).\n",
      "spglib: ssm_get_exact_positions failed (attempt=2). (line 115, /tmp/pip-install-58cw25xt/spglib_6207849ab7c64022b27925c813b8e5ef/src/site_symmetry.c).\n",
      "spglib: ssm_get_exact_positions failed (attempt=3). (line 115, /tmp/pip-install-58cw25xt/spglib_6207849ab7c64022b27925c813b8e5ef/src/site_symmetry.c).\n",
      "spglib: ssm_get_exact_positions failed (attempt=4). (line 115, /tmp/pip-install-58cw25xt/spglib_6207849ab7c64022b27925c813b8e5ef/src/site_symmetry.c).\n",
      "spglib: ssm_get_exact_positions failed. (line 479, /tmp/pip-install-58cw25xt/spglib_6207849ab7c64022b27925c813b8e5ef/src/refinement.c).\n",
      "spglib: get_bravais_exact_positions_and_lattice failed. (line 336, /tmp/pip-install-58cw25xt/spglib_6207849ab7c64022b27925c813b8e5ef/src/refinement.c).\n",
      "spglib: ref_get_exact_structure_and_symmetry failed. (line 82, /tmp/pip-install-58cw25xt/spglib_6207849ab7c64022b27925c813b8e5ef/src/determination.c).\n",
      "spglib: ssm_get_exact_positions failed (attempt=0). (line 115, /tmp/pip-install-58cw25xt/spglib_6207849ab7c64022b27925c813b8e5ef/src/site_symmetry.c).\n",
      "spglib: ssm_get_exact_positions failed (attempt=1). (line 115, /tmp/pip-install-58cw25xt/spglib_6207849ab7c64022b27925c813b8e5ef/src/site_symmetry.c).\n",
      "spglib: ssm_get_exact_positions failed (attempt=2). (line 115, /tmp/pip-install-58cw25xt/spglib_6207849ab7c64022b27925c813b8e5ef/src/site_symmetry.c).\n",
      "spglib: ssm_get_exact_positions failed (attempt=3). (line 115, /tmp/pip-install-58cw25xt/spglib_6207849ab7c64022b27925c813b8e5ef/src/site_symmetry.c).\n",
      "spglib: ssm_get_exact_positions failed (attempt=4). (line 115, /tmp/pip-install-58cw25xt/spglib_6207849ab7c64022b27925c813b8e5ef/src/site_symmetry.c).\n",
      "spglib: ssm_get_exact_positions failed. (line 479, /tmp/pip-install-58cw25xt/spglib_6207849ab7c64022b27925c813b8e5ef/src/refinement.c).\n",
      "spglib: get_bravais_exact_positions_and_lattice failed. (line 336, /tmp/pip-install-58cw25xt/spglib_6207849ab7c64022b27925c813b8e5ef/src/refinement.c).\n",
      "spglib: ref_get_exact_structure_and_symmetry failed. (line 82, /tmp/pip-install-58cw25xt/spglib_6207849ab7c64022b27925c813b8e5ef/src/determination.c).\n",
      "spglib: ssm_get_exact_positions failed (attempt=0). (line 115, /tmp/pip-install-58cw25xt/spglib_6207849ab7c64022b27925c813b8e5ef/src/site_symmetry.c).\n",
      "spglib: ssm_get_exact_positions failed (attempt=1). (line 115, /tmp/pip-install-58cw25xt/spglib_6207849ab7c64022b27925c813b8e5ef/src/site_symmetry.c).\n",
      "spglib: ssm_get_exact_positions failed (attempt=2). (line 115, /tmp/pip-install-58cw25xt/spglib_6207849ab7c64022b27925c813b8e5ef/src/site_symmetry.c).\n",
      "spglib: ssm_get_exact_positions failed (attempt=3). (line 115, /tmp/pip-install-58cw25xt/spglib_6207849ab7c64022b27925c813b8e5ef/src/site_symmetry.c).\n",
      "spglib: ssm_get_exact_positions failed (attempt=4). (line 115, /tmp/pip-install-58cw25xt/spglib_6207849ab7c64022b27925c813b8e5ef/src/site_symmetry.c).\n",
      "spglib: ssm_get_exact_positions failed. (line 479, /tmp/pip-install-58cw25xt/spglib_6207849ab7c64022b27925c813b8e5ef/src/refinement.c).\n",
      "spglib: get_bravais_exact_positions_and_lattice failed. (line 336, /tmp/pip-install-58cw25xt/spglib_6207849ab7c64022b27925c813b8e5ef/src/refinement.c).\n",
      "spglib: ref_get_exact_structure_and_symmetry failed. (line 82, /tmp/pip-install-58cw25xt/spglib_6207849ab7c64022b27925c813b8e5ef/src/determination.c).\n",
      "spglib: ssm_get_exact_positions failed (attempt=0). (line 115, /tmp/pip-install-58cw25xt/spglib_6207849ab7c64022b27925c813b8e5ef/src/site_symmetry.c).\n",
      "spglib: ssm_get_exact_positions failed (attempt=1). (line 115, /tmp/pip-install-58cw25xt/spglib_6207849ab7c64022b27925c813b8e5ef/src/site_symmetry.c).\n",
      "spglib: ssm_get_exact_positions failed (attempt=2). (line 115, /tmp/pip-install-58cw25xt/spglib_6207849ab7c64022b27925c813b8e5ef/src/site_symmetry.c).\n",
      "spglib: ssm_get_exact_positions failed (attempt=3). (line 115, /tmp/pip-install-58cw25xt/spglib_6207849ab7c64022b27925c813b8e5ef/src/site_symmetry.c).\n",
      "spglib: ssm_get_exact_positions failed (attempt=4). (line 115, /tmp/pip-install-58cw25xt/spglib_6207849ab7c64022b27925c813b8e5ef/src/site_symmetry.c).\n",
      "spglib: ssm_get_exact_positions failed. (line 479, /tmp/pip-install-58cw25xt/spglib_6207849ab7c64022b27925c813b8e5ef/src/refinement.c).\n",
      "spglib: get_bravais_exact_positions_and_lattice failed. (line 336, /tmp/pip-install-58cw25xt/spglib_6207849ab7c64022b27925c813b8e5ef/src/refinement.c).\n",
      "spglib: ref_get_exact_structure_and_symmetry failed. (line 82, /tmp/pip-install-58cw25xt/spglib_6207849ab7c64022b27925c813b8e5ef/src/determination.c).\n",
      "spglib: ssm_get_exact_positions failed (attempt=0). (line 115, /tmp/pip-install-58cw25xt/spglib_6207849ab7c64022b27925c813b8e5ef/src/site_symmetry.c).\n",
      "spglib: ssm_get_exact_positions failed (attempt=1). (line 115, /tmp/pip-install-58cw25xt/spglib_6207849ab7c64022b27925c813b8e5ef/src/site_symmetry.c).\n",
      "spglib: ssm_get_exact_positions failed (attempt=2). (line 115, /tmp/pip-install-58cw25xt/spglib_6207849ab7c64022b27925c813b8e5ef/src/site_symmetry.c).\n",
      "spglib: ssm_get_exact_positions failed (attempt=3). (line 115, /tmp/pip-install-58cw25xt/spglib_6207849ab7c64022b27925c813b8e5ef/src/site_symmetry.c).\n",
      "spglib: ssm_get_exact_positions failed (attempt=4). (line 115, /tmp/pip-install-58cw25xt/spglib_6207849ab7c64022b27925c813b8e5ef/src/site_symmetry.c).\n",
      "spglib: ssm_get_exact_positions failed. (line 479, /tmp/pip-install-58cw25xt/spglib_6207849ab7c64022b27925c813b8e5ef/src/refinement.c).\n",
      "spglib: get_bravais_exact_positions_and_lattice failed. (line 336, /tmp/pip-install-58cw25xt/spglib_6207849ab7c64022b27925c813b8e5ef/src/refinement.c).\n",
      "spglib: ref_get_exact_structure_and_symmetry failed. (line 82, /tmp/pip-install-58cw25xt/spglib_6207849ab7c64022b27925c813b8e5ef/src/determination.c).\n",
      "spglib: ssm_get_exact_positions failed (attempt=0). (line 115, /tmp/pip-install-58cw25xt/spglib_6207849ab7c64022b27925c813b8e5ef/src/site_symmetry.c).\n",
      "spglib: ssm_get_exact_positions failed (attempt=1). (line 115, /tmp/pip-install-58cw25xt/spglib_6207849ab7c64022b27925c813b8e5ef/src/site_symmetry.c).\n",
      "spglib: ssm_get_exact_positions failed (attempt=2). (line 115, /tmp/pip-install-58cw25xt/spglib_6207849ab7c64022b27925c813b8e5ef/src/site_symmetry.c).\n",
      "spglib: ssm_get_exact_positions failed (attempt=3). (line 115, /tmp/pip-install-58cw25xt/spglib_6207849ab7c64022b27925c813b8e5ef/src/site_symmetry.c).\n",
      "spglib: ssm_get_exact_positions failed (attempt=4). (line 115, /tmp/pip-install-58cw25xt/spglib_6207849ab7c64022b27925c813b8e5ef/src/site_symmetry.c).\n",
      "spglib: ssm_get_exact_positions failed. (line 479, /tmp/pip-install-58cw25xt/spglib_6207849ab7c64022b27925c813b8e5ef/src/refinement.c).\n",
      "spglib: get_bravais_exact_positions_and_lattice failed. (line 336, /tmp/pip-install-58cw25xt/spglib_6207849ab7c64022b27925c813b8e5ef/src/refinement.c).\n",
      "spglib: ref_get_exact_structure_and_symmetry failed. (line 82, /tmp/pip-install-58cw25xt/spglib_6207849ab7c64022b27925c813b8e5ef/src/determination.c).\n",
      "spglib: ssm_get_exact_positions failed (attempt=0). (line 115, /tmp/pip-install-58cw25xt/spglib_6207849ab7c64022b27925c813b8e5ef/src/site_symmetry.c).\n",
      "spglib: ssm_get_exact_positions failed (attempt=1). (line 115, /tmp/pip-install-58cw25xt/spglib_6207849ab7c64022b27925c813b8e5ef/src/site_symmetry.c).\n",
      "spglib: ssm_get_exact_positions failed (attempt=2). (line 115, /tmp/pip-install-58cw25xt/spglib_6207849ab7c64022b27925c813b8e5ef/src/site_symmetry.c).\n",
      "spglib: ssm_get_exact_positions failed (attempt=3). (line 115, /tmp/pip-install-58cw25xt/spglib_6207849ab7c64022b27925c813b8e5ef/src/site_symmetry.c).\n",
      "spglib: ssm_get_exact_positions failed (attempt=4). (line 115, /tmp/pip-install-58cw25xt/spglib_6207849ab7c64022b27925c813b8e5ef/src/site_symmetry.c).\n",
      "spglib: ssm_get_exact_positions failed. (line 479, /tmp/pip-install-58cw25xt/spglib_6207849ab7c64022b27925c813b8e5ef/src/refinement.c).\n",
      "spglib: get_bravais_exact_positions_and_lattice failed. (line 336, /tmp/pip-install-58cw25xt/spglib_6207849ab7c64022b27925c813b8e5ef/src/refinement.c).\n",
      "spglib: ref_get_exact_structure_and_symmetry failed. (line 82, /tmp/pip-install-58cw25xt/spglib_6207849ab7c64022b27925c813b8e5ef/src/determination.c).\n",
      "spglib: ssm_get_exact_positions failed (attempt=0). (line 115, /tmp/pip-install-58cw25xt/spglib_6207849ab7c64022b27925c813b8e5ef/src/site_symmetry.c).\n",
      "spglib: ssm_get_exact_positions failed (attempt=1). (line 115, /tmp/pip-install-58cw25xt/spglib_6207849ab7c64022b27925c813b8e5ef/src/site_symmetry.c).\n",
      "spglib: ssm_get_exact_positions failed (attempt=2). (line 115, /tmp/pip-install-58cw25xt/spglib_6207849ab7c64022b27925c813b8e5ef/src/site_symmetry.c).\n",
      "spglib: ssm_get_exact_positions failed (attempt=3). (line 115, /tmp/pip-install-58cw25xt/spglib_6207849ab7c64022b27925c813b8e5ef/src/site_symmetry.c).\n",
      "spglib: ssm_get_exact_positions failed (attempt=4). (line 115, /tmp/pip-install-58cw25xt/spglib_6207849ab7c64022b27925c813b8e5ef/src/site_symmetry.c).\n",
      "spglib: ssm_get_exact_positions failed. (line 479, /tmp/pip-install-58cw25xt/spglib_6207849ab7c64022b27925c813b8e5ef/src/refinement.c).\n",
      "spglib: get_bravais_exact_positions_and_lattice failed. (line 336, /tmp/pip-install-58cw25xt/spglib_6207849ab7c64022b27925c813b8e5ef/src/refinement.c).\n",
      "spglib: ref_get_exact_structure_and_symmetry failed. (line 82, /tmp/pip-install-58cw25xt/spglib_6207849ab7c64022b27925c813b8e5ef/src/determination.c).\n",
      "spglib: ssm_get_exact_positions failed (attempt=0). (line 115, /tmp/pip-install-58cw25xt/spglib_6207849ab7c64022b27925c813b8e5ef/src/site_symmetry.c).\n",
      "spglib: ssm_get_exact_positions failed (attempt=1). (line 115, /tmp/pip-install-58cw25xt/spglib_6207849ab7c64022b27925c813b8e5ef/src/site_symmetry.c).\n",
      "spglib: ssm_get_exact_positions failed (attempt=2). (line 115, /tmp/pip-install-58cw25xt/spglib_6207849ab7c64022b27925c813b8e5ef/src/site_symmetry.c).\n",
      "spglib: ssm_get_exact_positions failed (attempt=3). (line 115, /tmp/pip-install-58cw25xt/spglib_6207849ab7c64022b27925c813b8e5ef/src/site_symmetry.c).\n",
      "spglib: ssm_get_exact_positions failed (attempt=4). (line 115, /tmp/pip-install-58cw25xt/spglib_6207849ab7c64022b27925c813b8e5ef/src/site_symmetry.c).\n",
      "spglib: ssm_get_exact_positions failed. (line 479, /tmp/pip-install-58cw25xt/spglib_6207849ab7c64022b27925c813b8e5ef/src/refinement.c).\n",
      "spglib: get_bravais_exact_positions_and_lattice failed. (line 336, /tmp/pip-install-58cw25xt/spglib_6207849ab7c64022b27925c813b8e5ef/src/refinement.c).\n",
      "spglib: ref_get_exact_structure_and_symmetry failed. (line 82, /tmp/pip-install-58cw25xt/spglib_6207849ab7c64022b27925c813b8e5ef/src/determination.c).\n",
      "spglib: ssm_get_exact_positions failed (attempt=0). (line 115, /tmp/pip-install-58cw25xt/spglib_6207849ab7c64022b27925c813b8e5ef/src/site_symmetry.c).\n",
      "spglib: ssm_get_exact_positions failed (attempt=1). (line 115, /tmp/pip-install-58cw25xt/spglib_6207849ab7c64022b27925c813b8e5ef/src/site_symmetry.c).\n",
      "spglib: ssm_get_exact_positions failed (attempt=2). (line 115, /tmp/pip-install-58cw25xt/spglib_6207849ab7c64022b27925c813b8e5ef/src/site_symmetry.c).\n",
      "spglib: ssm_get_exact_positions failed (attempt=3). (line 115, /tmp/pip-install-58cw25xt/spglib_6207849ab7c64022b27925c813b8e5ef/src/site_symmetry.c).\n",
      "spglib: ssm_get_exact_positions failed (attempt=4). (line 115, /tmp/pip-install-58cw25xt/spglib_6207849ab7c64022b27925c813b8e5ef/src/site_symmetry.c).\n",
      "spglib: ssm_get_exact_positions failed. (line 479, /tmp/pip-install-58cw25xt/spglib_6207849ab7c64022b27925c813b8e5ef/src/refinement.c).\n",
      "spglib: get_bravais_exact_positions_and_lattice failed. (line 336, /tmp/pip-install-58cw25xt/spglib_6207849ab7c64022b27925c813b8e5ef/src/refinement.c).\n",
      "spglib: ref_get_exact_structure_and_symmetry failed. (line 82, /tmp/pip-install-58cw25xt/spglib_6207849ab7c64022b27925c813b8e5ef/src/determination.c).\n",
      "spglib: ssm_get_exact_positions failed (attempt=0). (line 115, /tmp/pip-install-58cw25xt/spglib_6207849ab7c64022b27925c813b8e5ef/src/site_symmetry.c).\n",
      "spglib: ssm_get_exact_positions failed (attempt=1). (line 115, /tmp/pip-install-58cw25xt/spglib_6207849ab7c64022b27925c813b8e5ef/src/site_symmetry.c).\n",
      "spglib: ssm_get_exact_positions failed (attempt=2). (line 115, /tmp/pip-install-58cw25xt/spglib_6207849ab7c64022b27925c813b8e5ef/src/site_symmetry.c).\n",
      "spglib: ssm_get_exact_positions failed (attempt=3). (line 115, /tmp/pip-install-58cw25xt/spglib_6207849ab7c64022b27925c813b8e5ef/src/site_symmetry.c).\n",
      "spglib: ssm_get_exact_positions failed (attempt=4). (line 115, /tmp/pip-install-58cw25xt/spglib_6207849ab7c64022b27925c813b8e5ef/src/site_symmetry.c).\n",
      "spglib: ssm_get_exact_positions failed. (line 479, /tmp/pip-install-58cw25xt/spglib_6207849ab7c64022b27925c813b8e5ef/src/refinement.c).\n",
      "spglib: get_bravais_exact_positions_and_lattice failed. (line 336, /tmp/pip-install-58cw25xt/spglib_6207849ab7c64022b27925c813b8e5ef/src/refinement.c).\n",
      "spglib: ref_get_exact_structure_and_symmetry failed. (line 82, /tmp/pip-install-58cw25xt/spglib_6207849ab7c64022b27925c813b8e5ef/src/determination.c).\n",
      "spglib: ssm_get_exact_positions failed (attempt=0). (line 115, /tmp/pip-install-58cw25xt/spglib_6207849ab7c64022b27925c813b8e5ef/src/site_symmetry.c).\n",
      "spglib: ssm_get_exact_positions failed (attempt=1). (line 115, /tmp/pip-install-58cw25xt/spglib_6207849ab7c64022b27925c813b8e5ef/src/site_symmetry.c).\n",
      "spglib: ssm_get_exact_positions failed (attempt=2). (line 115, /tmp/pip-install-58cw25xt/spglib_6207849ab7c64022b27925c813b8e5ef/src/site_symmetry.c).\n",
      "spglib: ssm_get_exact_positions failed (attempt=3). (line 115, /tmp/pip-install-58cw25xt/spglib_6207849ab7c64022b27925c813b8e5ef/src/site_symmetry.c).\n",
      "spglib: ssm_get_exact_positions failed (attempt=4). (line 115, /tmp/pip-install-58cw25xt/spglib_6207849ab7c64022b27925c813b8e5ef/src/site_symmetry.c).\n",
      "spglib: ssm_get_exact_positions failed. (line 479, /tmp/pip-install-58cw25xt/spglib_6207849ab7c64022b27925c813b8e5ef/src/refinement.c).\n",
      "spglib: get_bravais_exact_positions_and_lattice failed. (line 336, /tmp/pip-install-58cw25xt/spglib_6207849ab7c64022b27925c813b8e5ef/src/refinement.c).\n",
      "spglib: ref_get_exact_structure_and_symmetry failed. (line 82, /tmp/pip-install-58cw25xt/spglib_6207849ab7c64022b27925c813b8e5ef/src/determination.c).\n",
      "spglib: ssm_get_exact_positions failed (attempt=0). (line 115, /tmp/pip-install-58cw25xt/spglib_6207849ab7c64022b27925c813b8e5ef/src/site_symmetry.c).\n",
      "spglib: ssm_get_exact_positions failed (attempt=1). (line 115, /tmp/pip-install-58cw25xt/spglib_6207849ab7c64022b27925c813b8e5ef/src/site_symmetry.c).\n",
      "spglib: ssm_get_exact_positions failed (attempt=2). (line 115, /tmp/pip-install-58cw25xt/spglib_6207849ab7c64022b27925c813b8e5ef/src/site_symmetry.c).\n",
      "spglib: ssm_get_exact_positions failed (attempt=3). (line 115, /tmp/pip-install-58cw25xt/spglib_6207849ab7c64022b27925c813b8e5ef/src/site_symmetry.c).\n",
      "spglib: ssm_get_exact_positions failed (attempt=4). (line 115, /tmp/pip-install-58cw25xt/spglib_6207849ab7c64022b27925c813b8e5ef/src/site_symmetry.c).\n",
      "spglib: ssm_get_exact_positions failed. (line 479, /tmp/pip-install-58cw25xt/spglib_6207849ab7c64022b27925c813b8e5ef/src/refinement.c).\n",
      "spglib: get_bravais_exact_positions_and_lattice failed. (line 336, /tmp/pip-install-58cw25xt/spglib_6207849ab7c64022b27925c813b8e5ef/src/refinement.c).\n",
      "spglib: ref_get_exact_structure_and_symmetry failed. (line 82, /tmp/pip-install-58cw25xt/spglib_6207849ab7c64022b27925c813b8e5ef/src/determination.c).\n",
      "spglib: ssm_get_exact_positions failed (attempt=0). (line 115, /tmp/pip-install-58cw25xt/spglib_6207849ab7c64022b27925c813b8e5ef/src/site_symmetry.c).\n",
      "spglib: ssm_get_exact_positions failed (attempt=1). (line 115, /tmp/pip-install-58cw25xt/spglib_6207849ab7c64022b27925c813b8e5ef/src/site_symmetry.c).\n",
      "spglib: ssm_get_exact_positions failed (attempt=2). (line 115, /tmp/pip-install-58cw25xt/spglib_6207849ab7c64022b27925c813b8e5ef/src/site_symmetry.c).\n",
      "spglib: ssm_get_exact_positions failed (attempt=3). (line 115, /tmp/pip-install-58cw25xt/spglib_6207849ab7c64022b27925c813b8e5ef/src/site_symmetry.c).\n",
      "spglib: ssm_get_exact_positions failed (attempt=4). (line 115, /tmp/pip-install-58cw25xt/spglib_6207849ab7c64022b27925c813b8e5ef/src/site_symmetry.c).\n",
      "spglib: ssm_get_exact_positions failed. (line 479, /tmp/pip-install-58cw25xt/spglib_6207849ab7c64022b27925c813b8e5ef/src/refinement.c).\n",
      "spglib: get_bravais_exact_positions_and_lattice failed. (line 336, /tmp/pip-install-58cw25xt/spglib_6207849ab7c64022b27925c813b8e5ef/src/refinement.c).\n",
      "spglib: ref_get_exact_structure_and_symmetry failed. (line 82, /tmp/pip-install-58cw25xt/spglib_6207849ab7c64022b27925c813b8e5ef/src/determination.c).\n",
      "spglib: ssm_get_exact_positions failed (attempt=0). (line 115, /tmp/pip-install-58cw25xt/spglib_6207849ab7c64022b27925c813b8e5ef/src/site_symmetry.c).\n",
      "spglib: ssm_get_exact_positions failed (attempt=1). (line 115, /tmp/pip-install-58cw25xt/spglib_6207849ab7c64022b27925c813b8e5ef/src/site_symmetry.c).\n",
      "spglib: ssm_get_exact_positions failed (attempt=2). (line 115, /tmp/pip-install-58cw25xt/spglib_6207849ab7c64022b27925c813b8e5ef/src/site_symmetry.c).\n",
      "spglib: ssm_get_exact_positions failed (attempt=3). (line 115, /tmp/pip-install-58cw25xt/spglib_6207849ab7c64022b27925c813b8e5ef/src/site_symmetry.c).\n",
      "spglib: ssm_get_exact_positions failed (attempt=4). (line 115, /tmp/pip-install-58cw25xt/spglib_6207849ab7c64022b27925c813b8e5ef/src/site_symmetry.c).\n",
      "spglib: ssm_get_exact_positions failed. (line 479, /tmp/pip-install-58cw25xt/spglib_6207849ab7c64022b27925c813b8e5ef/src/refinement.c).\n",
      "spglib: get_bravais_exact_positions_and_lattice failed. (line 336, /tmp/pip-install-58cw25xt/spglib_6207849ab7c64022b27925c813b8e5ef/src/refinement.c).\n",
      "spglib: ref_get_exact_structure_and_symmetry failed. (line 82, /tmp/pip-install-58cw25xt/spglib_6207849ab7c64022b27925c813b8e5ef/src/determination.c).\n",
      "spglib: ssm_get_exact_positions failed (attempt=0). (line 115, /tmp/pip-install-58cw25xt/spglib_6207849ab7c64022b27925c813b8e5ef/src/site_symmetry.c).\n",
      "spglib: ssm_get_exact_positions failed (attempt=1). (line 115, /tmp/pip-install-58cw25xt/spglib_6207849ab7c64022b27925c813b8e5ef/src/site_symmetry.c).\n",
      "spglib: ssm_get_exact_positions failed (attempt=2). (line 115, /tmp/pip-install-58cw25xt/spglib_6207849ab7c64022b27925c813b8e5ef/src/site_symmetry.c).\n",
      "spglib: ssm_get_exact_positions failed (attempt=3). (line 115, /tmp/pip-install-58cw25xt/spglib_6207849ab7c64022b27925c813b8e5ef/src/site_symmetry.c).\n",
      "spglib: ssm_get_exact_positions failed (attempt=4). (line 115, /tmp/pip-install-58cw25xt/spglib_6207849ab7c64022b27925c813b8e5ef/src/site_symmetry.c).\n",
      "spglib: ssm_get_exact_positions failed. (line 479, /tmp/pip-install-58cw25xt/spglib_6207849ab7c64022b27925c813b8e5ef/src/refinement.c).\n",
      "spglib: get_bravais_exact_positions_and_lattice failed. (line 336, /tmp/pip-install-58cw25xt/spglib_6207849ab7c64022b27925c813b8e5ef/src/refinement.c).\n",
      "spglib: ref_get_exact_structure_and_symmetry failed. (line 82, /tmp/pip-install-58cw25xt/spglib_6207849ab7c64022b27925c813b8e5ef/src/determination.c).\n",
      "spglib: ssm_get_exact_positions failed (attempt=0). (line 115, /tmp/pip-install-58cw25xt/spglib_6207849ab7c64022b27925c813b8e5ef/src/site_symmetry.c).\n",
      "spglib: ssm_get_exact_positions failed (attempt=1). (line 115, /tmp/pip-install-58cw25xt/spglib_6207849ab7c64022b27925c813b8e5ef/src/site_symmetry.c).\n",
      "spglib: ssm_get_exact_positions failed (attempt=2). (line 115, /tmp/pip-install-58cw25xt/spglib_6207849ab7c64022b27925c813b8e5ef/src/site_symmetry.c).\n",
      "spglib: ssm_get_exact_positions failed (attempt=3). (line 115, /tmp/pip-install-58cw25xt/spglib_6207849ab7c64022b27925c813b8e5ef/src/site_symmetry.c).\n",
      "spglib: ssm_get_exact_positions failed (attempt=4). (line 115, /tmp/pip-install-58cw25xt/spglib_6207849ab7c64022b27925c813b8e5ef/src/site_symmetry.c).\n",
      "spglib: ssm_get_exact_positions failed. (line 479, /tmp/pip-install-58cw25xt/spglib_6207849ab7c64022b27925c813b8e5ef/src/refinement.c).\n",
      "spglib: get_bravais_exact_positions_and_lattice failed. (line 336, /tmp/pip-install-58cw25xt/spglib_6207849ab7c64022b27925c813b8e5ef/src/refinement.c).\n",
      "spglib: ref_get_exact_structure_and_symmetry failed. (line 82, /tmp/pip-install-58cw25xt/spglib_6207849ab7c64022b27925c813b8e5ef/src/determination.c).\n",
      "spglib: ssm_get_exact_positions failed (attempt=0). (line 115, /tmp/pip-install-58cw25xt/spglib_6207849ab7c64022b27925c813b8e5ef/src/site_symmetry.c).\n",
      "spglib: ssm_get_exact_positions failed (attempt=1). (line 115, /tmp/pip-install-58cw25xt/spglib_6207849ab7c64022b27925c813b8e5ef/src/site_symmetry.c).\n",
      "spglib: ssm_get_exact_positions failed (attempt=2). (line 115, /tmp/pip-install-58cw25xt/spglib_6207849ab7c64022b27925c813b8e5ef/src/site_symmetry.c).\n",
      "spglib: ssm_get_exact_positions failed (attempt=3). (line 115, /tmp/pip-install-58cw25xt/spglib_6207849ab7c64022b27925c813b8e5ef/src/site_symmetry.c).\n",
      "spglib: ssm_get_exact_positions failed (attempt=4). (line 115, /tmp/pip-install-58cw25xt/spglib_6207849ab7c64022b27925c813b8e5ef/src/site_symmetry.c).\n",
      "spglib: ssm_get_exact_positions failed. (line 479, /tmp/pip-install-58cw25xt/spglib_6207849ab7c64022b27925c813b8e5ef/src/refinement.c).\n",
      "spglib: get_bravais_exact_positions_and_lattice failed. (line 336, /tmp/pip-install-58cw25xt/spglib_6207849ab7c64022b27925c813b8e5ef/src/refinement.c).\n",
      "spglib: ref_get_exact_structure_and_symmetry failed. (line 82, /tmp/pip-install-58cw25xt/spglib_6207849ab7c64022b27925c813b8e5ef/src/determination.c).\n",
      "spglib: ssm_get_exact_positions failed (attempt=0). (line 115, /tmp/pip-install-58cw25xt/spglib_6207849ab7c64022b27925c813b8e5ef/src/site_symmetry.c).\n",
      "spglib: ssm_get_exact_positions failed (attempt=1). (line 115, /tmp/pip-install-58cw25xt/spglib_6207849ab7c64022b27925c813b8e5ef/src/site_symmetry.c).\n",
      "spglib: ssm_get_exact_positions failed (attempt=2). (line 115, /tmp/pip-install-58cw25xt/spglib_6207849ab7c64022b27925c813b8e5ef/src/site_symmetry.c).\n",
      "spglib: ssm_get_exact_positions failed (attempt=3). (line 115, /tmp/pip-install-58cw25xt/spglib_6207849ab7c64022b27925c813b8e5ef/src/site_symmetry.c).\n",
      "spglib: ssm_get_exact_positions failed (attempt=4). (line 115, /tmp/pip-install-58cw25xt/spglib_6207849ab7c64022b27925c813b8e5ef/src/site_symmetry.c).\n",
      "spglib: ssm_get_exact_positions failed. (line 479, /tmp/pip-install-58cw25xt/spglib_6207849ab7c64022b27925c813b8e5ef/src/refinement.c).\n",
      "spglib: get_bravais_exact_positions_and_lattice failed. (line 336, /tmp/pip-install-58cw25xt/spglib_6207849ab7c64022b27925c813b8e5ef/src/refinement.c).\n",
      "spglib: ref_get_exact_structure_and_symmetry failed. (line 82, /tmp/pip-install-58cw25xt/spglib_6207849ab7c64022b27925c813b8e5ef/src/determination.c).\n",
      "spglib: ssm_get_exact_positions failed (attempt=0). (line 115, /tmp/pip-install-58cw25xt/spglib_6207849ab7c64022b27925c813b8e5ef/src/site_symmetry.c).\n",
      "spglib: ssm_get_exact_positions failed (attempt=1). (line 115, /tmp/pip-install-58cw25xt/spglib_6207849ab7c64022b27925c813b8e5ef/src/site_symmetry.c).\n",
      "spglib: ssm_get_exact_positions failed (attempt=2). (line 115, /tmp/pip-install-58cw25xt/spglib_6207849ab7c64022b27925c813b8e5ef/src/site_symmetry.c).\n",
      "spglib: ssm_get_exact_positions failed (attempt=3). (line 115, /tmp/pip-install-58cw25xt/spglib_6207849ab7c64022b27925c813b8e5ef/src/site_symmetry.c).\n",
      "spglib: ssm_get_exact_positions failed (attempt=4). (line 115, /tmp/pip-install-58cw25xt/spglib_6207849ab7c64022b27925c813b8e5ef/src/site_symmetry.c).\n",
      "spglib: ssm_get_exact_positions failed. (line 479, /tmp/pip-install-58cw25xt/spglib_6207849ab7c64022b27925c813b8e5ef/src/refinement.c).\n",
      "spglib: get_bravais_exact_positions_and_lattice failed. (line 336, /tmp/pip-install-58cw25xt/spglib_6207849ab7c64022b27925c813b8e5ef/src/refinement.c).\n",
      "spglib: ref_get_exact_structure_and_symmetry failed. (line 82, /tmp/pip-install-58cw25xt/spglib_6207849ab7c64022b27925c813b8e5ef/src/determination.c).\n",
      "spglib: ssm_get_exact_positions failed (attempt=0). (line 115, /tmp/pip-install-58cw25xt/spglib_6207849ab7c64022b27925c813b8e5ef/src/site_symmetry.c).\n",
      "spglib: ssm_get_exact_positions failed (attempt=1). (line 115, /tmp/pip-install-58cw25xt/spglib_6207849ab7c64022b27925c813b8e5ef/src/site_symmetry.c).\n",
      "spglib: ssm_get_exact_positions failed (attempt=2). (line 115, /tmp/pip-install-58cw25xt/spglib_6207849ab7c64022b27925c813b8e5ef/src/site_symmetry.c).\n",
      "spglib: ssm_get_exact_positions failed (attempt=3). (line 115, /tmp/pip-install-58cw25xt/spglib_6207849ab7c64022b27925c813b8e5ef/src/site_symmetry.c).\n",
      "spglib: ssm_get_exact_positions failed (attempt=4). (line 115, /tmp/pip-install-58cw25xt/spglib_6207849ab7c64022b27925c813b8e5ef/src/site_symmetry.c).\n",
      "spglib: ssm_get_exact_positions failed. (line 479, /tmp/pip-install-58cw25xt/spglib_6207849ab7c64022b27925c813b8e5ef/src/refinement.c).\n",
      "spglib: get_bravais_exact_positions_and_lattice failed. (line 336, /tmp/pip-install-58cw25xt/spglib_6207849ab7c64022b27925c813b8e5ef/src/refinement.c).\n",
      "spglib: ref_get_exact_structure_and_symmetry failed. (line 82, /tmp/pip-install-58cw25xt/spglib_6207849ab7c64022b27925c813b8e5ef/src/determination.c).\n",
      "spglib: ssm_get_exact_positions failed (attempt=0). (line 115, /tmp/pip-install-58cw25xt/spglib_6207849ab7c64022b27925c813b8e5ef/src/site_symmetry.c).\n",
      "spglib: ssm_get_exact_positions failed (attempt=1). (line 115, /tmp/pip-install-58cw25xt/spglib_6207849ab7c64022b27925c813b8e5ef/src/site_symmetry.c).\n",
      "spglib: ssm_get_exact_positions failed (attempt=2). (line 115, /tmp/pip-install-58cw25xt/spglib_6207849ab7c64022b27925c813b8e5ef/src/site_symmetry.c).\n",
      "spglib: ssm_get_exact_positions failed (attempt=3). (line 115, /tmp/pip-install-58cw25xt/spglib_6207849ab7c64022b27925c813b8e5ef/src/site_symmetry.c).\n",
      "spglib: ssm_get_exact_positions failed (attempt=4). (line 115, /tmp/pip-install-58cw25xt/spglib_6207849ab7c64022b27925c813b8e5ef/src/site_symmetry.c).\n",
      "spglib: ssm_get_exact_positions failed. (line 479, /tmp/pip-install-58cw25xt/spglib_6207849ab7c64022b27925c813b8e5ef/src/refinement.c).\n",
      "spglib: get_bravais_exact_positions_and_lattice failed. (line 336, /tmp/pip-install-58cw25xt/spglib_6207849ab7c64022b27925c813b8e5ef/src/refinement.c).\n",
      "spglib: ref_get_exact_structure_and_symmetry failed. (line 82, /tmp/pip-install-58cw25xt/spglib_6207849ab7c64022b27925c813b8e5ef/src/determination.c).\n",
      "spglib: ssm_get_exact_positions failed (attempt=0). (line 115, /tmp/pip-install-58cw25xt/spglib_6207849ab7c64022b27925c813b8e5ef/src/site_symmetry.c).\n",
      "spglib: ssm_get_exact_positions failed (attempt=1). (line 115, /tmp/pip-install-58cw25xt/spglib_6207849ab7c64022b27925c813b8e5ef/src/site_symmetry.c).\n",
      "spglib: ssm_get_exact_positions failed (attempt=2). (line 115, /tmp/pip-install-58cw25xt/spglib_6207849ab7c64022b27925c813b8e5ef/src/site_symmetry.c).\n",
      "spglib: ssm_get_exact_positions failed (attempt=3). (line 115, /tmp/pip-install-58cw25xt/spglib_6207849ab7c64022b27925c813b8e5ef/src/site_symmetry.c).\n",
      "spglib: ssm_get_exact_positions failed (attempt=4). (line 115, /tmp/pip-install-58cw25xt/spglib_6207849ab7c64022b27925c813b8e5ef/src/site_symmetry.c).\n",
      "spglib: ssm_get_exact_positions failed. (line 479, /tmp/pip-install-58cw25xt/spglib_6207849ab7c64022b27925c813b8e5ef/src/refinement.c).\n",
      "spglib: get_bravais_exact_positions_and_lattice failed. (line 336, /tmp/pip-install-58cw25xt/spglib_6207849ab7c64022b27925c813b8e5ef/src/refinement.c).\n",
      "spglib: ref_get_exact_structure_and_symmetry failed. (line 82, /tmp/pip-install-58cw25xt/spglib_6207849ab7c64022b27925c813b8e5ef/src/determination.c).\n",
      "spglib: ssm_get_exact_positions failed (attempt=0). (line 115, /tmp/pip-install-58cw25xt/spglib_6207849ab7c64022b27925c813b8e5ef/src/site_symmetry.c).\n",
      "spglib: ssm_get_exact_positions failed (attempt=1). (line 115, /tmp/pip-install-58cw25xt/spglib_6207849ab7c64022b27925c813b8e5ef/src/site_symmetry.c).\n",
      "spglib: ssm_get_exact_positions failed (attempt=2). (line 115, /tmp/pip-install-58cw25xt/spglib_6207849ab7c64022b27925c813b8e5ef/src/site_symmetry.c).\n",
      "spglib: ssm_get_exact_positions failed (attempt=3). (line 115, /tmp/pip-install-58cw25xt/spglib_6207849ab7c64022b27925c813b8e5ef/src/site_symmetry.c).\n",
      "spglib: ssm_get_exact_positions failed (attempt=4). (line 115, /tmp/pip-install-58cw25xt/spglib_6207849ab7c64022b27925c813b8e5ef/src/site_symmetry.c).\n",
      "spglib: ssm_get_exact_positions failed. (line 479, /tmp/pip-install-58cw25xt/spglib_6207849ab7c64022b27925c813b8e5ef/src/refinement.c).\n",
      "spglib: get_bravais_exact_positions_and_lattice failed. (line 336, /tmp/pip-install-58cw25xt/spglib_6207849ab7c64022b27925c813b8e5ef/src/refinement.c).\n",
      "spglib: ref_get_exact_structure_and_symmetry failed. (line 82, /tmp/pip-install-58cw25xt/spglib_6207849ab7c64022b27925c813b8e5ef/src/determination.c).\n",
      "spglib: ssm_get_exact_positions failed (attempt=0). (line 115, /tmp/pip-install-58cw25xt/spglib_6207849ab7c64022b27925c813b8e5ef/src/site_symmetry.c).\n",
      "spglib: ssm_get_exact_positions failed (attempt=1). (line 115, /tmp/pip-install-58cw25xt/spglib_6207849ab7c64022b27925c813b8e5ef/src/site_symmetry.c).\n",
      "spglib: ssm_get_exact_positions failed (attempt=2). (line 115, /tmp/pip-install-58cw25xt/spglib_6207849ab7c64022b27925c813b8e5ef/src/site_symmetry.c).\n",
      "spglib: ssm_get_exact_positions failed (attempt=3). (line 115, /tmp/pip-install-58cw25xt/spglib_6207849ab7c64022b27925c813b8e5ef/src/site_symmetry.c).\n",
      "spglib: ssm_get_exact_positions failed (attempt=4). (line 115, /tmp/pip-install-58cw25xt/spglib_6207849ab7c64022b27925c813b8e5ef/src/site_symmetry.c).\n",
      "spglib: ssm_get_exact_positions failed. (line 479, /tmp/pip-install-58cw25xt/spglib_6207849ab7c64022b27925c813b8e5ef/src/refinement.c).\n",
      "spglib: get_bravais_exact_positions_and_lattice failed. (line 336, /tmp/pip-install-58cw25xt/spglib_6207849ab7c64022b27925c813b8e5ef/src/refinement.c).\n",
      "spglib: ref_get_exact_structure_and_symmetry failed. (line 82, /tmp/pip-install-58cw25xt/spglib_6207849ab7c64022b27925c813b8e5ef/src/determination.c).\n",
      "spglib: ssm_get_exact_positions failed (attempt=0). (line 115, /tmp/pip-install-58cw25xt/spglib_6207849ab7c64022b27925c813b8e5ef/src/site_symmetry.c).\n",
      "spglib: ssm_get_exact_positions failed (attempt=1). (line 115, /tmp/pip-install-58cw25xt/spglib_6207849ab7c64022b27925c813b8e5ef/src/site_symmetry.c).\n",
      "spglib: ssm_get_exact_positions failed (attempt=2). (line 115, /tmp/pip-install-58cw25xt/spglib_6207849ab7c64022b27925c813b8e5ef/src/site_symmetry.c).\n",
      "spglib: ssm_get_exact_positions failed (attempt=3). (line 115, /tmp/pip-install-58cw25xt/spglib_6207849ab7c64022b27925c813b8e5ef/src/site_symmetry.c).\n",
      "spglib: ssm_get_exact_positions failed (attempt=4). (line 115, /tmp/pip-install-58cw25xt/spglib_6207849ab7c64022b27925c813b8e5ef/src/site_symmetry.c).\n",
      "spglib: ssm_get_exact_positions failed. (line 479, /tmp/pip-install-58cw25xt/spglib_6207849ab7c64022b27925c813b8e5ef/src/refinement.c).\n",
      "spglib: get_bravais_exact_positions_and_lattice failed. (line 336, /tmp/pip-install-58cw25xt/spglib_6207849ab7c64022b27925c813b8e5ef/src/refinement.c).\n",
      "spglib: ref_get_exact_structure_and_symmetry failed. (line 82, /tmp/pip-install-58cw25xt/spglib_6207849ab7c64022b27925c813b8e5ef/src/determination.c).\n",
      "spglib: ssm_get_exact_positions failed (attempt=0). (line 115, /tmp/pip-install-58cw25xt/spglib_6207849ab7c64022b27925c813b8e5ef/src/site_symmetry.c).\n",
      "spglib: ssm_get_exact_positions failed (attempt=1). (line 115, /tmp/pip-install-58cw25xt/spglib_6207849ab7c64022b27925c813b8e5ef/src/site_symmetry.c).\n",
      "spglib: ssm_get_exact_positions failed (attempt=2). (line 115, /tmp/pip-install-58cw25xt/spglib_6207849ab7c64022b27925c813b8e5ef/src/site_symmetry.c).\n",
      "spglib: ssm_get_exact_positions failed (attempt=3). (line 115, /tmp/pip-install-58cw25xt/spglib_6207849ab7c64022b27925c813b8e5ef/src/site_symmetry.c).\n",
      "spglib: ssm_get_exact_positions failed (attempt=4). (line 115, /tmp/pip-install-58cw25xt/spglib_6207849ab7c64022b27925c813b8e5ef/src/site_symmetry.c).\n",
      "spglib: ssm_get_exact_positions failed. (line 479, /tmp/pip-install-58cw25xt/spglib_6207849ab7c64022b27925c813b8e5ef/src/refinement.c).\n",
      "spglib: get_bravais_exact_positions_and_lattice failed. (line 336, /tmp/pip-install-58cw25xt/spglib_6207849ab7c64022b27925c813b8e5ef/src/refinement.c).\n",
      "spglib: ref_get_exact_structure_and_symmetry failed. (line 82, /tmp/pip-install-58cw25xt/spglib_6207849ab7c64022b27925c813b8e5ef/src/determination.c).\n",
      "spglib: ssm_get_exact_positions failed (attempt=0). (line 115, /tmp/pip-install-58cw25xt/spglib_6207849ab7c64022b27925c813b8e5ef/src/site_symmetry.c).\n",
      "spglib: ssm_get_exact_positions failed (attempt=1). (line 115, /tmp/pip-install-58cw25xt/spglib_6207849ab7c64022b27925c813b8e5ef/src/site_symmetry.c).\n",
      "spglib: ssm_get_exact_positions failed (attempt=2). (line 115, /tmp/pip-install-58cw25xt/spglib_6207849ab7c64022b27925c813b8e5ef/src/site_symmetry.c).\n",
      "spglib: ssm_get_exact_positions failed (attempt=3). (line 115, /tmp/pip-install-58cw25xt/spglib_6207849ab7c64022b27925c813b8e5ef/src/site_symmetry.c).\n",
      "spglib: ssm_get_exact_positions failed (attempt=4). (line 115, /tmp/pip-install-58cw25xt/spglib_6207849ab7c64022b27925c813b8e5ef/src/site_symmetry.c).\n",
      "spglib: ssm_get_exact_positions failed. (line 479, /tmp/pip-install-58cw25xt/spglib_6207849ab7c64022b27925c813b8e5ef/src/refinement.c).\n",
      "spglib: get_bravais_exact_positions_and_lattice failed. (line 336, /tmp/pip-install-58cw25xt/spglib_6207849ab7c64022b27925c813b8e5ef/src/refinement.c).\n",
      "spglib: ref_get_exact_structure_and_symmetry failed. (line 82, /tmp/pip-install-58cw25xt/spglib_6207849ab7c64022b27925c813b8e5ef/src/determination.c).\n",
      "spglib: ssm_get_exact_positions failed (attempt=0). (line 115, /tmp/pip-install-58cw25xt/spglib_6207849ab7c64022b27925c813b8e5ef/src/site_symmetry.c).\n",
      "spglib: ssm_get_exact_positions failed (attempt=1). (line 115, /tmp/pip-install-58cw25xt/spglib_6207849ab7c64022b27925c813b8e5ef/src/site_symmetry.c).\n",
      "spglib: ssm_get_exact_positions failed (attempt=2). (line 115, /tmp/pip-install-58cw25xt/spglib_6207849ab7c64022b27925c813b8e5ef/src/site_symmetry.c).\n",
      "spglib: ssm_get_exact_positions failed (attempt=3). (line 115, /tmp/pip-install-58cw25xt/spglib_6207849ab7c64022b27925c813b8e5ef/src/site_symmetry.c).\n",
      "spglib: ssm_get_exact_positions failed (attempt=4). (line 115, /tmp/pip-install-58cw25xt/spglib_6207849ab7c64022b27925c813b8e5ef/src/site_symmetry.c).\n",
      "spglib: ssm_get_exact_positions failed. (line 479, /tmp/pip-install-58cw25xt/spglib_6207849ab7c64022b27925c813b8e5ef/src/refinement.c).\n",
      "spglib: get_bravais_exact_positions_and_lattice failed. (line 336, /tmp/pip-install-58cw25xt/spglib_6207849ab7c64022b27925c813b8e5ef/src/refinement.c).\n",
      "spglib: ref_get_exact_structure_and_symmetry failed. (line 82, /tmp/pip-install-58cw25xt/spglib_6207849ab7c64022b27925c813b8e5ef/src/determination.c).\n",
      "spglib: ssm_get_exact_positions failed (attempt=0). (line 115, /tmp/pip-install-58cw25xt/spglib_6207849ab7c64022b27925c813b8e5ef/src/site_symmetry.c).\n",
      "spglib: ssm_get_exact_positions failed (attempt=1). (line 115, /tmp/pip-install-58cw25xt/spglib_6207849ab7c64022b27925c813b8e5ef/src/site_symmetry.c).\n",
      "spglib: ssm_get_exact_positions failed (attempt=2). (line 115, /tmp/pip-install-58cw25xt/spglib_6207849ab7c64022b27925c813b8e5ef/src/site_symmetry.c).\n",
      "spglib: ssm_get_exact_positions failed (attempt=3). (line 115, /tmp/pip-install-58cw25xt/spglib_6207849ab7c64022b27925c813b8e5ef/src/site_symmetry.c).\n",
      "spglib: ssm_get_exact_positions failed (attempt=4). (line 115, /tmp/pip-install-58cw25xt/spglib_6207849ab7c64022b27925c813b8e5ef/src/site_symmetry.c).\n",
      "spglib: ssm_get_exact_positions failed. (line 479, /tmp/pip-install-58cw25xt/spglib_6207849ab7c64022b27925c813b8e5ef/src/refinement.c).\n",
      "spglib: get_bravais_exact_positions_and_lattice failed. (line 336, /tmp/pip-install-58cw25xt/spglib_6207849ab7c64022b27925c813b8e5ef/src/refinement.c).\n",
      "spglib: ref_get_exact_structure_and_symmetry failed. (line 82, /tmp/pip-install-58cw25xt/spglib_6207849ab7c64022b27925c813b8e5ef/src/determination.c).\n",
      "spglib: ssm_get_exact_positions failed (attempt=0). (line 115, /tmp/pip-install-58cw25xt/spglib_6207849ab7c64022b27925c813b8e5ef/src/site_symmetry.c).\n",
      "spglib: ssm_get_exact_positions failed (attempt=1). (line 115, /tmp/pip-install-58cw25xt/spglib_6207849ab7c64022b27925c813b8e5ef/src/site_symmetry.c).\n",
      "spglib: ssm_get_exact_positions failed (attempt=2). (line 115, /tmp/pip-install-58cw25xt/spglib_6207849ab7c64022b27925c813b8e5ef/src/site_symmetry.c).\n",
      "spglib: ssm_get_exact_positions failed (attempt=3). (line 115, /tmp/pip-install-58cw25xt/spglib_6207849ab7c64022b27925c813b8e5ef/src/site_symmetry.c).\n",
      "spglib: ssm_get_exact_positions failed (attempt=4). (line 115, /tmp/pip-install-58cw25xt/spglib_6207849ab7c64022b27925c813b8e5ef/src/site_symmetry.c).\n",
      "spglib: ssm_get_exact_positions failed. (line 479, /tmp/pip-install-58cw25xt/spglib_6207849ab7c64022b27925c813b8e5ef/src/refinement.c).\n",
      "spglib: get_bravais_exact_positions_and_lattice failed. (line 336, /tmp/pip-install-58cw25xt/spglib_6207849ab7c64022b27925c813b8e5ef/src/refinement.c).\n",
      "spglib: ref_get_exact_structure_and_symmetry failed. (line 82, /tmp/pip-install-58cw25xt/spglib_6207849ab7c64022b27925c813b8e5ef/src/determination.c).\n",
      "spglib: ssm_get_exact_positions failed (attempt=0). (line 115, /tmp/pip-install-58cw25xt/spglib_6207849ab7c64022b27925c813b8e5ef/src/site_symmetry.c).\n",
      "spglib: ssm_get_exact_positions failed (attempt=1). (line 115, /tmp/pip-install-58cw25xt/spglib_6207849ab7c64022b27925c813b8e5ef/src/site_symmetry.c).\n",
      "spglib: ssm_get_exact_positions failed (attempt=2). (line 115, /tmp/pip-install-58cw25xt/spglib_6207849ab7c64022b27925c813b8e5ef/src/site_symmetry.c).\n",
      "spglib: ssm_get_exact_positions failed (attempt=3). (line 115, /tmp/pip-install-58cw25xt/spglib_6207849ab7c64022b27925c813b8e5ef/src/site_symmetry.c).\n",
      "spglib: ssm_get_exact_positions failed (attempt=4). (line 115, /tmp/pip-install-58cw25xt/spglib_6207849ab7c64022b27925c813b8e5ef/src/site_symmetry.c).\n",
      "spglib: ssm_get_exact_positions failed. (line 479, /tmp/pip-install-58cw25xt/spglib_6207849ab7c64022b27925c813b8e5ef/src/refinement.c).\n",
      "spglib: get_bravais_exact_positions_and_lattice failed. (line 336, /tmp/pip-install-58cw25xt/spglib_6207849ab7c64022b27925c813b8e5ef/src/refinement.c).\n",
      "spglib: ref_get_exact_structure_and_symmetry failed. (line 82, /tmp/pip-install-58cw25xt/spglib_6207849ab7c64022b27925c813b8e5ef/src/determination.c).\n",
      "spglib: ssm_get_exact_positions failed (attempt=0). (line 115, /tmp/pip-install-58cw25xt/spglib_6207849ab7c64022b27925c813b8e5ef/src/site_symmetry.c).\n",
      "spglib: ssm_get_exact_positions failed (attempt=1). (line 115, /tmp/pip-install-58cw25xt/spglib_6207849ab7c64022b27925c813b8e5ef/src/site_symmetry.c).\n",
      "spglib: ssm_get_exact_positions failed (attempt=2). (line 115, /tmp/pip-install-58cw25xt/spglib_6207849ab7c64022b27925c813b8e5ef/src/site_symmetry.c).\n",
      "spglib: ssm_get_exact_positions failed (attempt=3). (line 115, /tmp/pip-install-58cw25xt/spglib_6207849ab7c64022b27925c813b8e5ef/src/site_symmetry.c).\n",
      "spglib: ssm_get_exact_positions failed (attempt=4). (line 115, /tmp/pip-install-58cw25xt/spglib_6207849ab7c64022b27925c813b8e5ef/src/site_symmetry.c).\n",
      "spglib: ssm_get_exact_positions failed. (line 479, /tmp/pip-install-58cw25xt/spglib_6207849ab7c64022b27925c813b8e5ef/src/refinement.c).\n",
      "spglib: get_bravais_exact_positions_and_lattice failed. (line 336, /tmp/pip-install-58cw25xt/spglib_6207849ab7c64022b27925c813b8e5ef/src/refinement.c).\n",
      "spglib: ref_get_exact_structure_and_symmetry failed. (line 82, /tmp/pip-install-58cw25xt/spglib_6207849ab7c64022b27925c813b8e5ef/src/determination.c).\n",
      "spglib: ssm_get_exact_positions failed (attempt=0). (line 115, /tmp/pip-install-58cw25xt/spglib_6207849ab7c64022b27925c813b8e5ef/src/site_symmetry.c).\n",
      "spglib: ssm_get_exact_positions failed (attempt=1). (line 115, /tmp/pip-install-58cw25xt/spglib_6207849ab7c64022b27925c813b8e5ef/src/site_symmetry.c).\n",
      "spglib: ssm_get_exact_positions failed (attempt=2). (line 115, /tmp/pip-install-58cw25xt/spglib_6207849ab7c64022b27925c813b8e5ef/src/site_symmetry.c).\n",
      "spglib: ssm_get_exact_positions failed (attempt=3). (line 115, /tmp/pip-install-58cw25xt/spglib_6207849ab7c64022b27925c813b8e5ef/src/site_symmetry.c).\n",
      "spglib: ssm_get_exact_positions failed (attempt=4). (line 115, /tmp/pip-install-58cw25xt/spglib_6207849ab7c64022b27925c813b8e5ef/src/site_symmetry.c).\n",
      "spglib: ssm_get_exact_positions failed. (line 479, /tmp/pip-install-58cw25xt/spglib_6207849ab7c64022b27925c813b8e5ef/src/refinement.c).\n",
      "spglib: get_bravais_exact_positions_and_lattice failed. (line 336, /tmp/pip-install-58cw25xt/spglib_6207849ab7c64022b27925c813b8e5ef/src/refinement.c).\n",
      "spglib: ref_get_exact_structure_and_symmetry failed. (line 82, /tmp/pip-install-58cw25xt/spglib_6207849ab7c64022b27925c813b8e5ef/src/determination.c).\n",
      "spglib: ssm_get_exact_positions failed (attempt=0). (line 115, /tmp/pip-install-58cw25xt/spglib_6207849ab7c64022b27925c813b8e5ef/src/site_symmetry.c).\n",
      "spglib: ssm_get_exact_positions failed (attempt=1). (line 115, /tmp/pip-install-58cw25xt/spglib_6207849ab7c64022b27925c813b8e5ef/src/site_symmetry.c).\n",
      "spglib: ssm_get_exact_positions failed (attempt=2). (line 115, /tmp/pip-install-58cw25xt/spglib_6207849ab7c64022b27925c813b8e5ef/src/site_symmetry.c).\n",
      "spglib: ssm_get_exact_positions failed (attempt=3). (line 115, /tmp/pip-install-58cw25xt/spglib_6207849ab7c64022b27925c813b8e5ef/src/site_symmetry.c).\n",
      "spglib: ssm_get_exact_positions failed (attempt=4). (line 115, /tmp/pip-install-58cw25xt/spglib_6207849ab7c64022b27925c813b8e5ef/src/site_symmetry.c).\n",
      "spglib: ssm_get_exact_positions failed. (line 479, /tmp/pip-install-58cw25xt/spglib_6207849ab7c64022b27925c813b8e5ef/src/refinement.c).\n",
      "spglib: get_bravais_exact_positions_and_lattice failed. (line 336, /tmp/pip-install-58cw25xt/spglib_6207849ab7c64022b27925c813b8e5ef/src/refinement.c).\n",
      "spglib: ref_get_exact_structure_and_symmetry failed. (line 82, /tmp/pip-install-58cw25xt/spglib_6207849ab7c64022b27925c813b8e5ef/src/determination.c).\n",
      "spglib: ssm_get_exact_positions failed (attempt=0). (line 115, /tmp/pip-install-58cw25xt/spglib_6207849ab7c64022b27925c813b8e5ef/src/site_symmetry.c).\n",
      "spglib: ssm_get_exact_positions failed (attempt=1). (line 115, /tmp/pip-install-58cw25xt/spglib_6207849ab7c64022b27925c813b8e5ef/src/site_symmetry.c).\n",
      "spglib: ssm_get_exact_positions failed (attempt=2). (line 115, /tmp/pip-install-58cw25xt/spglib_6207849ab7c64022b27925c813b8e5ef/src/site_symmetry.c).\n",
      "spglib: ssm_get_exact_positions failed (attempt=3). (line 115, /tmp/pip-install-58cw25xt/spglib_6207849ab7c64022b27925c813b8e5ef/src/site_symmetry.c).\n",
      "spglib: ssm_get_exact_positions failed (attempt=4). (line 115, /tmp/pip-install-58cw25xt/spglib_6207849ab7c64022b27925c813b8e5ef/src/site_symmetry.c).\n",
      "spglib: ssm_get_exact_positions failed. (line 479, /tmp/pip-install-58cw25xt/spglib_6207849ab7c64022b27925c813b8e5ef/src/refinement.c).\n",
      "spglib: get_bravais_exact_positions_and_lattice failed. (line 336, /tmp/pip-install-58cw25xt/spglib_6207849ab7c64022b27925c813b8e5ef/src/refinement.c).\n",
      "spglib: ref_get_exact_structure_and_symmetry failed. (line 82, /tmp/pip-install-58cw25xt/spglib_6207849ab7c64022b27925c813b8e5ef/src/determination.c).\n",
      "spglib: ssm_get_exact_positions failed (attempt=0). (line 115, /tmp/pip-install-58cw25xt/spglib_6207849ab7c64022b27925c813b8e5ef/src/site_symmetry.c).\n",
      "spglib: ssm_get_exact_positions failed (attempt=1). (line 115, /tmp/pip-install-58cw25xt/spglib_6207849ab7c64022b27925c813b8e5ef/src/site_symmetry.c).\n",
      "spglib: ssm_get_exact_positions failed (attempt=2). (line 115, /tmp/pip-install-58cw25xt/spglib_6207849ab7c64022b27925c813b8e5ef/src/site_symmetry.c).\n",
      "spglib: ssm_get_exact_positions failed (attempt=3). (line 115, /tmp/pip-install-58cw25xt/spglib_6207849ab7c64022b27925c813b8e5ef/src/site_symmetry.c).\n",
      "spglib: ssm_get_exact_positions failed (attempt=4). (line 115, /tmp/pip-install-58cw25xt/spglib_6207849ab7c64022b27925c813b8e5ef/src/site_symmetry.c).\n",
      "spglib: ssm_get_exact_positions failed. (line 479, /tmp/pip-install-58cw25xt/spglib_6207849ab7c64022b27925c813b8e5ef/src/refinement.c).\n",
      "spglib: get_bravais_exact_positions_and_lattice failed. (line 336, /tmp/pip-install-58cw25xt/spglib_6207849ab7c64022b27925c813b8e5ef/src/refinement.c).\n",
      "spglib: ref_get_exact_structure_and_symmetry failed. (line 82, /tmp/pip-install-58cw25xt/spglib_6207849ab7c64022b27925c813b8e5ef/src/determination.c).\n",
      "spglib: ssm_get_exact_positions failed (attempt=0). (line 115, /tmp/pip-install-58cw25xt/spglib_6207849ab7c64022b27925c813b8e5ef/src/site_symmetry.c).\n",
      "spglib: ssm_get_exact_positions failed (attempt=1). (line 115, /tmp/pip-install-58cw25xt/spglib_6207849ab7c64022b27925c813b8e5ef/src/site_symmetry.c).\n",
      "spglib: ssm_get_exact_positions failed (attempt=2). (line 115, /tmp/pip-install-58cw25xt/spglib_6207849ab7c64022b27925c813b8e5ef/src/site_symmetry.c).\n",
      "spglib: ssm_get_exact_positions failed (attempt=3). (line 115, /tmp/pip-install-58cw25xt/spglib_6207849ab7c64022b27925c813b8e5ef/src/site_symmetry.c).\n",
      "spglib: ssm_get_exact_positions failed (attempt=4). (line 115, /tmp/pip-install-58cw25xt/spglib_6207849ab7c64022b27925c813b8e5ef/src/site_symmetry.c).\n",
      "spglib: ssm_get_exact_positions failed. (line 479, /tmp/pip-install-58cw25xt/spglib_6207849ab7c64022b27925c813b8e5ef/src/refinement.c).\n",
      "spglib: get_bravais_exact_positions_and_lattice failed. (line 336, /tmp/pip-install-58cw25xt/spglib_6207849ab7c64022b27925c813b8e5ef/src/refinement.c).\n",
      "spglib: ref_get_exact_structure_and_symmetry failed. (line 82, /tmp/pip-install-58cw25xt/spglib_6207849ab7c64022b27925c813b8e5ef/src/determination.c).\n",
      "spglib: ssm_get_exact_positions failed (attempt=0). (line 115, /tmp/pip-install-58cw25xt/spglib_6207849ab7c64022b27925c813b8e5ef/src/site_symmetry.c).\n",
      "spglib: ssm_get_exact_positions failed (attempt=1). (line 115, /tmp/pip-install-58cw25xt/spglib_6207849ab7c64022b27925c813b8e5ef/src/site_symmetry.c).\n",
      "spglib: ssm_get_exact_positions failed (attempt=2). (line 115, /tmp/pip-install-58cw25xt/spglib_6207849ab7c64022b27925c813b8e5ef/src/site_symmetry.c).\n",
      "spglib: ssm_get_exact_positions failed (attempt=3). (line 115, /tmp/pip-install-58cw25xt/spglib_6207849ab7c64022b27925c813b8e5ef/src/site_symmetry.c).\n",
      "spglib: ssm_get_exact_positions failed (attempt=4). (line 115, /tmp/pip-install-58cw25xt/spglib_6207849ab7c64022b27925c813b8e5ef/src/site_symmetry.c).\n",
      "spglib: ssm_get_exact_positions failed. (line 479, /tmp/pip-install-58cw25xt/spglib_6207849ab7c64022b27925c813b8e5ef/src/refinement.c).\n",
      "spglib: get_bravais_exact_positions_and_lattice failed. (line 336, /tmp/pip-install-58cw25xt/spglib_6207849ab7c64022b27925c813b8e5ef/src/refinement.c).\n",
      "spglib: ref_get_exact_structure_and_symmetry failed. (line 82, /tmp/pip-install-58cw25xt/spglib_6207849ab7c64022b27925c813b8e5ef/src/determination.c).\n",
      "spglib: ssm_get_exact_positions failed (attempt=0). (line 115, /tmp/pip-install-58cw25xt/spglib_6207849ab7c64022b27925c813b8e5ef/src/site_symmetry.c).\n",
      "spglib: ssm_get_exact_positions failed (attempt=1). (line 115, /tmp/pip-install-58cw25xt/spglib_6207849ab7c64022b27925c813b8e5ef/src/site_symmetry.c).\n",
      "spglib: ssm_get_exact_positions failed (attempt=2). (line 115, /tmp/pip-install-58cw25xt/spglib_6207849ab7c64022b27925c813b8e5ef/src/site_symmetry.c).\n",
      "spglib: ssm_get_exact_positions failed (attempt=3). (line 115, /tmp/pip-install-58cw25xt/spglib_6207849ab7c64022b27925c813b8e5ef/src/site_symmetry.c).\n",
      "spglib: ssm_get_exact_positions failed (attempt=4). (line 115, /tmp/pip-install-58cw25xt/spglib_6207849ab7c64022b27925c813b8e5ef/src/site_symmetry.c).\n",
      "spglib: ssm_get_exact_positions failed. (line 479, /tmp/pip-install-58cw25xt/spglib_6207849ab7c64022b27925c813b8e5ef/src/refinement.c).\n",
      "spglib: get_bravais_exact_positions_and_lattice failed. (line 336, /tmp/pip-install-58cw25xt/spglib_6207849ab7c64022b27925c813b8e5ef/src/refinement.c).\n",
      "spglib: ref_get_exact_structure_and_symmetry failed. (line 82, /tmp/pip-install-58cw25xt/spglib_6207849ab7c64022b27925c813b8e5ef/src/determination.c).\n",
      "spglib: ssm_get_exact_positions failed (attempt=0). (line 115, /tmp/pip-install-58cw25xt/spglib_6207849ab7c64022b27925c813b8e5ef/src/site_symmetry.c).\n",
      "spglib: ssm_get_exact_positions failed (attempt=1). (line 115, /tmp/pip-install-58cw25xt/spglib_6207849ab7c64022b27925c813b8e5ef/src/site_symmetry.c).\n",
      "spglib: ssm_get_exact_positions failed (attempt=2). (line 115, /tmp/pip-install-58cw25xt/spglib_6207849ab7c64022b27925c813b8e5ef/src/site_symmetry.c).\n",
      "spglib: ssm_get_exact_positions failed (attempt=3). (line 115, /tmp/pip-install-58cw25xt/spglib_6207849ab7c64022b27925c813b8e5ef/src/site_symmetry.c).\n",
      "spglib: ssm_get_exact_positions failed (attempt=4). (line 115, /tmp/pip-install-58cw25xt/spglib_6207849ab7c64022b27925c813b8e5ef/src/site_symmetry.c).\n",
      "spglib: ssm_get_exact_positions failed. (line 479, /tmp/pip-install-58cw25xt/spglib_6207849ab7c64022b27925c813b8e5ef/src/refinement.c).\n",
      "spglib: get_bravais_exact_positions_and_lattice failed. (line 336, /tmp/pip-install-58cw25xt/spglib_6207849ab7c64022b27925c813b8e5ef/src/refinement.c).\n",
      "spglib: ref_get_exact_structure_and_symmetry failed. (line 82, /tmp/pip-install-58cw25xt/spglib_6207849ab7c64022b27925c813b8e5ef/src/determination.c).\n",
      "spglib: ssm_get_exact_positions failed (attempt=0). (line 115, /tmp/pip-install-58cw25xt/spglib_6207849ab7c64022b27925c813b8e5ef/src/site_symmetry.c).\n",
      "spglib: ssm_get_exact_positions failed (attempt=1). (line 115, /tmp/pip-install-58cw25xt/spglib_6207849ab7c64022b27925c813b8e5ef/src/site_symmetry.c).\n",
      "spglib: ssm_get_exact_positions failed (attempt=2). (line 115, /tmp/pip-install-58cw25xt/spglib_6207849ab7c64022b27925c813b8e5ef/src/site_symmetry.c).\n",
      "spglib: ssm_get_exact_positions failed (attempt=3). (line 115, /tmp/pip-install-58cw25xt/spglib_6207849ab7c64022b27925c813b8e5ef/src/site_symmetry.c).\n",
      "spglib: ssm_get_exact_positions failed (attempt=4). (line 115, /tmp/pip-install-58cw25xt/spglib_6207849ab7c64022b27925c813b8e5ef/src/site_symmetry.c).\n",
      "spglib: ssm_get_exact_positions failed. (line 479, /tmp/pip-install-58cw25xt/spglib_6207849ab7c64022b27925c813b8e5ef/src/refinement.c).\n",
      "spglib: get_bravais_exact_positions_and_lattice failed. (line 336, /tmp/pip-install-58cw25xt/spglib_6207849ab7c64022b27925c813b8e5ef/src/refinement.c).\n",
      "spglib: ref_get_exact_structure_and_symmetry failed. (line 82, /tmp/pip-install-58cw25xt/spglib_6207849ab7c64022b27925c813b8e5ef/src/determination.c).\n",
      "spglib: ssm_get_exact_positions failed (attempt=0). (line 115, /tmp/pip-install-58cw25xt/spglib_6207849ab7c64022b27925c813b8e5ef/src/site_symmetry.c).\n",
      "spglib: ssm_get_exact_positions failed (attempt=1). (line 115, /tmp/pip-install-58cw25xt/spglib_6207849ab7c64022b27925c813b8e5ef/src/site_symmetry.c).\n",
      "spglib: ssm_get_exact_positions failed (attempt=2). (line 115, /tmp/pip-install-58cw25xt/spglib_6207849ab7c64022b27925c813b8e5ef/src/site_symmetry.c).\n",
      "spglib: ssm_get_exact_positions failed (attempt=3). (line 115, /tmp/pip-install-58cw25xt/spglib_6207849ab7c64022b27925c813b8e5ef/src/site_symmetry.c).\n",
      "spglib: ssm_get_exact_positions failed (attempt=4). (line 115, /tmp/pip-install-58cw25xt/spglib_6207849ab7c64022b27925c813b8e5ef/src/site_symmetry.c).\n",
      "spglib: ssm_get_exact_positions failed. (line 479, /tmp/pip-install-58cw25xt/spglib_6207849ab7c64022b27925c813b8e5ef/src/refinement.c).\n",
      "spglib: get_bravais_exact_positions_and_lattice failed. (line 336, /tmp/pip-install-58cw25xt/spglib_6207849ab7c64022b27925c813b8e5ef/src/refinement.c).\n",
      "spglib: ref_get_exact_structure_and_symmetry failed. (line 82, /tmp/pip-install-58cw25xt/spglib_6207849ab7c64022b27925c813b8e5ef/src/determination.c).\n",
      "spglib: ssm_get_exact_positions failed (attempt=0). (line 115, /tmp/pip-install-58cw25xt/spglib_6207849ab7c64022b27925c813b8e5ef/src/site_symmetry.c).\n",
      "spglib: ssm_get_exact_positions failed (attempt=1). (line 115, /tmp/pip-install-58cw25xt/spglib_6207849ab7c64022b27925c813b8e5ef/src/site_symmetry.c).\n",
      "spglib: ssm_get_exact_positions failed (attempt=2). (line 115, /tmp/pip-install-58cw25xt/spglib_6207849ab7c64022b27925c813b8e5ef/src/site_symmetry.c).\n",
      "spglib: ssm_get_exact_positions failed (attempt=3). (line 115, /tmp/pip-install-58cw25xt/spglib_6207849ab7c64022b27925c813b8e5ef/src/site_symmetry.c).\n",
      "spglib: ssm_get_exact_positions failed (attempt=4). (line 115, /tmp/pip-install-58cw25xt/spglib_6207849ab7c64022b27925c813b8e5ef/src/site_symmetry.c).\n",
      "spglib: ssm_get_exact_positions failed. (line 479, /tmp/pip-install-58cw25xt/spglib_6207849ab7c64022b27925c813b8e5ef/src/refinement.c).\n",
      "spglib: get_bravais_exact_positions_and_lattice failed. (line 336, /tmp/pip-install-58cw25xt/spglib_6207849ab7c64022b27925c813b8e5ef/src/refinement.c).\n",
      "spglib: ref_get_exact_structure_and_symmetry failed. (line 82, /tmp/pip-install-58cw25xt/spglib_6207849ab7c64022b27925c813b8e5ef/src/determination.c).\n",
      "spglib: ssm_get_exact_positions failed (attempt=0). (line 115, /tmp/pip-install-58cw25xt/spglib_6207849ab7c64022b27925c813b8e5ef/src/site_symmetry.c).\n",
      "spglib: ssm_get_exact_positions failed (attempt=1). (line 115, /tmp/pip-install-58cw25xt/spglib_6207849ab7c64022b27925c813b8e5ef/src/site_symmetry.c).\n",
      "spglib: ssm_get_exact_positions failed (attempt=2). (line 115, /tmp/pip-install-58cw25xt/spglib_6207849ab7c64022b27925c813b8e5ef/src/site_symmetry.c).\n",
      "spglib: ssm_get_exact_positions failed (attempt=3). (line 115, /tmp/pip-install-58cw25xt/spglib_6207849ab7c64022b27925c813b8e5ef/src/site_symmetry.c).\n",
      "spglib: ssm_get_exact_positions failed (attempt=4). (line 115, /tmp/pip-install-58cw25xt/spglib_6207849ab7c64022b27925c813b8e5ef/src/site_symmetry.c).\n",
      "spglib: ssm_get_exact_positions failed. (line 479, /tmp/pip-install-58cw25xt/spglib_6207849ab7c64022b27925c813b8e5ef/src/refinement.c).\n",
      "spglib: get_bravais_exact_positions_and_lattice failed. (line 336, /tmp/pip-install-58cw25xt/spglib_6207849ab7c64022b27925c813b8e5ef/src/refinement.c).\n",
      "spglib: ref_get_exact_structure_and_symmetry failed. (line 82, /tmp/pip-install-58cw25xt/spglib_6207849ab7c64022b27925c813b8e5ef/src/determination.c).\n",
      "spglib: ssm_get_exact_positions failed (attempt=0). (line 115, /tmp/pip-install-58cw25xt/spglib_6207849ab7c64022b27925c813b8e5ef/src/site_symmetry.c).\n",
      "spglib: ssm_get_exact_positions failed (attempt=1). (line 115, /tmp/pip-install-58cw25xt/spglib_6207849ab7c64022b27925c813b8e5ef/src/site_symmetry.c).\n",
      "spglib: ssm_get_exact_positions failed (attempt=2). (line 115, /tmp/pip-install-58cw25xt/spglib_6207849ab7c64022b27925c813b8e5ef/src/site_symmetry.c).\n",
      "spglib: ssm_get_exact_positions failed (attempt=3). (line 115, /tmp/pip-install-58cw25xt/spglib_6207849ab7c64022b27925c813b8e5ef/src/site_symmetry.c).\n",
      "spglib: ssm_get_exact_positions failed (attempt=4). (line 115, /tmp/pip-install-58cw25xt/spglib_6207849ab7c64022b27925c813b8e5ef/src/site_symmetry.c).\n",
      "spglib: ssm_get_exact_positions failed. (line 479, /tmp/pip-install-58cw25xt/spglib_6207849ab7c64022b27925c813b8e5ef/src/refinement.c).\n",
      "spglib: get_bravais_exact_positions_and_lattice failed. (line 336, /tmp/pip-install-58cw25xt/spglib_6207849ab7c64022b27925c813b8e5ef/src/refinement.c).\n",
      "spglib: ref_get_exact_structure_and_symmetry failed. (line 82, /tmp/pip-install-58cw25xt/spglib_6207849ab7c64022b27925c813b8e5ef/src/determination.c).\n",
      "spglib: ssm_get_exact_positions failed (attempt=0). (line 115, /tmp/pip-install-58cw25xt/spglib_6207849ab7c64022b27925c813b8e5ef/src/site_symmetry.c).\n",
      "spglib: ssm_get_exact_positions failed (attempt=1). (line 115, /tmp/pip-install-58cw25xt/spglib_6207849ab7c64022b27925c813b8e5ef/src/site_symmetry.c).\n",
      "spglib: ssm_get_exact_positions failed (attempt=2). (line 115, /tmp/pip-install-58cw25xt/spglib_6207849ab7c64022b27925c813b8e5ef/src/site_symmetry.c).\n",
      "spglib: ssm_get_exact_positions failed (attempt=3). (line 115, /tmp/pip-install-58cw25xt/spglib_6207849ab7c64022b27925c813b8e5ef/src/site_symmetry.c).\n",
      "spglib: ssm_get_exact_positions failed (attempt=4). (line 115, /tmp/pip-install-58cw25xt/spglib_6207849ab7c64022b27925c813b8e5ef/src/site_symmetry.c).\n",
      "spglib: ssm_get_exact_positions failed. (line 479, /tmp/pip-install-58cw25xt/spglib_6207849ab7c64022b27925c813b8e5ef/src/refinement.c).\n",
      "spglib: get_bravais_exact_positions_and_lattice failed. (line 336, /tmp/pip-install-58cw25xt/spglib_6207849ab7c64022b27925c813b8e5ef/src/refinement.c).\n",
      "spglib: ref_get_exact_structure_and_symmetry failed. (line 82, /tmp/pip-install-58cw25xt/spglib_6207849ab7c64022b27925c813b8e5ef/src/determination.c).\n",
      "spglib: ssm_get_exact_positions failed (attempt=0). (line 115, /tmp/pip-install-58cw25xt/spglib_6207849ab7c64022b27925c813b8e5ef/src/site_symmetry.c).\n",
      "spglib: ssm_get_exact_positions failed (attempt=1). (line 115, /tmp/pip-install-58cw25xt/spglib_6207849ab7c64022b27925c813b8e5ef/src/site_symmetry.c).\n",
      "spglib: ssm_get_exact_positions failed (attempt=2). (line 115, /tmp/pip-install-58cw25xt/spglib_6207849ab7c64022b27925c813b8e5ef/src/site_symmetry.c).\n",
      "spglib: ssm_get_exact_positions failed (attempt=3). (line 115, /tmp/pip-install-58cw25xt/spglib_6207849ab7c64022b27925c813b8e5ef/src/site_symmetry.c).\n",
      "spglib: ssm_get_exact_positions failed (attempt=4). (line 115, /tmp/pip-install-58cw25xt/spglib_6207849ab7c64022b27925c813b8e5ef/src/site_symmetry.c).\n",
      "spglib: ssm_get_exact_positions failed. (line 479, /tmp/pip-install-58cw25xt/spglib_6207849ab7c64022b27925c813b8e5ef/src/refinement.c).\n",
      "spglib: get_bravais_exact_positions_and_lattice failed. (line 336, /tmp/pip-install-58cw25xt/spglib_6207849ab7c64022b27925c813b8e5ef/src/refinement.c).\n",
      "spglib: ref_get_exact_structure_and_symmetry failed. (line 82, /tmp/pip-install-58cw25xt/spglib_6207849ab7c64022b27925c813b8e5ef/src/determination.c).\n",
      "spglib: ssm_get_exact_positions failed (attempt=0). (line 115, /tmp/pip-install-58cw25xt/spglib_6207849ab7c64022b27925c813b8e5ef/src/site_symmetry.c).\n",
      "spglib: ssm_get_exact_positions failed (attempt=1). (line 115, /tmp/pip-install-58cw25xt/spglib_6207849ab7c64022b27925c813b8e5ef/src/site_symmetry.c).\n",
      "spglib: ssm_get_exact_positions failed (attempt=2). (line 115, /tmp/pip-install-58cw25xt/spglib_6207849ab7c64022b27925c813b8e5ef/src/site_symmetry.c).\n",
      "spglib: ssm_get_exact_positions failed (attempt=3). (line 115, /tmp/pip-install-58cw25xt/spglib_6207849ab7c64022b27925c813b8e5ef/src/site_symmetry.c).\n",
      "spglib: ssm_get_exact_positions failed (attempt=4). (line 115, /tmp/pip-install-58cw25xt/spglib_6207849ab7c64022b27925c813b8e5ef/src/site_symmetry.c).\n",
      "spglib: ssm_get_exact_positions failed. (line 479, /tmp/pip-install-58cw25xt/spglib_6207849ab7c64022b27925c813b8e5ef/src/refinement.c).\n",
      "spglib: get_bravais_exact_positions_and_lattice failed. (line 336, /tmp/pip-install-58cw25xt/spglib_6207849ab7c64022b27925c813b8e5ef/src/refinement.c).\n",
      "spglib: ref_get_exact_structure_and_symmetry failed. (line 82, /tmp/pip-install-58cw25xt/spglib_6207849ab7c64022b27925c813b8e5ef/src/determination.c).\n",
      "spglib: ssm_get_exact_positions failed (attempt=0). (line 115, /tmp/pip-install-58cw25xt/spglib_6207849ab7c64022b27925c813b8e5ef/src/site_symmetry.c).\n",
      "spglib: ssm_get_exact_positions failed (attempt=1). (line 115, /tmp/pip-install-58cw25xt/spglib_6207849ab7c64022b27925c813b8e5ef/src/site_symmetry.c).\n",
      "spglib: ssm_get_exact_positions failed (attempt=2). (line 115, /tmp/pip-install-58cw25xt/spglib_6207849ab7c64022b27925c813b8e5ef/src/site_symmetry.c).\n",
      "spglib: ssm_get_exact_positions failed (attempt=3). (line 115, /tmp/pip-install-58cw25xt/spglib_6207849ab7c64022b27925c813b8e5ef/src/site_symmetry.c).\n",
      "spglib: ssm_get_exact_positions failed (attempt=4). (line 115, /tmp/pip-install-58cw25xt/spglib_6207849ab7c64022b27925c813b8e5ef/src/site_symmetry.c).\n",
      "spglib: ssm_get_exact_positions failed. (line 479, /tmp/pip-install-58cw25xt/spglib_6207849ab7c64022b27925c813b8e5ef/src/refinement.c).\n",
      "spglib: get_bravais_exact_positions_and_lattice failed. (line 336, /tmp/pip-install-58cw25xt/spglib_6207849ab7c64022b27925c813b8e5ef/src/refinement.c).\n",
      "spglib: ref_get_exact_structure_and_symmetry failed. (line 82, /tmp/pip-install-58cw25xt/spglib_6207849ab7c64022b27925c813b8e5ef/src/determination.c).\n",
      "spglib: ssm_get_exact_positions failed (attempt=0). (line 115, /tmp/pip-install-58cw25xt/spglib_6207849ab7c64022b27925c813b8e5ef/src/site_symmetry.c).\n",
      "spglib: ssm_get_exact_positions failed (attempt=1). (line 115, /tmp/pip-install-58cw25xt/spglib_6207849ab7c64022b27925c813b8e5ef/src/site_symmetry.c).\n",
      "spglib: ssm_get_exact_positions failed (attempt=2). (line 115, /tmp/pip-install-58cw25xt/spglib_6207849ab7c64022b27925c813b8e5ef/src/site_symmetry.c).\n",
      "spglib: ssm_get_exact_positions failed (attempt=3). (line 115, /tmp/pip-install-58cw25xt/spglib_6207849ab7c64022b27925c813b8e5ef/src/site_symmetry.c).\n",
      "spglib: ssm_get_exact_positions failed (attempt=4). (line 115, /tmp/pip-install-58cw25xt/spglib_6207849ab7c64022b27925c813b8e5ef/src/site_symmetry.c).\n",
      "spglib: ssm_get_exact_positions failed. (line 479, /tmp/pip-install-58cw25xt/spglib_6207849ab7c64022b27925c813b8e5ef/src/refinement.c).\n",
      "spglib: get_bravais_exact_positions_and_lattice failed. (line 336, /tmp/pip-install-58cw25xt/spglib_6207849ab7c64022b27925c813b8e5ef/src/refinement.c).\n",
      "spglib: ref_get_exact_structure_and_symmetry failed. (line 82, /tmp/pip-install-58cw25xt/spglib_6207849ab7c64022b27925c813b8e5ef/src/determination.c).\n",
      "spglib: ssm_get_exact_positions failed (attempt=0). (line 115, /tmp/pip-install-58cw25xt/spglib_6207849ab7c64022b27925c813b8e5ef/src/site_symmetry.c).\n",
      "spglib: ssm_get_exact_positions failed (attempt=1). (line 115, /tmp/pip-install-58cw25xt/spglib_6207849ab7c64022b27925c813b8e5ef/src/site_symmetry.c).\n",
      "spglib: ssm_get_exact_positions failed (attempt=2). (line 115, /tmp/pip-install-58cw25xt/spglib_6207849ab7c64022b27925c813b8e5ef/src/site_symmetry.c).\n",
      "spglib: ssm_get_exact_positions failed (attempt=3). (line 115, /tmp/pip-install-58cw25xt/spglib_6207849ab7c64022b27925c813b8e5ef/src/site_symmetry.c).\n",
      "spglib: ssm_get_exact_positions failed (attempt=4). (line 115, /tmp/pip-install-58cw25xt/spglib_6207849ab7c64022b27925c813b8e5ef/src/site_symmetry.c).\n",
      "spglib: ssm_get_exact_positions failed. (line 479, /tmp/pip-install-58cw25xt/spglib_6207849ab7c64022b27925c813b8e5ef/src/refinement.c).\n",
      "spglib: get_bravais_exact_positions_and_lattice failed. (line 336, /tmp/pip-install-58cw25xt/spglib_6207849ab7c64022b27925c813b8e5ef/src/refinement.c).\n",
      "spglib: ref_get_exact_structure_and_symmetry failed. (line 82, /tmp/pip-install-58cw25xt/spglib_6207849ab7c64022b27925c813b8e5ef/src/determination.c).\n",
      "spglib: ssm_get_exact_positions failed (attempt=0). (line 115, /tmp/pip-install-58cw25xt/spglib_6207849ab7c64022b27925c813b8e5ef/src/site_symmetry.c).\n",
      "spglib: ssm_get_exact_positions failed (attempt=1). (line 115, /tmp/pip-install-58cw25xt/spglib_6207849ab7c64022b27925c813b8e5ef/src/site_symmetry.c).\n",
      "spglib: ssm_get_exact_positions failed (attempt=2). (line 115, /tmp/pip-install-58cw25xt/spglib_6207849ab7c64022b27925c813b8e5ef/src/site_symmetry.c).\n",
      "spglib: ssm_get_exact_positions failed (attempt=3). (line 115, /tmp/pip-install-58cw25xt/spglib_6207849ab7c64022b27925c813b8e5ef/src/site_symmetry.c).\n",
      "spglib: ssm_get_exact_positions failed (attempt=4). (line 115, /tmp/pip-install-58cw25xt/spglib_6207849ab7c64022b27925c813b8e5ef/src/site_symmetry.c).\n",
      "spglib: ssm_get_exact_positions failed. (line 479, /tmp/pip-install-58cw25xt/spglib_6207849ab7c64022b27925c813b8e5ef/src/refinement.c).\n",
      "spglib: get_bravais_exact_positions_and_lattice failed. (line 336, /tmp/pip-install-58cw25xt/spglib_6207849ab7c64022b27925c813b8e5ef/src/refinement.c).\n",
      "spglib: ref_get_exact_structure_and_symmetry failed. (line 82, /tmp/pip-install-58cw25xt/spglib_6207849ab7c64022b27925c813b8e5ef/src/determination.c).\n",
      "spglib: ssm_get_exact_positions failed (attempt=0). (line 115, /tmp/pip-install-58cw25xt/spglib_6207849ab7c64022b27925c813b8e5ef/src/site_symmetry.c).\n",
      "spglib: ssm_get_exact_positions failed (attempt=1). (line 115, /tmp/pip-install-58cw25xt/spglib_6207849ab7c64022b27925c813b8e5ef/src/site_symmetry.c).\n",
      "spglib: ssm_get_exact_positions failed (attempt=2). (line 115, /tmp/pip-install-58cw25xt/spglib_6207849ab7c64022b27925c813b8e5ef/src/site_symmetry.c).\n",
      "spglib: ssm_get_exact_positions failed (attempt=3). (line 115, /tmp/pip-install-58cw25xt/spglib_6207849ab7c64022b27925c813b8e5ef/src/site_symmetry.c).\n",
      "spglib: ssm_get_exact_positions failed (attempt=4). (line 115, /tmp/pip-install-58cw25xt/spglib_6207849ab7c64022b27925c813b8e5ef/src/site_symmetry.c).\n",
      "spglib: ssm_get_exact_positions failed. (line 479, /tmp/pip-install-58cw25xt/spglib_6207849ab7c64022b27925c813b8e5ef/src/refinement.c).\n",
      "spglib: get_bravais_exact_positions_and_lattice failed. (line 336, /tmp/pip-install-58cw25xt/spglib_6207849ab7c64022b27925c813b8e5ef/src/refinement.c).\n",
      "spglib: ref_get_exact_structure_and_symmetry failed. (line 82, /tmp/pip-install-58cw25xt/spglib_6207849ab7c64022b27925c813b8e5ef/src/determination.c).\n",
      "spglib: ssm_get_exact_positions failed (attempt=0). (line 115, /tmp/pip-install-58cw25xt/spglib_6207849ab7c64022b27925c813b8e5ef/src/site_symmetry.c).\n",
      "spglib: ssm_get_exact_positions failed (attempt=1). (line 115, /tmp/pip-install-58cw25xt/spglib_6207849ab7c64022b27925c813b8e5ef/src/site_symmetry.c).\n",
      "spglib: ssm_get_exact_positions failed (attempt=2). (line 115, /tmp/pip-install-58cw25xt/spglib_6207849ab7c64022b27925c813b8e5ef/src/site_symmetry.c).\n",
      "spglib: ssm_get_exact_positions failed (attempt=3). (line 115, /tmp/pip-install-58cw25xt/spglib_6207849ab7c64022b27925c813b8e5ef/src/site_symmetry.c).\n",
      "spglib: ssm_get_exact_positions failed (attempt=4). (line 115, /tmp/pip-install-58cw25xt/spglib_6207849ab7c64022b27925c813b8e5ef/src/site_symmetry.c).\n",
      "spglib: ssm_get_exact_positions failed. (line 479, /tmp/pip-install-58cw25xt/spglib_6207849ab7c64022b27925c813b8e5ef/src/refinement.c).\n",
      "spglib: get_bravais_exact_positions_and_lattice failed. (line 336, /tmp/pip-install-58cw25xt/spglib_6207849ab7c64022b27925c813b8e5ef/src/refinement.c).\n",
      "spglib: ref_get_exact_structure_and_symmetry failed. (line 82, /tmp/pip-install-58cw25xt/spglib_6207849ab7c64022b27925c813b8e5ef/src/determination.c).\n",
      "spglib: ssm_get_exact_positions failed (attempt=0). (line 115, /tmp/pip-install-58cw25xt/spglib_6207849ab7c64022b27925c813b8e5ef/src/site_symmetry.c).\n",
      "spglib: ssm_get_exact_positions failed (attempt=1). (line 115, /tmp/pip-install-58cw25xt/spglib_6207849ab7c64022b27925c813b8e5ef/src/site_symmetry.c).\n",
      "spglib: ssm_get_exact_positions failed (attempt=2). (line 115, /tmp/pip-install-58cw25xt/spglib_6207849ab7c64022b27925c813b8e5ef/src/site_symmetry.c).\n",
      "spglib: ssm_get_exact_positions failed (attempt=3). (line 115, /tmp/pip-install-58cw25xt/spglib_6207849ab7c64022b27925c813b8e5ef/src/site_symmetry.c).\n",
      "spglib: ssm_get_exact_positions failed (attempt=4). (line 115, /tmp/pip-install-58cw25xt/spglib_6207849ab7c64022b27925c813b8e5ef/src/site_symmetry.c).\n",
      "spglib: ssm_get_exact_positions failed. (line 479, /tmp/pip-install-58cw25xt/spglib_6207849ab7c64022b27925c813b8e5ef/src/refinement.c).\n",
      "spglib: get_bravais_exact_positions_and_lattice failed. (line 336, /tmp/pip-install-58cw25xt/spglib_6207849ab7c64022b27925c813b8e5ef/src/refinement.c).\n",
      "spglib: ref_get_exact_structure_and_symmetry failed. (line 82, /tmp/pip-install-58cw25xt/spglib_6207849ab7c64022b27925c813b8e5ef/src/determination.c).\n",
      "spglib: ssm_get_exact_positions failed (attempt=0). (line 115, /tmp/pip-install-58cw25xt/spglib_6207849ab7c64022b27925c813b8e5ef/src/site_symmetry.c).\n",
      "spglib: ssm_get_exact_positions failed (attempt=1). (line 115, /tmp/pip-install-58cw25xt/spglib_6207849ab7c64022b27925c813b8e5ef/src/site_symmetry.c).\n",
      "spglib: ssm_get_exact_positions failed (attempt=2). (line 115, /tmp/pip-install-58cw25xt/spglib_6207849ab7c64022b27925c813b8e5ef/src/site_symmetry.c).\n",
      "spglib: ssm_get_exact_positions failed (attempt=3). (line 115, /tmp/pip-install-58cw25xt/spglib_6207849ab7c64022b27925c813b8e5ef/src/site_symmetry.c).\n",
      "spglib: ssm_get_exact_positions failed (attempt=4). (line 115, /tmp/pip-install-58cw25xt/spglib_6207849ab7c64022b27925c813b8e5ef/src/site_symmetry.c).\n",
      "spglib: ssm_get_exact_positions failed. (line 479, /tmp/pip-install-58cw25xt/spglib_6207849ab7c64022b27925c813b8e5ef/src/refinement.c).\n",
      "spglib: get_bravais_exact_positions_and_lattice failed. (line 336, /tmp/pip-install-58cw25xt/spglib_6207849ab7c64022b27925c813b8e5ef/src/refinement.c).\n",
      "spglib: ref_get_exact_structure_and_symmetry failed. (line 82, /tmp/pip-install-58cw25xt/spglib_6207849ab7c64022b27925c813b8e5ef/src/determination.c).\n",
      "spglib: ssm_get_exact_positions failed (attempt=0). (line 115, /tmp/pip-install-58cw25xt/spglib_6207849ab7c64022b27925c813b8e5ef/src/site_symmetry.c).\n",
      "spglib: ssm_get_exact_positions failed (attempt=1). (line 115, /tmp/pip-install-58cw25xt/spglib_6207849ab7c64022b27925c813b8e5ef/src/site_symmetry.c).\n",
      "spglib: ssm_get_exact_positions failed (attempt=2). (line 115, /tmp/pip-install-58cw25xt/spglib_6207849ab7c64022b27925c813b8e5ef/src/site_symmetry.c).\n",
      "spglib: ssm_get_exact_positions failed (attempt=3). (line 115, /tmp/pip-install-58cw25xt/spglib_6207849ab7c64022b27925c813b8e5ef/src/site_symmetry.c).\n",
      "spglib: ssm_get_exact_positions failed (attempt=4). (line 115, /tmp/pip-install-58cw25xt/spglib_6207849ab7c64022b27925c813b8e5ef/src/site_symmetry.c).\n",
      "spglib: ssm_get_exact_positions failed. (line 479, /tmp/pip-install-58cw25xt/spglib_6207849ab7c64022b27925c813b8e5ef/src/refinement.c).\n",
      "spglib: get_bravais_exact_positions_and_lattice failed. (line 336, /tmp/pip-install-58cw25xt/spglib_6207849ab7c64022b27925c813b8e5ef/src/refinement.c).\n",
      "spglib: ref_get_exact_structure_and_symmetry failed. (line 82, /tmp/pip-install-58cw25xt/spglib_6207849ab7c64022b27925c813b8e5ef/src/determination.c).\n",
      "spglib: ssm_get_exact_positions failed (attempt=0). (line 115, /tmp/pip-install-58cw25xt/spglib_6207849ab7c64022b27925c813b8e5ef/src/site_symmetry.c).\n",
      "spglib: ssm_get_exact_positions failed (attempt=1). (line 115, /tmp/pip-install-58cw25xt/spglib_6207849ab7c64022b27925c813b8e5ef/src/site_symmetry.c).\n",
      "spglib: ssm_get_exact_positions failed (attempt=2). (line 115, /tmp/pip-install-58cw25xt/spglib_6207849ab7c64022b27925c813b8e5ef/src/site_symmetry.c).\n",
      "spglib: ssm_get_exact_positions failed (attempt=3). (line 115, /tmp/pip-install-58cw25xt/spglib_6207849ab7c64022b27925c813b8e5ef/src/site_symmetry.c).\n",
      "spglib: ssm_get_exact_positions failed (attempt=4). (line 115, /tmp/pip-install-58cw25xt/spglib_6207849ab7c64022b27925c813b8e5ef/src/site_symmetry.c).\n",
      "spglib: ssm_get_exact_positions failed. (line 479, /tmp/pip-install-58cw25xt/spglib_6207849ab7c64022b27925c813b8e5ef/src/refinement.c).\n",
      "spglib: get_bravais_exact_positions_and_lattice failed. (line 336, /tmp/pip-install-58cw25xt/spglib_6207849ab7c64022b27925c813b8e5ef/src/refinement.c).\n",
      "spglib: ref_get_exact_structure_and_symmetry failed. (line 82, /tmp/pip-install-58cw25xt/spglib_6207849ab7c64022b27925c813b8e5ef/src/determination.c).\n",
      "spglib: ssm_get_exact_positions failed (attempt=0). (line 115, /tmp/pip-install-58cw25xt/spglib_6207849ab7c64022b27925c813b8e5ef/src/site_symmetry.c).\n",
      "spglib: ssm_get_exact_positions failed (attempt=1). (line 115, /tmp/pip-install-58cw25xt/spglib_6207849ab7c64022b27925c813b8e5ef/src/site_symmetry.c).\n",
      "spglib: ssm_get_exact_positions failed (attempt=2). (line 115, /tmp/pip-install-58cw25xt/spglib_6207849ab7c64022b27925c813b8e5ef/src/site_symmetry.c).\n",
      "spglib: ssm_get_exact_positions failed (attempt=3). (line 115, /tmp/pip-install-58cw25xt/spglib_6207849ab7c64022b27925c813b8e5ef/src/site_symmetry.c).\n",
      "spglib: ssm_get_exact_positions failed (attempt=4). (line 115, /tmp/pip-install-58cw25xt/spglib_6207849ab7c64022b27925c813b8e5ef/src/site_symmetry.c).\n",
      "spglib: ssm_get_exact_positions failed. (line 479, /tmp/pip-install-58cw25xt/spglib_6207849ab7c64022b27925c813b8e5ef/src/refinement.c).\n",
      "spglib: get_bravais_exact_positions_and_lattice failed. (line 336, /tmp/pip-install-58cw25xt/spglib_6207849ab7c64022b27925c813b8e5ef/src/refinement.c).\n",
      "spglib: ref_get_exact_structure_and_symmetry failed. (line 82, /tmp/pip-install-58cw25xt/spglib_6207849ab7c64022b27925c813b8e5ef/src/determination.c).\n",
      "spglib: ssm_get_exact_positions failed (attempt=0). (line 115, /tmp/pip-install-58cw25xt/spglib_6207849ab7c64022b27925c813b8e5ef/src/site_symmetry.c).\n",
      "spglib: ssm_get_exact_positions failed (attempt=1). (line 115, /tmp/pip-install-58cw25xt/spglib_6207849ab7c64022b27925c813b8e5ef/src/site_symmetry.c).\n",
      "spglib: ssm_get_exact_positions failed (attempt=2). (line 115, /tmp/pip-install-58cw25xt/spglib_6207849ab7c64022b27925c813b8e5ef/src/site_symmetry.c).\n",
      "spglib: ssm_get_exact_positions failed (attempt=3). (line 115, /tmp/pip-install-58cw25xt/spglib_6207849ab7c64022b27925c813b8e5ef/src/site_symmetry.c).\n",
      "spglib: ssm_get_exact_positions failed (attempt=4). (line 115, /tmp/pip-install-58cw25xt/spglib_6207849ab7c64022b27925c813b8e5ef/src/site_symmetry.c).\n",
      "spglib: ssm_get_exact_positions failed. (line 479, /tmp/pip-install-58cw25xt/spglib_6207849ab7c64022b27925c813b8e5ef/src/refinement.c).\n",
      "spglib: get_bravais_exact_positions_and_lattice failed. (line 336, /tmp/pip-install-58cw25xt/spglib_6207849ab7c64022b27925c813b8e5ef/src/refinement.c).\n",
      "spglib: ref_get_exact_structure_and_symmetry failed. (line 82, /tmp/pip-install-58cw25xt/spglib_6207849ab7c64022b27925c813b8e5ef/src/determination.c).\n",
      "spglib: ssm_get_exact_positions failed (attempt=0). (line 115, /tmp/pip-install-58cw25xt/spglib_6207849ab7c64022b27925c813b8e5ef/src/site_symmetry.c).\n",
      "spglib: ssm_get_exact_positions failed (attempt=1). (line 115, /tmp/pip-install-58cw25xt/spglib_6207849ab7c64022b27925c813b8e5ef/src/site_symmetry.c).\n",
      "spglib: ssm_get_exact_positions failed (attempt=2). (line 115, /tmp/pip-install-58cw25xt/spglib_6207849ab7c64022b27925c813b8e5ef/src/site_symmetry.c).\n",
      "spglib: ssm_get_exact_positions failed (attempt=3). (line 115, /tmp/pip-install-58cw25xt/spglib_6207849ab7c64022b27925c813b8e5ef/src/site_symmetry.c).\n",
      "spglib: ssm_get_exact_positions failed (attempt=4). (line 115, /tmp/pip-install-58cw25xt/spglib_6207849ab7c64022b27925c813b8e5ef/src/site_symmetry.c).\n",
      "spglib: ssm_get_exact_positions failed. (line 479, /tmp/pip-install-58cw25xt/spglib_6207849ab7c64022b27925c813b8e5ef/src/refinement.c).\n",
      "spglib: get_bravais_exact_positions_and_lattice failed. (line 336, /tmp/pip-install-58cw25xt/spglib_6207849ab7c64022b27925c813b8e5ef/src/refinement.c).\n",
      "spglib: ref_get_exact_structure_and_symmetry failed. (line 82, /tmp/pip-install-58cw25xt/spglib_6207849ab7c64022b27925c813b8e5ef/src/determination.c).\n",
      "spglib: ssm_get_exact_positions failed (attempt=0). (line 115, /tmp/pip-install-58cw25xt/spglib_6207849ab7c64022b27925c813b8e5ef/src/site_symmetry.c).\n",
      "spglib: ssm_get_exact_positions failed (attempt=1). (line 115, /tmp/pip-install-58cw25xt/spglib_6207849ab7c64022b27925c813b8e5ef/src/site_symmetry.c).\n",
      "spglib: ssm_get_exact_positions failed (attempt=2). (line 115, /tmp/pip-install-58cw25xt/spglib_6207849ab7c64022b27925c813b8e5ef/src/site_symmetry.c).\n",
      "spglib: ssm_get_exact_positions failed (attempt=3). (line 115, /tmp/pip-install-58cw25xt/spglib_6207849ab7c64022b27925c813b8e5ef/src/site_symmetry.c).\n",
      "spglib: ssm_get_exact_positions failed (attempt=4). (line 115, /tmp/pip-install-58cw25xt/spglib_6207849ab7c64022b27925c813b8e5ef/src/site_symmetry.c).\n",
      "spglib: ssm_get_exact_positions failed. (line 479, /tmp/pip-install-58cw25xt/spglib_6207849ab7c64022b27925c813b8e5ef/src/refinement.c).\n",
      "spglib: get_bravais_exact_positions_and_lattice failed. (line 336, /tmp/pip-install-58cw25xt/spglib_6207849ab7c64022b27925c813b8e5ef/src/refinement.c).\n",
      "spglib: ref_get_exact_structure_and_symmetry failed. (line 82, /tmp/pip-install-58cw25xt/spglib_6207849ab7c64022b27925c813b8e5ef/src/determination.c).\n",
      "spglib: ssm_get_exact_positions failed (attempt=0). (line 115, /tmp/pip-install-58cw25xt/spglib_6207849ab7c64022b27925c813b8e5ef/src/site_symmetry.c).\n",
      "spglib: ssm_get_exact_positions failed (attempt=1). (line 115, /tmp/pip-install-58cw25xt/spglib_6207849ab7c64022b27925c813b8e5ef/src/site_symmetry.c).\n",
      "spglib: ssm_get_exact_positions failed (attempt=2). (line 115, /tmp/pip-install-58cw25xt/spglib_6207849ab7c64022b27925c813b8e5ef/src/site_symmetry.c).\n",
      "spglib: ssm_get_exact_positions failed (attempt=3). (line 115, /tmp/pip-install-58cw25xt/spglib_6207849ab7c64022b27925c813b8e5ef/src/site_symmetry.c).\n",
      "spglib: ssm_get_exact_positions failed (attempt=4). (line 115, /tmp/pip-install-58cw25xt/spglib_6207849ab7c64022b27925c813b8e5ef/src/site_symmetry.c).\n",
      "spglib: ssm_get_exact_positions failed. (line 479, /tmp/pip-install-58cw25xt/spglib_6207849ab7c64022b27925c813b8e5ef/src/refinement.c).\n",
      "spglib: get_bravais_exact_positions_and_lattice failed. (line 336, /tmp/pip-install-58cw25xt/spglib_6207849ab7c64022b27925c813b8e5ef/src/refinement.c).\n",
      "spglib: ref_get_exact_structure_and_symmetry failed. (line 82, /tmp/pip-install-58cw25xt/spglib_6207849ab7c64022b27925c813b8e5ef/src/determination.c).\n",
      "spglib: ssm_get_exact_positions failed (attempt=0). (line 115, /tmp/pip-install-58cw25xt/spglib_6207849ab7c64022b27925c813b8e5ef/src/site_symmetry.c).\n",
      "spglib: ssm_get_exact_positions failed (attempt=1). (line 115, /tmp/pip-install-58cw25xt/spglib_6207849ab7c64022b27925c813b8e5ef/src/site_symmetry.c).\n",
      "spglib: ssm_get_exact_positions failed (attempt=2). (line 115, /tmp/pip-install-58cw25xt/spglib_6207849ab7c64022b27925c813b8e5ef/src/site_symmetry.c).\n",
      "spglib: ssm_get_exact_positions failed (attempt=3). (line 115, /tmp/pip-install-58cw25xt/spglib_6207849ab7c64022b27925c813b8e5ef/src/site_symmetry.c).\n",
      "spglib: ssm_get_exact_positions failed (attempt=4). (line 115, /tmp/pip-install-58cw25xt/spglib_6207849ab7c64022b27925c813b8e5ef/src/site_symmetry.c).\n",
      "spglib: ssm_get_exact_positions failed. (line 479, /tmp/pip-install-58cw25xt/spglib_6207849ab7c64022b27925c813b8e5ef/src/refinement.c).\n",
      "spglib: get_bravais_exact_positions_and_lattice failed. (line 336, /tmp/pip-install-58cw25xt/spglib_6207849ab7c64022b27925c813b8e5ef/src/refinement.c).\n",
      "spglib: ref_get_exact_structure_and_symmetry failed. (line 82, /tmp/pip-install-58cw25xt/spglib_6207849ab7c64022b27925c813b8e5ef/src/determination.c).\n",
      "spglib: ssm_get_exact_positions failed (attempt=0). (line 115, /tmp/pip-install-58cw25xt/spglib_6207849ab7c64022b27925c813b8e5ef/src/site_symmetry.c).\n",
      "spglib: ssm_get_exact_positions failed (attempt=1). (line 115, /tmp/pip-install-58cw25xt/spglib_6207849ab7c64022b27925c813b8e5ef/src/site_symmetry.c).\n",
      "spglib: ssm_get_exact_positions failed (attempt=2). (line 115, /tmp/pip-install-58cw25xt/spglib_6207849ab7c64022b27925c813b8e5ef/src/site_symmetry.c).\n",
      "spglib: ssm_get_exact_positions failed (attempt=3). (line 115, /tmp/pip-install-58cw25xt/spglib_6207849ab7c64022b27925c813b8e5ef/src/site_symmetry.c).\n",
      "spglib: ssm_get_exact_positions failed (attempt=4). (line 115, /tmp/pip-install-58cw25xt/spglib_6207849ab7c64022b27925c813b8e5ef/src/site_symmetry.c).\n",
      "spglib: ssm_get_exact_positions failed. (line 479, /tmp/pip-install-58cw25xt/spglib_6207849ab7c64022b27925c813b8e5ef/src/refinement.c).\n",
      "spglib: get_bravais_exact_positions_and_lattice failed. (line 336, /tmp/pip-install-58cw25xt/spglib_6207849ab7c64022b27925c813b8e5ef/src/refinement.c).\n",
      "spglib: ref_get_exact_structure_and_symmetry failed. (line 82, /tmp/pip-install-58cw25xt/spglib_6207849ab7c64022b27925c813b8e5ef/src/determination.c).\n",
      "spglib: ssm_get_exact_positions failed (attempt=0). (line 115, /tmp/pip-install-58cw25xt/spglib_6207849ab7c64022b27925c813b8e5ef/src/site_symmetry.c).\n",
      "spglib: ssm_get_exact_positions failed (attempt=1). (line 115, /tmp/pip-install-58cw25xt/spglib_6207849ab7c64022b27925c813b8e5ef/src/site_symmetry.c).\n",
      "spglib: ssm_get_exact_positions failed (attempt=2). (line 115, /tmp/pip-install-58cw25xt/spglib_6207849ab7c64022b27925c813b8e5ef/src/site_symmetry.c).\n",
      "spglib: ssm_get_exact_positions failed (attempt=3). (line 115, /tmp/pip-install-58cw25xt/spglib_6207849ab7c64022b27925c813b8e5ef/src/site_symmetry.c).\n",
      "spglib: ssm_get_exact_positions failed (attempt=4). (line 115, /tmp/pip-install-58cw25xt/spglib_6207849ab7c64022b27925c813b8e5ef/src/site_symmetry.c).\n",
      "spglib: ssm_get_exact_positions failed. (line 479, /tmp/pip-install-58cw25xt/spglib_6207849ab7c64022b27925c813b8e5ef/src/refinement.c).\n",
      "spglib: get_bravais_exact_positions_and_lattice failed. (line 336, /tmp/pip-install-58cw25xt/spglib_6207849ab7c64022b27925c813b8e5ef/src/refinement.c).\n",
      "spglib: ref_get_exact_structure_and_symmetry failed. (line 82, /tmp/pip-install-58cw25xt/spglib_6207849ab7c64022b27925c813b8e5ef/src/determination.c).\n",
      "spglib: ssm_get_exact_positions failed (attempt=0). (line 115, /tmp/pip-install-58cw25xt/spglib_6207849ab7c64022b27925c813b8e5ef/src/site_symmetry.c).\n",
      "spglib: ssm_get_exact_positions failed (attempt=1). (line 115, /tmp/pip-install-58cw25xt/spglib_6207849ab7c64022b27925c813b8e5ef/src/site_symmetry.c).\n",
      "spglib: ssm_get_exact_positions failed (attempt=2). (line 115, /tmp/pip-install-58cw25xt/spglib_6207849ab7c64022b27925c813b8e5ef/src/site_symmetry.c).\n",
      "spglib: ssm_get_exact_positions failed (attempt=3). (line 115, /tmp/pip-install-58cw25xt/spglib_6207849ab7c64022b27925c813b8e5ef/src/site_symmetry.c).\n",
      "spglib: ssm_get_exact_positions failed (attempt=4). (line 115, /tmp/pip-install-58cw25xt/spglib_6207849ab7c64022b27925c813b8e5ef/src/site_symmetry.c).\n",
      "spglib: ssm_get_exact_positions failed. (line 479, /tmp/pip-install-58cw25xt/spglib_6207849ab7c64022b27925c813b8e5ef/src/refinement.c).\n",
      "spglib: get_bravais_exact_positions_and_lattice failed. (line 336, /tmp/pip-install-58cw25xt/spglib_6207849ab7c64022b27925c813b8e5ef/src/refinement.c).\n",
      "spglib: ref_get_exact_structure_and_symmetry failed. (line 82, /tmp/pip-install-58cw25xt/spglib_6207849ab7c64022b27925c813b8e5ef/src/determination.c).\n",
      "spglib: ssm_get_exact_positions failed (attempt=0). (line 115, /tmp/pip-install-58cw25xt/spglib_6207849ab7c64022b27925c813b8e5ef/src/site_symmetry.c).\n",
      "spglib: ssm_get_exact_positions failed (attempt=1). (line 115, /tmp/pip-install-58cw25xt/spglib_6207849ab7c64022b27925c813b8e5ef/src/site_symmetry.c).\n",
      "spglib: ssm_get_exact_positions failed (attempt=2). (line 115, /tmp/pip-install-58cw25xt/spglib_6207849ab7c64022b27925c813b8e5ef/src/site_symmetry.c).\n",
      "spglib: ssm_get_exact_positions failed (attempt=3). (line 115, /tmp/pip-install-58cw25xt/spglib_6207849ab7c64022b27925c813b8e5ef/src/site_symmetry.c).\n",
      "spglib: ssm_get_exact_positions failed (attempt=4). (line 115, /tmp/pip-install-58cw25xt/spglib_6207849ab7c64022b27925c813b8e5ef/src/site_symmetry.c).\n",
      "spglib: ssm_get_exact_positions failed. (line 479, /tmp/pip-install-58cw25xt/spglib_6207849ab7c64022b27925c813b8e5ef/src/refinement.c).\n",
      "spglib: get_bravais_exact_positions_and_lattice failed. (line 336, /tmp/pip-install-58cw25xt/spglib_6207849ab7c64022b27925c813b8e5ef/src/refinement.c).\n",
      "spglib: ref_get_exact_structure_and_symmetry failed. (line 82, /tmp/pip-install-58cw25xt/spglib_6207849ab7c64022b27925c813b8e5ef/src/determination.c).\n",
      "spglib: ssm_get_exact_positions failed (attempt=0). (line 115, /tmp/pip-install-58cw25xt/spglib_6207849ab7c64022b27925c813b8e5ef/src/site_symmetry.c).\n",
      "spglib: ssm_get_exact_positions failed (attempt=1). (line 115, /tmp/pip-install-58cw25xt/spglib_6207849ab7c64022b27925c813b8e5ef/src/site_symmetry.c).\n",
      "spglib: ssm_get_exact_positions failed (attempt=2). (line 115, /tmp/pip-install-58cw25xt/spglib_6207849ab7c64022b27925c813b8e5ef/src/site_symmetry.c).\n",
      "spglib: ssm_get_exact_positions failed (attempt=3). (line 115, /tmp/pip-install-58cw25xt/spglib_6207849ab7c64022b27925c813b8e5ef/src/site_symmetry.c).\n",
      "spglib: ssm_get_exact_positions failed (attempt=4). (line 115, /tmp/pip-install-58cw25xt/spglib_6207849ab7c64022b27925c813b8e5ef/src/site_symmetry.c).\n",
      "spglib: ssm_get_exact_positions failed. (line 479, /tmp/pip-install-58cw25xt/spglib_6207849ab7c64022b27925c813b8e5ef/src/refinement.c).\n",
      "spglib: get_bravais_exact_positions_and_lattice failed. (line 336, /tmp/pip-install-58cw25xt/spglib_6207849ab7c64022b27925c813b8e5ef/src/refinement.c).\n",
      "spglib: ref_get_exact_structure_and_symmetry failed. (line 82, /tmp/pip-install-58cw25xt/spglib_6207849ab7c64022b27925c813b8e5ef/src/determination.c).\n",
      "spglib: ssm_get_exact_positions failed (attempt=0). (line 115, /tmp/pip-install-58cw25xt/spglib_6207849ab7c64022b27925c813b8e5ef/src/site_symmetry.c).\n",
      "spglib: ssm_get_exact_positions failed (attempt=1). (line 115, /tmp/pip-install-58cw25xt/spglib_6207849ab7c64022b27925c813b8e5ef/src/site_symmetry.c).\n",
      "spglib: ssm_get_exact_positions failed (attempt=2). (line 115, /tmp/pip-install-58cw25xt/spglib_6207849ab7c64022b27925c813b8e5ef/src/site_symmetry.c).\n",
      "spglib: ssm_get_exact_positions failed (attempt=3). (line 115, /tmp/pip-install-58cw25xt/spglib_6207849ab7c64022b27925c813b8e5ef/src/site_symmetry.c).\n",
      "spglib: ssm_get_exact_positions failed (attempt=4). (line 115, /tmp/pip-install-58cw25xt/spglib_6207849ab7c64022b27925c813b8e5ef/src/site_symmetry.c).\n",
      "spglib: ssm_get_exact_positions failed. (line 479, /tmp/pip-install-58cw25xt/spglib_6207849ab7c64022b27925c813b8e5ef/src/refinement.c).\n",
      "spglib: get_bravais_exact_positions_and_lattice failed. (line 336, /tmp/pip-install-58cw25xt/spglib_6207849ab7c64022b27925c813b8e5ef/src/refinement.c).\n",
      "spglib: ref_get_exact_structure_and_symmetry failed. (line 82, /tmp/pip-install-58cw25xt/spglib_6207849ab7c64022b27925c813b8e5ef/src/determination.c).\n",
      "spglib: ssm_get_exact_positions failed (attempt=0). (line 115, /tmp/pip-install-58cw25xt/spglib_6207849ab7c64022b27925c813b8e5ef/src/site_symmetry.c).\n",
      "spglib: ssm_get_exact_positions failed (attempt=1). (line 115, /tmp/pip-install-58cw25xt/spglib_6207849ab7c64022b27925c813b8e5ef/src/site_symmetry.c).\n",
      "spglib: ssm_get_exact_positions failed (attempt=2). (line 115, /tmp/pip-install-58cw25xt/spglib_6207849ab7c64022b27925c813b8e5ef/src/site_symmetry.c).\n",
      "spglib: ssm_get_exact_positions failed (attempt=3). (line 115, /tmp/pip-install-58cw25xt/spglib_6207849ab7c64022b27925c813b8e5ef/src/site_symmetry.c).\n",
      "spglib: ssm_get_exact_positions failed (attempt=4). (line 115, /tmp/pip-install-58cw25xt/spglib_6207849ab7c64022b27925c813b8e5ef/src/site_symmetry.c).\n",
      "spglib: ssm_get_exact_positions failed. (line 479, /tmp/pip-install-58cw25xt/spglib_6207849ab7c64022b27925c813b8e5ef/src/refinement.c).\n",
      "spglib: get_bravais_exact_positions_and_lattice failed. (line 336, /tmp/pip-install-58cw25xt/spglib_6207849ab7c64022b27925c813b8e5ef/src/refinement.c).\n",
      "spglib: ref_get_exact_structure_and_symmetry failed. (line 82, /tmp/pip-install-58cw25xt/spglib_6207849ab7c64022b27925c813b8e5ef/src/determination.c).\n",
      "spglib: ssm_get_exact_positions failed (attempt=0). (line 115, /tmp/pip-install-58cw25xt/spglib_6207849ab7c64022b27925c813b8e5ef/src/site_symmetry.c).\n",
      "spglib: ssm_get_exact_positions failed (attempt=1). (line 115, /tmp/pip-install-58cw25xt/spglib_6207849ab7c64022b27925c813b8e5ef/src/site_symmetry.c).\n",
      "spglib: ssm_get_exact_positions failed (attempt=2). (line 115, /tmp/pip-install-58cw25xt/spglib_6207849ab7c64022b27925c813b8e5ef/src/site_symmetry.c).\n",
      "spglib: ssm_get_exact_positions failed (attempt=3). (line 115, /tmp/pip-install-58cw25xt/spglib_6207849ab7c64022b27925c813b8e5ef/src/site_symmetry.c).\n",
      "spglib: ssm_get_exact_positions failed (attempt=4). (line 115, /tmp/pip-install-58cw25xt/spglib_6207849ab7c64022b27925c813b8e5ef/src/site_symmetry.c).\n",
      "spglib: ssm_get_exact_positions failed. (line 479, /tmp/pip-install-58cw25xt/spglib_6207849ab7c64022b27925c813b8e5ef/src/refinement.c).\n",
      "spglib: get_bravais_exact_positions_and_lattice failed. (line 336, /tmp/pip-install-58cw25xt/spglib_6207849ab7c64022b27925c813b8e5ef/src/refinement.c).\n",
      "spglib: ref_get_exact_structure_and_symmetry failed. (line 82, /tmp/pip-install-58cw25xt/spglib_6207849ab7c64022b27925c813b8e5ef/src/determination.c).\n",
      "spglib: ssm_get_exact_positions failed (attempt=0). (line 115, /tmp/pip-install-58cw25xt/spglib_6207849ab7c64022b27925c813b8e5ef/src/site_symmetry.c).\n",
      "spglib: ssm_get_exact_positions failed (attempt=1). (line 115, /tmp/pip-install-58cw25xt/spglib_6207849ab7c64022b27925c813b8e5ef/src/site_symmetry.c).\n",
      "spglib: ssm_get_exact_positions failed (attempt=2). (line 115, /tmp/pip-install-58cw25xt/spglib_6207849ab7c64022b27925c813b8e5ef/src/site_symmetry.c).\n",
      "spglib: ssm_get_exact_positions failed (attempt=3). (line 115, /tmp/pip-install-58cw25xt/spglib_6207849ab7c64022b27925c813b8e5ef/src/site_symmetry.c).\n",
      "spglib: ssm_get_exact_positions failed (attempt=4). (line 115, /tmp/pip-install-58cw25xt/spglib_6207849ab7c64022b27925c813b8e5ef/src/site_symmetry.c).\n",
      "spglib: ssm_get_exact_positions failed. (line 479, /tmp/pip-install-58cw25xt/spglib_6207849ab7c64022b27925c813b8e5ef/src/refinement.c).\n",
      "spglib: get_bravais_exact_positions_and_lattice failed. (line 336, /tmp/pip-install-58cw25xt/spglib_6207849ab7c64022b27925c813b8e5ef/src/refinement.c).\n",
      "spglib: ref_get_exact_structure_and_symmetry failed. (line 82, /tmp/pip-install-58cw25xt/spglib_6207849ab7c64022b27925c813b8e5ef/src/determination.c).\n",
      "spglib: ssm_get_exact_positions failed (attempt=0). (line 115, /tmp/pip-install-58cw25xt/spglib_6207849ab7c64022b27925c813b8e5ef/src/site_symmetry.c).\n",
      "spglib: ssm_get_exact_positions failed (attempt=1). (line 115, /tmp/pip-install-58cw25xt/spglib_6207849ab7c64022b27925c813b8e5ef/src/site_symmetry.c).\n",
      "spglib: ssm_get_exact_positions failed (attempt=2). (line 115, /tmp/pip-install-58cw25xt/spglib_6207849ab7c64022b27925c813b8e5ef/src/site_symmetry.c).\n",
      "spglib: ssm_get_exact_positions failed (attempt=3). (line 115, /tmp/pip-install-58cw25xt/spglib_6207849ab7c64022b27925c813b8e5ef/src/site_symmetry.c).\n",
      "spglib: ssm_get_exact_positions failed (attempt=4). (line 115, /tmp/pip-install-58cw25xt/spglib_6207849ab7c64022b27925c813b8e5ef/src/site_symmetry.c).\n",
      "spglib: ssm_get_exact_positions failed. (line 479, /tmp/pip-install-58cw25xt/spglib_6207849ab7c64022b27925c813b8e5ef/src/refinement.c).\n",
      "spglib: get_bravais_exact_positions_and_lattice failed. (line 336, /tmp/pip-install-58cw25xt/spglib_6207849ab7c64022b27925c813b8e5ef/src/refinement.c).\n",
      "spglib: ref_get_exact_structure_and_symmetry failed. (line 82, /tmp/pip-install-58cw25xt/spglib_6207849ab7c64022b27925c813b8e5ef/src/determination.c).\n",
      "spglib: ssm_get_exact_positions failed (attempt=0). (line 115, /tmp/pip-install-58cw25xt/spglib_6207849ab7c64022b27925c813b8e5ef/src/site_symmetry.c).\n",
      "spglib: ssm_get_exact_positions failed (attempt=1). (line 115, /tmp/pip-install-58cw25xt/spglib_6207849ab7c64022b27925c813b8e5ef/src/site_symmetry.c).\n",
      "spglib: ssm_get_exact_positions failed (attempt=2). (line 115, /tmp/pip-install-58cw25xt/spglib_6207849ab7c64022b27925c813b8e5ef/src/site_symmetry.c).\n",
      "spglib: ssm_get_exact_positions failed (attempt=3). (line 115, /tmp/pip-install-58cw25xt/spglib_6207849ab7c64022b27925c813b8e5ef/src/site_symmetry.c).\n",
      "spglib: ssm_get_exact_positions failed (attempt=4). (line 115, /tmp/pip-install-58cw25xt/spglib_6207849ab7c64022b27925c813b8e5ef/src/site_symmetry.c).\n",
      "spglib: ssm_get_exact_positions failed. (line 479, /tmp/pip-install-58cw25xt/spglib_6207849ab7c64022b27925c813b8e5ef/src/refinement.c).\n",
      "spglib: get_bravais_exact_positions_and_lattice failed. (line 336, /tmp/pip-install-58cw25xt/spglib_6207849ab7c64022b27925c813b8e5ef/src/refinement.c).\n",
      "spglib: ref_get_exact_structure_and_symmetry failed. (line 82, /tmp/pip-install-58cw25xt/spglib_6207849ab7c64022b27925c813b8e5ef/src/determination.c).\n",
      "spglib: ssm_get_exact_positions failed (attempt=0). (line 115, /tmp/pip-install-58cw25xt/spglib_6207849ab7c64022b27925c813b8e5ef/src/site_symmetry.c).\n",
      "spglib: ssm_get_exact_positions failed (attempt=1). (line 115, /tmp/pip-install-58cw25xt/spglib_6207849ab7c64022b27925c813b8e5ef/src/site_symmetry.c).\n",
      "spglib: ssm_get_exact_positions failed (attempt=2). (line 115, /tmp/pip-install-58cw25xt/spglib_6207849ab7c64022b27925c813b8e5ef/src/site_symmetry.c).\n",
      "spglib: ssm_get_exact_positions failed (attempt=3). (line 115, /tmp/pip-install-58cw25xt/spglib_6207849ab7c64022b27925c813b8e5ef/src/site_symmetry.c).\n",
      "spglib: ssm_get_exact_positions failed (attempt=4). (line 115, /tmp/pip-install-58cw25xt/spglib_6207849ab7c64022b27925c813b8e5ef/src/site_symmetry.c).\n",
      "spglib: ssm_get_exact_positions failed. (line 479, /tmp/pip-install-58cw25xt/spglib_6207849ab7c64022b27925c813b8e5ef/src/refinement.c).\n",
      "spglib: get_bravais_exact_positions_and_lattice failed. (line 336, /tmp/pip-install-58cw25xt/spglib_6207849ab7c64022b27925c813b8e5ef/src/refinement.c).\n",
      "spglib: ref_get_exact_structure_and_symmetry failed. (line 82, /tmp/pip-install-58cw25xt/spglib_6207849ab7c64022b27925c813b8e5ef/src/determination.c).\n",
      "spglib: ssm_get_exact_positions failed (attempt=0). (line 115, /tmp/pip-install-58cw25xt/spglib_6207849ab7c64022b27925c813b8e5ef/src/site_symmetry.c).\n",
      "spglib: ssm_get_exact_positions failed (attempt=1). (line 115, /tmp/pip-install-58cw25xt/spglib_6207849ab7c64022b27925c813b8e5ef/src/site_symmetry.c).\n",
      "spglib: ssm_get_exact_positions failed (attempt=2). (line 115, /tmp/pip-install-58cw25xt/spglib_6207849ab7c64022b27925c813b8e5ef/src/site_symmetry.c).\n",
      "spglib: ssm_get_exact_positions failed (attempt=3). (line 115, /tmp/pip-install-58cw25xt/spglib_6207849ab7c64022b27925c813b8e5ef/src/site_symmetry.c).\n",
      "spglib: ssm_get_exact_positions failed (attempt=4). (line 115, /tmp/pip-install-58cw25xt/spglib_6207849ab7c64022b27925c813b8e5ef/src/site_symmetry.c).\n",
      "spglib: ssm_get_exact_positions failed. (line 479, /tmp/pip-install-58cw25xt/spglib_6207849ab7c64022b27925c813b8e5ef/src/refinement.c).\n",
      "spglib: get_bravais_exact_positions_and_lattice failed. (line 336, /tmp/pip-install-58cw25xt/spglib_6207849ab7c64022b27925c813b8e5ef/src/refinement.c).\n",
      "spglib: ref_get_exact_structure_and_symmetry failed. (line 82, /tmp/pip-install-58cw25xt/spglib_6207849ab7c64022b27925c813b8e5ef/src/determination.c).\n",
      "spglib: ssm_get_exact_positions failed (attempt=0). (line 115, /tmp/pip-install-58cw25xt/spglib_6207849ab7c64022b27925c813b8e5ef/src/site_symmetry.c).\n",
      "spglib: ssm_get_exact_positions failed (attempt=1). (line 115, /tmp/pip-install-58cw25xt/spglib_6207849ab7c64022b27925c813b8e5ef/src/site_symmetry.c).\n",
      "spglib: ssm_get_exact_positions failed (attempt=2). (line 115, /tmp/pip-install-58cw25xt/spglib_6207849ab7c64022b27925c813b8e5ef/src/site_symmetry.c).\n",
      "spglib: ssm_get_exact_positions failed (attempt=3). (line 115, /tmp/pip-install-58cw25xt/spglib_6207849ab7c64022b27925c813b8e5ef/src/site_symmetry.c).\n",
      "spglib: ssm_get_exact_positions failed (attempt=4). (line 115, /tmp/pip-install-58cw25xt/spglib_6207849ab7c64022b27925c813b8e5ef/src/site_symmetry.c).\n",
      "spglib: ssm_get_exact_positions failed. (line 479, /tmp/pip-install-58cw25xt/spglib_6207849ab7c64022b27925c813b8e5ef/src/refinement.c).\n",
      "spglib: get_bravais_exact_positions_and_lattice failed. (line 336, /tmp/pip-install-58cw25xt/spglib_6207849ab7c64022b27925c813b8e5ef/src/refinement.c).\n",
      "spglib: ref_get_exact_structure_and_symmetry failed. (line 82, /tmp/pip-install-58cw25xt/spglib_6207849ab7c64022b27925c813b8e5ef/src/determination.c).\n",
      "spglib: ssm_get_exact_positions failed (attempt=0). (line 115, /tmp/pip-install-58cw25xt/spglib_6207849ab7c64022b27925c813b8e5ef/src/site_symmetry.c).\n",
      "spglib: ssm_get_exact_positions failed (attempt=1). (line 115, /tmp/pip-install-58cw25xt/spglib_6207849ab7c64022b27925c813b8e5ef/src/site_symmetry.c).\n",
      "spglib: ssm_get_exact_positions failed (attempt=2). (line 115, /tmp/pip-install-58cw25xt/spglib_6207849ab7c64022b27925c813b8e5ef/src/site_symmetry.c).\n",
      "spglib: ssm_get_exact_positions failed (attempt=3). (line 115, /tmp/pip-install-58cw25xt/spglib_6207849ab7c64022b27925c813b8e5ef/src/site_symmetry.c).\n",
      "spglib: ssm_get_exact_positions failed (attempt=4). (line 115, /tmp/pip-install-58cw25xt/spglib_6207849ab7c64022b27925c813b8e5ef/src/site_symmetry.c).\n",
      "spglib: ssm_get_exact_positions failed. (line 479, /tmp/pip-install-58cw25xt/spglib_6207849ab7c64022b27925c813b8e5ef/src/refinement.c).\n",
      "spglib: get_bravais_exact_positions_and_lattice failed. (line 336, /tmp/pip-install-58cw25xt/spglib_6207849ab7c64022b27925c813b8e5ef/src/refinement.c).\n",
      "spglib: ref_get_exact_structure_and_symmetry failed. (line 82, /tmp/pip-install-58cw25xt/spglib_6207849ab7c64022b27925c813b8e5ef/src/determination.c).\n",
      "spglib: ssm_get_exact_positions failed (attempt=0). (line 115, /tmp/pip-install-58cw25xt/spglib_6207849ab7c64022b27925c813b8e5ef/src/site_symmetry.c).\n",
      "spglib: ssm_get_exact_positions failed (attempt=1). (line 115, /tmp/pip-install-58cw25xt/spglib_6207849ab7c64022b27925c813b8e5ef/src/site_symmetry.c).\n",
      "spglib: ssm_get_exact_positions failed (attempt=2). (line 115, /tmp/pip-install-58cw25xt/spglib_6207849ab7c64022b27925c813b8e5ef/src/site_symmetry.c).\n",
      "spglib: ssm_get_exact_positions failed (attempt=3). (line 115, /tmp/pip-install-58cw25xt/spglib_6207849ab7c64022b27925c813b8e5ef/src/site_symmetry.c).\n",
      "spglib: ssm_get_exact_positions failed (attempt=4). (line 115, /tmp/pip-install-58cw25xt/spglib_6207849ab7c64022b27925c813b8e5ef/src/site_symmetry.c).\n",
      "spglib: ssm_get_exact_positions failed. (line 479, /tmp/pip-install-58cw25xt/spglib_6207849ab7c64022b27925c813b8e5ef/src/refinement.c).\n",
      "spglib: get_bravais_exact_positions_and_lattice failed. (line 336, /tmp/pip-install-58cw25xt/spglib_6207849ab7c64022b27925c813b8e5ef/src/refinement.c).\n",
      "spglib: ref_get_exact_structure_and_symmetry failed. (line 82, /tmp/pip-install-58cw25xt/spglib_6207849ab7c64022b27925c813b8e5ef/src/determination.c).\n",
      "spglib: ssm_get_exact_positions failed (attempt=0). (line 115, /tmp/pip-install-58cw25xt/spglib_6207849ab7c64022b27925c813b8e5ef/src/site_symmetry.c).\n",
      "spglib: ssm_get_exact_positions failed (attempt=1). (line 115, /tmp/pip-install-58cw25xt/spglib_6207849ab7c64022b27925c813b8e5ef/src/site_symmetry.c).\n",
      "spglib: ssm_get_exact_positions failed (attempt=2). (line 115, /tmp/pip-install-58cw25xt/spglib_6207849ab7c64022b27925c813b8e5ef/src/site_symmetry.c).\n",
      "spglib: ssm_get_exact_positions failed (attempt=3). (line 115, /tmp/pip-install-58cw25xt/spglib_6207849ab7c64022b27925c813b8e5ef/src/site_symmetry.c).\n",
      "spglib: ssm_get_exact_positions failed (attempt=4). (line 115, /tmp/pip-install-58cw25xt/spglib_6207849ab7c64022b27925c813b8e5ef/src/site_symmetry.c).\n",
      "spglib: ssm_get_exact_positions failed. (line 479, /tmp/pip-install-58cw25xt/spglib_6207849ab7c64022b27925c813b8e5ef/src/refinement.c).\n",
      "spglib: get_bravais_exact_positions_and_lattice failed. (line 336, /tmp/pip-install-58cw25xt/spglib_6207849ab7c64022b27925c813b8e5ef/src/refinement.c).\n",
      "spglib: ref_get_exact_structure_and_symmetry failed. (line 82, /tmp/pip-install-58cw25xt/spglib_6207849ab7c64022b27925c813b8e5ef/src/determination.c).\n",
      "spglib: ssm_get_exact_positions failed (attempt=0). (line 115, /tmp/pip-install-58cw25xt/spglib_6207849ab7c64022b27925c813b8e5ef/src/site_symmetry.c).\n",
      "spglib: ssm_get_exact_positions failed (attempt=1). (line 115, /tmp/pip-install-58cw25xt/spglib_6207849ab7c64022b27925c813b8e5ef/src/site_symmetry.c).\n",
      "spglib: ssm_get_exact_positions failed (attempt=2). (line 115, /tmp/pip-install-58cw25xt/spglib_6207849ab7c64022b27925c813b8e5ef/src/site_symmetry.c).\n",
      "spglib: ssm_get_exact_positions failed (attempt=3). (line 115, /tmp/pip-install-58cw25xt/spglib_6207849ab7c64022b27925c813b8e5ef/src/site_symmetry.c).\n",
      "spglib: ssm_get_exact_positions failed (attempt=4). (line 115, /tmp/pip-install-58cw25xt/spglib_6207849ab7c64022b27925c813b8e5ef/src/site_symmetry.c).\n",
      "spglib: ssm_get_exact_positions failed. (line 479, /tmp/pip-install-58cw25xt/spglib_6207849ab7c64022b27925c813b8e5ef/src/refinement.c).\n",
      "spglib: get_bravais_exact_positions_and_lattice failed. (line 336, /tmp/pip-install-58cw25xt/spglib_6207849ab7c64022b27925c813b8e5ef/src/refinement.c).\n",
      "spglib: ref_get_exact_structure_and_symmetry failed. (line 82, /tmp/pip-install-58cw25xt/spglib_6207849ab7c64022b27925c813b8e5ef/src/determination.c).\n"
     ]
    },
    {
     "name": "stdout",
     "output_type": "stream",
     "text": [
      "Percent complete: 61.90%\n"
     ]
    },
    {
     "data": {
      "application/vnd.jupyter.widget-view+json": {
       "model_id": "7651edeeccd4443b8bab0ebcf20a9941",
       "version_major": 2,
       "version_minor": 0
      },
      "text/plain": [
       "Retrieving ThermoDoc documents:   0%|          | 0/392 [00:00<?, ?it/s]"
      ]
     },
     "metadata": {},
     "output_type": "display_data"
    },
    {
     "name": "stdout",
     "output_type": "stream",
     "text": [
      "Percent complete: 62.86%\n"
     ]
    },
    {
     "data": {
      "application/vnd.jupyter.widget-view+json": {
       "model_id": "19654710d94b4decbbef11a332e844ad",
       "version_major": 2,
       "version_minor": 0
      },
      "text/plain": [
       "Retrieving ThermoDoc documents:   0%|          | 0/392 [00:00<?, ?it/s]"
      ]
     },
     "metadata": {},
     "output_type": "display_data"
    },
    {
     "name": "stdout",
     "output_type": "stream",
     "text": [
      "Percent complete: 63.81%\n"
     ]
    },
    {
     "data": {
      "application/vnd.jupyter.widget-view+json": {
       "model_id": "df309e6931bc4122a0391890a48e5c4f",
       "version_major": 2,
       "version_minor": 0
      },
      "text/plain": [
       "Retrieving ThermoDoc documents:   0%|          | 0/434 [00:00<?, ?it/s]"
      ]
     },
     "metadata": {},
     "output_type": "display_data"
    },
    {
     "name": "stdout",
     "output_type": "stream",
     "text": [
      "Percent complete: 64.76%\n"
     ]
    },
    {
     "data": {
      "application/vnd.jupyter.widget-view+json": {
       "model_id": "18e3ffa54d174f1fa9f6a12a3038a01e",
       "version_major": 2,
       "version_minor": 0
      },
      "text/plain": [
       "Retrieving ThermoDoc documents:   0%|          | 0/528 [00:00<?, ?it/s]"
      ]
     },
     "metadata": {},
     "output_type": "display_data"
    },
    {
     "name": "stdout",
     "output_type": "stream",
     "text": [
      "Percent complete: 65.71%\n"
     ]
    },
    {
     "data": {
      "application/vnd.jupyter.widget-view+json": {
       "model_id": "f711322f8f7d4b2a904f7d452097c679",
       "version_major": 2,
       "version_minor": 0
      },
      "text/plain": [
       "Retrieving ThermoDoc documents:   0%|          | 0/312 [00:00<?, ?it/s]"
      ]
     },
     "metadata": {},
     "output_type": "display_data"
    },
    {
     "name": "stdout",
     "output_type": "stream",
     "text": [
      "Percent complete: 66.67%\n"
     ]
    },
    {
     "data": {
      "application/vnd.jupyter.widget-view+json": {
       "model_id": "ea916fe44cd549de9ff2201664c9aae0",
       "version_major": 2,
       "version_minor": 0
      },
      "text/plain": [
       "Retrieving ThermoDoc documents:   0%|          | 0/220 [00:00<?, ?it/s]"
      ]
     },
     "metadata": {},
     "output_type": "display_data"
    },
    {
     "name": "stdout",
     "output_type": "stream",
     "text": [
      "Percent complete: 67.62%\n"
     ]
    },
    {
     "data": {
      "application/vnd.jupyter.widget-view+json": {
       "model_id": "448b55b4a07443138b866d3e5886657c",
       "version_major": 2,
       "version_minor": 0
      },
      "text/plain": [
       "Retrieving ThermoDoc documents:   0%|          | 0/265 [00:00<?, ?it/s]"
      ]
     },
     "metadata": {},
     "output_type": "display_data"
    },
    {
     "name": "stdout",
     "output_type": "stream",
     "text": [
      "Percent complete: 68.57%\n"
     ]
    },
    {
     "data": {
      "application/vnd.jupyter.widget-view+json": {
       "model_id": "0092ca9113684276be5ea27db9d472d4",
       "version_major": 2,
       "version_minor": 0
      },
      "text/plain": [
       "Retrieving ThermoDoc documents:   0%|          | 0/415 [00:00<?, ?it/s]"
      ]
     },
     "metadata": {},
     "output_type": "display_data"
    },
    {
     "name": "stdout",
     "output_type": "stream",
     "text": [
      "Percent complete: 69.52%\n"
     ]
    },
    {
     "data": {
      "application/vnd.jupyter.widget-view+json": {
       "model_id": "4d0d8f0ace734a4681204818409ecaec",
       "version_major": 2,
       "version_minor": 0
      },
      "text/plain": [
       "Retrieving ThermoDoc documents:   0%|          | 0/344 [00:00<?, ?it/s]"
      ]
     },
     "metadata": {},
     "output_type": "display_data"
    },
    {
     "name": "stdout",
     "output_type": "stream",
     "text": [
      "Percent complete: 70.48%\n"
     ]
    },
    {
     "data": {
      "application/vnd.jupyter.widget-view+json": {
       "model_id": "2e506520ca474f64982d3106f349549b",
       "version_major": 2,
       "version_minor": 0
      },
      "text/plain": [
       "Retrieving ThermoDoc documents:   0%|          | 0/163 [00:00<?, ?it/s]"
      ]
     },
     "metadata": {},
     "output_type": "display_data"
    },
    {
     "name": "stdout",
     "output_type": "stream",
     "text": [
      "Percent complete: 71.43%\n"
     ]
    },
    {
     "data": {
      "application/vnd.jupyter.widget-view+json": {
       "model_id": "379ec568bf354ed090283944a7c2753e",
       "version_major": 2,
       "version_minor": 0
      },
      "text/plain": [
       "Retrieving ThermoDoc documents:   0%|          | 0/239 [00:00<?, ?it/s]"
      ]
     },
     "metadata": {},
     "output_type": "display_data"
    },
    {
     "name": "stdout",
     "output_type": "stream",
     "text": [
      "Percent complete: 72.38%\n"
     ]
    },
    {
     "data": {
      "application/vnd.jupyter.widget-view+json": {
       "model_id": "09c1f55c19914218ba695e8bd85ae351",
       "version_major": 2,
       "version_minor": 0
      },
      "text/plain": [
       "Retrieving ThermoDoc documents:   0%|          | 0/362 [00:00<?, ?it/s]"
      ]
     },
     "metadata": {},
     "output_type": "display_data"
    },
    {
     "name": "stdout",
     "output_type": "stream",
     "text": [
      "Percent complete: 73.33%\n"
     ]
    },
    {
     "data": {
      "application/vnd.jupyter.widget-view+json": {
       "model_id": "96423e5085df454bb248826764c7155b",
       "version_major": 2,
       "version_minor": 0
      },
      "text/plain": [
       "Retrieving ThermoDoc documents:   0%|          | 0/260 [00:00<?, ?it/s]"
      ]
     },
     "metadata": {},
     "output_type": "display_data"
    },
    {
     "name": "stdout",
     "output_type": "stream",
     "text": [
      "Percent complete: 74.29%\n"
     ]
    },
    {
     "data": {
      "application/vnd.jupyter.widget-view+json": {
       "model_id": "4aa5befb87644989bbec1808e4cbbdda",
       "version_major": 2,
       "version_minor": 0
      },
      "text/plain": [
       "Retrieving ThermoDoc documents:   0%|          | 0/967 [00:00<?, ?it/s]"
      ]
     },
     "metadata": {},
     "output_type": "display_data"
    },
    {
     "name": "stdout",
     "output_type": "stream",
     "text": [
      "Percent complete: 75.24%\n"
     ]
    },
    {
     "data": {
      "application/vnd.jupyter.widget-view+json": {
       "model_id": "0295baf858f448a782bdc5de3666d67c",
       "version_major": 2,
       "version_minor": 0
      },
      "text/plain": [
       "Retrieving ThermoDoc documents:   0%|          | 0/1049 [00:00<?, ?it/s]"
      ]
     },
     "metadata": {},
     "output_type": "display_data"
    },
    {
     "name": "stdout",
     "output_type": "stream",
     "text": [
      "Percent complete: 76.19%\n"
     ]
    },
    {
     "data": {
      "application/vnd.jupyter.widget-view+json": {
       "model_id": "f1b47b34cdfe4430b0183987a1c8f76a",
       "version_major": 2,
       "version_minor": 0
      },
      "text/plain": [
       "Retrieving ThermoDoc documents:   0%|          | 0/967 [00:00<?, ?it/s]"
      ]
     },
     "metadata": {},
     "output_type": "display_data"
    },
    {
     "name": "stdout",
     "output_type": "stream",
     "text": [
      "Percent complete: 77.14%\n"
     ]
    },
    {
     "data": {
      "application/vnd.jupyter.widget-view+json": {
       "model_id": "a34358b1c2264b22841cb2922531efea",
       "version_major": 2,
       "version_minor": 0
      },
      "text/plain": [
       "Retrieving ThermoDoc documents:   0%|          | 0/377 [00:00<?, ?it/s]"
      ]
     },
     "metadata": {},
     "output_type": "display_data"
    },
    {
     "name": "stdout",
     "output_type": "stream",
     "text": [
      "Percent complete: 78.10%\n"
     ]
    },
    {
     "data": {
      "application/vnd.jupyter.widget-view+json": {
       "model_id": "0ff62d1630e047d28caa1b398df8cda4",
       "version_major": 2,
       "version_minor": 0
      },
      "text/plain": [
       "Retrieving ThermoDoc documents:   0%|          | 0/249 [00:00<?, ?it/s]"
      ]
     },
     "metadata": {},
     "output_type": "display_data"
    },
    {
     "name": "stdout",
     "output_type": "stream",
     "text": [
      "Percent complete: 79.05%\n"
     ]
    },
    {
     "data": {
      "application/vnd.jupyter.widget-view+json": {
       "model_id": "2151cb9bb966478f935bafc71bb2b130",
       "version_major": 2,
       "version_minor": 0
      },
      "text/plain": [
       "Retrieving ThermoDoc documents:   0%|          | 0/967 [00:00<?, ?it/s]"
      ]
     },
     "metadata": {},
     "output_type": "display_data"
    },
    {
     "name": "stdout",
     "output_type": "stream",
     "text": [
      "Percent complete: 80.00%\n"
     ]
    },
    {
     "data": {
      "application/vnd.jupyter.widget-view+json": {
       "model_id": "08ed375512b74705bcff15e579501681",
       "version_major": 2,
       "version_minor": 0
      },
      "text/plain": [
       "Retrieving ThermoDoc documents:   0%|          | 0/967 [00:00<?, ?it/s]"
      ]
     },
     "metadata": {},
     "output_type": "display_data"
    },
    {
     "name": "stdout",
     "output_type": "stream",
     "text": [
      "Percent complete: 80.95%\n"
     ]
    },
    {
     "data": {
      "application/vnd.jupyter.widget-view+json": {
       "model_id": "c625cb009149477f8d90859db1ea295d",
       "version_major": 2,
       "version_minor": 0
      },
      "text/plain": [
       "Retrieving ThermoDoc documents:   0%|          | 0/967 [00:00<?, ?it/s]"
      ]
     },
     "metadata": {},
     "output_type": "display_data"
    },
    {
     "name": "stdout",
     "output_type": "stream",
     "text": [
      "Percent complete: 81.90%\n"
     ]
    },
    {
     "data": {
      "application/vnd.jupyter.widget-view+json": {
       "model_id": "5475549900d744a38616d61f5cc0c6ac",
       "version_major": 2,
       "version_minor": 0
      },
      "text/plain": [
       "Retrieving ThermoDoc documents:   0%|          | 0/209 [00:00<?, ?it/s]"
      ]
     },
     "metadata": {},
     "output_type": "display_data"
    },
    {
     "name": "stdout",
     "output_type": "stream",
     "text": [
      "Percent complete: 82.86%\n"
     ]
    },
    {
     "data": {
      "application/vnd.jupyter.widget-view+json": {
       "model_id": "2255de24044346e9b6bb901a80219537",
       "version_major": 2,
       "version_minor": 0
      },
      "text/plain": [
       "Retrieving ThermoDoc documents:   0%|          | 0/417 [00:00<?, ?it/s]"
      ]
     },
     "metadata": {},
     "output_type": "display_data"
    },
    {
     "name": "stdout",
     "output_type": "stream",
     "text": [
      "Percent complete: 83.81%\n"
     ]
    },
    {
     "data": {
      "application/vnd.jupyter.widget-view+json": {
       "model_id": "ffa54834214846918176a051cb417e26",
       "version_major": 2,
       "version_minor": 0
      },
      "text/plain": [
       "Retrieving ThermoDoc documents:   0%|          | 0/311 [00:00<?, ?it/s]"
      ]
     },
     "metadata": {},
     "output_type": "display_data"
    },
    {
     "name": "stdout",
     "output_type": "stream",
     "text": [
      "Percent complete: 84.76%\n"
     ]
    },
    {
     "data": {
      "application/vnd.jupyter.widget-view+json": {
       "model_id": "3dd367ccb7744a559040e9c3a64e5d23",
       "version_major": 2,
       "version_minor": 0
      },
      "text/plain": [
       "Retrieving ThermoDoc documents:   0%|          | 0/294 [00:00<?, ?it/s]"
      ]
     },
     "metadata": {},
     "output_type": "display_data"
    },
    {
     "name": "stdout",
     "output_type": "stream",
     "text": [
      "Percent complete: 85.71%\n"
     ]
    },
    {
     "data": {
      "application/vnd.jupyter.widget-view+json": {
       "model_id": "0214ae0a0dab4e3685063a1b00f71468",
       "version_major": 2,
       "version_minor": 0
      },
      "text/plain": [
       "Retrieving ThermoDoc documents:   0%|          | 0/201 [00:00<?, ?it/s]"
      ]
     },
     "metadata": {},
     "output_type": "display_data"
    },
    {
     "name": "stdout",
     "output_type": "stream",
     "text": [
      "Percent complete: 86.67%\n"
     ]
    },
    {
     "data": {
      "application/vnd.jupyter.widget-view+json": {
       "model_id": "b90a8af1404446fbb222428556f328ff",
       "version_major": 2,
       "version_minor": 0
      },
      "text/plain": [
       "Retrieving ThermoDoc documents:   0%|          | 0/402 [00:00<?, ?it/s]"
      ]
     },
     "metadata": {},
     "output_type": "display_data"
    },
    {
     "name": "stdout",
     "output_type": "stream",
     "text": [
      "Percent complete: 87.62%\n"
     ]
    },
    {
     "data": {
      "application/vnd.jupyter.widget-view+json": {
       "model_id": "f13581875ea14de9a518fc40c9bd056a",
       "version_major": 2,
       "version_minor": 0
      },
      "text/plain": [
       "Retrieving ThermoDoc documents:   0%|          | 0/277 [00:00<?, ?it/s]"
      ]
     },
     "metadata": {},
     "output_type": "display_data"
    },
    {
     "name": "stdout",
     "output_type": "stream",
     "text": [
      "Percent complete: 88.57%\n"
     ]
    },
    {
     "data": {
      "application/vnd.jupyter.widget-view+json": {
       "model_id": "00c2aeeef22d4d9390010a1e91371d28",
       "version_major": 2,
       "version_minor": 0
      },
      "text/plain": [
       "Retrieving ThermoDoc documents:   0%|          | 0/246 [00:00<?, ?it/s]"
      ]
     },
     "metadata": {},
     "output_type": "display_data"
    },
    {
     "name": "stdout",
     "output_type": "stream",
     "text": [
      "Percent complete: 89.52%\n"
     ]
    },
    {
     "data": {
      "application/vnd.jupyter.widget-view+json": {
       "model_id": "8a65f8aa11b54347bdd5a2f84b443e15",
       "version_major": 2,
       "version_minor": 0
      },
      "text/plain": [
       "Retrieving ThermoDoc documents:   0%|          | 0/385 [00:00<?, ?it/s]"
      ]
     },
     "metadata": {},
     "output_type": "display_data"
    },
    {
     "name": "stdout",
     "output_type": "stream",
     "text": [
      "Percent complete: 90.48%\n"
     ]
    },
    {
     "data": {
      "application/vnd.jupyter.widget-view+json": {
       "model_id": "04e3bdf97ffd4286a08bbe2262ab3a41",
       "version_major": 2,
       "version_minor": 0
      },
      "text/plain": [
       "Retrieving ThermoDoc documents:   0%|          | 0/492 [00:00<?, ?it/s]"
      ]
     },
     "metadata": {},
     "output_type": "display_data"
    },
    {
     "name": "stdout",
     "output_type": "stream",
     "text": [
      "Percent complete: 91.43%\n"
     ]
    },
    {
     "data": {
      "application/vnd.jupyter.widget-view+json": {
       "model_id": "65466d5e013a43f7bd45ee7ef0fe9d3c",
       "version_major": 2,
       "version_minor": 0
      },
      "text/plain": [
       "Retrieving ThermoDoc documents:   0%|          | 0/388 [00:00<?, ?it/s]"
      ]
     },
     "metadata": {},
     "output_type": "display_data"
    },
    {
     "name": "stderr",
     "output_type": "stream",
     "text": [
      "spglib: ssm_get_exact_positions failed (attempt=0). (line 115, /tmp/pip-install-58cw25xt/spglib_6207849ab7c64022b27925c813b8e5ef/src/site_symmetry.c).\n",
      "spglib: ssm_get_exact_positions failed (attempt=1). (line 115, /tmp/pip-install-58cw25xt/spglib_6207849ab7c64022b27925c813b8e5ef/src/site_symmetry.c).\n",
      "spglib: ssm_get_exact_positions failed (attempt=2). (line 115, /tmp/pip-install-58cw25xt/spglib_6207849ab7c64022b27925c813b8e5ef/src/site_symmetry.c).\n",
      "spglib: ssm_get_exact_positions failed (attempt=3). (line 115, /tmp/pip-install-58cw25xt/spglib_6207849ab7c64022b27925c813b8e5ef/src/site_symmetry.c).\n",
      "spglib: ssm_get_exact_positions failed (attempt=4). (line 115, /tmp/pip-install-58cw25xt/spglib_6207849ab7c64022b27925c813b8e5ef/src/site_symmetry.c).\n",
      "spglib: ssm_get_exact_positions failed. (line 479, /tmp/pip-install-58cw25xt/spglib_6207849ab7c64022b27925c813b8e5ef/src/refinement.c).\n",
      "spglib: get_bravais_exact_positions_and_lattice failed. (line 336, /tmp/pip-install-58cw25xt/spglib_6207849ab7c64022b27925c813b8e5ef/src/refinement.c).\n",
      "spglib: ref_get_exact_structure_and_symmetry failed. (line 82, /tmp/pip-install-58cw25xt/spglib_6207849ab7c64022b27925c813b8e5ef/src/determination.c).\n",
      "spglib: ssm_get_exact_positions failed (attempt=0). (line 115, /tmp/pip-install-58cw25xt/spglib_6207849ab7c64022b27925c813b8e5ef/src/site_symmetry.c).\n",
      "spglib: ssm_get_exact_positions failed (attempt=1). (line 115, /tmp/pip-install-58cw25xt/spglib_6207849ab7c64022b27925c813b8e5ef/src/site_symmetry.c).\n",
      "spglib: ssm_get_exact_positions failed (attempt=2). (line 115, /tmp/pip-install-58cw25xt/spglib_6207849ab7c64022b27925c813b8e5ef/src/site_symmetry.c).\n",
      "spglib: ssm_get_exact_positions failed (attempt=3). (line 115, /tmp/pip-install-58cw25xt/spglib_6207849ab7c64022b27925c813b8e5ef/src/site_symmetry.c).\n",
      "spglib: ssm_get_exact_positions failed (attempt=4). (line 115, /tmp/pip-install-58cw25xt/spglib_6207849ab7c64022b27925c813b8e5ef/src/site_symmetry.c).\n",
      "spglib: ssm_get_exact_positions failed. (line 479, /tmp/pip-install-58cw25xt/spglib_6207849ab7c64022b27925c813b8e5ef/src/refinement.c).\n",
      "spglib: get_bravais_exact_positions_and_lattice failed. (line 336, /tmp/pip-install-58cw25xt/spglib_6207849ab7c64022b27925c813b8e5ef/src/refinement.c).\n",
      "spglib: ref_get_exact_structure_and_symmetry failed. (line 82, /tmp/pip-install-58cw25xt/spglib_6207849ab7c64022b27925c813b8e5ef/src/determination.c).\n",
      "spglib: ssm_get_exact_positions failed (attempt=0). (line 115, /tmp/pip-install-58cw25xt/spglib_6207849ab7c64022b27925c813b8e5ef/src/site_symmetry.c).\n",
      "spglib: ssm_get_exact_positions failed (attempt=1). (line 115, /tmp/pip-install-58cw25xt/spglib_6207849ab7c64022b27925c813b8e5ef/src/site_symmetry.c).\n",
      "spglib: ssm_get_exact_positions failed (attempt=2). (line 115, /tmp/pip-install-58cw25xt/spglib_6207849ab7c64022b27925c813b8e5ef/src/site_symmetry.c).\n",
      "spglib: ssm_get_exact_positions failed (attempt=3). (line 115, /tmp/pip-install-58cw25xt/spglib_6207849ab7c64022b27925c813b8e5ef/src/site_symmetry.c).\n",
      "spglib: ssm_get_exact_positions failed (attempt=4). (line 115, /tmp/pip-install-58cw25xt/spglib_6207849ab7c64022b27925c813b8e5ef/src/site_symmetry.c).\n",
      "spglib: ssm_get_exact_positions failed. (line 479, /tmp/pip-install-58cw25xt/spglib_6207849ab7c64022b27925c813b8e5ef/src/refinement.c).\n",
      "spglib: get_bravais_exact_positions_and_lattice failed. (line 336, /tmp/pip-install-58cw25xt/spglib_6207849ab7c64022b27925c813b8e5ef/src/refinement.c).\n",
      "spglib: ref_get_exact_structure_and_symmetry failed. (line 82, /tmp/pip-install-58cw25xt/spglib_6207849ab7c64022b27925c813b8e5ef/src/determination.c).\n",
      "spglib: ssm_get_exact_positions failed (attempt=0). (line 115, /tmp/pip-install-58cw25xt/spglib_6207849ab7c64022b27925c813b8e5ef/src/site_symmetry.c).\n",
      "spglib: ssm_get_exact_positions failed (attempt=1). (line 115, /tmp/pip-install-58cw25xt/spglib_6207849ab7c64022b27925c813b8e5ef/src/site_symmetry.c).\n",
      "spglib: ssm_get_exact_positions failed (attempt=2). (line 115, /tmp/pip-install-58cw25xt/spglib_6207849ab7c64022b27925c813b8e5ef/src/site_symmetry.c).\n",
      "spglib: ssm_get_exact_positions failed (attempt=3). (line 115, /tmp/pip-install-58cw25xt/spglib_6207849ab7c64022b27925c813b8e5ef/src/site_symmetry.c).\n",
      "spglib: ssm_get_exact_positions failed (attempt=4). (line 115, /tmp/pip-install-58cw25xt/spglib_6207849ab7c64022b27925c813b8e5ef/src/site_symmetry.c).\n",
      "spglib: ssm_get_exact_positions failed. (line 479, /tmp/pip-install-58cw25xt/spglib_6207849ab7c64022b27925c813b8e5ef/src/refinement.c).\n",
      "spglib: get_bravais_exact_positions_and_lattice failed. (line 336, /tmp/pip-install-58cw25xt/spglib_6207849ab7c64022b27925c813b8e5ef/src/refinement.c).\n",
      "spglib: ref_get_exact_structure_and_symmetry failed. (line 82, /tmp/pip-install-58cw25xt/spglib_6207849ab7c64022b27925c813b8e5ef/src/determination.c).\n",
      "spglib: ssm_get_exact_positions failed (attempt=0). (line 115, /tmp/pip-install-58cw25xt/spglib_6207849ab7c64022b27925c813b8e5ef/src/site_symmetry.c).\n",
      "spglib: ssm_get_exact_positions failed (attempt=1). (line 115, /tmp/pip-install-58cw25xt/spglib_6207849ab7c64022b27925c813b8e5ef/src/site_symmetry.c).\n",
      "spglib: ssm_get_exact_positions failed (attempt=2). (line 115, /tmp/pip-install-58cw25xt/spglib_6207849ab7c64022b27925c813b8e5ef/src/site_symmetry.c).\n",
      "spglib: ssm_get_exact_positions failed (attempt=3). (line 115, /tmp/pip-install-58cw25xt/spglib_6207849ab7c64022b27925c813b8e5ef/src/site_symmetry.c).\n",
      "spglib: ssm_get_exact_positions failed (attempt=4). (line 115, /tmp/pip-install-58cw25xt/spglib_6207849ab7c64022b27925c813b8e5ef/src/site_symmetry.c).\n",
      "spglib: ssm_get_exact_positions failed. (line 479, /tmp/pip-install-58cw25xt/spglib_6207849ab7c64022b27925c813b8e5ef/src/refinement.c).\n",
      "spglib: get_bravais_exact_positions_and_lattice failed. (line 336, /tmp/pip-install-58cw25xt/spglib_6207849ab7c64022b27925c813b8e5ef/src/refinement.c).\n",
      "spglib: ref_get_exact_structure_and_symmetry failed. (line 82, /tmp/pip-install-58cw25xt/spglib_6207849ab7c64022b27925c813b8e5ef/src/determination.c).\n",
      "spglib: ssm_get_exact_positions failed (attempt=0). (line 115, /tmp/pip-install-58cw25xt/spglib_6207849ab7c64022b27925c813b8e5ef/src/site_symmetry.c).\n",
      "spglib: ssm_get_exact_positions failed (attempt=1). (line 115, /tmp/pip-install-58cw25xt/spglib_6207849ab7c64022b27925c813b8e5ef/src/site_symmetry.c).\n",
      "spglib: ssm_get_exact_positions failed (attempt=2). (line 115, /tmp/pip-install-58cw25xt/spglib_6207849ab7c64022b27925c813b8e5ef/src/site_symmetry.c).\n",
      "spglib: ssm_get_exact_positions failed (attempt=3). (line 115, /tmp/pip-install-58cw25xt/spglib_6207849ab7c64022b27925c813b8e5ef/src/site_symmetry.c).\n",
      "spglib: ssm_get_exact_positions failed (attempt=4). (line 115, /tmp/pip-install-58cw25xt/spglib_6207849ab7c64022b27925c813b8e5ef/src/site_symmetry.c).\n",
      "spglib: ssm_get_exact_positions failed. (line 479, /tmp/pip-install-58cw25xt/spglib_6207849ab7c64022b27925c813b8e5ef/src/refinement.c).\n",
      "spglib: get_bravais_exact_positions_and_lattice failed. (line 336, /tmp/pip-install-58cw25xt/spglib_6207849ab7c64022b27925c813b8e5ef/src/refinement.c).\n",
      "spglib: ref_get_exact_structure_and_symmetry failed. (line 82, /tmp/pip-install-58cw25xt/spglib_6207849ab7c64022b27925c813b8e5ef/src/determination.c).\n",
      "spglib: ssm_get_exact_positions failed (attempt=0). (line 115, /tmp/pip-install-58cw25xt/spglib_6207849ab7c64022b27925c813b8e5ef/src/site_symmetry.c).\n",
      "spglib: ssm_get_exact_positions failed (attempt=1). (line 115, /tmp/pip-install-58cw25xt/spglib_6207849ab7c64022b27925c813b8e5ef/src/site_symmetry.c).\n",
      "spglib: ssm_get_exact_positions failed (attempt=2). (line 115, /tmp/pip-install-58cw25xt/spglib_6207849ab7c64022b27925c813b8e5ef/src/site_symmetry.c).\n",
      "spglib: ssm_get_exact_positions failed (attempt=3). (line 115, /tmp/pip-install-58cw25xt/spglib_6207849ab7c64022b27925c813b8e5ef/src/site_symmetry.c).\n",
      "spglib: ssm_get_exact_positions failed (attempt=4). (line 115, /tmp/pip-install-58cw25xt/spglib_6207849ab7c64022b27925c813b8e5ef/src/site_symmetry.c).\n",
      "spglib: ssm_get_exact_positions failed. (line 479, /tmp/pip-install-58cw25xt/spglib_6207849ab7c64022b27925c813b8e5ef/src/refinement.c).\n",
      "spglib: get_bravais_exact_positions_and_lattice failed. (line 336, /tmp/pip-install-58cw25xt/spglib_6207849ab7c64022b27925c813b8e5ef/src/refinement.c).\n",
      "spglib: ref_get_exact_structure_and_symmetry failed. (line 82, /tmp/pip-install-58cw25xt/spglib_6207849ab7c64022b27925c813b8e5ef/src/determination.c).\n",
      "spglib: ssm_get_exact_positions failed (attempt=0). (line 115, /tmp/pip-install-58cw25xt/spglib_6207849ab7c64022b27925c813b8e5ef/src/site_symmetry.c).\n",
      "spglib: ssm_get_exact_positions failed (attempt=1). (line 115, /tmp/pip-install-58cw25xt/spglib_6207849ab7c64022b27925c813b8e5ef/src/site_symmetry.c).\n",
      "spglib: ssm_get_exact_positions failed (attempt=2). (line 115, /tmp/pip-install-58cw25xt/spglib_6207849ab7c64022b27925c813b8e5ef/src/site_symmetry.c).\n",
      "spglib: ssm_get_exact_positions failed (attempt=3). (line 115, /tmp/pip-install-58cw25xt/spglib_6207849ab7c64022b27925c813b8e5ef/src/site_symmetry.c).\n",
      "spglib: ssm_get_exact_positions failed (attempt=4). (line 115, /tmp/pip-install-58cw25xt/spglib_6207849ab7c64022b27925c813b8e5ef/src/site_symmetry.c).\n",
      "spglib: ssm_get_exact_positions failed. (line 479, /tmp/pip-install-58cw25xt/spglib_6207849ab7c64022b27925c813b8e5ef/src/refinement.c).\n",
      "spglib: get_bravais_exact_positions_and_lattice failed. (line 336, /tmp/pip-install-58cw25xt/spglib_6207849ab7c64022b27925c813b8e5ef/src/refinement.c).\n",
      "spglib: ref_get_exact_structure_and_symmetry failed. (line 82, /tmp/pip-install-58cw25xt/spglib_6207849ab7c64022b27925c813b8e5ef/src/determination.c).\n",
      "spglib: ssm_get_exact_positions failed (attempt=0). (line 115, /tmp/pip-install-58cw25xt/spglib_6207849ab7c64022b27925c813b8e5ef/src/site_symmetry.c).\n",
      "spglib: ssm_get_exact_positions failed (attempt=1). (line 115, /tmp/pip-install-58cw25xt/spglib_6207849ab7c64022b27925c813b8e5ef/src/site_symmetry.c).\n",
      "spglib: ssm_get_exact_positions failed (attempt=2). (line 115, /tmp/pip-install-58cw25xt/spglib_6207849ab7c64022b27925c813b8e5ef/src/site_symmetry.c).\n",
      "spglib: ssm_get_exact_positions failed (attempt=3). (line 115, /tmp/pip-install-58cw25xt/spglib_6207849ab7c64022b27925c813b8e5ef/src/site_symmetry.c).\n",
      "spglib: ssm_get_exact_positions failed (attempt=4). (line 115, /tmp/pip-install-58cw25xt/spglib_6207849ab7c64022b27925c813b8e5ef/src/site_symmetry.c).\n",
      "spglib: ssm_get_exact_positions failed. (line 479, /tmp/pip-install-58cw25xt/spglib_6207849ab7c64022b27925c813b8e5ef/src/refinement.c).\n",
      "spglib: get_bravais_exact_positions_and_lattice failed. (line 336, /tmp/pip-install-58cw25xt/spglib_6207849ab7c64022b27925c813b8e5ef/src/refinement.c).\n",
      "spglib: ref_get_exact_structure_and_symmetry failed. (line 82, /tmp/pip-install-58cw25xt/spglib_6207849ab7c64022b27925c813b8e5ef/src/determination.c).\n",
      "spglib: ssm_get_exact_positions failed (attempt=0). (line 115, /tmp/pip-install-58cw25xt/spglib_6207849ab7c64022b27925c813b8e5ef/src/site_symmetry.c).\n",
      "spglib: ssm_get_exact_positions failed (attempt=1). (line 115, /tmp/pip-install-58cw25xt/spglib_6207849ab7c64022b27925c813b8e5ef/src/site_symmetry.c).\n",
      "spglib: ssm_get_exact_positions failed (attempt=2). (line 115, /tmp/pip-install-58cw25xt/spglib_6207849ab7c64022b27925c813b8e5ef/src/site_symmetry.c).\n",
      "spglib: ssm_get_exact_positions failed (attempt=3). (line 115, /tmp/pip-install-58cw25xt/spglib_6207849ab7c64022b27925c813b8e5ef/src/site_symmetry.c).\n",
      "spglib: ssm_get_exact_positions failed (attempt=4). (line 115, /tmp/pip-install-58cw25xt/spglib_6207849ab7c64022b27925c813b8e5ef/src/site_symmetry.c).\n",
      "spglib: ssm_get_exact_positions failed. (line 479, /tmp/pip-install-58cw25xt/spglib_6207849ab7c64022b27925c813b8e5ef/src/refinement.c).\n",
      "spglib: get_bravais_exact_positions_and_lattice failed. (line 336, /tmp/pip-install-58cw25xt/spglib_6207849ab7c64022b27925c813b8e5ef/src/refinement.c).\n",
      "spglib: ref_get_exact_structure_and_symmetry failed. (line 82, /tmp/pip-install-58cw25xt/spglib_6207849ab7c64022b27925c813b8e5ef/src/determination.c).\n",
      "spglib: ssm_get_exact_positions failed (attempt=0). (line 115, /tmp/pip-install-58cw25xt/spglib_6207849ab7c64022b27925c813b8e5ef/src/site_symmetry.c).\n",
      "spglib: ssm_get_exact_positions failed (attempt=1). (line 115, /tmp/pip-install-58cw25xt/spglib_6207849ab7c64022b27925c813b8e5ef/src/site_symmetry.c).\n",
      "spglib: ssm_get_exact_positions failed (attempt=2). (line 115, /tmp/pip-install-58cw25xt/spglib_6207849ab7c64022b27925c813b8e5ef/src/site_symmetry.c).\n",
      "spglib: ssm_get_exact_positions failed (attempt=3). (line 115, /tmp/pip-install-58cw25xt/spglib_6207849ab7c64022b27925c813b8e5ef/src/site_symmetry.c).\n",
      "spglib: ssm_get_exact_positions failed (attempt=4). (line 115, /tmp/pip-install-58cw25xt/spglib_6207849ab7c64022b27925c813b8e5ef/src/site_symmetry.c).\n",
      "spglib: ssm_get_exact_positions failed. (line 479, /tmp/pip-install-58cw25xt/spglib_6207849ab7c64022b27925c813b8e5ef/src/refinement.c).\n",
      "spglib: get_bravais_exact_positions_and_lattice failed. (line 336, /tmp/pip-install-58cw25xt/spglib_6207849ab7c64022b27925c813b8e5ef/src/refinement.c).\n",
      "spglib: ref_get_exact_structure_and_symmetry failed. (line 82, /tmp/pip-install-58cw25xt/spglib_6207849ab7c64022b27925c813b8e5ef/src/determination.c).\n",
      "spglib: ssm_get_exact_positions failed (attempt=0). (line 115, /tmp/pip-install-58cw25xt/spglib_6207849ab7c64022b27925c813b8e5ef/src/site_symmetry.c).\n",
      "spglib: ssm_get_exact_positions failed (attempt=1). (line 115, /tmp/pip-install-58cw25xt/spglib_6207849ab7c64022b27925c813b8e5ef/src/site_symmetry.c).\n",
      "spglib: ssm_get_exact_positions failed (attempt=2). (line 115, /tmp/pip-install-58cw25xt/spglib_6207849ab7c64022b27925c813b8e5ef/src/site_symmetry.c).\n",
      "spglib: ssm_get_exact_positions failed (attempt=3). (line 115, /tmp/pip-install-58cw25xt/spglib_6207849ab7c64022b27925c813b8e5ef/src/site_symmetry.c).\n",
      "spglib: ssm_get_exact_positions failed (attempt=4). (line 115, /tmp/pip-install-58cw25xt/spglib_6207849ab7c64022b27925c813b8e5ef/src/site_symmetry.c).\n",
      "spglib: ssm_get_exact_positions failed. (line 479, /tmp/pip-install-58cw25xt/spglib_6207849ab7c64022b27925c813b8e5ef/src/refinement.c).\n",
      "spglib: get_bravais_exact_positions_and_lattice failed. (line 336, /tmp/pip-install-58cw25xt/spglib_6207849ab7c64022b27925c813b8e5ef/src/refinement.c).\n",
      "spglib: ref_get_exact_structure_and_symmetry failed. (line 82, /tmp/pip-install-58cw25xt/spglib_6207849ab7c64022b27925c813b8e5ef/src/determination.c).\n",
      "spglib: ssm_get_exact_positions failed (attempt=0). (line 115, /tmp/pip-install-58cw25xt/spglib_6207849ab7c64022b27925c813b8e5ef/src/site_symmetry.c).\n",
      "spglib: ssm_get_exact_positions failed (attempt=1). (line 115, /tmp/pip-install-58cw25xt/spglib_6207849ab7c64022b27925c813b8e5ef/src/site_symmetry.c).\n",
      "spglib: ssm_get_exact_positions failed (attempt=2). (line 115, /tmp/pip-install-58cw25xt/spglib_6207849ab7c64022b27925c813b8e5ef/src/site_symmetry.c).\n",
      "spglib: ssm_get_exact_positions failed (attempt=3). (line 115, /tmp/pip-install-58cw25xt/spglib_6207849ab7c64022b27925c813b8e5ef/src/site_symmetry.c).\n",
      "spglib: ssm_get_exact_positions failed (attempt=4). (line 115, /tmp/pip-install-58cw25xt/spglib_6207849ab7c64022b27925c813b8e5ef/src/site_symmetry.c).\n",
      "spglib: ssm_get_exact_positions failed. (line 479, /tmp/pip-install-58cw25xt/spglib_6207849ab7c64022b27925c813b8e5ef/src/refinement.c).\n",
      "spglib: get_bravais_exact_positions_and_lattice failed. (line 336, /tmp/pip-install-58cw25xt/spglib_6207849ab7c64022b27925c813b8e5ef/src/refinement.c).\n",
      "spglib: ref_get_exact_structure_and_symmetry failed. (line 82, /tmp/pip-install-58cw25xt/spglib_6207849ab7c64022b27925c813b8e5ef/src/determination.c).\n",
      "spglib: ssm_get_exact_positions failed (attempt=0). (line 115, /tmp/pip-install-58cw25xt/spglib_6207849ab7c64022b27925c813b8e5ef/src/site_symmetry.c).\n",
      "spglib: ssm_get_exact_positions failed (attempt=1). (line 115, /tmp/pip-install-58cw25xt/spglib_6207849ab7c64022b27925c813b8e5ef/src/site_symmetry.c).\n",
      "spglib: ssm_get_exact_positions failed (attempt=2). (line 115, /tmp/pip-install-58cw25xt/spglib_6207849ab7c64022b27925c813b8e5ef/src/site_symmetry.c).\n",
      "spglib: ssm_get_exact_positions failed (attempt=3). (line 115, /tmp/pip-install-58cw25xt/spglib_6207849ab7c64022b27925c813b8e5ef/src/site_symmetry.c).\n",
      "spglib: ssm_get_exact_positions failed (attempt=4). (line 115, /tmp/pip-install-58cw25xt/spglib_6207849ab7c64022b27925c813b8e5ef/src/site_symmetry.c).\n",
      "spglib: ssm_get_exact_positions failed. (line 479, /tmp/pip-install-58cw25xt/spglib_6207849ab7c64022b27925c813b8e5ef/src/refinement.c).\n",
      "spglib: get_bravais_exact_positions_and_lattice failed. (line 336, /tmp/pip-install-58cw25xt/spglib_6207849ab7c64022b27925c813b8e5ef/src/refinement.c).\n",
      "spglib: ref_get_exact_structure_and_symmetry failed. (line 82, /tmp/pip-install-58cw25xt/spglib_6207849ab7c64022b27925c813b8e5ef/src/determination.c).\n",
      "spglib: ssm_get_exact_positions failed (attempt=0). (line 115, /tmp/pip-install-58cw25xt/spglib_6207849ab7c64022b27925c813b8e5ef/src/site_symmetry.c).\n",
      "spglib: ssm_get_exact_positions failed (attempt=1). (line 115, /tmp/pip-install-58cw25xt/spglib_6207849ab7c64022b27925c813b8e5ef/src/site_symmetry.c).\n",
      "spglib: ssm_get_exact_positions failed (attempt=2). (line 115, /tmp/pip-install-58cw25xt/spglib_6207849ab7c64022b27925c813b8e5ef/src/site_symmetry.c).\n",
      "spglib: ssm_get_exact_positions failed (attempt=3). (line 115, /tmp/pip-install-58cw25xt/spglib_6207849ab7c64022b27925c813b8e5ef/src/site_symmetry.c).\n",
      "spglib: ssm_get_exact_positions failed (attempt=4). (line 115, /tmp/pip-install-58cw25xt/spglib_6207849ab7c64022b27925c813b8e5ef/src/site_symmetry.c).\n",
      "spglib: ssm_get_exact_positions failed. (line 479, /tmp/pip-install-58cw25xt/spglib_6207849ab7c64022b27925c813b8e5ef/src/refinement.c).\n",
      "spglib: get_bravais_exact_positions_and_lattice failed. (line 336, /tmp/pip-install-58cw25xt/spglib_6207849ab7c64022b27925c813b8e5ef/src/refinement.c).\n",
      "spglib: ref_get_exact_structure_and_symmetry failed. (line 82, /tmp/pip-install-58cw25xt/spglib_6207849ab7c64022b27925c813b8e5ef/src/determination.c).\n",
      "spglib: ssm_get_exact_positions failed (attempt=0). (line 115, /tmp/pip-install-58cw25xt/spglib_6207849ab7c64022b27925c813b8e5ef/src/site_symmetry.c).\n",
      "spglib: ssm_get_exact_positions failed (attempt=1). (line 115, /tmp/pip-install-58cw25xt/spglib_6207849ab7c64022b27925c813b8e5ef/src/site_symmetry.c).\n",
      "spglib: ssm_get_exact_positions failed (attempt=2). (line 115, /tmp/pip-install-58cw25xt/spglib_6207849ab7c64022b27925c813b8e5ef/src/site_symmetry.c).\n",
      "spglib: ssm_get_exact_positions failed (attempt=3). (line 115, /tmp/pip-install-58cw25xt/spglib_6207849ab7c64022b27925c813b8e5ef/src/site_symmetry.c).\n",
      "spglib: ssm_get_exact_positions failed (attempt=4). (line 115, /tmp/pip-install-58cw25xt/spglib_6207849ab7c64022b27925c813b8e5ef/src/site_symmetry.c).\n",
      "spglib: ssm_get_exact_positions failed. (line 479, /tmp/pip-install-58cw25xt/spglib_6207849ab7c64022b27925c813b8e5ef/src/refinement.c).\n",
      "spglib: get_bravais_exact_positions_and_lattice failed. (line 336, /tmp/pip-install-58cw25xt/spglib_6207849ab7c64022b27925c813b8e5ef/src/refinement.c).\n",
      "spglib: ref_get_exact_structure_and_symmetry failed. (line 82, /tmp/pip-install-58cw25xt/spglib_6207849ab7c64022b27925c813b8e5ef/src/determination.c).\n",
      "spglib: ssm_get_exact_positions failed (attempt=0). (line 115, /tmp/pip-install-58cw25xt/spglib_6207849ab7c64022b27925c813b8e5ef/src/site_symmetry.c).\n",
      "spglib: ssm_get_exact_positions failed (attempt=1). (line 115, /tmp/pip-install-58cw25xt/spglib_6207849ab7c64022b27925c813b8e5ef/src/site_symmetry.c).\n",
      "spglib: ssm_get_exact_positions failed (attempt=2). (line 115, /tmp/pip-install-58cw25xt/spglib_6207849ab7c64022b27925c813b8e5ef/src/site_symmetry.c).\n",
      "spglib: ssm_get_exact_positions failed (attempt=3). (line 115, /tmp/pip-install-58cw25xt/spglib_6207849ab7c64022b27925c813b8e5ef/src/site_symmetry.c).\n",
      "spglib: ssm_get_exact_positions failed (attempt=4). (line 115, /tmp/pip-install-58cw25xt/spglib_6207849ab7c64022b27925c813b8e5ef/src/site_symmetry.c).\n",
      "spglib: ssm_get_exact_positions failed. (line 479, /tmp/pip-install-58cw25xt/spglib_6207849ab7c64022b27925c813b8e5ef/src/refinement.c).\n",
      "spglib: get_bravais_exact_positions_and_lattice failed. (line 336, /tmp/pip-install-58cw25xt/spglib_6207849ab7c64022b27925c813b8e5ef/src/refinement.c).\n",
      "spglib: ref_get_exact_structure_and_symmetry failed. (line 82, /tmp/pip-install-58cw25xt/spglib_6207849ab7c64022b27925c813b8e5ef/src/determination.c).\n",
      "spglib: ssm_get_exact_positions failed (attempt=0). (line 115, /tmp/pip-install-58cw25xt/spglib_6207849ab7c64022b27925c813b8e5ef/src/site_symmetry.c).\n",
      "spglib: ssm_get_exact_positions failed (attempt=1). (line 115, /tmp/pip-install-58cw25xt/spglib_6207849ab7c64022b27925c813b8e5ef/src/site_symmetry.c).\n",
      "spglib: ssm_get_exact_positions failed (attempt=2). (line 115, /tmp/pip-install-58cw25xt/spglib_6207849ab7c64022b27925c813b8e5ef/src/site_symmetry.c).\n",
      "spglib: ssm_get_exact_positions failed (attempt=3). (line 115, /tmp/pip-install-58cw25xt/spglib_6207849ab7c64022b27925c813b8e5ef/src/site_symmetry.c).\n",
      "spglib: ssm_get_exact_positions failed (attempt=4). (line 115, /tmp/pip-install-58cw25xt/spglib_6207849ab7c64022b27925c813b8e5ef/src/site_symmetry.c).\n",
      "spglib: ssm_get_exact_positions failed. (line 479, /tmp/pip-install-58cw25xt/spglib_6207849ab7c64022b27925c813b8e5ef/src/refinement.c).\n",
      "spglib: get_bravais_exact_positions_and_lattice failed. (line 336, /tmp/pip-install-58cw25xt/spglib_6207849ab7c64022b27925c813b8e5ef/src/refinement.c).\n",
      "spglib: ref_get_exact_structure_and_symmetry failed. (line 82, /tmp/pip-install-58cw25xt/spglib_6207849ab7c64022b27925c813b8e5ef/src/determination.c).\n",
      "spglib: ssm_get_exact_positions failed (attempt=0). (line 115, /tmp/pip-install-58cw25xt/spglib_6207849ab7c64022b27925c813b8e5ef/src/site_symmetry.c).\n",
      "spglib: ssm_get_exact_positions failed (attempt=1). (line 115, /tmp/pip-install-58cw25xt/spglib_6207849ab7c64022b27925c813b8e5ef/src/site_symmetry.c).\n",
      "spglib: ssm_get_exact_positions failed (attempt=2). (line 115, /tmp/pip-install-58cw25xt/spglib_6207849ab7c64022b27925c813b8e5ef/src/site_symmetry.c).\n",
      "spglib: ssm_get_exact_positions failed (attempt=3). (line 115, /tmp/pip-install-58cw25xt/spglib_6207849ab7c64022b27925c813b8e5ef/src/site_symmetry.c).\n",
      "spglib: ssm_get_exact_positions failed (attempt=4). (line 115, /tmp/pip-install-58cw25xt/spglib_6207849ab7c64022b27925c813b8e5ef/src/site_symmetry.c).\n",
      "spglib: ssm_get_exact_positions failed. (line 479, /tmp/pip-install-58cw25xt/spglib_6207849ab7c64022b27925c813b8e5ef/src/refinement.c).\n",
      "spglib: get_bravais_exact_positions_and_lattice failed. (line 336, /tmp/pip-install-58cw25xt/spglib_6207849ab7c64022b27925c813b8e5ef/src/refinement.c).\n",
      "spglib: ref_get_exact_structure_and_symmetry failed. (line 82, /tmp/pip-install-58cw25xt/spglib_6207849ab7c64022b27925c813b8e5ef/src/determination.c).\n",
      "spglib: ssm_get_exact_positions failed (attempt=0). (line 115, /tmp/pip-install-58cw25xt/spglib_6207849ab7c64022b27925c813b8e5ef/src/site_symmetry.c).\n",
      "spglib: ssm_get_exact_positions failed (attempt=1). (line 115, /tmp/pip-install-58cw25xt/spglib_6207849ab7c64022b27925c813b8e5ef/src/site_symmetry.c).\n",
      "spglib: ssm_get_exact_positions failed (attempt=2). (line 115, /tmp/pip-install-58cw25xt/spglib_6207849ab7c64022b27925c813b8e5ef/src/site_symmetry.c).\n",
      "spglib: ssm_get_exact_positions failed (attempt=3). (line 115, /tmp/pip-install-58cw25xt/spglib_6207849ab7c64022b27925c813b8e5ef/src/site_symmetry.c).\n",
      "spglib: ssm_get_exact_positions failed (attempt=4). (line 115, /tmp/pip-install-58cw25xt/spglib_6207849ab7c64022b27925c813b8e5ef/src/site_symmetry.c).\n",
      "spglib: ssm_get_exact_positions failed. (line 479, /tmp/pip-install-58cw25xt/spglib_6207849ab7c64022b27925c813b8e5ef/src/refinement.c).\n",
      "spglib: get_bravais_exact_positions_and_lattice failed. (line 336, /tmp/pip-install-58cw25xt/spglib_6207849ab7c64022b27925c813b8e5ef/src/refinement.c).\n",
      "spglib: ref_get_exact_structure_and_symmetry failed. (line 82, /tmp/pip-install-58cw25xt/spglib_6207849ab7c64022b27925c813b8e5ef/src/determination.c).\n",
      "spglib: ssm_get_exact_positions failed (attempt=0). (line 115, /tmp/pip-install-58cw25xt/spglib_6207849ab7c64022b27925c813b8e5ef/src/site_symmetry.c).\n",
      "spglib: ssm_get_exact_positions failed (attempt=1). (line 115, /tmp/pip-install-58cw25xt/spglib_6207849ab7c64022b27925c813b8e5ef/src/site_symmetry.c).\n",
      "spglib: ssm_get_exact_positions failed (attempt=2). (line 115, /tmp/pip-install-58cw25xt/spglib_6207849ab7c64022b27925c813b8e5ef/src/site_symmetry.c).\n",
      "spglib: ssm_get_exact_positions failed (attempt=3). (line 115, /tmp/pip-install-58cw25xt/spglib_6207849ab7c64022b27925c813b8e5ef/src/site_symmetry.c).\n",
      "spglib: ssm_get_exact_positions failed (attempt=4). (line 115, /tmp/pip-install-58cw25xt/spglib_6207849ab7c64022b27925c813b8e5ef/src/site_symmetry.c).\n",
      "spglib: ssm_get_exact_positions failed. (line 479, /tmp/pip-install-58cw25xt/spglib_6207849ab7c64022b27925c813b8e5ef/src/refinement.c).\n",
      "spglib: get_bravais_exact_positions_and_lattice failed. (line 336, /tmp/pip-install-58cw25xt/spglib_6207849ab7c64022b27925c813b8e5ef/src/refinement.c).\n",
      "spglib: ref_get_exact_structure_and_symmetry failed. (line 82, /tmp/pip-install-58cw25xt/spglib_6207849ab7c64022b27925c813b8e5ef/src/determination.c).\n",
      "spglib: ssm_get_exact_positions failed (attempt=0). (line 115, /tmp/pip-install-58cw25xt/spglib_6207849ab7c64022b27925c813b8e5ef/src/site_symmetry.c).\n",
      "spglib: ssm_get_exact_positions failed (attempt=1). (line 115, /tmp/pip-install-58cw25xt/spglib_6207849ab7c64022b27925c813b8e5ef/src/site_symmetry.c).\n",
      "spglib: ssm_get_exact_positions failed (attempt=2). (line 115, /tmp/pip-install-58cw25xt/spglib_6207849ab7c64022b27925c813b8e5ef/src/site_symmetry.c).\n",
      "spglib: ssm_get_exact_positions failed (attempt=3). (line 115, /tmp/pip-install-58cw25xt/spglib_6207849ab7c64022b27925c813b8e5ef/src/site_symmetry.c).\n",
      "spglib: ssm_get_exact_positions failed (attempt=4). (line 115, /tmp/pip-install-58cw25xt/spglib_6207849ab7c64022b27925c813b8e5ef/src/site_symmetry.c).\n",
      "spglib: ssm_get_exact_positions failed. (line 479, /tmp/pip-install-58cw25xt/spglib_6207849ab7c64022b27925c813b8e5ef/src/refinement.c).\n",
      "spglib: get_bravais_exact_positions_and_lattice failed. (line 336, /tmp/pip-install-58cw25xt/spglib_6207849ab7c64022b27925c813b8e5ef/src/refinement.c).\n",
      "spglib: ref_get_exact_structure_and_symmetry failed. (line 82, /tmp/pip-install-58cw25xt/spglib_6207849ab7c64022b27925c813b8e5ef/src/determination.c).\n",
      "spglib: ssm_get_exact_positions failed (attempt=0). (line 115, /tmp/pip-install-58cw25xt/spglib_6207849ab7c64022b27925c813b8e5ef/src/site_symmetry.c).\n",
      "spglib: ssm_get_exact_positions failed (attempt=1). (line 115, /tmp/pip-install-58cw25xt/spglib_6207849ab7c64022b27925c813b8e5ef/src/site_symmetry.c).\n",
      "spglib: ssm_get_exact_positions failed (attempt=2). (line 115, /tmp/pip-install-58cw25xt/spglib_6207849ab7c64022b27925c813b8e5ef/src/site_symmetry.c).\n",
      "spglib: ssm_get_exact_positions failed (attempt=3). (line 115, /tmp/pip-install-58cw25xt/spglib_6207849ab7c64022b27925c813b8e5ef/src/site_symmetry.c).\n",
      "spglib: ssm_get_exact_positions failed (attempt=4). (line 115, /tmp/pip-install-58cw25xt/spglib_6207849ab7c64022b27925c813b8e5ef/src/site_symmetry.c).\n",
      "spglib: ssm_get_exact_positions failed. (line 479, /tmp/pip-install-58cw25xt/spglib_6207849ab7c64022b27925c813b8e5ef/src/refinement.c).\n",
      "spglib: get_bravais_exact_positions_and_lattice failed. (line 336, /tmp/pip-install-58cw25xt/spglib_6207849ab7c64022b27925c813b8e5ef/src/refinement.c).\n",
      "spglib: ref_get_exact_structure_and_symmetry failed. (line 82, /tmp/pip-install-58cw25xt/spglib_6207849ab7c64022b27925c813b8e5ef/src/determination.c).\n",
      "spglib: ssm_get_exact_positions failed (attempt=0). (line 115, /tmp/pip-install-58cw25xt/spglib_6207849ab7c64022b27925c813b8e5ef/src/site_symmetry.c).\n",
      "spglib: ssm_get_exact_positions failed (attempt=1). (line 115, /tmp/pip-install-58cw25xt/spglib_6207849ab7c64022b27925c813b8e5ef/src/site_symmetry.c).\n",
      "spglib: ssm_get_exact_positions failed (attempt=2). (line 115, /tmp/pip-install-58cw25xt/spglib_6207849ab7c64022b27925c813b8e5ef/src/site_symmetry.c).\n",
      "spglib: ssm_get_exact_positions failed (attempt=3). (line 115, /tmp/pip-install-58cw25xt/spglib_6207849ab7c64022b27925c813b8e5ef/src/site_symmetry.c).\n",
      "spglib: ssm_get_exact_positions failed (attempt=4). (line 115, /tmp/pip-install-58cw25xt/spglib_6207849ab7c64022b27925c813b8e5ef/src/site_symmetry.c).\n",
      "spglib: ssm_get_exact_positions failed. (line 479, /tmp/pip-install-58cw25xt/spglib_6207849ab7c64022b27925c813b8e5ef/src/refinement.c).\n",
      "spglib: get_bravais_exact_positions_and_lattice failed. (line 336, /tmp/pip-install-58cw25xt/spglib_6207849ab7c64022b27925c813b8e5ef/src/refinement.c).\n",
      "spglib: ref_get_exact_structure_and_symmetry failed. (line 82, /tmp/pip-install-58cw25xt/spglib_6207849ab7c64022b27925c813b8e5ef/src/determination.c).\n",
      "spglib: ssm_get_exact_positions failed (attempt=0). (line 115, /tmp/pip-install-58cw25xt/spglib_6207849ab7c64022b27925c813b8e5ef/src/site_symmetry.c).\n",
      "spglib: ssm_get_exact_positions failed (attempt=1). (line 115, /tmp/pip-install-58cw25xt/spglib_6207849ab7c64022b27925c813b8e5ef/src/site_symmetry.c).\n",
      "spglib: ssm_get_exact_positions failed (attempt=2). (line 115, /tmp/pip-install-58cw25xt/spglib_6207849ab7c64022b27925c813b8e5ef/src/site_symmetry.c).\n",
      "spglib: ssm_get_exact_positions failed (attempt=3). (line 115, /tmp/pip-install-58cw25xt/spglib_6207849ab7c64022b27925c813b8e5ef/src/site_symmetry.c).\n",
      "spglib: ssm_get_exact_positions failed (attempt=4). (line 115, /tmp/pip-install-58cw25xt/spglib_6207849ab7c64022b27925c813b8e5ef/src/site_symmetry.c).\n",
      "spglib: ssm_get_exact_positions failed. (line 479, /tmp/pip-install-58cw25xt/spglib_6207849ab7c64022b27925c813b8e5ef/src/refinement.c).\n",
      "spglib: get_bravais_exact_positions_and_lattice failed. (line 336, /tmp/pip-install-58cw25xt/spglib_6207849ab7c64022b27925c813b8e5ef/src/refinement.c).\n",
      "spglib: ref_get_exact_structure_and_symmetry failed. (line 82, /tmp/pip-install-58cw25xt/spglib_6207849ab7c64022b27925c813b8e5ef/src/determination.c).\n",
      "spglib: ssm_get_exact_positions failed (attempt=0). (line 115, /tmp/pip-install-58cw25xt/spglib_6207849ab7c64022b27925c813b8e5ef/src/site_symmetry.c).\n",
      "spglib: ssm_get_exact_positions failed (attempt=1). (line 115, /tmp/pip-install-58cw25xt/spglib_6207849ab7c64022b27925c813b8e5ef/src/site_symmetry.c).\n",
      "spglib: ssm_get_exact_positions failed (attempt=2). (line 115, /tmp/pip-install-58cw25xt/spglib_6207849ab7c64022b27925c813b8e5ef/src/site_symmetry.c).\n",
      "spglib: ssm_get_exact_positions failed (attempt=3). (line 115, /tmp/pip-install-58cw25xt/spglib_6207849ab7c64022b27925c813b8e5ef/src/site_symmetry.c).\n",
      "spglib: ssm_get_exact_positions failed (attempt=4). (line 115, /tmp/pip-install-58cw25xt/spglib_6207849ab7c64022b27925c813b8e5ef/src/site_symmetry.c).\n",
      "spglib: ssm_get_exact_positions failed. (line 479, /tmp/pip-install-58cw25xt/spglib_6207849ab7c64022b27925c813b8e5ef/src/refinement.c).\n",
      "spglib: get_bravais_exact_positions_and_lattice failed. (line 336, /tmp/pip-install-58cw25xt/spglib_6207849ab7c64022b27925c813b8e5ef/src/refinement.c).\n",
      "spglib: ref_get_exact_structure_and_symmetry failed. (line 82, /tmp/pip-install-58cw25xt/spglib_6207849ab7c64022b27925c813b8e5ef/src/determination.c).\n",
      "spglib: ssm_get_exact_positions failed (attempt=0). (line 115, /tmp/pip-install-58cw25xt/spglib_6207849ab7c64022b27925c813b8e5ef/src/site_symmetry.c).\n",
      "spglib: ssm_get_exact_positions failed (attempt=1). (line 115, /tmp/pip-install-58cw25xt/spglib_6207849ab7c64022b27925c813b8e5ef/src/site_symmetry.c).\n",
      "spglib: ssm_get_exact_positions failed (attempt=2). (line 115, /tmp/pip-install-58cw25xt/spglib_6207849ab7c64022b27925c813b8e5ef/src/site_symmetry.c).\n",
      "spglib: ssm_get_exact_positions failed (attempt=3). (line 115, /tmp/pip-install-58cw25xt/spglib_6207849ab7c64022b27925c813b8e5ef/src/site_symmetry.c).\n",
      "spglib: ssm_get_exact_positions failed (attempt=4). (line 115, /tmp/pip-install-58cw25xt/spglib_6207849ab7c64022b27925c813b8e5ef/src/site_symmetry.c).\n",
      "spglib: ssm_get_exact_positions failed. (line 479, /tmp/pip-install-58cw25xt/spglib_6207849ab7c64022b27925c813b8e5ef/src/refinement.c).\n",
      "spglib: get_bravais_exact_positions_and_lattice failed. (line 336, /tmp/pip-install-58cw25xt/spglib_6207849ab7c64022b27925c813b8e5ef/src/refinement.c).\n",
      "spglib: ref_get_exact_structure_and_symmetry failed. (line 82, /tmp/pip-install-58cw25xt/spglib_6207849ab7c64022b27925c813b8e5ef/src/determination.c).\n",
      "spglib: ssm_get_exact_positions failed (attempt=0). (line 115, /tmp/pip-install-58cw25xt/spglib_6207849ab7c64022b27925c813b8e5ef/src/site_symmetry.c).\n",
      "spglib: ssm_get_exact_positions failed (attempt=1). (line 115, /tmp/pip-install-58cw25xt/spglib_6207849ab7c64022b27925c813b8e5ef/src/site_symmetry.c).\n",
      "spglib: ssm_get_exact_positions failed (attempt=2). (line 115, /tmp/pip-install-58cw25xt/spglib_6207849ab7c64022b27925c813b8e5ef/src/site_symmetry.c).\n",
      "spglib: ssm_get_exact_positions failed (attempt=3). (line 115, /tmp/pip-install-58cw25xt/spglib_6207849ab7c64022b27925c813b8e5ef/src/site_symmetry.c).\n",
      "spglib: ssm_get_exact_positions failed (attempt=4). (line 115, /tmp/pip-install-58cw25xt/spglib_6207849ab7c64022b27925c813b8e5ef/src/site_symmetry.c).\n",
      "spglib: ssm_get_exact_positions failed. (line 479, /tmp/pip-install-58cw25xt/spglib_6207849ab7c64022b27925c813b8e5ef/src/refinement.c).\n",
      "spglib: get_bravais_exact_positions_and_lattice failed. (line 336, /tmp/pip-install-58cw25xt/spglib_6207849ab7c64022b27925c813b8e5ef/src/refinement.c).\n",
      "spglib: ref_get_exact_structure_and_symmetry failed. (line 82, /tmp/pip-install-58cw25xt/spglib_6207849ab7c64022b27925c813b8e5ef/src/determination.c).\n",
      "spglib: ssm_get_exact_positions failed (attempt=0). (line 115, /tmp/pip-install-58cw25xt/spglib_6207849ab7c64022b27925c813b8e5ef/src/site_symmetry.c).\n",
      "spglib: ssm_get_exact_positions failed (attempt=1). (line 115, /tmp/pip-install-58cw25xt/spglib_6207849ab7c64022b27925c813b8e5ef/src/site_symmetry.c).\n",
      "spglib: ssm_get_exact_positions failed (attempt=2). (line 115, /tmp/pip-install-58cw25xt/spglib_6207849ab7c64022b27925c813b8e5ef/src/site_symmetry.c).\n",
      "spglib: ssm_get_exact_positions failed (attempt=3). (line 115, /tmp/pip-install-58cw25xt/spglib_6207849ab7c64022b27925c813b8e5ef/src/site_symmetry.c).\n",
      "spglib: ssm_get_exact_positions failed (attempt=4). (line 115, /tmp/pip-install-58cw25xt/spglib_6207849ab7c64022b27925c813b8e5ef/src/site_symmetry.c).\n",
      "spglib: ssm_get_exact_positions failed. (line 479, /tmp/pip-install-58cw25xt/spglib_6207849ab7c64022b27925c813b8e5ef/src/refinement.c).\n",
      "spglib: get_bravais_exact_positions_and_lattice failed. (line 336, /tmp/pip-install-58cw25xt/spglib_6207849ab7c64022b27925c813b8e5ef/src/refinement.c).\n",
      "spglib: ref_get_exact_structure_and_symmetry failed. (line 82, /tmp/pip-install-58cw25xt/spglib_6207849ab7c64022b27925c813b8e5ef/src/determination.c).\n",
      "spglib: ssm_get_exact_positions failed (attempt=0). (line 115, /tmp/pip-install-58cw25xt/spglib_6207849ab7c64022b27925c813b8e5ef/src/site_symmetry.c).\n",
      "spglib: ssm_get_exact_positions failed (attempt=1). (line 115, /tmp/pip-install-58cw25xt/spglib_6207849ab7c64022b27925c813b8e5ef/src/site_symmetry.c).\n",
      "spglib: ssm_get_exact_positions failed (attempt=2). (line 115, /tmp/pip-install-58cw25xt/spglib_6207849ab7c64022b27925c813b8e5ef/src/site_symmetry.c).\n",
      "spglib: ssm_get_exact_positions failed (attempt=3). (line 115, /tmp/pip-install-58cw25xt/spglib_6207849ab7c64022b27925c813b8e5ef/src/site_symmetry.c).\n",
      "spglib: ssm_get_exact_positions failed (attempt=4). (line 115, /tmp/pip-install-58cw25xt/spglib_6207849ab7c64022b27925c813b8e5ef/src/site_symmetry.c).\n",
      "spglib: ssm_get_exact_positions failed. (line 479, /tmp/pip-install-58cw25xt/spglib_6207849ab7c64022b27925c813b8e5ef/src/refinement.c).\n",
      "spglib: get_bravais_exact_positions_and_lattice failed. (line 336, /tmp/pip-install-58cw25xt/spglib_6207849ab7c64022b27925c813b8e5ef/src/refinement.c).\n",
      "spglib: ref_get_exact_structure_and_symmetry failed. (line 82, /tmp/pip-install-58cw25xt/spglib_6207849ab7c64022b27925c813b8e5ef/src/determination.c).\n",
      "spglib: ssm_get_exact_positions failed (attempt=0). (line 115, /tmp/pip-install-58cw25xt/spglib_6207849ab7c64022b27925c813b8e5ef/src/site_symmetry.c).\n",
      "spglib: ssm_get_exact_positions failed (attempt=1). (line 115, /tmp/pip-install-58cw25xt/spglib_6207849ab7c64022b27925c813b8e5ef/src/site_symmetry.c).\n",
      "spglib: ssm_get_exact_positions failed (attempt=2). (line 115, /tmp/pip-install-58cw25xt/spglib_6207849ab7c64022b27925c813b8e5ef/src/site_symmetry.c).\n",
      "spglib: ssm_get_exact_positions failed (attempt=3). (line 115, /tmp/pip-install-58cw25xt/spglib_6207849ab7c64022b27925c813b8e5ef/src/site_symmetry.c).\n",
      "spglib: ssm_get_exact_positions failed (attempt=4). (line 115, /tmp/pip-install-58cw25xt/spglib_6207849ab7c64022b27925c813b8e5ef/src/site_symmetry.c).\n",
      "spglib: ssm_get_exact_positions failed. (line 479, /tmp/pip-install-58cw25xt/spglib_6207849ab7c64022b27925c813b8e5ef/src/refinement.c).\n",
      "spglib: get_bravais_exact_positions_and_lattice failed. (line 336, /tmp/pip-install-58cw25xt/spglib_6207849ab7c64022b27925c813b8e5ef/src/refinement.c).\n",
      "spglib: ref_get_exact_structure_and_symmetry failed. (line 82, /tmp/pip-install-58cw25xt/spglib_6207849ab7c64022b27925c813b8e5ef/src/determination.c).\n",
      "spglib: ssm_get_exact_positions failed (attempt=0). (line 115, /tmp/pip-install-58cw25xt/spglib_6207849ab7c64022b27925c813b8e5ef/src/site_symmetry.c).\n",
      "spglib: ssm_get_exact_positions failed (attempt=1). (line 115, /tmp/pip-install-58cw25xt/spglib_6207849ab7c64022b27925c813b8e5ef/src/site_symmetry.c).\n",
      "spglib: ssm_get_exact_positions failed (attempt=2). (line 115, /tmp/pip-install-58cw25xt/spglib_6207849ab7c64022b27925c813b8e5ef/src/site_symmetry.c).\n",
      "spglib: ssm_get_exact_positions failed (attempt=3). (line 115, /tmp/pip-install-58cw25xt/spglib_6207849ab7c64022b27925c813b8e5ef/src/site_symmetry.c).\n",
      "spglib: ssm_get_exact_positions failed (attempt=4). (line 115, /tmp/pip-install-58cw25xt/spglib_6207849ab7c64022b27925c813b8e5ef/src/site_symmetry.c).\n",
      "spglib: ssm_get_exact_positions failed. (line 479, /tmp/pip-install-58cw25xt/spglib_6207849ab7c64022b27925c813b8e5ef/src/refinement.c).\n",
      "spglib: get_bravais_exact_positions_and_lattice failed. (line 336, /tmp/pip-install-58cw25xt/spglib_6207849ab7c64022b27925c813b8e5ef/src/refinement.c).\n",
      "spglib: ref_get_exact_structure_and_symmetry failed. (line 82, /tmp/pip-install-58cw25xt/spglib_6207849ab7c64022b27925c813b8e5ef/src/determination.c).\n",
      "spglib: ssm_get_exact_positions failed (attempt=0). (line 115, /tmp/pip-install-58cw25xt/spglib_6207849ab7c64022b27925c813b8e5ef/src/site_symmetry.c).\n",
      "spglib: ssm_get_exact_positions failed (attempt=1). (line 115, /tmp/pip-install-58cw25xt/spglib_6207849ab7c64022b27925c813b8e5ef/src/site_symmetry.c).\n",
      "spglib: ssm_get_exact_positions failed (attempt=2). (line 115, /tmp/pip-install-58cw25xt/spglib_6207849ab7c64022b27925c813b8e5ef/src/site_symmetry.c).\n",
      "spglib: ssm_get_exact_positions failed (attempt=3). (line 115, /tmp/pip-install-58cw25xt/spglib_6207849ab7c64022b27925c813b8e5ef/src/site_symmetry.c).\n",
      "spglib: ssm_get_exact_positions failed (attempt=4). (line 115, /tmp/pip-install-58cw25xt/spglib_6207849ab7c64022b27925c813b8e5ef/src/site_symmetry.c).\n",
      "spglib: ssm_get_exact_positions failed. (line 479, /tmp/pip-install-58cw25xt/spglib_6207849ab7c64022b27925c813b8e5ef/src/refinement.c).\n",
      "spglib: get_bravais_exact_positions_and_lattice failed. (line 336, /tmp/pip-install-58cw25xt/spglib_6207849ab7c64022b27925c813b8e5ef/src/refinement.c).\n",
      "spglib: ref_get_exact_structure_and_symmetry failed. (line 82, /tmp/pip-install-58cw25xt/spglib_6207849ab7c64022b27925c813b8e5ef/src/determination.c).\n",
      "spglib: ssm_get_exact_positions failed (attempt=0). (line 115, /tmp/pip-install-58cw25xt/spglib_6207849ab7c64022b27925c813b8e5ef/src/site_symmetry.c).\n",
      "spglib: ssm_get_exact_positions failed (attempt=1). (line 115, /tmp/pip-install-58cw25xt/spglib_6207849ab7c64022b27925c813b8e5ef/src/site_symmetry.c).\n",
      "spglib: ssm_get_exact_positions failed (attempt=2). (line 115, /tmp/pip-install-58cw25xt/spglib_6207849ab7c64022b27925c813b8e5ef/src/site_symmetry.c).\n",
      "spglib: ssm_get_exact_positions failed (attempt=3). (line 115, /tmp/pip-install-58cw25xt/spglib_6207849ab7c64022b27925c813b8e5ef/src/site_symmetry.c).\n",
      "spglib: ssm_get_exact_positions failed (attempt=4). (line 115, /tmp/pip-install-58cw25xt/spglib_6207849ab7c64022b27925c813b8e5ef/src/site_symmetry.c).\n",
      "spglib: ssm_get_exact_positions failed. (line 479, /tmp/pip-install-58cw25xt/spglib_6207849ab7c64022b27925c813b8e5ef/src/refinement.c).\n",
      "spglib: get_bravais_exact_positions_and_lattice failed. (line 336, /tmp/pip-install-58cw25xt/spglib_6207849ab7c64022b27925c813b8e5ef/src/refinement.c).\n",
      "spglib: ref_get_exact_structure_and_symmetry failed. (line 82, /tmp/pip-install-58cw25xt/spglib_6207849ab7c64022b27925c813b8e5ef/src/determination.c).\n",
      "spglib: ssm_get_exact_positions failed (attempt=0). (line 115, /tmp/pip-install-58cw25xt/spglib_6207849ab7c64022b27925c813b8e5ef/src/site_symmetry.c).\n",
      "spglib: ssm_get_exact_positions failed (attempt=1). (line 115, /tmp/pip-install-58cw25xt/spglib_6207849ab7c64022b27925c813b8e5ef/src/site_symmetry.c).\n",
      "spglib: ssm_get_exact_positions failed (attempt=2). (line 115, /tmp/pip-install-58cw25xt/spglib_6207849ab7c64022b27925c813b8e5ef/src/site_symmetry.c).\n",
      "spglib: ssm_get_exact_positions failed (attempt=3). (line 115, /tmp/pip-install-58cw25xt/spglib_6207849ab7c64022b27925c813b8e5ef/src/site_symmetry.c).\n",
      "spglib: ssm_get_exact_positions failed (attempt=4). (line 115, /tmp/pip-install-58cw25xt/spglib_6207849ab7c64022b27925c813b8e5ef/src/site_symmetry.c).\n",
      "spglib: ssm_get_exact_positions failed. (line 479, /tmp/pip-install-58cw25xt/spglib_6207849ab7c64022b27925c813b8e5ef/src/refinement.c).\n",
      "spglib: get_bravais_exact_positions_and_lattice failed. (line 336, /tmp/pip-install-58cw25xt/spglib_6207849ab7c64022b27925c813b8e5ef/src/refinement.c).\n",
      "spglib: ref_get_exact_structure_and_symmetry failed. (line 82, /tmp/pip-install-58cw25xt/spglib_6207849ab7c64022b27925c813b8e5ef/src/determination.c).\n",
      "spglib: ssm_get_exact_positions failed (attempt=0). (line 115, /tmp/pip-install-58cw25xt/spglib_6207849ab7c64022b27925c813b8e5ef/src/site_symmetry.c).\n",
      "spglib: ssm_get_exact_positions failed (attempt=1). (line 115, /tmp/pip-install-58cw25xt/spglib_6207849ab7c64022b27925c813b8e5ef/src/site_symmetry.c).\n",
      "spglib: ssm_get_exact_positions failed (attempt=2). (line 115, /tmp/pip-install-58cw25xt/spglib_6207849ab7c64022b27925c813b8e5ef/src/site_symmetry.c).\n",
      "spglib: ssm_get_exact_positions failed (attempt=3). (line 115, /tmp/pip-install-58cw25xt/spglib_6207849ab7c64022b27925c813b8e5ef/src/site_symmetry.c).\n",
      "spglib: ssm_get_exact_positions failed (attempt=4). (line 115, /tmp/pip-install-58cw25xt/spglib_6207849ab7c64022b27925c813b8e5ef/src/site_symmetry.c).\n",
      "spglib: ssm_get_exact_positions failed. (line 479, /tmp/pip-install-58cw25xt/spglib_6207849ab7c64022b27925c813b8e5ef/src/refinement.c).\n",
      "spglib: get_bravais_exact_positions_and_lattice failed. (line 336, /tmp/pip-install-58cw25xt/spglib_6207849ab7c64022b27925c813b8e5ef/src/refinement.c).\n",
      "spglib: ref_get_exact_structure_and_symmetry failed. (line 82, /tmp/pip-install-58cw25xt/spglib_6207849ab7c64022b27925c813b8e5ef/src/determination.c).\n",
      "spglib: ssm_get_exact_positions failed (attempt=0). (line 115, /tmp/pip-install-58cw25xt/spglib_6207849ab7c64022b27925c813b8e5ef/src/site_symmetry.c).\n",
      "spglib: ssm_get_exact_positions failed (attempt=1). (line 115, /tmp/pip-install-58cw25xt/spglib_6207849ab7c64022b27925c813b8e5ef/src/site_symmetry.c).\n",
      "spglib: ssm_get_exact_positions failed (attempt=2). (line 115, /tmp/pip-install-58cw25xt/spglib_6207849ab7c64022b27925c813b8e5ef/src/site_symmetry.c).\n",
      "spglib: ssm_get_exact_positions failed (attempt=3). (line 115, /tmp/pip-install-58cw25xt/spglib_6207849ab7c64022b27925c813b8e5ef/src/site_symmetry.c).\n",
      "spglib: ssm_get_exact_positions failed (attempt=4). (line 115, /tmp/pip-install-58cw25xt/spglib_6207849ab7c64022b27925c813b8e5ef/src/site_symmetry.c).\n",
      "spglib: ssm_get_exact_positions failed. (line 479, /tmp/pip-install-58cw25xt/spglib_6207849ab7c64022b27925c813b8e5ef/src/refinement.c).\n",
      "spglib: get_bravais_exact_positions_and_lattice failed. (line 336, /tmp/pip-install-58cw25xt/spglib_6207849ab7c64022b27925c813b8e5ef/src/refinement.c).\n",
      "spglib: ref_get_exact_structure_and_symmetry failed. (line 82, /tmp/pip-install-58cw25xt/spglib_6207849ab7c64022b27925c813b8e5ef/src/determination.c).\n",
      "spglib: ssm_get_exact_positions failed (attempt=0). (line 115, /tmp/pip-install-58cw25xt/spglib_6207849ab7c64022b27925c813b8e5ef/src/site_symmetry.c).\n",
      "spglib: ssm_get_exact_positions failed (attempt=1). (line 115, /tmp/pip-install-58cw25xt/spglib_6207849ab7c64022b27925c813b8e5ef/src/site_symmetry.c).\n",
      "spglib: ssm_get_exact_positions failed (attempt=2). (line 115, /tmp/pip-install-58cw25xt/spglib_6207849ab7c64022b27925c813b8e5ef/src/site_symmetry.c).\n",
      "spglib: ssm_get_exact_positions failed (attempt=3). (line 115, /tmp/pip-install-58cw25xt/spglib_6207849ab7c64022b27925c813b8e5ef/src/site_symmetry.c).\n",
      "spglib: ssm_get_exact_positions failed (attempt=4). (line 115, /tmp/pip-install-58cw25xt/spglib_6207849ab7c64022b27925c813b8e5ef/src/site_symmetry.c).\n",
      "spglib: ssm_get_exact_positions failed. (line 479, /tmp/pip-install-58cw25xt/spglib_6207849ab7c64022b27925c813b8e5ef/src/refinement.c).\n",
      "spglib: get_bravais_exact_positions_and_lattice failed. (line 336, /tmp/pip-install-58cw25xt/spglib_6207849ab7c64022b27925c813b8e5ef/src/refinement.c).\n",
      "spglib: ref_get_exact_structure_and_symmetry failed. (line 82, /tmp/pip-install-58cw25xt/spglib_6207849ab7c64022b27925c813b8e5ef/src/determination.c).\n",
      "spglib: ssm_get_exact_positions failed (attempt=0). (line 115, /tmp/pip-install-58cw25xt/spglib_6207849ab7c64022b27925c813b8e5ef/src/site_symmetry.c).\n",
      "spglib: ssm_get_exact_positions failed (attempt=1). (line 115, /tmp/pip-install-58cw25xt/spglib_6207849ab7c64022b27925c813b8e5ef/src/site_symmetry.c).\n",
      "spglib: ssm_get_exact_positions failed (attempt=2). (line 115, /tmp/pip-install-58cw25xt/spglib_6207849ab7c64022b27925c813b8e5ef/src/site_symmetry.c).\n",
      "spglib: ssm_get_exact_positions failed (attempt=3). (line 115, /tmp/pip-install-58cw25xt/spglib_6207849ab7c64022b27925c813b8e5ef/src/site_symmetry.c).\n",
      "spglib: ssm_get_exact_positions failed (attempt=4). (line 115, /tmp/pip-install-58cw25xt/spglib_6207849ab7c64022b27925c813b8e5ef/src/site_symmetry.c).\n",
      "spglib: ssm_get_exact_positions failed. (line 479, /tmp/pip-install-58cw25xt/spglib_6207849ab7c64022b27925c813b8e5ef/src/refinement.c).\n",
      "spglib: get_bravais_exact_positions_and_lattice failed. (line 336, /tmp/pip-install-58cw25xt/spglib_6207849ab7c64022b27925c813b8e5ef/src/refinement.c).\n",
      "spglib: ref_get_exact_structure_and_symmetry failed. (line 82, /tmp/pip-install-58cw25xt/spglib_6207849ab7c64022b27925c813b8e5ef/src/determination.c).\n",
      "spglib: ssm_get_exact_positions failed (attempt=0). (line 115, /tmp/pip-install-58cw25xt/spglib_6207849ab7c64022b27925c813b8e5ef/src/site_symmetry.c).\n",
      "spglib: ssm_get_exact_positions failed (attempt=1). (line 115, /tmp/pip-install-58cw25xt/spglib_6207849ab7c64022b27925c813b8e5ef/src/site_symmetry.c).\n",
      "spglib: ssm_get_exact_positions failed (attempt=2). (line 115, /tmp/pip-install-58cw25xt/spglib_6207849ab7c64022b27925c813b8e5ef/src/site_symmetry.c).\n",
      "spglib: ssm_get_exact_positions failed (attempt=3). (line 115, /tmp/pip-install-58cw25xt/spglib_6207849ab7c64022b27925c813b8e5ef/src/site_symmetry.c).\n",
      "spglib: ssm_get_exact_positions failed (attempt=4). (line 115, /tmp/pip-install-58cw25xt/spglib_6207849ab7c64022b27925c813b8e5ef/src/site_symmetry.c).\n",
      "spglib: ssm_get_exact_positions failed. (line 479, /tmp/pip-install-58cw25xt/spglib_6207849ab7c64022b27925c813b8e5ef/src/refinement.c).\n",
      "spglib: get_bravais_exact_positions_and_lattice failed. (line 336, /tmp/pip-install-58cw25xt/spglib_6207849ab7c64022b27925c813b8e5ef/src/refinement.c).\n",
      "spglib: ref_get_exact_structure_and_symmetry failed. (line 82, /tmp/pip-install-58cw25xt/spglib_6207849ab7c64022b27925c813b8e5ef/src/determination.c).\n",
      "spglib: ssm_get_exact_positions failed (attempt=0). (line 115, /tmp/pip-install-58cw25xt/spglib_6207849ab7c64022b27925c813b8e5ef/src/site_symmetry.c).\n",
      "spglib: ssm_get_exact_positions failed (attempt=1). (line 115, /tmp/pip-install-58cw25xt/spglib_6207849ab7c64022b27925c813b8e5ef/src/site_symmetry.c).\n",
      "spglib: ssm_get_exact_positions failed (attempt=2). (line 115, /tmp/pip-install-58cw25xt/spglib_6207849ab7c64022b27925c813b8e5ef/src/site_symmetry.c).\n",
      "spglib: ssm_get_exact_positions failed (attempt=3). (line 115, /tmp/pip-install-58cw25xt/spglib_6207849ab7c64022b27925c813b8e5ef/src/site_symmetry.c).\n",
      "spglib: ssm_get_exact_positions failed (attempt=4). (line 115, /tmp/pip-install-58cw25xt/spglib_6207849ab7c64022b27925c813b8e5ef/src/site_symmetry.c).\n",
      "spglib: ssm_get_exact_positions failed. (line 479, /tmp/pip-install-58cw25xt/spglib_6207849ab7c64022b27925c813b8e5ef/src/refinement.c).\n",
      "spglib: get_bravais_exact_positions_and_lattice failed. (line 336, /tmp/pip-install-58cw25xt/spglib_6207849ab7c64022b27925c813b8e5ef/src/refinement.c).\n",
      "spglib: ref_get_exact_structure_and_symmetry failed. (line 82, /tmp/pip-install-58cw25xt/spglib_6207849ab7c64022b27925c813b8e5ef/src/determination.c).\n",
      "spglib: ssm_get_exact_positions failed (attempt=0). (line 115, /tmp/pip-install-58cw25xt/spglib_6207849ab7c64022b27925c813b8e5ef/src/site_symmetry.c).\n",
      "spglib: ssm_get_exact_positions failed (attempt=1). (line 115, /tmp/pip-install-58cw25xt/spglib_6207849ab7c64022b27925c813b8e5ef/src/site_symmetry.c).\n",
      "spglib: ssm_get_exact_positions failed (attempt=2). (line 115, /tmp/pip-install-58cw25xt/spglib_6207849ab7c64022b27925c813b8e5ef/src/site_symmetry.c).\n",
      "spglib: ssm_get_exact_positions failed (attempt=3). (line 115, /tmp/pip-install-58cw25xt/spglib_6207849ab7c64022b27925c813b8e5ef/src/site_symmetry.c).\n",
      "spglib: ssm_get_exact_positions failed (attempt=4). (line 115, /tmp/pip-install-58cw25xt/spglib_6207849ab7c64022b27925c813b8e5ef/src/site_symmetry.c).\n",
      "spglib: ssm_get_exact_positions failed. (line 479, /tmp/pip-install-58cw25xt/spglib_6207849ab7c64022b27925c813b8e5ef/src/refinement.c).\n",
      "spglib: get_bravais_exact_positions_and_lattice failed. (line 336, /tmp/pip-install-58cw25xt/spglib_6207849ab7c64022b27925c813b8e5ef/src/refinement.c).\n",
      "spglib: ref_get_exact_structure_and_symmetry failed. (line 82, /tmp/pip-install-58cw25xt/spglib_6207849ab7c64022b27925c813b8e5ef/src/determination.c).\n",
      "spglib: ssm_get_exact_positions failed (attempt=0). (line 115, /tmp/pip-install-58cw25xt/spglib_6207849ab7c64022b27925c813b8e5ef/src/site_symmetry.c).\n",
      "spglib: ssm_get_exact_positions failed (attempt=1). (line 115, /tmp/pip-install-58cw25xt/spglib_6207849ab7c64022b27925c813b8e5ef/src/site_symmetry.c).\n",
      "spglib: ssm_get_exact_positions failed (attempt=2). (line 115, /tmp/pip-install-58cw25xt/spglib_6207849ab7c64022b27925c813b8e5ef/src/site_symmetry.c).\n",
      "spglib: ssm_get_exact_positions failed (attempt=3). (line 115, /tmp/pip-install-58cw25xt/spglib_6207849ab7c64022b27925c813b8e5ef/src/site_symmetry.c).\n",
      "spglib: ssm_get_exact_positions failed (attempt=4). (line 115, /tmp/pip-install-58cw25xt/spglib_6207849ab7c64022b27925c813b8e5ef/src/site_symmetry.c).\n",
      "spglib: ssm_get_exact_positions failed. (line 479, /tmp/pip-install-58cw25xt/spglib_6207849ab7c64022b27925c813b8e5ef/src/refinement.c).\n",
      "spglib: get_bravais_exact_positions_and_lattice failed. (line 336, /tmp/pip-install-58cw25xt/spglib_6207849ab7c64022b27925c813b8e5ef/src/refinement.c).\n",
      "spglib: ref_get_exact_structure_and_symmetry failed. (line 82, /tmp/pip-install-58cw25xt/spglib_6207849ab7c64022b27925c813b8e5ef/src/determination.c).\n",
      "spglib: ssm_get_exact_positions failed (attempt=0). (line 115, /tmp/pip-install-58cw25xt/spglib_6207849ab7c64022b27925c813b8e5ef/src/site_symmetry.c).\n",
      "spglib: ssm_get_exact_positions failed (attempt=1). (line 115, /tmp/pip-install-58cw25xt/spglib_6207849ab7c64022b27925c813b8e5ef/src/site_symmetry.c).\n",
      "spglib: ssm_get_exact_positions failed (attempt=2). (line 115, /tmp/pip-install-58cw25xt/spglib_6207849ab7c64022b27925c813b8e5ef/src/site_symmetry.c).\n",
      "spglib: ssm_get_exact_positions failed (attempt=3). (line 115, /tmp/pip-install-58cw25xt/spglib_6207849ab7c64022b27925c813b8e5ef/src/site_symmetry.c).\n",
      "spglib: ssm_get_exact_positions failed (attempt=4). (line 115, /tmp/pip-install-58cw25xt/spglib_6207849ab7c64022b27925c813b8e5ef/src/site_symmetry.c).\n",
      "spglib: ssm_get_exact_positions failed. (line 479, /tmp/pip-install-58cw25xt/spglib_6207849ab7c64022b27925c813b8e5ef/src/refinement.c).\n",
      "spglib: get_bravais_exact_positions_and_lattice failed. (line 336, /tmp/pip-install-58cw25xt/spglib_6207849ab7c64022b27925c813b8e5ef/src/refinement.c).\n",
      "spglib: ref_get_exact_structure_and_symmetry failed. (line 82, /tmp/pip-install-58cw25xt/spglib_6207849ab7c64022b27925c813b8e5ef/src/determination.c).\n",
      "spglib: ssm_get_exact_positions failed (attempt=0). (line 115, /tmp/pip-install-58cw25xt/spglib_6207849ab7c64022b27925c813b8e5ef/src/site_symmetry.c).\n",
      "spglib: ssm_get_exact_positions failed (attempt=1). (line 115, /tmp/pip-install-58cw25xt/spglib_6207849ab7c64022b27925c813b8e5ef/src/site_symmetry.c).\n",
      "spglib: ssm_get_exact_positions failed (attempt=2). (line 115, /tmp/pip-install-58cw25xt/spglib_6207849ab7c64022b27925c813b8e5ef/src/site_symmetry.c).\n",
      "spglib: ssm_get_exact_positions failed (attempt=3). (line 115, /tmp/pip-install-58cw25xt/spglib_6207849ab7c64022b27925c813b8e5ef/src/site_symmetry.c).\n",
      "spglib: ssm_get_exact_positions failed (attempt=4). (line 115, /tmp/pip-install-58cw25xt/spglib_6207849ab7c64022b27925c813b8e5ef/src/site_symmetry.c).\n",
      "spglib: ssm_get_exact_positions failed. (line 479, /tmp/pip-install-58cw25xt/spglib_6207849ab7c64022b27925c813b8e5ef/src/refinement.c).\n",
      "spglib: get_bravais_exact_positions_and_lattice failed. (line 336, /tmp/pip-install-58cw25xt/spglib_6207849ab7c64022b27925c813b8e5ef/src/refinement.c).\n",
      "spglib: ref_get_exact_structure_and_symmetry failed. (line 82, /tmp/pip-install-58cw25xt/spglib_6207849ab7c64022b27925c813b8e5ef/src/determination.c).\n",
      "spglib: ssm_get_exact_positions failed (attempt=0). (line 115, /tmp/pip-install-58cw25xt/spglib_6207849ab7c64022b27925c813b8e5ef/src/site_symmetry.c).\n",
      "spglib: ssm_get_exact_positions failed (attempt=1). (line 115, /tmp/pip-install-58cw25xt/spglib_6207849ab7c64022b27925c813b8e5ef/src/site_symmetry.c).\n",
      "spglib: ssm_get_exact_positions failed (attempt=2). (line 115, /tmp/pip-install-58cw25xt/spglib_6207849ab7c64022b27925c813b8e5ef/src/site_symmetry.c).\n",
      "spglib: ssm_get_exact_positions failed (attempt=3). (line 115, /tmp/pip-install-58cw25xt/spglib_6207849ab7c64022b27925c813b8e5ef/src/site_symmetry.c).\n",
      "spglib: ssm_get_exact_positions failed (attempt=4). (line 115, /tmp/pip-install-58cw25xt/spglib_6207849ab7c64022b27925c813b8e5ef/src/site_symmetry.c).\n",
      "spglib: ssm_get_exact_positions failed. (line 479, /tmp/pip-install-58cw25xt/spglib_6207849ab7c64022b27925c813b8e5ef/src/refinement.c).\n",
      "spglib: get_bravais_exact_positions_and_lattice failed. (line 336, /tmp/pip-install-58cw25xt/spglib_6207849ab7c64022b27925c813b8e5ef/src/refinement.c).\n",
      "spglib: ref_get_exact_structure_and_symmetry failed. (line 82, /tmp/pip-install-58cw25xt/spglib_6207849ab7c64022b27925c813b8e5ef/src/determination.c).\n",
      "spglib: ssm_get_exact_positions failed (attempt=0). (line 115, /tmp/pip-install-58cw25xt/spglib_6207849ab7c64022b27925c813b8e5ef/src/site_symmetry.c).\n",
      "spglib: ssm_get_exact_positions failed (attempt=1). (line 115, /tmp/pip-install-58cw25xt/spglib_6207849ab7c64022b27925c813b8e5ef/src/site_symmetry.c).\n",
      "spglib: ssm_get_exact_positions failed (attempt=2). (line 115, /tmp/pip-install-58cw25xt/spglib_6207849ab7c64022b27925c813b8e5ef/src/site_symmetry.c).\n",
      "spglib: ssm_get_exact_positions failed (attempt=3). (line 115, /tmp/pip-install-58cw25xt/spglib_6207849ab7c64022b27925c813b8e5ef/src/site_symmetry.c).\n",
      "spglib: ssm_get_exact_positions failed (attempt=4). (line 115, /tmp/pip-install-58cw25xt/spglib_6207849ab7c64022b27925c813b8e5ef/src/site_symmetry.c).\n",
      "spglib: ssm_get_exact_positions failed. (line 479, /tmp/pip-install-58cw25xt/spglib_6207849ab7c64022b27925c813b8e5ef/src/refinement.c).\n",
      "spglib: get_bravais_exact_positions_and_lattice failed. (line 336, /tmp/pip-install-58cw25xt/spglib_6207849ab7c64022b27925c813b8e5ef/src/refinement.c).\n",
      "spglib: ref_get_exact_structure_and_symmetry failed. (line 82, /tmp/pip-install-58cw25xt/spglib_6207849ab7c64022b27925c813b8e5ef/src/determination.c).\n",
      "spglib: ssm_get_exact_positions failed (attempt=0). (line 115, /tmp/pip-install-58cw25xt/spglib_6207849ab7c64022b27925c813b8e5ef/src/site_symmetry.c).\n",
      "spglib: ssm_get_exact_positions failed (attempt=1). (line 115, /tmp/pip-install-58cw25xt/spglib_6207849ab7c64022b27925c813b8e5ef/src/site_symmetry.c).\n",
      "spglib: ssm_get_exact_positions failed (attempt=2). (line 115, /tmp/pip-install-58cw25xt/spglib_6207849ab7c64022b27925c813b8e5ef/src/site_symmetry.c).\n",
      "spglib: ssm_get_exact_positions failed (attempt=3). (line 115, /tmp/pip-install-58cw25xt/spglib_6207849ab7c64022b27925c813b8e5ef/src/site_symmetry.c).\n",
      "spglib: ssm_get_exact_positions failed (attempt=4). (line 115, /tmp/pip-install-58cw25xt/spglib_6207849ab7c64022b27925c813b8e5ef/src/site_symmetry.c).\n",
      "spglib: ssm_get_exact_positions failed. (line 479, /tmp/pip-install-58cw25xt/spglib_6207849ab7c64022b27925c813b8e5ef/src/refinement.c).\n",
      "spglib: get_bravais_exact_positions_and_lattice failed. (line 336, /tmp/pip-install-58cw25xt/spglib_6207849ab7c64022b27925c813b8e5ef/src/refinement.c).\n",
      "spglib: ref_get_exact_structure_and_symmetry failed. (line 82, /tmp/pip-install-58cw25xt/spglib_6207849ab7c64022b27925c813b8e5ef/src/determination.c).\n",
      "spglib: ssm_get_exact_positions failed (attempt=0). (line 115, /tmp/pip-install-58cw25xt/spglib_6207849ab7c64022b27925c813b8e5ef/src/site_symmetry.c).\n",
      "spglib: ssm_get_exact_positions failed (attempt=1). (line 115, /tmp/pip-install-58cw25xt/spglib_6207849ab7c64022b27925c813b8e5ef/src/site_symmetry.c).\n",
      "spglib: ssm_get_exact_positions failed (attempt=2). (line 115, /tmp/pip-install-58cw25xt/spglib_6207849ab7c64022b27925c813b8e5ef/src/site_symmetry.c).\n",
      "spglib: ssm_get_exact_positions failed (attempt=3). (line 115, /tmp/pip-install-58cw25xt/spglib_6207849ab7c64022b27925c813b8e5ef/src/site_symmetry.c).\n",
      "spglib: ssm_get_exact_positions failed (attempt=4). (line 115, /tmp/pip-install-58cw25xt/spglib_6207849ab7c64022b27925c813b8e5ef/src/site_symmetry.c).\n",
      "spglib: ssm_get_exact_positions failed. (line 479, /tmp/pip-install-58cw25xt/spglib_6207849ab7c64022b27925c813b8e5ef/src/refinement.c).\n",
      "spglib: get_bravais_exact_positions_and_lattice failed. (line 336, /tmp/pip-install-58cw25xt/spglib_6207849ab7c64022b27925c813b8e5ef/src/refinement.c).\n",
      "spglib: ref_get_exact_structure_and_symmetry failed. (line 82, /tmp/pip-install-58cw25xt/spglib_6207849ab7c64022b27925c813b8e5ef/src/determination.c).\n",
      "spglib: ssm_get_exact_positions failed (attempt=0). (line 115, /tmp/pip-install-58cw25xt/spglib_6207849ab7c64022b27925c813b8e5ef/src/site_symmetry.c).\n",
      "spglib: ssm_get_exact_positions failed (attempt=1). (line 115, /tmp/pip-install-58cw25xt/spglib_6207849ab7c64022b27925c813b8e5ef/src/site_symmetry.c).\n",
      "spglib: ssm_get_exact_positions failed (attempt=2). (line 115, /tmp/pip-install-58cw25xt/spglib_6207849ab7c64022b27925c813b8e5ef/src/site_symmetry.c).\n",
      "spglib: ssm_get_exact_positions failed (attempt=3). (line 115, /tmp/pip-install-58cw25xt/spglib_6207849ab7c64022b27925c813b8e5ef/src/site_symmetry.c).\n",
      "spglib: ssm_get_exact_positions failed (attempt=4). (line 115, /tmp/pip-install-58cw25xt/spglib_6207849ab7c64022b27925c813b8e5ef/src/site_symmetry.c).\n",
      "spglib: ssm_get_exact_positions failed. (line 479, /tmp/pip-install-58cw25xt/spglib_6207849ab7c64022b27925c813b8e5ef/src/refinement.c).\n",
      "spglib: get_bravais_exact_positions_and_lattice failed. (line 336, /tmp/pip-install-58cw25xt/spglib_6207849ab7c64022b27925c813b8e5ef/src/refinement.c).\n",
      "spglib: ref_get_exact_structure_and_symmetry failed. (line 82, /tmp/pip-install-58cw25xt/spglib_6207849ab7c64022b27925c813b8e5ef/src/determination.c).\n",
      "spglib: ssm_get_exact_positions failed (attempt=0). (line 115, /tmp/pip-install-58cw25xt/spglib_6207849ab7c64022b27925c813b8e5ef/src/site_symmetry.c).\n",
      "spglib: ssm_get_exact_positions failed (attempt=1). (line 115, /tmp/pip-install-58cw25xt/spglib_6207849ab7c64022b27925c813b8e5ef/src/site_symmetry.c).\n",
      "spglib: ssm_get_exact_positions failed (attempt=2). (line 115, /tmp/pip-install-58cw25xt/spglib_6207849ab7c64022b27925c813b8e5ef/src/site_symmetry.c).\n",
      "spglib: ssm_get_exact_positions failed (attempt=3). (line 115, /tmp/pip-install-58cw25xt/spglib_6207849ab7c64022b27925c813b8e5ef/src/site_symmetry.c).\n",
      "spglib: ssm_get_exact_positions failed (attempt=4). (line 115, /tmp/pip-install-58cw25xt/spglib_6207849ab7c64022b27925c813b8e5ef/src/site_symmetry.c).\n",
      "spglib: ssm_get_exact_positions failed. (line 479, /tmp/pip-install-58cw25xt/spglib_6207849ab7c64022b27925c813b8e5ef/src/refinement.c).\n",
      "spglib: get_bravais_exact_positions_and_lattice failed. (line 336, /tmp/pip-install-58cw25xt/spglib_6207849ab7c64022b27925c813b8e5ef/src/refinement.c).\n",
      "spglib: ref_get_exact_structure_and_symmetry failed. (line 82, /tmp/pip-install-58cw25xt/spglib_6207849ab7c64022b27925c813b8e5ef/src/determination.c).\n",
      "spglib: ssm_get_exact_positions failed (attempt=0). (line 115, /tmp/pip-install-58cw25xt/spglib_6207849ab7c64022b27925c813b8e5ef/src/site_symmetry.c).\n",
      "spglib: ssm_get_exact_positions failed (attempt=1). (line 115, /tmp/pip-install-58cw25xt/spglib_6207849ab7c64022b27925c813b8e5ef/src/site_symmetry.c).\n",
      "spglib: ssm_get_exact_positions failed (attempt=2). (line 115, /tmp/pip-install-58cw25xt/spglib_6207849ab7c64022b27925c813b8e5ef/src/site_symmetry.c).\n",
      "spglib: ssm_get_exact_positions failed (attempt=3). (line 115, /tmp/pip-install-58cw25xt/spglib_6207849ab7c64022b27925c813b8e5ef/src/site_symmetry.c).\n",
      "spglib: ssm_get_exact_positions failed (attempt=4). (line 115, /tmp/pip-install-58cw25xt/spglib_6207849ab7c64022b27925c813b8e5ef/src/site_symmetry.c).\n",
      "spglib: ssm_get_exact_positions failed. (line 479, /tmp/pip-install-58cw25xt/spglib_6207849ab7c64022b27925c813b8e5ef/src/refinement.c).\n",
      "spglib: get_bravais_exact_positions_and_lattice failed. (line 336, /tmp/pip-install-58cw25xt/spglib_6207849ab7c64022b27925c813b8e5ef/src/refinement.c).\n",
      "spglib: ref_get_exact_structure_and_symmetry failed. (line 82, /tmp/pip-install-58cw25xt/spglib_6207849ab7c64022b27925c813b8e5ef/src/determination.c).\n",
      "spglib: ssm_get_exact_positions failed (attempt=0). (line 115, /tmp/pip-install-58cw25xt/spglib_6207849ab7c64022b27925c813b8e5ef/src/site_symmetry.c).\n",
      "spglib: ssm_get_exact_positions failed (attempt=1). (line 115, /tmp/pip-install-58cw25xt/spglib_6207849ab7c64022b27925c813b8e5ef/src/site_symmetry.c).\n",
      "spglib: ssm_get_exact_positions failed (attempt=2). (line 115, /tmp/pip-install-58cw25xt/spglib_6207849ab7c64022b27925c813b8e5ef/src/site_symmetry.c).\n",
      "spglib: ssm_get_exact_positions failed (attempt=3). (line 115, /tmp/pip-install-58cw25xt/spglib_6207849ab7c64022b27925c813b8e5ef/src/site_symmetry.c).\n",
      "spglib: ssm_get_exact_positions failed (attempt=4). (line 115, /tmp/pip-install-58cw25xt/spglib_6207849ab7c64022b27925c813b8e5ef/src/site_symmetry.c).\n",
      "spglib: ssm_get_exact_positions failed. (line 479, /tmp/pip-install-58cw25xt/spglib_6207849ab7c64022b27925c813b8e5ef/src/refinement.c).\n",
      "spglib: get_bravais_exact_positions_and_lattice failed. (line 336, /tmp/pip-install-58cw25xt/spglib_6207849ab7c64022b27925c813b8e5ef/src/refinement.c).\n",
      "spglib: ref_get_exact_structure_and_symmetry failed. (line 82, /tmp/pip-install-58cw25xt/spglib_6207849ab7c64022b27925c813b8e5ef/src/determination.c).\n",
      "spglib: ssm_get_exact_positions failed (attempt=0). (line 115, /tmp/pip-install-58cw25xt/spglib_6207849ab7c64022b27925c813b8e5ef/src/site_symmetry.c).\n",
      "spglib: ssm_get_exact_positions failed (attempt=1). (line 115, /tmp/pip-install-58cw25xt/spglib_6207849ab7c64022b27925c813b8e5ef/src/site_symmetry.c).\n",
      "spglib: ssm_get_exact_positions failed (attempt=2). (line 115, /tmp/pip-install-58cw25xt/spglib_6207849ab7c64022b27925c813b8e5ef/src/site_symmetry.c).\n",
      "spglib: ssm_get_exact_positions failed (attempt=3). (line 115, /tmp/pip-install-58cw25xt/spglib_6207849ab7c64022b27925c813b8e5ef/src/site_symmetry.c).\n",
      "spglib: ssm_get_exact_positions failed (attempt=4). (line 115, /tmp/pip-install-58cw25xt/spglib_6207849ab7c64022b27925c813b8e5ef/src/site_symmetry.c).\n",
      "spglib: ssm_get_exact_positions failed. (line 479, /tmp/pip-install-58cw25xt/spglib_6207849ab7c64022b27925c813b8e5ef/src/refinement.c).\n",
      "spglib: get_bravais_exact_positions_and_lattice failed. (line 336, /tmp/pip-install-58cw25xt/spglib_6207849ab7c64022b27925c813b8e5ef/src/refinement.c).\n",
      "spglib: ref_get_exact_structure_and_symmetry failed. (line 82, /tmp/pip-install-58cw25xt/spglib_6207849ab7c64022b27925c813b8e5ef/src/determination.c).\n",
      "spglib: ssm_get_exact_positions failed (attempt=0). (line 115, /tmp/pip-install-58cw25xt/spglib_6207849ab7c64022b27925c813b8e5ef/src/site_symmetry.c).\n",
      "spglib: ssm_get_exact_positions failed (attempt=1). (line 115, /tmp/pip-install-58cw25xt/spglib_6207849ab7c64022b27925c813b8e5ef/src/site_symmetry.c).\n",
      "spglib: ssm_get_exact_positions failed (attempt=2). (line 115, /tmp/pip-install-58cw25xt/spglib_6207849ab7c64022b27925c813b8e5ef/src/site_symmetry.c).\n",
      "spglib: ssm_get_exact_positions failed (attempt=3). (line 115, /tmp/pip-install-58cw25xt/spglib_6207849ab7c64022b27925c813b8e5ef/src/site_symmetry.c).\n",
      "spglib: ssm_get_exact_positions failed (attempt=4). (line 115, /tmp/pip-install-58cw25xt/spglib_6207849ab7c64022b27925c813b8e5ef/src/site_symmetry.c).\n",
      "spglib: ssm_get_exact_positions failed. (line 479, /tmp/pip-install-58cw25xt/spglib_6207849ab7c64022b27925c813b8e5ef/src/refinement.c).\n",
      "spglib: get_bravais_exact_positions_and_lattice failed. (line 336, /tmp/pip-install-58cw25xt/spglib_6207849ab7c64022b27925c813b8e5ef/src/refinement.c).\n",
      "spglib: ref_get_exact_structure_and_symmetry failed. (line 82, /tmp/pip-install-58cw25xt/spglib_6207849ab7c64022b27925c813b8e5ef/src/determination.c).\n",
      "spglib: ssm_get_exact_positions failed (attempt=0). (line 115, /tmp/pip-install-58cw25xt/spglib_6207849ab7c64022b27925c813b8e5ef/src/site_symmetry.c).\n",
      "spglib: ssm_get_exact_positions failed (attempt=1). (line 115, /tmp/pip-install-58cw25xt/spglib_6207849ab7c64022b27925c813b8e5ef/src/site_symmetry.c).\n",
      "spglib: ssm_get_exact_positions failed (attempt=2). (line 115, /tmp/pip-install-58cw25xt/spglib_6207849ab7c64022b27925c813b8e5ef/src/site_symmetry.c).\n",
      "spglib: ssm_get_exact_positions failed (attempt=3). (line 115, /tmp/pip-install-58cw25xt/spglib_6207849ab7c64022b27925c813b8e5ef/src/site_symmetry.c).\n",
      "spglib: ssm_get_exact_positions failed (attempt=4). (line 115, /tmp/pip-install-58cw25xt/spglib_6207849ab7c64022b27925c813b8e5ef/src/site_symmetry.c).\n",
      "spglib: ssm_get_exact_positions failed. (line 479, /tmp/pip-install-58cw25xt/spglib_6207849ab7c64022b27925c813b8e5ef/src/refinement.c).\n",
      "spglib: get_bravais_exact_positions_and_lattice failed. (line 336, /tmp/pip-install-58cw25xt/spglib_6207849ab7c64022b27925c813b8e5ef/src/refinement.c).\n",
      "spglib: ref_get_exact_structure_and_symmetry failed. (line 82, /tmp/pip-install-58cw25xt/spglib_6207849ab7c64022b27925c813b8e5ef/src/determination.c).\n",
      "spglib: ssm_get_exact_positions failed (attempt=0). (line 115, /tmp/pip-install-58cw25xt/spglib_6207849ab7c64022b27925c813b8e5ef/src/site_symmetry.c).\n",
      "spglib: ssm_get_exact_positions failed (attempt=1). (line 115, /tmp/pip-install-58cw25xt/spglib_6207849ab7c64022b27925c813b8e5ef/src/site_symmetry.c).\n",
      "spglib: ssm_get_exact_positions failed (attempt=2). (line 115, /tmp/pip-install-58cw25xt/spglib_6207849ab7c64022b27925c813b8e5ef/src/site_symmetry.c).\n",
      "spglib: ssm_get_exact_positions failed (attempt=3). (line 115, /tmp/pip-install-58cw25xt/spglib_6207849ab7c64022b27925c813b8e5ef/src/site_symmetry.c).\n",
      "spglib: ssm_get_exact_positions failed (attempt=4). (line 115, /tmp/pip-install-58cw25xt/spglib_6207849ab7c64022b27925c813b8e5ef/src/site_symmetry.c).\n",
      "spglib: ssm_get_exact_positions failed. (line 479, /tmp/pip-install-58cw25xt/spglib_6207849ab7c64022b27925c813b8e5ef/src/refinement.c).\n",
      "spglib: get_bravais_exact_positions_and_lattice failed. (line 336, /tmp/pip-install-58cw25xt/spglib_6207849ab7c64022b27925c813b8e5ef/src/refinement.c).\n",
      "spglib: ref_get_exact_structure_and_symmetry failed. (line 82, /tmp/pip-install-58cw25xt/spglib_6207849ab7c64022b27925c813b8e5ef/src/determination.c).\n",
      "spglib: ssm_get_exact_positions failed (attempt=0). (line 115, /tmp/pip-install-58cw25xt/spglib_6207849ab7c64022b27925c813b8e5ef/src/site_symmetry.c).\n",
      "spglib: ssm_get_exact_positions failed (attempt=1). (line 115, /tmp/pip-install-58cw25xt/spglib_6207849ab7c64022b27925c813b8e5ef/src/site_symmetry.c).\n",
      "spglib: ssm_get_exact_positions failed (attempt=2). (line 115, /tmp/pip-install-58cw25xt/spglib_6207849ab7c64022b27925c813b8e5ef/src/site_symmetry.c).\n",
      "spglib: ssm_get_exact_positions failed (attempt=3). (line 115, /tmp/pip-install-58cw25xt/spglib_6207849ab7c64022b27925c813b8e5ef/src/site_symmetry.c).\n",
      "spglib: ssm_get_exact_positions failed (attempt=4). (line 115, /tmp/pip-install-58cw25xt/spglib_6207849ab7c64022b27925c813b8e5ef/src/site_symmetry.c).\n",
      "spglib: ssm_get_exact_positions failed. (line 479, /tmp/pip-install-58cw25xt/spglib_6207849ab7c64022b27925c813b8e5ef/src/refinement.c).\n",
      "spglib: get_bravais_exact_positions_and_lattice failed. (line 336, /tmp/pip-install-58cw25xt/spglib_6207849ab7c64022b27925c813b8e5ef/src/refinement.c).\n",
      "spglib: ref_get_exact_structure_and_symmetry failed. (line 82, /tmp/pip-install-58cw25xt/spglib_6207849ab7c64022b27925c813b8e5ef/src/determination.c).\n",
      "spglib: ssm_get_exact_positions failed (attempt=0). (line 115, /tmp/pip-install-58cw25xt/spglib_6207849ab7c64022b27925c813b8e5ef/src/site_symmetry.c).\n",
      "spglib: ssm_get_exact_positions failed (attempt=1). (line 115, /tmp/pip-install-58cw25xt/spglib_6207849ab7c64022b27925c813b8e5ef/src/site_symmetry.c).\n",
      "spglib: ssm_get_exact_positions failed (attempt=2). (line 115, /tmp/pip-install-58cw25xt/spglib_6207849ab7c64022b27925c813b8e5ef/src/site_symmetry.c).\n",
      "spglib: ssm_get_exact_positions failed (attempt=3). (line 115, /tmp/pip-install-58cw25xt/spglib_6207849ab7c64022b27925c813b8e5ef/src/site_symmetry.c).\n",
      "spglib: ssm_get_exact_positions failed (attempt=4). (line 115, /tmp/pip-install-58cw25xt/spglib_6207849ab7c64022b27925c813b8e5ef/src/site_symmetry.c).\n",
      "spglib: ssm_get_exact_positions failed. (line 479, /tmp/pip-install-58cw25xt/spglib_6207849ab7c64022b27925c813b8e5ef/src/refinement.c).\n",
      "spglib: get_bravais_exact_positions_and_lattice failed. (line 336, /tmp/pip-install-58cw25xt/spglib_6207849ab7c64022b27925c813b8e5ef/src/refinement.c).\n",
      "spglib: ref_get_exact_structure_and_symmetry failed. (line 82, /tmp/pip-install-58cw25xt/spglib_6207849ab7c64022b27925c813b8e5ef/src/determination.c).\n",
      "spglib: ssm_get_exact_positions failed (attempt=0). (line 115, /tmp/pip-install-58cw25xt/spglib_6207849ab7c64022b27925c813b8e5ef/src/site_symmetry.c).\n",
      "spglib: ssm_get_exact_positions failed (attempt=1). (line 115, /tmp/pip-install-58cw25xt/spglib_6207849ab7c64022b27925c813b8e5ef/src/site_symmetry.c).\n",
      "spglib: ssm_get_exact_positions failed (attempt=2). (line 115, /tmp/pip-install-58cw25xt/spglib_6207849ab7c64022b27925c813b8e5ef/src/site_symmetry.c).\n",
      "spglib: ssm_get_exact_positions failed (attempt=3). (line 115, /tmp/pip-install-58cw25xt/spglib_6207849ab7c64022b27925c813b8e5ef/src/site_symmetry.c).\n",
      "spglib: ssm_get_exact_positions failed (attempt=4). (line 115, /tmp/pip-install-58cw25xt/spglib_6207849ab7c64022b27925c813b8e5ef/src/site_symmetry.c).\n",
      "spglib: ssm_get_exact_positions failed. (line 479, /tmp/pip-install-58cw25xt/spglib_6207849ab7c64022b27925c813b8e5ef/src/refinement.c).\n",
      "spglib: get_bravais_exact_positions_and_lattice failed. (line 336, /tmp/pip-install-58cw25xt/spglib_6207849ab7c64022b27925c813b8e5ef/src/refinement.c).\n",
      "spglib: ref_get_exact_structure_and_symmetry failed. (line 82, /tmp/pip-install-58cw25xt/spglib_6207849ab7c64022b27925c813b8e5ef/src/determination.c).\n",
      "spglib: ssm_get_exact_positions failed (attempt=0). (line 115, /tmp/pip-install-58cw25xt/spglib_6207849ab7c64022b27925c813b8e5ef/src/site_symmetry.c).\n",
      "spglib: ssm_get_exact_positions failed (attempt=1). (line 115, /tmp/pip-install-58cw25xt/spglib_6207849ab7c64022b27925c813b8e5ef/src/site_symmetry.c).\n",
      "spglib: ssm_get_exact_positions failed (attempt=2). (line 115, /tmp/pip-install-58cw25xt/spglib_6207849ab7c64022b27925c813b8e5ef/src/site_symmetry.c).\n",
      "spglib: ssm_get_exact_positions failed (attempt=3). (line 115, /tmp/pip-install-58cw25xt/spglib_6207849ab7c64022b27925c813b8e5ef/src/site_symmetry.c).\n",
      "spglib: ssm_get_exact_positions failed (attempt=4). (line 115, /tmp/pip-install-58cw25xt/spglib_6207849ab7c64022b27925c813b8e5ef/src/site_symmetry.c).\n",
      "spglib: ssm_get_exact_positions failed. (line 479, /tmp/pip-install-58cw25xt/spglib_6207849ab7c64022b27925c813b8e5ef/src/refinement.c).\n",
      "spglib: get_bravais_exact_positions_and_lattice failed. (line 336, /tmp/pip-install-58cw25xt/spglib_6207849ab7c64022b27925c813b8e5ef/src/refinement.c).\n",
      "spglib: ref_get_exact_structure_and_symmetry failed. (line 82, /tmp/pip-install-58cw25xt/spglib_6207849ab7c64022b27925c813b8e5ef/src/determination.c).\n",
      "spglib: ssm_get_exact_positions failed (attempt=0). (line 115, /tmp/pip-install-58cw25xt/spglib_6207849ab7c64022b27925c813b8e5ef/src/site_symmetry.c).\n",
      "spglib: ssm_get_exact_positions failed (attempt=1). (line 115, /tmp/pip-install-58cw25xt/spglib_6207849ab7c64022b27925c813b8e5ef/src/site_symmetry.c).\n",
      "spglib: ssm_get_exact_positions failed (attempt=2). (line 115, /tmp/pip-install-58cw25xt/spglib_6207849ab7c64022b27925c813b8e5ef/src/site_symmetry.c).\n",
      "spglib: ssm_get_exact_positions failed (attempt=3). (line 115, /tmp/pip-install-58cw25xt/spglib_6207849ab7c64022b27925c813b8e5ef/src/site_symmetry.c).\n",
      "spglib: ssm_get_exact_positions failed (attempt=4). (line 115, /tmp/pip-install-58cw25xt/spglib_6207849ab7c64022b27925c813b8e5ef/src/site_symmetry.c).\n",
      "spglib: ssm_get_exact_positions failed. (line 479, /tmp/pip-install-58cw25xt/spglib_6207849ab7c64022b27925c813b8e5ef/src/refinement.c).\n",
      "spglib: get_bravais_exact_positions_and_lattice failed. (line 336, /tmp/pip-install-58cw25xt/spglib_6207849ab7c64022b27925c813b8e5ef/src/refinement.c).\n",
      "spglib: ref_get_exact_structure_and_symmetry failed. (line 82, /tmp/pip-install-58cw25xt/spglib_6207849ab7c64022b27925c813b8e5ef/src/determination.c).\n",
      "spglib: ssm_get_exact_positions failed (attempt=0). (line 115, /tmp/pip-install-58cw25xt/spglib_6207849ab7c64022b27925c813b8e5ef/src/site_symmetry.c).\n",
      "spglib: ssm_get_exact_positions failed (attempt=1). (line 115, /tmp/pip-install-58cw25xt/spglib_6207849ab7c64022b27925c813b8e5ef/src/site_symmetry.c).\n",
      "spglib: ssm_get_exact_positions failed (attempt=2). (line 115, /tmp/pip-install-58cw25xt/spglib_6207849ab7c64022b27925c813b8e5ef/src/site_symmetry.c).\n",
      "spglib: ssm_get_exact_positions failed (attempt=3). (line 115, /tmp/pip-install-58cw25xt/spglib_6207849ab7c64022b27925c813b8e5ef/src/site_symmetry.c).\n",
      "spglib: ssm_get_exact_positions failed (attempt=4). (line 115, /tmp/pip-install-58cw25xt/spglib_6207849ab7c64022b27925c813b8e5ef/src/site_symmetry.c).\n",
      "spglib: ssm_get_exact_positions failed. (line 479, /tmp/pip-install-58cw25xt/spglib_6207849ab7c64022b27925c813b8e5ef/src/refinement.c).\n",
      "spglib: get_bravais_exact_positions_and_lattice failed. (line 336, /tmp/pip-install-58cw25xt/spglib_6207849ab7c64022b27925c813b8e5ef/src/refinement.c).\n",
      "spglib: ref_get_exact_structure_and_symmetry failed. (line 82, /tmp/pip-install-58cw25xt/spglib_6207849ab7c64022b27925c813b8e5ef/src/determination.c).\n",
      "spglib: ssm_get_exact_positions failed (attempt=0). (line 115, /tmp/pip-install-58cw25xt/spglib_6207849ab7c64022b27925c813b8e5ef/src/site_symmetry.c).\n",
      "spglib: ssm_get_exact_positions failed (attempt=1). (line 115, /tmp/pip-install-58cw25xt/spglib_6207849ab7c64022b27925c813b8e5ef/src/site_symmetry.c).\n",
      "spglib: ssm_get_exact_positions failed (attempt=2). (line 115, /tmp/pip-install-58cw25xt/spglib_6207849ab7c64022b27925c813b8e5ef/src/site_symmetry.c).\n",
      "spglib: ssm_get_exact_positions failed (attempt=3). (line 115, /tmp/pip-install-58cw25xt/spglib_6207849ab7c64022b27925c813b8e5ef/src/site_symmetry.c).\n",
      "spglib: ssm_get_exact_positions failed (attempt=4). (line 115, /tmp/pip-install-58cw25xt/spglib_6207849ab7c64022b27925c813b8e5ef/src/site_symmetry.c).\n",
      "spglib: ssm_get_exact_positions failed. (line 479, /tmp/pip-install-58cw25xt/spglib_6207849ab7c64022b27925c813b8e5ef/src/refinement.c).\n",
      "spglib: get_bravais_exact_positions_and_lattice failed. (line 336, /tmp/pip-install-58cw25xt/spglib_6207849ab7c64022b27925c813b8e5ef/src/refinement.c).\n",
      "spglib: ref_get_exact_structure_and_symmetry failed. (line 82, /tmp/pip-install-58cw25xt/spglib_6207849ab7c64022b27925c813b8e5ef/src/determination.c).\n",
      "spglib: ssm_get_exact_positions failed (attempt=0). (line 115, /tmp/pip-install-58cw25xt/spglib_6207849ab7c64022b27925c813b8e5ef/src/site_symmetry.c).\n",
      "spglib: ssm_get_exact_positions failed (attempt=1). (line 115, /tmp/pip-install-58cw25xt/spglib_6207849ab7c64022b27925c813b8e5ef/src/site_symmetry.c).\n",
      "spglib: ssm_get_exact_positions failed (attempt=2). (line 115, /tmp/pip-install-58cw25xt/spglib_6207849ab7c64022b27925c813b8e5ef/src/site_symmetry.c).\n",
      "spglib: ssm_get_exact_positions failed (attempt=3). (line 115, /tmp/pip-install-58cw25xt/spglib_6207849ab7c64022b27925c813b8e5ef/src/site_symmetry.c).\n",
      "spglib: ssm_get_exact_positions failed (attempt=4). (line 115, /tmp/pip-install-58cw25xt/spglib_6207849ab7c64022b27925c813b8e5ef/src/site_symmetry.c).\n",
      "spglib: ssm_get_exact_positions failed. (line 479, /tmp/pip-install-58cw25xt/spglib_6207849ab7c64022b27925c813b8e5ef/src/refinement.c).\n",
      "spglib: get_bravais_exact_positions_and_lattice failed. (line 336, /tmp/pip-install-58cw25xt/spglib_6207849ab7c64022b27925c813b8e5ef/src/refinement.c).\n",
      "spglib: ref_get_exact_structure_and_symmetry failed. (line 82, /tmp/pip-install-58cw25xt/spglib_6207849ab7c64022b27925c813b8e5ef/src/determination.c).\n",
      "spglib: ssm_get_exact_positions failed (attempt=0). (line 115, /tmp/pip-install-58cw25xt/spglib_6207849ab7c64022b27925c813b8e5ef/src/site_symmetry.c).\n",
      "spglib: ssm_get_exact_positions failed (attempt=1). (line 115, /tmp/pip-install-58cw25xt/spglib_6207849ab7c64022b27925c813b8e5ef/src/site_symmetry.c).\n",
      "spglib: ssm_get_exact_positions failed (attempt=2). (line 115, /tmp/pip-install-58cw25xt/spglib_6207849ab7c64022b27925c813b8e5ef/src/site_symmetry.c).\n",
      "spglib: ssm_get_exact_positions failed (attempt=3). (line 115, /tmp/pip-install-58cw25xt/spglib_6207849ab7c64022b27925c813b8e5ef/src/site_symmetry.c).\n",
      "spglib: ssm_get_exact_positions failed (attempt=4). (line 115, /tmp/pip-install-58cw25xt/spglib_6207849ab7c64022b27925c813b8e5ef/src/site_symmetry.c).\n",
      "spglib: ssm_get_exact_positions failed. (line 479, /tmp/pip-install-58cw25xt/spglib_6207849ab7c64022b27925c813b8e5ef/src/refinement.c).\n",
      "spglib: get_bravais_exact_positions_and_lattice failed. (line 336, /tmp/pip-install-58cw25xt/spglib_6207849ab7c64022b27925c813b8e5ef/src/refinement.c).\n",
      "spglib: ref_get_exact_structure_and_symmetry failed. (line 82, /tmp/pip-install-58cw25xt/spglib_6207849ab7c64022b27925c813b8e5ef/src/determination.c).\n",
      "spglib: ssm_get_exact_positions failed (attempt=0). (line 115, /tmp/pip-install-58cw25xt/spglib_6207849ab7c64022b27925c813b8e5ef/src/site_symmetry.c).\n",
      "spglib: ssm_get_exact_positions failed (attempt=1). (line 115, /tmp/pip-install-58cw25xt/spglib_6207849ab7c64022b27925c813b8e5ef/src/site_symmetry.c).\n",
      "spglib: ssm_get_exact_positions failed (attempt=2). (line 115, /tmp/pip-install-58cw25xt/spglib_6207849ab7c64022b27925c813b8e5ef/src/site_symmetry.c).\n",
      "spglib: ssm_get_exact_positions failed (attempt=3). (line 115, /tmp/pip-install-58cw25xt/spglib_6207849ab7c64022b27925c813b8e5ef/src/site_symmetry.c).\n",
      "spglib: ssm_get_exact_positions failed (attempt=4). (line 115, /tmp/pip-install-58cw25xt/spglib_6207849ab7c64022b27925c813b8e5ef/src/site_symmetry.c).\n",
      "spglib: ssm_get_exact_positions failed. (line 479, /tmp/pip-install-58cw25xt/spglib_6207849ab7c64022b27925c813b8e5ef/src/refinement.c).\n",
      "spglib: get_bravais_exact_positions_and_lattice failed. (line 336, /tmp/pip-install-58cw25xt/spglib_6207849ab7c64022b27925c813b8e5ef/src/refinement.c).\n",
      "spglib: ref_get_exact_structure_and_symmetry failed. (line 82, /tmp/pip-install-58cw25xt/spglib_6207849ab7c64022b27925c813b8e5ef/src/determination.c).\n",
      "spglib: ssm_get_exact_positions failed (attempt=0). (line 115, /tmp/pip-install-58cw25xt/spglib_6207849ab7c64022b27925c813b8e5ef/src/site_symmetry.c).\n",
      "spglib: ssm_get_exact_positions failed (attempt=1). (line 115, /tmp/pip-install-58cw25xt/spglib_6207849ab7c64022b27925c813b8e5ef/src/site_symmetry.c).\n",
      "spglib: ssm_get_exact_positions failed (attempt=2). (line 115, /tmp/pip-install-58cw25xt/spglib_6207849ab7c64022b27925c813b8e5ef/src/site_symmetry.c).\n",
      "spglib: ssm_get_exact_positions failed (attempt=3). (line 115, /tmp/pip-install-58cw25xt/spglib_6207849ab7c64022b27925c813b8e5ef/src/site_symmetry.c).\n",
      "spglib: ssm_get_exact_positions failed (attempt=4). (line 115, /tmp/pip-install-58cw25xt/spglib_6207849ab7c64022b27925c813b8e5ef/src/site_symmetry.c).\n",
      "spglib: ssm_get_exact_positions failed. (line 479, /tmp/pip-install-58cw25xt/spglib_6207849ab7c64022b27925c813b8e5ef/src/refinement.c).\n",
      "spglib: get_bravais_exact_positions_and_lattice failed. (line 336, /tmp/pip-install-58cw25xt/spglib_6207849ab7c64022b27925c813b8e5ef/src/refinement.c).\n",
      "spglib: ref_get_exact_structure_and_symmetry failed. (line 82, /tmp/pip-install-58cw25xt/spglib_6207849ab7c64022b27925c813b8e5ef/src/determination.c).\n",
      "spglib: ssm_get_exact_positions failed (attempt=0). (line 115, /tmp/pip-install-58cw25xt/spglib_6207849ab7c64022b27925c813b8e5ef/src/site_symmetry.c).\n",
      "spglib: ssm_get_exact_positions failed (attempt=1). (line 115, /tmp/pip-install-58cw25xt/spglib_6207849ab7c64022b27925c813b8e5ef/src/site_symmetry.c).\n",
      "spglib: ssm_get_exact_positions failed (attempt=2). (line 115, /tmp/pip-install-58cw25xt/spglib_6207849ab7c64022b27925c813b8e5ef/src/site_symmetry.c).\n",
      "spglib: ssm_get_exact_positions failed (attempt=3). (line 115, /tmp/pip-install-58cw25xt/spglib_6207849ab7c64022b27925c813b8e5ef/src/site_symmetry.c).\n",
      "spglib: ssm_get_exact_positions failed (attempt=4). (line 115, /tmp/pip-install-58cw25xt/spglib_6207849ab7c64022b27925c813b8e5ef/src/site_symmetry.c).\n",
      "spglib: ssm_get_exact_positions failed. (line 479, /tmp/pip-install-58cw25xt/spglib_6207849ab7c64022b27925c813b8e5ef/src/refinement.c).\n",
      "spglib: get_bravais_exact_positions_and_lattice failed. (line 336, /tmp/pip-install-58cw25xt/spglib_6207849ab7c64022b27925c813b8e5ef/src/refinement.c).\n",
      "spglib: ref_get_exact_structure_and_symmetry failed. (line 82, /tmp/pip-install-58cw25xt/spglib_6207849ab7c64022b27925c813b8e5ef/src/determination.c).\n",
      "spglib: ssm_get_exact_positions failed (attempt=0). (line 115, /tmp/pip-install-58cw25xt/spglib_6207849ab7c64022b27925c813b8e5ef/src/site_symmetry.c).\n",
      "spglib: ssm_get_exact_positions failed (attempt=1). (line 115, /tmp/pip-install-58cw25xt/spglib_6207849ab7c64022b27925c813b8e5ef/src/site_symmetry.c).\n",
      "spglib: ssm_get_exact_positions failed (attempt=2). (line 115, /tmp/pip-install-58cw25xt/spglib_6207849ab7c64022b27925c813b8e5ef/src/site_symmetry.c).\n",
      "spglib: ssm_get_exact_positions failed (attempt=3). (line 115, /tmp/pip-install-58cw25xt/spglib_6207849ab7c64022b27925c813b8e5ef/src/site_symmetry.c).\n",
      "spglib: ssm_get_exact_positions failed (attempt=4). (line 115, /tmp/pip-install-58cw25xt/spglib_6207849ab7c64022b27925c813b8e5ef/src/site_symmetry.c).\n",
      "spglib: ssm_get_exact_positions failed. (line 479, /tmp/pip-install-58cw25xt/spglib_6207849ab7c64022b27925c813b8e5ef/src/refinement.c).\n",
      "spglib: get_bravais_exact_positions_and_lattice failed. (line 336, /tmp/pip-install-58cw25xt/spglib_6207849ab7c64022b27925c813b8e5ef/src/refinement.c).\n",
      "spglib: ref_get_exact_structure_and_symmetry failed. (line 82, /tmp/pip-install-58cw25xt/spglib_6207849ab7c64022b27925c813b8e5ef/src/determination.c).\n",
      "spglib: ssm_get_exact_positions failed (attempt=0). (line 115, /tmp/pip-install-58cw25xt/spglib_6207849ab7c64022b27925c813b8e5ef/src/site_symmetry.c).\n",
      "spglib: ssm_get_exact_positions failed (attempt=1). (line 115, /tmp/pip-install-58cw25xt/spglib_6207849ab7c64022b27925c813b8e5ef/src/site_symmetry.c).\n",
      "spglib: ssm_get_exact_positions failed (attempt=2). (line 115, /tmp/pip-install-58cw25xt/spglib_6207849ab7c64022b27925c813b8e5ef/src/site_symmetry.c).\n",
      "spglib: ssm_get_exact_positions failed (attempt=3). (line 115, /tmp/pip-install-58cw25xt/spglib_6207849ab7c64022b27925c813b8e5ef/src/site_symmetry.c).\n",
      "spglib: ssm_get_exact_positions failed (attempt=4). (line 115, /tmp/pip-install-58cw25xt/spglib_6207849ab7c64022b27925c813b8e5ef/src/site_symmetry.c).\n",
      "spglib: ssm_get_exact_positions failed. (line 479, /tmp/pip-install-58cw25xt/spglib_6207849ab7c64022b27925c813b8e5ef/src/refinement.c).\n",
      "spglib: get_bravais_exact_positions_and_lattice failed. (line 336, /tmp/pip-install-58cw25xt/spglib_6207849ab7c64022b27925c813b8e5ef/src/refinement.c).\n",
      "spglib: ref_get_exact_structure_and_symmetry failed. (line 82, /tmp/pip-install-58cw25xt/spglib_6207849ab7c64022b27925c813b8e5ef/src/determination.c).\n",
      "spglib: ssm_get_exact_positions failed (attempt=0). (line 115, /tmp/pip-install-58cw25xt/spglib_6207849ab7c64022b27925c813b8e5ef/src/site_symmetry.c).\n",
      "spglib: ssm_get_exact_positions failed (attempt=1). (line 115, /tmp/pip-install-58cw25xt/spglib_6207849ab7c64022b27925c813b8e5ef/src/site_symmetry.c).\n",
      "spglib: ssm_get_exact_positions failed (attempt=2). (line 115, /tmp/pip-install-58cw25xt/spglib_6207849ab7c64022b27925c813b8e5ef/src/site_symmetry.c).\n",
      "spglib: ssm_get_exact_positions failed (attempt=3). (line 115, /tmp/pip-install-58cw25xt/spglib_6207849ab7c64022b27925c813b8e5ef/src/site_symmetry.c).\n",
      "spglib: ssm_get_exact_positions failed (attempt=4). (line 115, /tmp/pip-install-58cw25xt/spglib_6207849ab7c64022b27925c813b8e5ef/src/site_symmetry.c).\n",
      "spglib: ssm_get_exact_positions failed. (line 479, /tmp/pip-install-58cw25xt/spglib_6207849ab7c64022b27925c813b8e5ef/src/refinement.c).\n",
      "spglib: get_bravais_exact_positions_and_lattice failed. (line 336, /tmp/pip-install-58cw25xt/spglib_6207849ab7c64022b27925c813b8e5ef/src/refinement.c).\n",
      "spglib: ref_get_exact_structure_and_symmetry failed. (line 82, /tmp/pip-install-58cw25xt/spglib_6207849ab7c64022b27925c813b8e5ef/src/determination.c).\n",
      "spglib: ssm_get_exact_positions failed (attempt=0). (line 115, /tmp/pip-install-58cw25xt/spglib_6207849ab7c64022b27925c813b8e5ef/src/site_symmetry.c).\n",
      "spglib: ssm_get_exact_positions failed (attempt=1). (line 115, /tmp/pip-install-58cw25xt/spglib_6207849ab7c64022b27925c813b8e5ef/src/site_symmetry.c).\n",
      "spglib: ssm_get_exact_positions failed (attempt=2). (line 115, /tmp/pip-install-58cw25xt/spglib_6207849ab7c64022b27925c813b8e5ef/src/site_symmetry.c).\n",
      "spglib: ssm_get_exact_positions failed (attempt=3). (line 115, /tmp/pip-install-58cw25xt/spglib_6207849ab7c64022b27925c813b8e5ef/src/site_symmetry.c).\n",
      "spglib: ssm_get_exact_positions failed (attempt=4). (line 115, /tmp/pip-install-58cw25xt/spglib_6207849ab7c64022b27925c813b8e5ef/src/site_symmetry.c).\n",
      "spglib: ssm_get_exact_positions failed. (line 479, /tmp/pip-install-58cw25xt/spglib_6207849ab7c64022b27925c813b8e5ef/src/refinement.c).\n",
      "spglib: get_bravais_exact_positions_and_lattice failed. (line 336, /tmp/pip-install-58cw25xt/spglib_6207849ab7c64022b27925c813b8e5ef/src/refinement.c).\n",
      "spglib: ref_get_exact_structure_and_symmetry failed. (line 82, /tmp/pip-install-58cw25xt/spglib_6207849ab7c64022b27925c813b8e5ef/src/determination.c).\n",
      "spglib: ssm_get_exact_positions failed (attempt=0). (line 115, /tmp/pip-install-58cw25xt/spglib_6207849ab7c64022b27925c813b8e5ef/src/site_symmetry.c).\n",
      "spglib: ssm_get_exact_positions failed (attempt=1). (line 115, /tmp/pip-install-58cw25xt/spglib_6207849ab7c64022b27925c813b8e5ef/src/site_symmetry.c).\n",
      "spglib: ssm_get_exact_positions failed (attempt=2). (line 115, /tmp/pip-install-58cw25xt/spglib_6207849ab7c64022b27925c813b8e5ef/src/site_symmetry.c).\n",
      "spglib: ssm_get_exact_positions failed (attempt=3). (line 115, /tmp/pip-install-58cw25xt/spglib_6207849ab7c64022b27925c813b8e5ef/src/site_symmetry.c).\n",
      "spglib: ssm_get_exact_positions failed (attempt=4). (line 115, /tmp/pip-install-58cw25xt/spglib_6207849ab7c64022b27925c813b8e5ef/src/site_symmetry.c).\n",
      "spglib: ssm_get_exact_positions failed. (line 479, /tmp/pip-install-58cw25xt/spglib_6207849ab7c64022b27925c813b8e5ef/src/refinement.c).\n",
      "spglib: get_bravais_exact_positions_and_lattice failed. (line 336, /tmp/pip-install-58cw25xt/spglib_6207849ab7c64022b27925c813b8e5ef/src/refinement.c).\n",
      "spglib: ref_get_exact_structure_and_symmetry failed. (line 82, /tmp/pip-install-58cw25xt/spglib_6207849ab7c64022b27925c813b8e5ef/src/determination.c).\n",
      "spglib: ssm_get_exact_positions failed (attempt=0). (line 115, /tmp/pip-install-58cw25xt/spglib_6207849ab7c64022b27925c813b8e5ef/src/site_symmetry.c).\n",
      "spglib: ssm_get_exact_positions failed (attempt=1). (line 115, /tmp/pip-install-58cw25xt/spglib_6207849ab7c64022b27925c813b8e5ef/src/site_symmetry.c).\n",
      "spglib: ssm_get_exact_positions failed (attempt=2). (line 115, /tmp/pip-install-58cw25xt/spglib_6207849ab7c64022b27925c813b8e5ef/src/site_symmetry.c).\n",
      "spglib: ssm_get_exact_positions failed (attempt=3). (line 115, /tmp/pip-install-58cw25xt/spglib_6207849ab7c64022b27925c813b8e5ef/src/site_symmetry.c).\n",
      "spglib: ssm_get_exact_positions failed (attempt=4). (line 115, /tmp/pip-install-58cw25xt/spglib_6207849ab7c64022b27925c813b8e5ef/src/site_symmetry.c).\n",
      "spglib: ssm_get_exact_positions failed. (line 479, /tmp/pip-install-58cw25xt/spglib_6207849ab7c64022b27925c813b8e5ef/src/refinement.c).\n",
      "spglib: get_bravais_exact_positions_and_lattice failed. (line 336, /tmp/pip-install-58cw25xt/spglib_6207849ab7c64022b27925c813b8e5ef/src/refinement.c).\n",
      "spglib: ref_get_exact_structure_and_symmetry failed. (line 82, /tmp/pip-install-58cw25xt/spglib_6207849ab7c64022b27925c813b8e5ef/src/determination.c).\n",
      "spglib: ssm_get_exact_positions failed (attempt=0). (line 115, /tmp/pip-install-58cw25xt/spglib_6207849ab7c64022b27925c813b8e5ef/src/site_symmetry.c).\n",
      "spglib: ssm_get_exact_positions failed (attempt=1). (line 115, /tmp/pip-install-58cw25xt/spglib_6207849ab7c64022b27925c813b8e5ef/src/site_symmetry.c).\n",
      "spglib: ssm_get_exact_positions failed (attempt=2). (line 115, /tmp/pip-install-58cw25xt/spglib_6207849ab7c64022b27925c813b8e5ef/src/site_symmetry.c).\n",
      "spglib: ssm_get_exact_positions failed (attempt=3). (line 115, /tmp/pip-install-58cw25xt/spglib_6207849ab7c64022b27925c813b8e5ef/src/site_symmetry.c).\n",
      "spglib: ssm_get_exact_positions failed (attempt=4). (line 115, /tmp/pip-install-58cw25xt/spglib_6207849ab7c64022b27925c813b8e5ef/src/site_symmetry.c).\n",
      "spglib: ssm_get_exact_positions failed. (line 479, /tmp/pip-install-58cw25xt/spglib_6207849ab7c64022b27925c813b8e5ef/src/refinement.c).\n",
      "spglib: get_bravais_exact_positions_and_lattice failed. (line 336, /tmp/pip-install-58cw25xt/spglib_6207849ab7c64022b27925c813b8e5ef/src/refinement.c).\n",
      "spglib: ref_get_exact_structure_and_symmetry failed. (line 82, /tmp/pip-install-58cw25xt/spglib_6207849ab7c64022b27925c813b8e5ef/src/determination.c).\n",
      "spglib: ssm_get_exact_positions failed (attempt=0). (line 115, /tmp/pip-install-58cw25xt/spglib_6207849ab7c64022b27925c813b8e5ef/src/site_symmetry.c).\n",
      "spglib: ssm_get_exact_positions failed (attempt=1). (line 115, /tmp/pip-install-58cw25xt/spglib_6207849ab7c64022b27925c813b8e5ef/src/site_symmetry.c).\n",
      "spglib: ssm_get_exact_positions failed (attempt=2). (line 115, /tmp/pip-install-58cw25xt/spglib_6207849ab7c64022b27925c813b8e5ef/src/site_symmetry.c).\n",
      "spglib: ssm_get_exact_positions failed (attempt=3). (line 115, /tmp/pip-install-58cw25xt/spglib_6207849ab7c64022b27925c813b8e5ef/src/site_symmetry.c).\n",
      "spglib: ssm_get_exact_positions failed (attempt=4). (line 115, /tmp/pip-install-58cw25xt/spglib_6207849ab7c64022b27925c813b8e5ef/src/site_symmetry.c).\n",
      "spglib: ssm_get_exact_positions failed. (line 479, /tmp/pip-install-58cw25xt/spglib_6207849ab7c64022b27925c813b8e5ef/src/refinement.c).\n",
      "spglib: get_bravais_exact_positions_and_lattice failed. (line 336, /tmp/pip-install-58cw25xt/spglib_6207849ab7c64022b27925c813b8e5ef/src/refinement.c).\n",
      "spglib: ref_get_exact_structure_and_symmetry failed. (line 82, /tmp/pip-install-58cw25xt/spglib_6207849ab7c64022b27925c813b8e5ef/src/determination.c).\n",
      "spglib: ssm_get_exact_positions failed (attempt=0). (line 115, /tmp/pip-install-58cw25xt/spglib_6207849ab7c64022b27925c813b8e5ef/src/site_symmetry.c).\n",
      "spglib: ssm_get_exact_positions failed (attempt=1). (line 115, /tmp/pip-install-58cw25xt/spglib_6207849ab7c64022b27925c813b8e5ef/src/site_symmetry.c).\n",
      "spglib: ssm_get_exact_positions failed (attempt=2). (line 115, /tmp/pip-install-58cw25xt/spglib_6207849ab7c64022b27925c813b8e5ef/src/site_symmetry.c).\n",
      "spglib: ssm_get_exact_positions failed (attempt=3). (line 115, /tmp/pip-install-58cw25xt/spglib_6207849ab7c64022b27925c813b8e5ef/src/site_symmetry.c).\n",
      "spglib: ssm_get_exact_positions failed (attempt=4). (line 115, /tmp/pip-install-58cw25xt/spglib_6207849ab7c64022b27925c813b8e5ef/src/site_symmetry.c).\n",
      "spglib: ssm_get_exact_positions failed. (line 479, /tmp/pip-install-58cw25xt/spglib_6207849ab7c64022b27925c813b8e5ef/src/refinement.c).\n",
      "spglib: get_bravais_exact_positions_and_lattice failed. (line 336, /tmp/pip-install-58cw25xt/spglib_6207849ab7c64022b27925c813b8e5ef/src/refinement.c).\n",
      "spglib: ref_get_exact_structure_and_symmetry failed. (line 82, /tmp/pip-install-58cw25xt/spglib_6207849ab7c64022b27925c813b8e5ef/src/determination.c).\n",
      "spglib: ssm_get_exact_positions failed (attempt=0). (line 115, /tmp/pip-install-58cw25xt/spglib_6207849ab7c64022b27925c813b8e5ef/src/site_symmetry.c).\n",
      "spglib: ssm_get_exact_positions failed (attempt=1). (line 115, /tmp/pip-install-58cw25xt/spglib_6207849ab7c64022b27925c813b8e5ef/src/site_symmetry.c).\n",
      "spglib: ssm_get_exact_positions failed (attempt=2). (line 115, /tmp/pip-install-58cw25xt/spglib_6207849ab7c64022b27925c813b8e5ef/src/site_symmetry.c).\n",
      "spglib: ssm_get_exact_positions failed (attempt=3). (line 115, /tmp/pip-install-58cw25xt/spglib_6207849ab7c64022b27925c813b8e5ef/src/site_symmetry.c).\n",
      "spglib: ssm_get_exact_positions failed (attempt=4). (line 115, /tmp/pip-install-58cw25xt/spglib_6207849ab7c64022b27925c813b8e5ef/src/site_symmetry.c).\n",
      "spglib: ssm_get_exact_positions failed. (line 479, /tmp/pip-install-58cw25xt/spglib_6207849ab7c64022b27925c813b8e5ef/src/refinement.c).\n",
      "spglib: get_bravais_exact_positions_and_lattice failed. (line 336, /tmp/pip-install-58cw25xt/spglib_6207849ab7c64022b27925c813b8e5ef/src/refinement.c).\n",
      "spglib: ref_get_exact_structure_and_symmetry failed. (line 82, /tmp/pip-install-58cw25xt/spglib_6207849ab7c64022b27925c813b8e5ef/src/determination.c).\n",
      "spglib: ssm_get_exact_positions failed (attempt=0). (line 115, /tmp/pip-install-58cw25xt/spglib_6207849ab7c64022b27925c813b8e5ef/src/site_symmetry.c).\n",
      "spglib: ssm_get_exact_positions failed (attempt=1). (line 115, /tmp/pip-install-58cw25xt/spglib_6207849ab7c64022b27925c813b8e5ef/src/site_symmetry.c).\n",
      "spglib: ssm_get_exact_positions failed (attempt=2). (line 115, /tmp/pip-install-58cw25xt/spglib_6207849ab7c64022b27925c813b8e5ef/src/site_symmetry.c).\n",
      "spglib: ssm_get_exact_positions failed (attempt=3). (line 115, /tmp/pip-install-58cw25xt/spglib_6207849ab7c64022b27925c813b8e5ef/src/site_symmetry.c).\n",
      "spglib: ssm_get_exact_positions failed (attempt=4). (line 115, /tmp/pip-install-58cw25xt/spglib_6207849ab7c64022b27925c813b8e5ef/src/site_symmetry.c).\n",
      "spglib: ssm_get_exact_positions failed. (line 479, /tmp/pip-install-58cw25xt/spglib_6207849ab7c64022b27925c813b8e5ef/src/refinement.c).\n",
      "spglib: get_bravais_exact_positions_and_lattice failed. (line 336, /tmp/pip-install-58cw25xt/spglib_6207849ab7c64022b27925c813b8e5ef/src/refinement.c).\n",
      "spglib: ref_get_exact_structure_and_symmetry failed. (line 82, /tmp/pip-install-58cw25xt/spglib_6207849ab7c64022b27925c813b8e5ef/src/determination.c).\n",
      "spglib: ssm_get_exact_positions failed (attempt=0). (line 115, /tmp/pip-install-58cw25xt/spglib_6207849ab7c64022b27925c813b8e5ef/src/site_symmetry.c).\n",
      "spglib: ssm_get_exact_positions failed (attempt=1). (line 115, /tmp/pip-install-58cw25xt/spglib_6207849ab7c64022b27925c813b8e5ef/src/site_symmetry.c).\n",
      "spglib: ssm_get_exact_positions failed (attempt=2). (line 115, /tmp/pip-install-58cw25xt/spglib_6207849ab7c64022b27925c813b8e5ef/src/site_symmetry.c).\n",
      "spglib: ssm_get_exact_positions failed (attempt=3). (line 115, /tmp/pip-install-58cw25xt/spglib_6207849ab7c64022b27925c813b8e5ef/src/site_symmetry.c).\n",
      "spglib: ssm_get_exact_positions failed (attempt=4). (line 115, /tmp/pip-install-58cw25xt/spglib_6207849ab7c64022b27925c813b8e5ef/src/site_symmetry.c).\n",
      "spglib: ssm_get_exact_positions failed. (line 479, /tmp/pip-install-58cw25xt/spglib_6207849ab7c64022b27925c813b8e5ef/src/refinement.c).\n",
      "spglib: get_bravais_exact_positions_and_lattice failed. (line 336, /tmp/pip-install-58cw25xt/spglib_6207849ab7c64022b27925c813b8e5ef/src/refinement.c).\n",
      "spglib: ref_get_exact_structure_and_symmetry failed. (line 82, /tmp/pip-install-58cw25xt/spglib_6207849ab7c64022b27925c813b8e5ef/src/determination.c).\n",
      "spglib: ssm_get_exact_positions failed (attempt=0). (line 115, /tmp/pip-install-58cw25xt/spglib_6207849ab7c64022b27925c813b8e5ef/src/site_symmetry.c).\n",
      "spglib: ssm_get_exact_positions failed (attempt=1). (line 115, /tmp/pip-install-58cw25xt/spglib_6207849ab7c64022b27925c813b8e5ef/src/site_symmetry.c).\n",
      "spglib: ssm_get_exact_positions failed (attempt=2). (line 115, /tmp/pip-install-58cw25xt/spglib_6207849ab7c64022b27925c813b8e5ef/src/site_symmetry.c).\n",
      "spglib: ssm_get_exact_positions failed (attempt=3). (line 115, /tmp/pip-install-58cw25xt/spglib_6207849ab7c64022b27925c813b8e5ef/src/site_symmetry.c).\n",
      "spglib: ssm_get_exact_positions failed (attempt=4). (line 115, /tmp/pip-install-58cw25xt/spglib_6207849ab7c64022b27925c813b8e5ef/src/site_symmetry.c).\n",
      "spglib: ssm_get_exact_positions failed. (line 479, /tmp/pip-install-58cw25xt/spglib_6207849ab7c64022b27925c813b8e5ef/src/refinement.c).\n",
      "spglib: get_bravais_exact_positions_and_lattice failed. (line 336, /tmp/pip-install-58cw25xt/spglib_6207849ab7c64022b27925c813b8e5ef/src/refinement.c).\n",
      "spglib: ref_get_exact_structure_and_symmetry failed. (line 82, /tmp/pip-install-58cw25xt/spglib_6207849ab7c64022b27925c813b8e5ef/src/determination.c).\n",
      "spglib: ssm_get_exact_positions failed (attempt=0). (line 115, /tmp/pip-install-58cw25xt/spglib_6207849ab7c64022b27925c813b8e5ef/src/site_symmetry.c).\n",
      "spglib: ssm_get_exact_positions failed (attempt=1). (line 115, /tmp/pip-install-58cw25xt/spglib_6207849ab7c64022b27925c813b8e5ef/src/site_symmetry.c).\n",
      "spglib: ssm_get_exact_positions failed (attempt=2). (line 115, /tmp/pip-install-58cw25xt/spglib_6207849ab7c64022b27925c813b8e5ef/src/site_symmetry.c).\n",
      "spglib: ssm_get_exact_positions failed (attempt=3). (line 115, /tmp/pip-install-58cw25xt/spglib_6207849ab7c64022b27925c813b8e5ef/src/site_symmetry.c).\n",
      "spglib: ssm_get_exact_positions failed (attempt=4). (line 115, /tmp/pip-install-58cw25xt/spglib_6207849ab7c64022b27925c813b8e5ef/src/site_symmetry.c).\n",
      "spglib: ssm_get_exact_positions failed. (line 479, /tmp/pip-install-58cw25xt/spglib_6207849ab7c64022b27925c813b8e5ef/src/refinement.c).\n",
      "spglib: get_bravais_exact_positions_and_lattice failed. (line 336, /tmp/pip-install-58cw25xt/spglib_6207849ab7c64022b27925c813b8e5ef/src/refinement.c).\n",
      "spglib: ref_get_exact_structure_and_symmetry failed. (line 82, /tmp/pip-install-58cw25xt/spglib_6207849ab7c64022b27925c813b8e5ef/src/determination.c).\n",
      "spglib: ssm_get_exact_positions failed (attempt=0). (line 115, /tmp/pip-install-58cw25xt/spglib_6207849ab7c64022b27925c813b8e5ef/src/site_symmetry.c).\n",
      "spglib: ssm_get_exact_positions failed (attempt=1). (line 115, /tmp/pip-install-58cw25xt/spglib_6207849ab7c64022b27925c813b8e5ef/src/site_symmetry.c).\n",
      "spglib: ssm_get_exact_positions failed (attempt=2). (line 115, /tmp/pip-install-58cw25xt/spglib_6207849ab7c64022b27925c813b8e5ef/src/site_symmetry.c).\n",
      "spglib: ssm_get_exact_positions failed (attempt=3). (line 115, /tmp/pip-install-58cw25xt/spglib_6207849ab7c64022b27925c813b8e5ef/src/site_symmetry.c).\n",
      "spglib: ssm_get_exact_positions failed (attempt=4). (line 115, /tmp/pip-install-58cw25xt/spglib_6207849ab7c64022b27925c813b8e5ef/src/site_symmetry.c).\n",
      "spglib: ssm_get_exact_positions failed. (line 479, /tmp/pip-install-58cw25xt/spglib_6207849ab7c64022b27925c813b8e5ef/src/refinement.c).\n",
      "spglib: get_bravais_exact_positions_and_lattice failed. (line 336, /tmp/pip-install-58cw25xt/spglib_6207849ab7c64022b27925c813b8e5ef/src/refinement.c).\n",
      "spglib: ref_get_exact_structure_and_symmetry failed. (line 82, /tmp/pip-install-58cw25xt/spglib_6207849ab7c64022b27925c813b8e5ef/src/determination.c).\n",
      "spglib: ssm_get_exact_positions failed (attempt=0). (line 115, /tmp/pip-install-58cw25xt/spglib_6207849ab7c64022b27925c813b8e5ef/src/site_symmetry.c).\n",
      "spglib: ssm_get_exact_positions failed (attempt=1). (line 115, /tmp/pip-install-58cw25xt/spglib_6207849ab7c64022b27925c813b8e5ef/src/site_symmetry.c).\n",
      "spglib: ssm_get_exact_positions failed (attempt=2). (line 115, /tmp/pip-install-58cw25xt/spglib_6207849ab7c64022b27925c813b8e5ef/src/site_symmetry.c).\n",
      "spglib: ssm_get_exact_positions failed (attempt=3). (line 115, /tmp/pip-install-58cw25xt/spglib_6207849ab7c64022b27925c813b8e5ef/src/site_symmetry.c).\n",
      "spglib: ssm_get_exact_positions failed (attempt=4). (line 115, /tmp/pip-install-58cw25xt/spglib_6207849ab7c64022b27925c813b8e5ef/src/site_symmetry.c).\n",
      "spglib: ssm_get_exact_positions failed. (line 479, /tmp/pip-install-58cw25xt/spglib_6207849ab7c64022b27925c813b8e5ef/src/refinement.c).\n",
      "spglib: get_bravais_exact_positions_and_lattice failed. (line 336, /tmp/pip-install-58cw25xt/spglib_6207849ab7c64022b27925c813b8e5ef/src/refinement.c).\n",
      "spglib: ref_get_exact_structure_and_symmetry failed. (line 82, /tmp/pip-install-58cw25xt/spglib_6207849ab7c64022b27925c813b8e5ef/src/determination.c).\n",
      "spglib: ssm_get_exact_positions failed (attempt=0). (line 115, /tmp/pip-install-58cw25xt/spglib_6207849ab7c64022b27925c813b8e5ef/src/site_symmetry.c).\n",
      "spglib: ssm_get_exact_positions failed (attempt=1). (line 115, /tmp/pip-install-58cw25xt/spglib_6207849ab7c64022b27925c813b8e5ef/src/site_symmetry.c).\n",
      "spglib: ssm_get_exact_positions failed (attempt=2). (line 115, /tmp/pip-install-58cw25xt/spglib_6207849ab7c64022b27925c813b8e5ef/src/site_symmetry.c).\n",
      "spglib: ssm_get_exact_positions failed (attempt=3). (line 115, /tmp/pip-install-58cw25xt/spglib_6207849ab7c64022b27925c813b8e5ef/src/site_symmetry.c).\n",
      "spglib: ssm_get_exact_positions failed (attempt=4). (line 115, /tmp/pip-install-58cw25xt/spglib_6207849ab7c64022b27925c813b8e5ef/src/site_symmetry.c).\n",
      "spglib: ssm_get_exact_positions failed. (line 479, /tmp/pip-install-58cw25xt/spglib_6207849ab7c64022b27925c813b8e5ef/src/refinement.c).\n",
      "spglib: get_bravais_exact_positions_and_lattice failed. (line 336, /tmp/pip-install-58cw25xt/spglib_6207849ab7c64022b27925c813b8e5ef/src/refinement.c).\n",
      "spglib: ref_get_exact_structure_and_symmetry failed. (line 82, /tmp/pip-install-58cw25xt/spglib_6207849ab7c64022b27925c813b8e5ef/src/determination.c).\n",
      "spglib: ssm_get_exact_positions failed (attempt=0). (line 115, /tmp/pip-install-58cw25xt/spglib_6207849ab7c64022b27925c813b8e5ef/src/site_symmetry.c).\n",
      "spglib: ssm_get_exact_positions failed (attempt=1). (line 115, /tmp/pip-install-58cw25xt/spglib_6207849ab7c64022b27925c813b8e5ef/src/site_symmetry.c).\n",
      "spglib: ssm_get_exact_positions failed (attempt=2). (line 115, /tmp/pip-install-58cw25xt/spglib_6207849ab7c64022b27925c813b8e5ef/src/site_symmetry.c).\n",
      "spglib: ssm_get_exact_positions failed (attempt=3). (line 115, /tmp/pip-install-58cw25xt/spglib_6207849ab7c64022b27925c813b8e5ef/src/site_symmetry.c).\n",
      "spglib: ssm_get_exact_positions failed (attempt=4). (line 115, /tmp/pip-install-58cw25xt/spglib_6207849ab7c64022b27925c813b8e5ef/src/site_symmetry.c).\n",
      "spglib: ssm_get_exact_positions failed. (line 479, /tmp/pip-install-58cw25xt/spglib_6207849ab7c64022b27925c813b8e5ef/src/refinement.c).\n",
      "spglib: get_bravais_exact_positions_and_lattice failed. (line 336, /tmp/pip-install-58cw25xt/spglib_6207849ab7c64022b27925c813b8e5ef/src/refinement.c).\n",
      "spglib: ref_get_exact_structure_and_symmetry failed. (line 82, /tmp/pip-install-58cw25xt/spglib_6207849ab7c64022b27925c813b8e5ef/src/determination.c).\n",
      "spglib: ssm_get_exact_positions failed (attempt=0). (line 115, /tmp/pip-install-58cw25xt/spglib_6207849ab7c64022b27925c813b8e5ef/src/site_symmetry.c).\n",
      "spglib: ssm_get_exact_positions failed (attempt=1). (line 115, /tmp/pip-install-58cw25xt/spglib_6207849ab7c64022b27925c813b8e5ef/src/site_symmetry.c).\n",
      "spglib: ssm_get_exact_positions failed (attempt=2). (line 115, /tmp/pip-install-58cw25xt/spglib_6207849ab7c64022b27925c813b8e5ef/src/site_symmetry.c).\n",
      "spglib: ssm_get_exact_positions failed (attempt=3). (line 115, /tmp/pip-install-58cw25xt/spglib_6207849ab7c64022b27925c813b8e5ef/src/site_symmetry.c).\n",
      "spglib: ssm_get_exact_positions failed (attempt=4). (line 115, /tmp/pip-install-58cw25xt/spglib_6207849ab7c64022b27925c813b8e5ef/src/site_symmetry.c).\n",
      "spglib: ssm_get_exact_positions failed. (line 479, /tmp/pip-install-58cw25xt/spglib_6207849ab7c64022b27925c813b8e5ef/src/refinement.c).\n",
      "spglib: get_bravais_exact_positions_and_lattice failed. (line 336, /tmp/pip-install-58cw25xt/spglib_6207849ab7c64022b27925c813b8e5ef/src/refinement.c).\n",
      "spglib: ref_get_exact_structure_and_symmetry failed. (line 82, /tmp/pip-install-58cw25xt/spglib_6207849ab7c64022b27925c813b8e5ef/src/determination.c).\n",
      "spglib: ssm_get_exact_positions failed (attempt=0). (line 115, /tmp/pip-install-58cw25xt/spglib_6207849ab7c64022b27925c813b8e5ef/src/site_symmetry.c).\n",
      "spglib: ssm_get_exact_positions failed (attempt=1). (line 115, /tmp/pip-install-58cw25xt/spglib_6207849ab7c64022b27925c813b8e5ef/src/site_symmetry.c).\n",
      "spglib: ssm_get_exact_positions failed (attempt=2). (line 115, /tmp/pip-install-58cw25xt/spglib_6207849ab7c64022b27925c813b8e5ef/src/site_symmetry.c).\n",
      "spglib: ssm_get_exact_positions failed (attempt=3). (line 115, /tmp/pip-install-58cw25xt/spglib_6207849ab7c64022b27925c813b8e5ef/src/site_symmetry.c).\n",
      "spglib: ssm_get_exact_positions failed (attempt=4). (line 115, /tmp/pip-install-58cw25xt/spglib_6207849ab7c64022b27925c813b8e5ef/src/site_symmetry.c).\n",
      "spglib: ssm_get_exact_positions failed. (line 479, /tmp/pip-install-58cw25xt/spglib_6207849ab7c64022b27925c813b8e5ef/src/refinement.c).\n",
      "spglib: get_bravais_exact_positions_and_lattice failed. (line 336, /tmp/pip-install-58cw25xt/spglib_6207849ab7c64022b27925c813b8e5ef/src/refinement.c).\n",
      "spglib: ref_get_exact_structure_and_symmetry failed. (line 82, /tmp/pip-install-58cw25xt/spglib_6207849ab7c64022b27925c813b8e5ef/src/determination.c).\n",
      "spglib: ssm_get_exact_positions failed (attempt=0). (line 115, /tmp/pip-install-58cw25xt/spglib_6207849ab7c64022b27925c813b8e5ef/src/site_symmetry.c).\n",
      "spglib: ssm_get_exact_positions failed (attempt=1). (line 115, /tmp/pip-install-58cw25xt/spglib_6207849ab7c64022b27925c813b8e5ef/src/site_symmetry.c).\n",
      "spglib: ssm_get_exact_positions failed (attempt=2). (line 115, /tmp/pip-install-58cw25xt/spglib_6207849ab7c64022b27925c813b8e5ef/src/site_symmetry.c).\n",
      "spglib: ssm_get_exact_positions failed (attempt=3). (line 115, /tmp/pip-install-58cw25xt/spglib_6207849ab7c64022b27925c813b8e5ef/src/site_symmetry.c).\n",
      "spglib: ssm_get_exact_positions failed (attempt=4). (line 115, /tmp/pip-install-58cw25xt/spglib_6207849ab7c64022b27925c813b8e5ef/src/site_symmetry.c).\n",
      "spglib: ssm_get_exact_positions failed. (line 479, /tmp/pip-install-58cw25xt/spglib_6207849ab7c64022b27925c813b8e5ef/src/refinement.c).\n",
      "spglib: get_bravais_exact_positions_and_lattice failed. (line 336, /tmp/pip-install-58cw25xt/spglib_6207849ab7c64022b27925c813b8e5ef/src/refinement.c).\n",
      "spglib: ref_get_exact_structure_and_symmetry failed. (line 82, /tmp/pip-install-58cw25xt/spglib_6207849ab7c64022b27925c813b8e5ef/src/determination.c).\n",
      "spglib: ssm_get_exact_positions failed (attempt=0). (line 115, /tmp/pip-install-58cw25xt/spglib_6207849ab7c64022b27925c813b8e5ef/src/site_symmetry.c).\n",
      "spglib: ssm_get_exact_positions failed (attempt=1). (line 115, /tmp/pip-install-58cw25xt/spglib_6207849ab7c64022b27925c813b8e5ef/src/site_symmetry.c).\n",
      "spglib: ssm_get_exact_positions failed (attempt=2). (line 115, /tmp/pip-install-58cw25xt/spglib_6207849ab7c64022b27925c813b8e5ef/src/site_symmetry.c).\n",
      "spglib: ssm_get_exact_positions failed (attempt=3). (line 115, /tmp/pip-install-58cw25xt/spglib_6207849ab7c64022b27925c813b8e5ef/src/site_symmetry.c).\n",
      "spglib: ssm_get_exact_positions failed (attempt=4). (line 115, /tmp/pip-install-58cw25xt/spglib_6207849ab7c64022b27925c813b8e5ef/src/site_symmetry.c).\n",
      "spglib: ssm_get_exact_positions failed. (line 479, /tmp/pip-install-58cw25xt/spglib_6207849ab7c64022b27925c813b8e5ef/src/refinement.c).\n",
      "spglib: get_bravais_exact_positions_and_lattice failed. (line 336, /tmp/pip-install-58cw25xt/spglib_6207849ab7c64022b27925c813b8e5ef/src/refinement.c).\n",
      "spglib: ref_get_exact_structure_and_symmetry failed. (line 82, /tmp/pip-install-58cw25xt/spglib_6207849ab7c64022b27925c813b8e5ef/src/determination.c).\n",
      "spglib: ssm_get_exact_positions failed (attempt=0). (line 115, /tmp/pip-install-58cw25xt/spglib_6207849ab7c64022b27925c813b8e5ef/src/site_symmetry.c).\n",
      "spglib: ssm_get_exact_positions failed (attempt=1). (line 115, /tmp/pip-install-58cw25xt/spglib_6207849ab7c64022b27925c813b8e5ef/src/site_symmetry.c).\n",
      "spglib: ssm_get_exact_positions failed (attempt=2). (line 115, /tmp/pip-install-58cw25xt/spglib_6207849ab7c64022b27925c813b8e5ef/src/site_symmetry.c).\n",
      "spglib: ssm_get_exact_positions failed (attempt=3). (line 115, /tmp/pip-install-58cw25xt/spglib_6207849ab7c64022b27925c813b8e5ef/src/site_symmetry.c).\n",
      "spglib: ssm_get_exact_positions failed (attempt=4). (line 115, /tmp/pip-install-58cw25xt/spglib_6207849ab7c64022b27925c813b8e5ef/src/site_symmetry.c).\n",
      "spglib: ssm_get_exact_positions failed. (line 479, /tmp/pip-install-58cw25xt/spglib_6207849ab7c64022b27925c813b8e5ef/src/refinement.c).\n",
      "spglib: get_bravais_exact_positions_and_lattice failed. (line 336, /tmp/pip-install-58cw25xt/spglib_6207849ab7c64022b27925c813b8e5ef/src/refinement.c).\n",
      "spglib: ref_get_exact_structure_and_symmetry failed. (line 82, /tmp/pip-install-58cw25xt/spglib_6207849ab7c64022b27925c813b8e5ef/src/determination.c).\n",
      "spglib: ssm_get_exact_positions failed (attempt=0). (line 115, /tmp/pip-install-58cw25xt/spglib_6207849ab7c64022b27925c813b8e5ef/src/site_symmetry.c).\n",
      "spglib: ssm_get_exact_positions failed (attempt=1). (line 115, /tmp/pip-install-58cw25xt/spglib_6207849ab7c64022b27925c813b8e5ef/src/site_symmetry.c).\n",
      "spglib: ssm_get_exact_positions failed (attempt=2). (line 115, /tmp/pip-install-58cw25xt/spglib_6207849ab7c64022b27925c813b8e5ef/src/site_symmetry.c).\n",
      "spglib: ssm_get_exact_positions failed (attempt=3). (line 115, /tmp/pip-install-58cw25xt/spglib_6207849ab7c64022b27925c813b8e5ef/src/site_symmetry.c).\n",
      "spglib: ssm_get_exact_positions failed (attempt=4). (line 115, /tmp/pip-install-58cw25xt/spglib_6207849ab7c64022b27925c813b8e5ef/src/site_symmetry.c).\n",
      "spglib: ssm_get_exact_positions failed. (line 479, /tmp/pip-install-58cw25xt/spglib_6207849ab7c64022b27925c813b8e5ef/src/refinement.c).\n",
      "spglib: get_bravais_exact_positions_and_lattice failed. (line 336, /tmp/pip-install-58cw25xt/spglib_6207849ab7c64022b27925c813b8e5ef/src/refinement.c).\n",
      "spglib: ref_get_exact_structure_and_symmetry failed. (line 82, /tmp/pip-install-58cw25xt/spglib_6207849ab7c64022b27925c813b8e5ef/src/determination.c).\n",
      "spglib: ssm_get_exact_positions failed (attempt=0). (line 115, /tmp/pip-install-58cw25xt/spglib_6207849ab7c64022b27925c813b8e5ef/src/site_symmetry.c).\n",
      "spglib: ssm_get_exact_positions failed (attempt=1). (line 115, /tmp/pip-install-58cw25xt/spglib_6207849ab7c64022b27925c813b8e5ef/src/site_symmetry.c).\n",
      "spglib: ssm_get_exact_positions failed (attempt=2). (line 115, /tmp/pip-install-58cw25xt/spglib_6207849ab7c64022b27925c813b8e5ef/src/site_symmetry.c).\n",
      "spglib: ssm_get_exact_positions failed (attempt=3). (line 115, /tmp/pip-install-58cw25xt/spglib_6207849ab7c64022b27925c813b8e5ef/src/site_symmetry.c).\n",
      "spglib: ssm_get_exact_positions failed (attempt=4). (line 115, /tmp/pip-install-58cw25xt/spglib_6207849ab7c64022b27925c813b8e5ef/src/site_symmetry.c).\n",
      "spglib: ssm_get_exact_positions failed. (line 479, /tmp/pip-install-58cw25xt/spglib_6207849ab7c64022b27925c813b8e5ef/src/refinement.c).\n",
      "spglib: get_bravais_exact_positions_and_lattice failed. (line 336, /tmp/pip-install-58cw25xt/spglib_6207849ab7c64022b27925c813b8e5ef/src/refinement.c).\n",
      "spglib: ref_get_exact_structure_and_symmetry failed. (line 82, /tmp/pip-install-58cw25xt/spglib_6207849ab7c64022b27925c813b8e5ef/src/determination.c).\n",
      "spglib: ssm_get_exact_positions failed (attempt=0). (line 115, /tmp/pip-install-58cw25xt/spglib_6207849ab7c64022b27925c813b8e5ef/src/site_symmetry.c).\n",
      "spglib: ssm_get_exact_positions failed (attempt=1). (line 115, /tmp/pip-install-58cw25xt/spglib_6207849ab7c64022b27925c813b8e5ef/src/site_symmetry.c).\n",
      "spglib: ssm_get_exact_positions failed (attempt=2). (line 115, /tmp/pip-install-58cw25xt/spglib_6207849ab7c64022b27925c813b8e5ef/src/site_symmetry.c).\n",
      "spglib: ssm_get_exact_positions failed (attempt=3). (line 115, /tmp/pip-install-58cw25xt/spglib_6207849ab7c64022b27925c813b8e5ef/src/site_symmetry.c).\n",
      "spglib: ssm_get_exact_positions failed (attempt=4). (line 115, /tmp/pip-install-58cw25xt/spglib_6207849ab7c64022b27925c813b8e5ef/src/site_symmetry.c).\n",
      "spglib: ssm_get_exact_positions failed. (line 479, /tmp/pip-install-58cw25xt/spglib_6207849ab7c64022b27925c813b8e5ef/src/refinement.c).\n",
      "spglib: get_bravais_exact_positions_and_lattice failed. (line 336, /tmp/pip-install-58cw25xt/spglib_6207849ab7c64022b27925c813b8e5ef/src/refinement.c).\n",
      "spglib: ref_get_exact_structure_and_symmetry failed. (line 82, /tmp/pip-install-58cw25xt/spglib_6207849ab7c64022b27925c813b8e5ef/src/determination.c).\n",
      "spglib: ssm_get_exact_positions failed (attempt=0). (line 115, /tmp/pip-install-58cw25xt/spglib_6207849ab7c64022b27925c813b8e5ef/src/site_symmetry.c).\n",
      "spglib: ssm_get_exact_positions failed (attempt=1). (line 115, /tmp/pip-install-58cw25xt/spglib_6207849ab7c64022b27925c813b8e5ef/src/site_symmetry.c).\n",
      "spglib: ssm_get_exact_positions failed (attempt=2). (line 115, /tmp/pip-install-58cw25xt/spglib_6207849ab7c64022b27925c813b8e5ef/src/site_symmetry.c).\n",
      "spglib: ssm_get_exact_positions failed (attempt=3). (line 115, /tmp/pip-install-58cw25xt/spglib_6207849ab7c64022b27925c813b8e5ef/src/site_symmetry.c).\n",
      "spglib: ssm_get_exact_positions failed (attempt=4). (line 115, /tmp/pip-install-58cw25xt/spglib_6207849ab7c64022b27925c813b8e5ef/src/site_symmetry.c).\n",
      "spglib: ssm_get_exact_positions failed. (line 479, /tmp/pip-install-58cw25xt/spglib_6207849ab7c64022b27925c813b8e5ef/src/refinement.c).\n",
      "spglib: get_bravais_exact_positions_and_lattice failed. (line 336, /tmp/pip-install-58cw25xt/spglib_6207849ab7c64022b27925c813b8e5ef/src/refinement.c).\n",
      "spglib: ref_get_exact_structure_and_symmetry failed. (line 82, /tmp/pip-install-58cw25xt/spglib_6207849ab7c64022b27925c813b8e5ef/src/determination.c).\n",
      "spglib: ssm_get_exact_positions failed (attempt=0). (line 115, /tmp/pip-install-58cw25xt/spglib_6207849ab7c64022b27925c813b8e5ef/src/site_symmetry.c).\n",
      "spglib: ssm_get_exact_positions failed (attempt=1). (line 115, /tmp/pip-install-58cw25xt/spglib_6207849ab7c64022b27925c813b8e5ef/src/site_symmetry.c).\n",
      "spglib: ssm_get_exact_positions failed (attempt=2). (line 115, /tmp/pip-install-58cw25xt/spglib_6207849ab7c64022b27925c813b8e5ef/src/site_symmetry.c).\n",
      "spglib: ssm_get_exact_positions failed (attempt=3). (line 115, /tmp/pip-install-58cw25xt/spglib_6207849ab7c64022b27925c813b8e5ef/src/site_symmetry.c).\n",
      "spglib: ssm_get_exact_positions failed (attempt=4). (line 115, /tmp/pip-install-58cw25xt/spglib_6207849ab7c64022b27925c813b8e5ef/src/site_symmetry.c).\n",
      "spglib: ssm_get_exact_positions failed. (line 479, /tmp/pip-install-58cw25xt/spglib_6207849ab7c64022b27925c813b8e5ef/src/refinement.c).\n",
      "spglib: get_bravais_exact_positions_and_lattice failed. (line 336, /tmp/pip-install-58cw25xt/spglib_6207849ab7c64022b27925c813b8e5ef/src/refinement.c).\n",
      "spglib: ref_get_exact_structure_and_symmetry failed. (line 82, /tmp/pip-install-58cw25xt/spglib_6207849ab7c64022b27925c813b8e5ef/src/determination.c).\n",
      "spglib: ssm_get_exact_positions failed (attempt=0). (line 115, /tmp/pip-install-58cw25xt/spglib_6207849ab7c64022b27925c813b8e5ef/src/site_symmetry.c).\n",
      "spglib: ssm_get_exact_positions failed (attempt=1). (line 115, /tmp/pip-install-58cw25xt/spglib_6207849ab7c64022b27925c813b8e5ef/src/site_symmetry.c).\n",
      "spglib: ssm_get_exact_positions failed (attempt=2). (line 115, /tmp/pip-install-58cw25xt/spglib_6207849ab7c64022b27925c813b8e5ef/src/site_symmetry.c).\n",
      "spglib: ssm_get_exact_positions failed (attempt=3). (line 115, /tmp/pip-install-58cw25xt/spglib_6207849ab7c64022b27925c813b8e5ef/src/site_symmetry.c).\n",
      "spglib: ssm_get_exact_positions failed (attempt=4). (line 115, /tmp/pip-install-58cw25xt/spglib_6207849ab7c64022b27925c813b8e5ef/src/site_symmetry.c).\n",
      "spglib: ssm_get_exact_positions failed. (line 479, /tmp/pip-install-58cw25xt/spglib_6207849ab7c64022b27925c813b8e5ef/src/refinement.c).\n",
      "spglib: get_bravais_exact_positions_and_lattice failed. (line 336, /tmp/pip-install-58cw25xt/spglib_6207849ab7c64022b27925c813b8e5ef/src/refinement.c).\n",
      "spglib: ref_get_exact_structure_and_symmetry failed. (line 82, /tmp/pip-install-58cw25xt/spglib_6207849ab7c64022b27925c813b8e5ef/src/determination.c).\n",
      "spglib: ssm_get_exact_positions failed (attempt=0). (line 115, /tmp/pip-install-58cw25xt/spglib_6207849ab7c64022b27925c813b8e5ef/src/site_symmetry.c).\n",
      "spglib: ssm_get_exact_positions failed (attempt=1). (line 115, /tmp/pip-install-58cw25xt/spglib_6207849ab7c64022b27925c813b8e5ef/src/site_symmetry.c).\n",
      "spglib: ssm_get_exact_positions failed (attempt=2). (line 115, /tmp/pip-install-58cw25xt/spglib_6207849ab7c64022b27925c813b8e5ef/src/site_symmetry.c).\n",
      "spglib: ssm_get_exact_positions failed (attempt=3). (line 115, /tmp/pip-install-58cw25xt/spglib_6207849ab7c64022b27925c813b8e5ef/src/site_symmetry.c).\n",
      "spglib: ssm_get_exact_positions failed (attempt=4). (line 115, /tmp/pip-install-58cw25xt/spglib_6207849ab7c64022b27925c813b8e5ef/src/site_symmetry.c).\n",
      "spglib: ssm_get_exact_positions failed. (line 479, /tmp/pip-install-58cw25xt/spglib_6207849ab7c64022b27925c813b8e5ef/src/refinement.c).\n",
      "spglib: get_bravais_exact_positions_and_lattice failed. (line 336, /tmp/pip-install-58cw25xt/spglib_6207849ab7c64022b27925c813b8e5ef/src/refinement.c).\n",
      "spglib: ref_get_exact_structure_and_symmetry failed. (line 82, /tmp/pip-install-58cw25xt/spglib_6207849ab7c64022b27925c813b8e5ef/src/determination.c).\n",
      "spglib: ssm_get_exact_positions failed (attempt=0). (line 115, /tmp/pip-install-58cw25xt/spglib_6207849ab7c64022b27925c813b8e5ef/src/site_symmetry.c).\n",
      "spglib: ssm_get_exact_positions failed (attempt=1). (line 115, /tmp/pip-install-58cw25xt/spglib_6207849ab7c64022b27925c813b8e5ef/src/site_symmetry.c).\n",
      "spglib: ssm_get_exact_positions failed (attempt=2). (line 115, /tmp/pip-install-58cw25xt/spglib_6207849ab7c64022b27925c813b8e5ef/src/site_symmetry.c).\n",
      "spglib: ssm_get_exact_positions failed (attempt=3). (line 115, /tmp/pip-install-58cw25xt/spglib_6207849ab7c64022b27925c813b8e5ef/src/site_symmetry.c).\n",
      "spglib: ssm_get_exact_positions failed (attempt=4). (line 115, /tmp/pip-install-58cw25xt/spglib_6207849ab7c64022b27925c813b8e5ef/src/site_symmetry.c).\n",
      "spglib: ssm_get_exact_positions failed. (line 479, /tmp/pip-install-58cw25xt/spglib_6207849ab7c64022b27925c813b8e5ef/src/refinement.c).\n",
      "spglib: get_bravais_exact_positions_and_lattice failed. (line 336, /tmp/pip-install-58cw25xt/spglib_6207849ab7c64022b27925c813b8e5ef/src/refinement.c).\n",
      "spglib: ref_get_exact_structure_and_symmetry failed. (line 82, /tmp/pip-install-58cw25xt/spglib_6207849ab7c64022b27925c813b8e5ef/src/determination.c).\n",
      "spglib: ssm_get_exact_positions failed (attempt=0). (line 115, /tmp/pip-install-58cw25xt/spglib_6207849ab7c64022b27925c813b8e5ef/src/site_symmetry.c).\n",
      "spglib: ssm_get_exact_positions failed (attempt=1). (line 115, /tmp/pip-install-58cw25xt/spglib_6207849ab7c64022b27925c813b8e5ef/src/site_symmetry.c).\n",
      "spglib: ssm_get_exact_positions failed (attempt=2). (line 115, /tmp/pip-install-58cw25xt/spglib_6207849ab7c64022b27925c813b8e5ef/src/site_symmetry.c).\n",
      "spglib: ssm_get_exact_positions failed (attempt=3). (line 115, /tmp/pip-install-58cw25xt/spglib_6207849ab7c64022b27925c813b8e5ef/src/site_symmetry.c).\n",
      "spglib: ssm_get_exact_positions failed (attempt=4). (line 115, /tmp/pip-install-58cw25xt/spglib_6207849ab7c64022b27925c813b8e5ef/src/site_symmetry.c).\n",
      "spglib: ssm_get_exact_positions failed. (line 479, /tmp/pip-install-58cw25xt/spglib_6207849ab7c64022b27925c813b8e5ef/src/refinement.c).\n",
      "spglib: get_bravais_exact_positions_and_lattice failed. (line 336, /tmp/pip-install-58cw25xt/spglib_6207849ab7c64022b27925c813b8e5ef/src/refinement.c).\n",
      "spglib: ref_get_exact_structure_and_symmetry failed. (line 82, /tmp/pip-install-58cw25xt/spglib_6207849ab7c64022b27925c813b8e5ef/src/determination.c).\n",
      "spglib: ssm_get_exact_positions failed (attempt=0). (line 115, /tmp/pip-install-58cw25xt/spglib_6207849ab7c64022b27925c813b8e5ef/src/site_symmetry.c).\n",
      "spglib: ssm_get_exact_positions failed (attempt=1). (line 115, /tmp/pip-install-58cw25xt/spglib_6207849ab7c64022b27925c813b8e5ef/src/site_symmetry.c).\n",
      "spglib: ssm_get_exact_positions failed (attempt=2). (line 115, /tmp/pip-install-58cw25xt/spglib_6207849ab7c64022b27925c813b8e5ef/src/site_symmetry.c).\n",
      "spglib: ssm_get_exact_positions failed (attempt=3). (line 115, /tmp/pip-install-58cw25xt/spglib_6207849ab7c64022b27925c813b8e5ef/src/site_symmetry.c).\n",
      "spglib: ssm_get_exact_positions failed (attempt=4). (line 115, /tmp/pip-install-58cw25xt/spglib_6207849ab7c64022b27925c813b8e5ef/src/site_symmetry.c).\n",
      "spglib: ssm_get_exact_positions failed. (line 479, /tmp/pip-install-58cw25xt/spglib_6207849ab7c64022b27925c813b8e5ef/src/refinement.c).\n",
      "spglib: get_bravais_exact_positions_and_lattice failed. (line 336, /tmp/pip-install-58cw25xt/spglib_6207849ab7c64022b27925c813b8e5ef/src/refinement.c).\n",
      "spglib: ref_get_exact_structure_and_symmetry failed. (line 82, /tmp/pip-install-58cw25xt/spglib_6207849ab7c64022b27925c813b8e5ef/src/determination.c).\n",
      "spglib: ssm_get_exact_positions failed (attempt=0). (line 115, /tmp/pip-install-58cw25xt/spglib_6207849ab7c64022b27925c813b8e5ef/src/site_symmetry.c).\n",
      "spglib: ssm_get_exact_positions failed (attempt=1). (line 115, /tmp/pip-install-58cw25xt/spglib_6207849ab7c64022b27925c813b8e5ef/src/site_symmetry.c).\n",
      "spglib: ssm_get_exact_positions failed (attempt=2). (line 115, /tmp/pip-install-58cw25xt/spglib_6207849ab7c64022b27925c813b8e5ef/src/site_symmetry.c).\n",
      "spglib: ssm_get_exact_positions failed (attempt=3). (line 115, /tmp/pip-install-58cw25xt/spglib_6207849ab7c64022b27925c813b8e5ef/src/site_symmetry.c).\n",
      "spglib: ssm_get_exact_positions failed (attempt=4). (line 115, /tmp/pip-install-58cw25xt/spglib_6207849ab7c64022b27925c813b8e5ef/src/site_symmetry.c).\n",
      "spglib: ssm_get_exact_positions failed. (line 479, /tmp/pip-install-58cw25xt/spglib_6207849ab7c64022b27925c813b8e5ef/src/refinement.c).\n",
      "spglib: get_bravais_exact_positions_and_lattice failed. (line 336, /tmp/pip-install-58cw25xt/spglib_6207849ab7c64022b27925c813b8e5ef/src/refinement.c).\n",
      "spglib: ref_get_exact_structure_and_symmetry failed. (line 82, /tmp/pip-install-58cw25xt/spglib_6207849ab7c64022b27925c813b8e5ef/src/determination.c).\n",
      "spglib: ssm_get_exact_positions failed (attempt=0). (line 115, /tmp/pip-install-58cw25xt/spglib_6207849ab7c64022b27925c813b8e5ef/src/site_symmetry.c).\n",
      "spglib: ssm_get_exact_positions failed (attempt=1). (line 115, /tmp/pip-install-58cw25xt/spglib_6207849ab7c64022b27925c813b8e5ef/src/site_symmetry.c).\n",
      "spglib: ssm_get_exact_positions failed (attempt=2). (line 115, /tmp/pip-install-58cw25xt/spglib_6207849ab7c64022b27925c813b8e5ef/src/site_symmetry.c).\n",
      "spglib: ssm_get_exact_positions failed (attempt=3). (line 115, /tmp/pip-install-58cw25xt/spglib_6207849ab7c64022b27925c813b8e5ef/src/site_symmetry.c).\n",
      "spglib: ssm_get_exact_positions failed (attempt=4). (line 115, /tmp/pip-install-58cw25xt/spglib_6207849ab7c64022b27925c813b8e5ef/src/site_symmetry.c).\n",
      "spglib: ssm_get_exact_positions failed. (line 479, /tmp/pip-install-58cw25xt/spglib_6207849ab7c64022b27925c813b8e5ef/src/refinement.c).\n",
      "spglib: get_bravais_exact_positions_and_lattice failed. (line 336, /tmp/pip-install-58cw25xt/spglib_6207849ab7c64022b27925c813b8e5ef/src/refinement.c).\n",
      "spglib: ref_get_exact_structure_and_symmetry failed. (line 82, /tmp/pip-install-58cw25xt/spglib_6207849ab7c64022b27925c813b8e5ef/src/determination.c).\n",
      "spglib: ssm_get_exact_positions failed (attempt=0). (line 115, /tmp/pip-install-58cw25xt/spglib_6207849ab7c64022b27925c813b8e5ef/src/site_symmetry.c).\n",
      "spglib: ssm_get_exact_positions failed (attempt=1). (line 115, /tmp/pip-install-58cw25xt/spglib_6207849ab7c64022b27925c813b8e5ef/src/site_symmetry.c).\n",
      "spglib: ssm_get_exact_positions failed (attempt=2). (line 115, /tmp/pip-install-58cw25xt/spglib_6207849ab7c64022b27925c813b8e5ef/src/site_symmetry.c).\n",
      "spglib: ssm_get_exact_positions failed (attempt=3). (line 115, /tmp/pip-install-58cw25xt/spglib_6207849ab7c64022b27925c813b8e5ef/src/site_symmetry.c).\n",
      "spglib: ssm_get_exact_positions failed (attempt=4). (line 115, /tmp/pip-install-58cw25xt/spglib_6207849ab7c64022b27925c813b8e5ef/src/site_symmetry.c).\n",
      "spglib: ssm_get_exact_positions failed. (line 479, /tmp/pip-install-58cw25xt/spglib_6207849ab7c64022b27925c813b8e5ef/src/refinement.c).\n",
      "spglib: get_bravais_exact_positions_and_lattice failed. (line 336, /tmp/pip-install-58cw25xt/spglib_6207849ab7c64022b27925c813b8e5ef/src/refinement.c).\n",
      "spglib: ref_get_exact_structure_and_symmetry failed. (line 82, /tmp/pip-install-58cw25xt/spglib_6207849ab7c64022b27925c813b8e5ef/src/determination.c).\n",
      "spglib: ssm_get_exact_positions failed (attempt=0). (line 115, /tmp/pip-install-58cw25xt/spglib_6207849ab7c64022b27925c813b8e5ef/src/site_symmetry.c).\n",
      "spglib: ssm_get_exact_positions failed (attempt=1). (line 115, /tmp/pip-install-58cw25xt/spglib_6207849ab7c64022b27925c813b8e5ef/src/site_symmetry.c).\n",
      "spglib: ssm_get_exact_positions failed (attempt=2). (line 115, /tmp/pip-install-58cw25xt/spglib_6207849ab7c64022b27925c813b8e5ef/src/site_symmetry.c).\n",
      "spglib: ssm_get_exact_positions failed (attempt=3). (line 115, /tmp/pip-install-58cw25xt/spglib_6207849ab7c64022b27925c813b8e5ef/src/site_symmetry.c).\n",
      "spglib: ssm_get_exact_positions failed (attempt=4). (line 115, /tmp/pip-install-58cw25xt/spglib_6207849ab7c64022b27925c813b8e5ef/src/site_symmetry.c).\n",
      "spglib: ssm_get_exact_positions failed. (line 479, /tmp/pip-install-58cw25xt/spglib_6207849ab7c64022b27925c813b8e5ef/src/refinement.c).\n",
      "spglib: get_bravais_exact_positions_and_lattice failed. (line 336, /tmp/pip-install-58cw25xt/spglib_6207849ab7c64022b27925c813b8e5ef/src/refinement.c).\n",
      "spglib: ref_get_exact_structure_and_symmetry failed. (line 82, /tmp/pip-install-58cw25xt/spglib_6207849ab7c64022b27925c813b8e5ef/src/determination.c).\n",
      "spglib: ssm_get_exact_positions failed (attempt=0). (line 115, /tmp/pip-install-58cw25xt/spglib_6207849ab7c64022b27925c813b8e5ef/src/site_symmetry.c).\n",
      "spglib: ssm_get_exact_positions failed (attempt=1). (line 115, /tmp/pip-install-58cw25xt/spglib_6207849ab7c64022b27925c813b8e5ef/src/site_symmetry.c).\n",
      "spglib: ssm_get_exact_positions failed (attempt=2). (line 115, /tmp/pip-install-58cw25xt/spglib_6207849ab7c64022b27925c813b8e5ef/src/site_symmetry.c).\n",
      "spglib: ssm_get_exact_positions failed (attempt=3). (line 115, /tmp/pip-install-58cw25xt/spglib_6207849ab7c64022b27925c813b8e5ef/src/site_symmetry.c).\n",
      "spglib: ssm_get_exact_positions failed (attempt=4). (line 115, /tmp/pip-install-58cw25xt/spglib_6207849ab7c64022b27925c813b8e5ef/src/site_symmetry.c).\n",
      "spglib: ssm_get_exact_positions failed. (line 479, /tmp/pip-install-58cw25xt/spglib_6207849ab7c64022b27925c813b8e5ef/src/refinement.c).\n",
      "spglib: get_bravais_exact_positions_and_lattice failed. (line 336, /tmp/pip-install-58cw25xt/spglib_6207849ab7c64022b27925c813b8e5ef/src/refinement.c).\n",
      "spglib: ref_get_exact_structure_and_symmetry failed. (line 82, /tmp/pip-install-58cw25xt/spglib_6207849ab7c64022b27925c813b8e5ef/src/determination.c).\n",
      "spglib: ssm_get_exact_positions failed (attempt=0). (line 115, /tmp/pip-install-58cw25xt/spglib_6207849ab7c64022b27925c813b8e5ef/src/site_symmetry.c).\n",
      "spglib: ssm_get_exact_positions failed (attempt=1). (line 115, /tmp/pip-install-58cw25xt/spglib_6207849ab7c64022b27925c813b8e5ef/src/site_symmetry.c).\n",
      "spglib: ssm_get_exact_positions failed (attempt=2). (line 115, /tmp/pip-install-58cw25xt/spglib_6207849ab7c64022b27925c813b8e5ef/src/site_symmetry.c).\n",
      "spglib: ssm_get_exact_positions failed (attempt=3). (line 115, /tmp/pip-install-58cw25xt/spglib_6207849ab7c64022b27925c813b8e5ef/src/site_symmetry.c).\n",
      "spglib: ssm_get_exact_positions failed (attempt=4). (line 115, /tmp/pip-install-58cw25xt/spglib_6207849ab7c64022b27925c813b8e5ef/src/site_symmetry.c).\n",
      "spglib: ssm_get_exact_positions failed. (line 479, /tmp/pip-install-58cw25xt/spglib_6207849ab7c64022b27925c813b8e5ef/src/refinement.c).\n",
      "spglib: get_bravais_exact_positions_and_lattice failed. (line 336, /tmp/pip-install-58cw25xt/spglib_6207849ab7c64022b27925c813b8e5ef/src/refinement.c).\n",
      "spglib: ref_get_exact_structure_and_symmetry failed. (line 82, /tmp/pip-install-58cw25xt/spglib_6207849ab7c64022b27925c813b8e5ef/src/determination.c).\n",
      "spglib: ssm_get_exact_positions failed (attempt=0). (line 115, /tmp/pip-install-58cw25xt/spglib_6207849ab7c64022b27925c813b8e5ef/src/site_symmetry.c).\n",
      "spglib: ssm_get_exact_positions failed (attempt=1). (line 115, /tmp/pip-install-58cw25xt/spglib_6207849ab7c64022b27925c813b8e5ef/src/site_symmetry.c).\n",
      "spglib: ssm_get_exact_positions failed (attempt=2). (line 115, /tmp/pip-install-58cw25xt/spglib_6207849ab7c64022b27925c813b8e5ef/src/site_symmetry.c).\n",
      "spglib: ssm_get_exact_positions failed (attempt=3). (line 115, /tmp/pip-install-58cw25xt/spglib_6207849ab7c64022b27925c813b8e5ef/src/site_symmetry.c).\n",
      "spglib: ssm_get_exact_positions failed (attempt=4). (line 115, /tmp/pip-install-58cw25xt/spglib_6207849ab7c64022b27925c813b8e5ef/src/site_symmetry.c).\n",
      "spglib: ssm_get_exact_positions failed. (line 479, /tmp/pip-install-58cw25xt/spglib_6207849ab7c64022b27925c813b8e5ef/src/refinement.c).\n",
      "spglib: get_bravais_exact_positions_and_lattice failed. (line 336, /tmp/pip-install-58cw25xt/spglib_6207849ab7c64022b27925c813b8e5ef/src/refinement.c).\n",
      "spglib: ref_get_exact_structure_and_symmetry failed. (line 82, /tmp/pip-install-58cw25xt/spglib_6207849ab7c64022b27925c813b8e5ef/src/determination.c).\n",
      "spglib: ssm_get_exact_positions failed (attempt=0). (line 115, /tmp/pip-install-58cw25xt/spglib_6207849ab7c64022b27925c813b8e5ef/src/site_symmetry.c).\n",
      "spglib: ssm_get_exact_positions failed (attempt=1). (line 115, /tmp/pip-install-58cw25xt/spglib_6207849ab7c64022b27925c813b8e5ef/src/site_symmetry.c).\n",
      "spglib: ssm_get_exact_positions failed (attempt=2). (line 115, /tmp/pip-install-58cw25xt/spglib_6207849ab7c64022b27925c813b8e5ef/src/site_symmetry.c).\n",
      "spglib: ssm_get_exact_positions failed (attempt=3). (line 115, /tmp/pip-install-58cw25xt/spglib_6207849ab7c64022b27925c813b8e5ef/src/site_symmetry.c).\n",
      "spglib: ssm_get_exact_positions failed (attempt=4). (line 115, /tmp/pip-install-58cw25xt/spglib_6207849ab7c64022b27925c813b8e5ef/src/site_symmetry.c).\n",
      "spglib: ssm_get_exact_positions failed. (line 479, /tmp/pip-install-58cw25xt/spglib_6207849ab7c64022b27925c813b8e5ef/src/refinement.c).\n",
      "spglib: get_bravais_exact_positions_and_lattice failed. (line 336, /tmp/pip-install-58cw25xt/spglib_6207849ab7c64022b27925c813b8e5ef/src/refinement.c).\n",
      "spglib: ref_get_exact_structure_and_symmetry failed. (line 82, /tmp/pip-install-58cw25xt/spglib_6207849ab7c64022b27925c813b8e5ef/src/determination.c).\n",
      "spglib: ssm_get_exact_positions failed (attempt=0). (line 115, /tmp/pip-install-58cw25xt/spglib_6207849ab7c64022b27925c813b8e5ef/src/site_symmetry.c).\n",
      "spglib: ssm_get_exact_positions failed (attempt=1). (line 115, /tmp/pip-install-58cw25xt/spglib_6207849ab7c64022b27925c813b8e5ef/src/site_symmetry.c).\n",
      "spglib: ssm_get_exact_positions failed (attempt=2). (line 115, /tmp/pip-install-58cw25xt/spglib_6207849ab7c64022b27925c813b8e5ef/src/site_symmetry.c).\n",
      "spglib: ssm_get_exact_positions failed (attempt=3). (line 115, /tmp/pip-install-58cw25xt/spglib_6207849ab7c64022b27925c813b8e5ef/src/site_symmetry.c).\n",
      "spglib: ssm_get_exact_positions failed (attempt=4). (line 115, /tmp/pip-install-58cw25xt/spglib_6207849ab7c64022b27925c813b8e5ef/src/site_symmetry.c).\n",
      "spglib: ssm_get_exact_positions failed. (line 479, /tmp/pip-install-58cw25xt/spglib_6207849ab7c64022b27925c813b8e5ef/src/refinement.c).\n",
      "spglib: get_bravais_exact_positions_and_lattice failed. (line 336, /tmp/pip-install-58cw25xt/spglib_6207849ab7c64022b27925c813b8e5ef/src/refinement.c).\n",
      "spglib: ref_get_exact_structure_and_symmetry failed. (line 82, /tmp/pip-install-58cw25xt/spglib_6207849ab7c64022b27925c813b8e5ef/src/determination.c).\n",
      "spglib: ssm_get_exact_positions failed (attempt=0). (line 115, /tmp/pip-install-58cw25xt/spglib_6207849ab7c64022b27925c813b8e5ef/src/site_symmetry.c).\n",
      "spglib: ssm_get_exact_positions failed (attempt=1). (line 115, /tmp/pip-install-58cw25xt/spglib_6207849ab7c64022b27925c813b8e5ef/src/site_symmetry.c).\n",
      "spglib: ssm_get_exact_positions failed (attempt=2). (line 115, /tmp/pip-install-58cw25xt/spglib_6207849ab7c64022b27925c813b8e5ef/src/site_symmetry.c).\n",
      "spglib: ssm_get_exact_positions failed (attempt=3). (line 115, /tmp/pip-install-58cw25xt/spglib_6207849ab7c64022b27925c813b8e5ef/src/site_symmetry.c).\n",
      "spglib: ssm_get_exact_positions failed (attempt=4). (line 115, /tmp/pip-install-58cw25xt/spglib_6207849ab7c64022b27925c813b8e5ef/src/site_symmetry.c).\n",
      "spglib: ssm_get_exact_positions failed. (line 479, /tmp/pip-install-58cw25xt/spglib_6207849ab7c64022b27925c813b8e5ef/src/refinement.c).\n",
      "spglib: get_bravais_exact_positions_and_lattice failed. (line 336, /tmp/pip-install-58cw25xt/spglib_6207849ab7c64022b27925c813b8e5ef/src/refinement.c).\n",
      "spglib: ref_get_exact_structure_and_symmetry failed. (line 82, /tmp/pip-install-58cw25xt/spglib_6207849ab7c64022b27925c813b8e5ef/src/determination.c).\n",
      "spglib: ssm_get_exact_positions failed (attempt=0). (line 115, /tmp/pip-install-58cw25xt/spglib_6207849ab7c64022b27925c813b8e5ef/src/site_symmetry.c).\n",
      "spglib: ssm_get_exact_positions failed (attempt=1). (line 115, /tmp/pip-install-58cw25xt/spglib_6207849ab7c64022b27925c813b8e5ef/src/site_symmetry.c).\n",
      "spglib: ssm_get_exact_positions failed (attempt=2). (line 115, /tmp/pip-install-58cw25xt/spglib_6207849ab7c64022b27925c813b8e5ef/src/site_symmetry.c).\n",
      "spglib: ssm_get_exact_positions failed (attempt=3). (line 115, /tmp/pip-install-58cw25xt/spglib_6207849ab7c64022b27925c813b8e5ef/src/site_symmetry.c).\n",
      "spglib: ssm_get_exact_positions failed (attempt=4). (line 115, /tmp/pip-install-58cw25xt/spglib_6207849ab7c64022b27925c813b8e5ef/src/site_symmetry.c).\n",
      "spglib: ssm_get_exact_positions failed. (line 479, /tmp/pip-install-58cw25xt/spglib_6207849ab7c64022b27925c813b8e5ef/src/refinement.c).\n",
      "spglib: get_bravais_exact_positions_and_lattice failed. (line 336, /tmp/pip-install-58cw25xt/spglib_6207849ab7c64022b27925c813b8e5ef/src/refinement.c).\n",
      "spglib: ref_get_exact_structure_and_symmetry failed. (line 82, /tmp/pip-install-58cw25xt/spglib_6207849ab7c64022b27925c813b8e5ef/src/determination.c).\n",
      "spglib: ssm_get_exact_positions failed (attempt=0). (line 115, /tmp/pip-install-58cw25xt/spglib_6207849ab7c64022b27925c813b8e5ef/src/site_symmetry.c).\n",
      "spglib: ssm_get_exact_positions failed (attempt=1). (line 115, /tmp/pip-install-58cw25xt/spglib_6207849ab7c64022b27925c813b8e5ef/src/site_symmetry.c).\n",
      "spglib: ssm_get_exact_positions failed (attempt=2). (line 115, /tmp/pip-install-58cw25xt/spglib_6207849ab7c64022b27925c813b8e5ef/src/site_symmetry.c).\n",
      "spglib: ssm_get_exact_positions failed (attempt=3). (line 115, /tmp/pip-install-58cw25xt/spglib_6207849ab7c64022b27925c813b8e5ef/src/site_symmetry.c).\n",
      "spglib: ssm_get_exact_positions failed (attempt=4). (line 115, /tmp/pip-install-58cw25xt/spglib_6207849ab7c64022b27925c813b8e5ef/src/site_symmetry.c).\n",
      "spglib: ssm_get_exact_positions failed. (line 479, /tmp/pip-install-58cw25xt/spglib_6207849ab7c64022b27925c813b8e5ef/src/refinement.c).\n",
      "spglib: get_bravais_exact_positions_and_lattice failed. (line 336, /tmp/pip-install-58cw25xt/spglib_6207849ab7c64022b27925c813b8e5ef/src/refinement.c).\n",
      "spglib: ref_get_exact_structure_and_symmetry failed. (line 82, /tmp/pip-install-58cw25xt/spglib_6207849ab7c64022b27925c813b8e5ef/src/determination.c).\n",
      "spglib: ssm_get_exact_positions failed (attempt=0). (line 115, /tmp/pip-install-58cw25xt/spglib_6207849ab7c64022b27925c813b8e5ef/src/site_symmetry.c).\n",
      "spglib: ssm_get_exact_positions failed (attempt=1). (line 115, /tmp/pip-install-58cw25xt/spglib_6207849ab7c64022b27925c813b8e5ef/src/site_symmetry.c).\n",
      "spglib: ssm_get_exact_positions failed (attempt=2). (line 115, /tmp/pip-install-58cw25xt/spglib_6207849ab7c64022b27925c813b8e5ef/src/site_symmetry.c).\n",
      "spglib: ssm_get_exact_positions failed (attempt=3). (line 115, /tmp/pip-install-58cw25xt/spglib_6207849ab7c64022b27925c813b8e5ef/src/site_symmetry.c).\n",
      "spglib: ssm_get_exact_positions failed (attempt=4). (line 115, /tmp/pip-install-58cw25xt/spglib_6207849ab7c64022b27925c813b8e5ef/src/site_symmetry.c).\n",
      "spglib: ssm_get_exact_positions failed. (line 479, /tmp/pip-install-58cw25xt/spglib_6207849ab7c64022b27925c813b8e5ef/src/refinement.c).\n",
      "spglib: get_bravais_exact_positions_and_lattice failed. (line 336, /tmp/pip-install-58cw25xt/spglib_6207849ab7c64022b27925c813b8e5ef/src/refinement.c).\n",
      "spglib: ref_get_exact_structure_and_symmetry failed. (line 82, /tmp/pip-install-58cw25xt/spglib_6207849ab7c64022b27925c813b8e5ef/src/determination.c).\n",
      "spglib: ssm_get_exact_positions failed (attempt=0). (line 115, /tmp/pip-install-58cw25xt/spglib_6207849ab7c64022b27925c813b8e5ef/src/site_symmetry.c).\n",
      "spglib: ssm_get_exact_positions failed (attempt=1). (line 115, /tmp/pip-install-58cw25xt/spglib_6207849ab7c64022b27925c813b8e5ef/src/site_symmetry.c).\n",
      "spglib: ssm_get_exact_positions failed (attempt=2). (line 115, /tmp/pip-install-58cw25xt/spglib_6207849ab7c64022b27925c813b8e5ef/src/site_symmetry.c).\n",
      "spglib: ssm_get_exact_positions failed (attempt=3). (line 115, /tmp/pip-install-58cw25xt/spglib_6207849ab7c64022b27925c813b8e5ef/src/site_symmetry.c).\n",
      "spglib: ssm_get_exact_positions failed (attempt=4). (line 115, /tmp/pip-install-58cw25xt/spglib_6207849ab7c64022b27925c813b8e5ef/src/site_symmetry.c).\n",
      "spglib: ssm_get_exact_positions failed. (line 479, /tmp/pip-install-58cw25xt/spglib_6207849ab7c64022b27925c813b8e5ef/src/refinement.c).\n",
      "spglib: get_bravais_exact_positions_and_lattice failed. (line 336, /tmp/pip-install-58cw25xt/spglib_6207849ab7c64022b27925c813b8e5ef/src/refinement.c).\n",
      "spglib: ref_get_exact_structure_and_symmetry failed. (line 82, /tmp/pip-install-58cw25xt/spglib_6207849ab7c64022b27925c813b8e5ef/src/determination.c).\n",
      "spglib: ssm_get_exact_positions failed (attempt=0). (line 115, /tmp/pip-install-58cw25xt/spglib_6207849ab7c64022b27925c813b8e5ef/src/site_symmetry.c).\n",
      "spglib: ssm_get_exact_positions failed (attempt=1). (line 115, /tmp/pip-install-58cw25xt/spglib_6207849ab7c64022b27925c813b8e5ef/src/site_symmetry.c).\n",
      "spglib: ssm_get_exact_positions failed (attempt=2). (line 115, /tmp/pip-install-58cw25xt/spglib_6207849ab7c64022b27925c813b8e5ef/src/site_symmetry.c).\n",
      "spglib: ssm_get_exact_positions failed (attempt=3). (line 115, /tmp/pip-install-58cw25xt/spglib_6207849ab7c64022b27925c813b8e5ef/src/site_symmetry.c).\n",
      "spglib: ssm_get_exact_positions failed (attempt=4). (line 115, /tmp/pip-install-58cw25xt/spglib_6207849ab7c64022b27925c813b8e5ef/src/site_symmetry.c).\n",
      "spglib: ssm_get_exact_positions failed. (line 479, /tmp/pip-install-58cw25xt/spglib_6207849ab7c64022b27925c813b8e5ef/src/refinement.c).\n",
      "spglib: get_bravais_exact_positions_and_lattice failed. (line 336, /tmp/pip-install-58cw25xt/spglib_6207849ab7c64022b27925c813b8e5ef/src/refinement.c).\n",
      "spglib: ref_get_exact_structure_and_symmetry failed. (line 82, /tmp/pip-install-58cw25xt/spglib_6207849ab7c64022b27925c813b8e5ef/src/determination.c).\n",
      "spglib: ssm_get_exact_positions failed (attempt=0). (line 115, /tmp/pip-install-58cw25xt/spglib_6207849ab7c64022b27925c813b8e5ef/src/site_symmetry.c).\n",
      "spglib: ssm_get_exact_positions failed (attempt=1). (line 115, /tmp/pip-install-58cw25xt/spglib_6207849ab7c64022b27925c813b8e5ef/src/site_symmetry.c).\n",
      "spglib: ssm_get_exact_positions failed (attempt=2). (line 115, /tmp/pip-install-58cw25xt/spglib_6207849ab7c64022b27925c813b8e5ef/src/site_symmetry.c).\n",
      "spglib: ssm_get_exact_positions failed (attempt=3). (line 115, /tmp/pip-install-58cw25xt/spglib_6207849ab7c64022b27925c813b8e5ef/src/site_symmetry.c).\n",
      "spglib: ssm_get_exact_positions failed (attempt=4). (line 115, /tmp/pip-install-58cw25xt/spglib_6207849ab7c64022b27925c813b8e5ef/src/site_symmetry.c).\n",
      "spglib: ssm_get_exact_positions failed. (line 479, /tmp/pip-install-58cw25xt/spglib_6207849ab7c64022b27925c813b8e5ef/src/refinement.c).\n",
      "spglib: get_bravais_exact_positions_and_lattice failed. (line 336, /tmp/pip-install-58cw25xt/spglib_6207849ab7c64022b27925c813b8e5ef/src/refinement.c).\n",
      "spglib: ref_get_exact_structure_and_symmetry failed. (line 82, /tmp/pip-install-58cw25xt/spglib_6207849ab7c64022b27925c813b8e5ef/src/determination.c).\n",
      "spglib: ssm_get_exact_positions failed (attempt=0). (line 115, /tmp/pip-install-58cw25xt/spglib_6207849ab7c64022b27925c813b8e5ef/src/site_symmetry.c).\n",
      "spglib: ssm_get_exact_positions failed (attempt=1). (line 115, /tmp/pip-install-58cw25xt/spglib_6207849ab7c64022b27925c813b8e5ef/src/site_symmetry.c).\n",
      "spglib: ssm_get_exact_positions failed (attempt=2). (line 115, /tmp/pip-install-58cw25xt/spglib_6207849ab7c64022b27925c813b8e5ef/src/site_symmetry.c).\n",
      "spglib: ssm_get_exact_positions failed (attempt=3). (line 115, /tmp/pip-install-58cw25xt/spglib_6207849ab7c64022b27925c813b8e5ef/src/site_symmetry.c).\n",
      "spglib: ssm_get_exact_positions failed (attempt=4). (line 115, /tmp/pip-install-58cw25xt/spglib_6207849ab7c64022b27925c813b8e5ef/src/site_symmetry.c).\n",
      "spglib: ssm_get_exact_positions failed. (line 479, /tmp/pip-install-58cw25xt/spglib_6207849ab7c64022b27925c813b8e5ef/src/refinement.c).\n",
      "spglib: get_bravais_exact_positions_and_lattice failed. (line 336, /tmp/pip-install-58cw25xt/spglib_6207849ab7c64022b27925c813b8e5ef/src/refinement.c).\n",
      "spglib: ref_get_exact_structure_and_symmetry failed. (line 82, /tmp/pip-install-58cw25xt/spglib_6207849ab7c64022b27925c813b8e5ef/src/determination.c).\n",
      "spglib: ssm_get_exact_positions failed (attempt=0). (line 115, /tmp/pip-install-58cw25xt/spglib_6207849ab7c64022b27925c813b8e5ef/src/site_symmetry.c).\n",
      "spglib: ssm_get_exact_positions failed (attempt=1). (line 115, /tmp/pip-install-58cw25xt/spglib_6207849ab7c64022b27925c813b8e5ef/src/site_symmetry.c).\n",
      "spglib: ssm_get_exact_positions failed (attempt=2). (line 115, /tmp/pip-install-58cw25xt/spglib_6207849ab7c64022b27925c813b8e5ef/src/site_symmetry.c).\n",
      "spglib: ssm_get_exact_positions failed (attempt=3). (line 115, /tmp/pip-install-58cw25xt/spglib_6207849ab7c64022b27925c813b8e5ef/src/site_symmetry.c).\n",
      "spglib: ssm_get_exact_positions failed (attempt=4). (line 115, /tmp/pip-install-58cw25xt/spglib_6207849ab7c64022b27925c813b8e5ef/src/site_symmetry.c).\n",
      "spglib: ssm_get_exact_positions failed. (line 479, /tmp/pip-install-58cw25xt/spglib_6207849ab7c64022b27925c813b8e5ef/src/refinement.c).\n",
      "spglib: get_bravais_exact_positions_and_lattice failed. (line 336, /tmp/pip-install-58cw25xt/spglib_6207849ab7c64022b27925c813b8e5ef/src/refinement.c).\n",
      "spglib: ref_get_exact_structure_and_symmetry failed. (line 82, /tmp/pip-install-58cw25xt/spglib_6207849ab7c64022b27925c813b8e5ef/src/determination.c).\n",
      "spglib: ssm_get_exact_positions failed (attempt=0). (line 115, /tmp/pip-install-58cw25xt/spglib_6207849ab7c64022b27925c813b8e5ef/src/site_symmetry.c).\n",
      "spglib: ssm_get_exact_positions failed (attempt=1). (line 115, /tmp/pip-install-58cw25xt/spglib_6207849ab7c64022b27925c813b8e5ef/src/site_symmetry.c).\n",
      "spglib: ssm_get_exact_positions failed (attempt=2). (line 115, /tmp/pip-install-58cw25xt/spglib_6207849ab7c64022b27925c813b8e5ef/src/site_symmetry.c).\n",
      "spglib: ssm_get_exact_positions failed (attempt=3). (line 115, /tmp/pip-install-58cw25xt/spglib_6207849ab7c64022b27925c813b8e5ef/src/site_symmetry.c).\n",
      "spglib: ssm_get_exact_positions failed (attempt=4). (line 115, /tmp/pip-install-58cw25xt/spglib_6207849ab7c64022b27925c813b8e5ef/src/site_symmetry.c).\n",
      "spglib: ssm_get_exact_positions failed. (line 479, /tmp/pip-install-58cw25xt/spglib_6207849ab7c64022b27925c813b8e5ef/src/refinement.c).\n",
      "spglib: get_bravais_exact_positions_and_lattice failed. (line 336, /tmp/pip-install-58cw25xt/spglib_6207849ab7c64022b27925c813b8e5ef/src/refinement.c).\n",
      "spglib: ref_get_exact_structure_and_symmetry failed. (line 82, /tmp/pip-install-58cw25xt/spglib_6207849ab7c64022b27925c813b8e5ef/src/determination.c).\n",
      "spglib: ssm_get_exact_positions failed (attempt=0). (line 115, /tmp/pip-install-58cw25xt/spglib_6207849ab7c64022b27925c813b8e5ef/src/site_symmetry.c).\n",
      "spglib: ssm_get_exact_positions failed (attempt=1). (line 115, /tmp/pip-install-58cw25xt/spglib_6207849ab7c64022b27925c813b8e5ef/src/site_symmetry.c).\n",
      "spglib: ssm_get_exact_positions failed (attempt=2). (line 115, /tmp/pip-install-58cw25xt/spglib_6207849ab7c64022b27925c813b8e5ef/src/site_symmetry.c).\n",
      "spglib: ssm_get_exact_positions failed (attempt=3). (line 115, /tmp/pip-install-58cw25xt/spglib_6207849ab7c64022b27925c813b8e5ef/src/site_symmetry.c).\n",
      "spglib: ssm_get_exact_positions failed (attempt=4). (line 115, /tmp/pip-install-58cw25xt/spglib_6207849ab7c64022b27925c813b8e5ef/src/site_symmetry.c).\n",
      "spglib: ssm_get_exact_positions failed. (line 479, /tmp/pip-install-58cw25xt/spglib_6207849ab7c64022b27925c813b8e5ef/src/refinement.c).\n",
      "spglib: get_bravais_exact_positions_and_lattice failed. (line 336, /tmp/pip-install-58cw25xt/spglib_6207849ab7c64022b27925c813b8e5ef/src/refinement.c).\n",
      "spglib: ref_get_exact_structure_and_symmetry failed. (line 82, /tmp/pip-install-58cw25xt/spglib_6207849ab7c64022b27925c813b8e5ef/src/determination.c).\n",
      "spglib: ssm_get_exact_positions failed (attempt=0). (line 115, /tmp/pip-install-58cw25xt/spglib_6207849ab7c64022b27925c813b8e5ef/src/site_symmetry.c).\n",
      "spglib: ssm_get_exact_positions failed (attempt=1). (line 115, /tmp/pip-install-58cw25xt/spglib_6207849ab7c64022b27925c813b8e5ef/src/site_symmetry.c).\n",
      "spglib: ssm_get_exact_positions failed (attempt=2). (line 115, /tmp/pip-install-58cw25xt/spglib_6207849ab7c64022b27925c813b8e5ef/src/site_symmetry.c).\n",
      "spglib: ssm_get_exact_positions failed (attempt=3). (line 115, /tmp/pip-install-58cw25xt/spglib_6207849ab7c64022b27925c813b8e5ef/src/site_symmetry.c).\n",
      "spglib: ssm_get_exact_positions failed (attempt=4). (line 115, /tmp/pip-install-58cw25xt/spglib_6207849ab7c64022b27925c813b8e5ef/src/site_symmetry.c).\n",
      "spglib: ssm_get_exact_positions failed. (line 479, /tmp/pip-install-58cw25xt/spglib_6207849ab7c64022b27925c813b8e5ef/src/refinement.c).\n",
      "spglib: get_bravais_exact_positions_and_lattice failed. (line 336, /tmp/pip-install-58cw25xt/spglib_6207849ab7c64022b27925c813b8e5ef/src/refinement.c).\n",
      "spglib: ref_get_exact_structure_and_symmetry failed. (line 82, /tmp/pip-install-58cw25xt/spglib_6207849ab7c64022b27925c813b8e5ef/src/determination.c).\n",
      "spglib: ssm_get_exact_positions failed (attempt=0). (line 115, /tmp/pip-install-58cw25xt/spglib_6207849ab7c64022b27925c813b8e5ef/src/site_symmetry.c).\n",
      "spglib: ssm_get_exact_positions failed (attempt=1). (line 115, /tmp/pip-install-58cw25xt/spglib_6207849ab7c64022b27925c813b8e5ef/src/site_symmetry.c).\n",
      "spglib: ssm_get_exact_positions failed (attempt=2). (line 115, /tmp/pip-install-58cw25xt/spglib_6207849ab7c64022b27925c813b8e5ef/src/site_symmetry.c).\n",
      "spglib: ssm_get_exact_positions failed (attempt=3). (line 115, /tmp/pip-install-58cw25xt/spglib_6207849ab7c64022b27925c813b8e5ef/src/site_symmetry.c).\n",
      "spglib: ssm_get_exact_positions failed (attempt=4). (line 115, /tmp/pip-install-58cw25xt/spglib_6207849ab7c64022b27925c813b8e5ef/src/site_symmetry.c).\n",
      "spglib: ssm_get_exact_positions failed. (line 479, /tmp/pip-install-58cw25xt/spglib_6207849ab7c64022b27925c813b8e5ef/src/refinement.c).\n",
      "spglib: get_bravais_exact_positions_and_lattice failed. (line 336, /tmp/pip-install-58cw25xt/spglib_6207849ab7c64022b27925c813b8e5ef/src/refinement.c).\n",
      "spglib: ref_get_exact_structure_and_symmetry failed. (line 82, /tmp/pip-install-58cw25xt/spglib_6207849ab7c64022b27925c813b8e5ef/src/determination.c).\n",
      "spglib: ssm_get_exact_positions failed (attempt=0). (line 115, /tmp/pip-install-58cw25xt/spglib_6207849ab7c64022b27925c813b8e5ef/src/site_symmetry.c).\n",
      "spglib: ssm_get_exact_positions failed (attempt=1). (line 115, /tmp/pip-install-58cw25xt/spglib_6207849ab7c64022b27925c813b8e5ef/src/site_symmetry.c).\n",
      "spglib: ssm_get_exact_positions failed (attempt=2). (line 115, /tmp/pip-install-58cw25xt/spglib_6207849ab7c64022b27925c813b8e5ef/src/site_symmetry.c).\n",
      "spglib: ssm_get_exact_positions failed (attempt=3). (line 115, /tmp/pip-install-58cw25xt/spglib_6207849ab7c64022b27925c813b8e5ef/src/site_symmetry.c).\n",
      "spglib: ssm_get_exact_positions failed (attempt=4). (line 115, /tmp/pip-install-58cw25xt/spglib_6207849ab7c64022b27925c813b8e5ef/src/site_symmetry.c).\n",
      "spglib: ssm_get_exact_positions failed. (line 479, /tmp/pip-install-58cw25xt/spglib_6207849ab7c64022b27925c813b8e5ef/src/refinement.c).\n",
      "spglib: get_bravais_exact_positions_and_lattice failed. (line 336, /tmp/pip-install-58cw25xt/spglib_6207849ab7c64022b27925c813b8e5ef/src/refinement.c).\n",
      "spglib: ref_get_exact_structure_and_symmetry failed. (line 82, /tmp/pip-install-58cw25xt/spglib_6207849ab7c64022b27925c813b8e5ef/src/determination.c).\n",
      "spglib: ssm_get_exact_positions failed (attempt=0). (line 115, /tmp/pip-install-58cw25xt/spglib_6207849ab7c64022b27925c813b8e5ef/src/site_symmetry.c).\n",
      "spglib: ssm_get_exact_positions failed (attempt=1). (line 115, /tmp/pip-install-58cw25xt/spglib_6207849ab7c64022b27925c813b8e5ef/src/site_symmetry.c).\n",
      "spglib: ssm_get_exact_positions failed (attempt=2). (line 115, /tmp/pip-install-58cw25xt/spglib_6207849ab7c64022b27925c813b8e5ef/src/site_symmetry.c).\n",
      "spglib: ssm_get_exact_positions failed (attempt=3). (line 115, /tmp/pip-install-58cw25xt/spglib_6207849ab7c64022b27925c813b8e5ef/src/site_symmetry.c).\n",
      "spglib: ssm_get_exact_positions failed (attempt=4). (line 115, /tmp/pip-install-58cw25xt/spglib_6207849ab7c64022b27925c813b8e5ef/src/site_symmetry.c).\n",
      "spglib: ssm_get_exact_positions failed. (line 479, /tmp/pip-install-58cw25xt/spglib_6207849ab7c64022b27925c813b8e5ef/src/refinement.c).\n",
      "spglib: get_bravais_exact_positions_and_lattice failed. (line 336, /tmp/pip-install-58cw25xt/spglib_6207849ab7c64022b27925c813b8e5ef/src/refinement.c).\n",
      "spglib: ref_get_exact_structure_and_symmetry failed. (line 82, /tmp/pip-install-58cw25xt/spglib_6207849ab7c64022b27925c813b8e5ef/src/determination.c).\n",
      "spglib: ssm_get_exact_positions failed (attempt=0). (line 115, /tmp/pip-install-58cw25xt/spglib_6207849ab7c64022b27925c813b8e5ef/src/site_symmetry.c).\n",
      "spglib: ssm_get_exact_positions failed (attempt=1). (line 115, /tmp/pip-install-58cw25xt/spglib_6207849ab7c64022b27925c813b8e5ef/src/site_symmetry.c).\n",
      "spglib: ssm_get_exact_positions failed (attempt=2). (line 115, /tmp/pip-install-58cw25xt/spglib_6207849ab7c64022b27925c813b8e5ef/src/site_symmetry.c).\n",
      "spglib: ssm_get_exact_positions failed (attempt=3). (line 115, /tmp/pip-install-58cw25xt/spglib_6207849ab7c64022b27925c813b8e5ef/src/site_symmetry.c).\n",
      "spglib: ssm_get_exact_positions failed (attempt=4). (line 115, /tmp/pip-install-58cw25xt/spglib_6207849ab7c64022b27925c813b8e5ef/src/site_symmetry.c).\n",
      "spglib: ssm_get_exact_positions failed. (line 479, /tmp/pip-install-58cw25xt/spglib_6207849ab7c64022b27925c813b8e5ef/src/refinement.c).\n",
      "spglib: get_bravais_exact_positions_and_lattice failed. (line 336, /tmp/pip-install-58cw25xt/spglib_6207849ab7c64022b27925c813b8e5ef/src/refinement.c).\n",
      "spglib: ref_get_exact_structure_and_symmetry failed. (line 82, /tmp/pip-install-58cw25xt/spglib_6207849ab7c64022b27925c813b8e5ef/src/determination.c).\n",
      "spglib: ssm_get_exact_positions failed (attempt=0). (line 115, /tmp/pip-install-58cw25xt/spglib_6207849ab7c64022b27925c813b8e5ef/src/site_symmetry.c).\n",
      "spglib: ssm_get_exact_positions failed (attempt=1). (line 115, /tmp/pip-install-58cw25xt/spglib_6207849ab7c64022b27925c813b8e5ef/src/site_symmetry.c).\n",
      "spglib: ssm_get_exact_positions failed (attempt=2). (line 115, /tmp/pip-install-58cw25xt/spglib_6207849ab7c64022b27925c813b8e5ef/src/site_symmetry.c).\n",
      "spglib: ssm_get_exact_positions failed (attempt=3). (line 115, /tmp/pip-install-58cw25xt/spglib_6207849ab7c64022b27925c813b8e5ef/src/site_symmetry.c).\n",
      "spglib: ssm_get_exact_positions failed (attempt=4). (line 115, /tmp/pip-install-58cw25xt/spglib_6207849ab7c64022b27925c813b8e5ef/src/site_symmetry.c).\n",
      "spglib: ssm_get_exact_positions failed. (line 479, /tmp/pip-install-58cw25xt/spglib_6207849ab7c64022b27925c813b8e5ef/src/refinement.c).\n",
      "spglib: get_bravais_exact_positions_and_lattice failed. (line 336, /tmp/pip-install-58cw25xt/spglib_6207849ab7c64022b27925c813b8e5ef/src/refinement.c).\n",
      "spglib: ref_get_exact_structure_and_symmetry failed. (line 82, /tmp/pip-install-58cw25xt/spglib_6207849ab7c64022b27925c813b8e5ef/src/determination.c).\n",
      "spglib: ssm_get_exact_positions failed (attempt=0). (line 115, /tmp/pip-install-58cw25xt/spglib_6207849ab7c64022b27925c813b8e5ef/src/site_symmetry.c).\n",
      "spglib: ssm_get_exact_positions failed (attempt=1). (line 115, /tmp/pip-install-58cw25xt/spglib_6207849ab7c64022b27925c813b8e5ef/src/site_symmetry.c).\n",
      "spglib: ssm_get_exact_positions failed (attempt=2). (line 115, /tmp/pip-install-58cw25xt/spglib_6207849ab7c64022b27925c813b8e5ef/src/site_symmetry.c).\n",
      "spglib: ssm_get_exact_positions failed (attempt=3). (line 115, /tmp/pip-install-58cw25xt/spglib_6207849ab7c64022b27925c813b8e5ef/src/site_symmetry.c).\n",
      "spglib: ssm_get_exact_positions failed (attempt=4). (line 115, /tmp/pip-install-58cw25xt/spglib_6207849ab7c64022b27925c813b8e5ef/src/site_symmetry.c).\n",
      "spglib: ssm_get_exact_positions failed. (line 479, /tmp/pip-install-58cw25xt/spglib_6207849ab7c64022b27925c813b8e5ef/src/refinement.c).\n",
      "spglib: get_bravais_exact_positions_and_lattice failed. (line 336, /tmp/pip-install-58cw25xt/spglib_6207849ab7c64022b27925c813b8e5ef/src/refinement.c).\n",
      "spglib: ref_get_exact_structure_and_symmetry failed. (line 82, /tmp/pip-install-58cw25xt/spglib_6207849ab7c64022b27925c813b8e5ef/src/determination.c).\n",
      "spglib: ssm_get_exact_positions failed (attempt=0). (line 115, /tmp/pip-install-58cw25xt/spglib_6207849ab7c64022b27925c813b8e5ef/src/site_symmetry.c).\n",
      "spglib: ssm_get_exact_positions failed (attempt=1). (line 115, /tmp/pip-install-58cw25xt/spglib_6207849ab7c64022b27925c813b8e5ef/src/site_symmetry.c).\n",
      "spglib: ssm_get_exact_positions failed (attempt=2). (line 115, /tmp/pip-install-58cw25xt/spglib_6207849ab7c64022b27925c813b8e5ef/src/site_symmetry.c).\n",
      "spglib: ssm_get_exact_positions failed (attempt=3). (line 115, /tmp/pip-install-58cw25xt/spglib_6207849ab7c64022b27925c813b8e5ef/src/site_symmetry.c).\n",
      "spglib: ssm_get_exact_positions failed (attempt=4). (line 115, /tmp/pip-install-58cw25xt/spglib_6207849ab7c64022b27925c813b8e5ef/src/site_symmetry.c).\n",
      "spglib: ssm_get_exact_positions failed. (line 479, /tmp/pip-install-58cw25xt/spglib_6207849ab7c64022b27925c813b8e5ef/src/refinement.c).\n",
      "spglib: get_bravais_exact_positions_and_lattice failed. (line 336, /tmp/pip-install-58cw25xt/spglib_6207849ab7c64022b27925c813b8e5ef/src/refinement.c).\n",
      "spglib: ref_get_exact_structure_and_symmetry failed. (line 82, /tmp/pip-install-58cw25xt/spglib_6207849ab7c64022b27925c813b8e5ef/src/determination.c).\n",
      "spglib: ssm_get_exact_positions failed (attempt=0). (line 115, /tmp/pip-install-58cw25xt/spglib_6207849ab7c64022b27925c813b8e5ef/src/site_symmetry.c).\n",
      "spglib: ssm_get_exact_positions failed (attempt=1). (line 115, /tmp/pip-install-58cw25xt/spglib_6207849ab7c64022b27925c813b8e5ef/src/site_symmetry.c).\n",
      "spglib: ssm_get_exact_positions failed (attempt=2). (line 115, /tmp/pip-install-58cw25xt/spglib_6207849ab7c64022b27925c813b8e5ef/src/site_symmetry.c).\n",
      "spglib: ssm_get_exact_positions failed (attempt=3). (line 115, /tmp/pip-install-58cw25xt/spglib_6207849ab7c64022b27925c813b8e5ef/src/site_symmetry.c).\n",
      "spglib: ssm_get_exact_positions failed (attempt=4). (line 115, /tmp/pip-install-58cw25xt/spglib_6207849ab7c64022b27925c813b8e5ef/src/site_symmetry.c).\n",
      "spglib: ssm_get_exact_positions failed. (line 479, /tmp/pip-install-58cw25xt/spglib_6207849ab7c64022b27925c813b8e5ef/src/refinement.c).\n",
      "spglib: get_bravais_exact_positions_and_lattice failed. (line 336, /tmp/pip-install-58cw25xt/spglib_6207849ab7c64022b27925c813b8e5ef/src/refinement.c).\n",
      "spglib: ref_get_exact_structure_and_symmetry failed. (line 82, /tmp/pip-install-58cw25xt/spglib_6207849ab7c64022b27925c813b8e5ef/src/determination.c).\n",
      "spglib: ssm_get_exact_positions failed (attempt=0). (line 115, /tmp/pip-install-58cw25xt/spglib_6207849ab7c64022b27925c813b8e5ef/src/site_symmetry.c).\n",
      "spglib: ssm_get_exact_positions failed (attempt=1). (line 115, /tmp/pip-install-58cw25xt/spglib_6207849ab7c64022b27925c813b8e5ef/src/site_symmetry.c).\n",
      "spglib: ssm_get_exact_positions failed (attempt=2). (line 115, /tmp/pip-install-58cw25xt/spglib_6207849ab7c64022b27925c813b8e5ef/src/site_symmetry.c).\n",
      "spglib: ssm_get_exact_positions failed (attempt=3). (line 115, /tmp/pip-install-58cw25xt/spglib_6207849ab7c64022b27925c813b8e5ef/src/site_symmetry.c).\n",
      "spglib: ssm_get_exact_positions failed (attempt=4). (line 115, /tmp/pip-install-58cw25xt/spglib_6207849ab7c64022b27925c813b8e5ef/src/site_symmetry.c).\n",
      "spglib: ssm_get_exact_positions failed. (line 479, /tmp/pip-install-58cw25xt/spglib_6207849ab7c64022b27925c813b8e5ef/src/refinement.c).\n",
      "spglib: get_bravais_exact_positions_and_lattice failed. (line 336, /tmp/pip-install-58cw25xt/spglib_6207849ab7c64022b27925c813b8e5ef/src/refinement.c).\n",
      "spglib: ref_get_exact_structure_and_symmetry failed. (line 82, /tmp/pip-install-58cw25xt/spglib_6207849ab7c64022b27925c813b8e5ef/src/determination.c).\n",
      "spglib: ssm_get_exact_positions failed (attempt=0). (line 115, /tmp/pip-install-58cw25xt/spglib_6207849ab7c64022b27925c813b8e5ef/src/site_symmetry.c).\n",
      "spglib: ssm_get_exact_positions failed (attempt=1). (line 115, /tmp/pip-install-58cw25xt/spglib_6207849ab7c64022b27925c813b8e5ef/src/site_symmetry.c).\n",
      "spglib: ssm_get_exact_positions failed (attempt=2). (line 115, /tmp/pip-install-58cw25xt/spglib_6207849ab7c64022b27925c813b8e5ef/src/site_symmetry.c).\n",
      "spglib: ssm_get_exact_positions failed (attempt=3). (line 115, /tmp/pip-install-58cw25xt/spglib_6207849ab7c64022b27925c813b8e5ef/src/site_symmetry.c).\n",
      "spglib: ssm_get_exact_positions failed (attempt=4). (line 115, /tmp/pip-install-58cw25xt/spglib_6207849ab7c64022b27925c813b8e5ef/src/site_symmetry.c).\n",
      "spglib: ssm_get_exact_positions failed. (line 479, /tmp/pip-install-58cw25xt/spglib_6207849ab7c64022b27925c813b8e5ef/src/refinement.c).\n",
      "spglib: get_bravais_exact_positions_and_lattice failed. (line 336, /tmp/pip-install-58cw25xt/spglib_6207849ab7c64022b27925c813b8e5ef/src/refinement.c).\n",
      "spglib: ref_get_exact_structure_and_symmetry failed. (line 82, /tmp/pip-install-58cw25xt/spglib_6207849ab7c64022b27925c813b8e5ef/src/determination.c).\n",
      "spglib: ssm_get_exact_positions failed (attempt=0). (line 115, /tmp/pip-install-58cw25xt/spglib_6207849ab7c64022b27925c813b8e5ef/src/site_symmetry.c).\n",
      "spglib: ssm_get_exact_positions failed (attempt=1). (line 115, /tmp/pip-install-58cw25xt/spglib_6207849ab7c64022b27925c813b8e5ef/src/site_symmetry.c).\n",
      "spglib: ssm_get_exact_positions failed (attempt=2). (line 115, /tmp/pip-install-58cw25xt/spglib_6207849ab7c64022b27925c813b8e5ef/src/site_symmetry.c).\n",
      "spglib: ssm_get_exact_positions failed (attempt=3). (line 115, /tmp/pip-install-58cw25xt/spglib_6207849ab7c64022b27925c813b8e5ef/src/site_symmetry.c).\n",
      "spglib: ssm_get_exact_positions failed (attempt=4). (line 115, /tmp/pip-install-58cw25xt/spglib_6207849ab7c64022b27925c813b8e5ef/src/site_symmetry.c).\n",
      "spglib: ssm_get_exact_positions failed. (line 479, /tmp/pip-install-58cw25xt/spglib_6207849ab7c64022b27925c813b8e5ef/src/refinement.c).\n",
      "spglib: get_bravais_exact_positions_and_lattice failed. (line 336, /tmp/pip-install-58cw25xt/spglib_6207849ab7c64022b27925c813b8e5ef/src/refinement.c).\n",
      "spglib: ref_get_exact_structure_and_symmetry failed. (line 82, /tmp/pip-install-58cw25xt/spglib_6207849ab7c64022b27925c813b8e5ef/src/determination.c).\n",
      "spglib: ssm_get_exact_positions failed (attempt=0). (line 115, /tmp/pip-install-58cw25xt/spglib_6207849ab7c64022b27925c813b8e5ef/src/site_symmetry.c).\n",
      "spglib: ssm_get_exact_positions failed (attempt=1). (line 115, /tmp/pip-install-58cw25xt/spglib_6207849ab7c64022b27925c813b8e5ef/src/site_symmetry.c).\n",
      "spglib: ssm_get_exact_positions failed (attempt=2). (line 115, /tmp/pip-install-58cw25xt/spglib_6207849ab7c64022b27925c813b8e5ef/src/site_symmetry.c).\n",
      "spglib: ssm_get_exact_positions failed (attempt=3). (line 115, /tmp/pip-install-58cw25xt/spglib_6207849ab7c64022b27925c813b8e5ef/src/site_symmetry.c).\n",
      "spglib: ssm_get_exact_positions failed (attempt=4). (line 115, /tmp/pip-install-58cw25xt/spglib_6207849ab7c64022b27925c813b8e5ef/src/site_symmetry.c).\n",
      "spglib: ssm_get_exact_positions failed. (line 479, /tmp/pip-install-58cw25xt/spglib_6207849ab7c64022b27925c813b8e5ef/src/refinement.c).\n",
      "spglib: get_bravais_exact_positions_and_lattice failed. (line 336, /tmp/pip-install-58cw25xt/spglib_6207849ab7c64022b27925c813b8e5ef/src/refinement.c).\n",
      "spglib: ref_get_exact_structure_and_symmetry failed. (line 82, /tmp/pip-install-58cw25xt/spglib_6207849ab7c64022b27925c813b8e5ef/src/determination.c).\n",
      "spglib: ssm_get_exact_positions failed (attempt=0). (line 115, /tmp/pip-install-58cw25xt/spglib_6207849ab7c64022b27925c813b8e5ef/src/site_symmetry.c).\n",
      "spglib: ssm_get_exact_positions failed (attempt=1). (line 115, /tmp/pip-install-58cw25xt/spglib_6207849ab7c64022b27925c813b8e5ef/src/site_symmetry.c).\n",
      "spglib: ssm_get_exact_positions failed (attempt=2). (line 115, /tmp/pip-install-58cw25xt/spglib_6207849ab7c64022b27925c813b8e5ef/src/site_symmetry.c).\n",
      "spglib: ssm_get_exact_positions failed (attempt=3). (line 115, /tmp/pip-install-58cw25xt/spglib_6207849ab7c64022b27925c813b8e5ef/src/site_symmetry.c).\n",
      "spglib: ssm_get_exact_positions failed (attempt=4). (line 115, /tmp/pip-install-58cw25xt/spglib_6207849ab7c64022b27925c813b8e5ef/src/site_symmetry.c).\n",
      "spglib: ssm_get_exact_positions failed. (line 479, /tmp/pip-install-58cw25xt/spglib_6207849ab7c64022b27925c813b8e5ef/src/refinement.c).\n",
      "spglib: get_bravais_exact_positions_and_lattice failed. (line 336, /tmp/pip-install-58cw25xt/spglib_6207849ab7c64022b27925c813b8e5ef/src/refinement.c).\n",
      "spglib: ref_get_exact_structure_and_symmetry failed. (line 82, /tmp/pip-install-58cw25xt/spglib_6207849ab7c64022b27925c813b8e5ef/src/determination.c).\n",
      "spglib: ssm_get_exact_positions failed (attempt=0). (line 115, /tmp/pip-install-58cw25xt/spglib_6207849ab7c64022b27925c813b8e5ef/src/site_symmetry.c).\n",
      "spglib: ssm_get_exact_positions failed (attempt=1). (line 115, /tmp/pip-install-58cw25xt/spglib_6207849ab7c64022b27925c813b8e5ef/src/site_symmetry.c).\n",
      "spglib: ssm_get_exact_positions failed (attempt=2). (line 115, /tmp/pip-install-58cw25xt/spglib_6207849ab7c64022b27925c813b8e5ef/src/site_symmetry.c).\n",
      "spglib: ssm_get_exact_positions failed (attempt=3). (line 115, /tmp/pip-install-58cw25xt/spglib_6207849ab7c64022b27925c813b8e5ef/src/site_symmetry.c).\n",
      "spglib: ssm_get_exact_positions failed (attempt=4). (line 115, /tmp/pip-install-58cw25xt/spglib_6207849ab7c64022b27925c813b8e5ef/src/site_symmetry.c).\n",
      "spglib: ssm_get_exact_positions failed. (line 479, /tmp/pip-install-58cw25xt/spglib_6207849ab7c64022b27925c813b8e5ef/src/refinement.c).\n",
      "spglib: get_bravais_exact_positions_and_lattice failed. (line 336, /tmp/pip-install-58cw25xt/spglib_6207849ab7c64022b27925c813b8e5ef/src/refinement.c).\n",
      "spglib: ref_get_exact_structure_and_symmetry failed. (line 82, /tmp/pip-install-58cw25xt/spglib_6207849ab7c64022b27925c813b8e5ef/src/determination.c).\n",
      "spglib: ssm_get_exact_positions failed (attempt=0). (line 115, /tmp/pip-install-58cw25xt/spglib_6207849ab7c64022b27925c813b8e5ef/src/site_symmetry.c).\n",
      "spglib: ssm_get_exact_positions failed (attempt=1). (line 115, /tmp/pip-install-58cw25xt/spglib_6207849ab7c64022b27925c813b8e5ef/src/site_symmetry.c).\n",
      "spglib: ssm_get_exact_positions failed (attempt=2). (line 115, /tmp/pip-install-58cw25xt/spglib_6207849ab7c64022b27925c813b8e5ef/src/site_symmetry.c).\n",
      "spglib: ssm_get_exact_positions failed (attempt=3). (line 115, /tmp/pip-install-58cw25xt/spglib_6207849ab7c64022b27925c813b8e5ef/src/site_symmetry.c).\n",
      "spglib: ssm_get_exact_positions failed (attempt=4). (line 115, /tmp/pip-install-58cw25xt/spglib_6207849ab7c64022b27925c813b8e5ef/src/site_symmetry.c).\n",
      "spglib: ssm_get_exact_positions failed. (line 479, /tmp/pip-install-58cw25xt/spglib_6207849ab7c64022b27925c813b8e5ef/src/refinement.c).\n",
      "spglib: get_bravais_exact_positions_and_lattice failed. (line 336, /tmp/pip-install-58cw25xt/spglib_6207849ab7c64022b27925c813b8e5ef/src/refinement.c).\n",
      "spglib: ref_get_exact_structure_and_symmetry failed. (line 82, /tmp/pip-install-58cw25xt/spglib_6207849ab7c64022b27925c813b8e5ef/src/determination.c).\n",
      "spglib: ssm_get_exact_positions failed (attempt=0). (line 115, /tmp/pip-install-58cw25xt/spglib_6207849ab7c64022b27925c813b8e5ef/src/site_symmetry.c).\n",
      "spglib: ssm_get_exact_positions failed (attempt=1). (line 115, /tmp/pip-install-58cw25xt/spglib_6207849ab7c64022b27925c813b8e5ef/src/site_symmetry.c).\n",
      "spglib: ssm_get_exact_positions failed (attempt=2). (line 115, /tmp/pip-install-58cw25xt/spglib_6207849ab7c64022b27925c813b8e5ef/src/site_symmetry.c).\n",
      "spglib: ssm_get_exact_positions failed (attempt=3). (line 115, /tmp/pip-install-58cw25xt/spglib_6207849ab7c64022b27925c813b8e5ef/src/site_symmetry.c).\n",
      "spglib: ssm_get_exact_positions failed (attempt=4). (line 115, /tmp/pip-install-58cw25xt/spglib_6207849ab7c64022b27925c813b8e5ef/src/site_symmetry.c).\n",
      "spglib: ssm_get_exact_positions failed. (line 479, /tmp/pip-install-58cw25xt/spglib_6207849ab7c64022b27925c813b8e5ef/src/refinement.c).\n",
      "spglib: get_bravais_exact_positions_and_lattice failed. (line 336, /tmp/pip-install-58cw25xt/spglib_6207849ab7c64022b27925c813b8e5ef/src/refinement.c).\n",
      "spglib: ref_get_exact_structure_and_symmetry failed. (line 82, /tmp/pip-install-58cw25xt/spglib_6207849ab7c64022b27925c813b8e5ef/src/determination.c).\n",
      "spglib: ssm_get_exact_positions failed (attempt=0). (line 115, /tmp/pip-install-58cw25xt/spglib_6207849ab7c64022b27925c813b8e5ef/src/site_symmetry.c).\n",
      "spglib: ssm_get_exact_positions failed (attempt=1). (line 115, /tmp/pip-install-58cw25xt/spglib_6207849ab7c64022b27925c813b8e5ef/src/site_symmetry.c).\n",
      "spglib: ssm_get_exact_positions failed (attempt=2). (line 115, /tmp/pip-install-58cw25xt/spglib_6207849ab7c64022b27925c813b8e5ef/src/site_symmetry.c).\n",
      "spglib: ssm_get_exact_positions failed (attempt=3). (line 115, /tmp/pip-install-58cw25xt/spglib_6207849ab7c64022b27925c813b8e5ef/src/site_symmetry.c).\n",
      "spglib: ssm_get_exact_positions failed (attempt=4). (line 115, /tmp/pip-install-58cw25xt/spglib_6207849ab7c64022b27925c813b8e5ef/src/site_symmetry.c).\n",
      "spglib: ssm_get_exact_positions failed. (line 479, /tmp/pip-install-58cw25xt/spglib_6207849ab7c64022b27925c813b8e5ef/src/refinement.c).\n",
      "spglib: get_bravais_exact_positions_and_lattice failed. (line 336, /tmp/pip-install-58cw25xt/spglib_6207849ab7c64022b27925c813b8e5ef/src/refinement.c).\n",
      "spglib: ref_get_exact_structure_and_symmetry failed. (line 82, /tmp/pip-install-58cw25xt/spglib_6207849ab7c64022b27925c813b8e5ef/src/determination.c).\n",
      "spglib: ssm_get_exact_positions failed (attempt=0). (line 115, /tmp/pip-install-58cw25xt/spglib_6207849ab7c64022b27925c813b8e5ef/src/site_symmetry.c).\n",
      "spglib: ssm_get_exact_positions failed (attempt=1). (line 115, /tmp/pip-install-58cw25xt/spglib_6207849ab7c64022b27925c813b8e5ef/src/site_symmetry.c).\n",
      "spglib: ssm_get_exact_positions failed (attempt=2). (line 115, /tmp/pip-install-58cw25xt/spglib_6207849ab7c64022b27925c813b8e5ef/src/site_symmetry.c).\n",
      "spglib: ssm_get_exact_positions failed (attempt=3). (line 115, /tmp/pip-install-58cw25xt/spglib_6207849ab7c64022b27925c813b8e5ef/src/site_symmetry.c).\n",
      "spglib: ssm_get_exact_positions failed (attempt=4). (line 115, /tmp/pip-install-58cw25xt/spglib_6207849ab7c64022b27925c813b8e5ef/src/site_symmetry.c).\n",
      "spglib: ssm_get_exact_positions failed. (line 479, /tmp/pip-install-58cw25xt/spglib_6207849ab7c64022b27925c813b8e5ef/src/refinement.c).\n",
      "spglib: get_bravais_exact_positions_and_lattice failed. (line 336, /tmp/pip-install-58cw25xt/spglib_6207849ab7c64022b27925c813b8e5ef/src/refinement.c).\n",
      "spglib: ref_get_exact_structure_and_symmetry failed. (line 82, /tmp/pip-install-58cw25xt/spglib_6207849ab7c64022b27925c813b8e5ef/src/determination.c).\n",
      "spglib: ssm_get_exact_positions failed (attempt=0). (line 115, /tmp/pip-install-58cw25xt/spglib_6207849ab7c64022b27925c813b8e5ef/src/site_symmetry.c).\n",
      "spglib: ssm_get_exact_positions failed (attempt=1). (line 115, /tmp/pip-install-58cw25xt/spglib_6207849ab7c64022b27925c813b8e5ef/src/site_symmetry.c).\n",
      "spglib: ssm_get_exact_positions failed (attempt=2). (line 115, /tmp/pip-install-58cw25xt/spglib_6207849ab7c64022b27925c813b8e5ef/src/site_symmetry.c).\n",
      "spglib: ssm_get_exact_positions failed (attempt=3). (line 115, /tmp/pip-install-58cw25xt/spglib_6207849ab7c64022b27925c813b8e5ef/src/site_symmetry.c).\n",
      "spglib: ssm_get_exact_positions failed (attempt=4). (line 115, /tmp/pip-install-58cw25xt/spglib_6207849ab7c64022b27925c813b8e5ef/src/site_symmetry.c).\n",
      "spglib: ssm_get_exact_positions failed. (line 479, /tmp/pip-install-58cw25xt/spglib_6207849ab7c64022b27925c813b8e5ef/src/refinement.c).\n",
      "spglib: get_bravais_exact_positions_and_lattice failed. (line 336, /tmp/pip-install-58cw25xt/spglib_6207849ab7c64022b27925c813b8e5ef/src/refinement.c).\n",
      "spglib: ref_get_exact_structure_and_symmetry failed. (line 82, /tmp/pip-install-58cw25xt/spglib_6207849ab7c64022b27925c813b8e5ef/src/determination.c).\n",
      "spglib: ssm_get_exact_positions failed (attempt=0). (line 115, /tmp/pip-install-58cw25xt/spglib_6207849ab7c64022b27925c813b8e5ef/src/site_symmetry.c).\n",
      "spglib: ssm_get_exact_positions failed (attempt=1). (line 115, /tmp/pip-install-58cw25xt/spglib_6207849ab7c64022b27925c813b8e5ef/src/site_symmetry.c).\n",
      "spglib: ssm_get_exact_positions failed (attempt=2). (line 115, /tmp/pip-install-58cw25xt/spglib_6207849ab7c64022b27925c813b8e5ef/src/site_symmetry.c).\n",
      "spglib: ssm_get_exact_positions failed (attempt=3). (line 115, /tmp/pip-install-58cw25xt/spglib_6207849ab7c64022b27925c813b8e5ef/src/site_symmetry.c).\n",
      "spglib: ssm_get_exact_positions failed (attempt=4). (line 115, /tmp/pip-install-58cw25xt/spglib_6207849ab7c64022b27925c813b8e5ef/src/site_symmetry.c).\n",
      "spglib: ssm_get_exact_positions failed. (line 479, /tmp/pip-install-58cw25xt/spglib_6207849ab7c64022b27925c813b8e5ef/src/refinement.c).\n",
      "spglib: get_bravais_exact_positions_and_lattice failed. (line 336, /tmp/pip-install-58cw25xt/spglib_6207849ab7c64022b27925c813b8e5ef/src/refinement.c).\n",
      "spglib: ref_get_exact_structure_and_symmetry failed. (line 82, /tmp/pip-install-58cw25xt/spglib_6207849ab7c64022b27925c813b8e5ef/src/determination.c).\n",
      "spglib: ssm_get_exact_positions failed (attempt=0). (line 115, /tmp/pip-install-58cw25xt/spglib_6207849ab7c64022b27925c813b8e5ef/src/site_symmetry.c).\n",
      "spglib: ssm_get_exact_positions failed (attempt=1). (line 115, /tmp/pip-install-58cw25xt/spglib_6207849ab7c64022b27925c813b8e5ef/src/site_symmetry.c).\n",
      "spglib: ssm_get_exact_positions failed (attempt=2). (line 115, /tmp/pip-install-58cw25xt/spglib_6207849ab7c64022b27925c813b8e5ef/src/site_symmetry.c).\n",
      "spglib: ssm_get_exact_positions failed (attempt=3). (line 115, /tmp/pip-install-58cw25xt/spglib_6207849ab7c64022b27925c813b8e5ef/src/site_symmetry.c).\n",
      "spglib: ssm_get_exact_positions failed (attempt=4). (line 115, /tmp/pip-install-58cw25xt/spglib_6207849ab7c64022b27925c813b8e5ef/src/site_symmetry.c).\n",
      "spglib: ssm_get_exact_positions failed. (line 479, /tmp/pip-install-58cw25xt/spglib_6207849ab7c64022b27925c813b8e5ef/src/refinement.c).\n",
      "spglib: get_bravais_exact_positions_and_lattice failed. (line 336, /tmp/pip-install-58cw25xt/spglib_6207849ab7c64022b27925c813b8e5ef/src/refinement.c).\n",
      "spglib: ref_get_exact_structure_and_symmetry failed. (line 82, /tmp/pip-install-58cw25xt/spglib_6207849ab7c64022b27925c813b8e5ef/src/determination.c).\n",
      "spglib: ssm_get_exact_positions failed (attempt=0). (line 115, /tmp/pip-install-58cw25xt/spglib_6207849ab7c64022b27925c813b8e5ef/src/site_symmetry.c).\n",
      "spglib: ssm_get_exact_positions failed (attempt=1). (line 115, /tmp/pip-install-58cw25xt/spglib_6207849ab7c64022b27925c813b8e5ef/src/site_symmetry.c).\n",
      "spglib: ssm_get_exact_positions failed (attempt=2). (line 115, /tmp/pip-install-58cw25xt/spglib_6207849ab7c64022b27925c813b8e5ef/src/site_symmetry.c).\n",
      "spglib: ssm_get_exact_positions failed (attempt=3). (line 115, /tmp/pip-install-58cw25xt/spglib_6207849ab7c64022b27925c813b8e5ef/src/site_symmetry.c).\n",
      "spglib: ssm_get_exact_positions failed (attempt=4). (line 115, /tmp/pip-install-58cw25xt/spglib_6207849ab7c64022b27925c813b8e5ef/src/site_symmetry.c).\n",
      "spglib: ssm_get_exact_positions failed. (line 479, /tmp/pip-install-58cw25xt/spglib_6207849ab7c64022b27925c813b8e5ef/src/refinement.c).\n",
      "spglib: get_bravais_exact_positions_and_lattice failed. (line 336, /tmp/pip-install-58cw25xt/spglib_6207849ab7c64022b27925c813b8e5ef/src/refinement.c).\n",
      "spglib: ref_get_exact_structure_and_symmetry failed. (line 82, /tmp/pip-install-58cw25xt/spglib_6207849ab7c64022b27925c813b8e5ef/src/determination.c).\n",
      "spglib: ssm_get_exact_positions failed (attempt=0). (line 115, /tmp/pip-install-58cw25xt/spglib_6207849ab7c64022b27925c813b8e5ef/src/site_symmetry.c).\n",
      "spglib: ssm_get_exact_positions failed (attempt=1). (line 115, /tmp/pip-install-58cw25xt/spglib_6207849ab7c64022b27925c813b8e5ef/src/site_symmetry.c).\n",
      "spglib: ssm_get_exact_positions failed (attempt=2). (line 115, /tmp/pip-install-58cw25xt/spglib_6207849ab7c64022b27925c813b8e5ef/src/site_symmetry.c).\n",
      "spglib: ssm_get_exact_positions failed (attempt=3). (line 115, /tmp/pip-install-58cw25xt/spglib_6207849ab7c64022b27925c813b8e5ef/src/site_symmetry.c).\n",
      "spglib: ssm_get_exact_positions failed (attempt=4). (line 115, /tmp/pip-install-58cw25xt/spglib_6207849ab7c64022b27925c813b8e5ef/src/site_symmetry.c).\n",
      "spglib: ssm_get_exact_positions failed. (line 479, /tmp/pip-install-58cw25xt/spglib_6207849ab7c64022b27925c813b8e5ef/src/refinement.c).\n",
      "spglib: get_bravais_exact_positions_and_lattice failed. (line 336, /tmp/pip-install-58cw25xt/spglib_6207849ab7c64022b27925c813b8e5ef/src/refinement.c).\n",
      "spglib: ref_get_exact_structure_and_symmetry failed. (line 82, /tmp/pip-install-58cw25xt/spglib_6207849ab7c64022b27925c813b8e5ef/src/determination.c).\n",
      "spglib: ssm_get_exact_positions failed (attempt=0). (line 115, /tmp/pip-install-58cw25xt/spglib_6207849ab7c64022b27925c813b8e5ef/src/site_symmetry.c).\n",
      "spglib: ssm_get_exact_positions failed (attempt=1). (line 115, /tmp/pip-install-58cw25xt/spglib_6207849ab7c64022b27925c813b8e5ef/src/site_symmetry.c).\n",
      "spglib: ssm_get_exact_positions failed (attempt=2). (line 115, /tmp/pip-install-58cw25xt/spglib_6207849ab7c64022b27925c813b8e5ef/src/site_symmetry.c).\n",
      "spglib: ssm_get_exact_positions failed (attempt=3). (line 115, /tmp/pip-install-58cw25xt/spglib_6207849ab7c64022b27925c813b8e5ef/src/site_symmetry.c).\n",
      "spglib: ssm_get_exact_positions failed (attempt=4). (line 115, /tmp/pip-install-58cw25xt/spglib_6207849ab7c64022b27925c813b8e5ef/src/site_symmetry.c).\n",
      "spglib: ssm_get_exact_positions failed. (line 479, /tmp/pip-install-58cw25xt/spglib_6207849ab7c64022b27925c813b8e5ef/src/refinement.c).\n",
      "spglib: get_bravais_exact_positions_and_lattice failed. (line 336, /tmp/pip-install-58cw25xt/spglib_6207849ab7c64022b27925c813b8e5ef/src/refinement.c).\n",
      "spglib: ref_get_exact_structure_and_symmetry failed. (line 82, /tmp/pip-install-58cw25xt/spglib_6207849ab7c64022b27925c813b8e5ef/src/determination.c).\n",
      "spglib: ssm_get_exact_positions failed (attempt=0). (line 115, /tmp/pip-install-58cw25xt/spglib_6207849ab7c64022b27925c813b8e5ef/src/site_symmetry.c).\n",
      "spglib: ssm_get_exact_positions failed (attempt=1). (line 115, /tmp/pip-install-58cw25xt/spglib_6207849ab7c64022b27925c813b8e5ef/src/site_symmetry.c).\n",
      "spglib: ssm_get_exact_positions failed (attempt=2). (line 115, /tmp/pip-install-58cw25xt/spglib_6207849ab7c64022b27925c813b8e5ef/src/site_symmetry.c).\n",
      "spglib: ssm_get_exact_positions failed (attempt=3). (line 115, /tmp/pip-install-58cw25xt/spglib_6207849ab7c64022b27925c813b8e5ef/src/site_symmetry.c).\n",
      "spglib: ssm_get_exact_positions failed (attempt=4). (line 115, /tmp/pip-install-58cw25xt/spglib_6207849ab7c64022b27925c813b8e5ef/src/site_symmetry.c).\n",
      "spglib: ssm_get_exact_positions failed. (line 479, /tmp/pip-install-58cw25xt/spglib_6207849ab7c64022b27925c813b8e5ef/src/refinement.c).\n",
      "spglib: get_bravais_exact_positions_and_lattice failed. (line 336, /tmp/pip-install-58cw25xt/spglib_6207849ab7c64022b27925c813b8e5ef/src/refinement.c).\n",
      "spglib: ref_get_exact_structure_and_symmetry failed. (line 82, /tmp/pip-install-58cw25xt/spglib_6207849ab7c64022b27925c813b8e5ef/src/determination.c).\n",
      "spglib: ssm_get_exact_positions failed (attempt=0). (line 115, /tmp/pip-install-58cw25xt/spglib_6207849ab7c64022b27925c813b8e5ef/src/site_symmetry.c).\n",
      "spglib: ssm_get_exact_positions failed (attempt=1). (line 115, /tmp/pip-install-58cw25xt/spglib_6207849ab7c64022b27925c813b8e5ef/src/site_symmetry.c).\n",
      "spglib: ssm_get_exact_positions failed (attempt=2). (line 115, /tmp/pip-install-58cw25xt/spglib_6207849ab7c64022b27925c813b8e5ef/src/site_symmetry.c).\n",
      "spglib: ssm_get_exact_positions failed (attempt=3). (line 115, /tmp/pip-install-58cw25xt/spglib_6207849ab7c64022b27925c813b8e5ef/src/site_symmetry.c).\n",
      "spglib: ssm_get_exact_positions failed (attempt=4). (line 115, /tmp/pip-install-58cw25xt/spglib_6207849ab7c64022b27925c813b8e5ef/src/site_symmetry.c).\n",
      "spglib: ssm_get_exact_positions failed. (line 479, /tmp/pip-install-58cw25xt/spglib_6207849ab7c64022b27925c813b8e5ef/src/refinement.c).\n",
      "spglib: get_bravais_exact_positions_and_lattice failed. (line 336, /tmp/pip-install-58cw25xt/spglib_6207849ab7c64022b27925c813b8e5ef/src/refinement.c).\n",
      "spglib: ref_get_exact_structure_and_symmetry failed. (line 82, /tmp/pip-install-58cw25xt/spglib_6207849ab7c64022b27925c813b8e5ef/src/determination.c).\n",
      "spglib: ssm_get_exact_positions failed (attempt=0). (line 115, /tmp/pip-install-58cw25xt/spglib_6207849ab7c64022b27925c813b8e5ef/src/site_symmetry.c).\n",
      "spglib: ssm_get_exact_positions failed (attempt=1). (line 115, /tmp/pip-install-58cw25xt/spglib_6207849ab7c64022b27925c813b8e5ef/src/site_symmetry.c).\n",
      "spglib: ssm_get_exact_positions failed (attempt=2). (line 115, /tmp/pip-install-58cw25xt/spglib_6207849ab7c64022b27925c813b8e5ef/src/site_symmetry.c).\n",
      "spglib: ssm_get_exact_positions failed (attempt=3). (line 115, /tmp/pip-install-58cw25xt/spglib_6207849ab7c64022b27925c813b8e5ef/src/site_symmetry.c).\n",
      "spglib: ssm_get_exact_positions failed (attempt=4). (line 115, /tmp/pip-install-58cw25xt/spglib_6207849ab7c64022b27925c813b8e5ef/src/site_symmetry.c).\n",
      "spglib: ssm_get_exact_positions failed. (line 479, /tmp/pip-install-58cw25xt/spglib_6207849ab7c64022b27925c813b8e5ef/src/refinement.c).\n",
      "spglib: get_bravais_exact_positions_and_lattice failed. (line 336, /tmp/pip-install-58cw25xt/spglib_6207849ab7c64022b27925c813b8e5ef/src/refinement.c).\n",
      "spglib: ref_get_exact_structure_and_symmetry failed. (line 82, /tmp/pip-install-58cw25xt/spglib_6207849ab7c64022b27925c813b8e5ef/src/determination.c).\n",
      "spglib: ssm_get_exact_positions failed (attempt=0). (line 115, /tmp/pip-install-58cw25xt/spglib_6207849ab7c64022b27925c813b8e5ef/src/site_symmetry.c).\n",
      "spglib: ssm_get_exact_positions failed (attempt=1). (line 115, /tmp/pip-install-58cw25xt/spglib_6207849ab7c64022b27925c813b8e5ef/src/site_symmetry.c).\n",
      "spglib: ssm_get_exact_positions failed (attempt=2). (line 115, /tmp/pip-install-58cw25xt/spglib_6207849ab7c64022b27925c813b8e5ef/src/site_symmetry.c).\n",
      "spglib: ssm_get_exact_positions failed (attempt=3). (line 115, /tmp/pip-install-58cw25xt/spglib_6207849ab7c64022b27925c813b8e5ef/src/site_symmetry.c).\n",
      "spglib: ssm_get_exact_positions failed (attempt=4). (line 115, /tmp/pip-install-58cw25xt/spglib_6207849ab7c64022b27925c813b8e5ef/src/site_symmetry.c).\n",
      "spglib: ssm_get_exact_positions failed. (line 479, /tmp/pip-install-58cw25xt/spglib_6207849ab7c64022b27925c813b8e5ef/src/refinement.c).\n",
      "spglib: get_bravais_exact_positions_and_lattice failed. (line 336, /tmp/pip-install-58cw25xt/spglib_6207849ab7c64022b27925c813b8e5ef/src/refinement.c).\n",
      "spglib: ref_get_exact_structure_and_symmetry failed. (line 82, /tmp/pip-install-58cw25xt/spglib_6207849ab7c64022b27925c813b8e5ef/src/determination.c).\n",
      "spglib: ssm_get_exact_positions failed (attempt=0). (line 115, /tmp/pip-install-58cw25xt/spglib_6207849ab7c64022b27925c813b8e5ef/src/site_symmetry.c).\n",
      "spglib: ssm_get_exact_positions failed (attempt=1). (line 115, /tmp/pip-install-58cw25xt/spglib_6207849ab7c64022b27925c813b8e5ef/src/site_symmetry.c).\n",
      "spglib: ssm_get_exact_positions failed (attempt=2). (line 115, /tmp/pip-install-58cw25xt/spglib_6207849ab7c64022b27925c813b8e5ef/src/site_symmetry.c).\n",
      "spglib: ssm_get_exact_positions failed (attempt=3). (line 115, /tmp/pip-install-58cw25xt/spglib_6207849ab7c64022b27925c813b8e5ef/src/site_symmetry.c).\n",
      "spglib: ssm_get_exact_positions failed (attempt=4). (line 115, /tmp/pip-install-58cw25xt/spglib_6207849ab7c64022b27925c813b8e5ef/src/site_symmetry.c).\n",
      "spglib: ssm_get_exact_positions failed. (line 479, /tmp/pip-install-58cw25xt/spglib_6207849ab7c64022b27925c813b8e5ef/src/refinement.c).\n",
      "spglib: get_bravais_exact_positions_and_lattice failed. (line 336, /tmp/pip-install-58cw25xt/spglib_6207849ab7c64022b27925c813b8e5ef/src/refinement.c).\n",
      "spglib: ref_get_exact_structure_and_symmetry failed. (line 82, /tmp/pip-install-58cw25xt/spglib_6207849ab7c64022b27925c813b8e5ef/src/determination.c).\n",
      "spglib: ssm_get_exact_positions failed (attempt=0). (line 115, /tmp/pip-install-58cw25xt/spglib_6207849ab7c64022b27925c813b8e5ef/src/site_symmetry.c).\n",
      "spglib: ssm_get_exact_positions failed (attempt=1). (line 115, /tmp/pip-install-58cw25xt/spglib_6207849ab7c64022b27925c813b8e5ef/src/site_symmetry.c).\n",
      "spglib: ssm_get_exact_positions failed (attempt=2). (line 115, /tmp/pip-install-58cw25xt/spglib_6207849ab7c64022b27925c813b8e5ef/src/site_symmetry.c).\n",
      "spglib: ssm_get_exact_positions failed (attempt=3). (line 115, /tmp/pip-install-58cw25xt/spglib_6207849ab7c64022b27925c813b8e5ef/src/site_symmetry.c).\n",
      "spglib: ssm_get_exact_positions failed (attempt=4). (line 115, /tmp/pip-install-58cw25xt/spglib_6207849ab7c64022b27925c813b8e5ef/src/site_symmetry.c).\n",
      "spglib: ssm_get_exact_positions failed. (line 479, /tmp/pip-install-58cw25xt/spglib_6207849ab7c64022b27925c813b8e5ef/src/refinement.c).\n",
      "spglib: get_bravais_exact_positions_and_lattice failed. (line 336, /tmp/pip-install-58cw25xt/spglib_6207849ab7c64022b27925c813b8e5ef/src/refinement.c).\n",
      "spglib: ref_get_exact_structure_and_symmetry failed. (line 82, /tmp/pip-install-58cw25xt/spglib_6207849ab7c64022b27925c813b8e5ef/src/determination.c).\n",
      "spglib: ssm_get_exact_positions failed (attempt=0). (line 115, /tmp/pip-install-58cw25xt/spglib_6207849ab7c64022b27925c813b8e5ef/src/site_symmetry.c).\n",
      "spglib: ssm_get_exact_positions failed (attempt=1). (line 115, /tmp/pip-install-58cw25xt/spglib_6207849ab7c64022b27925c813b8e5ef/src/site_symmetry.c).\n",
      "spglib: ssm_get_exact_positions failed (attempt=2). (line 115, /tmp/pip-install-58cw25xt/spglib_6207849ab7c64022b27925c813b8e5ef/src/site_symmetry.c).\n",
      "spglib: ssm_get_exact_positions failed (attempt=3). (line 115, /tmp/pip-install-58cw25xt/spglib_6207849ab7c64022b27925c813b8e5ef/src/site_symmetry.c).\n",
      "spglib: ssm_get_exact_positions failed (attempt=4). (line 115, /tmp/pip-install-58cw25xt/spglib_6207849ab7c64022b27925c813b8e5ef/src/site_symmetry.c).\n",
      "spglib: ssm_get_exact_positions failed. (line 479, /tmp/pip-install-58cw25xt/spglib_6207849ab7c64022b27925c813b8e5ef/src/refinement.c).\n",
      "spglib: get_bravais_exact_positions_and_lattice failed. (line 336, /tmp/pip-install-58cw25xt/spglib_6207849ab7c64022b27925c813b8e5ef/src/refinement.c).\n",
      "spglib: ref_get_exact_structure_and_symmetry failed. (line 82, /tmp/pip-install-58cw25xt/spglib_6207849ab7c64022b27925c813b8e5ef/src/determination.c).\n",
      "spglib: ssm_get_exact_positions failed (attempt=0). (line 115, /tmp/pip-install-58cw25xt/spglib_6207849ab7c64022b27925c813b8e5ef/src/site_symmetry.c).\n",
      "spglib: ssm_get_exact_positions failed (attempt=1). (line 115, /tmp/pip-install-58cw25xt/spglib_6207849ab7c64022b27925c813b8e5ef/src/site_symmetry.c).\n",
      "spglib: ssm_get_exact_positions failed (attempt=2). (line 115, /tmp/pip-install-58cw25xt/spglib_6207849ab7c64022b27925c813b8e5ef/src/site_symmetry.c).\n",
      "spglib: ssm_get_exact_positions failed (attempt=3). (line 115, /tmp/pip-install-58cw25xt/spglib_6207849ab7c64022b27925c813b8e5ef/src/site_symmetry.c).\n",
      "spglib: ssm_get_exact_positions failed (attempt=4). (line 115, /tmp/pip-install-58cw25xt/spglib_6207849ab7c64022b27925c813b8e5ef/src/site_symmetry.c).\n",
      "spglib: ssm_get_exact_positions failed. (line 479, /tmp/pip-install-58cw25xt/spglib_6207849ab7c64022b27925c813b8e5ef/src/refinement.c).\n",
      "spglib: get_bravais_exact_positions_and_lattice failed. (line 336, /tmp/pip-install-58cw25xt/spglib_6207849ab7c64022b27925c813b8e5ef/src/refinement.c).\n",
      "spglib: ref_get_exact_structure_and_symmetry failed. (line 82, /tmp/pip-install-58cw25xt/spglib_6207849ab7c64022b27925c813b8e5ef/src/determination.c).\n",
      "spglib: ssm_get_exact_positions failed (attempt=0). (line 115, /tmp/pip-install-58cw25xt/spglib_6207849ab7c64022b27925c813b8e5ef/src/site_symmetry.c).\n",
      "spglib: ssm_get_exact_positions failed (attempt=1). (line 115, /tmp/pip-install-58cw25xt/spglib_6207849ab7c64022b27925c813b8e5ef/src/site_symmetry.c).\n",
      "spglib: ssm_get_exact_positions failed (attempt=2). (line 115, /tmp/pip-install-58cw25xt/spglib_6207849ab7c64022b27925c813b8e5ef/src/site_symmetry.c).\n",
      "spglib: ssm_get_exact_positions failed (attempt=3). (line 115, /tmp/pip-install-58cw25xt/spglib_6207849ab7c64022b27925c813b8e5ef/src/site_symmetry.c).\n",
      "spglib: ssm_get_exact_positions failed (attempt=4). (line 115, /tmp/pip-install-58cw25xt/spglib_6207849ab7c64022b27925c813b8e5ef/src/site_symmetry.c).\n",
      "spglib: ssm_get_exact_positions failed. (line 479, /tmp/pip-install-58cw25xt/spglib_6207849ab7c64022b27925c813b8e5ef/src/refinement.c).\n",
      "spglib: get_bravais_exact_positions_and_lattice failed. (line 336, /tmp/pip-install-58cw25xt/spglib_6207849ab7c64022b27925c813b8e5ef/src/refinement.c).\n",
      "spglib: ref_get_exact_structure_and_symmetry failed. (line 82, /tmp/pip-install-58cw25xt/spglib_6207849ab7c64022b27925c813b8e5ef/src/determination.c).\n",
      "spglib: ssm_get_exact_positions failed (attempt=0). (line 115, /tmp/pip-install-58cw25xt/spglib_6207849ab7c64022b27925c813b8e5ef/src/site_symmetry.c).\n",
      "spglib: ssm_get_exact_positions failed (attempt=1). (line 115, /tmp/pip-install-58cw25xt/spglib_6207849ab7c64022b27925c813b8e5ef/src/site_symmetry.c).\n",
      "spglib: ssm_get_exact_positions failed (attempt=2). (line 115, /tmp/pip-install-58cw25xt/spglib_6207849ab7c64022b27925c813b8e5ef/src/site_symmetry.c).\n",
      "spglib: ssm_get_exact_positions failed (attempt=3). (line 115, /tmp/pip-install-58cw25xt/spglib_6207849ab7c64022b27925c813b8e5ef/src/site_symmetry.c).\n",
      "spglib: ssm_get_exact_positions failed (attempt=4). (line 115, /tmp/pip-install-58cw25xt/spglib_6207849ab7c64022b27925c813b8e5ef/src/site_symmetry.c).\n",
      "spglib: ssm_get_exact_positions failed. (line 479, /tmp/pip-install-58cw25xt/spglib_6207849ab7c64022b27925c813b8e5ef/src/refinement.c).\n",
      "spglib: get_bravais_exact_positions_and_lattice failed. (line 336, /tmp/pip-install-58cw25xt/spglib_6207849ab7c64022b27925c813b8e5ef/src/refinement.c).\n",
      "spglib: ref_get_exact_structure_and_symmetry failed. (line 82, /tmp/pip-install-58cw25xt/spglib_6207849ab7c64022b27925c813b8e5ef/src/determination.c).\n",
      "spglib: ssm_get_exact_positions failed (attempt=0). (line 115, /tmp/pip-install-58cw25xt/spglib_6207849ab7c64022b27925c813b8e5ef/src/site_symmetry.c).\n",
      "spglib: ssm_get_exact_positions failed (attempt=1). (line 115, /tmp/pip-install-58cw25xt/spglib_6207849ab7c64022b27925c813b8e5ef/src/site_symmetry.c).\n",
      "spglib: ssm_get_exact_positions failed (attempt=2). (line 115, /tmp/pip-install-58cw25xt/spglib_6207849ab7c64022b27925c813b8e5ef/src/site_symmetry.c).\n",
      "spglib: ssm_get_exact_positions failed (attempt=3). (line 115, /tmp/pip-install-58cw25xt/spglib_6207849ab7c64022b27925c813b8e5ef/src/site_symmetry.c).\n",
      "spglib: ssm_get_exact_positions failed (attempt=4). (line 115, /tmp/pip-install-58cw25xt/spglib_6207849ab7c64022b27925c813b8e5ef/src/site_symmetry.c).\n",
      "spglib: ssm_get_exact_positions failed. (line 479, /tmp/pip-install-58cw25xt/spglib_6207849ab7c64022b27925c813b8e5ef/src/refinement.c).\n",
      "spglib: get_bravais_exact_positions_and_lattice failed. (line 336, /tmp/pip-install-58cw25xt/spglib_6207849ab7c64022b27925c813b8e5ef/src/refinement.c).\n",
      "spglib: ref_get_exact_structure_and_symmetry failed. (line 82, /tmp/pip-install-58cw25xt/spglib_6207849ab7c64022b27925c813b8e5ef/src/determination.c).\n",
      "spglib: ssm_get_exact_positions failed (attempt=0). (line 115, /tmp/pip-install-58cw25xt/spglib_6207849ab7c64022b27925c813b8e5ef/src/site_symmetry.c).\n",
      "spglib: ssm_get_exact_positions failed (attempt=1). (line 115, /tmp/pip-install-58cw25xt/spglib_6207849ab7c64022b27925c813b8e5ef/src/site_symmetry.c).\n",
      "spglib: ssm_get_exact_positions failed (attempt=2). (line 115, /tmp/pip-install-58cw25xt/spglib_6207849ab7c64022b27925c813b8e5ef/src/site_symmetry.c).\n",
      "spglib: ssm_get_exact_positions failed (attempt=3). (line 115, /tmp/pip-install-58cw25xt/spglib_6207849ab7c64022b27925c813b8e5ef/src/site_symmetry.c).\n",
      "spglib: ssm_get_exact_positions failed (attempt=4). (line 115, /tmp/pip-install-58cw25xt/spglib_6207849ab7c64022b27925c813b8e5ef/src/site_symmetry.c).\n",
      "spglib: ssm_get_exact_positions failed. (line 479, /tmp/pip-install-58cw25xt/spglib_6207849ab7c64022b27925c813b8e5ef/src/refinement.c).\n",
      "spglib: get_bravais_exact_positions_and_lattice failed. (line 336, /tmp/pip-install-58cw25xt/spglib_6207849ab7c64022b27925c813b8e5ef/src/refinement.c).\n",
      "spglib: ref_get_exact_structure_and_symmetry failed. (line 82, /tmp/pip-install-58cw25xt/spglib_6207849ab7c64022b27925c813b8e5ef/src/determination.c).\n",
      "spglib: ssm_get_exact_positions failed (attempt=0). (line 115, /tmp/pip-install-58cw25xt/spglib_6207849ab7c64022b27925c813b8e5ef/src/site_symmetry.c).\n",
      "spglib: ssm_get_exact_positions failed (attempt=1). (line 115, /tmp/pip-install-58cw25xt/spglib_6207849ab7c64022b27925c813b8e5ef/src/site_symmetry.c).\n",
      "spglib: ssm_get_exact_positions failed (attempt=2). (line 115, /tmp/pip-install-58cw25xt/spglib_6207849ab7c64022b27925c813b8e5ef/src/site_symmetry.c).\n",
      "spglib: ssm_get_exact_positions failed (attempt=3). (line 115, /tmp/pip-install-58cw25xt/spglib_6207849ab7c64022b27925c813b8e5ef/src/site_symmetry.c).\n",
      "spglib: ssm_get_exact_positions failed (attempt=4). (line 115, /tmp/pip-install-58cw25xt/spglib_6207849ab7c64022b27925c813b8e5ef/src/site_symmetry.c).\n",
      "spglib: ssm_get_exact_positions failed. (line 479, /tmp/pip-install-58cw25xt/spglib_6207849ab7c64022b27925c813b8e5ef/src/refinement.c).\n",
      "spglib: get_bravais_exact_positions_and_lattice failed. (line 336, /tmp/pip-install-58cw25xt/spglib_6207849ab7c64022b27925c813b8e5ef/src/refinement.c).\n",
      "spglib: ref_get_exact_structure_and_symmetry failed. (line 82, /tmp/pip-install-58cw25xt/spglib_6207849ab7c64022b27925c813b8e5ef/src/determination.c).\n",
      "spglib: ssm_get_exact_positions failed (attempt=0). (line 115, /tmp/pip-install-58cw25xt/spglib_6207849ab7c64022b27925c813b8e5ef/src/site_symmetry.c).\n",
      "spglib: ssm_get_exact_positions failed (attempt=1). (line 115, /tmp/pip-install-58cw25xt/spglib_6207849ab7c64022b27925c813b8e5ef/src/site_symmetry.c).\n",
      "spglib: ssm_get_exact_positions failed (attempt=2). (line 115, /tmp/pip-install-58cw25xt/spglib_6207849ab7c64022b27925c813b8e5ef/src/site_symmetry.c).\n",
      "spglib: ssm_get_exact_positions failed (attempt=3). (line 115, /tmp/pip-install-58cw25xt/spglib_6207849ab7c64022b27925c813b8e5ef/src/site_symmetry.c).\n",
      "spglib: ssm_get_exact_positions failed (attempt=4). (line 115, /tmp/pip-install-58cw25xt/spglib_6207849ab7c64022b27925c813b8e5ef/src/site_symmetry.c).\n",
      "spglib: ssm_get_exact_positions failed. (line 479, /tmp/pip-install-58cw25xt/spglib_6207849ab7c64022b27925c813b8e5ef/src/refinement.c).\n",
      "spglib: get_bravais_exact_positions_and_lattice failed. (line 336, /tmp/pip-install-58cw25xt/spglib_6207849ab7c64022b27925c813b8e5ef/src/refinement.c).\n",
      "spglib: ref_get_exact_structure_and_symmetry failed. (line 82, /tmp/pip-install-58cw25xt/spglib_6207849ab7c64022b27925c813b8e5ef/src/determination.c).\n",
      "spglib: ssm_get_exact_positions failed (attempt=0). (line 115, /tmp/pip-install-58cw25xt/spglib_6207849ab7c64022b27925c813b8e5ef/src/site_symmetry.c).\n",
      "spglib: ssm_get_exact_positions failed (attempt=1). (line 115, /tmp/pip-install-58cw25xt/spglib_6207849ab7c64022b27925c813b8e5ef/src/site_symmetry.c).\n",
      "spglib: ssm_get_exact_positions failed (attempt=2). (line 115, /tmp/pip-install-58cw25xt/spglib_6207849ab7c64022b27925c813b8e5ef/src/site_symmetry.c).\n",
      "spglib: ssm_get_exact_positions failed (attempt=3). (line 115, /tmp/pip-install-58cw25xt/spglib_6207849ab7c64022b27925c813b8e5ef/src/site_symmetry.c).\n",
      "spglib: ssm_get_exact_positions failed (attempt=4). (line 115, /tmp/pip-install-58cw25xt/spglib_6207849ab7c64022b27925c813b8e5ef/src/site_symmetry.c).\n",
      "spglib: ssm_get_exact_positions failed. (line 479, /tmp/pip-install-58cw25xt/spglib_6207849ab7c64022b27925c813b8e5ef/src/refinement.c).\n",
      "spglib: get_bravais_exact_positions_and_lattice failed. (line 336, /tmp/pip-install-58cw25xt/spglib_6207849ab7c64022b27925c813b8e5ef/src/refinement.c).\n",
      "spglib: ref_get_exact_structure_and_symmetry failed. (line 82, /tmp/pip-install-58cw25xt/spglib_6207849ab7c64022b27925c813b8e5ef/src/determination.c).\n",
      "spglib: ssm_get_exact_positions failed (attempt=0). (line 115, /tmp/pip-install-58cw25xt/spglib_6207849ab7c64022b27925c813b8e5ef/src/site_symmetry.c).\n",
      "spglib: ssm_get_exact_positions failed (attempt=1). (line 115, /tmp/pip-install-58cw25xt/spglib_6207849ab7c64022b27925c813b8e5ef/src/site_symmetry.c).\n",
      "spglib: ssm_get_exact_positions failed (attempt=2). (line 115, /tmp/pip-install-58cw25xt/spglib_6207849ab7c64022b27925c813b8e5ef/src/site_symmetry.c).\n",
      "spglib: ssm_get_exact_positions failed (attempt=3). (line 115, /tmp/pip-install-58cw25xt/spglib_6207849ab7c64022b27925c813b8e5ef/src/site_symmetry.c).\n",
      "spglib: ssm_get_exact_positions failed (attempt=4). (line 115, /tmp/pip-install-58cw25xt/spglib_6207849ab7c64022b27925c813b8e5ef/src/site_symmetry.c).\n",
      "spglib: ssm_get_exact_positions failed. (line 479, /tmp/pip-install-58cw25xt/spglib_6207849ab7c64022b27925c813b8e5ef/src/refinement.c).\n",
      "spglib: get_bravais_exact_positions_and_lattice failed. (line 336, /tmp/pip-install-58cw25xt/spglib_6207849ab7c64022b27925c813b8e5ef/src/refinement.c).\n",
      "spglib: ref_get_exact_structure_and_symmetry failed. (line 82, /tmp/pip-install-58cw25xt/spglib_6207849ab7c64022b27925c813b8e5ef/src/determination.c).\n",
      "spglib: ssm_get_exact_positions failed (attempt=0). (line 115, /tmp/pip-install-58cw25xt/spglib_6207849ab7c64022b27925c813b8e5ef/src/site_symmetry.c).\n",
      "spglib: ssm_get_exact_positions failed (attempt=1). (line 115, /tmp/pip-install-58cw25xt/spglib_6207849ab7c64022b27925c813b8e5ef/src/site_symmetry.c).\n",
      "spglib: ssm_get_exact_positions failed (attempt=2). (line 115, /tmp/pip-install-58cw25xt/spglib_6207849ab7c64022b27925c813b8e5ef/src/site_symmetry.c).\n",
      "spglib: ssm_get_exact_positions failed (attempt=3). (line 115, /tmp/pip-install-58cw25xt/spglib_6207849ab7c64022b27925c813b8e5ef/src/site_symmetry.c).\n",
      "spglib: ssm_get_exact_positions failed (attempt=4). (line 115, /tmp/pip-install-58cw25xt/spglib_6207849ab7c64022b27925c813b8e5ef/src/site_symmetry.c).\n",
      "spglib: ssm_get_exact_positions failed. (line 479, /tmp/pip-install-58cw25xt/spglib_6207849ab7c64022b27925c813b8e5ef/src/refinement.c).\n",
      "spglib: get_bravais_exact_positions_and_lattice failed. (line 336, /tmp/pip-install-58cw25xt/spglib_6207849ab7c64022b27925c813b8e5ef/src/refinement.c).\n",
      "spglib: ref_get_exact_structure_and_symmetry failed. (line 82, /tmp/pip-install-58cw25xt/spglib_6207849ab7c64022b27925c813b8e5ef/src/determination.c).\n",
      "spglib: ssm_get_exact_positions failed (attempt=0). (line 115, /tmp/pip-install-58cw25xt/spglib_6207849ab7c64022b27925c813b8e5ef/src/site_symmetry.c).\n",
      "spglib: ssm_get_exact_positions failed (attempt=1). (line 115, /tmp/pip-install-58cw25xt/spglib_6207849ab7c64022b27925c813b8e5ef/src/site_symmetry.c).\n",
      "spglib: ssm_get_exact_positions failed (attempt=2). (line 115, /tmp/pip-install-58cw25xt/spglib_6207849ab7c64022b27925c813b8e5ef/src/site_symmetry.c).\n",
      "spglib: ssm_get_exact_positions failed (attempt=3). (line 115, /tmp/pip-install-58cw25xt/spglib_6207849ab7c64022b27925c813b8e5ef/src/site_symmetry.c).\n",
      "spglib: ssm_get_exact_positions failed (attempt=4). (line 115, /tmp/pip-install-58cw25xt/spglib_6207849ab7c64022b27925c813b8e5ef/src/site_symmetry.c).\n",
      "spglib: ssm_get_exact_positions failed. (line 479, /tmp/pip-install-58cw25xt/spglib_6207849ab7c64022b27925c813b8e5ef/src/refinement.c).\n",
      "spglib: get_bravais_exact_positions_and_lattice failed. (line 336, /tmp/pip-install-58cw25xt/spglib_6207849ab7c64022b27925c813b8e5ef/src/refinement.c).\n",
      "spglib: ref_get_exact_structure_and_symmetry failed. (line 82, /tmp/pip-install-58cw25xt/spglib_6207849ab7c64022b27925c813b8e5ef/src/determination.c).\n",
      "spglib: ssm_get_exact_positions failed (attempt=0). (line 115, /tmp/pip-install-58cw25xt/spglib_6207849ab7c64022b27925c813b8e5ef/src/site_symmetry.c).\n",
      "spglib: ssm_get_exact_positions failed (attempt=1). (line 115, /tmp/pip-install-58cw25xt/spglib_6207849ab7c64022b27925c813b8e5ef/src/site_symmetry.c).\n",
      "spglib: ssm_get_exact_positions failed (attempt=2). (line 115, /tmp/pip-install-58cw25xt/spglib_6207849ab7c64022b27925c813b8e5ef/src/site_symmetry.c).\n",
      "spglib: ssm_get_exact_positions failed (attempt=3). (line 115, /tmp/pip-install-58cw25xt/spglib_6207849ab7c64022b27925c813b8e5ef/src/site_symmetry.c).\n",
      "spglib: ssm_get_exact_positions failed (attempt=4). (line 115, /tmp/pip-install-58cw25xt/spglib_6207849ab7c64022b27925c813b8e5ef/src/site_symmetry.c).\n",
      "spglib: ssm_get_exact_positions failed. (line 479, /tmp/pip-install-58cw25xt/spglib_6207849ab7c64022b27925c813b8e5ef/src/refinement.c).\n",
      "spglib: get_bravais_exact_positions_and_lattice failed. (line 336, /tmp/pip-install-58cw25xt/spglib_6207849ab7c64022b27925c813b8e5ef/src/refinement.c).\n",
      "spglib: ref_get_exact_structure_and_symmetry failed. (line 82, /tmp/pip-install-58cw25xt/spglib_6207849ab7c64022b27925c813b8e5ef/src/determination.c).\n",
      "spglib: ssm_get_exact_positions failed (attempt=0). (line 115, /tmp/pip-install-58cw25xt/spglib_6207849ab7c64022b27925c813b8e5ef/src/site_symmetry.c).\n",
      "spglib: ssm_get_exact_positions failed (attempt=1). (line 115, /tmp/pip-install-58cw25xt/spglib_6207849ab7c64022b27925c813b8e5ef/src/site_symmetry.c).\n",
      "spglib: ssm_get_exact_positions failed (attempt=2). (line 115, /tmp/pip-install-58cw25xt/spglib_6207849ab7c64022b27925c813b8e5ef/src/site_symmetry.c).\n",
      "spglib: ssm_get_exact_positions failed (attempt=3). (line 115, /tmp/pip-install-58cw25xt/spglib_6207849ab7c64022b27925c813b8e5ef/src/site_symmetry.c).\n",
      "spglib: ssm_get_exact_positions failed (attempt=4). (line 115, /tmp/pip-install-58cw25xt/spglib_6207849ab7c64022b27925c813b8e5ef/src/site_symmetry.c).\n",
      "spglib: ssm_get_exact_positions failed. (line 479, /tmp/pip-install-58cw25xt/spglib_6207849ab7c64022b27925c813b8e5ef/src/refinement.c).\n",
      "spglib: get_bravais_exact_positions_and_lattice failed. (line 336, /tmp/pip-install-58cw25xt/spglib_6207849ab7c64022b27925c813b8e5ef/src/refinement.c).\n",
      "spglib: ref_get_exact_structure_and_symmetry failed. (line 82, /tmp/pip-install-58cw25xt/spglib_6207849ab7c64022b27925c813b8e5ef/src/determination.c).\n",
      "spglib: ssm_get_exact_positions failed (attempt=0). (line 115, /tmp/pip-install-58cw25xt/spglib_6207849ab7c64022b27925c813b8e5ef/src/site_symmetry.c).\n",
      "spglib: ssm_get_exact_positions failed (attempt=1). (line 115, /tmp/pip-install-58cw25xt/spglib_6207849ab7c64022b27925c813b8e5ef/src/site_symmetry.c).\n",
      "spglib: ssm_get_exact_positions failed (attempt=2). (line 115, /tmp/pip-install-58cw25xt/spglib_6207849ab7c64022b27925c813b8e5ef/src/site_symmetry.c).\n",
      "spglib: ssm_get_exact_positions failed (attempt=3). (line 115, /tmp/pip-install-58cw25xt/spglib_6207849ab7c64022b27925c813b8e5ef/src/site_symmetry.c).\n",
      "spglib: ssm_get_exact_positions failed (attempt=4). (line 115, /tmp/pip-install-58cw25xt/spglib_6207849ab7c64022b27925c813b8e5ef/src/site_symmetry.c).\n",
      "spglib: ssm_get_exact_positions failed. (line 479, /tmp/pip-install-58cw25xt/spglib_6207849ab7c64022b27925c813b8e5ef/src/refinement.c).\n",
      "spglib: get_bravais_exact_positions_and_lattice failed. (line 336, /tmp/pip-install-58cw25xt/spglib_6207849ab7c64022b27925c813b8e5ef/src/refinement.c).\n",
      "spglib: ref_get_exact_structure_and_symmetry failed. (line 82, /tmp/pip-install-58cw25xt/spglib_6207849ab7c64022b27925c813b8e5ef/src/determination.c).\n",
      "spglib: ssm_get_exact_positions failed (attempt=0). (line 115, /tmp/pip-install-58cw25xt/spglib_6207849ab7c64022b27925c813b8e5ef/src/site_symmetry.c).\n",
      "spglib: ssm_get_exact_positions failed (attempt=1). (line 115, /tmp/pip-install-58cw25xt/spglib_6207849ab7c64022b27925c813b8e5ef/src/site_symmetry.c).\n",
      "spglib: ssm_get_exact_positions failed (attempt=2). (line 115, /tmp/pip-install-58cw25xt/spglib_6207849ab7c64022b27925c813b8e5ef/src/site_symmetry.c).\n",
      "spglib: ssm_get_exact_positions failed (attempt=3). (line 115, /tmp/pip-install-58cw25xt/spglib_6207849ab7c64022b27925c813b8e5ef/src/site_symmetry.c).\n",
      "spglib: ssm_get_exact_positions failed (attempt=4). (line 115, /tmp/pip-install-58cw25xt/spglib_6207849ab7c64022b27925c813b8e5ef/src/site_symmetry.c).\n",
      "spglib: ssm_get_exact_positions failed. (line 479, /tmp/pip-install-58cw25xt/spglib_6207849ab7c64022b27925c813b8e5ef/src/refinement.c).\n",
      "spglib: get_bravais_exact_positions_and_lattice failed. (line 336, /tmp/pip-install-58cw25xt/spglib_6207849ab7c64022b27925c813b8e5ef/src/refinement.c).\n",
      "spglib: ref_get_exact_structure_and_symmetry failed. (line 82, /tmp/pip-install-58cw25xt/spglib_6207849ab7c64022b27925c813b8e5ef/src/determination.c).\n",
      "spglib: ssm_get_exact_positions failed (attempt=0). (line 115, /tmp/pip-install-58cw25xt/spglib_6207849ab7c64022b27925c813b8e5ef/src/site_symmetry.c).\n",
      "spglib: ssm_get_exact_positions failed (attempt=1). (line 115, /tmp/pip-install-58cw25xt/spglib_6207849ab7c64022b27925c813b8e5ef/src/site_symmetry.c).\n",
      "spglib: ssm_get_exact_positions failed (attempt=2). (line 115, /tmp/pip-install-58cw25xt/spglib_6207849ab7c64022b27925c813b8e5ef/src/site_symmetry.c).\n",
      "spglib: ssm_get_exact_positions failed (attempt=3). (line 115, /tmp/pip-install-58cw25xt/spglib_6207849ab7c64022b27925c813b8e5ef/src/site_symmetry.c).\n",
      "spglib: ssm_get_exact_positions failed (attempt=4). (line 115, /tmp/pip-install-58cw25xt/spglib_6207849ab7c64022b27925c813b8e5ef/src/site_symmetry.c).\n",
      "spglib: ssm_get_exact_positions failed. (line 479, /tmp/pip-install-58cw25xt/spglib_6207849ab7c64022b27925c813b8e5ef/src/refinement.c).\n",
      "spglib: get_bravais_exact_positions_and_lattice failed. (line 336, /tmp/pip-install-58cw25xt/spglib_6207849ab7c64022b27925c813b8e5ef/src/refinement.c).\n",
      "spglib: ref_get_exact_structure_and_symmetry failed. (line 82, /tmp/pip-install-58cw25xt/spglib_6207849ab7c64022b27925c813b8e5ef/src/determination.c).\n",
      "spglib: ssm_get_exact_positions failed (attempt=0). (line 115, /tmp/pip-install-58cw25xt/spglib_6207849ab7c64022b27925c813b8e5ef/src/site_symmetry.c).\n",
      "spglib: ssm_get_exact_positions failed (attempt=1). (line 115, /tmp/pip-install-58cw25xt/spglib_6207849ab7c64022b27925c813b8e5ef/src/site_symmetry.c).\n",
      "spglib: ssm_get_exact_positions failed (attempt=2). (line 115, /tmp/pip-install-58cw25xt/spglib_6207849ab7c64022b27925c813b8e5ef/src/site_symmetry.c).\n",
      "spglib: ssm_get_exact_positions failed (attempt=3). (line 115, /tmp/pip-install-58cw25xt/spglib_6207849ab7c64022b27925c813b8e5ef/src/site_symmetry.c).\n",
      "spglib: ssm_get_exact_positions failed (attempt=4). (line 115, /tmp/pip-install-58cw25xt/spglib_6207849ab7c64022b27925c813b8e5ef/src/site_symmetry.c).\n",
      "spglib: ssm_get_exact_positions failed. (line 479, /tmp/pip-install-58cw25xt/spglib_6207849ab7c64022b27925c813b8e5ef/src/refinement.c).\n",
      "spglib: get_bravais_exact_positions_and_lattice failed. (line 336, /tmp/pip-install-58cw25xt/spglib_6207849ab7c64022b27925c813b8e5ef/src/refinement.c).\n",
      "spglib: ref_get_exact_structure_and_symmetry failed. (line 82, /tmp/pip-install-58cw25xt/spglib_6207849ab7c64022b27925c813b8e5ef/src/determination.c).\n",
      "spglib: ssm_get_exact_positions failed (attempt=0). (line 115, /tmp/pip-install-58cw25xt/spglib_6207849ab7c64022b27925c813b8e5ef/src/site_symmetry.c).\n",
      "spglib: ssm_get_exact_positions failed (attempt=1). (line 115, /tmp/pip-install-58cw25xt/spglib_6207849ab7c64022b27925c813b8e5ef/src/site_symmetry.c).\n",
      "spglib: ssm_get_exact_positions failed (attempt=2). (line 115, /tmp/pip-install-58cw25xt/spglib_6207849ab7c64022b27925c813b8e5ef/src/site_symmetry.c).\n",
      "spglib: ssm_get_exact_positions failed (attempt=3). (line 115, /tmp/pip-install-58cw25xt/spglib_6207849ab7c64022b27925c813b8e5ef/src/site_symmetry.c).\n",
      "spglib: ssm_get_exact_positions failed (attempt=4). (line 115, /tmp/pip-install-58cw25xt/spglib_6207849ab7c64022b27925c813b8e5ef/src/site_symmetry.c).\n",
      "spglib: ssm_get_exact_positions failed. (line 479, /tmp/pip-install-58cw25xt/spglib_6207849ab7c64022b27925c813b8e5ef/src/refinement.c).\n",
      "spglib: get_bravais_exact_positions_and_lattice failed. (line 336, /tmp/pip-install-58cw25xt/spglib_6207849ab7c64022b27925c813b8e5ef/src/refinement.c).\n",
      "spglib: ref_get_exact_structure_and_symmetry failed. (line 82, /tmp/pip-install-58cw25xt/spglib_6207849ab7c64022b27925c813b8e5ef/src/determination.c).\n",
      "spglib: ssm_get_exact_positions failed (attempt=0). (line 115, /tmp/pip-install-58cw25xt/spglib_6207849ab7c64022b27925c813b8e5ef/src/site_symmetry.c).\n",
      "spglib: ssm_get_exact_positions failed (attempt=1). (line 115, /tmp/pip-install-58cw25xt/spglib_6207849ab7c64022b27925c813b8e5ef/src/site_symmetry.c).\n",
      "spglib: ssm_get_exact_positions failed (attempt=2). (line 115, /tmp/pip-install-58cw25xt/spglib_6207849ab7c64022b27925c813b8e5ef/src/site_symmetry.c).\n",
      "spglib: ssm_get_exact_positions failed (attempt=3). (line 115, /tmp/pip-install-58cw25xt/spglib_6207849ab7c64022b27925c813b8e5ef/src/site_symmetry.c).\n",
      "spglib: ssm_get_exact_positions failed (attempt=4). (line 115, /tmp/pip-install-58cw25xt/spglib_6207849ab7c64022b27925c813b8e5ef/src/site_symmetry.c).\n",
      "spglib: ssm_get_exact_positions failed. (line 479, /tmp/pip-install-58cw25xt/spglib_6207849ab7c64022b27925c813b8e5ef/src/refinement.c).\n",
      "spglib: get_bravais_exact_positions_and_lattice failed. (line 336, /tmp/pip-install-58cw25xt/spglib_6207849ab7c64022b27925c813b8e5ef/src/refinement.c).\n",
      "spglib: ref_get_exact_structure_and_symmetry failed. (line 82, /tmp/pip-install-58cw25xt/spglib_6207849ab7c64022b27925c813b8e5ef/src/determination.c).\n",
      "spglib: ssm_get_exact_positions failed (attempt=0). (line 115, /tmp/pip-install-58cw25xt/spglib_6207849ab7c64022b27925c813b8e5ef/src/site_symmetry.c).\n",
      "spglib: ssm_get_exact_positions failed (attempt=1). (line 115, /tmp/pip-install-58cw25xt/spglib_6207849ab7c64022b27925c813b8e5ef/src/site_symmetry.c).\n",
      "spglib: ssm_get_exact_positions failed (attempt=2). (line 115, /tmp/pip-install-58cw25xt/spglib_6207849ab7c64022b27925c813b8e5ef/src/site_symmetry.c).\n",
      "spglib: ssm_get_exact_positions failed (attempt=3). (line 115, /tmp/pip-install-58cw25xt/spglib_6207849ab7c64022b27925c813b8e5ef/src/site_symmetry.c).\n",
      "spglib: ssm_get_exact_positions failed (attempt=4). (line 115, /tmp/pip-install-58cw25xt/spglib_6207849ab7c64022b27925c813b8e5ef/src/site_symmetry.c).\n",
      "spglib: ssm_get_exact_positions failed. (line 479, /tmp/pip-install-58cw25xt/spglib_6207849ab7c64022b27925c813b8e5ef/src/refinement.c).\n",
      "spglib: get_bravais_exact_positions_and_lattice failed. (line 336, /tmp/pip-install-58cw25xt/spglib_6207849ab7c64022b27925c813b8e5ef/src/refinement.c).\n",
      "spglib: ref_get_exact_structure_and_symmetry failed. (line 82, /tmp/pip-install-58cw25xt/spglib_6207849ab7c64022b27925c813b8e5ef/src/determination.c).\n",
      "spglib: ssm_get_exact_positions failed (attempt=0). (line 115, /tmp/pip-install-58cw25xt/spglib_6207849ab7c64022b27925c813b8e5ef/src/site_symmetry.c).\n",
      "spglib: ssm_get_exact_positions failed (attempt=1). (line 115, /tmp/pip-install-58cw25xt/spglib_6207849ab7c64022b27925c813b8e5ef/src/site_symmetry.c).\n",
      "spglib: ssm_get_exact_positions failed (attempt=2). (line 115, /tmp/pip-install-58cw25xt/spglib_6207849ab7c64022b27925c813b8e5ef/src/site_symmetry.c).\n",
      "spglib: ssm_get_exact_positions failed (attempt=3). (line 115, /tmp/pip-install-58cw25xt/spglib_6207849ab7c64022b27925c813b8e5ef/src/site_symmetry.c).\n",
      "spglib: ssm_get_exact_positions failed (attempt=4). (line 115, /tmp/pip-install-58cw25xt/spglib_6207849ab7c64022b27925c813b8e5ef/src/site_symmetry.c).\n",
      "spglib: ssm_get_exact_positions failed. (line 479, /tmp/pip-install-58cw25xt/spglib_6207849ab7c64022b27925c813b8e5ef/src/refinement.c).\n",
      "spglib: get_bravais_exact_positions_and_lattice failed. (line 336, /tmp/pip-install-58cw25xt/spglib_6207849ab7c64022b27925c813b8e5ef/src/refinement.c).\n",
      "spglib: ref_get_exact_structure_and_symmetry failed. (line 82, /tmp/pip-install-58cw25xt/spglib_6207849ab7c64022b27925c813b8e5ef/src/determination.c).\n",
      "spglib: ssm_get_exact_positions failed (attempt=0). (line 115, /tmp/pip-install-58cw25xt/spglib_6207849ab7c64022b27925c813b8e5ef/src/site_symmetry.c).\n",
      "spglib: ssm_get_exact_positions failed (attempt=1). (line 115, /tmp/pip-install-58cw25xt/spglib_6207849ab7c64022b27925c813b8e5ef/src/site_symmetry.c).\n",
      "spglib: ssm_get_exact_positions failed (attempt=2). (line 115, /tmp/pip-install-58cw25xt/spglib_6207849ab7c64022b27925c813b8e5ef/src/site_symmetry.c).\n",
      "spglib: ssm_get_exact_positions failed (attempt=3). (line 115, /tmp/pip-install-58cw25xt/spglib_6207849ab7c64022b27925c813b8e5ef/src/site_symmetry.c).\n",
      "spglib: ssm_get_exact_positions failed (attempt=4). (line 115, /tmp/pip-install-58cw25xt/spglib_6207849ab7c64022b27925c813b8e5ef/src/site_symmetry.c).\n",
      "spglib: ssm_get_exact_positions failed. (line 479, /tmp/pip-install-58cw25xt/spglib_6207849ab7c64022b27925c813b8e5ef/src/refinement.c).\n",
      "spglib: get_bravais_exact_positions_and_lattice failed. (line 336, /tmp/pip-install-58cw25xt/spglib_6207849ab7c64022b27925c813b8e5ef/src/refinement.c).\n",
      "spglib: ref_get_exact_structure_and_symmetry failed. (line 82, /tmp/pip-install-58cw25xt/spglib_6207849ab7c64022b27925c813b8e5ef/src/determination.c).\n",
      "spglib: ssm_get_exact_positions failed (attempt=0). (line 115, /tmp/pip-install-58cw25xt/spglib_6207849ab7c64022b27925c813b8e5ef/src/site_symmetry.c).\n",
      "spglib: ssm_get_exact_positions failed (attempt=1). (line 115, /tmp/pip-install-58cw25xt/spglib_6207849ab7c64022b27925c813b8e5ef/src/site_symmetry.c).\n",
      "spglib: ssm_get_exact_positions failed (attempt=2). (line 115, /tmp/pip-install-58cw25xt/spglib_6207849ab7c64022b27925c813b8e5ef/src/site_symmetry.c).\n",
      "spglib: ssm_get_exact_positions failed (attempt=3). (line 115, /tmp/pip-install-58cw25xt/spglib_6207849ab7c64022b27925c813b8e5ef/src/site_symmetry.c).\n",
      "spglib: ssm_get_exact_positions failed (attempt=4). (line 115, /tmp/pip-install-58cw25xt/spglib_6207849ab7c64022b27925c813b8e5ef/src/site_symmetry.c).\n",
      "spglib: ssm_get_exact_positions failed. (line 479, /tmp/pip-install-58cw25xt/spglib_6207849ab7c64022b27925c813b8e5ef/src/refinement.c).\n",
      "spglib: get_bravais_exact_positions_and_lattice failed. (line 336, /tmp/pip-install-58cw25xt/spglib_6207849ab7c64022b27925c813b8e5ef/src/refinement.c).\n",
      "spglib: ref_get_exact_structure_and_symmetry failed. (line 82, /tmp/pip-install-58cw25xt/spglib_6207849ab7c64022b27925c813b8e5ef/src/determination.c).\n",
      "spglib: ssm_get_exact_positions failed (attempt=0). (line 115, /tmp/pip-install-58cw25xt/spglib_6207849ab7c64022b27925c813b8e5ef/src/site_symmetry.c).\n",
      "spglib: ssm_get_exact_positions failed (attempt=1). (line 115, /tmp/pip-install-58cw25xt/spglib_6207849ab7c64022b27925c813b8e5ef/src/site_symmetry.c).\n",
      "spglib: ssm_get_exact_positions failed (attempt=2). (line 115, /tmp/pip-install-58cw25xt/spglib_6207849ab7c64022b27925c813b8e5ef/src/site_symmetry.c).\n",
      "spglib: ssm_get_exact_positions failed (attempt=3). (line 115, /tmp/pip-install-58cw25xt/spglib_6207849ab7c64022b27925c813b8e5ef/src/site_symmetry.c).\n",
      "spglib: ssm_get_exact_positions failed (attempt=4). (line 115, /tmp/pip-install-58cw25xt/spglib_6207849ab7c64022b27925c813b8e5ef/src/site_symmetry.c).\n",
      "spglib: ssm_get_exact_positions failed. (line 479, /tmp/pip-install-58cw25xt/spglib_6207849ab7c64022b27925c813b8e5ef/src/refinement.c).\n",
      "spglib: get_bravais_exact_positions_and_lattice failed. (line 336, /tmp/pip-install-58cw25xt/spglib_6207849ab7c64022b27925c813b8e5ef/src/refinement.c).\n",
      "spglib: ref_get_exact_structure_and_symmetry failed. (line 82, /tmp/pip-install-58cw25xt/spglib_6207849ab7c64022b27925c813b8e5ef/src/determination.c).\n",
      "spglib: ssm_get_exact_positions failed (attempt=0). (line 115, /tmp/pip-install-58cw25xt/spglib_6207849ab7c64022b27925c813b8e5ef/src/site_symmetry.c).\n",
      "spglib: ssm_get_exact_positions failed (attempt=1). (line 115, /tmp/pip-install-58cw25xt/spglib_6207849ab7c64022b27925c813b8e5ef/src/site_symmetry.c).\n",
      "spglib: ssm_get_exact_positions failed (attempt=2). (line 115, /tmp/pip-install-58cw25xt/spglib_6207849ab7c64022b27925c813b8e5ef/src/site_symmetry.c).\n",
      "spglib: ssm_get_exact_positions failed (attempt=3). (line 115, /tmp/pip-install-58cw25xt/spglib_6207849ab7c64022b27925c813b8e5ef/src/site_symmetry.c).\n",
      "spglib: ssm_get_exact_positions failed (attempt=4). (line 115, /tmp/pip-install-58cw25xt/spglib_6207849ab7c64022b27925c813b8e5ef/src/site_symmetry.c).\n",
      "spglib: ssm_get_exact_positions failed. (line 479, /tmp/pip-install-58cw25xt/spglib_6207849ab7c64022b27925c813b8e5ef/src/refinement.c).\n",
      "spglib: get_bravais_exact_positions_and_lattice failed. (line 336, /tmp/pip-install-58cw25xt/spglib_6207849ab7c64022b27925c813b8e5ef/src/refinement.c).\n",
      "spglib: ref_get_exact_structure_and_symmetry failed. (line 82, /tmp/pip-install-58cw25xt/spglib_6207849ab7c64022b27925c813b8e5ef/src/determination.c).\n",
      "spglib: ssm_get_exact_positions failed (attempt=0). (line 115, /tmp/pip-install-58cw25xt/spglib_6207849ab7c64022b27925c813b8e5ef/src/site_symmetry.c).\n",
      "spglib: ssm_get_exact_positions failed (attempt=1). (line 115, /tmp/pip-install-58cw25xt/spglib_6207849ab7c64022b27925c813b8e5ef/src/site_symmetry.c).\n",
      "spglib: ssm_get_exact_positions failed (attempt=2). (line 115, /tmp/pip-install-58cw25xt/spglib_6207849ab7c64022b27925c813b8e5ef/src/site_symmetry.c).\n",
      "spglib: ssm_get_exact_positions failed (attempt=3). (line 115, /tmp/pip-install-58cw25xt/spglib_6207849ab7c64022b27925c813b8e5ef/src/site_symmetry.c).\n",
      "spglib: ssm_get_exact_positions failed (attempt=4). (line 115, /tmp/pip-install-58cw25xt/spglib_6207849ab7c64022b27925c813b8e5ef/src/site_symmetry.c).\n",
      "spglib: ssm_get_exact_positions failed. (line 479, /tmp/pip-install-58cw25xt/spglib_6207849ab7c64022b27925c813b8e5ef/src/refinement.c).\n",
      "spglib: get_bravais_exact_positions_and_lattice failed. (line 336, /tmp/pip-install-58cw25xt/spglib_6207849ab7c64022b27925c813b8e5ef/src/refinement.c).\n",
      "spglib: ref_get_exact_structure_and_symmetry failed. (line 82, /tmp/pip-install-58cw25xt/spglib_6207849ab7c64022b27925c813b8e5ef/src/determination.c).\n",
      "spglib: ssm_get_exact_positions failed (attempt=0). (line 115, /tmp/pip-install-58cw25xt/spglib_6207849ab7c64022b27925c813b8e5ef/src/site_symmetry.c).\n",
      "spglib: ssm_get_exact_positions failed (attempt=1). (line 115, /tmp/pip-install-58cw25xt/spglib_6207849ab7c64022b27925c813b8e5ef/src/site_symmetry.c).\n",
      "spglib: ssm_get_exact_positions failed (attempt=2). (line 115, /tmp/pip-install-58cw25xt/spglib_6207849ab7c64022b27925c813b8e5ef/src/site_symmetry.c).\n",
      "spglib: ssm_get_exact_positions failed (attempt=3). (line 115, /tmp/pip-install-58cw25xt/spglib_6207849ab7c64022b27925c813b8e5ef/src/site_symmetry.c).\n",
      "spglib: ssm_get_exact_positions failed (attempt=4). (line 115, /tmp/pip-install-58cw25xt/spglib_6207849ab7c64022b27925c813b8e5ef/src/site_symmetry.c).\n",
      "spglib: ssm_get_exact_positions failed. (line 479, /tmp/pip-install-58cw25xt/spglib_6207849ab7c64022b27925c813b8e5ef/src/refinement.c).\n",
      "spglib: get_bravais_exact_positions_and_lattice failed. (line 336, /tmp/pip-install-58cw25xt/spglib_6207849ab7c64022b27925c813b8e5ef/src/refinement.c).\n",
      "spglib: ref_get_exact_structure_and_symmetry failed. (line 82, /tmp/pip-install-58cw25xt/spglib_6207849ab7c64022b27925c813b8e5ef/src/determination.c).\n",
      "spglib: ssm_get_exact_positions failed (attempt=0). (line 115, /tmp/pip-install-58cw25xt/spglib_6207849ab7c64022b27925c813b8e5ef/src/site_symmetry.c).\n",
      "spglib: ssm_get_exact_positions failed (attempt=1). (line 115, /tmp/pip-install-58cw25xt/spglib_6207849ab7c64022b27925c813b8e5ef/src/site_symmetry.c).\n",
      "spglib: ssm_get_exact_positions failed (attempt=2). (line 115, /tmp/pip-install-58cw25xt/spglib_6207849ab7c64022b27925c813b8e5ef/src/site_symmetry.c).\n",
      "spglib: ssm_get_exact_positions failed (attempt=3). (line 115, /tmp/pip-install-58cw25xt/spglib_6207849ab7c64022b27925c813b8e5ef/src/site_symmetry.c).\n",
      "spglib: ssm_get_exact_positions failed (attempt=4). (line 115, /tmp/pip-install-58cw25xt/spglib_6207849ab7c64022b27925c813b8e5ef/src/site_symmetry.c).\n",
      "spglib: ssm_get_exact_positions failed. (line 479, /tmp/pip-install-58cw25xt/spglib_6207849ab7c64022b27925c813b8e5ef/src/refinement.c).\n",
      "spglib: get_bravais_exact_positions_and_lattice failed. (line 336, /tmp/pip-install-58cw25xt/spglib_6207849ab7c64022b27925c813b8e5ef/src/refinement.c).\n",
      "spglib: ref_get_exact_structure_and_symmetry failed. (line 82, /tmp/pip-install-58cw25xt/spglib_6207849ab7c64022b27925c813b8e5ef/src/determination.c).\n",
      "spglib: ssm_get_exact_positions failed (attempt=0). (line 115, /tmp/pip-install-58cw25xt/spglib_6207849ab7c64022b27925c813b8e5ef/src/site_symmetry.c).\n",
      "spglib: ssm_get_exact_positions failed (attempt=1). (line 115, /tmp/pip-install-58cw25xt/spglib_6207849ab7c64022b27925c813b8e5ef/src/site_symmetry.c).\n",
      "spglib: ssm_get_exact_positions failed (attempt=2). (line 115, /tmp/pip-install-58cw25xt/spglib_6207849ab7c64022b27925c813b8e5ef/src/site_symmetry.c).\n",
      "spglib: ssm_get_exact_positions failed (attempt=3). (line 115, /tmp/pip-install-58cw25xt/spglib_6207849ab7c64022b27925c813b8e5ef/src/site_symmetry.c).\n",
      "spglib: ssm_get_exact_positions failed (attempt=4). (line 115, /tmp/pip-install-58cw25xt/spglib_6207849ab7c64022b27925c813b8e5ef/src/site_symmetry.c).\n",
      "spglib: ssm_get_exact_positions failed. (line 479, /tmp/pip-install-58cw25xt/spglib_6207849ab7c64022b27925c813b8e5ef/src/refinement.c).\n",
      "spglib: get_bravais_exact_positions_and_lattice failed. (line 336, /tmp/pip-install-58cw25xt/spglib_6207849ab7c64022b27925c813b8e5ef/src/refinement.c).\n",
      "spglib: ref_get_exact_structure_and_symmetry failed. (line 82, /tmp/pip-install-58cw25xt/spglib_6207849ab7c64022b27925c813b8e5ef/src/determination.c).\n",
      "spglib: ssm_get_exact_positions failed (attempt=0). (line 115, /tmp/pip-install-58cw25xt/spglib_6207849ab7c64022b27925c813b8e5ef/src/site_symmetry.c).\n",
      "spglib: ssm_get_exact_positions failed (attempt=1). (line 115, /tmp/pip-install-58cw25xt/spglib_6207849ab7c64022b27925c813b8e5ef/src/site_symmetry.c).\n",
      "spglib: ssm_get_exact_positions failed (attempt=2). (line 115, /tmp/pip-install-58cw25xt/spglib_6207849ab7c64022b27925c813b8e5ef/src/site_symmetry.c).\n",
      "spglib: ssm_get_exact_positions failed (attempt=3). (line 115, /tmp/pip-install-58cw25xt/spglib_6207849ab7c64022b27925c813b8e5ef/src/site_symmetry.c).\n",
      "spglib: ssm_get_exact_positions failed (attempt=4). (line 115, /tmp/pip-install-58cw25xt/spglib_6207849ab7c64022b27925c813b8e5ef/src/site_symmetry.c).\n",
      "spglib: ssm_get_exact_positions failed. (line 479, /tmp/pip-install-58cw25xt/spglib_6207849ab7c64022b27925c813b8e5ef/src/refinement.c).\n",
      "spglib: get_bravais_exact_positions_and_lattice failed. (line 336, /tmp/pip-install-58cw25xt/spglib_6207849ab7c64022b27925c813b8e5ef/src/refinement.c).\n",
      "spglib: ref_get_exact_structure_and_symmetry failed. (line 82, /tmp/pip-install-58cw25xt/spglib_6207849ab7c64022b27925c813b8e5ef/src/determination.c).\n",
      "spglib: ssm_get_exact_positions failed (attempt=0). (line 115, /tmp/pip-install-58cw25xt/spglib_6207849ab7c64022b27925c813b8e5ef/src/site_symmetry.c).\n",
      "spglib: ssm_get_exact_positions failed (attempt=1). (line 115, /tmp/pip-install-58cw25xt/spglib_6207849ab7c64022b27925c813b8e5ef/src/site_symmetry.c).\n",
      "spglib: ssm_get_exact_positions failed (attempt=2). (line 115, /tmp/pip-install-58cw25xt/spglib_6207849ab7c64022b27925c813b8e5ef/src/site_symmetry.c).\n",
      "spglib: ssm_get_exact_positions failed (attempt=3). (line 115, /tmp/pip-install-58cw25xt/spglib_6207849ab7c64022b27925c813b8e5ef/src/site_symmetry.c).\n",
      "spglib: ssm_get_exact_positions failed (attempt=4). (line 115, /tmp/pip-install-58cw25xt/spglib_6207849ab7c64022b27925c813b8e5ef/src/site_symmetry.c).\n",
      "spglib: ssm_get_exact_positions failed. (line 479, /tmp/pip-install-58cw25xt/spglib_6207849ab7c64022b27925c813b8e5ef/src/refinement.c).\n",
      "spglib: get_bravais_exact_positions_and_lattice failed. (line 336, /tmp/pip-install-58cw25xt/spglib_6207849ab7c64022b27925c813b8e5ef/src/refinement.c).\n",
      "spglib: ref_get_exact_structure_and_symmetry failed. (line 82, /tmp/pip-install-58cw25xt/spglib_6207849ab7c64022b27925c813b8e5ef/src/determination.c).\n",
      "spglib: ssm_get_exact_positions failed (attempt=0). (line 115, /tmp/pip-install-58cw25xt/spglib_6207849ab7c64022b27925c813b8e5ef/src/site_symmetry.c).\n",
      "spglib: ssm_get_exact_positions failed (attempt=1). (line 115, /tmp/pip-install-58cw25xt/spglib_6207849ab7c64022b27925c813b8e5ef/src/site_symmetry.c).\n",
      "spglib: ssm_get_exact_positions failed (attempt=2). (line 115, /tmp/pip-install-58cw25xt/spglib_6207849ab7c64022b27925c813b8e5ef/src/site_symmetry.c).\n",
      "spglib: ssm_get_exact_positions failed (attempt=3). (line 115, /tmp/pip-install-58cw25xt/spglib_6207849ab7c64022b27925c813b8e5ef/src/site_symmetry.c).\n",
      "spglib: ssm_get_exact_positions failed (attempt=4). (line 115, /tmp/pip-install-58cw25xt/spglib_6207849ab7c64022b27925c813b8e5ef/src/site_symmetry.c).\n",
      "spglib: ssm_get_exact_positions failed. (line 479, /tmp/pip-install-58cw25xt/spglib_6207849ab7c64022b27925c813b8e5ef/src/refinement.c).\n",
      "spglib: get_bravais_exact_positions_and_lattice failed. (line 336, /tmp/pip-install-58cw25xt/spglib_6207849ab7c64022b27925c813b8e5ef/src/refinement.c).\n",
      "spglib: ref_get_exact_structure_and_symmetry failed. (line 82, /tmp/pip-install-58cw25xt/spglib_6207849ab7c64022b27925c813b8e5ef/src/determination.c).\n",
      "spglib: ssm_get_exact_positions failed (attempt=0). (line 115, /tmp/pip-install-58cw25xt/spglib_6207849ab7c64022b27925c813b8e5ef/src/site_symmetry.c).\n",
      "spglib: ssm_get_exact_positions failed (attempt=1). (line 115, /tmp/pip-install-58cw25xt/spglib_6207849ab7c64022b27925c813b8e5ef/src/site_symmetry.c).\n",
      "spglib: ssm_get_exact_positions failed (attempt=2). (line 115, /tmp/pip-install-58cw25xt/spglib_6207849ab7c64022b27925c813b8e5ef/src/site_symmetry.c).\n",
      "spglib: ssm_get_exact_positions failed (attempt=3). (line 115, /tmp/pip-install-58cw25xt/spglib_6207849ab7c64022b27925c813b8e5ef/src/site_symmetry.c).\n",
      "spglib: ssm_get_exact_positions failed (attempt=4). (line 115, /tmp/pip-install-58cw25xt/spglib_6207849ab7c64022b27925c813b8e5ef/src/site_symmetry.c).\n",
      "spglib: ssm_get_exact_positions failed. (line 479, /tmp/pip-install-58cw25xt/spglib_6207849ab7c64022b27925c813b8e5ef/src/refinement.c).\n",
      "spglib: get_bravais_exact_positions_and_lattice failed. (line 336, /tmp/pip-install-58cw25xt/spglib_6207849ab7c64022b27925c813b8e5ef/src/refinement.c).\n",
      "spglib: ref_get_exact_structure_and_symmetry failed. (line 82, /tmp/pip-install-58cw25xt/spglib_6207849ab7c64022b27925c813b8e5ef/src/determination.c).\n",
      "spglib: ssm_get_exact_positions failed (attempt=0). (line 115, /tmp/pip-install-58cw25xt/spglib_6207849ab7c64022b27925c813b8e5ef/src/site_symmetry.c).\n",
      "spglib: ssm_get_exact_positions failed (attempt=1). (line 115, /tmp/pip-install-58cw25xt/spglib_6207849ab7c64022b27925c813b8e5ef/src/site_symmetry.c).\n",
      "spglib: ssm_get_exact_positions failed (attempt=2). (line 115, /tmp/pip-install-58cw25xt/spglib_6207849ab7c64022b27925c813b8e5ef/src/site_symmetry.c).\n",
      "spglib: ssm_get_exact_positions failed (attempt=3). (line 115, /tmp/pip-install-58cw25xt/spglib_6207849ab7c64022b27925c813b8e5ef/src/site_symmetry.c).\n",
      "spglib: ssm_get_exact_positions failed (attempt=4). (line 115, /tmp/pip-install-58cw25xt/spglib_6207849ab7c64022b27925c813b8e5ef/src/site_symmetry.c).\n",
      "spglib: ssm_get_exact_positions failed. (line 479, /tmp/pip-install-58cw25xt/spglib_6207849ab7c64022b27925c813b8e5ef/src/refinement.c).\n",
      "spglib: get_bravais_exact_positions_and_lattice failed. (line 336, /tmp/pip-install-58cw25xt/spglib_6207849ab7c64022b27925c813b8e5ef/src/refinement.c).\n",
      "spglib: ref_get_exact_structure_and_symmetry failed. (line 82, /tmp/pip-install-58cw25xt/spglib_6207849ab7c64022b27925c813b8e5ef/src/determination.c).\n",
      "spglib: ssm_get_exact_positions failed (attempt=0). (line 115, /tmp/pip-install-58cw25xt/spglib_6207849ab7c64022b27925c813b8e5ef/src/site_symmetry.c).\n",
      "spglib: ssm_get_exact_positions failed (attempt=1). (line 115, /tmp/pip-install-58cw25xt/spglib_6207849ab7c64022b27925c813b8e5ef/src/site_symmetry.c).\n",
      "spglib: ssm_get_exact_positions failed (attempt=2). (line 115, /tmp/pip-install-58cw25xt/spglib_6207849ab7c64022b27925c813b8e5ef/src/site_symmetry.c).\n",
      "spglib: ssm_get_exact_positions failed (attempt=3). (line 115, /tmp/pip-install-58cw25xt/spglib_6207849ab7c64022b27925c813b8e5ef/src/site_symmetry.c).\n",
      "spglib: ssm_get_exact_positions failed (attempt=4). (line 115, /tmp/pip-install-58cw25xt/spglib_6207849ab7c64022b27925c813b8e5ef/src/site_symmetry.c).\n",
      "spglib: ssm_get_exact_positions failed. (line 479, /tmp/pip-install-58cw25xt/spglib_6207849ab7c64022b27925c813b8e5ef/src/refinement.c).\n",
      "spglib: get_bravais_exact_positions_and_lattice failed. (line 336, /tmp/pip-install-58cw25xt/spglib_6207849ab7c64022b27925c813b8e5ef/src/refinement.c).\n",
      "spglib: ref_get_exact_structure_and_symmetry failed. (line 82, /tmp/pip-install-58cw25xt/spglib_6207849ab7c64022b27925c813b8e5ef/src/determination.c).\n",
      "spglib: ssm_get_exact_positions failed (attempt=0). (line 115, /tmp/pip-install-58cw25xt/spglib_6207849ab7c64022b27925c813b8e5ef/src/site_symmetry.c).\n",
      "spglib: ssm_get_exact_positions failed (attempt=1). (line 115, /tmp/pip-install-58cw25xt/spglib_6207849ab7c64022b27925c813b8e5ef/src/site_symmetry.c).\n",
      "spglib: ssm_get_exact_positions failed (attempt=2). (line 115, /tmp/pip-install-58cw25xt/spglib_6207849ab7c64022b27925c813b8e5ef/src/site_symmetry.c).\n",
      "spglib: ssm_get_exact_positions failed (attempt=3). (line 115, /tmp/pip-install-58cw25xt/spglib_6207849ab7c64022b27925c813b8e5ef/src/site_symmetry.c).\n",
      "spglib: ssm_get_exact_positions failed (attempt=4). (line 115, /tmp/pip-install-58cw25xt/spglib_6207849ab7c64022b27925c813b8e5ef/src/site_symmetry.c).\n",
      "spglib: ssm_get_exact_positions failed. (line 479, /tmp/pip-install-58cw25xt/spglib_6207849ab7c64022b27925c813b8e5ef/src/refinement.c).\n",
      "spglib: get_bravais_exact_positions_and_lattice failed. (line 336, /tmp/pip-install-58cw25xt/spglib_6207849ab7c64022b27925c813b8e5ef/src/refinement.c).\n",
      "spglib: ref_get_exact_structure_and_symmetry failed. (line 82, /tmp/pip-install-58cw25xt/spglib_6207849ab7c64022b27925c813b8e5ef/src/determination.c).\n",
      "spglib: ssm_get_exact_positions failed (attempt=0). (line 115, /tmp/pip-install-58cw25xt/spglib_6207849ab7c64022b27925c813b8e5ef/src/site_symmetry.c).\n",
      "spglib: ssm_get_exact_positions failed (attempt=1). (line 115, /tmp/pip-install-58cw25xt/spglib_6207849ab7c64022b27925c813b8e5ef/src/site_symmetry.c).\n",
      "spglib: ssm_get_exact_positions failed (attempt=2). (line 115, /tmp/pip-install-58cw25xt/spglib_6207849ab7c64022b27925c813b8e5ef/src/site_symmetry.c).\n",
      "spglib: ssm_get_exact_positions failed (attempt=3). (line 115, /tmp/pip-install-58cw25xt/spglib_6207849ab7c64022b27925c813b8e5ef/src/site_symmetry.c).\n",
      "spglib: ssm_get_exact_positions failed (attempt=4). (line 115, /tmp/pip-install-58cw25xt/spglib_6207849ab7c64022b27925c813b8e5ef/src/site_symmetry.c).\n",
      "spglib: ssm_get_exact_positions failed. (line 479, /tmp/pip-install-58cw25xt/spglib_6207849ab7c64022b27925c813b8e5ef/src/refinement.c).\n",
      "spglib: get_bravais_exact_positions_and_lattice failed. (line 336, /tmp/pip-install-58cw25xt/spglib_6207849ab7c64022b27925c813b8e5ef/src/refinement.c).\n",
      "spglib: ref_get_exact_structure_and_symmetry failed. (line 82, /tmp/pip-install-58cw25xt/spglib_6207849ab7c64022b27925c813b8e5ef/src/determination.c).\n",
      "spglib: ssm_get_exact_positions failed (attempt=0). (line 115, /tmp/pip-install-58cw25xt/spglib_6207849ab7c64022b27925c813b8e5ef/src/site_symmetry.c).\n",
      "spglib: ssm_get_exact_positions failed (attempt=1). (line 115, /tmp/pip-install-58cw25xt/spglib_6207849ab7c64022b27925c813b8e5ef/src/site_symmetry.c).\n",
      "spglib: ssm_get_exact_positions failed (attempt=2). (line 115, /tmp/pip-install-58cw25xt/spglib_6207849ab7c64022b27925c813b8e5ef/src/site_symmetry.c).\n",
      "spglib: ssm_get_exact_positions failed (attempt=3). (line 115, /tmp/pip-install-58cw25xt/spglib_6207849ab7c64022b27925c813b8e5ef/src/site_symmetry.c).\n",
      "spglib: ssm_get_exact_positions failed (attempt=4). (line 115, /tmp/pip-install-58cw25xt/spglib_6207849ab7c64022b27925c813b8e5ef/src/site_symmetry.c).\n",
      "spglib: ssm_get_exact_positions failed. (line 479, /tmp/pip-install-58cw25xt/spglib_6207849ab7c64022b27925c813b8e5ef/src/refinement.c).\n",
      "spglib: get_bravais_exact_positions_and_lattice failed. (line 336, /tmp/pip-install-58cw25xt/spglib_6207849ab7c64022b27925c813b8e5ef/src/refinement.c).\n",
      "spglib: ref_get_exact_structure_and_symmetry failed. (line 82, /tmp/pip-install-58cw25xt/spglib_6207849ab7c64022b27925c813b8e5ef/src/determination.c).\n",
      "spglib: ssm_get_exact_positions failed (attempt=0). (line 115, /tmp/pip-install-58cw25xt/spglib_6207849ab7c64022b27925c813b8e5ef/src/site_symmetry.c).\n",
      "spglib: ssm_get_exact_positions failed (attempt=1). (line 115, /tmp/pip-install-58cw25xt/spglib_6207849ab7c64022b27925c813b8e5ef/src/site_symmetry.c).\n",
      "spglib: ssm_get_exact_positions failed (attempt=2). (line 115, /tmp/pip-install-58cw25xt/spglib_6207849ab7c64022b27925c813b8e5ef/src/site_symmetry.c).\n",
      "spglib: ssm_get_exact_positions failed (attempt=3). (line 115, /tmp/pip-install-58cw25xt/spglib_6207849ab7c64022b27925c813b8e5ef/src/site_symmetry.c).\n",
      "spglib: ssm_get_exact_positions failed (attempt=4). (line 115, /tmp/pip-install-58cw25xt/spglib_6207849ab7c64022b27925c813b8e5ef/src/site_symmetry.c).\n",
      "spglib: ssm_get_exact_positions failed. (line 479, /tmp/pip-install-58cw25xt/spglib_6207849ab7c64022b27925c813b8e5ef/src/refinement.c).\n",
      "spglib: get_bravais_exact_positions_and_lattice failed. (line 336, /tmp/pip-install-58cw25xt/spglib_6207849ab7c64022b27925c813b8e5ef/src/refinement.c).\n",
      "spglib: ref_get_exact_structure_and_symmetry failed. (line 82, /tmp/pip-install-58cw25xt/spglib_6207849ab7c64022b27925c813b8e5ef/src/determination.c).\n",
      "spglib: ssm_get_exact_positions failed (attempt=0). (line 115, /tmp/pip-install-58cw25xt/spglib_6207849ab7c64022b27925c813b8e5ef/src/site_symmetry.c).\n",
      "spglib: ssm_get_exact_positions failed (attempt=1). (line 115, /tmp/pip-install-58cw25xt/spglib_6207849ab7c64022b27925c813b8e5ef/src/site_symmetry.c).\n",
      "spglib: ssm_get_exact_positions failed (attempt=2). (line 115, /tmp/pip-install-58cw25xt/spglib_6207849ab7c64022b27925c813b8e5ef/src/site_symmetry.c).\n",
      "spglib: ssm_get_exact_positions failed (attempt=3). (line 115, /tmp/pip-install-58cw25xt/spglib_6207849ab7c64022b27925c813b8e5ef/src/site_symmetry.c).\n",
      "spglib: ssm_get_exact_positions failed (attempt=4). (line 115, /tmp/pip-install-58cw25xt/spglib_6207849ab7c64022b27925c813b8e5ef/src/site_symmetry.c).\n",
      "spglib: ssm_get_exact_positions failed. (line 479, /tmp/pip-install-58cw25xt/spglib_6207849ab7c64022b27925c813b8e5ef/src/refinement.c).\n",
      "spglib: get_bravais_exact_positions_and_lattice failed. (line 336, /tmp/pip-install-58cw25xt/spglib_6207849ab7c64022b27925c813b8e5ef/src/refinement.c).\n",
      "spglib: ref_get_exact_structure_and_symmetry failed. (line 82, /tmp/pip-install-58cw25xt/spglib_6207849ab7c64022b27925c813b8e5ef/src/determination.c).\n",
      "spglib: ssm_get_exact_positions failed (attempt=0). (line 115, /tmp/pip-install-58cw25xt/spglib_6207849ab7c64022b27925c813b8e5ef/src/site_symmetry.c).\n",
      "spglib: ssm_get_exact_positions failed (attempt=1). (line 115, /tmp/pip-install-58cw25xt/spglib_6207849ab7c64022b27925c813b8e5ef/src/site_symmetry.c).\n",
      "spglib: ssm_get_exact_positions failed (attempt=2). (line 115, /tmp/pip-install-58cw25xt/spglib_6207849ab7c64022b27925c813b8e5ef/src/site_symmetry.c).\n",
      "spglib: ssm_get_exact_positions failed (attempt=3). (line 115, /tmp/pip-install-58cw25xt/spglib_6207849ab7c64022b27925c813b8e5ef/src/site_symmetry.c).\n",
      "spglib: ssm_get_exact_positions failed (attempt=4). (line 115, /tmp/pip-install-58cw25xt/spglib_6207849ab7c64022b27925c813b8e5ef/src/site_symmetry.c).\n",
      "spglib: ssm_get_exact_positions failed. (line 479, /tmp/pip-install-58cw25xt/spglib_6207849ab7c64022b27925c813b8e5ef/src/refinement.c).\n",
      "spglib: get_bravais_exact_positions_and_lattice failed. (line 336, /tmp/pip-install-58cw25xt/spglib_6207849ab7c64022b27925c813b8e5ef/src/refinement.c).\n",
      "spglib: ref_get_exact_structure_and_symmetry failed. (line 82, /tmp/pip-install-58cw25xt/spglib_6207849ab7c64022b27925c813b8e5ef/src/determination.c).\n",
      "spglib: ssm_get_exact_positions failed (attempt=0). (line 115, /tmp/pip-install-58cw25xt/spglib_6207849ab7c64022b27925c813b8e5ef/src/site_symmetry.c).\n",
      "spglib: ssm_get_exact_positions failed (attempt=1). (line 115, /tmp/pip-install-58cw25xt/spglib_6207849ab7c64022b27925c813b8e5ef/src/site_symmetry.c).\n",
      "spglib: ssm_get_exact_positions failed (attempt=2). (line 115, /tmp/pip-install-58cw25xt/spglib_6207849ab7c64022b27925c813b8e5ef/src/site_symmetry.c).\n",
      "spglib: ssm_get_exact_positions failed (attempt=3). (line 115, /tmp/pip-install-58cw25xt/spglib_6207849ab7c64022b27925c813b8e5ef/src/site_symmetry.c).\n",
      "spglib: ssm_get_exact_positions failed (attempt=4). (line 115, /tmp/pip-install-58cw25xt/spglib_6207849ab7c64022b27925c813b8e5ef/src/site_symmetry.c).\n",
      "spglib: ssm_get_exact_positions failed. (line 479, /tmp/pip-install-58cw25xt/spglib_6207849ab7c64022b27925c813b8e5ef/src/refinement.c).\n",
      "spglib: get_bravais_exact_positions_and_lattice failed. (line 336, /tmp/pip-install-58cw25xt/spglib_6207849ab7c64022b27925c813b8e5ef/src/refinement.c).\n",
      "spglib: ref_get_exact_structure_and_symmetry failed. (line 82, /tmp/pip-install-58cw25xt/spglib_6207849ab7c64022b27925c813b8e5ef/src/determination.c).\n",
      "spglib: ssm_get_exact_positions failed (attempt=0). (line 115, /tmp/pip-install-58cw25xt/spglib_6207849ab7c64022b27925c813b8e5ef/src/site_symmetry.c).\n",
      "spglib: ssm_get_exact_positions failed (attempt=1). (line 115, /tmp/pip-install-58cw25xt/spglib_6207849ab7c64022b27925c813b8e5ef/src/site_symmetry.c).\n",
      "spglib: ssm_get_exact_positions failed (attempt=2). (line 115, /tmp/pip-install-58cw25xt/spglib_6207849ab7c64022b27925c813b8e5ef/src/site_symmetry.c).\n",
      "spglib: ssm_get_exact_positions failed (attempt=3). (line 115, /tmp/pip-install-58cw25xt/spglib_6207849ab7c64022b27925c813b8e5ef/src/site_symmetry.c).\n",
      "spglib: ssm_get_exact_positions failed (attempt=4). (line 115, /tmp/pip-install-58cw25xt/spglib_6207849ab7c64022b27925c813b8e5ef/src/site_symmetry.c).\n",
      "spglib: ssm_get_exact_positions failed. (line 479, /tmp/pip-install-58cw25xt/spglib_6207849ab7c64022b27925c813b8e5ef/src/refinement.c).\n",
      "spglib: get_bravais_exact_positions_and_lattice failed. (line 336, /tmp/pip-install-58cw25xt/spglib_6207849ab7c64022b27925c813b8e5ef/src/refinement.c).\n",
      "spglib: ref_get_exact_structure_and_symmetry failed. (line 82, /tmp/pip-install-58cw25xt/spglib_6207849ab7c64022b27925c813b8e5ef/src/determination.c).\n",
      "spglib: ssm_get_exact_positions failed (attempt=0). (line 115, /tmp/pip-install-58cw25xt/spglib_6207849ab7c64022b27925c813b8e5ef/src/site_symmetry.c).\n",
      "spglib: ssm_get_exact_positions failed (attempt=1). (line 115, /tmp/pip-install-58cw25xt/spglib_6207849ab7c64022b27925c813b8e5ef/src/site_symmetry.c).\n",
      "spglib: ssm_get_exact_positions failed (attempt=2). (line 115, /tmp/pip-install-58cw25xt/spglib_6207849ab7c64022b27925c813b8e5ef/src/site_symmetry.c).\n",
      "spglib: ssm_get_exact_positions failed (attempt=3). (line 115, /tmp/pip-install-58cw25xt/spglib_6207849ab7c64022b27925c813b8e5ef/src/site_symmetry.c).\n",
      "spglib: ssm_get_exact_positions failed (attempt=4). (line 115, /tmp/pip-install-58cw25xt/spglib_6207849ab7c64022b27925c813b8e5ef/src/site_symmetry.c).\n",
      "spglib: ssm_get_exact_positions failed. (line 479, /tmp/pip-install-58cw25xt/spglib_6207849ab7c64022b27925c813b8e5ef/src/refinement.c).\n",
      "spglib: get_bravais_exact_positions_and_lattice failed. (line 336, /tmp/pip-install-58cw25xt/spglib_6207849ab7c64022b27925c813b8e5ef/src/refinement.c).\n",
      "spglib: ref_get_exact_structure_and_symmetry failed. (line 82, /tmp/pip-install-58cw25xt/spglib_6207849ab7c64022b27925c813b8e5ef/src/determination.c).\n",
      "spglib: ssm_get_exact_positions failed (attempt=0). (line 115, /tmp/pip-install-58cw25xt/spglib_6207849ab7c64022b27925c813b8e5ef/src/site_symmetry.c).\n",
      "spglib: ssm_get_exact_positions failed (attempt=1). (line 115, /tmp/pip-install-58cw25xt/spglib_6207849ab7c64022b27925c813b8e5ef/src/site_symmetry.c).\n",
      "spglib: ssm_get_exact_positions failed (attempt=2). (line 115, /tmp/pip-install-58cw25xt/spglib_6207849ab7c64022b27925c813b8e5ef/src/site_symmetry.c).\n",
      "spglib: ssm_get_exact_positions failed (attempt=3). (line 115, /tmp/pip-install-58cw25xt/spglib_6207849ab7c64022b27925c813b8e5ef/src/site_symmetry.c).\n",
      "spglib: ssm_get_exact_positions failed (attempt=4). (line 115, /tmp/pip-install-58cw25xt/spglib_6207849ab7c64022b27925c813b8e5ef/src/site_symmetry.c).\n",
      "spglib: ssm_get_exact_positions failed. (line 479, /tmp/pip-install-58cw25xt/spglib_6207849ab7c64022b27925c813b8e5ef/src/refinement.c).\n",
      "spglib: get_bravais_exact_positions_and_lattice failed. (line 336, /tmp/pip-install-58cw25xt/spglib_6207849ab7c64022b27925c813b8e5ef/src/refinement.c).\n",
      "spglib: ref_get_exact_structure_and_symmetry failed. (line 82, /tmp/pip-install-58cw25xt/spglib_6207849ab7c64022b27925c813b8e5ef/src/determination.c).\n",
      "spglib: ssm_get_exact_positions failed (attempt=0). (line 115, /tmp/pip-install-58cw25xt/spglib_6207849ab7c64022b27925c813b8e5ef/src/site_symmetry.c).\n",
      "spglib: ssm_get_exact_positions failed (attempt=1). (line 115, /tmp/pip-install-58cw25xt/spglib_6207849ab7c64022b27925c813b8e5ef/src/site_symmetry.c).\n",
      "spglib: ssm_get_exact_positions failed (attempt=2). (line 115, /tmp/pip-install-58cw25xt/spglib_6207849ab7c64022b27925c813b8e5ef/src/site_symmetry.c).\n",
      "spglib: ssm_get_exact_positions failed (attempt=3). (line 115, /tmp/pip-install-58cw25xt/spglib_6207849ab7c64022b27925c813b8e5ef/src/site_symmetry.c).\n",
      "spglib: ssm_get_exact_positions failed (attempt=4). (line 115, /tmp/pip-install-58cw25xt/spglib_6207849ab7c64022b27925c813b8e5ef/src/site_symmetry.c).\n",
      "spglib: ssm_get_exact_positions failed. (line 479, /tmp/pip-install-58cw25xt/spglib_6207849ab7c64022b27925c813b8e5ef/src/refinement.c).\n",
      "spglib: get_bravais_exact_positions_and_lattice failed. (line 336, /tmp/pip-install-58cw25xt/spglib_6207849ab7c64022b27925c813b8e5ef/src/refinement.c).\n",
      "spglib: ref_get_exact_structure_and_symmetry failed. (line 82, /tmp/pip-install-58cw25xt/spglib_6207849ab7c64022b27925c813b8e5ef/src/determination.c).\n",
      "spglib: ssm_get_exact_positions failed (attempt=0). (line 115, /tmp/pip-install-58cw25xt/spglib_6207849ab7c64022b27925c813b8e5ef/src/site_symmetry.c).\n",
      "spglib: ssm_get_exact_positions failed (attempt=1). (line 115, /tmp/pip-install-58cw25xt/spglib_6207849ab7c64022b27925c813b8e5ef/src/site_symmetry.c).\n",
      "spglib: ssm_get_exact_positions failed (attempt=2). (line 115, /tmp/pip-install-58cw25xt/spglib_6207849ab7c64022b27925c813b8e5ef/src/site_symmetry.c).\n",
      "spglib: ssm_get_exact_positions failed (attempt=3). (line 115, /tmp/pip-install-58cw25xt/spglib_6207849ab7c64022b27925c813b8e5ef/src/site_symmetry.c).\n",
      "spglib: ssm_get_exact_positions failed (attempt=4). (line 115, /tmp/pip-install-58cw25xt/spglib_6207849ab7c64022b27925c813b8e5ef/src/site_symmetry.c).\n",
      "spglib: ssm_get_exact_positions failed. (line 479, /tmp/pip-install-58cw25xt/spglib_6207849ab7c64022b27925c813b8e5ef/src/refinement.c).\n",
      "spglib: get_bravais_exact_positions_and_lattice failed. (line 336, /tmp/pip-install-58cw25xt/spglib_6207849ab7c64022b27925c813b8e5ef/src/refinement.c).\n",
      "spglib: ref_get_exact_structure_and_symmetry failed. (line 82, /tmp/pip-install-58cw25xt/spglib_6207849ab7c64022b27925c813b8e5ef/src/determination.c).\n",
      "spglib: ssm_get_exact_positions failed (attempt=0). (line 115, /tmp/pip-install-58cw25xt/spglib_6207849ab7c64022b27925c813b8e5ef/src/site_symmetry.c).\n",
      "spglib: ssm_get_exact_positions failed (attempt=1). (line 115, /tmp/pip-install-58cw25xt/spglib_6207849ab7c64022b27925c813b8e5ef/src/site_symmetry.c).\n",
      "spglib: ssm_get_exact_positions failed (attempt=2). (line 115, /tmp/pip-install-58cw25xt/spglib_6207849ab7c64022b27925c813b8e5ef/src/site_symmetry.c).\n",
      "spglib: ssm_get_exact_positions failed (attempt=3). (line 115, /tmp/pip-install-58cw25xt/spglib_6207849ab7c64022b27925c813b8e5ef/src/site_symmetry.c).\n",
      "spglib: ssm_get_exact_positions failed (attempt=4). (line 115, /tmp/pip-install-58cw25xt/spglib_6207849ab7c64022b27925c813b8e5ef/src/site_symmetry.c).\n",
      "spglib: ssm_get_exact_positions failed. (line 479, /tmp/pip-install-58cw25xt/spglib_6207849ab7c64022b27925c813b8e5ef/src/refinement.c).\n",
      "spglib: get_bravais_exact_positions_and_lattice failed. (line 336, /tmp/pip-install-58cw25xt/spglib_6207849ab7c64022b27925c813b8e5ef/src/refinement.c).\n",
      "spglib: ref_get_exact_structure_and_symmetry failed. (line 82, /tmp/pip-install-58cw25xt/spglib_6207849ab7c64022b27925c813b8e5ef/src/determination.c).\n",
      "spglib: ssm_get_exact_positions failed (attempt=0). (line 115, /tmp/pip-install-58cw25xt/spglib_6207849ab7c64022b27925c813b8e5ef/src/site_symmetry.c).\n",
      "spglib: ssm_get_exact_positions failed (attempt=1). (line 115, /tmp/pip-install-58cw25xt/spglib_6207849ab7c64022b27925c813b8e5ef/src/site_symmetry.c).\n",
      "spglib: ssm_get_exact_positions failed (attempt=2). (line 115, /tmp/pip-install-58cw25xt/spglib_6207849ab7c64022b27925c813b8e5ef/src/site_symmetry.c).\n",
      "spglib: ssm_get_exact_positions failed (attempt=3). (line 115, /tmp/pip-install-58cw25xt/spglib_6207849ab7c64022b27925c813b8e5ef/src/site_symmetry.c).\n",
      "spglib: ssm_get_exact_positions failed (attempt=4). (line 115, /tmp/pip-install-58cw25xt/spglib_6207849ab7c64022b27925c813b8e5ef/src/site_symmetry.c).\n",
      "spglib: ssm_get_exact_positions failed. (line 479, /tmp/pip-install-58cw25xt/spglib_6207849ab7c64022b27925c813b8e5ef/src/refinement.c).\n",
      "spglib: get_bravais_exact_positions_and_lattice failed. (line 336, /tmp/pip-install-58cw25xt/spglib_6207849ab7c64022b27925c813b8e5ef/src/refinement.c).\n",
      "spglib: ref_get_exact_structure_and_symmetry failed. (line 82, /tmp/pip-install-58cw25xt/spglib_6207849ab7c64022b27925c813b8e5ef/src/determination.c).\n",
      "spglib: ssm_get_exact_positions failed (attempt=0). (line 115, /tmp/pip-install-58cw25xt/spglib_6207849ab7c64022b27925c813b8e5ef/src/site_symmetry.c).\n",
      "spglib: ssm_get_exact_positions failed (attempt=1). (line 115, /tmp/pip-install-58cw25xt/spglib_6207849ab7c64022b27925c813b8e5ef/src/site_symmetry.c).\n",
      "spglib: ssm_get_exact_positions failed (attempt=2). (line 115, /tmp/pip-install-58cw25xt/spglib_6207849ab7c64022b27925c813b8e5ef/src/site_symmetry.c).\n",
      "spglib: ssm_get_exact_positions failed (attempt=3). (line 115, /tmp/pip-install-58cw25xt/spglib_6207849ab7c64022b27925c813b8e5ef/src/site_symmetry.c).\n",
      "spglib: ssm_get_exact_positions failed (attempt=4). (line 115, /tmp/pip-install-58cw25xt/spglib_6207849ab7c64022b27925c813b8e5ef/src/site_symmetry.c).\n",
      "spglib: ssm_get_exact_positions failed. (line 479, /tmp/pip-install-58cw25xt/spglib_6207849ab7c64022b27925c813b8e5ef/src/refinement.c).\n",
      "spglib: get_bravais_exact_positions_and_lattice failed. (line 336, /tmp/pip-install-58cw25xt/spglib_6207849ab7c64022b27925c813b8e5ef/src/refinement.c).\n",
      "spglib: ref_get_exact_structure_and_symmetry failed. (line 82, /tmp/pip-install-58cw25xt/spglib_6207849ab7c64022b27925c813b8e5ef/src/determination.c).\n",
      "spglib: ssm_get_exact_positions failed (attempt=0). (line 115, /tmp/pip-install-58cw25xt/spglib_6207849ab7c64022b27925c813b8e5ef/src/site_symmetry.c).\n",
      "spglib: ssm_get_exact_positions failed (attempt=1). (line 115, /tmp/pip-install-58cw25xt/spglib_6207849ab7c64022b27925c813b8e5ef/src/site_symmetry.c).\n",
      "spglib: ssm_get_exact_positions failed (attempt=2). (line 115, /tmp/pip-install-58cw25xt/spglib_6207849ab7c64022b27925c813b8e5ef/src/site_symmetry.c).\n",
      "spglib: ssm_get_exact_positions failed (attempt=3). (line 115, /tmp/pip-install-58cw25xt/spglib_6207849ab7c64022b27925c813b8e5ef/src/site_symmetry.c).\n",
      "spglib: ssm_get_exact_positions failed (attempt=4). (line 115, /tmp/pip-install-58cw25xt/spglib_6207849ab7c64022b27925c813b8e5ef/src/site_symmetry.c).\n",
      "spglib: ssm_get_exact_positions failed. (line 479, /tmp/pip-install-58cw25xt/spglib_6207849ab7c64022b27925c813b8e5ef/src/refinement.c).\n",
      "spglib: get_bravais_exact_positions_and_lattice failed. (line 336, /tmp/pip-install-58cw25xt/spglib_6207849ab7c64022b27925c813b8e5ef/src/refinement.c).\n",
      "spglib: ref_get_exact_structure_and_symmetry failed. (line 82, /tmp/pip-install-58cw25xt/spglib_6207849ab7c64022b27925c813b8e5ef/src/determination.c).\n",
      "spglib: ssm_get_exact_positions failed (attempt=0). (line 115, /tmp/pip-install-58cw25xt/spglib_6207849ab7c64022b27925c813b8e5ef/src/site_symmetry.c).\n",
      "spglib: ssm_get_exact_positions failed (attempt=1). (line 115, /tmp/pip-install-58cw25xt/spglib_6207849ab7c64022b27925c813b8e5ef/src/site_symmetry.c).\n",
      "spglib: ssm_get_exact_positions failed (attempt=2). (line 115, /tmp/pip-install-58cw25xt/spglib_6207849ab7c64022b27925c813b8e5ef/src/site_symmetry.c).\n",
      "spglib: ssm_get_exact_positions failed (attempt=3). (line 115, /tmp/pip-install-58cw25xt/spglib_6207849ab7c64022b27925c813b8e5ef/src/site_symmetry.c).\n",
      "spglib: ssm_get_exact_positions failed (attempt=4). (line 115, /tmp/pip-install-58cw25xt/spglib_6207849ab7c64022b27925c813b8e5ef/src/site_symmetry.c).\n",
      "spglib: ssm_get_exact_positions failed. (line 479, /tmp/pip-install-58cw25xt/spglib_6207849ab7c64022b27925c813b8e5ef/src/refinement.c).\n",
      "spglib: get_bravais_exact_positions_and_lattice failed. (line 336, /tmp/pip-install-58cw25xt/spglib_6207849ab7c64022b27925c813b8e5ef/src/refinement.c).\n",
      "spglib: ref_get_exact_structure_and_symmetry failed. (line 82, /tmp/pip-install-58cw25xt/spglib_6207849ab7c64022b27925c813b8e5ef/src/determination.c).\n",
      "spglib: ssm_get_exact_positions failed (attempt=0). (line 115, /tmp/pip-install-58cw25xt/spglib_6207849ab7c64022b27925c813b8e5ef/src/site_symmetry.c).\n",
      "spglib: ssm_get_exact_positions failed (attempt=1). (line 115, /tmp/pip-install-58cw25xt/spglib_6207849ab7c64022b27925c813b8e5ef/src/site_symmetry.c).\n",
      "spglib: ssm_get_exact_positions failed (attempt=2). (line 115, /tmp/pip-install-58cw25xt/spglib_6207849ab7c64022b27925c813b8e5ef/src/site_symmetry.c).\n",
      "spglib: ssm_get_exact_positions failed (attempt=3). (line 115, /tmp/pip-install-58cw25xt/spglib_6207849ab7c64022b27925c813b8e5ef/src/site_symmetry.c).\n",
      "spglib: ssm_get_exact_positions failed (attempt=4). (line 115, /tmp/pip-install-58cw25xt/spglib_6207849ab7c64022b27925c813b8e5ef/src/site_symmetry.c).\n",
      "spglib: ssm_get_exact_positions failed. (line 479, /tmp/pip-install-58cw25xt/spglib_6207849ab7c64022b27925c813b8e5ef/src/refinement.c).\n",
      "spglib: get_bravais_exact_positions_and_lattice failed. (line 336, /tmp/pip-install-58cw25xt/spglib_6207849ab7c64022b27925c813b8e5ef/src/refinement.c).\n",
      "spglib: ref_get_exact_structure_and_symmetry failed. (line 82, /tmp/pip-install-58cw25xt/spglib_6207849ab7c64022b27925c813b8e5ef/src/determination.c).\n",
      "spglib: ssm_get_exact_positions failed (attempt=0). (line 115, /tmp/pip-install-58cw25xt/spglib_6207849ab7c64022b27925c813b8e5ef/src/site_symmetry.c).\n",
      "spglib: ssm_get_exact_positions failed (attempt=1). (line 115, /tmp/pip-install-58cw25xt/spglib_6207849ab7c64022b27925c813b8e5ef/src/site_symmetry.c).\n",
      "spglib: ssm_get_exact_positions failed (attempt=2). (line 115, /tmp/pip-install-58cw25xt/spglib_6207849ab7c64022b27925c813b8e5ef/src/site_symmetry.c).\n",
      "spglib: ssm_get_exact_positions failed (attempt=3). (line 115, /tmp/pip-install-58cw25xt/spglib_6207849ab7c64022b27925c813b8e5ef/src/site_symmetry.c).\n",
      "spglib: ssm_get_exact_positions failed (attempt=4). (line 115, /tmp/pip-install-58cw25xt/spglib_6207849ab7c64022b27925c813b8e5ef/src/site_symmetry.c).\n",
      "spglib: ssm_get_exact_positions failed. (line 479, /tmp/pip-install-58cw25xt/spglib_6207849ab7c64022b27925c813b8e5ef/src/refinement.c).\n",
      "spglib: get_bravais_exact_positions_and_lattice failed. (line 336, /tmp/pip-install-58cw25xt/spglib_6207849ab7c64022b27925c813b8e5ef/src/refinement.c).\n",
      "spglib: ref_get_exact_structure_and_symmetry failed. (line 82, /tmp/pip-install-58cw25xt/spglib_6207849ab7c64022b27925c813b8e5ef/src/determination.c).\n",
      "spglib: ssm_get_exact_positions failed (attempt=0). (line 115, /tmp/pip-install-58cw25xt/spglib_6207849ab7c64022b27925c813b8e5ef/src/site_symmetry.c).\n",
      "spglib: ssm_get_exact_positions failed (attempt=1). (line 115, /tmp/pip-install-58cw25xt/spglib_6207849ab7c64022b27925c813b8e5ef/src/site_symmetry.c).\n",
      "spglib: ssm_get_exact_positions failed (attempt=2). (line 115, /tmp/pip-install-58cw25xt/spglib_6207849ab7c64022b27925c813b8e5ef/src/site_symmetry.c).\n",
      "spglib: ssm_get_exact_positions failed (attempt=3). (line 115, /tmp/pip-install-58cw25xt/spglib_6207849ab7c64022b27925c813b8e5ef/src/site_symmetry.c).\n",
      "spglib: ssm_get_exact_positions failed (attempt=4). (line 115, /tmp/pip-install-58cw25xt/spglib_6207849ab7c64022b27925c813b8e5ef/src/site_symmetry.c).\n",
      "spglib: ssm_get_exact_positions failed. (line 479, /tmp/pip-install-58cw25xt/spglib_6207849ab7c64022b27925c813b8e5ef/src/refinement.c).\n",
      "spglib: get_bravais_exact_positions_and_lattice failed. (line 336, /tmp/pip-install-58cw25xt/spglib_6207849ab7c64022b27925c813b8e5ef/src/refinement.c).\n",
      "spglib: ref_get_exact_structure_and_symmetry failed. (line 82, /tmp/pip-install-58cw25xt/spglib_6207849ab7c64022b27925c813b8e5ef/src/determination.c).\n",
      "spglib: ssm_get_exact_positions failed (attempt=0). (line 115, /tmp/pip-install-58cw25xt/spglib_6207849ab7c64022b27925c813b8e5ef/src/site_symmetry.c).\n",
      "spglib: ssm_get_exact_positions failed (attempt=1). (line 115, /tmp/pip-install-58cw25xt/spglib_6207849ab7c64022b27925c813b8e5ef/src/site_symmetry.c).\n",
      "spglib: ssm_get_exact_positions failed (attempt=2). (line 115, /tmp/pip-install-58cw25xt/spglib_6207849ab7c64022b27925c813b8e5ef/src/site_symmetry.c).\n",
      "spglib: ssm_get_exact_positions failed (attempt=3). (line 115, /tmp/pip-install-58cw25xt/spglib_6207849ab7c64022b27925c813b8e5ef/src/site_symmetry.c).\n",
      "spglib: ssm_get_exact_positions failed (attempt=4). (line 115, /tmp/pip-install-58cw25xt/spglib_6207849ab7c64022b27925c813b8e5ef/src/site_symmetry.c).\n",
      "spglib: ssm_get_exact_positions failed. (line 479, /tmp/pip-install-58cw25xt/spglib_6207849ab7c64022b27925c813b8e5ef/src/refinement.c).\n",
      "spglib: get_bravais_exact_positions_and_lattice failed. (line 336, /tmp/pip-install-58cw25xt/spglib_6207849ab7c64022b27925c813b8e5ef/src/refinement.c).\n",
      "spglib: ref_get_exact_structure_and_symmetry failed. (line 82, /tmp/pip-install-58cw25xt/spglib_6207849ab7c64022b27925c813b8e5ef/src/determination.c).\n",
      "spglib: ssm_get_exact_positions failed (attempt=0). (line 115, /tmp/pip-install-58cw25xt/spglib_6207849ab7c64022b27925c813b8e5ef/src/site_symmetry.c).\n",
      "spglib: ssm_get_exact_positions failed (attempt=1). (line 115, /tmp/pip-install-58cw25xt/spglib_6207849ab7c64022b27925c813b8e5ef/src/site_symmetry.c).\n",
      "spglib: ssm_get_exact_positions failed (attempt=2). (line 115, /tmp/pip-install-58cw25xt/spglib_6207849ab7c64022b27925c813b8e5ef/src/site_symmetry.c).\n",
      "spglib: ssm_get_exact_positions failed (attempt=3). (line 115, /tmp/pip-install-58cw25xt/spglib_6207849ab7c64022b27925c813b8e5ef/src/site_symmetry.c).\n",
      "spglib: ssm_get_exact_positions failed (attempt=4). (line 115, /tmp/pip-install-58cw25xt/spglib_6207849ab7c64022b27925c813b8e5ef/src/site_symmetry.c).\n",
      "spglib: ssm_get_exact_positions failed. (line 479, /tmp/pip-install-58cw25xt/spglib_6207849ab7c64022b27925c813b8e5ef/src/refinement.c).\n",
      "spglib: get_bravais_exact_positions_and_lattice failed. (line 336, /tmp/pip-install-58cw25xt/spglib_6207849ab7c64022b27925c813b8e5ef/src/refinement.c).\n",
      "spglib: ref_get_exact_structure_and_symmetry failed. (line 82, /tmp/pip-install-58cw25xt/spglib_6207849ab7c64022b27925c813b8e5ef/src/determination.c).\n",
      "spglib: ssm_get_exact_positions failed (attempt=0). (line 115, /tmp/pip-install-58cw25xt/spglib_6207849ab7c64022b27925c813b8e5ef/src/site_symmetry.c).\n",
      "spglib: ssm_get_exact_positions failed (attempt=1). (line 115, /tmp/pip-install-58cw25xt/spglib_6207849ab7c64022b27925c813b8e5ef/src/site_symmetry.c).\n",
      "spglib: ssm_get_exact_positions failed (attempt=2). (line 115, /tmp/pip-install-58cw25xt/spglib_6207849ab7c64022b27925c813b8e5ef/src/site_symmetry.c).\n",
      "spglib: ssm_get_exact_positions failed (attempt=3). (line 115, /tmp/pip-install-58cw25xt/spglib_6207849ab7c64022b27925c813b8e5ef/src/site_symmetry.c).\n",
      "spglib: ssm_get_exact_positions failed (attempt=4). (line 115, /tmp/pip-install-58cw25xt/spglib_6207849ab7c64022b27925c813b8e5ef/src/site_symmetry.c).\n",
      "spglib: ssm_get_exact_positions failed. (line 479, /tmp/pip-install-58cw25xt/spglib_6207849ab7c64022b27925c813b8e5ef/src/refinement.c).\n",
      "spglib: get_bravais_exact_positions_and_lattice failed. (line 336, /tmp/pip-install-58cw25xt/spglib_6207849ab7c64022b27925c813b8e5ef/src/refinement.c).\n",
      "spglib: ref_get_exact_structure_and_symmetry failed. (line 82, /tmp/pip-install-58cw25xt/spglib_6207849ab7c64022b27925c813b8e5ef/src/determination.c).\n",
      "spglib: ssm_get_exact_positions failed (attempt=0). (line 115, /tmp/pip-install-58cw25xt/spglib_6207849ab7c64022b27925c813b8e5ef/src/site_symmetry.c).\n",
      "spglib: ssm_get_exact_positions failed (attempt=1). (line 115, /tmp/pip-install-58cw25xt/spglib_6207849ab7c64022b27925c813b8e5ef/src/site_symmetry.c).\n",
      "spglib: ssm_get_exact_positions failed (attempt=2). (line 115, /tmp/pip-install-58cw25xt/spglib_6207849ab7c64022b27925c813b8e5ef/src/site_symmetry.c).\n",
      "spglib: ssm_get_exact_positions failed (attempt=3). (line 115, /tmp/pip-install-58cw25xt/spglib_6207849ab7c64022b27925c813b8e5ef/src/site_symmetry.c).\n",
      "spglib: ssm_get_exact_positions failed (attempt=4). (line 115, /tmp/pip-install-58cw25xt/spglib_6207849ab7c64022b27925c813b8e5ef/src/site_symmetry.c).\n",
      "spglib: ssm_get_exact_positions failed. (line 479, /tmp/pip-install-58cw25xt/spglib_6207849ab7c64022b27925c813b8e5ef/src/refinement.c).\n",
      "spglib: get_bravais_exact_positions_and_lattice failed. (line 336, /tmp/pip-install-58cw25xt/spglib_6207849ab7c64022b27925c813b8e5ef/src/refinement.c).\n",
      "spglib: ref_get_exact_structure_and_symmetry failed. (line 82, /tmp/pip-install-58cw25xt/spglib_6207849ab7c64022b27925c813b8e5ef/src/determination.c).\n",
      "spglib: ssm_get_exact_positions failed (attempt=0). (line 115, /tmp/pip-install-58cw25xt/spglib_6207849ab7c64022b27925c813b8e5ef/src/site_symmetry.c).\n",
      "spglib: ssm_get_exact_positions failed (attempt=1). (line 115, /tmp/pip-install-58cw25xt/spglib_6207849ab7c64022b27925c813b8e5ef/src/site_symmetry.c).\n",
      "spglib: ssm_get_exact_positions failed (attempt=2). (line 115, /tmp/pip-install-58cw25xt/spglib_6207849ab7c64022b27925c813b8e5ef/src/site_symmetry.c).\n",
      "spglib: ssm_get_exact_positions failed (attempt=3). (line 115, /tmp/pip-install-58cw25xt/spglib_6207849ab7c64022b27925c813b8e5ef/src/site_symmetry.c).\n",
      "spglib: ssm_get_exact_positions failed (attempt=4). (line 115, /tmp/pip-install-58cw25xt/spglib_6207849ab7c64022b27925c813b8e5ef/src/site_symmetry.c).\n",
      "spglib: ssm_get_exact_positions failed. (line 479, /tmp/pip-install-58cw25xt/spglib_6207849ab7c64022b27925c813b8e5ef/src/refinement.c).\n",
      "spglib: get_bravais_exact_positions_and_lattice failed. (line 336, /tmp/pip-install-58cw25xt/spglib_6207849ab7c64022b27925c813b8e5ef/src/refinement.c).\n",
      "spglib: ref_get_exact_structure_and_symmetry failed. (line 82, /tmp/pip-install-58cw25xt/spglib_6207849ab7c64022b27925c813b8e5ef/src/determination.c).\n",
      "spglib: ssm_get_exact_positions failed (attempt=0). (line 115, /tmp/pip-install-58cw25xt/spglib_6207849ab7c64022b27925c813b8e5ef/src/site_symmetry.c).\n",
      "spglib: ssm_get_exact_positions failed (attempt=1). (line 115, /tmp/pip-install-58cw25xt/spglib_6207849ab7c64022b27925c813b8e5ef/src/site_symmetry.c).\n",
      "spglib: ssm_get_exact_positions failed (attempt=2). (line 115, /tmp/pip-install-58cw25xt/spglib_6207849ab7c64022b27925c813b8e5ef/src/site_symmetry.c).\n",
      "spglib: ssm_get_exact_positions failed (attempt=3). (line 115, /tmp/pip-install-58cw25xt/spglib_6207849ab7c64022b27925c813b8e5ef/src/site_symmetry.c).\n",
      "spglib: ssm_get_exact_positions failed (attempt=4). (line 115, /tmp/pip-install-58cw25xt/spglib_6207849ab7c64022b27925c813b8e5ef/src/site_symmetry.c).\n",
      "spglib: ssm_get_exact_positions failed. (line 479, /tmp/pip-install-58cw25xt/spglib_6207849ab7c64022b27925c813b8e5ef/src/refinement.c).\n",
      "spglib: get_bravais_exact_positions_and_lattice failed. (line 336, /tmp/pip-install-58cw25xt/spglib_6207849ab7c64022b27925c813b8e5ef/src/refinement.c).\n",
      "spglib: ref_get_exact_structure_and_symmetry failed. (line 82, /tmp/pip-install-58cw25xt/spglib_6207849ab7c64022b27925c813b8e5ef/src/determination.c).\n",
      "spglib: ssm_get_exact_positions failed (attempt=0). (line 115, /tmp/pip-install-58cw25xt/spglib_6207849ab7c64022b27925c813b8e5ef/src/site_symmetry.c).\n",
      "spglib: ssm_get_exact_positions failed (attempt=1). (line 115, /tmp/pip-install-58cw25xt/spglib_6207849ab7c64022b27925c813b8e5ef/src/site_symmetry.c).\n",
      "spglib: ssm_get_exact_positions failed (attempt=2). (line 115, /tmp/pip-install-58cw25xt/spglib_6207849ab7c64022b27925c813b8e5ef/src/site_symmetry.c).\n",
      "spglib: ssm_get_exact_positions failed (attempt=3). (line 115, /tmp/pip-install-58cw25xt/spglib_6207849ab7c64022b27925c813b8e5ef/src/site_symmetry.c).\n",
      "spglib: ssm_get_exact_positions failed (attempt=4). (line 115, /tmp/pip-install-58cw25xt/spglib_6207849ab7c64022b27925c813b8e5ef/src/site_symmetry.c).\n",
      "spglib: ssm_get_exact_positions failed. (line 479, /tmp/pip-install-58cw25xt/spglib_6207849ab7c64022b27925c813b8e5ef/src/refinement.c).\n",
      "spglib: get_bravais_exact_positions_and_lattice failed. (line 336, /tmp/pip-install-58cw25xt/spglib_6207849ab7c64022b27925c813b8e5ef/src/refinement.c).\n",
      "spglib: ref_get_exact_structure_and_symmetry failed. (line 82, /tmp/pip-install-58cw25xt/spglib_6207849ab7c64022b27925c813b8e5ef/src/determination.c).\n",
      "spglib: ssm_get_exact_positions failed (attempt=0). (line 115, /tmp/pip-install-58cw25xt/spglib_6207849ab7c64022b27925c813b8e5ef/src/site_symmetry.c).\n",
      "spglib: ssm_get_exact_positions failed (attempt=1). (line 115, /tmp/pip-install-58cw25xt/spglib_6207849ab7c64022b27925c813b8e5ef/src/site_symmetry.c).\n",
      "spglib: ssm_get_exact_positions failed (attempt=2). (line 115, /tmp/pip-install-58cw25xt/spglib_6207849ab7c64022b27925c813b8e5ef/src/site_symmetry.c).\n",
      "spglib: ssm_get_exact_positions failed (attempt=3). (line 115, /tmp/pip-install-58cw25xt/spglib_6207849ab7c64022b27925c813b8e5ef/src/site_symmetry.c).\n",
      "spglib: ssm_get_exact_positions failed (attempt=4). (line 115, /tmp/pip-install-58cw25xt/spglib_6207849ab7c64022b27925c813b8e5ef/src/site_symmetry.c).\n",
      "spglib: ssm_get_exact_positions failed. (line 479, /tmp/pip-install-58cw25xt/spglib_6207849ab7c64022b27925c813b8e5ef/src/refinement.c).\n",
      "spglib: get_bravais_exact_positions_and_lattice failed. (line 336, /tmp/pip-install-58cw25xt/spglib_6207849ab7c64022b27925c813b8e5ef/src/refinement.c).\n",
      "spglib: ref_get_exact_structure_and_symmetry failed. (line 82, /tmp/pip-install-58cw25xt/spglib_6207849ab7c64022b27925c813b8e5ef/src/determination.c).\n",
      "spglib: ssm_get_exact_positions failed (attempt=0). (line 115, /tmp/pip-install-58cw25xt/spglib_6207849ab7c64022b27925c813b8e5ef/src/site_symmetry.c).\n",
      "spglib: ssm_get_exact_positions failed (attempt=1). (line 115, /tmp/pip-install-58cw25xt/spglib_6207849ab7c64022b27925c813b8e5ef/src/site_symmetry.c).\n",
      "spglib: ssm_get_exact_positions failed (attempt=2). (line 115, /tmp/pip-install-58cw25xt/spglib_6207849ab7c64022b27925c813b8e5ef/src/site_symmetry.c).\n",
      "spglib: ssm_get_exact_positions failed (attempt=3). (line 115, /tmp/pip-install-58cw25xt/spglib_6207849ab7c64022b27925c813b8e5ef/src/site_symmetry.c).\n",
      "spglib: ssm_get_exact_positions failed (attempt=4). (line 115, /tmp/pip-install-58cw25xt/spglib_6207849ab7c64022b27925c813b8e5ef/src/site_symmetry.c).\n",
      "spglib: ssm_get_exact_positions failed. (line 479, /tmp/pip-install-58cw25xt/spglib_6207849ab7c64022b27925c813b8e5ef/src/refinement.c).\n",
      "spglib: get_bravais_exact_positions_and_lattice failed. (line 336, /tmp/pip-install-58cw25xt/spglib_6207849ab7c64022b27925c813b8e5ef/src/refinement.c).\n",
      "spglib: ref_get_exact_structure_and_symmetry failed. (line 82, /tmp/pip-install-58cw25xt/spglib_6207849ab7c64022b27925c813b8e5ef/src/determination.c).\n",
      "spglib: ssm_get_exact_positions failed (attempt=0). (line 115, /tmp/pip-install-58cw25xt/spglib_6207849ab7c64022b27925c813b8e5ef/src/site_symmetry.c).\n",
      "spglib: ssm_get_exact_positions failed (attempt=1). (line 115, /tmp/pip-install-58cw25xt/spglib_6207849ab7c64022b27925c813b8e5ef/src/site_symmetry.c).\n",
      "spglib: ssm_get_exact_positions failed (attempt=2). (line 115, /tmp/pip-install-58cw25xt/spglib_6207849ab7c64022b27925c813b8e5ef/src/site_symmetry.c).\n",
      "spglib: ssm_get_exact_positions failed (attempt=3). (line 115, /tmp/pip-install-58cw25xt/spglib_6207849ab7c64022b27925c813b8e5ef/src/site_symmetry.c).\n",
      "spglib: ssm_get_exact_positions failed (attempt=4). (line 115, /tmp/pip-install-58cw25xt/spglib_6207849ab7c64022b27925c813b8e5ef/src/site_symmetry.c).\n",
      "spglib: ssm_get_exact_positions failed. (line 479, /tmp/pip-install-58cw25xt/spglib_6207849ab7c64022b27925c813b8e5ef/src/refinement.c).\n",
      "spglib: get_bravais_exact_positions_and_lattice failed. (line 336, /tmp/pip-install-58cw25xt/spglib_6207849ab7c64022b27925c813b8e5ef/src/refinement.c).\n",
      "spglib: ref_get_exact_structure_and_symmetry failed. (line 82, /tmp/pip-install-58cw25xt/spglib_6207849ab7c64022b27925c813b8e5ef/src/determination.c).\n",
      "spglib: ssm_get_exact_positions failed (attempt=0). (line 115, /tmp/pip-install-58cw25xt/spglib_6207849ab7c64022b27925c813b8e5ef/src/site_symmetry.c).\n",
      "spglib: ssm_get_exact_positions failed (attempt=1). (line 115, /tmp/pip-install-58cw25xt/spglib_6207849ab7c64022b27925c813b8e5ef/src/site_symmetry.c).\n",
      "spglib: ssm_get_exact_positions failed (attempt=2). (line 115, /tmp/pip-install-58cw25xt/spglib_6207849ab7c64022b27925c813b8e5ef/src/site_symmetry.c).\n",
      "spglib: ssm_get_exact_positions failed (attempt=3). (line 115, /tmp/pip-install-58cw25xt/spglib_6207849ab7c64022b27925c813b8e5ef/src/site_symmetry.c).\n",
      "spglib: ssm_get_exact_positions failed (attempt=4). (line 115, /tmp/pip-install-58cw25xt/spglib_6207849ab7c64022b27925c813b8e5ef/src/site_symmetry.c).\n",
      "spglib: ssm_get_exact_positions failed. (line 479, /tmp/pip-install-58cw25xt/spglib_6207849ab7c64022b27925c813b8e5ef/src/refinement.c).\n",
      "spglib: get_bravais_exact_positions_and_lattice failed. (line 336, /tmp/pip-install-58cw25xt/spglib_6207849ab7c64022b27925c813b8e5ef/src/refinement.c).\n",
      "spglib: ref_get_exact_structure_and_symmetry failed. (line 82, /tmp/pip-install-58cw25xt/spglib_6207849ab7c64022b27925c813b8e5ef/src/determination.c).\n"
     ]
    },
    {
     "name": "stdout",
     "output_type": "stream",
     "text": [
      "Percent complete: 92.38%\n"
     ]
    },
    {
     "data": {
      "application/vnd.jupyter.widget-view+json": {
       "model_id": "427b5d7051c84eebac2a9b3ee7ec9b03",
       "version_major": 2,
       "version_minor": 0
      },
      "text/plain": [
       "Retrieving ThermoDoc documents:   0%|          | 0/1857 [00:00<?, ?it/s]"
      ]
     },
     "metadata": {},
     "output_type": "display_data"
    },
    {
     "name": "stdout",
     "output_type": "stream",
     "text": [
      "Percent complete: 93.33%\n"
     ]
    },
    {
     "data": {
      "application/vnd.jupyter.widget-view+json": {
       "model_id": "c7b970b2e3de4b149fab8a1e38797630",
       "version_major": 2,
       "version_minor": 0
      },
      "text/plain": [
       "Retrieving ThermoDoc documents:   0%|          | 0/377 [00:00<?, ?it/s]"
      ]
     },
     "metadata": {},
     "output_type": "display_data"
    },
    {
     "name": "stdout",
     "output_type": "stream",
     "text": [
      "Percent complete: 94.29%\n"
     ]
    },
    {
     "data": {
      "application/vnd.jupyter.widget-view+json": {
       "model_id": "e0bd4ee13bba4a3cb860eb732aff74f3",
       "version_major": 2,
       "version_minor": 0
      },
      "text/plain": [
       "Retrieving ThermoDoc documents:   0%|          | 0/1064 [00:00<?, ?it/s]"
      ]
     },
     "metadata": {},
     "output_type": "display_data"
    },
    {
     "name": "stdout",
     "output_type": "stream",
     "text": [
      "Percent complete: 95.24%\n"
     ]
    },
    {
     "data": {
      "application/vnd.jupyter.widget-view+json": {
       "model_id": "986095b19b7945a4b175e9396a60eff8",
       "version_major": 2,
       "version_minor": 0
      },
      "text/plain": [
       "Retrieving ThermoDoc documents:   0%|          | 0/967 [00:00<?, ?it/s]"
      ]
     },
     "metadata": {},
     "output_type": "display_data"
    },
    {
     "name": "stdout",
     "output_type": "stream",
     "text": [
      "Percent complete: 96.19%\n"
     ]
    },
    {
     "data": {
      "application/vnd.jupyter.widget-view+json": {
       "model_id": "ecd561dceafc4015bea93dbb07c7bfee",
       "version_major": 2,
       "version_minor": 0
      },
      "text/plain": [
       "Retrieving ThermoDoc documents:   0%|          | 0/213 [00:00<?, ?it/s]"
      ]
     },
     "metadata": {},
     "output_type": "display_data"
    },
    {
     "name": "stdout",
     "output_type": "stream",
     "text": [
      "Percent complete: 97.14%\n"
     ]
    },
    {
     "data": {
      "application/vnd.jupyter.widget-view+json": {
       "model_id": "82a4e87ec0384121a50c6fc91703e2d8",
       "version_major": 2,
       "version_minor": 0
      },
      "text/plain": [
       "Retrieving ThermoDoc documents:   0%|          | 0/377 [00:00<?, ?it/s]"
      ]
     },
     "metadata": {},
     "output_type": "display_data"
    },
    {
     "name": "stdout",
     "output_type": "stream",
     "text": [
      "Percent complete: 98.10%\n"
     ]
    },
    {
     "data": {
      "application/vnd.jupyter.widget-view+json": {
       "model_id": "88d486307a0149a8aa6b5073e232fb81",
       "version_major": 2,
       "version_minor": 0
      },
      "text/plain": [
       "Retrieving ThermoDoc documents:   0%|          | 0/967 [00:00<?, ?it/s]"
      ]
     },
     "metadata": {},
     "output_type": "display_data"
    },
    {
     "name": "stdout",
     "output_type": "stream",
     "text": [
      "Percent complete: 99.05%\n"
     ]
    },
    {
     "data": {
      "application/vnd.jupyter.widget-view+json": {
       "model_id": "637c30a60a7d4f6487a85ee32e6586bf",
       "version_major": 2,
       "version_minor": 0
      },
      "text/plain": [
       "Retrieving ThermoDoc documents:   0%|          | 0/967 [00:00<?, ?it/s]"
      ]
     },
     "metadata": {},
     "output_type": "display_data"
    },
    {
     "name": "stdout",
     "output_type": "stream",
     "text": [
      "Percent complete: 100.00%\n"
     ]
    }
   ],
   "source": [
    "pbx_data = []\n",
    "pbx_entries = []\n",
    "\n",
    "total_iterations = len(chemsys_list)  \n",
    "\n",
    "with MPRester(API_KEY) as mpr:\n",
    "    for index, (i, x) in enumerate(zip(chemsys_list, percent_compositions)):\n",
    "        try:\n",
    "            pourbaix_entries = mpr.get_pourbaix_entries(i)\n",
    "            pbx_entries.append(pourbaix_entries)\n",
    "            pbx_diagram = PourbaixDiagram(entries=pourbaix_entries, comp_dict=x)\n",
    "            pbx_data.append(pbx_diagram)\n",
    "        except Exception as e:\n",
    "            pbx_data.append('error')\n",
    "        \n",
    "        percent_complete = ((index + 1) / total_iterations) * 100\n",
    "        print(f'Percent complete: {percent_complete:.2f}%')\n"
   ]
  },
  {
   "cell_type": "markdown",
   "metadata": {},
   "source": [
    "the pourbaix entry responds with all viable pourbaix diagrams for a chemsys list, the following code searches through the list to get the correct diagram for the material of interest. "
   ]
  },
  {
   "cell_type": "code",
   "execution_count": 7,
   "metadata": {},
   "outputs": [],
   "source": [
    "matched_entries = []\n",
    "\n",
    "for mat_id, entries in zip(materials_gga, pbx_entries):\n",
    "    matched_entry = next((entry for entry in entries if entry.entry_id == mat_id), None)\n",
    "    \n",
    "    if matched_entry:\n",
    "        matched_entries.append(matched_entry)\n",
    "    else:\n",
    "        matched_entries.append(None)"
   ]
  },
  {
   "cell_type": "markdown",
   "metadata": {},
   "source": [
    "the stability data is then calculated at ph7 and 0V using the entry names and pbx_data"
   ]
  },
  {
   "cell_type": "code",
   "execution_count": 8,
   "metadata": {},
   "outputs": [
    {
     "name": "stdout",
     "output_type": "stream",
     "text": [
      "[0.5491808963884206, 0.42543007713483494, 0.9615071603069456, 'error', 1.4490996629451809, 'error', 1.0603941536346557, 1.3578262187495302, 'error', 0.9107493605782552, 0.9466168035516809, 1.5815281002310666, 1.3509582745553834, 'error', 'error', 'error', 0.7180260222751373, 0.9067619038298876, 1.3362281685921218, 0.7651058354690283, 0.25792538601728543, 'error', 'error', 'error', 'error', 0.948417299305657, 0.7848489643785634, 0.8826663639401492, 1.0217634596047362, 1.0345589531329014, 1.5313921582013004, 'error', 1.1616193255467118, 'error', 0.8623835672815053, 'error', 0.7558275780707278, 'error', 'error', 1.5451010279265625, 1.8619025604332542, 2.622185165952526, 0.795519475051147, 0.07944177418243206, 0.8810600308151457, 'error', 0.6908198947742511, 0.42558883681275805, 0.546332571355435, 0.8787412109220026, 'error', 0.8606883090294533, 1.1699781783506182, 0.6889458847483203, 'error', 'error', 'error', 0.6096687028844623, 0.8146456006523461, 0.7619169356523461, 0.16676177491096444, 0.9885703376073365, 0.6198341282337874, 0.3945566421033142, 0.7675207971951985, 0.9092290854677165, 0.9591020073670311, 0.9095046978044012, 0.7725527426135093, 'error', 0.8784753592080039, 0.3541242360551708, 'error', 'error', 0.38043284243209996, 0.9677609545373573, 'error', 0.1943891176753084, 'error', 'error', 'error', 'error', 0.9574547116904829, 'error', 'error', 'error', 'error', 'error', 'error', 'error', 1.5376442538262998, 1.3710582418173556, 1.0416269891610868, 0.8371030795268858, 0.591845890517804, 'error', 0.26857125753360533, 'error', 'error', 'error', 'error', 'error', 'error', 'error', 'error']\n"
     ]
    }
   ],
   "source": [
    "stabilities = []\n",
    "\n",
    "for i, x in zip(pbx_data, matched_entries):\n",
    "    try:\n",
    "        stability = i.get_decomposition_energy(x, 7, 0)\n",
    "        stabilities.append(stability)\n",
    "    except Exception as e:\n",
    "        stabilities.append(\"error\") \n",
    "\n",
    "\n",
    "print(stabilities)\n"
   ]
  },
  {
   "cell_type": "code",
   "execution_count": 9,
   "metadata": {},
   "outputs": [],
   "source": [
    "combined_list = list(zip(materials_id, stabilities))\n",
    "data_without_error = [item for item in combined_list if item[1] != 'error']\n",
    "filtered_data = [item for item in data_without_error if float(item[1]) <= 0.5]\n",
    "mp_identifiers = [item[0] for item in filtered_data]"
   ]
  },
  {
   "cell_type": "code",
   "execution_count": 10,
   "metadata": {},
   "outputs": [
    {
     "name": "stdout",
     "output_type": "stream",
     "text": [
      "total materials: 105\n",
      "materials without error: 61\n",
      "stable materials: 10\n"
     ]
    }
   ],
   "source": [
    "print(\"total materials:\",len(shorten_materials))\n",
    "print(\"materials without error:\",len(data_without_error))\n",
    "print(\"stable materials:\",len(filtered_data))\n"
   ]
  },
  {
   "cell_type": "code",
   "execution_count": 11,
   "metadata": {},
   "outputs": [
    {
     "name": "stdout",
     "output_type": "stream",
     "text": [
      "['mp-3414', 'mp-542001', 'mp-29193', 'mp-28845', 'mp-561423', 'mp-14276', 'mp-29590', 'mp-556442', 'mp-27980', 'mp-768936']\n"
     ]
    }
   ],
   "source": [
    "print(mp_identifiers)"
   ]
  }
 ],
 "metadata": {
  "kernelspec": {
   "display_name": "base",
   "language": "python",
   "name": "python3"
  },
  "language_info": {
   "codemirror_mode": {
    "name": "ipython",
    "version": 3
   },
   "file_extension": ".py",
   "mimetype": "text/x-python",
   "name": "python",
   "nbconvert_exporter": "python",
   "pygments_lexer": "ipython3",
   "version": "3.11.5"
  },
  "orig_nbformat": 4
 },
 "nbformat": 4,
 "nbformat_minor": 2
}
