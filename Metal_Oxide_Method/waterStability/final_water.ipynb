{
 "cells": [
  {
   "cell_type": "code",
   "execution_count": 18,
   "metadata": {},
   "outputs": [],
   "source": [
    "from mp_api.client import MPRester\n",
    "from pymatgen.analysis.pourbaix_diagram import PourbaixDiagram, PourbaixPlotter, PourbaixEntry\n",
    "\n",
    "from api_key import APIKEY\n",
    "\n",
    "API_KEY = APIKEY"
   ]
  },
  {
   "cell_type": "code",
   "execution_count": 50,
   "metadata": {},
   "outputs": [
    {
     "name": "stdout",
     "output_type": "stream",
     "text": [
      "13\n"
     ]
    }
   ],
   "source": [
    "import pandas as pd\n",
    "\n",
    "df = pd.read_csv('/Users/moinkhwaja/Documents/GitHub/Heterojunction-Metal-Organic-Framework-Photocataysts/Metal_Oxide_Method/HSE_database_method/HCOOH_pass.csv')\n",
    "mpid = df['MPID'].tolist()\n",
    "print(len(mpid))\n"
   ]
  },
  {
   "cell_type": "code",
   "execution_count": 51,
   "metadata": {},
   "outputs": [],
   "source": [
    "CO = ['mp-3414', 'mp-542001', 'mp-28845', 'mp-561423', 'mp-14276', 'mp-29590', 'mp-556442', 'mp-27980']\n",
    "CH4 = ['mp-680722', 'mp-31107', 'mp-1095378', 'mp-23569', 'mp-30003', 'mp-1190864', 'mp-23084', 'mp-15511', 'mp-7128', 'mp-28855', 'mp-561561', 'mp-1079364', 'mp-542115', 'mp-31232', 'mp-755116', 'mp-1091363', 'mp-558910', 'mp-14037', 'mp-29698', 'mp-1095283', 'mp-20805', 'mp-1113861', 'mp-16834', 'mp-778924', 'mp-556120', 'mp-20727', 'mp-14368', 'mp-1819', 'mp-22467', 'mp-753747', 'mp-15750', 'mp-554435', 'mp-1105700', 'mp-1217378', 'mp-680219', 'mp-17637', 'mp-759342', 'mp-23446', 'mp-779156', 'mp-17677', 'mp-685353', 'mp-230', 'mp-31069', 'mp-1111368', 'mp-759307', 'mp-624234', 'mp-10798', 'mp-760188', 'mp-7094']\n",
    "CHOOH = ['mp-20015', 'mp-14367', 'mp-541114', 'mp-28299', 'mp-562338', 'mp-554944', 'mp-768936', 'mp-29193']\n"
   ]
  },
  {
   "cell_type": "code",
   "execution_count": 52,
   "metadata": {},
   "outputs": [
    {
     "data": {
      "application/vnd.jupyter.widget-view+json": {
       "model_id": "b2e90ba12f8f49fca1814523535a09f8",
       "version_major": 2,
       "version_minor": 0
      },
      "text/plain": [
       "Retrieving MaterialsDoc documents:   0%|          | 0/1 [00:00<?, ?it/s]"
      ]
     },
     "metadata": {},
     "output_type": "display_data"
    },
    {
     "data": {
      "application/vnd.jupyter.widget-view+json": {
       "model_id": "10076ccbdbb54ba3bfb1e7749cffeafe",
       "version_major": 2,
       "version_minor": 0
      },
      "text/plain": [
       "Retrieving MaterialsDoc documents:   0%|          | 0/1 [00:00<?, ?it/s]"
      ]
     },
     "metadata": {},
     "output_type": "display_data"
    },
    {
     "data": {
      "application/vnd.jupyter.widget-view+json": {
       "model_id": "b364a1929bec44d38772ee0105c7143b",
       "version_major": 2,
       "version_minor": 0
      },
      "text/plain": [
       "Retrieving MaterialsDoc documents:   0%|          | 0/1 [00:00<?, ?it/s]"
      ]
     },
     "metadata": {},
     "output_type": "display_data"
    },
    {
     "data": {
      "application/vnd.jupyter.widget-view+json": {
       "model_id": "3789f8e34bb74861b69f8fcd18048ccf",
       "version_major": 2,
       "version_minor": 0
      },
      "text/plain": [
       "Retrieving MaterialsDoc documents:   0%|          | 0/1 [00:00<?, ?it/s]"
      ]
     },
     "metadata": {},
     "output_type": "display_data"
    },
    {
     "data": {
      "application/vnd.jupyter.widget-view+json": {
       "model_id": "c1ab75fcc6c949af854824dca09d8022",
       "version_major": 2,
       "version_minor": 0
      },
      "text/plain": [
       "Retrieving MaterialsDoc documents:   0%|          | 0/1 [00:00<?, ?it/s]"
      ]
     },
     "metadata": {},
     "output_type": "display_data"
    },
    {
     "data": {
      "application/vnd.jupyter.widget-view+json": {
       "model_id": "6441296178f842b092e40c09ad883ee5",
       "version_major": 2,
       "version_minor": 0
      },
      "text/plain": [
       "Retrieving MaterialsDoc documents:   0%|          | 0/1 [00:00<?, ?it/s]"
      ]
     },
     "metadata": {},
     "output_type": "display_data"
    },
    {
     "data": {
      "application/vnd.jupyter.widget-view+json": {
       "model_id": "d4e746b4097041f5a33e2f05aedcfd8b",
       "version_major": 2,
       "version_minor": 0
      },
      "text/plain": [
       "Retrieving MaterialsDoc documents:   0%|          | 0/1 [00:00<?, ?it/s]"
      ]
     },
     "metadata": {},
     "output_type": "display_data"
    },
    {
     "data": {
      "application/vnd.jupyter.widget-view+json": {
       "model_id": "07ef9b01826848b88743a731cc524818",
       "version_major": 2,
       "version_minor": 0
      },
      "text/plain": [
       "Retrieving MaterialsDoc documents:   0%|          | 0/1 [00:00<?, ?it/s]"
      ]
     },
     "metadata": {},
     "output_type": "display_data"
    },
    {
     "data": {
      "application/vnd.jupyter.widget-view+json": {
       "model_id": "e831b115ecc640bb9ddd15850a6f083a",
       "version_major": 2,
       "version_minor": 0
      },
      "text/plain": [
       "Retrieving MaterialsDoc documents:   0%|          | 0/1 [00:00<?, ?it/s]"
      ]
     },
     "metadata": {},
     "output_type": "display_data"
    },
    {
     "data": {
      "application/vnd.jupyter.widget-view+json": {
       "model_id": "26e7d75e57074905aa7d1767525e7367",
       "version_major": 2,
       "version_minor": 0
      },
      "text/plain": [
       "Retrieving MaterialsDoc documents:   0%|          | 0/1 [00:00<?, ?it/s]"
      ]
     },
     "metadata": {},
     "output_type": "display_data"
    },
    {
     "data": {
      "application/vnd.jupyter.widget-view+json": {
       "model_id": "b3cc57585f434c589f2a739972181af2",
       "version_major": 2,
       "version_minor": 0
      },
      "text/plain": [
       "Retrieving MaterialsDoc documents:   0%|          | 0/1 [00:00<?, ?it/s]"
      ]
     },
     "metadata": {},
     "output_type": "display_data"
    },
    {
     "data": {
      "application/vnd.jupyter.widget-view+json": {
       "model_id": "c0b9ff754d5f4777ba2b57339c058eeb",
       "version_major": 2,
       "version_minor": 0
      },
      "text/plain": [
       "Retrieving MaterialsDoc documents:   0%|          | 0/1 [00:00<?, ?it/s]"
      ]
     },
     "metadata": {},
     "output_type": "display_data"
    },
    {
     "data": {
      "application/vnd.jupyter.widget-view+json": {
       "model_id": "edef1e5adffa436f84cb0e9aaff9a51d",
       "version_major": 2,
       "version_minor": 0
      },
      "text/plain": [
       "Retrieving MaterialsDoc documents:   0%|          | 0/1 [00:00<?, ?it/s]"
      ]
     },
     "metadata": {},
     "output_type": "display_data"
    }
   ],
   "source": [
    "mp_entries = []\n",
    "\n",
    "with MPRester(API_KEY) as mpr:\n",
    "    for mp_id in mpid:\n",
    "        material_entries = mpr.materials.search(material_ids=[mp_id])\n",
    "\n",
    "        if material_entries:\n",
    "            mp_entries.append(material_entries[0])\n",
    "\n",
    "chemsys_list = [entry.chemsys for entry in mp_entries if hasattr(entry, 'chemsys')]\n",
    "composition_list = [entry.composition_reduced for entry in mp_entries if hasattr(entry, 'composition_reduced')]\n",
    "materials_gga = [material + \"-GGA\" for material in mpid]\n",
    "materials_id = mpid\n"
   ]
  },
  {
   "cell_type": "code",
   "execution_count": 53,
   "metadata": {},
   "outputs": [],
   "source": [
    "from pymatgen.core.composition import Composition\n",
    "\n",
    "def remove_o_and_h(composition):\n",
    "    new_composition_elements = []\n",
    "    for element, count in composition.get_el_amt_dict().items():\n",
    "        if element not in ['O', 'H']:\n",
    "            new_composition_elements.append(f\"{element}{int(count)}\")\n",
    "    new_composition_str = ' '.join(new_composition_elements)\n",
    "    return Composition(new_composition_str)\n",
    "\n",
    "filtered_molecules = [remove_o_and_h(molecule) for molecule in composition_list]"
   ]
  },
  {
   "cell_type": "code",
   "execution_count": 54,
   "metadata": {},
   "outputs": [],
   "source": [
    "from pymatgen.core.composition import Composition\n",
    "\n",
    "def calculate_percent_composition(molecule):\n",
    "    total_atoms = sum(molecule.values())\n",
    "    return {element.symbol: count / total_atoms for element, count in molecule.items()}\n",
    "\n",
    "percent_compositions = [calculate_percent_composition(molecule) for molecule in filtered_molecules]"
   ]
  },
  {
   "cell_type": "code",
   "execution_count": 55,
   "metadata": {},
   "outputs": [
    {
     "data": {
      "application/vnd.jupyter.widget-view+json": {
       "model_id": "7eba0877ba4f43d7aaa165751ae2e694",
       "version_major": 2,
       "version_minor": 0
      },
      "text/plain": [
       "Retrieving ThermoDoc documents:   0%|          | 0/243 [00:00<?, ?it/s]"
      ]
     },
     "metadata": {},
     "output_type": "display_data"
    },
    {
     "name": "stdout",
     "output_type": "stream",
     "text": [
      "Percent complete: 7.69%\n"
     ]
    },
    {
     "data": {
      "application/vnd.jupyter.widget-view+json": {
       "model_id": "6fc31e6a4d014cc78edc226f27054fe2",
       "version_major": 2,
       "version_minor": 0
      },
      "text/plain": [
       "Retrieving ThermoDoc documents:   0%|          | 0/260 [00:00<?, ?it/s]"
      ]
     },
     "metadata": {},
     "output_type": "display_data"
    },
    {
     "name": "stdout",
     "output_type": "stream",
     "text": [
      "Percent complete: 15.38%\n"
     ]
    },
    {
     "data": {
      "application/vnd.jupyter.widget-view+json": {
       "model_id": "3f2a4e36fece41bfb07134e440342b2e",
       "version_major": 2,
       "version_minor": 0
      },
      "text/plain": [
       "Retrieving ThermoDoc documents:   0%|          | 0/270 [00:00<?, ?it/s]"
      ]
     },
     "metadata": {},
     "output_type": "display_data"
    },
    {
     "name": "stdout",
     "output_type": "stream",
     "text": [
      "Percent complete: 23.08%\n"
     ]
    },
    {
     "data": {
      "application/vnd.jupyter.widget-view+json": {
       "model_id": "3d3b9ddfac9f40f6ab07f787270ea34f",
       "version_major": 2,
       "version_minor": 0
      },
      "text/plain": [
       "Retrieving ThermoDoc documents:   0%|          | 0/542 [00:00<?, ?it/s]"
      ]
     },
     "metadata": {},
     "output_type": "display_data"
    },
    {
     "name": "stdout",
     "output_type": "stream",
     "text": [
      "Percent complete: 30.77%\n"
     ]
    },
    {
     "data": {
      "application/vnd.jupyter.widget-view+json": {
       "model_id": "96d84975736648cd83bdc4d2a334f2a0",
       "version_major": 2,
       "version_minor": 0
      },
      "text/plain": [
       "Retrieving ThermoDoc documents:   0%|          | 0/487 [00:00<?, ?it/s]"
      ]
     },
     "metadata": {},
     "output_type": "display_data"
    },
    {
     "name": "stdout",
     "output_type": "stream",
     "text": [
      "Percent complete: 38.46%\n"
     ]
    },
    {
     "data": {
      "application/vnd.jupyter.widget-view+json": {
       "model_id": "8ecc673d50ab490f81051d83325e1a33",
       "version_major": 2,
       "version_minor": 0
      },
      "text/plain": [
       "Retrieving ThermoDoc documents:   0%|          | 0/353 [00:00<?, ?it/s]"
      ]
     },
     "metadata": {},
     "output_type": "display_data"
    },
    {
     "name": "stdout",
     "output_type": "stream",
     "text": [
      "Percent complete: 46.15%\n"
     ]
    },
    {
     "data": {
      "application/vnd.jupyter.widget-view+json": {
       "model_id": "3422c04094904c43aaf63e168a6e4548",
       "version_major": 2,
       "version_minor": 0
      },
      "text/plain": [
       "Retrieving ThermoDoc documents:   0%|          | 0/306 [00:00<?, ?it/s]"
      ]
     },
     "metadata": {},
     "output_type": "display_data"
    },
    {
     "name": "stdout",
     "output_type": "stream",
     "text": [
      "Percent complete: 53.85%\n"
     ]
    },
    {
     "data": {
      "application/vnd.jupyter.widget-view+json": {
       "model_id": "f2be51a1804546468cf461ab6fc330b6",
       "version_major": 2,
       "version_minor": 0
      },
      "text/plain": [
       "Retrieving ThermoDoc documents:   0%|          | 0/262 [00:00<?, ?it/s]"
      ]
     },
     "metadata": {},
     "output_type": "display_data"
    },
    {
     "name": "stdout",
     "output_type": "stream",
     "text": [
      "Percent complete: 61.54%\n"
     ]
    },
    {
     "data": {
      "application/vnd.jupyter.widget-view+json": {
       "model_id": "b1fa7a4005b04a4a9cad6ea67ae5b572",
       "version_major": 2,
       "version_minor": 0
      },
      "text/plain": [
       "Retrieving ThermoDoc documents:   0%|          | 0/226 [00:00<?, ?it/s]"
      ]
     },
     "metadata": {},
     "output_type": "display_data"
    },
    {
     "name": "stdout",
     "output_type": "stream",
     "text": [
      "Percent complete: 69.23%\n"
     ]
    },
    {
     "data": {
      "application/vnd.jupyter.widget-view+json": {
       "model_id": "b79a0a865aa4400896bcd4b4cdcbe3d9",
       "version_major": 2,
       "version_minor": 0
      },
      "text/plain": [
       "Retrieving ThermoDoc documents:   0%|          | 0/274 [00:00<?, ?it/s]"
      ]
     },
     "metadata": {},
     "output_type": "display_data"
    },
    {
     "name": "stdout",
     "output_type": "stream",
     "text": [
      "Percent complete: 76.92%\n"
     ]
    },
    {
     "data": {
      "application/vnd.jupyter.widget-view+json": {
       "model_id": "bea2dee73b644d8ab2d48067aee6f71e",
       "version_major": 2,
       "version_minor": 0
      },
      "text/plain": [
       "Retrieving ThermoDoc documents:   0%|          | 0/515 [00:00<?, ?it/s]"
      ]
     },
     "metadata": {},
     "output_type": "display_data"
    },
    {
     "name": "stdout",
     "output_type": "stream",
     "text": [
      "Percent complete: 84.62%\n"
     ]
    },
    {
     "data": {
      "application/vnd.jupyter.widget-view+json": {
       "model_id": "58d1cfa4b0dd45f2b16a356bc8a6280b",
       "version_major": 2,
       "version_minor": 0
      },
      "text/plain": [
       "Retrieving ThermoDoc documents:   0%|          | 0/523 [00:00<?, ?it/s]"
      ]
     },
     "metadata": {},
     "output_type": "display_data"
    },
    {
     "name": "stdout",
     "output_type": "stream",
     "text": [
      "Percent complete: 92.31%\n"
     ]
    },
    {
     "data": {
      "application/vnd.jupyter.widget-view+json": {
       "model_id": "36f203f38a054ea0952c052cbd5ab3fc",
       "version_major": 2,
       "version_minor": 0
      },
      "text/plain": [
       "Retrieving ThermoDoc documents:   0%|          | 0/259 [00:00<?, ?it/s]"
      ]
     },
     "metadata": {},
     "output_type": "display_data"
    },
    {
     "name": "stdout",
     "output_type": "stream",
     "text": [
      "Percent complete: 100.00%\n"
     ]
    }
   ],
   "source": [
    "pbx_data = []\n",
    "pbx_entries = []\n",
    "\n",
    "total_iterations = len(chemsys_list)  \n",
    "\n",
    "with MPRester(API_KEY) as mpr:\n",
    "    for index, (i, x) in enumerate(zip(chemsys_list, percent_compositions)):\n",
    "        try:\n",
    "            pourbaix_entries = mpr.get_pourbaix_entries(i)\n",
    "            pbx_entries.append(pourbaix_entries)\n",
    "            pbx_diagram = PourbaixDiagram(entries=pourbaix_entries, comp_dict=x)\n",
    "            pbx_data.append(pbx_diagram)\n",
    "        except Exception as e:\n",
    "            pbx_data.append('error')\n",
    "        \n",
    "        percent_complete = ((index + 1) / total_iterations) * 100\n",
    "        print(f'Percent complete: {percent_complete:.2f}%')"
   ]
  },
  {
   "cell_type": "code",
   "execution_count": 56,
   "metadata": {},
   "outputs": [],
   "source": [
    "matched_entries = []\n",
    "\n",
    "for mat_id, entries in zip(materials_gga, pbx_entries):\n",
    "    matched_entry = next((entry for entry in entries if entry.entry_id == mat_id), None)\n",
    "    \n",
    "    if matched_entry:\n",
    "        matched_entries.append(matched_entry)\n",
    "    else:\n",
    "        matched_entries.append(None)"
   ]
  },
  {
   "cell_type": "code",
   "execution_count": 57,
   "metadata": {},
   "outputs": [
    {
     "name": "stdout",
     "output_type": "stream",
     "text": [
      "Material: PourbaixEntry(Cd4 Ge4 Bi8 O24 with energy = -4.7746, npH = -48.0, nPhi = -48.0, nH2O = 24.0, entry_id = 'mp-555027-GGA'), Stability Percentage: 100.00%\n",
      "Material: PourbaixEntry(Na1 U1 F6 with energy = -28.2592, npH = 0, nPhi = 0, nH2O = 0, entry_id = 'mp-1205997-GGA'), Stability Percentage: 100.00%\n",
      "Material: PourbaixEntry(Zn4 Hg4 O2 F12 with energy = -34.6462, npH = -4.0, nPhi = -4.0, nH2O = 2.0, entry_id = 'mp-17972-GGA'), Stability Percentage: 100.00%\n",
      "Material: PourbaixEntry(Te4 Mo6 Se14 Br20 with energy = -34.1764, npH = 0, nPhi = 0, nH2O = 0, entry_id = 'mp-645663-GGA'), Stability Percentage: 70.00%\n",
      "Material: PourbaixEntry(Cs2 Ag1 Sb1 Cl6 with energy = -14.4806, npH = 0, nPhi = 0, nH2O = 0, entry_id = 'mp-1112940-GGA'), Stability Percentage: 100.00%\n",
      "Material: PourbaixEntry(Rb4 U2 F12 with energy = -60.9994, npH = 0, nPhi = 0, nH2O = 0, entry_id = 'mp-13595-GGA'), Stability Percentage: 80.00%\n",
      "Material: PourbaixEntry(Ti4 Tl16 Se16 with energy = -31.8709, npH = 0, nPhi = 0, nH2O = 0, entry_id = 'mp-540940-GGA'), Stability Percentage: 70.00%\n",
      "Material: PourbaixEntry(Ba2 Sc1 U1 O6 with energy = -20.1074, npH = -12.0, nPhi = -12.0, nH2O = 6.0, entry_id = 'mp-1206763-GGA'), Stability Percentage: 100.00%\n",
      "Material: PourbaixEntry(Cs4 Ge2 Se6 with energy = -13.6372, npH = 0, nPhi = 0, nH2O = 0, entry_id = 'mp-1102254-GGA'), Stability Percentage: 50.00%\n",
      "Material: PourbaixEntry(Ba10 Li4 Te6 O30 with energy = -38.8122, npH = -60.0, nPhi = -60.0, nH2O = 30.0, entry_id = 'mp-1228258-GGA'), Stability Percentage: 90.00%\n",
      "Material: PourbaixEntry(Na4 Tl2 P2 C2 O14 with energy = -11.8863, npH = -28.0, nPhi = -28.0, nH2O = 14.0, entry_id = 'mp-756769-GGA'), Stability Percentage: 100.00%\n",
      "Material: PourbaixEntry(Na9 Sr2 Nd9 Ti20 O60 with energy = -176.9331, npH = -120.0, nPhi = -120.0, nH2O = 60.0, entry_id = 'mp-694961-GGA'), Stability Percentage: 100.00%\n",
      "Material: PourbaixEntry(K2 Ta1 Nb1 O6 with energy = -12.9455, npH = -12.0, nPhi = -12.0, nH2O = 6.0, entry_id = 'mp-1207110-GGA'), Stability Percentage: 100.00%\n"
     ]
    }
   ],
   "source": [
    "material_stabilities = []\n",
    "\n",
    "for i, x in zip(pbx_data, matched_entries):\n",
    "    stable_count = 0\n",
    "    total_pH_count = 0\n",
    "\n",
    "    for pH in range(3, 13):\n",
    "        try:\n",
    "            stability = i.get_decomposition_energy(x, pH, 0)\n",
    "            total_pH_count += 1\n",
    "            if stability < 0.5:\n",
    "                stable_count += 1\n",
    "        except Exception as e:\n",
    "            continue\n",
    "    \n",
    "    if total_pH_count > 0:\n",
    "        stability_percentage = (stable_count / total_pH_count) * 100\n",
    "    else:\n",
    "        stability_percentage = 0\n",
    "\n",
    "    material_stabilities.append({'entry': x, 'stability_percentage': stability_percentage})\n",
    "\n",
    "for material in material_stabilities:\n",
    "    print(f\"Material: {material['entry']}, Stability Percentage: {material['stability_percentage']:.2f}%\")\n"
   ]
  },
  {
   "cell_type": "code",
   "execution_count": 58,
   "metadata": {},
   "outputs": [
    {
     "name": "stdout",
     "output_type": "stream",
     "text": [
      "0.036377836553505995, 0.26727524608542774, 0.39107713929266735, 0.23358697356677638, 0.3075803642718309, 0.36691550255699923, 0.3674515199880303, 0.27423687888423987, 0.49873885798453, 0.2967020702614761, 0.22261250432878318, 0.12334245690157175, 0.13739272604087382\n"
     ]
    }
   ],
   "source": [
    "ph7 = []\n",
    "\n",
    "for i, x in zip(pbx_data, matched_entries):\n",
    "    stable_count = 0\n",
    "    total_pH_count = 0\n",
    "\n",
    "    \n",
    "    stability = i.get_decomposition_energy(x, 7, 0)\n",
    "    ph7.append(stability)\n",
    "\n",
    "ph7_str = ', '.join(str(value) for value in ph7)\n",
    "print(ph7_str)\n",
    "\n",
    "        \n",
    "    "
   ]
  }
 ],
 "metadata": {
  "kernelspec": {
   "display_name": "base",
   "language": "python",
   "name": "python3"
  },
  "language_info": {
   "codemirror_mode": {
    "name": "ipython",
    "version": 3
   },
   "file_extension": ".py",
   "mimetype": "text/x-python",
   "name": "python",
   "nbconvert_exporter": "python",
   "pygments_lexer": "ipython3",
   "version": "3.11.5"
  }
 },
 "nbformat": 4,
 "nbformat_minor": 2
}
