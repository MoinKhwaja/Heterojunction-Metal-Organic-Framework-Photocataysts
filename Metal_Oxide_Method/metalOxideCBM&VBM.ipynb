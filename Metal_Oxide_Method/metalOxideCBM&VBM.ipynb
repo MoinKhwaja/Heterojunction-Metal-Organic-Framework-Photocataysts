{
 "cells": [
  {
   "cell_type": "code",
   "execution_count": 1,
   "metadata": {},
   "outputs": [
    {
     "data": {
      "application/vnd.jupyter.widget-view+json": {
       "model_id": "eabb25cf579a498fbf3174d7d4ece3c9",
       "version_major": 2,
       "version_minor": 0
      },
      "text/plain": [
       "Retrieving ElectronicStructureDoc documents:   0%|          | 0/1 [00:00<?, ?it/s]"
      ]
     },
     "metadata": {},
     "output_type": "display_data"
    },
    {
     "data": {
      "application/vnd.jupyter.widget-view+json": {
       "model_id": "53bd129aec22433fa32addc583847146",
       "version_major": 2,
       "version_minor": 0
      },
      "text/plain": [
       "Retrieving ElectronicStructureDoc documents:   0%|          | 0/1 [00:00<?, ?it/s]"
      ]
     },
     "metadata": {},
     "output_type": "display_data"
    }
   ],
   "source": [
    "from mp_api.client import MPRester\n",
    "\n",
    "from api_key import APIKEY\n",
    "\n",
    "API_KEY = APIKEY\n",
    "\n",
    "materials = [\"mp-2657\", \"mp-390\"]\n",
    "bandstruct = []\n",
    "\n",
    "with MPRester(API_KEY) as mpr:\n",
    "    for mp_id in materials:\n",
    "        try:\n",
    "            band_structure = mpr.get_bandstructure_by_material_id(mp_id)\n",
    "            bandstruct.append(band_structure)\n",
    "        except Exception as e:\n",
    "            print(f\"Failed to retrieve band structure for {mp_id}: {e}\")\n"
   ]
  },
  {
   "cell_type": "code",
   "execution_count": 3,
   "metadata": {},
   "outputs": [
    {
     "name": "stdout",
     "output_type": "stream",
     "text": [
      "band_structures analyzed\n",
      "band_structures analyzed\n",
      "CBM energy sucess\n",
      "CBM energy sucess\n",
      "vbm energy sucess\n",
      "vbm energy sucess\n",
      "[4.9826, 3.9525]\n",
      "[3.2016, 1.8939]\n"
     ]
    }
   ],
   "source": [
    "cbm_data = []\n",
    "cbm_energy = []\n",
    "\n",
    "vbm_data = []\n",
    "vbm_energy = []\n",
    "\n",
    "for band_structure in bandstruct:\n",
    "    try:\n",
    "        cbm = band_structure.get_cbm()\n",
    "        cbm_data.append(cbm)\n",
    "\n",
    "        vbm = band_structure.get_vbm()\n",
    "        vbm_data.append(vbm)\n",
    "       \n",
    "        print(\"band_structures analyzed\")\n",
    "    except Exception as e:\n",
    "        print(f\"fail: {e}\")\n",
    "\n",
    "for cbm in cbm_data:\n",
    "    try:\n",
    "        cbmeng = cbm['energy']\n",
    "        cbm_energy.append(cbmeng)\n",
    "        print(\"CBM energy sucess\")\n",
    "    except Exception as e:\n",
    "        print(f\"fail: {e}\")\n",
    "\n",
    "for vbm in vbm_data:\n",
    "    try:\n",
    "        vbmeng = vbm['energy']\n",
    "        vbm_energy.append(vbmeng)\n",
    "        print(\"vbm energy sucess\")\n",
    "    except Exception as e:\n",
    "        print(f\"fail: {e}\")\n",
    "\n",
    "print(cbm_energy)\n",
    "print(vbm_energy)\n",
    "\n",
    "    \n"
   ]
  }
 ],
 "metadata": {
  "kernelspec": {
   "display_name": "base",
   "language": "python",
   "name": "python3"
  },
  "language_info": {
   "codemirror_mode": {
    "name": "ipython",
    "version": 3
   },
   "file_extension": ".py",
   "mimetype": "text/x-python",
   "name": "python",
   "nbconvert_exporter": "python",
   "pygments_lexer": "ipython3",
   "version": "3.11.5"
  },
  "orig_nbformat": 4
 },
 "nbformat": 4,
 "nbformat_minor": 2
}
