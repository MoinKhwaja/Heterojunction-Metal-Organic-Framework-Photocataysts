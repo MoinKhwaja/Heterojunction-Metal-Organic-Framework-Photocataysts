{
 "cells": [
  {
   "cell_type": "code",
   "execution_count": 21,
   "metadata": {},
   "outputs": [
    {
     "data": {
      "application/vnd.jupyter.widget-view+json": {
       "model_id": "00316639486e47ae9bf9d0c33423f52d",
       "version_major": 2,
       "version_minor": 0
      },
      "text/plain": [
       "Retrieving MaterialsDoc documents:   0%|          | 0/19 [00:00<?, ?it/s]"
      ]
     },
     "metadata": {},
     "output_type": "display_data"
    }
   ],
   "source": [
    "from mp_api.client import MPRester\n",
    "import csv\n",
    "from api_key import APIKEY\n",
    "API_KEY = APIKEY\n",
    "\n",
    "\n",
    "mat_ids_str = ['mp-9576', 'mp-1205478', 'mp-1095291', 'mp-29420', 'mp-20310', 'mp-675710', 'mp-1181839', 'mp-1213022', 'mp-30996', 'mp-15222', 'mp-1227444', 'mp-1224517', 'mp-626218', 'mp-27175', 'mp-1821', 'mp-1025549', 'mp-27852', 'mp-505700', 'mp-559257']\n",
    "\n",
    "\n",
    "def get_material_entries(material_ids, batch_size=6000):\n",
    "    mp_entries = []\n",
    "    with MPRester(API_KEY) as mpr:\n",
    "        for i in range(0, len(material_ids), batch_size):\n",
    "            batch_ids = material_ids[i:i + batch_size]\n",
    "            material_entries = mpr.materials.search(material_ids=batch_ids)\n",
    "            mp_entries.extend(material_entries)\n",
    "    return mp_entries\n",
    "\n",
    "mp_entries = get_material_entries(mat_ids_str)\n",
    "\n",
    "\n"
   ]
  },
  {
   "cell_type": "code",
   "execution_count": 22,
   "metadata": {},
   "outputs": [
    {
     "name": "stdout",
     "output_type": "stream",
     "text": [
      "[{'mat_id': 'mp-9576', 'abc': (6.788545219700447, 6.788545219700447, 6.788545219700447), 'angles': (109.47122063449069, 109.47122063449069, 109.47122063449069)}, {'mat_id': 'mp-1205478', 'abc': (3.31993213, 3.3199337136020297, 13.7371873), 'angles': (90.0, 90.0, 120.00001535487395)}, {'mat_id': 'mp-1095291', 'abc': (5.49087521842848, 5.490875815643621, 6.219859420695456), 'angles': (111.43190573510464, 111.4319002592074, 99.91505668241457)}, {'mat_id': 'mp-29420', 'abc': (7.505387749232425, 7.262888166450118, 7.269138416578731), 'angles': (62.19084799650171, 58.8640132492172, 58.948192870255504)}, {'mat_id': 'mp-20310', 'abc': (7.627063014023288, 7.627063014023288, 7.627063222695483), 'angles': (60.09613213835907, 60.09613213835907, 60.09612578731721)}, {'mat_id': 'mp-675710', 'abc': (7.1801479595619755, 7.1801479595619755, 7.1801479595619755), 'angles': (147.57085550021574, 147.57085550021574, 46.51927458278262)}, {'mat_id': 'mp-1181839', 'abc': (14.468543996831885, 12.914825604950614, 7.705758532870076), 'angles': (85.14867077520387, 62.79998487841554, 32.05134434638058)}, {'mat_id': 'mp-1213022', 'abc': (6.22359683, 7.528228764540176, 9.07695614587635), 'angles': (102.08033017568346, 90.0, 90.0)}, {'mat_id': 'mp-30996', 'abc': (9.278518896276765, 9.278518896276765, 9.278518675291924), 'angles': (107.93999236579599, 107.93999236579599, 107.94000314648494)}, {'mat_id': 'mp-15222', 'abc': (5.18710261, 5.72004523, 7.53016477), 'angles': (90.0, 90.0, 90.0)}, {'mat_id': 'mp-1227444', 'abc': (6.86256651, 7.24550841, 8.48475601), 'angles': (90.0, 90.0, 90.0)}, {'mat_id': 'mp-1224517', 'abc': (6.912945721926001, 7.053692106321282, 7.95248089562177), 'angles': (106.31591500646674, 89.82157302917463, 99.51862179409514)}, {'mat_id': 'mp-626218', 'abc': (7.25943889, 7.27392100514683, 7.86713448043884), 'angles': (116.58666133216013, 90.0, 119.934161219633)}, {'mat_id': 'mp-27175', 'abc': (13.741573707188364, 16.68161491, 20.461581997067672), 'angles': (90.0, 109.10325523098822, 90.0)}, {'mat_id': 'mp-1821', 'abc': (10.99167943, 10.99167943, 10.63295212), 'angles': (90.0, 90.0, 90.0)}, {'mat_id': 'mp-1025549', 'abc': (6.579861877199401, 6.549771504147005, 12.455738788627768), 'angles': (89.96549419671003, 97.34547301211356, 89.9211222400045)}, {'mat_id': 'mp-27852', 'abc': (8.214333895928096, 8.214333191899696, 8.21433343), 'angles': (109.4712238467811, 109.47122205019183, 109.47121726751537)}, {'mat_id': 'mp-505700', 'abc': (8.167922075557577, 8.167922075557577, 15.740530101671519), 'angles': (82.54852483050806, 82.54852483050806, 90.01055456800077)}, {'mat_id': 'mp-559257', 'abc': (6.92440761, 6.518629494280824, 13.29551784875234), 'angles': (88.99666929244725, 90.0, 90.0)}]\n"
     ]
    }
   ],
   "source": [
    "lattice_parameters = []\n",
    "\n",
    "for i, entry in enumerate(mp_entries):\n",
    "    lattice = entry.structure.lattice\n",
    "    abc = lattice.abc\n",
    "    angles = lattice.angles\n",
    "    lattice_parameters.append({'mat_id': mat_ids_str[i], 'abc': abc, 'angles': angles})\n",
    "\n",
    "print(lattice_parameters)"
   ]
  },
  {
   "cell_type": "code",
   "execution_count": 25,
   "metadata": {},
   "outputs": [
    {
     "name": "stdout",
     "output_type": "stream",
     "text": [
      "[{'mat_id': 'mp-9576', 'abc': ['6.79', '6.79', '6.79'], 'angles': ['109.5', '109.5', '109.5']}, {'mat_id': 'mp-1205478', 'abc': ['3.32', '3.32', '13.7'], 'angles': ['90', '90', '120']}, {'mat_id': 'mp-1095291', 'abc': ['5.49', '5.49', '6.22'], 'angles': ['111.4', '111.4', '99.92']}, {'mat_id': 'mp-29420', 'abc': ['7.51', '7.26', '7.27'], 'angles': ['62.19', '58.86', '58.95']}, {'mat_id': 'mp-20310', 'abc': ['7.63', '7.63', '7.63'], 'angles': ['60.1', '60.1', '60.1']}, {'mat_id': 'mp-675710', 'abc': ['7.18', '7.18', '7.18'], 'angles': ['147.6', '147.6', '46.52']}, {'mat_id': 'mp-1181839', 'abc': ['14.5', '12.9', '7.71'], 'angles': ['85.15', '62.8', '32.05']}, {'mat_id': 'mp-1213022', 'abc': ['6.22', '7.53', '9.08'], 'angles': ['102.1', '90', '90']}, {'mat_id': 'mp-30996', 'abc': ['9.28', '9.28', '9.28'], 'angles': ['107.9', '107.9', '107.9']}, {'mat_id': 'mp-15222', 'abc': ['5.19', '5.72', '7.53'], 'angles': ['90', '90', '90']}, {'mat_id': 'mp-1227444', 'abc': ['6.86', '7.25', '8.48'], 'angles': ['90', '90', '90']}, {'mat_id': 'mp-1224517', 'abc': ['6.91', '7.05', '7.95'], 'angles': ['106.3', '89.82', '99.52']}, {'mat_id': 'mp-626218', 'abc': ['7.26', '7.27', '7.87'], 'angles': ['116.6', '90', '119.9']}, {'mat_id': 'mp-27175', 'abc': ['13.7', '16.7', '20.5'], 'angles': ['90', '109.1', '90']}, {'mat_id': 'mp-1821', 'abc': ['11', '11', '10.6'], 'angles': ['90', '90', '90']}, {'mat_id': 'mp-1025549', 'abc': ['6.58', '6.55', '12.5'], 'angles': ['89.97', '97.35', '89.92']}, {'mat_id': 'mp-27852', 'abc': ['8.21', '8.21', '8.21'], 'angles': ['109.5', '109.5', '109.5']}, {'mat_id': 'mp-505700', 'abc': ['8.17', '8.17', '15.7'], 'angles': ['82.55', '82.55', '90.01']}, {'mat_id': 'mp-559257', 'abc': ['6.92', '6.52', '13.3'], 'angles': ['89', '90', '90']}]\n"
     ]
    }
   ],
   "source": [
    "formatted_lattice_parameters = []\n",
    "\n",
    "for entry in lattice_parameters:\n",
    "    mat_id = entry['mat_id']\n",
    "    abc = entry['abc']\n",
    "    angles = entry['angles']\n",
    "    \n",
    "    formatted_abc = [format(value, '.3g') for value in abc]\n",
    "    formatted_angles = [format(value, '.4g') for value in angles]\n",
    "    \n",
    "    formatted_entry = {'mat_id': mat_id, 'abc': formatted_abc, 'angles': formatted_angles}\n",
    "    formatted_lattice_parameters.append(formatted_entry)\n",
    "\n",
    "print(formatted_lattice_parameters)\n"
   ]
  },
  {
   "cell_type": "code",
   "execution_count": 27,
   "metadata": {},
   "outputs": [
    {
     "name": "stdout",
     "output_type": "stream",
     "text": [
      "lattice_parameters exported to CO_abc.csv\n"
     ]
    }
   ],
   "source": [
    "import csv\n",
    "\n",
    "# Define the file path\n",
    "file_path = 'CO_abc.csv'\n",
    "\n",
    "# Write the lattice_parameters to the CSV file\n",
    "with open(file_path, 'w', newline='') as csvfile:\n",
    "    fieldnames = ['mat_id', 'abc', 'angles']\n",
    "    writer = csv.DictWriter(csvfile, fieldnames=fieldnames)\n",
    "    writer.writeheader()\n",
    "    writer.writerows(formatted_lattice_parameters)\n",
    "\n",
    "print(f\"lattice_parameters exported to {file_path}\")\n"
   ]
  }
 ],
 "metadata": {
  "kernelspec": {
   "display_name": "base",
   "language": "python",
   "name": "python3"
  },
  "language_info": {
   "codemirror_mode": {
    "name": "ipython",
    "version": 3
   },
   "file_extension": ".py",
   "mimetype": "text/x-python",
   "name": "python",
   "nbconvert_exporter": "python",
   "pygments_lexer": "ipython3",
   "version": "3.11.5"
  }
 },
 "nbformat": 4,
 "nbformat_minor": 2
}
