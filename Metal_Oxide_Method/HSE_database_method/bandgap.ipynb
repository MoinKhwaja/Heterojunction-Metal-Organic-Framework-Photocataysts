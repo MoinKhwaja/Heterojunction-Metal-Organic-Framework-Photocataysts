{
 "cells": [
  {
   "cell_type": "code",
   "execution_count": 1,
   "metadata": {},
   "outputs": [],
   "source": [
    "import pandas as pd\n",
    "\n",
    "df = pd.read_csv('/Users/moinkhwaja/Documents/GitHub/Heterojunction-Metal-Organic-Framework-Photocataysts/Metal_Oxide_Method/HSE_database_method/predict_hse.csv')\n",
    "selected_columns = df[['material_id', 'predict_Band_gap_HSE']]\n",
    "data_list = list(selected_columns.itertuples(index=False, name=None))\n",
    "filtered_list = [item for item in data_list if 1.7 <= item[1] <= 3.0]\n",
    "\n",
    "filtered_df = pd.DataFrame(filtered_list, columns=['material_id', 'predict_Band_gap_HSE'])\n",
    "filtered_df.to_csv('passed_bandgap.csv', index=False)\n"
   ]
  },
  {
   "cell_type": "code",
   "execution_count": 6,
   "metadata": {},
   "outputs": [
    {
     "name": "stdout",
     "output_type": "stream",
     "text": [
      "('mp-1025377', 2.870952647)\n"
     ]
    }
   ],
   "source": [
    "print(data_list[2])"
   ]
  },
  {
   "cell_type": "code",
   "execution_count": 7,
   "metadata": {},
   "outputs": [],
   "source": [
    "import csv\n",
    "\n",
    "materials = []\n",
    "passedThermo = 'materials.csv'\n",
    "\n",
    "with open(passedThermo, mode='r', newline='') as file:\n",
    "    csv_reader = csv.reader(file)\n",
    "    header = next(csv_reader)\n",
    "    col1_index = header.index('materials')\n",
    "    \n",
    "    for row in csv_reader:\n",
    "        materials.append(row[col1_index])\n",
    "        \n",
    "matching_items = []\n",
    "\n",
    "\n",
    "for item in data_list:\n",
    "    if item[0] in materials:\n",
    "        matching_items.append(item)"
   ]
  },
  {
   "cell_type": "code",
   "execution_count": 9,
   "metadata": {},
   "outputs": [
    {
     "name": "stdout",
     "output_type": "stream",
     "text": [
      "22541\n"
     ]
    }
   ],
   "source": [
    "print(len(matching_items))"
   ]
  }
 ],
 "metadata": {
  "kernelspec": {
   "display_name": "base",
   "language": "python",
   "name": "python3"
  },
  "language_info": {
   "codemirror_mode": {
    "name": "ipython",
    "version": 3
   },
   "file_extension": ".py",
   "mimetype": "text/x-python",
   "name": "python",
   "nbconvert_exporter": "python",
   "pygments_lexer": "ipython3",
   "version": "3.11.5"
  }
 },
 "nbformat": 4,
 "nbformat_minor": 2
}
