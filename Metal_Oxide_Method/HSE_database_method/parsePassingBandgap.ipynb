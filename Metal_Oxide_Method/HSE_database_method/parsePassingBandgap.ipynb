{
 "cells": [
  {
   "cell_type": "code",
   "execution_count": 2,
   "metadata": {},
   "outputs": [],
   "source": [
    "from mp_api.client import MPRester\n",
    "from api_key import APIKEY\n",
    "API_KEY = APIKEY"
   ]
  },
  {
   "cell_type": "code",
   "execution_count": 7,
   "metadata": {},
   "outputs": [
    {
     "name": "stdout",
     "output_type": "stream",
     "text": [
      "26\n",
      "[{'MPID': 'mp-1224154', 'BandGap': 2.968547336, 'CBM': -0.1157263320000003, 'VBM': -3.084273668, 'Product': 'CH4'}, {'MPID': 'mp-29359', 'BandGap': 2.989312128, 'CBM': -0.0843439359999997, 'VBM': -3.073656064, 'Product': 'CH4'}, {'MPID': 'mp-1223088', 'BandGap': 2.154180544, 'CBM': -0.1654097280000002, 'VBM': -2.319590272, 'Product': 'CH4'}, {'MPID': 'mp-10559', 'BandGap': 2.736784208, 'CBM': -0.0932745626666662, 'VBM': -2.8300587706666667, 'Product': 'CH4'}, {'MPID': 'mp-1214066', 'BandGap': 2.721721897, 'CBM': -0.150717998868421, 'VBM': -2.872439895868421, 'Product': 'CH4'}, {'MPID': 'mp-1025252', 'BandGap': 2.937739192, 'CBM': -0.0282732611428571, 'VBM': -2.9660124531428576, 'Product': 'CH4'}, {'MPID': 'mp-1194963', 'BandGap': 2.872213542, 'CBM': -0.1238932290000001, 'VBM': -2.996106771, 'Product': 'CH4'}, {'MPID': 'mp-28145', 'BandGap': 2.751901297, 'CBM': -0.0257160181666673, 'VBM': -2.7776173151666668, 'Product': 'CH4'}, {'MPID': 'mp-546672', 'BandGap': 2.119563928, 'CBM': -0.0430751788571424, 'VBM': -2.1626391068571427, 'Product': 'CH4'}, {'MPID': 'mp-1214730', 'BandGap': 2.996675553, 'CBM': -0.0006622235, 'VBM': -2.9973377765, 'Product': 'CH4'}, {'MPID': 'mp-1210192', 'BandGap': 1.924142017, 'CBM': -0.1419289915000003, 'VBM': -2.0660710085000003, 'Product': 'CH4'}, {'MPID': 'mp-571648', 'BandGap': 2.628211422, 'CBM': -0.0158942890000002, 'VBM': -2.644105711, 'Product': 'CH4'}, {'MPID': 'mp-1219278', 'BandGap': 2.3542907, 'CBM': -0.1428546500000003, 'VBM': -2.4971453500000003, 'Product': 'CH4'}, {'MPID': 'mp-1104024', 'BandGap': 2.569874003, 'CBM': -0.1150629985000009, 'VBM': -2.6849370015000003, 'Product': 'CH4'}, {'MPID': 'mp-13676', 'BandGap': 2.435112786, 'CBM': -0.0257769403333334, 'VBM': -2.460889726333333, 'Product': 'CH4'}, {'MPID': 'mp-1018891', 'BandGap': 2.320097342, 'CBM': -0.1409190709354844, 'VBM': -2.461016412935484, 'Product': 'CH4'}, {'MPID': 'mp-1226577', 'BandGap': 2.860324169, 'CBM': -0.0531712488333333, 'VBM': -2.913495417833333, 'Product': 'CH4'}, {'MPID': 'mp-3879', 'BandGap': 2.853686383, 'CBM': -0.1498234751666665, 'VBM': -3.003509858166667, 'Product': 'CH4'}, {'MPID': 'mp-505436', 'BandGap': 2.199373828, 'CBM': -0.1003130859999998, 'VBM': -2.2996869140000005, 'Product': 'CH4'}, {'MPID': 'mp-1210257', 'BandGap': 1.853205875, 'CBM': -0.0576827767857146, 'VBM': -1.9108886517857144, 'Product': 'CH4'}, {'MPID': 'mp-557993', 'BandGap': 1.98185465, 'CBM': -0.1162155321428572, 'VBM': -2.098070182142857, 'Product': 'CH4'}, {'MPID': 'mp-541696', 'BandGap': 2.973796383, 'CBM': -0.0636573640555555, 'VBM': -3.037453747055556, 'Product': 'CH4'}, {'MPID': 'mp-984519', 'BandGap': 1.997678361, 'CBM': -0.1086608194999998, 'VBM': -2.1063391805, 'Product': 'CH4'}, {'MPID': 'mp-856', 'BandGap': 2.690749972, 'CBM': -0.0365480909230768, 'VBM': -2.727298062923077, 'Product': 'CH4'}, {'MPID': 'mp-1209628', 'BandGap': 2.1737378, 'CBM': -0.1218811000000004, 'VBM': -2.2956189, 'Product': 'CH4'}, {'MPID': 'mp-557871', 'BandGap': 2.99851835, 'CBM': -0.0927408249999999, 'VBM': -3.091259175, 'Product': 'CH4'}]\n"
     ]
    }
   ],
   "source": [
    "import pandas as pd\n",
    "\n",
    "mpid_list = ['mp-1224154', 'mp-29359', 'mp-1223088', 'mp-10559', 'mp-1214066', 'mp-1025252', 'mp-1194963', 'mp-28145', 'mp-546672', 'mp-1214730', 'mp-1210192', 'mp-571648', 'mp-1219278', 'mp-1104024', 'mp-13676', 'mp-1018891', 'mp-1226577', 'mp-3879', 'mp-505436', 'mp-1210257', 'mp-557993', 'mp-541696', 'mp-984519', 'mp-856', 'mp-1209628', 'mp-557871']\n",
    "df = pd.read_csv('BandAlign_pass_list.csv')\n",
    "filtered_df = df[df['MPID'].isin(mpid_list)]\n",
    "result_list = filtered_df.to_dict('records')\n",
    "print(len(result_list))\n",
    "print(result_list)\n",
    "export_df = pd.DataFrame(result_list)\n",
    "export_df.to_csv('result_list.csv', index=False)\n"
   ]
  }
 ],
 "metadata": {
  "kernelspec": {
   "display_name": "base",
   "language": "python",
   "name": "python3"
  },
  "language_info": {
   "codemirror_mode": {
    "name": "ipython",
    "version": 3
   },
   "file_extension": ".py",
   "mimetype": "text/x-python",
   "name": "python",
   "nbconvert_exporter": "python",
   "pygments_lexer": "ipython3",
   "version": "3.11.5"
  }
 },
 "nbformat": 4,
 "nbformat_minor": 2
}
