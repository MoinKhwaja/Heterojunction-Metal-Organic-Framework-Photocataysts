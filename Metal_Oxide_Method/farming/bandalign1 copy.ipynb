{
 "cells": [
  {
   "cell_type": "code",
   "execution_count": 4,
   "metadata": {},
   "outputs": [],
   "source": [
    "from mp_api.client import MPRester\n",
    "from api_key import APIKEY\n",
    "import csv\n",
    "API_KEY = APIKEY"
   ]
  },
  {
   "cell_type": "code",
   "execution_count": 5,
   "metadata": {},
   "outputs": [],
   "source": [
    "mpids = []\n",
    "\n",
    "with open('mpids.csv', 'r') as file:\n",
    "    reader = csv.reader(file)\n",
    "    for row in reader:\n",
    "        mpids.append(row[0])"
   ]
  },
  {
   "cell_type": "code",
   "execution_count": 6,
   "metadata": {},
   "outputs": [
    {
     "data": {
      "application/vnd.jupyter.widget-view+json": {
       "model_id": "af9e320a0a4c48aa970ee6fe01ea222d",
       "version_major": 2,
       "version_minor": 0
      },
      "text/plain": [
       "Retrieving ElectronicStructureDoc documents:   0%|          | 0/1 [00:00<?, ?it/s]"
      ]
     },
     "metadata": {},
     "output_type": "display_data"
    },
    {
     "data": {
      "application/vnd.jupyter.widget-view+json": {
       "model_id": "d7bb8b6c7679414da475678d61a5b10a",
       "version_major": 2,
       "version_minor": 0
      },
      "text/plain": [
       "Retrieving ElectronicStructureDoc documents:   0%|          | 0/1 [00:00<?, ?it/s]"
      ]
     },
     "metadata": {},
     "output_type": "display_data"
    },
    {
     "data": {
      "application/vnd.jupyter.widget-view+json": {
       "model_id": "c9797b4a83fd499fb3ccdf50d78d7c71",
       "version_major": 2,
       "version_minor": 0
      },
      "text/plain": [
       "Retrieving ElectronicStructureDoc documents:   0%|          | 0/1 [00:00<?, ?it/s]"
      ]
     },
     "metadata": {},
     "output_type": "display_data"
    },
    {
     "name": "stdout",
     "output_type": "stream",
     "text": [
      "Failed to retrieve band structure for mp-568392: No setyawan_curtarolo band structure data found for mp-568392\n"
     ]
    },
    {
     "data": {
      "application/vnd.jupyter.widget-view+json": {
       "model_id": "7235ae3ba0f74cfdb27349d8809d67ce",
       "version_major": 2,
       "version_minor": 0
      },
      "text/plain": [
       "Retrieving ElectronicStructureDoc documents:   0%|          | 0/1 [00:00<?, ?it/s]"
      ]
     },
     "metadata": {},
     "output_type": "display_data"
    },
    {
     "data": {
      "application/vnd.jupyter.widget-view+json": {
       "model_id": "a780b64173da48638016a9819af1e578",
       "version_major": 2,
       "version_minor": 0
      },
      "text/plain": [
       "Retrieving ElectronicStructureDoc documents:   0%|          | 0/1 [00:00<?, ?it/s]"
      ]
     },
     "metadata": {},
     "output_type": "display_data"
    }
   ],
   "source": [
    "materials = mpids[:5]\n",
    "bandstruct = []\n",
    "failed_ids = []\n",
    "\n",
    "with MPRester(API_KEY) as mpr:\n",
    "    for mp_id in materials:\n",
    "        try:\n",
    "            band_structure = mpr.get_bandstructure_by_material_id(mp_id)\n",
    "            bandstruct.append(band_structure)\n",
    "        except Exception as e:\n",
    "            print(f\"Failed to retrieve band structure for {mp_id}: {e}\")\n",
    "            failed_ids.append(mp_id)\n",
    "\n",
    "# Remove the failed IDs from the materials list\n",
    "for id in failed_ids:\n",
    "    materials.remove(id)"
   ]
  },
  {
   "cell_type": "code",
   "execution_count": 7,
   "metadata": {},
   "outputs": [
    {
     "data": {
      "application/vnd.jupyter.widget-view+json": {
       "model_id": "c6e096fa72ea4eb09ed99211369f70f4",
       "version_major": 2,
       "version_minor": 0
      },
      "text/plain": [
       "Retrieving MaterialsDoc documents:   0%|          | 0/1 [00:00<?, ?it/s]"
      ]
     },
     "metadata": {},
     "output_type": "display_data"
    },
    {
     "data": {
      "application/vnd.jupyter.widget-view+json": {
       "model_id": "a6789465c9e14812beef81230744dd59",
       "version_major": 2,
       "version_minor": 0
      },
      "text/plain": [
       "Retrieving MaterialsDoc documents:   0%|          | 0/1 [00:00<?, ?it/s]"
      ]
     },
     "metadata": {},
     "output_type": "display_data"
    },
    {
     "data": {
      "application/vnd.jupyter.widget-view+json": {
       "model_id": "1c5b83e45a9a42318ade347dcfac6349",
       "version_major": 2,
       "version_minor": 0
      },
      "text/plain": [
       "Retrieving MaterialsDoc documents:   0%|          | 0/1 [00:00<?, ?it/s]"
      ]
     },
     "metadata": {},
     "output_type": "display_data"
    },
    {
     "data": {
      "application/vnd.jupyter.widget-view+json": {
       "model_id": "4fa5d687a56645f197d1f10166c04e6d",
       "version_major": 2,
       "version_minor": 0
      },
      "text/plain": [
       "Retrieving MaterialsDoc documents:   0%|          | 0/1 [00:00<?, ?it/s]"
      ]
     },
     "metadata": {},
     "output_type": "display_data"
    }
   ],
   "source": [
    "mp_entries = []\n",
    "\n",
    "with MPRester(API_KEY) as mpr:\n",
    "    for mp_id in materials:\n",
    "        material_entries = mpr.materials.search(material_ids=[mp_id])\n",
    "        \n",
    "        if material_entries:\n",
    "            mp_entries.append(material_entries[0])"
   ]
  },
  {
   "cell_type": "code",
   "execution_count": 8,
   "metadata": {},
   "outputs": [
    {
     "name": "stdout",
     "output_type": "stream",
     "text": [
      "4 4\n"
     ]
    }
   ],
   "source": [
    "print(len(mp_entries),len(bandstruct))\n",
    "chemsys_list = [entry.chemsys for entry in mp_entries if hasattr(entry, 'chemsys')]\n",
    "composition_list = [entry.composition_reduced for entry in mp_entries if hasattr(entry, 'composition_reduced')] \n",
    "materials_gga = [material + \"-GGA\" for material in materials]\n",
    "materials_id = materials"
   ]
  },
  {
   "cell_type": "code",
   "execution_count": 10,
   "metadata": {},
   "outputs": [
    {
     "name": "stdout",
     "output_type": "stream",
     "text": [
      "above CO: 0 || below CO: 0\n"
     ]
    }
   ],
   "source": [
    "bandgaps = []\n",
    "\n",
    "for i in bandstruct:\n",
    "    bandgap = i.get_band_gap()\n",
    "    bandgapenergy = bandgap.get('energy')\n",
    "    bandgaps.append(bandgapenergy)\n",
    "\n",
    "electroneg = []\n",
    "\n",
    "for i in composition_list:\n",
    "    electroneg.append(i.average_electroneg)\n",
    "\n",
    "cbm = []\n",
    "vbm = []\n",
    "\n",
    "for i,x in zip(bandgaps,electroneg):\n",
    "\n",
    "    bandcorrection = (i + 0.85)/2\n",
    "    cbm_pre = x + bandcorrection\n",
    "    vbm_pre = x - bandcorrection\n",
    "    cbm_minusvac = cbm_pre - 4.5\n",
    "    vbm_minusvac = vbm_pre - 4.5\n",
    "\n",
    "    cbm.append(cbm_minusvac)\n",
    "    vbm.append(vbm_minusvac)\n",
    "\n",
    "band_edge = list(zip(cbm, vbm, materials))\n",
    "\n",
    "CO_reduction_met = [item for item in band_edge if item[0] >= 0.12]\n",
    "CO_reduction_below = [item for item in band_edge if 0 <= item[0] < 0.12]\n",
    "\n",
    "print(\"above CO:\",len(CO_reduction_met),\"||\",\"below CO:\",len(CO_reduction_below))\n",
    "\n",
    "cbms_above = [item[0] for item in CO_reduction_met]\n",
    "vbms_above = [item[1] for item in CO_reduction_met]\n",
    "mps_above = [item[2] for item in CO_reduction_met]\n",
    "\n",
    "cbms_below = [item[0] for item in CO_reduction_below]\n",
    "vbms_below = [item[1] for item in CO_reduction_below]\n",
    "mps_below = [item[2] for item in CO_reduction_below]\n"
   ]
  },
  {
   "cell_type": "code",
   "execution_count": 11,
   "metadata": {},
   "outputs": [
    {
     "data": {
      "image/png": "[encoded data removed]",
      "text/plain": [
       "<Figure size 600x400 with 1 Axes>"
      ]
     },
     "metadata": {},
     "output_type": "display_data"
    }
   ],
   "source": [
    "import matplotlib.pyplot as plt\n",
    "\n",
    "water_oxidation = -1.23\n",
    "co_reduction = 0.12\n",
    "\n",
    "plt.figure(figsize=(6, 4))\n",
    "\n",
    "for i in range(len(CO_reduction_met)):\n",
    "    plt.hlines(cbms_above[i], i - 0.1, i + 0.1, colors='blue', label='CBM' if i == 0 else \"\")\n",
    "    plt.hlines(vbms_above[i], i - 0.1, i + 0.1, colors='red', label='VBM' if i == 0 else \"\")\n",
    "\n",
    "plt.axhline(y=water_oxidation, color='green', linestyle='--', label='Water Oxidation')\n",
    "plt.axhline(y=co_reduction, color='green', linestyle='--', label='CO2 Redox')\n",
    "\n",
    "# Adding labels and title\n",
    "plt.ylabel('Energy (eV)')\n",
    "plt.title('Band Gap Alignment: Above CO Reduction')\n",
    "plt.legend()\n",
    "\n",
    "# Show the plot\n",
    "plt.show()"
   ]
  }
 ],
 "metadata": {
  "kernelspec": {
   "display_name": "base",
   "language": "python",
   "name": "python3"
  },
  "language_info": {
   "codemirror_mode": {
    "name": "ipython",
    "version": 3
   },
   "file_extension": ".py",
   "mimetype": "text/x-python",
   "name": "python",
   "nbconvert_exporter": "python",
   "pygments_lexer": "ipython3",
   "version": "3.11.5"
  }
 },
 "nbformat": 4,
 "nbformat_minor": 2
}
