{
 "cells": [
  {
   "cell_type": "code",
   "execution_count": 20,
   "metadata": {},
   "outputs": [
    {
     "data": {
      "application/vnd.jupyter.widget-view+json": {
       "model_id": "71dc8076ae334a898aeb14cd8c1195e8",
       "version_major": 2,
       "version_minor": 0
      },
      "text/plain": [
       "Retrieving ElectronicStructureDoc documents:   0%|          | 0/1 [00:00<?, ?it/s]"
      ]
     },
     "metadata": {},
     "output_type": "display_data"
    },
    {
     "name": "stdout",
     "output_type": "stream",
     "text": [
      "\u001b[0;31m---------------------------------------------------------------------------\u001b[0m\n",
      "\u001b[0;31mValueError\u001b[0m                                Traceback (most recent call last)\n",
      "Cell \u001b[0;32mIn[20], line 24\u001b[0m\n",
      "\u001b[1;32m     21\u001b[0m df \u001b[38;5;241m=\u001b[39m pd\u001b[38;5;241m.\u001b[39mDataFrame(data)\n",
      "\u001b[1;32m     23\u001b[0m \u001b[38;5;66;03m# Creating a violin plot for a specific band as an example\u001b[39;00m\n",
      "\u001b[0;32m---> 24\u001b[0m sns\u001b[38;5;241m.\u001b[39mviolinplot(x\u001b[38;5;241m=\u001b[39m\u001b[38;5;124m'\u001b[39m\u001b[38;5;124mk-point Index\u001b[39m\u001b[38;5;124m'\u001b[39m, y\u001b[38;5;241m=\u001b[39m\u001b[38;5;124m'\u001b[39m\u001b[38;5;124mEnergy\u001b[39m\u001b[38;5;124m'\u001b[39m, data\u001b[38;5;241m=\u001b[39mdf[df[\u001b[38;5;124m'\u001b[39m\u001b[38;5;124mBand\u001b[39m\u001b[38;5;124m'\u001b[39m] \u001b[38;5;241m==\u001b[39m band_structure])\n",
      "\u001b[1;32m     26\u001b[0m \u001b[38;5;66;03m# Customizing the plot\u001b[39;00m\n",
      "\u001b[1;32m     27\u001b[0m plt\u001b[38;5;241m.\u001b[39mtitle(\u001b[38;5;124mf\u001b[39m\u001b[38;5;124m'\u001b[39m\u001b[38;5;124mViolin Plot of Band Structure for Material mp-2657 - Band \u001b[39m\u001b[38;5;132;01m{\u001b[39;00mband_structure\u001b[38;5;132;01m}\u001b[39;00m\u001b[38;5;124m'\u001b[39m)\n",
      "\n",
      "File \u001b[0;32m~/anaconda3/lib/python3.11/site-packages/seaborn/categorical.py:2305\u001b[0m, in \u001b[0;36mviolinplot\u001b[0;34m(data, x, y, hue, order, hue_order, bw, cut, scale, scale_hue, gridsize, width, inner, split, dodge, orient, linewidth, color, palette, saturation, ax, **kwargs)\u001b[0m\n",
      "\u001b[1;32m   2297\u001b[0m \u001b[38;5;28;01mdef\u001b[39;00m \u001b[38;5;21mviolinplot\u001b[39m(\n",
      "\u001b[1;32m   2298\u001b[0m     data\u001b[38;5;241m=\u001b[39m\u001b[38;5;28;01mNone\u001b[39;00m, \u001b[38;5;241m*\u001b[39m, x\u001b[38;5;241m=\u001b[39m\u001b[38;5;28;01mNone\u001b[39;00m, y\u001b[38;5;241m=\u001b[39m\u001b[38;5;28;01mNone\u001b[39;00m, hue\u001b[38;5;241m=\u001b[39m\u001b[38;5;28;01mNone\u001b[39;00m, order\u001b[38;5;241m=\u001b[39m\u001b[38;5;28;01mNone\u001b[39;00m, hue_order\u001b[38;5;241m=\u001b[39m\u001b[38;5;28;01mNone\u001b[39;00m,\n",
      "\u001b[1;32m   2299\u001b[0m     bw\u001b[38;5;241m=\u001b[39m\u001b[38;5;124m\"\u001b[39m\u001b[38;5;124mscott\u001b[39m\u001b[38;5;124m\"\u001b[39m, cut\u001b[38;5;241m=\u001b[39m\u001b[38;5;241m2\u001b[39m, scale\u001b[38;5;241m=\u001b[39m\u001b[38;5;124m\"\u001b[39m\u001b[38;5;124marea\u001b[39m\u001b[38;5;124m\"\u001b[39m, scale_hue\u001b[38;5;241m=\u001b[39m\u001b[38;5;28;01mTrue\u001b[39;00m, gridsize\u001b[38;5;241m=\u001b[39m\u001b[38;5;241m100\u001b[39m,\n",
      "\u001b[0;32m   (...)\u001b[0m\n",
      "\u001b[1;32m   2302\u001b[0m     ax\u001b[38;5;241m=\u001b[39m\u001b[38;5;28;01mNone\u001b[39;00m, \u001b[38;5;241m*\u001b[39m\u001b[38;5;241m*\u001b[39mkwargs,\n",
      "\u001b[1;32m   2303\u001b[0m ):\n",
      "\u001b[0;32m-> 2305\u001b[0m     plotter \u001b[38;5;241m=\u001b[39m _ViolinPlotter(x, y, hue, data, order, hue_order,\n",
      "\u001b[1;32m   2306\u001b[0m                              bw, cut, scale, scale_hue, gridsize,\n",
      "\u001b[1;32m   2307\u001b[0m                              width, inner, split, dodge, orient, linewidth,\n",
      "\u001b[1;32m   2308\u001b[0m                              color, palette, saturation)\n",
      "\u001b[1;32m   2310\u001b[0m     \u001b[38;5;28;01mif\u001b[39;00m ax \u001b[38;5;129;01mis\u001b[39;00m \u001b[38;5;28;01mNone\u001b[39;00m:\n",
      "\u001b[1;32m   2311\u001b[0m         ax \u001b[38;5;241m=\u001b[39m plt\u001b[38;5;241m.\u001b[39mgca()\n",
      "\n",
      "File \u001b[0;32m~/anaconda3/lib/python3.11/site-packages/seaborn/categorical.py:902\u001b[0m, in \u001b[0;36m_ViolinPlotter.__init__\u001b[0;34m(self, x, y, hue, data, order, hue_order, bw, cut, scale, scale_hue, gridsize, width, inner, split, dodge, orient, linewidth, color, palette, saturation)\u001b[0m\n",
      "\u001b[1;32m    896\u001b[0m \u001b[38;5;28;01mdef\u001b[39;00m \u001b[38;5;21m__init__\u001b[39m(\u001b[38;5;28mself\u001b[39m, x, y, hue, data, order, hue_order,\n",
      "\u001b[1;32m    897\u001b[0m              bw, cut, scale, scale_hue, gridsize,\n",
      "\u001b[1;32m    898\u001b[0m              width, inner, split, dodge, orient, linewidth,\n",
      "\u001b[1;32m    899\u001b[0m              color, palette, saturation):\n",
      "\u001b[1;32m    901\u001b[0m     \u001b[38;5;28mself\u001b[39m\u001b[38;5;241m.\u001b[39mestablish_variables(x, y, hue, data, orient, order, hue_order)\n",
      "\u001b[0;32m--> 902\u001b[0m     \u001b[38;5;28mself\u001b[39m\u001b[38;5;241m.\u001b[39mestablish_colors(color, palette, saturation)\n",
      "\u001b[1;32m    903\u001b[0m     \u001b[38;5;28mself\u001b[39m\u001b[38;5;241m.\u001b[39mestimate_densities(bw, cut, scale, scale_hue, gridsize)\n",
      "\u001b[1;32m    905\u001b[0m     \u001b[38;5;28mself\u001b[39m\u001b[38;5;241m.\u001b[39mgridsize \u001b[38;5;241m=\u001b[39m gridsize\n",
      "\n",
      "File \u001b[0;32m~/anaconda3/lib/python3.11/site-packages/seaborn/categorical.py:707\u001b[0m, in \u001b[0;36m_CategoricalPlotter.establish_colors\u001b[0;34m(self, color, palette, saturation)\u001b[0m\n",
      "\u001b[1;32m    705\u001b[0m \u001b[38;5;66;03m# Determine the gray color to use for the lines framing the plot\u001b[39;00m\n",
      "\u001b[1;32m    706\u001b[0m light_vals \u001b[38;5;241m=\u001b[39m [rgb_to_hls(\u001b[38;5;241m*\u001b[39mc)[\u001b[38;5;241m1\u001b[39m] \u001b[38;5;28;01mfor\u001b[39;00m c \u001b[38;5;129;01min\u001b[39;00m rgb_colors]\n",
      "\u001b[0;32m--> 707\u001b[0m lum \u001b[38;5;241m=\u001b[39m \u001b[38;5;28mmin\u001b[39m(light_vals) \u001b[38;5;241m*\u001b[39m \u001b[38;5;241m.6\u001b[39m\n",
      "\u001b[1;32m    708\u001b[0m gray \u001b[38;5;241m=\u001b[39m mpl\u001b[38;5;241m.\u001b[39mcolors\u001b[38;5;241m.\u001b[39mrgb2hex((lum, lum, lum))\n",
      "\u001b[1;32m    710\u001b[0m \u001b[38;5;66;03m# Assign object attributes\u001b[39;00m\n",
      "\n",
      "\u001b[0;31mValueError\u001b[0m: min() arg is an empty sequence\n"
     ]
    }
   ],
   "source": [
    "from mp_api.client import MPRester\n",
    "import pandas as pd\n",
    "import matplotlib.pyplot as plt\n",
    "import seaborn as sns\n",
    "\n",
    "API_KEY = 'M3iWLItVErrMW5qgPwe5tzZFxjlROt1x'\n",
    "\n",
    "\n",
    "with MPRester(API_KEY) as m:\n",
    "    band_structure = m.get_bandstructure_by_material_id('mp-2657')\n",
    "\n",
    "\n",
    "data = {'Band': [], 'k-point Index': [], 'Energy': []}\n",
    "\n",
    "for band_index, band_energies in band_structure.bands.items():\n",
    "    for k_point_index, energy in enumerate(band_energies):\n",
    "        data['Band'].append(band_index)\n",
    "        data['k-point Index'].append(k_point_index)\n",
    "        data['Energy'].append(energy)\n",
    "\n",
    "df = pd.DataFrame(data)\n",
    "\n",
    "matrix = [[0 for _ in range(len(edge_compare))] for _ in range(len(edge_compare))]\n",
    "for i in range(len(edge_compare)-1):\n",
    "    for j in range(i+1,len(edge_compare)):\n",
    "        if (edge_compare[i][1]<=edge_compare[j][1] and edge_compare[i][2]>=edge_compare[j][2]) or (edge_compare[i][1]>=edge_compare[j][1] and edge_compare[i][2]<=edge_compare[j][2]):\n",
    "            matrix[i][j]=matrix[j][i]=1\n",
    "        elif (edge_compare[i][1]>=edge_compare[j][1] and edge_compare[i][1]<=edge_compare[j][2]) or (edge_compare[i][2]>=edge_compare[j][1] and edge_compare[i][2]<=edge_compare[j][2]):\n",
    "            matrix[i][j]=matrix[j][i]=2\n",
    "        elif edge_compare[i][1]>=edge_compare[j][2] or edge_compare[i][2]<=edge_compare[j][1]:\n",
    "            matrix[i][j]=matrix[j][i]=3\n",
    "\n",
    "sns.violinplot(x='k-point Index', y='Energy', data=df[df['Band'] == ])\n",
    "\n",
    "# Customizing the plot\n",
    "plt.title(f'Violin Plot of Band Structure for Material mp-2657 - Band {band_structure}')\n",
    "plt.xlabel('k-point Index')\n",
    "plt.ylabel('Energy (eV)')\n",
    "\n",
    "# Display the plot\n",
    "plt.show()\n"
   ]
  }
 ],
 "metadata": {
  "kernelspec": {
   "display_name": "base",
   "language": "python",
   "name": "python3"
  },
  "language_info": {
   "codemirror_mode": {
    "name": "ipython",
    "version": 3
   },
   "file_extension": ".py",
   "mimetype": "text/x-python",
   "name": "python",
   "nbconvert_exporter": "python",
   "pygments_lexer": "ipython3",
   "version": "3.11.5"
  },
  "orig_nbformat": 4
 },
 "nbformat": 4,
 "nbformat_minor": 2
}
